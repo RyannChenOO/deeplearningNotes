{
 "cells": [
  {
   "cell_type": "code",
<<<<<<< HEAD
   "execution_count": 1,
=======
   "execution_count": 2,
>>>>>>> 49649961e986bc4151d7d882b15d384ddd906785
   "id": "a303025e",
   "metadata": {},
   "outputs": [],
   "source": [
    "import pandas as pd"
   ]
  },
  {
   "cell_type": "code",
   "execution_count": 4,
   "id": "8d478ffe",
   "metadata": {},
   "outputs": [
    {
     "data": {
      "text/plain": [
       "'1.4.2'"
      ]
     },
     "execution_count": 4,
     "metadata": {},
     "output_type": "execute_result"
    }
   ],
   "source": [
    "pd.__version__"
   ]
  },
  {
   "cell_type": "markdown",
   "id": "24412067",
   "metadata": {},
   "source": [
    "## 文件的读取和写入\n",
    "### 文件读取"
   ]
  },
  {
   "cell_type": "code",
   "execution_count": 5,
   "id": "1866b12c",
   "metadata": {},
   "outputs": [],
   "source": [
    "df_csv = pd.read_csv(\"./data/my_csv.csv\")"
   ]
  },
  {
   "cell_type": "code",
   "execution_count": 6,
   "id": "9f7d81b8",
   "metadata": {},
   "outputs": [
    {
     "data": {
      "text/html": [
       "<div>\n",
       "<style scoped>\n",
       "    .dataframe tbody tr th:only-of-type {\n",
       "        vertical-align: middle;\n",
       "    }\n",
       "\n",
       "    .dataframe tbody tr th {\n",
       "        vertical-align: top;\n",
       "    }\n",
       "\n",
       "    .dataframe thead th {\n",
       "        text-align: right;\n",
       "    }\n",
       "</style>\n",
       "<table border=\"1\" class=\"dataframe\">\n",
       "  <thead>\n",
       "    <tr style=\"text-align: right;\">\n",
       "      <th></th>\n",
       "      <th>col1</th>\n",
       "      <th>col2</th>\n",
       "      <th>col3</th>\n",
       "      <th>col4</th>\n",
       "      <th>col5</th>\n",
       "    </tr>\n",
       "  </thead>\n",
       "  <tbody>\n",
       "    <tr>\n",
       "      <th>0</th>\n",
       "      <td>2</td>\n",
       "      <td>a</td>\n",
       "      <td>1.4</td>\n",
       "      <td>apple</td>\n",
       "      <td>2020/1/1</td>\n",
       "    </tr>\n",
       "    <tr>\n",
       "      <th>1</th>\n",
       "      <td>3</td>\n",
       "      <td>b</td>\n",
       "      <td>3.4</td>\n",
       "      <td>banana</td>\n",
       "      <td>2020/1/2</td>\n",
       "    </tr>\n",
       "    <tr>\n",
       "      <th>2</th>\n",
       "      <td>6</td>\n",
       "      <td>c</td>\n",
       "      <td>2.5</td>\n",
       "      <td>orange</td>\n",
       "      <td>2020/1/5</td>\n",
       "    </tr>\n",
       "    <tr>\n",
       "      <th>3</th>\n",
       "      <td>5</td>\n",
       "      <td>d</td>\n",
       "      <td>3.2</td>\n",
       "      <td>lemon</td>\n",
       "      <td>2020/1/7</td>\n",
       "    </tr>\n",
       "  </tbody>\n",
       "</table>\n",
       "</div>"
      ],
      "text/plain": [
       "   col1 col2  col3    col4      col5\n",
       "0     2    a   1.4   apple  2020/1/1\n",
       "1     3    b   3.4  banana  2020/1/2\n",
       "2     6    c   2.5  orange  2020/1/5\n",
       "3     5    d   3.2   lemon  2020/1/7"
      ]
     },
     "execution_count": 6,
     "metadata": {},
     "output_type": "execute_result"
    }
   ],
   "source": [
    "df_csv"
   ]
  },
  {
   "cell_type": "code",
   "execution_count": 7,
   "id": "ec624e3b",
   "metadata": {},
   "outputs": [],
   "source": [
    "df_txt = pd.read_table(\"./data/my_table.txt\")"
   ]
  },
  {
   "cell_type": "code",
   "execution_count": 8,
   "id": "6b8c66ea",
   "metadata": {},
   "outputs": [
    {
     "data": {
      "text/html": [
       "<div>\n",
       "<style scoped>\n",
       "    .dataframe tbody tr th:only-of-type {\n",
       "        vertical-align: middle;\n",
       "    }\n",
       "\n",
       "    .dataframe tbody tr th {\n",
       "        vertical-align: top;\n",
       "    }\n",
       "\n",
       "    .dataframe thead th {\n",
       "        text-align: right;\n",
       "    }\n",
       "</style>\n",
       "<table border=\"1\" class=\"dataframe\">\n",
       "  <thead>\n",
       "    <tr style=\"text-align: right;\">\n",
       "      <th></th>\n",
       "      <th>col1</th>\n",
       "      <th>col2</th>\n",
       "      <th>col3</th>\n",
       "      <th>col4</th>\n",
       "    </tr>\n",
       "  </thead>\n",
       "  <tbody>\n",
       "    <tr>\n",
       "      <th>0</th>\n",
       "      <td>2</td>\n",
       "      <td>a</td>\n",
       "      <td>1.4</td>\n",
       "      <td>apple 2020/1/1</td>\n",
       "    </tr>\n",
       "    <tr>\n",
       "      <th>1</th>\n",
       "      <td>3</td>\n",
       "      <td>b</td>\n",
       "      <td>3.4</td>\n",
       "      <td>banana 2020/1/2</td>\n",
       "    </tr>\n",
       "    <tr>\n",
       "      <th>2</th>\n",
       "      <td>6</td>\n",
       "      <td>c</td>\n",
       "      <td>2.5</td>\n",
       "      <td>orange 2020/1/5</td>\n",
       "    </tr>\n",
       "    <tr>\n",
       "      <th>3</th>\n",
       "      <td>5</td>\n",
       "      <td>d</td>\n",
       "      <td>3.2</td>\n",
       "      <td>lemon 2020/1/7</td>\n",
       "    </tr>\n",
       "  </tbody>\n",
       "</table>\n",
       "</div>"
      ],
      "text/plain": [
       "   col1 col2  col3             col4\n",
       "0     2    a   1.4   apple 2020/1/1\n",
       "1     3    b   3.4  banana 2020/1/2\n",
       "2     6    c   2.5  orange 2020/1/5\n",
       "3     5    d   3.2   lemon 2020/1/7"
      ]
     },
     "execution_count": 8,
     "metadata": {},
     "output_type": "execute_result"
    }
   ],
   "source": [
    "df_txt"
   ]
  },
  {
   "cell_type": "code",
   "execution_count": 10,
   "id": "1c12e692",
   "metadata": {},
   "outputs": [],
   "source": [
    "df_excel = pd.read_excel(\"./data/my_excel.xlsx\")"
   ]
  },
  {
   "cell_type": "code",
   "execution_count": 11,
   "id": "73c5a179",
   "metadata": {},
   "outputs": [
    {
     "data": {
      "text/html": [
       "<div>\n",
       "<style scoped>\n",
       "    .dataframe tbody tr th:only-of-type {\n",
       "        vertical-align: middle;\n",
       "    }\n",
       "\n",
       "    .dataframe tbody tr th {\n",
       "        vertical-align: top;\n",
       "    }\n",
       "\n",
       "    .dataframe thead th {\n",
       "        text-align: right;\n",
       "    }\n",
       "</style>\n",
       "<table border=\"1\" class=\"dataframe\">\n",
       "  <thead>\n",
       "    <tr style=\"text-align: right;\">\n",
       "      <th></th>\n",
       "      <th>col1</th>\n",
       "      <th>col2</th>\n",
       "      <th>col3</th>\n",
       "      <th>col4</th>\n",
       "      <th>col5</th>\n",
       "    </tr>\n",
       "  </thead>\n",
       "  <tbody>\n",
       "    <tr>\n",
       "      <th>0</th>\n",
       "      <td>2</td>\n",
       "      <td>a</td>\n",
       "      <td>1.4</td>\n",
       "      <td>apple</td>\n",
       "      <td>2020/1/1</td>\n",
       "    </tr>\n",
       "    <tr>\n",
       "      <th>1</th>\n",
       "      <td>3</td>\n",
       "      <td>b</td>\n",
       "      <td>3.4</td>\n",
       "      <td>banana</td>\n",
       "      <td>2020/1/2</td>\n",
       "    </tr>\n",
       "    <tr>\n",
       "      <th>2</th>\n",
       "      <td>6</td>\n",
       "      <td>c</td>\n",
       "      <td>2.5</td>\n",
       "      <td>orange</td>\n",
       "      <td>2020/1/5</td>\n",
       "    </tr>\n",
       "    <tr>\n",
       "      <th>3</th>\n",
       "      <td>5</td>\n",
       "      <td>d</td>\n",
       "      <td>3.2</td>\n",
       "      <td>lemon</td>\n",
       "      <td>2020/1/7</td>\n",
       "    </tr>\n",
       "  </tbody>\n",
       "</table>\n",
       "</div>"
      ],
      "text/plain": [
       "   col1 col2  col3    col4      col5\n",
       "0     2    a   1.4   apple  2020/1/1\n",
       "1     3    b   3.4  banana  2020/1/2\n",
       "2     6    c   2.5  orange  2020/1/5\n",
       "3     5    d   3.2   lemon  2020/1/7"
      ]
     },
     "execution_count": 11,
     "metadata": {},
     "output_type": "execute_result"
    }
   ],
   "source": [
    "df_excel"
   ]
  },
  {
   "cell_type": "markdown",
   "id": "8e2a38bc",
   "metadata": {},
   "source": [
    "常用的公共参数，`header=None`表示第一行不作为列名，`index_col`表示把某一列或几列作为索引，\n",
    "`usecols`表示读取列的集合，默认读取所有的列，`parse_dates`表示需要转化为时间的列，`nrows`表示读取的数据行数。上面这些参数在上述的三个函数里都可以使用。"
   ]
  },
  {
   "cell_type": "code",
   "execution_count": 12,
   "id": "62cf6382",
   "metadata": {},
   "outputs": [
    {
     "data": {
      "text/html": [
       "<div>\n",
       "<style scoped>\n",
       "    .dataframe tbody tr th:only-of-type {\n",
       "        vertical-align: middle;\n",
       "    }\n",
       "\n",
       "    .dataframe tbody tr th {\n",
       "        vertical-align: top;\n",
       "    }\n",
       "\n",
       "    .dataframe thead th {\n",
       "        text-align: right;\n",
       "    }\n",
       "</style>\n",
       "<table border=\"1\" class=\"dataframe\">\n",
       "  <thead>\n",
       "    <tr style=\"text-align: right;\">\n",
       "      <th></th>\n",
       "      <th>0</th>\n",
       "      <th>1</th>\n",
       "      <th>2</th>\n",
       "      <th>3</th>\n",
       "    </tr>\n",
       "  </thead>\n",
       "  <tbody>\n",
       "    <tr>\n",
       "      <th>0</th>\n",
       "      <td>col1</td>\n",
       "      <td>col2</td>\n",
       "      <td>col3</td>\n",
       "      <td>col4</td>\n",
       "    </tr>\n",
       "    <tr>\n",
       "      <th>1</th>\n",
       "      <td>2</td>\n",
       "      <td>a</td>\n",
       "      <td>1.4</td>\n",
       "      <td>apple 2020/1/1</td>\n",
       "    </tr>\n",
       "    <tr>\n",
       "      <th>2</th>\n",
       "      <td>3</td>\n",
       "      <td>b</td>\n",
       "      <td>3.4</td>\n",
       "      <td>banana 2020/1/2</td>\n",
       "    </tr>\n",
       "    <tr>\n",
       "      <th>3</th>\n",
       "      <td>6</td>\n",
       "      <td>c</td>\n",
       "      <td>2.5</td>\n",
       "      <td>orange 2020/1/5</td>\n",
       "    </tr>\n",
       "    <tr>\n",
       "      <th>4</th>\n",
       "      <td>5</td>\n",
       "      <td>d</td>\n",
       "      <td>3.2</td>\n",
       "      <td>lemon 2020/1/7</td>\n",
       "    </tr>\n",
       "  </tbody>\n",
       "</table>\n",
       "</div>"
      ],
      "text/plain": [
       "      0     1     2                3\n",
       "0  col1  col2  col3             col4\n",
       "1     2     a   1.4   apple 2020/1/1\n",
       "2     3     b   3.4  banana 2020/1/2\n",
       "3     6     c   2.5  orange 2020/1/5\n",
       "4     5     d   3.2   lemon 2020/1/7"
      ]
     },
     "execution_count": 12,
     "metadata": {},
     "output_type": "execute_result"
    }
   ],
   "source": [
    "pd.read_table(\"./data/my_table.txt\", header=None)\n",
    "# 注意到第一行变了"
   ]
  },
  {
   "cell_type": "code",
   "execution_count": 13,
   "id": "f036bb61",
   "metadata": {},
   "outputs": [
    {
     "data": {
      "text/html": [
       "<div>\n",
       "<style scoped>\n",
       "    .dataframe tbody tr th:only-of-type {\n",
       "        vertical-align: middle;\n",
       "    }\n",
       "\n",
       "    .dataframe tbody tr th {\n",
       "        vertical-align: top;\n",
       "    }\n",
       "\n",
       "    .dataframe thead th {\n",
       "        text-align: right;\n",
       "    }\n",
       "</style>\n",
       "<table border=\"1\" class=\"dataframe\">\n",
       "  <thead>\n",
       "    <tr style=\"text-align: right;\">\n",
       "      <th></th>\n",
       "      <th></th>\n",
       "      <th>col3</th>\n",
       "      <th>col4</th>\n",
       "      <th>col5</th>\n",
       "    </tr>\n",
       "    <tr>\n",
       "      <th>col1</th>\n",
       "      <th>col2</th>\n",
       "      <th></th>\n",
       "      <th></th>\n",
       "      <th></th>\n",
       "    </tr>\n",
       "  </thead>\n",
       "  <tbody>\n",
       "    <tr>\n",
       "      <th>2</th>\n",
       "      <th>a</th>\n",
       "      <td>1.4</td>\n",
       "      <td>apple</td>\n",
       "      <td>2020/1/1</td>\n",
       "    </tr>\n",
       "    <tr>\n",
       "      <th>3</th>\n",
       "      <th>b</th>\n",
       "      <td>3.4</td>\n",
       "      <td>banana</td>\n",
       "      <td>2020/1/2</td>\n",
       "    </tr>\n",
       "    <tr>\n",
       "      <th>6</th>\n",
       "      <th>c</th>\n",
       "      <td>2.5</td>\n",
       "      <td>orange</td>\n",
       "      <td>2020/1/5</td>\n",
       "    </tr>\n",
       "    <tr>\n",
       "      <th>5</th>\n",
       "      <th>d</th>\n",
       "      <td>3.2</td>\n",
       "      <td>lemon</td>\n",
       "      <td>2020/1/7</td>\n",
       "    </tr>\n",
       "  </tbody>\n",
       "</table>\n",
       "</div>"
      ],
      "text/plain": [
       "           col3    col4      col5\n",
       "col1 col2                        \n",
       "2    a      1.4   apple  2020/1/1\n",
       "3    b      3.4  banana  2020/1/2\n",
       "6    c      2.5  orange  2020/1/5\n",
       "5    d      3.2   lemon  2020/1/7"
      ]
     },
     "execution_count": 13,
     "metadata": {},
     "output_type": "execute_result"
    }
   ],
   "source": [
    "pd.read_csv(\"./data/my_csv.csv\", index_col=[\"col1\",\"col2\"])\n",
    "# 注意到col1和col2被加粗了"
   ]
  },
  {
   "cell_type": "code",
   "execution_count": 14,
   "id": "d5f97b3d",
   "metadata": {},
   "outputs": [
    {
     "data": {
      "text/html": [
       "<div>\n",
       "<style scoped>\n",
       "    .dataframe tbody tr th:only-of-type {\n",
       "        vertical-align: middle;\n",
       "    }\n",
       "\n",
       "    .dataframe tbody tr th {\n",
       "        vertical-align: top;\n",
       "    }\n",
       "\n",
       "    .dataframe thead th {\n",
       "        text-align: right;\n",
       "    }\n",
       "</style>\n",
       "<table border=\"1\" class=\"dataframe\">\n",
       "  <thead>\n",
       "    <tr style=\"text-align: right;\">\n",
       "      <th></th>\n",
       "      <th>col1</th>\n",
       "      <th>col2</th>\n",
       "    </tr>\n",
       "  </thead>\n",
       "  <tbody>\n",
       "    <tr>\n",
       "      <th>0</th>\n",
       "      <td>2</td>\n",
       "      <td>a</td>\n",
       "    </tr>\n",
       "    <tr>\n",
       "      <th>1</th>\n",
       "      <td>3</td>\n",
       "      <td>b</td>\n",
       "    </tr>\n",
       "    <tr>\n",
       "      <th>2</th>\n",
       "      <td>6</td>\n",
       "      <td>c</td>\n",
       "    </tr>\n",
       "    <tr>\n",
       "      <th>3</th>\n",
       "      <td>5</td>\n",
       "      <td>d</td>\n",
       "    </tr>\n",
       "  </tbody>\n",
       "</table>\n",
       "</div>"
      ],
      "text/plain": [
       "   col1 col2\n",
       "0     2    a\n",
       "1     3    b\n",
       "2     6    c\n",
       "3     5    d"
      ]
     },
     "execution_count": 14,
     "metadata": {},
     "output_type": "execute_result"
    }
   ],
   "source": [
    "pd.read_excel(\"./data/my_excel.xlsx\", usecols=[\"col1\", \"col2\"])"
   ]
  },
  {
   "cell_type": "code",
   "execution_count": 15,
   "id": "33b39754",
   "metadata": {},
   "outputs": [
    {
     "data": {
      "text/html": [
       "<div>\n",
       "<style scoped>\n",
       "    .dataframe tbody tr th:only-of-type {\n",
       "        vertical-align: middle;\n",
       "    }\n",
       "\n",
       "    .dataframe tbody tr th {\n",
       "        vertical-align: top;\n",
       "    }\n",
       "\n",
       "    .dataframe thead th {\n",
       "        text-align: right;\n",
       "    }\n",
       "</style>\n",
       "<table border=\"1\" class=\"dataframe\">\n",
       "  <thead>\n",
       "    <tr style=\"text-align: right;\">\n",
       "      <th></th>\n",
       "      <th>col1</th>\n",
       "      <th>col2</th>\n",
       "      <th>col3</th>\n",
       "      <th>col4</th>\n",
       "      <th>col5</th>\n",
       "    </tr>\n",
       "  </thead>\n",
       "  <tbody>\n",
       "    <tr>\n",
       "      <th>0</th>\n",
       "      <td>2</td>\n",
       "      <td>a</td>\n",
       "      <td>1.4</td>\n",
       "      <td>apple</td>\n",
       "      <td>2020-01-01</td>\n",
       "    </tr>\n",
       "    <tr>\n",
       "      <th>1</th>\n",
       "      <td>3</td>\n",
       "      <td>b</td>\n",
       "      <td>3.4</td>\n",
       "      <td>banana</td>\n",
       "      <td>2020-01-02</td>\n",
       "    </tr>\n",
       "    <tr>\n",
       "      <th>2</th>\n",
       "      <td>6</td>\n",
       "      <td>c</td>\n",
       "      <td>2.5</td>\n",
       "      <td>orange</td>\n",
       "      <td>2020-01-05</td>\n",
       "    </tr>\n",
       "    <tr>\n",
       "      <th>3</th>\n",
       "      <td>5</td>\n",
       "      <td>d</td>\n",
       "      <td>3.2</td>\n",
       "      <td>lemon</td>\n",
       "      <td>2020-01-07</td>\n",
       "    </tr>\n",
       "  </tbody>\n",
       "</table>\n",
       "</div>"
      ],
      "text/plain": [
       "   col1 col2  col3    col4       col5\n",
       "0     2    a   1.4   apple 2020-01-01\n",
       "1     3    b   3.4  banana 2020-01-02\n",
       "2     6    c   2.5  orange 2020-01-05\n",
       "3     5    d   3.2   lemon 2020-01-07"
      ]
     },
     "execution_count": 15,
     "metadata": {},
     "output_type": "execute_result"
    }
   ],
   "source": [
    "pd.read_csv(\"data/my_csv.csv\", parse_dates=[\"col5\"])\n",
    "# 注意到第5列的时间格式变了"
   ]
  },
  {
   "cell_type": "code",
   "execution_count": 16,
   "id": "034c0f8f",
   "metadata": {},
   "outputs": [
    {
     "data": {
      "text/html": [
       "<div>\n",
       "<style scoped>\n",
       "    .dataframe tbody tr th:only-of-type {\n",
       "        vertical-align: middle;\n",
       "    }\n",
       "\n",
       "    .dataframe tbody tr th {\n",
       "        vertical-align: top;\n",
       "    }\n",
       "\n",
       "    .dataframe thead th {\n",
       "        text-align: right;\n",
       "    }\n",
       "</style>\n",
       "<table border=\"1\" class=\"dataframe\">\n",
       "  <thead>\n",
       "    <tr style=\"text-align: right;\">\n",
       "      <th></th>\n",
       "      <th>col1</th>\n",
       "      <th>col2</th>\n",
       "      <th>col3</th>\n",
       "      <th>col4</th>\n",
       "      <th>col5</th>\n",
       "    </tr>\n",
       "  </thead>\n",
       "  <tbody>\n",
       "    <tr>\n",
       "      <th>0</th>\n",
       "      <td>2</td>\n",
       "      <td>a</td>\n",
       "      <td>1.4</td>\n",
       "      <td>apple</td>\n",
       "      <td>2020/1/1</td>\n",
       "    </tr>\n",
       "    <tr>\n",
       "      <th>1</th>\n",
       "      <td>3</td>\n",
       "      <td>b</td>\n",
       "      <td>3.4</td>\n",
       "      <td>banana</td>\n",
       "      <td>2020/1/2</td>\n",
       "    </tr>\n",
       "  </tbody>\n",
       "</table>\n",
       "</div>"
      ],
      "text/plain": [
       "   col1 col2  col3    col4      col5\n",
       "0     2    a   1.4   apple  2020/1/1\n",
       "1     3    b   3.4  banana  2020/1/2"
      ]
     },
     "execution_count": 16,
     "metadata": {},
     "output_type": "execute_result"
    }
   ],
   "source": [
    "pd.read_excel(\"./data/my_excel.xlsx\", nrows=2)"
   ]
  },
  {
   "cell_type": "markdown",
   "id": "6a2589b4",
   "metadata": {},
   "source": [
    "在读取`txt`文件时，经常遇到分隔符非空格的情况，`read_table`有一个分割参数`sep`，它使得用户可以自定义分割符号，进行`txt`数据的读取。例如，下面的读取的表以`||||`为分割："
   ]
  },
  {
   "cell_type": "code",
   "execution_count": 17,
   "id": "6e1b340a",
   "metadata": {},
   "outputs": [
    {
     "data": {
      "text/html": [
       "<div>\n",
       "<style scoped>\n",
       "    .dataframe tbody tr th:only-of-type {\n",
       "        vertical-align: middle;\n",
       "    }\n",
       "\n",
       "    .dataframe tbody tr th {\n",
       "        vertical-align: top;\n",
       "    }\n",
       "\n",
       "    .dataframe thead th {\n",
       "        text-align: right;\n",
       "    }\n",
       "</style>\n",
       "<table border=\"1\" class=\"dataframe\">\n",
       "  <thead>\n",
       "    <tr style=\"text-align: right;\">\n",
       "      <th></th>\n",
       "      <th>col1 |||| col2</th>\n",
       "    </tr>\n",
       "  </thead>\n",
       "  <tbody>\n",
       "    <tr>\n",
       "      <th>0</th>\n",
       "      <td>TS |||| This is an apple.</td>\n",
       "    </tr>\n",
       "    <tr>\n",
       "      <th>1</th>\n",
       "      <td>GQ |||| My name is Bob.</td>\n",
       "    </tr>\n",
       "    <tr>\n",
       "      <th>2</th>\n",
       "      <td>WT |||| Well done!</td>\n",
       "    </tr>\n",
       "    <tr>\n",
       "      <th>3</th>\n",
       "      <td>PT |||| May I help you?</td>\n",
       "    </tr>\n",
       "  </tbody>\n",
       "</table>\n",
       "</div>"
      ],
      "text/plain": [
       "              col1 |||| col2\n",
       "0  TS |||| This is an apple.\n",
       "1    GQ |||| My name is Bob.\n",
       "2         WT |||| Well done!\n",
       "3    PT |||| May I help you?"
      ]
     },
     "execution_count": 17,
     "metadata": {},
     "output_type": "execute_result"
    }
   ],
   "source": [
    "pd.read_table(\"./data/my_table_special_sep.txt\")"
   ]
  },
  {
   "cell_type": "markdown",
   "id": "abaf05c6",
   "metadata": {},
   "source": [
    "上面的结果显然不是理想的，这时可以使用sep，同时需要指定引擎为python"
   ]
  },
  {
   "cell_type": "code",
   "execution_count": 18,
   "id": "cacca4e2",
   "metadata": {},
   "outputs": [
    {
     "data": {
      "text/html": [
       "<div>\n",
       "<style scoped>\n",
       "    .dataframe tbody tr th:only-of-type {\n",
       "        vertical-align: middle;\n",
       "    }\n",
       "\n",
       "    .dataframe tbody tr th {\n",
       "        vertical-align: top;\n",
       "    }\n",
       "\n",
       "    .dataframe thead th {\n",
       "        text-align: right;\n",
       "    }\n",
       "</style>\n",
       "<table border=\"1\" class=\"dataframe\">\n",
       "  <thead>\n",
       "    <tr style=\"text-align: right;\">\n",
       "      <th></th>\n",
       "      <th>col1</th>\n",
       "      <th>col2</th>\n",
       "    </tr>\n",
       "  </thead>\n",
       "  <tbody>\n",
       "    <tr>\n",
       "      <th>0</th>\n",
       "      <td>TS</td>\n",
       "      <td>This is an apple.</td>\n",
       "    </tr>\n",
       "    <tr>\n",
       "      <th>1</th>\n",
       "      <td>GQ</td>\n",
       "      <td>My name is Bob.</td>\n",
       "    </tr>\n",
       "    <tr>\n",
       "      <th>2</th>\n",
       "      <td>WT</td>\n",
       "      <td>Well done!</td>\n",
       "    </tr>\n",
       "    <tr>\n",
       "      <th>3</th>\n",
       "      <td>PT</td>\n",
       "      <td>May I help you?</td>\n",
       "    </tr>\n",
       "  </tbody>\n",
       "</table>\n",
       "</div>"
      ],
      "text/plain": [
       "  col1                 col2\n",
       "0   TS    This is an apple.\n",
       "1   GQ      My name is Bob.\n",
       "2   WT           Well done!\n",
       "3   PT      May I help you?"
      ]
     },
     "execution_count": 18,
     "metadata": {},
     "output_type": "execute_result"
    }
   ],
   "source": [
    "pd.read_table(\"./data/my_table_special_sep.txt\", sep=\"\\|\\|\\|\\|\",engine=\"python\")"
   ]
  },
  {
   "cell_type": "markdown",
   "id": "d672c75a",
   "metadata": {},
   "source": [
    "在使用`read_table`的时候需要注意，参数`sep`中使用的是正则表达式，因此需要对`|`进行转义变成`\\|`，否则无法读取到正确的结果。"
   ]
  },
  {
   "cell_type": "markdown",
   "id": "568ec427",
   "metadata": {},
   "source": [
    "### 数据写入"
   ]
  },
  {
   "cell_type": "markdown",
   "id": "f83339d3",
   "metadata": {},
   "source": [
    "一般在数据写入中，最常用的操作是把index设置为False，特别当索引没有特殊意义的时候，这样的行为能把索引在保存的时候去除。"
   ]
  },
  {
   "cell_type": "code",
   "execution_count": 22,
   "id": "a526a64c",
   "metadata": {},
   "outputs": [],
   "source": [
    "# 准备欲保存的数据\n",
    "pd_csv = pd.read_csv(\"./data/my_csv.csv\")\n",
    "pd_excel = pd.read_excel(\"./data/my_excel.xlsx\")\n",
    "pd_txt = pd.read_table(\"./data/my_table.txt\")"
   ]
  },
  {
   "cell_type": "code",
   "execution_count": 21,
   "id": "bb4532f9",
   "metadata": {},
   "outputs": [],
   "source": [
    "# 保存数据\n",
    "df_csv.to_csv(\"./data/my_csv_saved.csv\", index=False)\n",
    "df_excel.to_excel(\"./data/my_excel_saved.xlsx\", index=False)"
   ]
  },
  {
   "cell_type": "markdown",
   "id": "a6a45f84",
   "metadata": {},
   "source": [
    "pandas中没有定义to_table函数，但是to_csv可以保存为txt文件，并且允许自定义分隔符，常用制表符\\t分割："
   ]
  },
  {
   "cell_type": "code",
   "execution_count": 23,
   "id": "9d752eb1",
   "metadata": {},
   "outputs": [],
   "source": [
    "df_txt.to_csv(\"./data/my_table_saved.txt\", index=False, sep=\"\\t\")"
   ]
  },
  {
   "cell_type": "markdown",
   "id": "85d73a91",
   "metadata": {},
   "source": [
    "如果想要把表格快速转换为markdown和latex语言，可以使用to_markdown和to_latex函数，此处需要安装tabulate包。"
   ]
  },
  {
   "cell_type": "code",
   "execution_count": 26,
   "id": "76a2b913",
   "metadata": {},
   "outputs": [
    {
     "name": "stdout",
     "output_type": "stream",
     "text": [
      "|    |   col1 | col2   |   col3 | col4   | col5     |\n",
      "|---:|-------:|:-------|-------:|:-------|:---------|\n",
      "|  0 |      2 | a      |    1.4 | apple  | 2020/1/1 |\n",
      "|  1 |      3 | b      |    3.4 | banana | 2020/1/2 |\n",
      "|  2 |      6 | c      |    2.5 | orange | 2020/1/5 |\n",
      "|  3 |      5 | d      |    3.2 | lemon  | 2020/1/7 |\n"
     ]
    }
   ],
   "source": [
    "print(df_csv.to_markdown())"
   ]
  },
  {
   "cell_type": "code",
   "execution_count": 27,
   "id": "cd0e1993",
   "metadata": {},
   "outputs": [
    {
     "name": "stdout",
     "output_type": "stream",
     "text": [
      "\\begin{tabular}{lrlrll}\n",
      "\\toprule\n",
      "{} &  col1 & col2 &  col3 &    col4 &      col5 \\\\\n",
      "\\midrule\n",
      "0 &     2 &    a &   1.4 &   apple &  2020/1/1 \\\\\n",
      "1 &     3 &    b &   3.4 &  banana &  2020/1/2 \\\\\n",
      "2 &     6 &    c &   2.5 &  orange &  2020/1/5 \\\\\n",
      "3 &     5 &    d &   3.2 &   lemon &  2020/1/7 \\\\\n",
      "\\bottomrule\n",
      "\\end{tabular}\n",
      "\n"
     ]
    },
    {
     "name": "stderr",
     "output_type": "stream",
     "text": [
      "C:\\Users\\17761\\AppData\\Local\\Temp\\ipykernel_20600\\2725033129.py:1: FutureWarning: In future versions `DataFrame.to_latex` is expected to utilise the base implementation of `Styler.to_latex` for formatting and rendering. The arguments signature may therefore change. It is recommended instead to use `DataFrame.style.to_latex` which also contains additional functionality.\n",
      "  print(df_csv.to_latex())\n"
     ]
    }
   ],
   "source": [
    "print(df_csv.to_latex())"
   ]
  },
  {
   "cell_type": "markdown",
   "id": "ebc08276",
   "metadata": {},
   "source": [
    "## 基本数据结构\n",
    "`pandas`中具有两种基本的数据存储结构，存储一维`values`的`Series`和存储二维`values`的`DataFrame`，在这两种结构上定义了很多的属性和方法。\n",
    "\n",
    "### Series\n",
    "`Series`一般由四个部分组成，分别是序列的值`data`、索引`index`、存储类型`dtype`、序列的名字`name`。其中，索引也可以指定它的名字，默认为空。"
   ]
  },
  {
   "cell_type": "code",
   "execution_count": 28,
   "id": "72826586",
   "metadata": {},
   "outputs": [],
   "source": [
    "s = pd.Series(data = [100, 'a', {'dic1':5}],\n",
    "              index = pd.Index(['id1', 20, 'third']), \n",
    "              name=\"my_idx\")"
   ]
  },
  {
   "cell_type": "code",
   "execution_count": 44,
   "id": "7c72fd95",
   "metadata": {},
   "outputs": [
    {
     "data": {
      "text/plain": [
       "id1              100\n",
       "20                 a\n",
       "third    {'dic1': 5}\n",
       "Name: my_idx, dtype: object"
      ]
     },
     "execution_count": 44,
     "metadata": {},
     "output_type": "execute_result"
    }
   ],
   "source": [
    "# 可以看到index是行索引\n",
    "s"
   ]
  },
  {
   "cell_type": "markdown",
   "id": "5809961e",
   "metadata": {},
   "source": [
    "`object`代表了一种混合类型，正如上面的例子中存储了整数、字符串以及`Python`的字典数据结构。此外，目前`pandas`把纯字符串序列也默认认为是一种`object`类型的序列，但它也可以用`string`类型存储"
   ]
  },
  {
   "cell_type": "markdown",
   "id": "9c3a9afa",
   "metadata": {},
   "source": [
    "获取上述属性"
   ]
  },
  {
   "cell_type": "code",
   "execution_count": 31,
   "id": "66a0aa37",
   "metadata": {},
   "outputs": [
    {
     "data": {
      "text/plain": [
       "array([100, 'a', {'dic1': 5}], dtype=object)"
      ]
     },
     "execution_count": 31,
     "metadata": {},
     "output_type": "execute_result"
    }
   ],
   "source": [
    "s.values"
   ]
  },
  {
   "cell_type": "code",
   "execution_count": 33,
   "id": "62761056",
   "metadata": {},
   "outputs": [
    {
     "data": {
      "text/plain": [
       "Index(['id1', 20, 'third'], dtype='object')"
      ]
     },
     "execution_count": 33,
     "metadata": {},
     "output_type": "execute_result"
    }
   ],
   "source": [
    "s.index"
   ]
  },
  {
   "cell_type": "markdown",
   "id": "b6070652",
   "metadata": {},
   "source": [
    "如果想要取出单个索引对应的值，可以通过[index_item]可以取出"
   ]
  },
  {
   "cell_type": "code",
   "execution_count": 42,
   "id": "8b09d98d",
   "metadata": {},
   "outputs": [
    {
     "data": {
      "text/plain": [
       "('id1', 20, 'third')"
      ]
     },
     "execution_count": 42,
     "metadata": {},
     "output_type": "execute_result"
    }
   ],
   "source": [
    "s.index[0],s.index[1],s.index[2]"
   ]
  },
  {
   "cell_type": "code",
   "execution_count": 35,
   "id": "0aa9a1d9",
   "metadata": {},
   "outputs": [
    {
     "data": {
      "text/plain": [
       "dtype('O')"
      ]
     },
     "execution_count": 35,
     "metadata": {},
     "output_type": "execute_result"
    }
   ],
   "source": [
    "s.dtype"
   ]
  },
  {
   "cell_type": "code",
   "execution_count": 37,
   "id": "504636f2",
   "metadata": {},
   "outputs": [
    {
     "data": {
      "text/plain": [
       "'my_idx'"
      ]
     },
     "execution_count": 37,
     "metadata": {},
     "output_type": "execute_result"
    }
   ],
   "source": [
    "s.name"
   ]
  },
  {
   "cell_type": "markdown",
   "id": "92d80400",
   "metadata": {},
   "source": [
    "利用.shape可以获取序列的长度"
   ]
  },
  {
   "cell_type": "code",
   "execution_count": 43,
   "id": "4290a2db",
   "metadata": {},
   "outputs": [
    {
     "data": {
      "text/plain": [
       "(3,)"
      ]
     },
     "execution_count": 43,
     "metadata": {},
     "output_type": "execute_result"
    }
   ],
   "source": [
    "s.shape"
   ]
  },
  {
   "cell_type": "markdown",
   "id": "ca8ee1ac",
   "metadata": {},
   "source": [
    "### DataFrame\n",
    "`DataFrame`在`Series`的基础上增加了**列索引**"
   ]
  },
  {
   "cell_type": "markdown",
   "id": "9aec45d5",
   "metadata": {},
   "source": [
    "一个数据框可以由二维的`data`与行列索引来构造"
   ]
  },
  {
   "cell_type": "code",
   "execution_count": 45,
   "id": "8ddc1624",
   "metadata": {},
   "outputs": [],
   "source": [
    "# data shape(3,4)--(列,行)\n",
    "data = [[1, 'a', 1.2], [2, 'b', 2.2], [3, 'c', 3.2],[4, 'd', 4.2]]\n",
    "df = pd.DataFrame(data=data, \n",
    "                  index=[\"row_%d\"%i for i in range(4)], \n",
    "                  columns=['col_0', 'col_1', 'col_2'])"
   ]
  },
  {
   "cell_type": "code",
   "execution_count": 46,
   "id": "06c97618",
   "metadata": {},
   "outputs": [
    {
     "data": {
      "text/html": [
       "<div>\n",
       "<style scoped>\n",
       "    .dataframe tbody tr th:only-of-type {\n",
       "        vertical-align: middle;\n",
       "    }\n",
       "\n",
       "    .dataframe tbody tr th {\n",
       "        vertical-align: top;\n",
       "    }\n",
       "\n",
       "    .dataframe thead th {\n",
       "        text-align: right;\n",
       "    }\n",
       "</style>\n",
       "<table border=\"1\" class=\"dataframe\">\n",
       "  <thead>\n",
       "    <tr style=\"text-align: right;\">\n",
       "      <th></th>\n",
       "      <th>col_0</th>\n",
       "      <th>col_1</th>\n",
       "      <th>col_2</th>\n",
       "    </tr>\n",
       "  </thead>\n",
       "  <tbody>\n",
       "    <tr>\n",
       "      <th>row_0</th>\n",
       "      <td>1</td>\n",
       "      <td>a</td>\n",
       "      <td>1.2</td>\n",
       "    </tr>\n",
       "    <tr>\n",
       "      <th>row_1</th>\n",
       "      <td>2</td>\n",
       "      <td>b</td>\n",
       "      <td>2.2</td>\n",
       "    </tr>\n",
       "    <tr>\n",
       "      <th>row_2</th>\n",
       "      <td>3</td>\n",
       "      <td>c</td>\n",
       "      <td>3.2</td>\n",
       "    </tr>\n",
       "    <tr>\n",
       "      <th>row_3</th>\n",
       "      <td>4</td>\n",
       "      <td>d</td>\n",
       "      <td>4.2</td>\n",
       "    </tr>\n",
       "  </tbody>\n",
       "</table>\n",
       "</div>"
      ],
      "text/plain": [
       "       col_0 col_1  col_2\n",
       "row_0      1     a    1.2\n",
       "row_1      2     b    2.2\n",
       "row_2      3     c    3.2\n",
       "row_3      4     d    4.2"
      ]
     },
     "execution_count": 46,
     "metadata": {},
     "output_type": "execute_result"
    }
   ],
   "source": [
    "df"
   ]
  },
  {
   "cell_type": "markdown",
   "id": "d7d5b949",
   "metadata": {},
   "source": [
    "但一般而言，更多的时候会采用从列索引名到数据的映射来构造数据框，同时再加上行索引"
   ]
  },
  {
   "cell_type": "code",
   "execution_count": 47,
   "id": "de62b94b",
   "metadata": {},
   "outputs": [],
   "source": [
    "data = {'col_0':[1,2,3], 'col_1':list(\"abc\"), 'col_2':[1.2,2.2,3.2], \"col_3\":list(\"ABC\")}\n",
    "df = pd.DataFrame(data=data, index=[\"row_%d\"%i for i in range(3)])"
   ]
  },
  {
   "cell_type": "code",
   "execution_count": 48,
   "id": "9011ee7b",
   "metadata": {},
   "outputs": [
    {
     "data": {
      "text/html": [
       "<div>\n",
       "<style scoped>\n",
       "    .dataframe tbody tr th:only-of-type {\n",
       "        vertical-align: middle;\n",
       "    }\n",
       "\n",
       "    .dataframe tbody tr th {\n",
       "        vertical-align: top;\n",
       "    }\n",
       "\n",
       "    .dataframe thead th {\n",
       "        text-align: right;\n",
       "    }\n",
       "</style>\n",
       "<table border=\"1\" class=\"dataframe\">\n",
       "  <thead>\n",
       "    <tr style=\"text-align: right;\">\n",
       "      <th></th>\n",
       "      <th>col_0</th>\n",
       "      <th>col_1</th>\n",
       "      <th>col_2</th>\n",
       "      <th>col_3</th>\n",
       "    </tr>\n",
       "  </thead>\n",
       "  <tbody>\n",
       "    <tr>\n",
       "      <th>row_0</th>\n",
       "      <td>1</td>\n",
       "      <td>a</td>\n",
       "      <td>1.2</td>\n",
       "      <td>A</td>\n",
       "    </tr>\n",
       "    <tr>\n",
       "      <th>row_1</th>\n",
       "      <td>2</td>\n",
       "      <td>b</td>\n",
       "      <td>2.2</td>\n",
       "      <td>B</td>\n",
       "    </tr>\n",
       "    <tr>\n",
       "      <th>row_2</th>\n",
       "      <td>3</td>\n",
       "      <td>c</td>\n",
       "      <td>3.2</td>\n",
       "      <td>C</td>\n",
       "    </tr>\n",
       "  </tbody>\n",
       "</table>\n",
       "</div>"
      ],
      "text/plain": [
       "       col_0 col_1  col_2 col_3\n",
       "row_0      1     a    1.2     A\n",
       "row_1      2     b    2.2     B\n",
       "row_2      3     c    3.2     C"
      ]
     },
     "execution_count": 48,
     "metadata": {},
     "output_type": "execute_result"
    }
   ],
   "source": [
    "df"
   ]
  },
  {
   "cell_type": "markdown",
   "id": "ffc0ff60",
   "metadata": {},
   "source": [
    "由于这种映射关系，在DataFrame中可以用[col_name]与[col_list]来取出相应的列与由多个列组成的表，结果分别为Series和DataFrame"
   ]
  },
  {
   "cell_type": "code",
   "execution_count": 50,
   "id": "8a4f54a2",
   "metadata": {},
   "outputs": [
    {
     "data": {
      "text/plain": [
       "row_0    1\n",
       "row_1    2\n",
       "row_2    3\n",
       "Name: col_0, dtype: int64"
      ]
     },
     "execution_count": 50,
     "metadata": {},
     "output_type": "execute_result"
    }
   ],
   "source": [
    "# 根据列名取出第一列-传入col_name\n",
    "df[\"col_0\"]"
   ]
  },
  {
   "cell_type": "code",
   "execution_count": 52,
   "id": "c0b25222",
   "metadata": {},
   "outputs": [
    {
     "data": {
      "text/html": [
       "<div>\n",
       "<style scoped>\n",
       "    .dataframe tbody tr th:only-of-type {\n",
       "        vertical-align: middle;\n",
       "    }\n",
       "\n",
       "    .dataframe tbody tr th {\n",
       "        vertical-align: top;\n",
       "    }\n",
       "\n",
       "    .dataframe thead th {\n",
       "        text-align: right;\n",
       "    }\n",
       "</style>\n",
       "<table border=\"1\" class=\"dataframe\">\n",
       "  <thead>\n",
       "    <tr style=\"text-align: right;\">\n",
       "      <th></th>\n",
       "      <th>col_0</th>\n",
       "      <th>col_2</th>\n",
       "    </tr>\n",
       "  </thead>\n",
       "  <tbody>\n",
       "    <tr>\n",
       "      <th>row_0</th>\n",
       "      <td>1</td>\n",
       "      <td>1.2</td>\n",
       "    </tr>\n",
       "    <tr>\n",
       "      <th>row_1</th>\n",
       "      <td>2</td>\n",
       "      <td>2.2</td>\n",
       "    </tr>\n",
       "    <tr>\n",
       "      <th>row_2</th>\n",
       "      <td>3</td>\n",
       "      <td>3.2</td>\n",
       "    </tr>\n",
       "  </tbody>\n",
       "</table>\n",
       "</div>"
      ],
      "text/plain": [
       "       col_0  col_2\n",
       "row_0      1    1.2\n",
       "row_1      2    2.2\n",
       "row_2      3    3.2"
      ]
     },
     "execution_count": 52,
     "metadata": {},
     "output_type": "execute_result"
    }
   ],
   "source": [
    "# 根据列名取出第一列和第三列-传入col_list\n",
    "df[[\"col_0\", \"col_2\"]]"
   ]
  },
  {
   "cell_type": "markdown",
   "id": "416861e0",
   "metadata": {},
   "source": [
    "获取属性"
   ]
  },
  {
   "cell_type": "code",
   "execution_count": 53,
   "id": "548a3b4c",
   "metadata": {},
   "outputs": [],
   "source": [
    "data = {'col_0':[1,2,3], 'col_1':list(\"abc\"), 'col_2':[1.2,2.2,3.2], \"col_3\":list(\"ABC\")}\n",
    "df = pd.DataFrame(data=data, index=[\"row_%d\"%i for i in range(3)])"
   ]
  },
  {
   "cell_type": "code",
   "execution_count": 55,
   "id": "86869279",
   "metadata": {},
   "outputs": [
    {
     "data": {
      "text/plain": [
       "array([[1, 'a', 1.2, 'A'],\n",
       "       [2, 'b', 2.2, 'B'],\n",
       "       [3, 'c', 3.2, 'C']], dtype=object)"
      ]
     },
     "execution_count": 55,
     "metadata": {},
     "output_type": "execute_result"
    }
   ],
   "source": [
    "df.values"
   ]
  },
  {
   "cell_type": "code",
   "execution_count": 57,
   "id": "3e54b311",
   "metadata": {},
   "outputs": [
    {
     "data": {
      "text/plain": [
       "Index(['row_0', 'row_1', 'row_2'], dtype='object')"
      ]
     },
     "execution_count": 57,
     "metadata": {},
     "output_type": "execute_result"
    }
   ],
   "source": [
    "# 取行索引\n",
    "df.index"
   ]
  },
  {
   "cell_type": "code",
   "execution_count": 59,
   "id": "3ee084cc",
   "metadata": {},
   "outputs": [
    {
     "data": {
      "text/plain": [
       "Index(['col_0', 'col_1', 'col_2', 'col_3'], dtype='object')"
      ]
     },
     "execution_count": 59,
     "metadata": {},
     "output_type": "execute_result"
    }
   ],
   "source": [
    "# 取列索引\n",
    "df.columns"
   ]
  },
  {
   "cell_type": "code",
   "execution_count": 61,
   "id": "3f640c86",
   "metadata": {},
   "outputs": [
    {
     "data": {
      "text/plain": [
       "col_0      int64\n",
       "col_1     object\n",
       "col_2    float64\n",
       "col_3     object\n",
       "dtype: object"
      ]
     },
     "execution_count": 61,
     "metadata": {},
     "output_type": "execute_result"
    }
   ],
   "source": [
    "df.dtypes# 返回的是值为相应列数据类型的Series"
   ]
  },
  {
   "cell_type": "code",
   "execution_count": 63,
   "id": "c10382b9",
   "metadata": {},
   "outputs": [
    {
     "data": {
      "text/plain": [
       "(3, 4)"
      ]
     },
     "execution_count": 63,
     "metadata": {},
     "output_type": "execute_result"
    }
   ],
   "source": [
    "df.shape"
   ]
  },
  {
   "cell_type": "markdown",
   "id": "e5e5fdbe",
   "metadata": {},
   "source": [
    "## DataFrame操作"
   ]
  },
  {
   "cell_type": "markdown",
   "id": "94444522",
   "metadata": {},
   "source": [
    "**转置**"
   ]
  },
  {
   "cell_type": "code",
   "execution_count": 65,
   "id": "012662f8",
   "metadata": {},
   "outputs": [
    {
     "data": {
      "text/plain": [
       "(3, 4)"
      ]
     },
     "execution_count": 65,
     "metadata": {},
     "output_type": "execute_result"
    }
   ],
   "source": [
    "data = {'col_0':[1,2,3], 'col_1':list(\"abc\"), 'col_2':[1.2,2.2,3.2], \"col_3\":list(\"ABC\")}\n",
    "df = pd.DataFrame(data=data, index=[\"row_%d\"%i for i in range(3)])\n",
    "df.shape"
   ]
  },
  {
   "cell_type": "code",
   "execution_count": 69,
   "id": "7029c7fe",
   "metadata": {},
   "outputs": [
    {
     "data": {
      "text/html": [
       "<div>\n",
       "<style scoped>\n",
       "    .dataframe tbody tr th:only-of-type {\n",
       "        vertical-align: middle;\n",
       "    }\n",
       "\n",
       "    .dataframe tbody tr th {\n",
       "        vertical-align: top;\n",
       "    }\n",
       "\n",
       "    .dataframe thead th {\n",
       "        text-align: right;\n",
       "    }\n",
       "</style>\n",
       "<table border=\"1\" class=\"dataframe\">\n",
       "  <thead>\n",
       "    <tr style=\"text-align: right;\">\n",
       "      <th></th>\n",
       "      <th>row_0</th>\n",
       "      <th>row_1</th>\n",
       "      <th>row_2</th>\n",
       "    </tr>\n",
       "  </thead>\n",
       "  <tbody>\n",
       "    <tr>\n",
       "      <th>col_0</th>\n",
       "      <td>1</td>\n",
       "      <td>2</td>\n",
       "      <td>3</td>\n",
       "    </tr>\n",
       "    <tr>\n",
       "      <th>col_1</th>\n",
       "      <td>a</td>\n",
       "      <td>b</td>\n",
       "      <td>c</td>\n",
       "    </tr>\n",
       "    <tr>\n",
       "      <th>col_2</th>\n",
       "      <td>1.2</td>\n",
       "      <td>2.2</td>\n",
       "      <td>3.2</td>\n",
       "    </tr>\n",
       "    <tr>\n",
       "      <th>col_3</th>\n",
       "      <td>A</td>\n",
       "      <td>B</td>\n",
       "      <td>C</td>\n",
       "    </tr>\n",
       "  </tbody>\n",
       "</table>\n",
       "</div>"
      ],
      "text/plain": [
       "      row_0 row_1 row_2\n",
       "col_0     1     2     3\n",
       "col_1     a     b     c\n",
       "col_2   1.2   2.2   3.2\n",
       "col_3     A     B     C"
      ]
     },
     "execution_count": 69,
     "metadata": {},
     "output_type": "execute_result"
    }
   ],
   "source": [
    "transpose_df = df.T\n",
    "transpose_df"
   ]
  },
  {
   "cell_type": "code",
   "execution_count": 71,
   "id": "c041c909",
   "metadata": {},
   "outputs": [
    {
     "data": {
      "text/plain": [
       "(4, 3)"
      ]
     },
     "execution_count": 71,
     "metadata": {},
     "output_type": "execute_result"
    }
   ],
   "source": [
    "transpose_df.shape"
   ]
  },
  {
   "cell_type": "markdown",
   "id": "644a5588",
   "metadata": {},
   "source": [
    "## 汇总函数"
   ]
  },
  {
   "cell_type": "code",
   "execution_count": 72,
   "id": "7bb9ce1c",
   "metadata": {},
   "outputs": [],
   "source": [
    "# 使用一份learn_pandas.csv的虚拟数据集，它记录了四所学校学生的体测个人信息\n",
    "df = pd.read_csv(\"./data/learn_pandas.csv\")"
   ]
  },
  {
   "cell_type": "code",
   "execution_count": 74,
   "id": "b61eef37",
   "metadata": {},
   "outputs": [
    {
     "data": {
      "text/plain": [
       "Index(['School', 'Grade', 'Name', 'Gender', 'Height', 'Weight', 'Transfer',\n",
       "       'Test_Number', 'Test_Date', 'Time_Record'],\n",
       "      dtype='object')"
      ]
     },
     "execution_count": 74,
     "metadata": {},
     "output_type": "execute_result"
    }
   ],
   "source": [
    "# 查看列索引\n",
    "df.columns"
   ]
  },
  {
   "cell_type": "markdown",
   "id": "732f9790",
   "metadata": {},
   "source": [
    "上述列名依次代表学校、年级、姓名、性别、身高、体重、是否为转系生、体测场次、测试时间、1000米成绩，本章只需使用其中的前七列"
   ]
  },
  {
   "cell_type": "code",
   "execution_count": 76,
   "id": "2ddd7ec9",
   "metadata": {},
   "outputs": [],
   "source": [
    "df = df[df.columns[:7]]"
   ]
  },
  {
   "cell_type": "markdown",
   "id": "cb644fd1",
   "metadata": {},
   "source": [
    "head, tail函数分别表示返回表或者序列的前n行和后n行，其中n默认为5："
   ]
  },
  {
   "cell_type": "code",
   "execution_count": 78,
   "id": "60dcb97f",
   "metadata": {},
   "outputs": [
    {
     "data": {
      "text/html": [
       "<div>\n",
       "<style scoped>\n",
       "    .dataframe tbody tr th:only-of-type {\n",
       "        vertical-align: middle;\n",
       "    }\n",
       "\n",
       "    .dataframe tbody tr th {\n",
       "        vertical-align: top;\n",
       "    }\n",
       "\n",
       "    .dataframe thead th {\n",
       "        text-align: right;\n",
       "    }\n",
       "</style>\n",
       "<table border=\"1\" class=\"dataframe\">\n",
       "  <thead>\n",
       "    <tr style=\"text-align: right;\">\n",
       "      <th></th>\n",
       "      <th>School</th>\n",
       "      <th>Grade</th>\n",
       "      <th>Name</th>\n",
       "      <th>Gender</th>\n",
       "      <th>Height</th>\n",
       "      <th>Weight</th>\n",
       "      <th>Transfer</th>\n",
       "    </tr>\n",
       "  </thead>\n",
       "  <tbody>\n",
       "    <tr>\n",
       "      <th>0</th>\n",
       "      <td>Shanghai Jiao Tong University</td>\n",
       "      <td>Freshman</td>\n",
       "      <td>Gaopeng Yang</td>\n",
       "      <td>Female</td>\n",
       "      <td>158.9</td>\n",
       "      <td>46.0</td>\n",
       "      <td>N</td>\n",
       "    </tr>\n",
       "    <tr>\n",
       "      <th>1</th>\n",
       "      <td>Peking University</td>\n",
       "      <td>Freshman</td>\n",
       "      <td>Changqiang You</td>\n",
       "      <td>Male</td>\n",
       "      <td>166.5</td>\n",
       "      <td>70.0</td>\n",
       "      <td>N</td>\n",
       "    </tr>\n",
       "    <tr>\n",
       "      <th>2</th>\n",
       "      <td>Shanghai Jiao Tong University</td>\n",
       "      <td>Senior</td>\n",
       "      <td>Mei Sun</td>\n",
       "      <td>Male</td>\n",
       "      <td>188.9</td>\n",
       "      <td>89.0</td>\n",
       "      <td>N</td>\n",
       "    </tr>\n",
       "    <tr>\n",
       "      <th>3</th>\n",
       "      <td>Fudan University</td>\n",
       "      <td>Sophomore</td>\n",
       "      <td>Xiaojuan Sun</td>\n",
       "      <td>Female</td>\n",
       "      <td>NaN</td>\n",
       "      <td>41.0</td>\n",
       "      <td>N</td>\n",
       "    </tr>\n",
       "    <tr>\n",
       "      <th>4</th>\n",
       "      <td>Fudan University</td>\n",
       "      <td>Sophomore</td>\n",
       "      <td>Gaojuan You</td>\n",
       "      <td>Male</td>\n",
       "      <td>174.0</td>\n",
       "      <td>74.0</td>\n",
       "      <td>N</td>\n",
       "    </tr>\n",
       "  </tbody>\n",
       "</table>\n",
       "</div>"
      ],
      "text/plain": [
       "                          School      Grade  ... Weight Transfer\n",
       "0  Shanghai Jiao Tong University   Freshman  ...   46.0        N\n",
       "1              Peking University   Freshman  ...   70.0        N\n",
       "2  Shanghai Jiao Tong University     Senior  ...   89.0        N\n",
       "3               Fudan University  Sophomore  ...   41.0        N\n",
       "4               Fudan University  Sophomore  ...   74.0        N\n",
       "\n",
       "[5 rows x 7 columns]"
      ]
     },
     "execution_count": 78,
     "metadata": {},
     "output_type": "execute_result"
    }
   ],
   "source": [
    "df.head()"
   ]
  },
  {
   "cell_type": "code",
   "execution_count": 80,
   "id": "a383ef9e",
   "metadata": {},
   "outputs": [
    {
     "data": {
      "text/html": [
       "<div>\n",
       "<style scoped>\n",
       "    .dataframe tbody tr th:only-of-type {\n",
       "        vertical-align: middle;\n",
       "    }\n",
       "\n",
       "    .dataframe tbody tr th {\n",
       "        vertical-align: top;\n",
       "    }\n",
       "\n",
       "    .dataframe thead th {\n",
       "        text-align: right;\n",
       "    }\n",
       "</style>\n",
       "<table border=\"1\" class=\"dataframe\">\n",
       "  <thead>\n",
       "    <tr style=\"text-align: right;\">\n",
       "      <th></th>\n",
       "      <th>School</th>\n",
       "      <th>Grade</th>\n",
       "      <th>Name</th>\n",
       "      <th>Gender</th>\n",
       "      <th>Height</th>\n",
       "      <th>Weight</th>\n",
       "      <th>Transfer</th>\n",
       "    </tr>\n",
       "  </thead>\n",
       "  <tbody>\n",
       "    <tr>\n",
       "      <th>197</th>\n",
       "      <td>Shanghai Jiao Tong University</td>\n",
       "      <td>Senior</td>\n",
       "      <td>Chengqiang Chu</td>\n",
       "      <td>Female</td>\n",
       "      <td>153.9</td>\n",
       "      <td>45.0</td>\n",
       "      <td>N</td>\n",
       "    </tr>\n",
       "    <tr>\n",
       "      <th>198</th>\n",
       "      <td>Shanghai Jiao Tong University</td>\n",
       "      <td>Senior</td>\n",
       "      <td>Chengmei Shen</td>\n",
       "      <td>Male</td>\n",
       "      <td>175.3</td>\n",
       "      <td>71.0</td>\n",
       "      <td>N</td>\n",
       "    </tr>\n",
       "    <tr>\n",
       "      <th>199</th>\n",
       "      <td>Tsinghua University</td>\n",
       "      <td>Sophomore</td>\n",
       "      <td>Chunpeng Lv</td>\n",
       "      <td>Male</td>\n",
       "      <td>155.7</td>\n",
       "      <td>51.0</td>\n",
       "      <td>N</td>\n",
       "    </tr>\n",
       "  </tbody>\n",
       "</table>\n",
       "</div>"
      ],
      "text/plain": [
       "                            School      Grade  ... Weight Transfer\n",
       "197  Shanghai Jiao Tong University     Senior  ...   45.0        N\n",
       "198  Shanghai Jiao Tong University     Senior  ...   71.0        N\n",
       "199            Tsinghua University  Sophomore  ...   51.0        N\n",
       "\n",
       "[3 rows x 7 columns]"
      ]
     },
     "execution_count": 80,
     "metadata": {},
     "output_type": "execute_result"
    }
   ],
   "source": [
    "df.tail(3)"
   ]
  },
  {
   "cell_type": "markdown",
   "id": "d0596f5b",
   "metadata": {},
   "source": [
    "info, describe分别返回表的信息概况和表中数值列对应的主要统计量"
   ]
  },
  {
   "cell_type": "code",
   "execution_count": 82,
   "id": "c649dda4",
   "metadata": {},
   "outputs": [
    {
     "name": "stdout",
     "output_type": "stream",
     "text": [
      "<class 'pandas.core.frame.DataFrame'>\n",
      "RangeIndex: 200 entries, 0 to 199\n",
      "Data columns (total 7 columns):\n",
      " #   Column    Non-Null Count  Dtype  \n",
      "---  ------    --------------  -----  \n",
      " 0   School    200 non-null    object \n",
      " 1   Grade     200 non-null    object \n",
      " 2   Name      200 non-null    object \n",
      " 3   Gender    200 non-null    object \n",
      " 4   Height    183 non-null    float64\n",
      " 5   Weight    189 non-null    float64\n",
      " 6   Transfer  188 non-null    object \n",
      "dtypes: float64(2), object(5)\n",
      "memory usage: 11.1+ KB\n"
     ]
    }
   ],
   "source": [
    "df.info()"
   ]
  },
  {
   "cell_type": "code",
   "execution_count": 83,
   "id": "38722485",
   "metadata": {},
   "outputs": [
    {
     "data": {
      "text/html": [
       "<div>\n",
       "<style scoped>\n",
       "    .dataframe tbody tr th:only-of-type {\n",
       "        vertical-align: middle;\n",
       "    }\n",
       "\n",
       "    .dataframe tbody tr th {\n",
       "        vertical-align: top;\n",
       "    }\n",
       "\n",
       "    .dataframe thead th {\n",
       "        text-align: right;\n",
       "    }\n",
       "</style>\n",
       "<table border=\"1\" class=\"dataframe\">\n",
       "  <thead>\n",
       "    <tr style=\"text-align: right;\">\n",
       "      <th></th>\n",
       "      <th>Height</th>\n",
       "      <th>Weight</th>\n",
       "    </tr>\n",
       "  </thead>\n",
       "  <tbody>\n",
       "    <tr>\n",
       "      <th>count</th>\n",
       "      <td>183.000000</td>\n",
       "      <td>189.000000</td>\n",
       "    </tr>\n",
       "    <tr>\n",
       "      <th>mean</th>\n",
       "      <td>163.218033</td>\n",
       "      <td>55.015873</td>\n",
       "    </tr>\n",
       "    <tr>\n",
       "      <th>std</th>\n",
       "      <td>8.608879</td>\n",
       "      <td>12.824294</td>\n",
       "    </tr>\n",
       "    <tr>\n",
       "      <th>min</th>\n",
       "      <td>145.400000</td>\n",
       "      <td>34.000000</td>\n",
       "    </tr>\n",
       "    <tr>\n",
       "      <th>25%</th>\n",
       "      <td>157.150000</td>\n",
       "      <td>46.000000</td>\n",
       "    </tr>\n",
       "    <tr>\n",
       "      <th>50%</th>\n",
       "      <td>161.900000</td>\n",
       "      <td>51.000000</td>\n",
       "    </tr>\n",
       "    <tr>\n",
       "      <th>75%</th>\n",
       "      <td>167.500000</td>\n",
       "      <td>65.000000</td>\n",
       "    </tr>\n",
       "    <tr>\n",
       "      <th>max</th>\n",
       "      <td>193.900000</td>\n",
       "      <td>89.000000</td>\n",
       "    </tr>\n",
       "  </tbody>\n",
       "</table>\n",
       "</div>"
      ],
      "text/plain": [
       "           Height      Weight\n",
       "count  183.000000  189.000000\n",
       "mean   163.218033   55.015873\n",
       "std      8.608879   12.824294\n",
       "min    145.400000   34.000000\n",
       "25%    157.150000   46.000000\n",
       "50%    161.900000   51.000000\n",
       "75%    167.500000   65.000000\n",
       "max    193.900000   89.000000"
      ]
     },
     "execution_count": 83,
     "metadata": {},
     "output_type": "execute_result"
    }
   ],
   "source": [
    "df.describe()"
   ]
  },
  {
   "cell_type": "markdown",
   "id": "158e6b2e",
   "metadata": {},
   "source": [
    "`info, describe`只能实现较少信息的展示，如果想要对一份数据集进行全面且有效的观察，特别是在列较多的情况下，推荐使用[pandas-profiling](https://pandas-profiling.github.io/pandas-profiling/docs/)包"
   ]
  },
  {
   "cell_type": "markdown",
   "id": "91f553c8",
   "metadata": {},
   "source": [
    "## 特征统计函数(聚合函数)\n",
    "\n",
    "聚合函数-操作后返回的是标量"
   ]
  },
  {
   "cell_type": "code",
   "execution_count": 84,
   "id": "84765e2d",
   "metadata": {},
   "outputs": [],
   "source": [
    "# 使用一份learn_pandas.csv的虚拟数据集，它记录了四所学校学生的体测个人信息\n",
    "df = pd.read_csv(\"./data/learn_pandas.csv\")\n",
    "# 只使用前7列\n",
    "df = df[df.columns[:7]]\n"
   ]
  },
  {
   "cell_type": "code",
   "execution_count": 85,
   "id": "3ef6a0ed",
   "metadata": {},
   "outputs": [
    {
     "data": {
      "text/plain": [
       "Index(['School', 'Grade', 'Name', 'Gender', 'Height', 'Weight', 'Transfer'], dtype='object')"
      ]
     },
     "execution_count": 85,
     "metadata": {},
     "output_type": "execute_result"
    }
   ],
   "source": [
    "df.columns"
   ]
  },
  {
   "cell_type": "markdown",
   "id": "75c65a5a",
   "metadata": {},
   "source": [
    "选出身高和体重列"
   ]
  },
  {
   "cell_type": "code",
   "execution_count": 86,
   "id": "efd32202",
   "metadata": {},
   "outputs": [],
   "source": [
    "df_demo = df[[\"Height\", \"Weight\"]]"
   ]
  },
  {
   "cell_type": "code",
   "execution_count": 88,
   "id": "9d92986d",
   "metadata": {},
   "outputs": [
    {
     "data": {
      "text/html": [
       "<div>\n",
       "<style scoped>\n",
       "    .dataframe tbody tr th:only-of-type {\n",
       "        vertical-align: middle;\n",
       "    }\n",
       "\n",
       "    .dataframe tbody tr th {\n",
       "        vertical-align: top;\n",
       "    }\n",
       "\n",
       "    .dataframe thead th {\n",
       "        text-align: right;\n",
       "    }\n",
       "</style>\n",
       "<table border=\"1\" class=\"dataframe\">\n",
       "  <thead>\n",
       "    <tr style=\"text-align: right;\">\n",
       "      <th></th>\n",
       "      <th>Height</th>\n",
       "      <th>Weight</th>\n",
       "    </tr>\n",
       "  </thead>\n",
       "  <tbody>\n",
       "    <tr>\n",
       "      <th>0</th>\n",
       "      <td>158.9</td>\n",
       "      <td>46.0</td>\n",
       "    </tr>\n",
       "    <tr>\n",
       "      <th>1</th>\n",
       "      <td>166.5</td>\n",
       "      <td>70.0</td>\n",
       "    </tr>\n",
       "    <tr>\n",
       "      <th>2</th>\n",
       "      <td>188.9</td>\n",
       "      <td>89.0</td>\n",
       "    </tr>\n",
       "    <tr>\n",
       "      <th>3</th>\n",
       "      <td>NaN</td>\n",
       "      <td>41.0</td>\n",
       "    </tr>\n",
       "    <tr>\n",
       "      <th>4</th>\n",
       "      <td>174.0</td>\n",
       "      <td>74.0</td>\n",
       "    </tr>\n",
       "    <tr>\n",
       "      <th>...</th>\n",
       "      <td>...</td>\n",
       "      <td>...</td>\n",
       "    </tr>\n",
       "    <tr>\n",
       "      <th>195</th>\n",
       "      <td>153.9</td>\n",
       "      <td>46.0</td>\n",
       "    </tr>\n",
       "    <tr>\n",
       "      <th>196</th>\n",
       "      <td>160.9</td>\n",
       "      <td>50.0</td>\n",
       "    </tr>\n",
       "    <tr>\n",
       "      <th>197</th>\n",
       "      <td>153.9</td>\n",
       "      <td>45.0</td>\n",
       "    </tr>\n",
       "    <tr>\n",
       "      <th>198</th>\n",
       "      <td>175.3</td>\n",
       "      <td>71.0</td>\n",
       "    </tr>\n",
       "    <tr>\n",
       "      <th>199</th>\n",
       "      <td>155.7</td>\n",
       "      <td>51.0</td>\n",
       "    </tr>\n",
       "  </tbody>\n",
       "</table>\n",
       "<p>200 rows × 2 columns</p>\n",
       "</div>"
      ],
      "text/plain": [
       "     Height  Weight\n",
       "0     158.9    46.0\n",
       "1     166.5    70.0\n",
       "2     188.9    89.0\n",
       "3       NaN    41.0\n",
       "4     174.0    74.0\n",
       "..      ...     ...\n",
       "195   153.9    46.0\n",
       "196   160.9    50.0\n",
       "197   153.9    45.0\n",
       "198   175.3    71.0\n",
       "199   155.7    51.0\n",
       "\n",
       "[200 rows x 2 columns]"
      ]
     },
     "execution_count": 88,
     "metadata": {},
     "output_type": "execute_result"
    }
   ],
   "source": [
    "df_demo"
   ]
  },
  {
   "cell_type": "code",
   "execution_count": 91,
   "id": "44522a8f",
   "metadata": {},
   "outputs": [
    {
     "data": {
      "text/plain": [
       "(Height    163.218033\n",
       " Weight     55.015873\n",
       " dtype: float64,\n",
       " Height    193.9\n",
       " Weight     89.0\n",
       " dtype: float64)"
      ]
     },
     "execution_count": 91,
     "metadata": {},
     "output_type": "execute_result"
    }
   ],
   "source": [
    "df_demo.mean(), df_demo.max()"
   ]
  },
  {
   "cell_type": "markdown",
   "id": "f425c4d9",
   "metadata": {},
   "source": [
    "`quantile, count, idxmax`这三个函数，它们分别返回的是分位数、非缺失值个数、最大值对应的索引："
   ]
  },
  {
   "cell_type": "code",
   "execution_count": 93,
   "id": "fa43630a",
   "metadata": {},
   "outputs": [
    {
     "data": {
      "text/plain": [
       "Height    167.5\n",
       "Weight     65.0\n",
       "Name: 0.75, dtype: float64"
      ]
     },
     "execution_count": 93,
     "metadata": {},
     "output_type": "execute_result"
    }
   ],
   "source": [
    "df_demo.quantile(0.75)"
   ]
  },
  {
   "cell_type": "code",
   "execution_count": 95,
   "id": "9c395fcd",
   "metadata": {},
   "outputs": [
    {
     "data": {
      "text/plain": [
       "Height    183\n",
       "Weight    189\n",
       "dtype: int64"
      ]
     },
     "execution_count": 95,
     "metadata": {},
     "output_type": "execute_result"
    }
   ],
   "source": [
    "df_demo.count()"
   ]
  },
  {
   "cell_type": "code",
   "execution_count": 97,
   "id": "09680a8d",
   "metadata": {},
   "outputs": [
    {
     "data": {
      "text/plain": [
       "Height    193\n",
       "Weight      2\n",
       "dtype: int64"
      ]
     },
     "execution_count": 97,
     "metadata": {},
     "output_type": "execute_result"
    }
   ],
   "source": [
    "df_demo.idxmax()"
   ]
  },
  {
   "cell_type": "markdown",
   "id": "130b9b12",
   "metadata": {},
   "source": [
    "指定公告参数axis对不同轴进行聚合:默认为0代表逐列聚合，如果设置为1则表示逐行聚合"
   ]
  },
  {
   "cell_type": "code",
   "execution_count": 100,
   "id": "36fd36ef",
   "metadata": {},
   "outputs": [
    {
     "data": {
      "text/plain": [
       "Height    163.218033\n",
       "Weight     55.015873\n",
       "dtype: float64"
      ]
     },
     "execution_count": 100,
     "metadata": {},
     "output_type": "execute_result"
    }
   ],
   "source": [
    "df_demo.mean(axis=0)"
   ]
  },
  {
   "cell_type": "markdown",
   "id": "1bfa8657",
   "metadata": {},
   "source": [
    "## 常用函数"
   ]
  },
  {
   "cell_type": "markdown",
   "id": "e2add21f",
   "metadata": {},
   "source": [
    "### 唯一值函数\n",
    "对序列使用`unique`和`nunique`可以分别得到其唯一值组成的列表和唯一值的个数"
   ]
  },
  {
   "cell_type": "code",
   "execution_count": 101,
   "id": "83cb9f76",
   "metadata": {},
   "outputs": [],
   "source": [
    "# 使用一份learn_pandas.csv的虚拟数据集，它记录了四所学校学生的体测个人信息\n",
    "df = pd.read_csv(\"./data/learn_pandas.csv\")\n",
    "# 只使用前7列\n",
    "df = df[df.columns[:7]]"
   ]
  },
  {
   "cell_type": "code",
   "execution_count": 102,
   "id": "05687b56",
   "metadata": {},
   "outputs": [
    {
     "data": {
      "text/plain": [
       "Index(['School', 'Grade', 'Name', 'Gender', 'Height', 'Weight', 'Transfer'], dtype='object')"
      ]
     },
     "execution_count": 102,
     "metadata": {},
     "output_type": "execute_result"
    }
   ],
   "source": [
    "df.columns"
   ]
  },
  {
   "cell_type": "code",
   "execution_count": 104,
   "id": "9f527e16",
   "metadata": {},
   "outputs": [
    {
     "data": {
      "text/plain": [
       "array(['Shanghai Jiao Tong University', 'Peking University',\n",
       "       'Fudan University', 'Tsinghua University'], dtype=object)"
      ]
     },
     "execution_count": 104,
     "metadata": {},
     "output_type": "execute_result"
    }
   ],
   "source": [
    "df[\"School\"].unique()"
   ]
  },
  {
   "cell_type": "code",
   "execution_count": 105,
   "id": "c7a1f2ca",
   "metadata": {},
   "outputs": [
    {
     "data": {
      "text/plain": [
       "4"
      ]
     },
     "execution_count": 105,
     "metadata": {},
     "output_type": "execute_result"
    }
   ],
   "source": [
    "df[\"School\"].nunique()"
   ]
  },
  {
   "cell_type": "markdown",
   "id": "989f98c6",
   "metadata": {},
   "source": [
    "`value_counts`可以得到唯一值和其对应出现的频数："
   ]
  },
  {
   "cell_type": "code",
   "execution_count": 107,
   "id": "4d4431e4",
   "metadata": {},
   "outputs": [
    {
     "data": {
      "text/plain": [
       "Tsinghua University              69\n",
       "Shanghai Jiao Tong University    57\n",
       "Fudan University                 40\n",
       "Peking University                34\n",
       "Name: School, dtype: int64"
      ]
     },
     "execution_count": 107,
     "metadata": {},
     "output_type": "execute_result"
    }
   ],
   "source": [
    "df[\"School\"].value_counts()"
   ]
  },
  {
   "cell_type": "markdown",
   "id": "6490ac65",
   "metadata": {},
   "source": [
    "如果想要观察<span class=\"mark\">多个列组合</span>的唯一值，可以使用`drop_duplicates`。其中的关键参数是`keep`，默认值`first`表示每个组合保留第一次出现的所在行，`last`表示保留最后一次出现的所在行，`False`表示把所有重复组合所在的行剔除。"
   ]
  },
  {
   "cell_type": "code",
   "execution_count": 111,
   "id": "36ff6ea0",
   "metadata": {},
   "outputs": [
    {
     "data": {
      "text/plain": [
       "array(['Female', 'Male'], dtype=object)"
      ]
     },
     "execution_count": 111,
     "metadata": {},
     "output_type": "execute_result"
    }
   ],
   "source": [
    "df[\"Gender\"].unique()"
   ]
  },
  {
   "cell_type": "code",
   "execution_count": 112,
   "id": "d3f271cb",
   "metadata": {},
   "outputs": [
    {
     "data": {
      "text/plain": [
       "array(['N', nan, 'Y'], dtype=object)"
      ]
     },
     "execution_count": 112,
     "metadata": {},
     "output_type": "execute_result"
    }
   ],
   "source": [
    "df[\"Transfer\"].unique()"
   ]
  },
  {
   "cell_type": "code",
   "execution_count": 113,
   "id": "8d00007d",
   "metadata": {
    "collapsed": true
   },
   "outputs": [
    {
     "data": {
      "text/plain": [
       "array(['Gaopeng Yang', 'Changqiang You', 'Mei Sun', 'Xiaojuan Sun',\n",
       "       'Gaojuan You', 'Xiaoli Qian', 'Qiang Chu', 'Gaoqiang Qian',\n",
       "       'Changli Zhang', 'Juan Xu', 'Xiaopeng Zhou', 'Xiaoquan Lv',\n",
       "       'Peng You', 'Yanfeng Qian', 'Xiaomei Zhou', 'Changqiang Yang',\n",
       "       'Xiaoqiang Qin', 'Peng Wang', 'Xiaofeng Sun', 'Changjuan You',\n",
       "       'Xiaopeng Shen', 'Changqiang Sun', 'Qiang Zheng', 'Chunmei You',\n",
       "       'Xiaopeng Chu', 'Yanli You', 'Qiang Sun', 'Gaoqiang Qin',\n",
       "       'Changmei Xu', 'Changli Lv', 'Feng Zheng', 'Gaopeng Shi',\n",
       "       'Yanjuan Han', 'Li Wu', 'Gaoli Zhao', 'Xiaojuan Qin',\n",
       "       'Xiaoquan Zhang', 'Qiang Han', 'Chengpeng Zheng', 'Li Wang',\n",
       "       'Chunqiang Chu', 'Mei Zhang', 'Gaoli Feng', 'Yanqiang Feng',\n",
       "       'Quan Chu', 'Feng Zhou', 'Peng Wu', 'Mei Xu', 'Gaomei Lv',\n",
       "       'Xiaoli Wang', 'Chengquan Chu', 'Chunli Lv', 'Chengli You',\n",
       "       'Xiaojuan Chu', 'Chengquan Zhang', 'Qiang Lv', 'Changquan Chu',\n",
       "       'Gaoli Xu', 'Yanpeng Lv', 'Xiaopeng Qin', 'Xiaoli Xu',\n",
       "       'Gaofeng Zhao', 'Yanmei Yang', 'Chengpeng Zhou', 'Gaoquan Sun',\n",
       "       'Chengqiang Lv', 'Chunquan Xu', 'Yanquan Wang', 'Feng Han',\n",
       "       'Gaoquan Zhou', 'Feng Wang', 'Yanli Qin', 'Qiang You',\n",
       "       'Yanquan Lv', 'Gaopeng Qin', 'Li Xu', 'Changmei Sun',\n",
       "       'Yanli Zhang', 'Changfeng Lv', 'Yanjuan Lv', 'Li Chu', 'Feng Yang',\n",
       "       'Xiaopeng Han', 'Gaojuan Zhao', 'Gaoqiang Zhou', 'Yanfeng Han',\n",
       "       'Juan Zhao', 'Feng Zhao', 'Yanli Wang', 'Changmei Feng',\n",
       "       'Changpeng Zhao', 'Xiaofeng Shi', 'Xiaoli Zhou', 'Chengli Zhao',\n",
       "       'Mei Chen', 'Xiaopeng Lv', 'Qiang Shi', 'Xiaojuan Zhao',\n",
       "       'Yanqiang Xu', 'Chunpeng Lv', 'Xiaomei Shi', 'Gaoquan Xu',\n",
       "       'Chunjuan Xu', 'Changjuan Xu', 'Xiaopeng Zhao', 'Gaofeng Sun',\n",
       "       'Chunli Zhao', 'Peng Zhang', 'Peng Han', 'Xiaoquan Sun',\n",
       "       'Chunpeng Shi', 'Juan You', 'Changquan Han', 'Xiaofeng You',\n",
       "       'Juan Zhang', 'Mei Feng', 'Chengpeng Qian', 'Chunpeng Qian',\n",
       "       'Gaojuan Qin', 'Changqiang Qian', 'Li Lv', 'Chengquan Shi',\n",
       "       'Xiaojuan Qian', 'Qiang Zhou', 'Qiang Zhang', 'Chunmei Shi',\n",
       "       'Xiaoli Chu', 'Quan Xu', 'Gaoquan Chu', 'Xiaomei Yang',\n",
       "       'Xiaofeng Qian', 'Chengpeng You', 'Feng Qian', 'Chengli Sun',\n",
       "       'Changmei Lv', 'Yanpeng Han', 'Chunmei Han', 'Juan Qin',\n",
       "       'Xiaoli Lv', 'Chengqiang Zhang', 'Chengpeng Zhao', 'Chunfeng Zhao',\n",
       "       'Quan Qian', 'Chengjuan Zhang', 'Gaoquan Shen', 'Qiang Wang',\n",
       "       'Xiaopeng Qian', 'Xiaoqiang Feng', 'Gaoli Wu', 'Chengquan Qin',\n",
       "       'Li Sun', 'Xiaofeng Zhang', 'Quan Zhao', 'Gaojuan Qian',\n",
       "       'Xiaopeng Sun', 'Li Qin', 'Mei Zheng', 'Yanjuan You',\n",
       "       'Xiaoqiang Qian', 'Xiaofeng Zhao', 'Qiang Feng', 'Chunmei Wang',\n",
       "       'Yanjuan Zhao', 'Chunjuan Zhang', 'Changli Qin', 'Gaojuan Wang',\n",
       "       'Yanmei Qian', 'Li Zhao', 'Chengqiang Chu', 'Chengmei Shen'],\n",
       "      dtype=object)"
      ]
     },
     "execution_count": 113,
     "metadata": {},
     "output_type": "execute_result"
    }
   ],
   "source": [
    "df[\"Name\"].unique()"
   ]
  },
  {
   "cell_type": "code",
   "execution_count": 118,
   "id": "21a55aed",
   "metadata": {},
   "outputs": [
    {
     "data": {
      "text/html": [
       "<div>\n",
       "<style scoped>\n",
       "    .dataframe tbody tr th:only-of-type {\n",
       "        vertical-align: middle;\n",
       "    }\n",
       "\n",
       "    .dataframe tbody tr th {\n",
       "        vertical-align: top;\n",
       "    }\n",
       "\n",
       "    .dataframe thead th {\n",
       "        text-align: right;\n",
       "    }\n",
       "</style>\n",
       "<table border=\"1\" class=\"dataframe\">\n",
       "  <thead>\n",
       "    <tr style=\"text-align: right;\">\n",
       "      <th></th>\n",
       "      <th>Gender</th>\n",
       "      <th>Transfer</th>\n",
       "      <th>Name</th>\n",
       "    </tr>\n",
       "  </thead>\n",
       "  <tbody>\n",
       "    <tr>\n",
       "      <th>0</th>\n",
       "      <td>Female</td>\n",
       "      <td>N</td>\n",
       "      <td>Gaopeng Yang</td>\n",
       "    </tr>\n",
       "    <tr>\n",
       "      <th>1</th>\n",
       "      <td>Male</td>\n",
       "      <td>N</td>\n",
       "      <td>Changqiang You</td>\n",
       "    </tr>\n",
       "    <tr>\n",
       "      <th>2</th>\n",
       "      <td>Male</td>\n",
       "      <td>N</td>\n",
       "      <td>Mei Sun</td>\n",
       "    </tr>\n",
       "    <tr>\n",
       "      <th>3</th>\n",
       "      <td>Female</td>\n",
       "      <td>N</td>\n",
       "      <td>Xiaojuan Sun</td>\n",
       "    </tr>\n",
       "    <tr>\n",
       "      <th>4</th>\n",
       "      <td>Male</td>\n",
       "      <td>N</td>\n",
       "      <td>Gaojuan You</td>\n",
       "    </tr>\n",
       "    <tr>\n",
       "      <th>...</th>\n",
       "      <td>...</td>\n",
       "      <td>...</td>\n",
       "      <td>...</td>\n",
       "    </tr>\n",
       "    <tr>\n",
       "      <th>194</th>\n",
       "      <td>Female</td>\n",
       "      <td>NaN</td>\n",
       "      <td>Yanmei Qian</td>\n",
       "    </tr>\n",
       "    <tr>\n",
       "      <th>196</th>\n",
       "      <td>Female</td>\n",
       "      <td>N</td>\n",
       "      <td>Li Zhao</td>\n",
       "    </tr>\n",
       "    <tr>\n",
       "      <th>197</th>\n",
       "      <td>Female</td>\n",
       "      <td>N</td>\n",
       "      <td>Chengqiang Chu</td>\n",
       "    </tr>\n",
       "    <tr>\n",
       "      <th>198</th>\n",
       "      <td>Male</td>\n",
       "      <td>N</td>\n",
       "      <td>Chengmei Shen</td>\n",
       "    </tr>\n",
       "    <tr>\n",
       "      <th>199</th>\n",
       "      <td>Male</td>\n",
       "      <td>N</td>\n",
       "      <td>Chunpeng Lv</td>\n",
       "    </tr>\n",
       "  </tbody>\n",
       "</table>\n",
       "<p>181 rows × 3 columns</p>\n",
       "</div>"
      ],
      "text/plain": [
       "     Gender Transfer            Name\n",
       "0    Female        N    Gaopeng Yang\n",
       "1      Male        N  Changqiang You\n",
       "2      Male        N         Mei Sun\n",
       "3    Female        N    Xiaojuan Sun\n",
       "4      Male        N     Gaojuan You\n",
       "..      ...      ...             ...\n",
       "194  Female      NaN     Yanmei Qian\n",
       "196  Female        N         Li Zhao\n",
       "197  Female        N  Chengqiang Chu\n",
       "198    Male        N   Chengmei Shen\n",
       "199    Male        N     Chunpeng Lv\n",
       "\n",
       "[181 rows x 3 columns]"
      ]
     },
     "execution_count": 118,
     "metadata": {},
     "output_type": "execute_result"
    }
   ],
   "source": [
    "# keep，默认值first表示每个组合保留第一次出现的所在行\n",
    "df_demo = df[['Gender','Transfer','Name']]\n",
    "df_demo.drop_duplicates(['Name', 'Gender'])"
   ]
  },
  {
   "cell_type": "code",
   "execution_count": 117,
   "id": "9d174f8b",
   "metadata": {},
   "outputs": [
    {
     "data": {
      "text/html": [
       "<div>\n",
       "<style scoped>\n",
       "    .dataframe tbody tr th:only-of-type {\n",
       "        vertical-align: middle;\n",
       "    }\n",
       "\n",
       "    .dataframe tbody tr th {\n",
       "        vertical-align: top;\n",
       "    }\n",
       "\n",
       "    .dataframe thead th {\n",
       "        text-align: right;\n",
       "    }\n",
       "</style>\n",
       "<table border=\"1\" class=\"dataframe\">\n",
       "  <thead>\n",
       "    <tr style=\"text-align: right;\">\n",
       "      <th></th>\n",
       "      <th>Gender</th>\n",
       "      <th>Transfer</th>\n",
       "      <th>Name</th>\n",
       "    </tr>\n",
       "  </thead>\n",
       "  <tbody>\n",
       "    <tr>\n",
       "      <th>0</th>\n",
       "      <td>Female</td>\n",
       "      <td>N</td>\n",
       "      <td>Gaopeng Yang</td>\n",
       "    </tr>\n",
       "    <tr>\n",
       "      <th>1</th>\n",
       "      <td>Male</td>\n",
       "      <td>N</td>\n",
       "      <td>Changqiang You</td>\n",
       "    </tr>\n",
       "    <tr>\n",
       "      <th>2</th>\n",
       "      <td>Male</td>\n",
       "      <td>N</td>\n",
       "      <td>Mei Sun</td>\n",
       "    </tr>\n",
       "    <tr>\n",
       "      <th>4</th>\n",
       "      <td>Male</td>\n",
       "      <td>N</td>\n",
       "      <td>Gaojuan You</td>\n",
       "    </tr>\n",
       "    <tr>\n",
       "      <th>5</th>\n",
       "      <td>Female</td>\n",
       "      <td>N</td>\n",
       "      <td>Xiaoli Qian</td>\n",
       "    </tr>\n",
       "    <tr>\n",
       "      <th>...</th>\n",
       "      <td>...</td>\n",
       "      <td>...</td>\n",
       "      <td>...</td>\n",
       "    </tr>\n",
       "    <tr>\n",
       "      <th>195</th>\n",
       "      <td>Female</td>\n",
       "      <td>N</td>\n",
       "      <td>Xiaojuan Sun</td>\n",
       "    </tr>\n",
       "    <tr>\n",
       "      <th>196</th>\n",
       "      <td>Female</td>\n",
       "      <td>N</td>\n",
       "      <td>Li Zhao</td>\n",
       "    </tr>\n",
       "    <tr>\n",
       "      <th>197</th>\n",
       "      <td>Female</td>\n",
       "      <td>N</td>\n",
       "      <td>Chengqiang Chu</td>\n",
       "    </tr>\n",
       "    <tr>\n",
       "      <th>198</th>\n",
       "      <td>Male</td>\n",
       "      <td>N</td>\n",
       "      <td>Chengmei Shen</td>\n",
       "    </tr>\n",
       "    <tr>\n",
       "      <th>199</th>\n",
       "      <td>Male</td>\n",
       "      <td>N</td>\n",
       "      <td>Chunpeng Lv</td>\n",
       "    </tr>\n",
       "  </tbody>\n",
       "</table>\n",
       "<p>181 rows × 3 columns</p>\n",
       "</div>"
      ],
      "text/plain": [
       "     Gender Transfer            Name\n",
       "0    Female        N    Gaopeng Yang\n",
       "1      Male        N  Changqiang You\n",
       "2      Male        N         Mei Sun\n",
       "4      Male        N     Gaojuan You\n",
       "5    Female        N     Xiaoli Qian\n",
       "..      ...      ...             ...\n",
       "195  Female        N    Xiaojuan Sun\n",
       "196  Female        N         Li Zhao\n",
       "197  Female        N  Chengqiang Chu\n",
       "198    Male        N   Chengmei Shen\n",
       "199    Male        N     Chunpeng Lv\n",
       "\n",
       "[181 rows x 3 columns]"
      ]
     },
     "execution_count": 117,
     "metadata": {},
     "output_type": "execute_result"
    }
   ],
   "source": [
    "# last表示保留最后一次出现的所在行\n",
    "df_demo.drop_duplicates(['Name', 'Gender'], keep=\"last\")"
   ]
  },
  {
   "cell_type": "code",
   "execution_count": 116,
   "id": "3e707899",
   "metadata": {},
   "outputs": [
    {
     "data": {
      "text/html": [
       "<div>\n",
       "<style scoped>\n",
       "    .dataframe tbody tr th:only-of-type {\n",
       "        vertical-align: middle;\n",
       "    }\n",
       "\n",
       "    .dataframe tbody tr th {\n",
       "        vertical-align: top;\n",
       "    }\n",
       "\n",
       "    .dataframe thead th {\n",
       "        text-align: right;\n",
       "    }\n",
       "</style>\n",
       "<table border=\"1\" class=\"dataframe\">\n",
       "  <thead>\n",
       "    <tr style=\"text-align: right;\">\n",
       "      <th></th>\n",
       "      <th>Gender</th>\n",
       "      <th>Transfer</th>\n",
       "      <th>Name</th>\n",
       "    </tr>\n",
       "  </thead>\n",
       "  <tbody>\n",
       "    <tr>\n",
       "      <th>0</th>\n",
       "      <td>Female</td>\n",
       "      <td>N</td>\n",
       "      <td>Gaopeng Yang</td>\n",
       "    </tr>\n",
       "    <tr>\n",
       "      <th>1</th>\n",
       "      <td>Male</td>\n",
       "      <td>N</td>\n",
       "      <td>Changqiang You</td>\n",
       "    </tr>\n",
       "    <tr>\n",
       "      <th>2</th>\n",
       "      <td>Male</td>\n",
       "      <td>N</td>\n",
       "      <td>Mei Sun</td>\n",
       "    </tr>\n",
       "    <tr>\n",
       "      <th>4</th>\n",
       "      <td>Male</td>\n",
       "      <td>N</td>\n",
       "      <td>Gaojuan You</td>\n",
       "    </tr>\n",
       "    <tr>\n",
       "      <th>5</th>\n",
       "      <td>Female</td>\n",
       "      <td>N</td>\n",
       "      <td>Xiaoli Qian</td>\n",
       "    </tr>\n",
       "    <tr>\n",
       "      <th>...</th>\n",
       "      <td>...</td>\n",
       "      <td>...</td>\n",
       "      <td>...</td>\n",
       "    </tr>\n",
       "    <tr>\n",
       "      <th>194</th>\n",
       "      <td>Female</td>\n",
       "      <td>NaN</td>\n",
       "      <td>Yanmei Qian</td>\n",
       "    </tr>\n",
       "    <tr>\n",
       "      <th>196</th>\n",
       "      <td>Female</td>\n",
       "      <td>N</td>\n",
       "      <td>Li Zhao</td>\n",
       "    </tr>\n",
       "    <tr>\n",
       "      <th>197</th>\n",
       "      <td>Female</td>\n",
       "      <td>N</td>\n",
       "      <td>Chengqiang Chu</td>\n",
       "    </tr>\n",
       "    <tr>\n",
       "      <th>198</th>\n",
       "      <td>Male</td>\n",
       "      <td>N</td>\n",
       "      <td>Chengmei Shen</td>\n",
       "    </tr>\n",
       "    <tr>\n",
       "      <th>199</th>\n",
       "      <td>Male</td>\n",
       "      <td>N</td>\n",
       "      <td>Chunpeng Lv</td>\n",
       "    </tr>\n",
       "  </tbody>\n",
       "</table>\n",
       "<p>164 rows × 3 columns</p>\n",
       "</div>"
      ],
      "text/plain": [
       "     Gender Transfer            Name\n",
       "0    Female        N    Gaopeng Yang\n",
       "1      Male        N  Changqiang You\n",
       "2      Male        N         Mei Sun\n",
       "4      Male        N     Gaojuan You\n",
       "5    Female        N     Xiaoli Qian\n",
       "..      ...      ...             ...\n",
       "194  Female      NaN     Yanmei Qian\n",
       "196  Female        N         Li Zhao\n",
       "197  Female        N  Chengqiang Chu\n",
       "198    Male        N   Chengmei Shen\n",
       "199    Male        N     Chunpeng Lv\n",
       "\n",
       "[164 rows x 3 columns]"
      ]
     },
     "execution_count": 116,
     "metadata": {},
     "output_type": "execute_result"
    }
   ],
   "source": [
    "# False表示把所有重复组合所在的行剔除\n",
    "df_demo.drop_duplicates(['Name', 'Gender'], keep=False)"
   ]
  },
  {
   "cell_type": "code",
   "execution_count": 120,
   "id": "1a1b97bb",
   "metadata": {},
   "outputs": [
    {
     "data": {
      "text/plain": [
       "0    Shanghai Jiao Tong University\n",
       "1                Peking University\n",
       "3                 Fudan University\n",
       "5              Tsinghua University\n",
       "Name: School, dtype: object"
      ]
     },
     "execution_count": 120,
     "metadata": {},
     "output_type": "execute_result"
    }
   ],
   "source": [
    "# 在Series上也可以使用\n",
    "df[\"School\"].drop_duplicates()"
   ]
  },
  {
   "cell_type": "markdown",
   "id": "0aa10cc6",
   "metadata": {},
   "source": [
    "此外，`duplicated`和`drop_duplicates`的功能类似，但前者返回了是否为唯一值的布尔列表，其`keep`参数与后者一致。其返回的序列，把重复元素设为`True`，否则为`False`。 `drop_duplicates`等价于把`duplicated`为`True`的对应行剔除。"
   ]
  },
  {
   "cell_type": "code",
   "execution_count": 122,
   "id": "2c8437c0",
   "metadata": {},
   "outputs": [
    {
     "data": {
      "text/plain": [
       "0      False\n",
       "1      False\n",
       "2      False\n",
       "3      False\n",
       "4      False\n",
       "       ...  \n",
       "195     True\n",
       "196    False\n",
       "197    False\n",
       "198    False\n",
       "199    False\n",
       "Length: 200, dtype: bool"
      ]
     },
     "execution_count": 122,
     "metadata": {},
     "output_type": "execute_result"
    }
   ],
   "source": [
    "df_demo.duplicated(['Name', 'Gender'])# 为True的是Name和Gender都一样的重复行\n"
   ]
  },
  {
   "cell_type": "code",
   "execution_count": 123,
   "id": "f7bc0f17",
   "metadata": {},
   "outputs": [
    {
     "data": {
      "text/plain": [
       "0      False\n",
       "1      False\n",
       "2       True\n",
       "3      False\n",
       "4       True\n",
       "       ...  \n",
       "195     True\n",
       "196     True\n",
       "197     True\n",
       "198     True\n",
       "199     True\n",
       "Name: School, Length: 200, dtype: bool"
      ]
     },
     "execution_count": 123,
     "metadata": {},
     "output_type": "execute_result"
    }
   ],
   "source": [
    "# 在Series上也可以使用\n",
    "df[\"School\"].duplicated()"
   ]
  },
  {
   "cell_type": "markdown",
   "id": "fc9bbcf3",
   "metadata": {},
   "source": [
    "### 替换函数\n",
    "\n",
    "映射替换（`replace`方法、`str.replace`方法`cat.codes`方法）、逻辑替换、数值替换"
   ]
  },
  {
   "cell_type": "markdown",
   "id": "75259c64",
   "metadata": {},
   "source": [
    "替换操作是针对某一个列进行的，因此下面的例子都以`Series`举例\n"
   ]
  },
  {
   "cell_type": "markdown",
   "id": "4197a99c",
   "metadata": {},
   "source": [
    "#### 映射替换"
   ]
  },
  {
   "cell_type": "code",
   "execution_count": 124,
   "id": "1d9aa4be",
   "metadata": {},
   "outputs": [],
   "source": [
    "# 使用一份learn_pandas.csv的虚拟数据集，它记录了四所学校学生的体测个人信息\n",
    "df = pd.read_csv(\"./data/learn_pandas.csv\")\n",
    "# 只使用前7列\n",
    "df = df[df.columns[:7]]\n"
   ]
  },
  {
   "cell_type": "code",
   "execution_count": 126,
   "id": "9365476c",
   "metadata": {},
   "outputs": [
    {
     "data": {
      "text/plain": [
       "Index(['School', 'Grade', 'Name', 'Gender', 'Height', 'Weight', 'Transfer'], dtype='object')"
      ]
     },
     "execution_count": 126,
     "metadata": {},
     "output_type": "execute_result"
    }
   ],
   "source": [
    "df.columns"
   ]
  },
  {
   "cell_type": "markdown",
   "id": "e0837e7c",
   "metadata": {},
   "source": [
    "**replace**\n",
    "\n",
    "在replace中，可以通过字典构造，或者传入两个列表来进行替换"
   ]
  },
  {
   "cell_type": "code",
   "execution_count": 127,
   "id": "0c3def13",
   "metadata": {},
   "outputs": [
    {
     "data": {
      "text/plain": [
       "0    0\n",
       "1    1\n",
       "2    1\n",
       "3    0\n",
       "4    1\n",
       "Name: Gender, dtype: int64"
      ]
     },
     "execution_count": 127,
     "metadata": {},
     "output_type": "execute_result"
    }
   ],
   "source": [
    "# 通过字典构造\n",
    "df[\"Gender\"].replace({\"Female\":0, \"Male\":1}).head()"
   ]
  },
  {
   "cell_type": "code",
   "execution_count": 129,
   "id": "4a70537c",
   "metadata": {},
   "outputs": [
    {
     "data": {
      "text/plain": [
       "0    0\n",
       "1    1\n",
       "2    1\n",
       "3    0\n",
       "4    1\n",
       "Name: Gender, dtype: int64"
      ]
     },
     "execution_count": 129,
     "metadata": {},
     "output_type": "execute_result"
    }
   ],
   "source": [
    "# 传入两个列表\n",
    "df[\"Gender\"].replace([\"Female\", \"Male\"],[0,1]).head()"
   ]
  },
  {
   "cell_type": "markdown",
   "id": "3b20314c",
   "metadata": {},
   "source": [
    "方向替换，指定method参数为ffill则为用前面一个最近的未被替换的值进行替换，bfill则使用后面最近的未被替换的值进行替换。"
   ]
  },
  {
   "cell_type": "code",
   "execution_count": 136,
   "id": "94f6d9ab",
   "metadata": {},
   "outputs": [
    {
     "data": {
      "text/plain": [
       "0    a\n",
       "1    1\n",
       "2    b\n",
       "3    2\n",
       "4    1\n",
       "5    1\n",
       "6    a\n",
       "dtype: object"
      ]
     },
     "execution_count": 136,
     "metadata": {},
     "output_type": "execute_result"
    }
   ],
   "source": [
    "s = pd.Series(['a', 1, 'b', 2, 1, 1, 'a'])\n",
    "s\n"
   ]
  },
  {
   "cell_type": "code",
   "execution_count": 138,
   "id": "e5de100b",
   "metadata": {},
   "outputs": [
    {
     "data": {
      "text/plain": [
       "0    a\n",
       "1    a\n",
       "2    b\n",
       "3    b\n",
       "4    b\n",
       "5    b\n",
       "6    a\n",
       "dtype: object"
      ]
     },
     "execution_count": 138,
     "metadata": {},
     "output_type": "execute_result"
    }
   ],
   "source": [
    "s.replace([1,2], method=\"ffill\")"
   ]
  },
  {
   "cell_type": "code",
   "execution_count": 139,
   "id": "b5c2442e",
   "metadata": {},
   "outputs": [
    {
     "data": {
      "text/plain": [
       "0    a\n",
       "1    b\n",
       "2    b\n",
       "3    a\n",
       "4    a\n",
       "5    a\n",
       "6    a\n",
       "dtype: object"
      ]
     },
     "execution_count": 139,
     "metadata": {},
     "output_type": "execute_result"
    }
   ],
   "source": [
    "s.replace([1,2], method=\"bfill\")"
   ]
  },
  {
   "cell_type": "markdown",
   "id": "05940635",
   "metadata": {},
   "source": [
    "**正则替换请使用`str.replace`**\n",
    "\n",
    "虽然对于`replace`而言可以使用正则替换，但是当前版本下对于`string`类型的正则替换还存在`bug`，因此如有此需求，请选择`str.replace`进行替换操作"
   ]
  },
  {
   "cell_type": "markdown",
   "id": "37a6ff3b",
   "metadata": {},
   "source": [
    "#### 逻辑替换\n",
    "逻辑替换包括了`where`和`mask`\n",
    "\n",
    "where函数在传入条件为False的对应行进行替换，而mask在传入条件为True的对应行进行替换，当不指定替换值时，替换为缺失值"
   ]
  },
  {
   "cell_type": "code",
   "execution_count": 141,
   "id": "cf525aea",
   "metadata": {},
   "outputs": [
    {
     "data": {
      "text/plain": [
       "0     -1.0000\n",
       "1      1.2345\n",
       "2    100.0000\n",
       "3    -50.0000\n",
       "dtype: float64"
      ]
     },
     "execution_count": 141,
     "metadata": {},
     "output_type": "execute_result"
    }
   ],
   "source": [
    "s = pd.Series([-1, 1.2345, 100, -50])\n",
    "s"
   ]
  },
  {
   "cell_type": "code",
   "execution_count": 142,
   "id": "80ad7a2f",
   "metadata": {},
   "outputs": [
    {
     "data": {
      "text/plain": [
       "0    -1.0\n",
       "1     NaN\n",
       "2     NaN\n",
       "3   -50.0\n",
       "dtype: float64"
      ]
     },
     "execution_count": 142,
     "metadata": {},
     "output_type": "execute_result"
    }
   ],
   "source": [
    "# 当不指定替换值时，替换为缺失值\n",
    "s.where(s<0)"
   ]
  },
  {
   "cell_type": "code",
   "execution_count": 144,
   "id": "00d9fb77",
   "metadata": {},
   "outputs": [
    {
     "data": {
      "text/plain": [
       "0         NaN\n",
       "1      1.2345\n",
       "2    100.0000\n",
       "3         NaN\n",
       "dtype: float64"
      ]
     },
     "execution_count": 144,
     "metadata": {},
     "output_type": "execute_result"
    }
   ],
   "source": [
    "# 当不指定替换值时，替换为缺失值\n",
    "s.mask(s<0)"
   ]
  },
  {
   "cell_type": "code",
   "execution_count": 145,
   "id": "c2139ef3",
   "metadata": {},
   "outputs": [
    {
     "data": {
      "text/plain": [
       "0   -999.0000\n",
       "1      1.2345\n",
       "2    100.0000\n",
       "3   -999.0000\n",
       "dtype: float64"
      ]
     },
     "execution_count": 145,
     "metadata": {},
     "output_type": "execute_result"
    }
   ],
   "source": [
    "s.mask(s<0, -999)"
   ]
  },
  {
   "cell_type": "markdown",
   "id": "60c5b18e",
   "metadata": {},
   "source": [
    "可以直接设置传入条件,传入的条件只需是与被调用的`Series`索引一致的布尔序列即可"
   ]
  },
  {
   "cell_type": "code",
   "execution_count": 146,
   "id": "1cf44d0f",
   "metadata": {},
   "outputs": [
    {
     "data": {
      "text/plain": [
       "0     -1.0\n",
       "1   -999.0\n",
       "2   -999.0\n",
       "3    -50.0\n",
       "dtype: float64"
      ]
     },
     "execution_count": 146,
     "metadata": {},
     "output_type": "execute_result"
    }
   ],
   "source": [
    "# 可以直接设置传入条件\n",
    "cond = pd.Series([True,False,False,True],index=s.index)# 与被调用的Series索引一致\n",
    "s.where(cond, -999)"
   ]
  },
  {
   "cell_type": "markdown",
   "id": "6a980e53",
   "metadata": {},
   "source": [
    "### 数值替\n",
    "\n",
    "数值替换包含了`round, abs, clip`方法，它们分别表示按照给定精度四舍五入、取绝对值和截断"
   ]
  },
  {
   "cell_type": "code",
   "execution_count": 147,
   "id": "98ee70fb",
   "metadata": {},
   "outputs": [],
   "source": [
    "s = pd.Series([-1, 1.2345, 100, -50])"
   ]
  },
  {
   "cell_type": "code",
   "execution_count": 148,
   "id": "1cdee7a9",
   "metadata": {},
   "outputs": [
    {
     "data": {
      "text/plain": [
       "0     -1.00\n",
       "1      1.23\n",
       "2    100.00\n",
       "3    -50.00\n",
       "dtype: float64"
      ]
     },
     "execution_count": 148,
     "metadata": {},
     "output_type": "execute_result"
    }
   ],
   "source": [
    "# 保留两位小数\n",
    "s.round(2)"
   ]
  },
  {
   "cell_type": "code",
   "execution_count": 149,
   "id": "2e86c9ef",
   "metadata": {},
   "outputs": [
    {
     "data": {
      "text/plain": [
       "0      1.0000\n",
       "1      1.2345\n",
       "2    100.0000\n",
       "3     50.0000\n",
       "dtype: float64"
      ]
     },
     "execution_count": 149,
     "metadata": {},
     "output_type": "execute_result"
    }
   ],
   "source": [
    "# 取绝对值\n",
    "s.abs()"
   ]
  },
  {
   "cell_type": "code",
   "execution_count": 150,
   "id": "a98a62fc",
   "metadata": {},
   "outputs": [
    {
     "data": {
      "text/plain": [
       "0    0.0000\n",
       "1    1.2345\n",
       "2    2.0000\n",
       "3    0.0000\n",
       "dtype: float64"
      ]
     },
     "execution_count": 150,
     "metadata": {},
     "output_type": "execute_result"
    }
   ],
   "source": [
    "# 只取给定范围内的数前两个数分别表示上下截断边界\n",
    "s.clip(0,2)"
   ]
  },
  {
   "cell_type": "markdown",
   "id": "21202767",
   "metadata": {},
   "source": [
<<<<<<< HEAD
    "## 排序函数\n",
    "\n",
    "排序共有两种方式，其一为值排序，其二为索引排序，对应的函数是`sort_values`和`sort_index`。"
   ]
  },
  {
   "cell_type": "markdown",
   "id": "00ad4a07",
   "metadata": {},
   "source": [
    "### 值排序"
=======
    "## 排序函数"
>>>>>>> 49649961e986bc4151d7d882b15d384ddd906785
   ]
  },
  {
   "cell_type": "code",
<<<<<<< HEAD
   "execution_count": 2,
   "id": "01b401dd",
   "metadata": {},
   "outputs": [],
   "source": [
    "# 使用一份learn_pandas.csv的虚拟数据集，它记录了四所学校学生的体测个人信息\n",
    "df = pd.read_csv(\"./data/learn_pandas.csv\")\n",
    "# 只使用前7列\n",
    "df = df[df.columns[:7]]\n"
   ]
  },
  {
   "cell_type": "code",
   "execution_count": 3,
   "id": "a60204c8",
   "metadata": {},
   "outputs": [
    {
     "data": {
      "text/plain": [
       "Index(['School', 'Grade', 'Name', 'Gender', 'Height', 'Weight', 'Transfer'], dtype='object')"
      ]
     },
     "execution_count": 3,
     "metadata": {},
     "output_type": "execute_result"
    }
   ],
   "source": [
    "df.columns"
   ]
  },
  {
   "cell_type": "markdown",
   "id": "af44b8b2",
   "metadata": {},
   "source": [
    "利用set_index方法把年级和姓名两列作为索引"
   ]
  },
  {
   "cell_type": "code",
   "execution_count": 17,
   "id": "42d256be",
   "metadata": {},
   "outputs": [
    {
     "data": {
      "text/html": [
       "<div>\n",
       "<style scoped>\n",
       "    .dataframe tbody tr th:only-of-type {\n",
       "        vertical-align: middle;\n",
       "    }\n",
       "\n",
       "    .dataframe tbody tr th {\n",
       "        vertical-align: top;\n",
       "    }\n",
       "\n",
       "    .dataframe thead th {\n",
       "        text-align: right;\n",
       "    }\n",
       "</style>\n",
       "<table border=\"1\" class=\"dataframe\">\n",
       "  <thead>\n",
       "    <tr style=\"text-align: right;\">\n",
       "      <th></th>\n",
       "      <th>Grade</th>\n",
       "      <th>Name</th>\n",
       "      <th>Height</th>\n",
       "      <th>Weight</th>\n",
       "    </tr>\n",
       "  </thead>\n",
       "  <tbody>\n",
       "    <tr>\n",
       "      <th>0</th>\n",
       "      <td>Freshman</td>\n",
       "      <td>Gaopeng Yang</td>\n",
       "      <td>158.9</td>\n",
       "      <td>46.0</td>\n",
       "    </tr>\n",
       "    <tr>\n",
       "      <th>1</th>\n",
       "      <td>Freshman</td>\n",
       "      <td>Changqiang You</td>\n",
       "      <td>166.5</td>\n",
       "      <td>70.0</td>\n",
       "    </tr>\n",
       "    <tr>\n",
       "      <th>2</th>\n",
       "      <td>Senior</td>\n",
       "      <td>Mei Sun</td>\n",
       "      <td>188.9</td>\n",
       "      <td>89.0</td>\n",
       "    </tr>\n",
       "    <tr>\n",
       "      <th>3</th>\n",
       "      <td>Sophomore</td>\n",
       "      <td>Xiaojuan Sun</td>\n",
       "      <td>NaN</td>\n",
       "      <td>41.0</td>\n",
       "    </tr>\n",
       "    <tr>\n",
       "      <th>4</th>\n",
       "      <td>Sophomore</td>\n",
       "      <td>Gaojuan You</td>\n",
       "      <td>174.0</td>\n",
       "      <td>74.0</td>\n",
       "    </tr>\n",
       "    <tr>\n",
       "      <th>5</th>\n",
       "      <td>Freshman</td>\n",
       "      <td>Xiaoli Qian</td>\n",
       "      <td>158.0</td>\n",
       "      <td>51.0</td>\n",
       "    </tr>\n",
       "    <tr>\n",
       "      <th>6</th>\n",
       "      <td>Freshman</td>\n",
       "      <td>Qiang Chu</td>\n",
       "      <td>162.5</td>\n",
       "      <td>52.0</td>\n",
       "    </tr>\n",
       "    <tr>\n",
       "      <th>7</th>\n",
       "      <td>Junior</td>\n",
       "      <td>Gaoqiang Qian</td>\n",
       "      <td>161.9</td>\n",
       "      <td>50.0</td>\n",
       "    </tr>\n",
       "    <tr>\n",
       "      <th>8</th>\n",
       "      <td>Freshman</td>\n",
       "      <td>Changli Zhang</td>\n",
       "      <td>163.0</td>\n",
       "      <td>48.0</td>\n",
       "    </tr>\n",
       "    <tr>\n",
       "      <th>9</th>\n",
       "      <td>Junior</td>\n",
       "      <td>Juan Xu</td>\n",
       "      <td>164.8</td>\n",
       "      <td>NaN</td>\n",
       "    </tr>\n",
       "  </tbody>\n",
       "</table>\n",
       "</div>"
      ],
      "text/plain": [
       "       Grade            Name  Height  Weight\n",
       "0   Freshman    Gaopeng Yang   158.9    46.0\n",
       "1   Freshman  Changqiang You   166.5    70.0\n",
       "2     Senior         Mei Sun   188.9    89.0\n",
       "3  Sophomore    Xiaojuan Sun     NaN    41.0\n",
       "4  Sophomore     Gaojuan You   174.0    74.0\n",
       "5   Freshman     Xiaoli Qian   158.0    51.0\n",
       "6   Freshman       Qiang Chu   162.5    52.0\n",
       "7     Junior   Gaoqiang Qian   161.9    50.0\n",
       "8   Freshman   Changli Zhang   163.0    48.0\n",
       "9     Junior         Juan Xu   164.8     NaN"
      ]
     },
     "execution_count": 17,
     "metadata": {},
     "output_type": "execute_result"
    }
   ],
   "source": [
    "df_demo = df[['Grade', 'Name', 'Height', 'Weight']]\n",
    "df_demo.head(10)"
   ]
  },
  {
   "cell_type": "code",
   "execution_count": 18,
   "id": "5279d7aa",
   "metadata": {},
   "outputs": [
    {
     "data": {
      "text/html": [
       "<div>\n",
       "<style scoped>\n",
       "    .dataframe tbody tr th:only-of-type {\n",
       "        vertical-align: middle;\n",
       "    }\n",
       "\n",
       "    .dataframe tbody tr th {\n",
       "        vertical-align: top;\n",
       "    }\n",
       "\n",
       "    .dataframe thead th {\n",
       "        text-align: right;\n",
       "    }\n",
       "</style>\n",
       "<table border=\"1\" class=\"dataframe\">\n",
       "  <thead>\n",
       "    <tr style=\"text-align: right;\">\n",
       "      <th></th>\n",
       "      <th></th>\n",
       "      <th>Height</th>\n",
       "      <th>Weight</th>\n",
       "    </tr>\n",
       "    <tr>\n",
       "      <th>Grade</th>\n",
       "      <th>Name</th>\n",
       "      <th></th>\n",
       "      <th></th>\n",
       "    </tr>\n",
       "  </thead>\n",
       "  <tbody>\n",
       "    <tr>\n",
       "      <th rowspan=\"2\" valign=\"top\">Freshman</th>\n",
       "      <th>Gaopeng Yang</th>\n",
       "      <td>158.9</td>\n",
       "      <td>46.0</td>\n",
       "    </tr>\n",
       "    <tr>\n",
       "      <th>Changqiang You</th>\n",
       "      <td>166.5</td>\n",
       "      <td>70.0</td>\n",
       "    </tr>\n",
       "    <tr>\n",
       "      <th>Senior</th>\n",
       "      <th>Mei Sun</th>\n",
       "      <td>188.9</td>\n",
       "      <td>89.0</td>\n",
       "    </tr>\n",
       "    <tr>\n",
       "      <th rowspan=\"2\" valign=\"top\">Sophomore</th>\n",
       "      <th>Xiaojuan Sun</th>\n",
       "      <td>NaN</td>\n",
       "      <td>41.0</td>\n",
       "    </tr>\n",
       "    <tr>\n",
       "      <th>Gaojuan You</th>\n",
       "      <td>174.0</td>\n",
       "      <td>74.0</td>\n",
       "    </tr>\n",
       "    <tr>\n",
       "      <th rowspan=\"2\" valign=\"top\">Freshman</th>\n",
       "      <th>Xiaoli Qian</th>\n",
       "      <td>158.0</td>\n",
       "      <td>51.0</td>\n",
       "    </tr>\n",
       "    <tr>\n",
       "      <th>Qiang Chu</th>\n",
       "      <td>162.5</td>\n",
       "      <td>52.0</td>\n",
       "    </tr>\n",
       "    <tr>\n",
       "      <th>Junior</th>\n",
       "      <th>Gaoqiang Qian</th>\n",
       "      <td>161.9</td>\n",
       "      <td>50.0</td>\n",
       "    </tr>\n",
       "    <tr>\n",
       "      <th>Freshman</th>\n",
       "      <th>Changli Zhang</th>\n",
       "      <td>163.0</td>\n",
       "      <td>48.0</td>\n",
       "    </tr>\n",
       "    <tr>\n",
       "      <th>Junior</th>\n",
       "      <th>Juan Xu</th>\n",
       "      <td>164.8</td>\n",
       "      <td>NaN</td>\n",
       "    </tr>\n",
       "  </tbody>\n",
       "</table>\n",
       "</div>"
      ],
      "text/plain": [
       "                          Height  Weight\n",
       "Grade     Name                          \n",
       "Freshman  Gaopeng Yang     158.9    46.0\n",
       "          Changqiang You   166.5    70.0\n",
       "Senior    Mei Sun          188.9    89.0\n",
       "Sophomore Xiaojuan Sun       NaN    41.0\n",
       "          Gaojuan You      174.0    74.0\n",
       "Freshman  Xiaoli Qian      158.0    51.0\n",
       "          Qiang Chu        162.5    52.0\n",
       "Junior    Gaoqiang Qian    161.9    50.0\n",
       "Freshman  Changli Zhang    163.0    48.0\n",
       "Junior    Juan Xu          164.8     NaN"
      ]
     },
     "execution_count": 18,
     "metadata": {},
     "output_type": "execute_result"
    }
   ],
   "source": [
    "df_demo = df_demo.set_index([\"Grade\", \"Name\"]).head(10)\n",
    "df_demo"
   ]
  },
  {
   "cell_type": "markdown",
   "id": "9a5a1e7d",
   "metadata": {},
   "source": [
    "可以看到Grade和Name两列加粗了，因此根据Grade作为索引时，会合并重复的Grade（索引）"
   ]
  },
  {
   "cell_type": "markdown",
   "id": "8315ec43",
   "metadata": {},
   "source": [
    "再利用set_values按身高进行排序:默认参数ascending=True为升序"
   ]
  },
  {
   "cell_type": "code",
   "execution_count": 19,
   "id": "8480415c",
   "metadata": {},
   "outputs": [
    {
     "data": {
      "text/html": [
       "<div>\n",
       "<style scoped>\n",
       "    .dataframe tbody tr th:only-of-type {\n",
       "        vertical-align: middle;\n",
       "    }\n",
       "\n",
       "    .dataframe tbody tr th {\n",
       "        vertical-align: top;\n",
       "    }\n",
       "\n",
       "    .dataframe thead th {\n",
       "        text-align: right;\n",
       "    }\n",
       "</style>\n",
       "<table border=\"1\" class=\"dataframe\">\n",
       "  <thead>\n",
       "    <tr style=\"text-align: right;\">\n",
       "      <th></th>\n",
       "      <th></th>\n",
       "      <th>Height</th>\n",
       "      <th>Weight</th>\n",
       "    </tr>\n",
       "    <tr>\n",
       "      <th>Grade</th>\n",
       "      <th>Name</th>\n",
       "      <th></th>\n",
       "      <th></th>\n",
       "    </tr>\n",
       "  </thead>\n",
       "  <tbody>\n",
       "    <tr>\n",
       "      <th rowspan=\"2\" valign=\"top\">Freshman</th>\n",
       "      <th>Xiaoli Qian</th>\n",
       "      <td>158.0</td>\n",
       "      <td>51.0</td>\n",
       "    </tr>\n",
       "    <tr>\n",
       "      <th>Gaopeng Yang</th>\n",
       "      <td>158.9</td>\n",
       "      <td>46.0</td>\n",
       "    </tr>\n",
       "    <tr>\n",
       "      <th>Junior</th>\n",
       "      <th>Gaoqiang Qian</th>\n",
       "      <td>161.9</td>\n",
       "      <td>50.0</td>\n",
       "    </tr>\n",
       "    <tr>\n",
       "      <th rowspan=\"2\" valign=\"top\">Freshman</th>\n",
       "      <th>Qiang Chu</th>\n",
       "      <td>162.5</td>\n",
       "      <td>52.0</td>\n",
       "    </tr>\n",
       "    <tr>\n",
       "      <th>Changli Zhang</th>\n",
       "      <td>163.0</td>\n",
       "      <td>48.0</td>\n",
       "    </tr>\n",
       "    <tr>\n",
       "      <th>Junior</th>\n",
       "      <th>Juan Xu</th>\n",
       "      <td>164.8</td>\n",
       "      <td>NaN</td>\n",
       "    </tr>\n",
       "    <tr>\n",
       "      <th>Freshman</th>\n",
       "      <th>Changqiang You</th>\n",
       "      <td>166.5</td>\n",
       "      <td>70.0</td>\n",
       "    </tr>\n",
       "    <tr>\n",
       "      <th>Sophomore</th>\n",
       "      <th>Gaojuan You</th>\n",
       "      <td>174.0</td>\n",
       "      <td>74.0</td>\n",
       "    </tr>\n",
       "    <tr>\n",
       "      <th>Senior</th>\n",
       "      <th>Mei Sun</th>\n",
       "      <td>188.9</td>\n",
       "      <td>89.0</td>\n",
       "    </tr>\n",
       "    <tr>\n",
       "      <th>Sophomore</th>\n",
       "      <th>Xiaojuan Sun</th>\n",
       "      <td>NaN</td>\n",
       "      <td>41.0</td>\n",
       "    </tr>\n",
       "  </tbody>\n",
       "</table>\n",
       "</div>"
      ],
      "text/plain": [
       "                          Height  Weight\n",
       "Grade     Name                          \n",
       "Freshman  Xiaoli Qian      158.0    51.0\n",
       "          Gaopeng Yang     158.9    46.0\n",
       "Junior    Gaoqiang Qian    161.9    50.0\n",
       "Freshman  Qiang Chu        162.5    52.0\n",
       "          Changli Zhang    163.0    48.0\n",
       "Junior    Juan Xu          164.8     NaN\n",
       "Freshman  Changqiang You   166.5    70.0\n",
       "Sophomore Gaojuan You      174.0    74.0\n",
       "Senior    Mei Sun          188.9    89.0\n",
       "Sophomore Xiaojuan Sun       NaN    41.0"
      ]
     },
     "execution_count": 19,
     "metadata": {},
     "output_type": "execute_result"
    }
   ],
   "source": [
    "df_demo.sort_values(\"Height\").head(10)"
   ]
  },
  {
   "cell_type": "code",
   "execution_count": 21,
   "id": "44215b37",
   "metadata": {},
   "outputs": [
    {
     "data": {
      "text/html": [
       "<div>\n",
       "<style scoped>\n",
       "    .dataframe tbody tr th:only-of-type {\n",
       "        vertical-align: middle;\n",
       "    }\n",
       "\n",
       "    .dataframe tbody tr th {\n",
       "        vertical-align: top;\n",
       "    }\n",
       "\n",
       "    .dataframe thead th {\n",
       "        text-align: right;\n",
       "    }\n",
       "</style>\n",
       "<table border=\"1\" class=\"dataframe\">\n",
       "  <thead>\n",
       "    <tr style=\"text-align: right;\">\n",
       "      <th></th>\n",
       "      <th></th>\n",
       "      <th>Height</th>\n",
       "      <th>Weight</th>\n",
       "    </tr>\n",
       "    <tr>\n",
       "      <th>Grade</th>\n",
       "      <th>Name</th>\n",
       "      <th></th>\n",
       "      <th></th>\n",
       "    </tr>\n",
       "  </thead>\n",
       "  <tbody>\n",
       "    <tr>\n",
       "      <th>Senior</th>\n",
       "      <th>Mei Sun</th>\n",
       "      <td>188.9</td>\n",
       "      <td>89.0</td>\n",
       "    </tr>\n",
       "    <tr>\n",
       "      <th>Sophomore</th>\n",
       "      <th>Gaojuan You</th>\n",
       "      <td>174.0</td>\n",
       "      <td>74.0</td>\n",
       "    </tr>\n",
       "    <tr>\n",
       "      <th>Freshman</th>\n",
       "      <th>Changqiang You</th>\n",
       "      <td>166.5</td>\n",
       "      <td>70.0</td>\n",
       "    </tr>\n",
       "    <tr>\n",
       "      <th>Junior</th>\n",
       "      <th>Juan Xu</th>\n",
       "      <td>164.8</td>\n",
       "      <td>NaN</td>\n",
       "    </tr>\n",
       "    <tr>\n",
       "      <th rowspan=\"2\" valign=\"top\">Freshman</th>\n",
       "      <th>Changli Zhang</th>\n",
       "      <td>163.0</td>\n",
       "      <td>48.0</td>\n",
       "    </tr>\n",
       "    <tr>\n",
       "      <th>Qiang Chu</th>\n",
       "      <td>162.5</td>\n",
       "      <td>52.0</td>\n",
       "    </tr>\n",
       "    <tr>\n",
       "      <th>Junior</th>\n",
       "      <th>Gaoqiang Qian</th>\n",
       "      <td>161.9</td>\n",
       "      <td>50.0</td>\n",
       "    </tr>\n",
       "    <tr>\n",
       "      <th rowspan=\"2\" valign=\"top\">Freshman</th>\n",
       "      <th>Gaopeng Yang</th>\n",
       "      <td>158.9</td>\n",
       "      <td>46.0</td>\n",
       "    </tr>\n",
       "    <tr>\n",
       "      <th>Xiaoli Qian</th>\n",
       "      <td>158.0</td>\n",
       "      <td>51.0</td>\n",
       "    </tr>\n",
       "    <tr>\n",
       "      <th>Sophomore</th>\n",
       "      <th>Xiaojuan Sun</th>\n",
       "      <td>NaN</td>\n",
       "      <td>41.0</td>\n",
       "    </tr>\n",
       "  </tbody>\n",
       "</table>\n",
       "</div>"
      ],
      "text/plain": [
       "                          Height  Weight\n",
       "Grade     Name                          \n",
       "Senior    Mei Sun          188.9    89.0\n",
       "Sophomore Gaojuan You      174.0    74.0\n",
       "Freshman  Changqiang You   166.5    70.0\n",
       "Junior    Juan Xu          164.8     NaN\n",
       "Freshman  Changli Zhang    163.0    48.0\n",
       "          Qiang Chu        162.5    52.0\n",
       "Junior    Gaoqiang Qian    161.9    50.0\n",
       "Freshman  Gaopeng Yang     158.9    46.0\n",
       "          Xiaoli Qian      158.0    51.0\n",
       "Sophomore Xiaojuan Sun       NaN    41.0"
      ]
     },
     "execution_count": 21,
     "metadata": {},
     "output_type": "execute_result"
    }
   ],
   "source": [
    "# 改为降序\n",
    "df_demo.sort_values(\"Height\", ascending=False).head(10)"
   ]
  },
  {
   "cell_type": "markdown",
   "id": "4f3c00f8",
   "metadata": {},
   "source": [
    "**多列排序**\n",
    "\n",
    "在排序中，经常遇到多列排序的问题，比如在体重相同的情况下，对身高进行排序，并且保持身高降序排列，体重升序排列："
   ]
  },
  {
   "cell_type": "code",
   "execution_count": 23,
   "id": "074d8bb8",
   "metadata": {},
   "outputs": [
    {
     "data": {
      "text/html": [
       "<div>\n",
       "<style scoped>\n",
       "    .dataframe tbody tr th:only-of-type {\n",
       "        vertical-align: middle;\n",
       "    }\n",
       "\n",
       "    .dataframe tbody tr th {\n",
       "        vertical-align: top;\n",
       "    }\n",
       "\n",
       "    .dataframe thead th {\n",
       "        text-align: right;\n",
       "    }\n",
       "</style>\n",
       "<table border=\"1\" class=\"dataframe\">\n",
       "  <thead>\n",
       "    <tr style=\"text-align: right;\">\n",
       "      <th></th>\n",
       "      <th></th>\n",
       "      <th>Height</th>\n",
       "      <th>Weight</th>\n",
       "    </tr>\n",
       "    <tr>\n",
       "      <th>Grade</th>\n",
       "      <th>Name</th>\n",
       "      <th></th>\n",
       "      <th></th>\n",
       "    </tr>\n",
       "  </thead>\n",
       "  <tbody>\n",
       "    <tr>\n",
       "      <th>Sophomore</th>\n",
       "      <th>Xiaojuan Sun</th>\n",
       "      <td>NaN</td>\n",
       "      <td>41.0</td>\n",
       "    </tr>\n",
       "    <tr>\n",
       "      <th rowspan=\"2\" valign=\"top\">Freshman</th>\n",
       "      <th>Gaopeng Yang</th>\n",
       "      <td>158.9</td>\n",
       "      <td>46.0</td>\n",
       "    </tr>\n",
       "    <tr>\n",
       "      <th>Changli Zhang</th>\n",
       "      <td>163.0</td>\n",
       "      <td>48.0</td>\n",
       "    </tr>\n",
       "    <tr>\n",
       "      <th>Junior</th>\n",
       "      <th>Gaoqiang Qian</th>\n",
       "      <td>161.9</td>\n",
       "      <td>50.0</td>\n",
       "    </tr>\n",
       "    <tr>\n",
       "      <th>Freshman</th>\n",
       "      <th>Xiaoli Qian</th>\n",
       "      <td>158.0</td>\n",
       "      <td>51.0</td>\n",
       "    </tr>\n",
       "  </tbody>\n",
       "</table>\n",
       "</div>"
      ],
      "text/plain": [
       "                         Height  Weight\n",
       "Grade     Name                         \n",
       "Sophomore Xiaojuan Sun      NaN    41.0\n",
       "Freshman  Gaopeng Yang    158.9    46.0\n",
       "          Changli Zhang   163.0    48.0\n",
       "Junior    Gaoqiang Qian   161.9    50.0\n",
       "Freshman  Xiaoli Qian     158.0    51.0"
      ]
     },
     "execution_count": 23,
     "metadata": {},
     "output_type": "execute_result"
    }
   ],
   "source": [
    "df_demo.sort_values([\"Weight\", \"Height\"], ascending=[True, False]).head()"
   ]
  },
  {
   "cell_type": "markdown",
   "id": "23bd760f",
   "metadata": {},
   "source": [
    "### 索引排序\n",
    "\n",
    "用参数level指定索引层的名字或者层号\n",
    "\n",
    "需要注意的是字符串的排列顺序由字母顺序决定"
   ]
  },
  {
   "cell_type": "code",
   "execution_count": 26,
   "id": "ee425e94",
   "metadata": {},
   "outputs": [
    {
     "data": {
      "text/html": [
       "<div>\n",
       "<style scoped>\n",
       "    .dataframe tbody tr th:only-of-type {\n",
       "        vertical-align: middle;\n",
       "    }\n",
       "\n",
       "    .dataframe tbody tr th {\n",
       "        vertical-align: top;\n",
       "    }\n",
       "\n",
       "    .dataframe thead th {\n",
       "        text-align: right;\n",
       "    }\n",
       "</style>\n",
       "<table border=\"1\" class=\"dataframe\">\n",
       "  <thead>\n",
       "    <tr style=\"text-align: right;\">\n",
       "      <th></th>\n",
       "      <th></th>\n",
       "      <th>Height</th>\n",
       "      <th>Weight</th>\n",
       "    </tr>\n",
       "    <tr>\n",
       "      <th>Grade</th>\n",
       "      <th>Name</th>\n",
       "      <th></th>\n",
       "      <th></th>\n",
       "    </tr>\n",
       "  </thead>\n",
       "  <tbody>\n",
       "    <tr>\n",
       "      <th rowspan=\"5\" valign=\"top\">Freshman</th>\n",
       "      <th>Xiaoli Qian</th>\n",
       "      <td>158.0</td>\n",
       "      <td>51.0</td>\n",
       "    </tr>\n",
       "    <tr>\n",
       "      <th>Qiang Chu</th>\n",
       "      <td>162.5</td>\n",
       "      <td>52.0</td>\n",
       "    </tr>\n",
       "    <tr>\n",
       "      <th>Gaopeng Yang</th>\n",
       "      <td>158.9</td>\n",
       "      <td>46.0</td>\n",
       "    </tr>\n",
       "    <tr>\n",
       "      <th>Changqiang You</th>\n",
       "      <td>166.5</td>\n",
       "      <td>70.0</td>\n",
       "    </tr>\n",
       "    <tr>\n",
       "      <th>Changli Zhang</th>\n",
       "      <td>163.0</td>\n",
       "      <td>48.0</td>\n",
       "    </tr>\n",
       "  </tbody>\n",
       "</table>\n",
       "</div>"
      ],
      "text/plain": [
       "                         Height  Weight\n",
       "Grade    Name                          \n",
       "Freshman Xiaoli Qian      158.0    51.0\n",
       "         Qiang Chu        162.5    52.0\n",
       "         Gaopeng Yang     158.9    46.0\n",
       "         Changqiang You   166.5    70.0\n",
       "         Changli Zhang    163.0    48.0"
      ]
     },
     "execution_count": 26,
     "metadata": {},
     "output_type": "execute_result"
    }
   ],
   "source": [
    "df_demo.sort_index(level=[\"Grade\", \"Name\"], ascending=[True, False]).head()"
   ]
  },
  {
   "cell_type": "markdown",
   "id": "89953480",
   "metadata": {},
   "source": [
    "## apply方法\n",
    "\n",
    "apply的参数往往是一个以序列为输入的函数\n",
    "\n",
    "得益于传入自定义函数的处理，`apply`的自由度很高，但这是以性能为代价的。一般而言，使用`pandas`的内置函数处理和`apply`来处理同一个任务，其速度会相差较多，因此只有在确实存在自定义需求的情境下才考虑使用`apply`。"
   ]
  },
  {
   "cell_type": "code",
   "execution_count": 27,
   "id": "32c8ef16",
   "metadata": {},
   "outputs": [
    {
     "data": {
      "text/plain": [
       "Index(['School', 'Grade', 'Name', 'Gender', 'Height', 'Weight', 'Transfer'], dtype='object')"
      ]
     },
     "execution_count": 27,
     "metadata": {},
     "output_type": "execute_result"
    }
   ],
   "source": [
    "# 使用一份learn_pandas.csv的虚拟数据集，它记录了四所学校学生的体测个人信息\n",
    "df = pd.read_csv(\"./data/learn_pandas.csv\")\n",
    "# 只使用前7列\n",
    "df = df[df.columns[:7]]\n",
    "df.columns"
   ]
  },
  {
   "cell_type": "code",
   "execution_count": 33,
   "id": "aecdaa6d",
   "metadata": {},
   "outputs": [
    {
     "data": {
      "text/plain": [
       "(Height    163.218033\n",
       " Weight     55.015873\n",
       " dtype: float64,\n",
       " Height    163.218033\n",
       " Weight     55.015873\n",
       " dtype: float64)"
      ]
     },
     "execution_count": 33,
     "metadata": {},
     "output_type": "execute_result"
    }
   ],
   "source": [
    "df_demo = df[['Height', 'Weight']]\n",
    "def my_mean(x):\n",
    "    return x.mean()\n",
    "# 传入普通自定义函数\n",
    "res1 = df_demo.apply(my_mean, axis=0) # 默认按列axis=0\n",
    "# 传入lambda\n",
    "res2 = df_demo.apply(lambda x : x.mean(), axis=0)\n",
    "res1, res2\n",
    "\n",
    "# 其中，x就指代被调用的df_demo表中逐个输入的序列"
   ]
  },
  {
   "cell_type": "markdown",
   "id": "c9e1c302",
   "metadata": {},
   "source": [
    "若指定axis=1，那么每次传入函数的就是行元素组成的Series，其结果与之前的逐行均值结果一致"
   ]
  },
  {
   "cell_type": "code",
   "execution_count": 36,
   "id": "66783b60",
   "metadata": {},
   "outputs": [
    {
     "data": {
      "text/plain": [
       "0    102.45\n",
       "1    118.25\n",
       "2    138.95\n",
       "3     41.00\n",
       "4    124.00\n",
       "dtype: float64"
      ]
     },
     "execution_count": 36,
     "metadata": {},
     "output_type": "execute_result"
    }
   ],
   "source": [
    "df_demo.apply(lambda x: x.mean(), axis=1).head()"
   ]
  },
  {
   "cell_type": "markdown",
   "id": "77abc85c",
   "metadata": {},
   "source": [
    "## 四、窗口对象\n",
    "`pandas`中有3类窗口，分别是滑动窗口`rolling`、扩张窗口`expanding`以及指数加权窗口`ewm`。"
   ]
  },
  {
   "cell_type": "markdown",
   "id": "8936ab0f",
   "metadata": {},
   "source": [
    "### 滑窗对象\n",
    "要使用滑窗函数，就必须先要对一个序列使用`.rolling`得到滑窗对象，其最重要的参数为窗口大小`window`。"
   ]
  },
  {
   "cell_type": "code",
   "execution_count": 38,
   "id": "67e7ccd6",
   "metadata": {},
   "outputs": [
    {
     "data": {
      "text/plain": [
       "Rolling [window=3,center=False,axis=0,method=single]"
      ]
     },
     "execution_count": 38,
     "metadata": {},
     "output_type": "execute_result"
    }
   ],
   "source": [
    "s = pd.Series([1,2,3,4,5])\n",
    "# 得到滑窗对象\n",
    "roller = s.rolling(window=3)\n",
    "roller"
   ]
  },
  {
   "attachments": {
    "image.png": {
     "image/png": "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"
    }
   },
   "cell_type": "markdown",
   "id": "5e137a7b",
   "metadata": {},
   "source": [
    "滑动窗口图示：\n",
    "![image.png](attachment:image.png)"
   ]
  },
  {
   "cell_type": "code",
   "execution_count": 40,
   "id": "13c1eefb",
   "metadata": {},
   "outputs": [
    {
     "data": {
      "text/plain": [
       "0    NaN\n",
       "1    NaN\n",
       "2    2.0\n",
       "3    3.0\n",
       "4    4.0\n",
       "dtype: float64"
      ]
     },
     "execution_count": 40,
     "metadata": {},
     "output_type": "execute_result"
    }
   ],
   "source": [
    "# 得到了滑窗对象后，能够使用相应的聚合函数进行计算\n",
    "roller.mean()"
   ]
  },
  {
   "cell_type": "code",
   "execution_count": 41,
   "id": "0db132fe",
   "metadata": {},
   "outputs": [
    {
     "data": {
      "text/plain": [
       "0     NaN\n",
       "1     NaN\n",
       "2     6.0\n",
       "3     9.0\n",
       "4    12.0\n",
       "dtype: float64"
      ]
     },
     "execution_count": 41,
     "metadata": {},
     "output_type": "execute_result"
    }
   ],
   "source": [
    "roller.sum()"
   ]
  },
  {
   "cell_type": "code",
   "execution_count": 43,
   "id": "c399a066",
   "metadata": {},
   "outputs": [
    {
     "data": {
      "text/plain": [
       "(0     NaN\n",
       " 1     NaN\n",
       " 2     2.5\n",
       " 3     7.0\n",
       " 4    12.0\n",
       " dtype: float64,\n",
       " 0         NaN\n",
       " 1         NaN\n",
       " 2    0.944911\n",
       " 3    0.970725\n",
       " 4    0.995402\n",
       " dtype: float64)"
      ]
     },
     "execution_count": 43,
     "metadata": {},
     "output_type": "execute_result"
    }
   ],
   "source": [
    "# 滑动相关系数或滑动协方差的计算\n",
    "s2 = pd.Series([1,2,6,16,30])\n",
    "roller.cov(s2), roller.corr(s2)"
   ]
  },
  {
   "cell_type": "markdown",
   "id": "cb575bbf",
   "metadata": {},
   "source": [
    "还支持使用`apply`传入自定义函数，其传入值是对应窗口的`Series`，例如上述的均值函数可以等效表示"
   ]
  },
  {
   "cell_type": "code",
   "execution_count": 46,
   "id": "499de9f3",
   "metadata": {},
   "outputs": [
    {
     "name": "stdout",
     "output_type": "stream",
     "text": [
      "0    NaN\n",
      "1    NaN\n",
      "2    2.0\n",
      "3    3.0\n",
      "4    4.0\n",
      "dtype: float64 0    NaN\n",
      "1    NaN\n",
      "2    2.0\n",
      "3    3.0\n",
      "4    4.0\n",
      "dtype: float64\n"
     ]
    }
   ],
   "source": [
    "s = pd.Series([1,2,3,4,5])\n",
    "# 得到滑窗对象\n",
    "roller = s.rolling(window=3)\n",
    "# 使用函数计算窗口均值\n",
    "res = roller.mean()\n",
    "# 使用自定义函数计算窗口的均值,其中x是此次传入的窗口内的值\n",
    "equal_res = roller.apply(lambda x: x.mean())\n",
    "print(res, equal_res)\n",
    "# 上述两个方法结果等价"
   ]
  },
  {
   "cell_type": "markdown",
   "id": "114705d9",
   "metadata": {},
   "source": [
    "### 类滑窗函数\n",
    "\n",
    "**类滑窗函数的功能可以用窗口大小为`n+1`的`rolling`方法等价代替**\n",
    "\n",
    "`shift, diff, pct_change`是一组类滑窗函数，它们的公共参数为`periods=n`，默认为1，分别表示取向前第`n`个元素的值、与向前第`n`个元素做差（与`Numpy`中不同，后者表示`n`阶差分）、与向前第`n`个元素相比计算增长率。这里的`n`可以为负，表示反方向的类似操作。"
   ]
  },
  {
   "cell_type": "code",
   "execution_count": 48,
   "id": "4ea6ce55",
   "metadata": {},
   "outputs": [
    {
     "data": {
      "text/plain": [
       "0    NaN\n",
       "1    NaN\n",
       "2    1.0\n",
       "3    3.0\n",
       "4    6.0\n",
       "dtype: float64"
      ]
     },
     "execution_count": 48,
     "metadata": {},
     "output_type": "execute_result"
    }
   ],
   "source": [
    "s = pd.Series([1,3,6,10,15])\n",
    "# 取向前第2个元素的值\n",
    "s.shift(2)"
   ]
  },
  {
   "cell_type": "code",
   "execution_count": 50,
   "id": "34e24392",
   "metadata": {},
   "outputs": [
    {
     "data": {
      "text/plain": [
       "0    NaN\n",
       "1    NaN\n",
       "2    5.0\n",
       "3    7.0\n",
       "4    9.0\n",
       "dtype: float64"
      ]
     },
     "execution_count": 50,
     "metadata": {},
     "output_type": "execute_result"
    }
   ],
   "source": [
    "# 与向前第2个元素做差\n",
    "s.diff(2)"
   ]
  },
  {
   "cell_type": "code",
   "execution_count": 53,
   "id": "832adfe4",
   "metadata": {},
   "outputs": [
    {
     "data": {
      "text/plain": [
       "0         NaN\n",
       "1    2.000000\n",
       "2    1.000000\n",
       "3    0.666667\n",
       "4    0.500000\n",
       "dtype: float64"
      ]
     },
     "execution_count": 53,
     "metadata": {},
     "output_type": "execute_result"
    }
   ],
   "source": [
    "# 与向前第1个元素相比计算增长率\n",
    "s.pct_change()"
   ]
  },
  {
   "cell_type": "code",
   "execution_count": 55,
   "id": "08e5fc80",
   "metadata": {},
   "outputs": [
    {
     "data": {
      "text/plain": [
       "0     3.0\n",
       "1     6.0\n",
       "2    10.0\n",
       "3    15.0\n",
       "4     NaN\n",
       "dtype: float64"
      ]
     },
     "execution_count": 55,
     "metadata": {},
     "output_type": "execute_result"
    }
   ],
   "source": [
    "# 取向后第1个元素的值\n",
    "s.shift(-1)"
   ]
  },
  {
   "cell_type": "markdown",
   "id": "1330b1d2",
   "metadata": {},
   "source": [
    "**类滑窗函数的功能可以用窗口大小为`n+1`的`rolling`方法等价代替**"
   ]
  },
  {
   "cell_type": "code",
   "execution_count": 57,
   "id": "9f388f05",
   "metadata": {},
   "outputs": [],
   "source": [
    "s = pd.Series([1,3,6,10,15])\n",
    "roller = s.rolling(window=3)"
   ]
  },
  {
   "cell_type": "code",
   "execution_count": 58,
   "id": "570a9b34",
   "metadata": {},
   "outputs": [
    {
     "data": {
      "text/plain": [
       "0    NaN\n",
       "1    NaN\n",
       "2    1.0\n",
       "3    3.0\n",
       "4    6.0\n",
       "dtype: float64"
      ]
     },
     "execution_count": 58,
     "metadata": {},
     "output_type": "execute_result"
    }
   ],
   "source": [
    "s.shift(2)"
   ]
  },
  {
   "cell_type": "code",
   "execution_count": 60,
   "id": "70efbd72",
   "metadata": {},
   "outputs": [
    {
     "data": {
      "text/plain": [
       "0    NaN\n",
       "1    NaN\n",
       "2    1.0\n",
       "3    3.0\n",
       "4    6.0\n",
       "dtype: float64"
      ]
     },
     "execution_count": 60,
     "metadata": {},
     "output_type": "execute_result"
    }
   ],
   "source": [
    "# 实现s.shift(2)\n",
    "roller.apply(lambda x: list(x)[0])# 将窗口内的值转换为列表，只取第一个元素"
   ]
  },
  {
   "cell_type": "code",
   "execution_count": 59,
   "id": "2df30175",
   "metadata": {},
   "outputs": [
    {
     "data": {
      "text/plain": [
       "0    NaN\n",
       "1    NaN\n",
       "2    5.0\n",
       "3    7.0\n",
       "4    9.0\n",
       "dtype: float64"
      ]
     },
     "execution_count": 59,
     "metadata": {},
     "output_type": "execute_result"
    }
   ],
   "source": [
    "s.diff(2)"
   ]
  },
  {
   "cell_type": "code",
   "execution_count": 64,
   "id": "28670625",
   "metadata": {},
   "outputs": [
    {
     "data": {
      "text/plain": [
       "0    NaN\n",
       "1    NaN\n",
       "2    5.0\n",
       "3    7.0\n",
       "4    9.0\n",
       "dtype: float64"
      ]
     },
     "execution_count": 64,
     "metadata": {},
     "output_type": "execute_result"
    }
   ],
   "source": [
    "# 实现s.diff(2)\n",
    "roller.apply(lambda x : list(x)[2]-list(x)[0])"
   ]
  },
  {
   "cell_type": "code",
   "execution_count": 65,
   "id": "06fc2faa",
   "metadata": {},
   "outputs": [
    {
     "data": {
      "text/plain": [
       "0         NaN\n",
       "1    2.000000\n",
       "2    1.000000\n",
       "3    0.666667\n",
       "4    0.500000\n",
       "dtype: float64"
      ]
     },
     "execution_count": 65,
     "metadata": {},
     "output_type": "execute_result"
    }
   ],
   "source": [
    "s.pct_change()"
   ]
  },
  {
   "cell_type": "code",
   "execution_count": 68,
   "id": "c3aaf049",
   "metadata": {},
   "outputs": [
    {
     "data": {
      "text/plain": [
       "0         NaN\n",
       "1    2.000000\n",
       "2    1.000000\n",
       "3    0.666667\n",
       "4    0.500000\n",
       "dtype: float64"
      ]
     },
     "execution_count": 68,
     "metadata": {},
     "output_type": "execute_result"
    }
   ],
   "source": [
    "# 实现s.pct_change()\n",
    "def my_pct(x):\n",
    "    L = list(x)\n",
    "    # 注意窗口大小是2\n",
    "    return L[1]/L[0] - 1\n",
    "s = pd.Series([1,3,6,10,15])\n",
    "roller = s.rolling(window=2)\n",
    "roller.apply(my_pct)"
   ]
  },
  {
   "cell_type": "markdown",
   "id": "f23d06cb",
   "metadata": {},
   "source": [
    "### 扩张窗口\n",
    "\n",
    "扩张窗口又称累计窗口，可以理解为一个动态长度的窗口，其窗口的大小就是从序列开始处到具体操作的对应位置，其使用的聚合函数会作用于这些逐步扩张的窗口上。具体地说，设序列为a1, a2, a3, a4，则其每个位置对应的窗口即\\[a1\\]、\\[a1, a2\\]、\\[a1, a2, a3\\]、\\[a1, a2, a3, a4\\]。"
   ]
  },
  {
   "cell_type": "code",
   "execution_count": 69,
   "id": "7e4511f5",
   "metadata": {},
   "outputs": [
    {
     "data": {
      "text/plain": [
       "0    1.000000\n",
       "1    2.000000\n",
       "2    3.333333\n",
       "3    5.000000\n",
       "dtype: float64"
      ]
     },
     "execution_count": 69,
     "metadata": {},
     "output_type": "execute_result"
    }
   ],
   "source": [
    "s = pd.Series([1, 3, 6, 10])\n",
    "s.expanding().mean()"
   ]
  },
  {
   "cell_type": "markdown",
   "id": "a13e79de",
   "metadata": {},
   "source": [
    "### 指数加权窗口"
   ]
  },
  {
   "cell_type": "markdown",
   "id": "b2d7c079",
   "metadata": {},
   "source": [
    "1. 作为扩张窗口的`ewm`窗口\n",
    "\n",
    "在扩张窗口中，用户可以使用各类函数进行历史的累计指标统计，但这些内置的统计函数往往把窗口中的所有元素赋予了同样的权重。事实上，可以给出不同的权重来赋给窗口中的元素，指数加权窗口就是这样一种特殊的扩张窗口。\n",
    "\n",
    "其中，最重要的参数是`alpha`，它决定了默认情况下的窗口权重为$w_i=(1−\\alpha)^i,i\\in\\{0,1,...,t\\}$，其中$i=t$表示当前元素，$i=0$表示序列的第一个元素。\n",
    "\n",
    "从权重公式可以看出，离开当前值越远则权重越小，若记原序列为$x$，更新后的当前元素为$y_t$，此时通过加权公式归一化后可知：\n",
    "\n",
    "$$\n",
    "\\begin{split}y_t &=\\frac{\\sum_{i=0}^{t} w_i x_{t-i}}{\\sum_{i=0}^{t} w_i} \\\\\n",
    "&=\\frac{x_t + (1 - \\alpha)x_{t-1} + (1 - \\alpha)^2 x_{t-2} + ...\n",
    "+ (1 - \\alpha)^{t} x_{0}}{1 + (1 - \\alpha) + (1 - \\alpha)^2 + ...\n",
    "+ (1 - \\alpha)^{t}}\\\\\\end{split}\n",
    "$$\n"
   ]
  },
  {
   "cell_type": "code",
   "execution_count": 76,
   "id": "df52109e",
   "metadata": {},
   "outputs": [
    {
     "data": {
      "text/plain": [
       "0   -1\n",
       "1   -1\n",
       "2   -2\n",
       "3   -2\n",
       "4   -2\n",
       "5   -1\n",
       "dtype: int32"
      ]
     },
     "execution_count": 76,
     "metadata": {},
     "output_type": "execute_result"
    }
   ],
   "source": [
    "import numpy as np\n",
    "np.random.seed(0)\n",
    "s = pd.Series(np.random.randint(-1,2,6).cumsum())\n",
    "s"
   ]
  },
  {
   "cell_type": "code",
   "execution_count": 78,
   "id": "e0c2e839",
   "metadata": {},
   "outputs": [
    {
     "data": {
      "text/plain": [
       "0   -1.000000\n",
       "1   -1.000000\n",
       "2   -1.409836\n",
       "3   -1.609756\n",
       "4   -1.725845\n",
       "5   -1.529101\n",
       "dtype: float64"
      ]
     },
     "execution_count": 78,
     "metadata": {},
     "output_type": "execute_result"
    }
   ],
   "source": [
    "# 对于`Series`而言，可以用`ewm`对象如下计算指数平滑后的序列\n",
    "s.ewm(alpha=0.2).mean()"
   ]
=======
   "execution_count": null,
   "id": "01b401dd",
   "metadata": {},
   "outputs": [],
   "source": []
>>>>>>> 49649961e986bc4151d7d882b15d384ddd906785
  }
 ],
 "metadata": {
  "kernelspec": {
   "display_name": "Python 3 (ipykernel)",
   "language": "python",
   "name": "python3"
  },
  "language_info": {
   "codemirror_mode": {
    "name": "ipython",
    "version": 3
   },
   "file_extension": ".py",
   "mimetype": "text/x-python",
   "name": "python",
   "nbconvert_exporter": "python",
   "pygments_lexer": "ipython3",
   "version": "3.9.7"
  },
  "toc": {
   "base_numbering": 1,
   "nav_menu": {},
   "number_sections": true,
   "sideBar": true,
   "skip_h1_title": false,
   "title_cell": "Table of Contents",
   "title_sidebar": "Contents",
   "toc_cell": false,
   "toc_position": {},
   "toc_section_display": true,
   "toc_window_display": false
  }
 },
 "nbformat": 4,
 "nbformat_minor": 5
}
