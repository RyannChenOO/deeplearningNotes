{
 "cells": [
  {
   "cell_type": "code",
   "execution_count": 2,
   "id": "c1f77820",
   "metadata": {
    "ExecuteTime": {
     "end_time": "2022-08-22T10:39:39.085235Z",
     "start_time": "2022-08-22T10:39:39.076264Z"
    }
   },
   "outputs": [],
   "source": [
    "import numpy as np"
   ]
  },
  {
   "cell_type": "markdown",
   "id": "b4dfc2b1",
   "metadata": {},
   "source": [
    "# one-dimensional vector(1-d array)"
   ]
  },
  {
   "cell_type": "code",
   "execution_count": 4,
   "id": "3f3e8493",
   "metadata": {
    "ExecuteTime": {
     "end_time": "2022-08-22T10:40:09.955526Z",
     "start_time": "2022-08-22T10:40:09.936616Z"
    }
   },
   "outputs": [
    {
     "name": "stdout",
     "output_type": "stream",
     "text": [
      "[0. 0. 0. 0.] (4,) float64\n",
      "[0. 0. 0. 0.] (4,) float64\n"
     ]
    }
   ],
   "source": [
    "# 以下两种方式声明的维度都一样\n",
    "# numnpy默认使用的类型是float64\n",
    "a = np.zeros(4)\n",
    "print(a,a.shape,a.dtype)\n",
    "\n",
    "b = np.zeros((4,))\n",
    "print(b,b.shape,b.dtype)"
   ]
  },
  {
   "cell_type": "code",
   "execution_count": 6,
   "id": "52982530",
   "metadata": {
    "ExecuteTime": {
     "end_time": "2022-08-22T10:40:17.142541Z",
     "start_time": "2022-08-22T10:40:17.136406Z"
    }
   },
   "outputs": [
    {
     "name": "stdout",
     "output_type": "stream",
     "text": [
      "[0.42021834 0.10088574 0.89881495 0.09204961] (4,) float64\n",
      "[0.84795515 0.54863655 0.7716723  0.49411964] (4,) float64\n"
     ]
    }
   ],
   "source": [
    "c = np.random.random_sample(4)\n",
    "print(c,c.shape,c.dtype)\n",
    "\n",
    "d = np.random.rand(4)\n",
    "print(d,d.shape,d.dtype)"
   ]
  },
  {
   "cell_type": "code",
   "execution_count": 8,
   "id": "32d1afe4",
   "metadata": {
    "ExecuteTime": {
     "end_time": "2022-08-22T10:40:24.703348Z",
     "start_time": "2022-08-22T10:40:24.689735Z"
    }
   },
   "outputs": [
    {
     "name": "stdout",
     "output_type": "stream",
     "text": [
      "[0 1 2 3] (4,) int32\n",
      "[0. 1. 2. 3.] (4,) float64\n"
     ]
    }
   ],
   "source": [
    "e = np.arange(4) # 默认是int32\n",
    "print(e,e.shape,e.dtype)\n",
    "\n",
    "f = np.arange(4.) # 指定使用float64\n",
    "print(f, f.shape, f.dtype)"
   ]
  },
  {
   "cell_type": "code",
   "execution_count": 10,
   "id": "57557412",
   "metadata": {
    "ExecuteTime": {
     "end_time": "2022-08-22T10:40:30.118075Z",
     "start_time": "2022-08-22T10:40:30.111789Z"
    }
   },
   "outputs": [
    {
     "name": "stdout",
     "output_type": "stream",
     "text": [
      "[5 4 3 2] (4,) int32\n",
      "[5. 4. 3. 2.] (4,) float64\n"
     ]
    }
   ],
   "source": [
    "g = np.array([5, 4, 3, 2])\n",
    "print(g, g.shape, g.dtype)\n",
    "\n",
    "h = np.array([5., 4, 3, 2]) # 所有值都变为float64\n",
    "print(h, h.shape, h.dtype)"
   ]
  },
  {
   "cell_type": "markdown",
   "id": "7b97245b",
   "metadata": {},
   "source": [
    "# 两个不同的一维数组"
   ]
  },
  {
   "cell_type": "code",
   "execution_count": 20,
   "id": "c2e19780",
   "metadata": {
    "ExecuteTime": {
     "end_time": "2022-08-22T10:50:06.122668Z",
     "start_time": "2022-08-22T10:50:06.110039Z"
    }
   },
   "outputs": [
    {
     "name": "stdout",
     "output_type": "stream",
     "text": [
      "[[1]\n",
      " [2]\n",
      " [3]\n",
      " [4]] (4, 1)\n"
     ]
    }
   ],
   "source": [
    "# show common Course 1 example\n",
    "X = np.array([[1], [2], [3], [4]]) # X_train of dimension (m,n)\n",
    "print(X,X.shape)"
   ]
  },
  {
   "cell_type": "code",
   "execution_count": 21,
   "id": "37d1b687",
   "metadata": {
    "ExecuteTime": {
     "end_time": "2022-08-22T10:50:11.081187Z",
     "start_time": "2022-08-22T10:50:11.071986Z"
    }
   },
   "outputs": [
    {
     "name": "stdout",
     "output_type": "stream",
     "text": [
      "[0 1 2 3] (4,)\n"
     ]
    }
   ],
   "source": [
    "e = np.arange(4) # 默认是int32\n",
    "print(e,e.shape)\n"
   ]
  },
  {
   "cell_type": "markdown",
   "id": "63dec401",
   "metadata": {},
   "source": [
    "# 常见异常"
   ]
  },
  {
   "cell_type": "markdown",
   "id": "78b9666f",
   "metadata": {},
   "source": [
    "## 索引越界"
   ]
  },
  {
   "cell_type": "code",
   "execution_count": 12,
   "id": "44449fa6",
   "metadata": {
    "ExecuteTime": {
     "end_time": "2022-08-22T10:41:09.160573Z",
     "start_time": "2022-08-22T10:41:09.140755Z"
    }
   },
   "outputs": [
    {
     "name": "stdout",
     "output_type": "stream",
     "text": [
      "The error message you'll see is:\n",
      "index 10 is out of bounds for axis 0 with size 4\n"
     ]
    }
   ],
   "source": [
    "# indexs must be within the range of the vector or they will produce and error\n",
    "try:\n",
    "    c = a[10]\n",
    "except Exception as e:\n",
    "    print(\"The error message you'll see is:\")\n",
    "    print(e)"
   ]
  },
  {
   "cell_type": "markdown",
   "id": "788f8d29",
   "metadata": {},
   "source": [
    "## 维度不匹配"
   ]
  },
  {
   "cell_type": "code",
   "execution_count": 14,
   "id": "e4479110",
   "metadata": {
    "ExecuteTime": {
     "end_time": "2022-08-22T10:41:38.784465Z",
     "start_time": "2022-08-22T10:41:38.766632Z"
    }
   },
   "outputs": [
    {
     "name": "stdout",
     "output_type": "stream",
     "text": [
      "Binary operators work element wise: [0 0 6 8]\n",
      "The error message you'll see is:\n",
      "operands could not be broadcast together with shapes (4,) (2,) \n"
     ]
    }
   ],
   "source": [
    "a = np.array([1,2,3,4])\n",
    "b = np.array([-1,-2,3,4])\n",
    "print(f\"Binary operators work element wise: {a + b}\")\n",
    "\n",
    "# try a mismatched vector operation\n",
    "c = np.array([1,2])\n",
    "try:\n",
    "    d = a + c\n",
    "except Exception as e:\n",
    "    print(\"The error message you'll see is:\")\n",
    "    print(e)"
   ]
  },
  {
   "cell_type": "code",
   "execution_count": null,
   "id": "1069127c",
   "metadata": {},
   "outputs": [],
   "source": []
  }
 ],
 "metadata": {
  "kernelspec": {
   "display_name": "Python 3 (ipykernel)",
   "language": "python",
   "name": "python3"
  },
  "language_info": {
   "codemirror_mode": {
    "name": "ipython",
    "version": 3
   },
   "file_extension": ".py",
   "mimetype": "text/x-python",
   "name": "python",
   "nbconvert_exporter": "python",
   "pygments_lexer": "ipython3",
   "version": "3.9.7"
  },
  "toc": {
   "base_numbering": 1,
   "nav_menu": {},
   "number_sections": true,
   "sideBar": true,
   "skip_h1_title": false,
   "title_cell": "Table of Contents",
   "title_sidebar": "Contents",
   "toc_cell": false,
   "toc_position": {},
   "toc_section_display": true,
   "toc_window_display": false
  },
  "varInspector": {
   "cols": {
    "lenName": 16,
    "lenType": 16,
    "lenVar": 40
   },
   "kernels_config": {
    "python": {
     "delete_cmd_postfix": "",
     "delete_cmd_prefix": "del ",
     "library": "var_list.py",
     "varRefreshCmd": "print(var_dic_list())"
    },
    "r": {
     "delete_cmd_postfix": ") ",
     "delete_cmd_prefix": "rm(",
     "library": "var_list.r",
     "varRefreshCmd": "cat(var_dic_list()) "
    }
   },
   "types_to_exclude": [
    "module",
    "function",
    "builtin_function_or_method",
    "instance",
    "_Feature"
   ],
   "window_display": false
  }
 },
 "nbformat": 4,
 "nbformat_minor": 5
}
