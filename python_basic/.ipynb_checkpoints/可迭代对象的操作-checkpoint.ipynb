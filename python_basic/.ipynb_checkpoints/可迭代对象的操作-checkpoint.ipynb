{
 "cells": [
  {
   "cell_type": "markdown",
   "id": "00a468e0",
   "metadata": {},
   "source": [
    "# zip对象与enumerate方法\n",
    "\n",
    "zip函数能够把多个可迭代对象打包成一个元组构成的可迭代对象，它返回了一个zip对象，通过tuple, list可以得到相应的打包结果"
   ]
  },
  {
   "cell_type": "code",
   "execution_count": 7,
   "id": "5862febe",
   "metadata": {
    "ExecuteTime": {
     "end_time": "2022-08-23T01:51:54.161525Z",
     "start_time": "2022-08-23T01:51:54.150265Z"
    }
   },
   "outputs": [
    {
     "data": {
      "text/plain": [
       "<zip at 0x1e4e3035a80>"
      ]
     },
     "execution_count": 7,
     "metadata": {},
     "output_type": "execute_result"
    }
   ],
   "source": [
    "# 先创建多个可迭代对象\n",
    "L1, L2, L3 = list(\"abc\"), list(\"def\"), list(\"hij\")\n",
    "# 返回一个zip对象:把多个可迭代对象打包成一个元组构成的可迭代对象\n",
    "z = zip(L1, L2, L3)\n",
    "z"
   ]
  },
  {
   "cell_type": "code",
   "execution_count": 8,
   "id": "762489fd",
   "metadata": {
    "ExecuteTime": {
     "end_time": "2022-08-23T01:51:55.974350Z",
     "start_time": "2022-08-23T01:51:55.958381Z"
    }
   },
   "outputs": [
    {
     "data": {
      "text/plain": [
       "[('a', 'd', 'h'), ('b', 'e', 'i'), ('c', 'f', 'j')]"
      ]
     },
     "execution_count": 8,
     "metadata": {},
     "output_type": "execute_result"
    }
   ],
   "source": [
    "# 通过tuple, list可以得到相应的打包结果\n",
    "list(z)"
   ]
  },
  {
   "cell_type": "code",
   "execution_count": 10,
   "id": "377a0d05",
   "metadata": {
    "ExecuteTime": {
     "end_time": "2022-08-23T01:52:30.303471Z",
     "start_time": "2022-08-23T01:52:30.294374Z"
    }
   },
   "outputs": [
    {
     "data": {
      "text/plain": [
       "()"
      ]
     },
     "execution_count": 10,
     "metadata": {},
     "output_type": "execute_result"
    }
   ],
   "source": [
    "# 注意只能使用一次，此时再使用时为空\n",
    "tuple(z)"
   ]
  },
  {
   "cell_type": "code",
   "execution_count": 12,
   "id": "c1b88c4b",
   "metadata": {
    "ExecuteTime": {
     "end_time": "2022-08-23T01:52:50.823376Z",
     "start_time": "2022-08-23T01:52:50.805419Z"
    }
   },
   "outputs": [
    {
     "data": {
      "text/plain": [
       "(('a', 'd', 'h'), ('b', 'e', 'i'), ('c', 'f', 'j'))"
      ]
     },
     "execution_count": 12,
     "metadata": {},
     "output_type": "execute_result"
    }
   ],
   "source": [
    "# 先创建多个可迭代对象\n",
    "L1, L2, L3 = list(\"abc\"), list(\"def\"), list(\"hij\")\n",
    "# 返回一个zip对象:把多个可迭代对象打包成一个元组构成的可迭代对象\n",
    "tuple(zip(L1, L2, L3))"
   ]
  },
  {
   "cell_type": "markdown",
   "id": "a8e021d4",
   "metadata": {},
   "source": [
    "当需要对两个列表建立字典映射时，可以利用zip对象："
   ]
  },
  {
   "cell_type": "code",
   "execution_count": 19,
   "id": "be369d11",
   "metadata": {
    "ExecuteTime": {
     "end_time": "2022-08-23T01:58:25.419345Z",
     "start_time": "2022-08-23T01:58:25.412816Z"
    }
   },
   "outputs": [
    {
     "data": {
      "text/plain": [
       "{'a': 'apple', 'b': 'banana', 'c': 'calener'}"
      ]
     },
     "execution_count": 19,
     "metadata": {},
     "output_type": "execute_result"
    }
   ],
   "source": [
    "L1 = list(\"abc\")\n",
    "L2 = [\"apple\", \"banana\", \"calener\"]\n",
    "dict(zip(L1, L2))"
   ]
  },
  {
   "cell_type": "markdown",
   "id": "85c124c1",
   "metadata": {},
   "source": [
    "往往会在循环迭代的时候使用到zip函数"
   ]
  },
  {
   "cell_type": "code",
   "execution_count": 14,
   "id": "cc3534e6",
   "metadata": {
    "ExecuteTime": {
     "end_time": "2022-08-23T01:53:38.748949Z",
     "start_time": "2022-08-23T01:53:38.740414Z"
    }
   },
   "outputs": [
    {
     "name": "stdout",
     "output_type": "stream",
     "text": [
      "a d h\n",
      "b e i\n",
      "c f j\n"
     ]
    }
   ],
   "source": [
    "for i,j,k in zip(L1, L2, L3):\n",
    "    print(i, j, k)"
   ]
  },
  {
   "cell_type": "markdown",
   "id": "b3faa363",
   "metadata": {},
   "source": [
    "绑定迭代元素的遍历序号"
   ]
  },
  {
   "cell_type": "code",
   "execution_count": 17,
   "id": "87f4eb78",
   "metadata": {
    "ExecuteTime": {
     "end_time": "2022-08-23T01:55:54.952366Z",
     "start_time": "2022-08-23T01:55:54.948432Z"
    }
   },
   "outputs": [
    {
     "name": "stdout",
     "output_type": "stream",
     "text": [
      "0 a\n",
      "1 b\n",
      "2 c\n",
      "3 d\n"
     ]
    }
   ],
   "source": [
    "# 使用zip\n",
    "L = list(\"abcd\")\n",
    "for index, value in zip(range(len(L)), L):\n",
    "    print(index, value)"
   ]
  },
  {
   "cell_type": "markdown",
   "id": "80940f8e",
   "metadata": {},
   "source": [
    "enumerate是一种特殊的打包，它可以在迭代时绑定迭代元素的遍历序号"
   ]
  },
  {
   "cell_type": "code",
   "execution_count": 16,
   "id": "809434e7",
   "metadata": {
    "ExecuteTime": {
     "end_time": "2022-08-23T01:54:35.810239Z",
     "start_time": "2022-08-23T01:54:35.792317Z"
    }
   },
   "outputs": [
    {
     "name": "stdout",
     "output_type": "stream",
     "text": [
      "0 a\n",
      "1 b\n",
      "2 c\n",
      "3 d\n"
     ]
    }
   ],
   "source": [
    "L = list(\"abcd\")\n",
    "\n",
    "for index, value in enumerate(L):\n",
    "    print(index, value)"
   ]
  },
  {
   "cell_type": "markdown",
   "id": "045c5ca8",
   "metadata": {},
   "source": [
    "Python提供了*操作符和zip联合使用来进行解压操作"
   ]
  },
  {
   "cell_type": "code",
   "execution_count": 26,
   "id": "31202fd8",
   "metadata": {
    "ExecuteTime": {
     "end_time": "2022-08-23T02:02:26.150850Z",
     "start_time": "2022-08-23T02:02:26.132302Z"
    }
   },
   "outputs": [
    {
     "data": {
      "text/plain": [
       "[('a', 'apple'), ('b', 'banana'), ('c', 'calener')]"
      ]
     },
     "execution_count": 26,
     "metadata": {},
     "output_type": "execute_result"
    }
   ],
   "source": [
    "L1 = list(\"abc\")\n",
    "L2 = [\"apple\", \"banana\", \"calener\"]\n",
    "zipped = list(zip(L1, L2))\n",
    "zipped"
   ]
  },
  {
   "cell_type": "code",
   "execution_count": 27,
   "id": "68d3c9e4",
   "metadata": {
    "ExecuteTime": {
     "end_time": "2022-08-23T02:02:28.090360Z",
     "start_time": "2022-08-23T02:02:28.083085Z"
    }
   },
   "outputs": [
    {
     "data": {
      "text/plain": [
       "<zip at 0x1e4df096600>"
      ]
     },
     "execution_count": 27,
     "metadata": {},
     "output_type": "execute_result"
    }
   ],
   "source": [
    "# 解压之前绑定的列表\n",
    "z = zip(*zipped)\n",
    "z"
   ]
  },
  {
   "cell_type": "code",
   "execution_count": 28,
   "id": "e5ea45e7",
   "metadata": {
    "ExecuteTime": {
     "end_time": "2022-08-23T02:02:29.914679Z",
     "start_time": "2022-08-23T02:02:29.906981Z"
    }
   },
   "outputs": [
    {
     "data": {
      "text/plain": [
       "[('a', 'b', 'c'), ('apple', 'banana', 'calener')]"
      ]
     },
     "execution_count": 28,
     "metadata": {},
     "output_type": "execute_result"
    }
   ],
   "source": [
    "# 两个元组分别对应之前绑定的列表\n",
    "list(z)"
   ]
  },
  {
   "cell_type": "code",
   "execution_count": null,
   "id": "c9c810d5",
   "metadata": {},
   "outputs": [],
   "source": []
  },
  {
   "cell_type": "code",
   "execution_count": null,
   "id": "020c22ac",
   "metadata": {},
   "outputs": [],
   "source": []
  }
 ],
 "metadata": {
  "kernelspec": {
   "display_name": "Python 3 (ipykernel)",
   "language": "python",
   "name": "python3"
  },
  "language_info": {
   "codemirror_mode": {
    "name": "ipython",
    "version": 3
   },
   "file_extension": ".py",
   "mimetype": "text/x-python",
   "name": "python",
   "nbconvert_exporter": "python",
   "pygments_lexer": "ipython3",
   "version": "3.9.7"
  },
  "toc": {
   "base_numbering": 1,
   "nav_menu": {},
   "number_sections": true,
   "sideBar": true,
   "skip_h1_title": false,
   "title_cell": "Table of Contents",
   "title_sidebar": "Contents",
   "toc_cell": false,
   "toc_position": {},
   "toc_section_display": true,
   "toc_window_display": false
  },
  "varInspector": {
   "cols": {
    "lenName": 16,
    "lenType": 16,
    "lenVar": 40
   },
   "kernels_config": {
    "python": {
     "delete_cmd_postfix": "",
     "delete_cmd_prefix": "del ",
     "library": "var_list.py",
     "varRefreshCmd": "print(var_dic_list())"
    },
    "r": {
     "delete_cmd_postfix": ") ",
     "delete_cmd_prefix": "rm(",
     "library": "var_list.r",
     "varRefreshCmd": "cat(var_dic_list()) "
    }
   },
   "types_to_exclude": [
    "module",
    "function",
    "builtin_function_or_method",
    "instance",
    "_Feature"
   ],
   "window_display": false
  }
 },
 "nbformat": 4,
 "nbformat_minor": 5
}
