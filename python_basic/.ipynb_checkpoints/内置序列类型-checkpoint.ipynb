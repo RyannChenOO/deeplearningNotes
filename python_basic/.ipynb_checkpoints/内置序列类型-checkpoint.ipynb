{
 "cells": [
  {
   "cell_type": "markdown",
   "id": "d1045a9c",
   "metadata": {},
   "source": [
    "# 内置序列类型概述"
   ]
  },
  {
   "cell_type": "markdown",
   "id": "5156e112",
   "metadata": {},
   "source": [
    "**按存放的类型是否相同**\n",
    "\n",
    "\n",
    "容器序列-存放不同类型: `list`、`tuple`、`collection.deque`,容器序列存放的是其包含的任意类型的对象的引用\n",
    "\n",
    "扁平序列-存放相同类型: `str`、`bytes`、`bytearray`、`memoryview`、`array.array`,扁平序列直接存储的是值，是一段连续的内存\n",
    "\n",
    "**按能否被修改**\n",
    "\n",
    "可变序列：list、bytearray、array.array、collection.deque、memoryview\n",
    "\n",
    "不可变序列：tuple、str、bytes"
   ]
  },
  {
   "cell_type": "markdown",
   "id": "f2d7f789",
   "metadata": {},
   "source": [
    "# list\n",
    "\n",
    "允许存放不同类型、可变"
   ]
  },
  {
   "cell_type": "markdown",
   "id": "96effa01",
   "metadata": {},
   "source": [
    "## 列表推导"
   ]
  },
  {
   "cell_type": "markdown",
   "id": "3e5620ea",
   "metadata": {},
   "source": [
    "### 列表推导有自己的局部作用域"
   ]
  },
  {
   "cell_type": "code",
   "execution_count": 2,
   "id": "2e695742",
   "metadata": {},
   "outputs": [
    {
     "data": {
      "text/plain": [
       "'ABC'"
      ]
     },
     "execution_count": 2,
     "metadata": {},
     "output_type": "execute_result"
    }
   ],
   "source": [
    "x = \"ABC\"\n",
    "a = \"abcd\"\n",
    "dummy = [ord(x) for x in a]  # 列表生成式里的x是自己的局部变量\n",
    "# 外部同名变量x不会被影响\n",
    "x"
   ]
  },
  {
   "cell_type": "markdown",
   "id": "dd317845",
   "metadata": {},
   "source": [
    "### 列表推导实现多层循环"
   ]
  },
  {
   "cell_type": "code",
   "execution_count": 4,
   "id": "1f2c7fc3",
   "metadata": {},
   "outputs": [
    {
     "data": {
      "text/plain": [
       "[('black', 'S'),\n",
       " ('black', 'M'),\n",
       " ('black', 'L'),\n",
       " ('white', 'S'),\n",
       " ('white', 'M'),\n",
       " ('white', 'L')]"
      ]
     },
     "execution_count": 4,
     "metadata": {},
     "output_type": "execute_result"
    }
   ],
   "source": [
    "colors = [\"black\", \"white\"]\n",
    "sizes = [\"S\",\"M\",\"L\"]\n",
    "# 匹配colors和sizes,先colors在sizes\n",
    "tshirts = [(c,s) for c in colors for s in sizes]  # 先外层后内层\n",
    "tshirts"
   ]
  },
  {
   "cell_type": "markdown",
   "id": "32860588",
   "metadata": {},
   "source": [
    "python会忽略代码的[ ]、{}、()换行，使用换行提高列表生成式的可读性"
   ]
  },
  {
   "cell_type": "code",
   "execution_count": 6,
   "id": "c494c6b9",
   "metadata": {
    "scrolled": true
   },
   "outputs": [
    {
     "data": {
      "text/plain": [
       "[('black', 'S'),\n",
       " ('black', 'M'),\n",
       " ('black', 'L'),\n",
       " ('white', 'S'),\n",
       " ('white', 'M'),\n",
       " ('white', 'L')]"
      ]
     },
     "execution_count": 6,
     "metadata": {},
     "output_type": "execute_result"
    }
   ],
   "source": [
    "tshirts = [(c,s) for c in colors   # 外层循环\n",
    "                 for s in sizes]   # 内层循环\n",
    "tshirts"
   ]
  },
  {
   "cell_type": "markdown",
   "id": "51b0b2a4",
   "metadata": {},
   "source": [
    "# 生成器表达式\n",
    "\n",
    "    逐个生成元素，节省内存"
   ]
  },
  {
   "cell_type": "code",
   "execution_count": 7,
   "id": "a9c04e0e",
   "metadata": {},
   "outputs": [
    {
     "data": {
      "text/plain": [
       "array('I', [64, 35, 36, 37, 94, 38, 42])"
      ]
     },
     "execution_count": 7,
     "metadata": {},
     "output_type": "execute_result"
    }
   ],
   "source": [
    "import array\n",
    "symbols = \"@#$%^&*\"\n",
    "# 第一次参数指定数组中数字的存储方式\n",
    "array.array(\"I\", (ord(symbol) for symbol in symbols))"
   ]
  },
  {
   "cell_type": "code",
   "execution_count": 12,
   "id": "94f5c0d0",
   "metadata": {
    "code_folding": []
   },
   "outputs": [
    {
     "name": "stdout",
     "output_type": "stream",
     "text": [
      "('black', 'S')\n",
      "('black', 'M')\n",
      "('black', 'L')\n",
      "('white', 'S')\n",
      "('white', 'M')\n",
      "('white', 'L')\n"
     ]
    }
   ],
   "source": [
    "colors = [\"black\", \"white\"]\n",
    "sizes = [\"S\",\"M\",\"L\"]\n",
    "# 使用列表推导先生成一个列表tshirts\n",
    "tshirts = [(c,s) for c in colors for s in sizes]  # 先外层后内层\n",
    "# 再遍历列表打印\n",
    "for tshirt in tshirts:\n",
    "    print(tshirt)"
   ]
  },
  {
   "cell_type": "code",
   "execution_count": 9,
   "id": "3c75294e",
   "metadata": {},
   "outputs": [
    {
     "name": "stdout",
     "output_type": "stream",
     "text": [
      "('black', 'S')\n",
      "('black', 'M')\n",
      "('black', 'L')\n",
      "('white', 'S')\n",
      "('white', 'M')\n",
      "('white', 'L')\n"
     ]
    }
   ],
   "source": [
    "colors = [\"black\", \"white\"]\n",
    "sizes = [\"S\",\"M\",\"L\"]\n",
    "# 使用生成器表达式不会生成一个包含所有元素的列表，而是每次到for时才生成一个元素\n",
    "for tshirt in ((c,s) for c in colors for s in sizes):\n",
    "    print(tshirt)"
   ]
  },
  {
   "cell_type": "markdown",
   "id": "187f1005",
   "metadata": {},
   "source": [
    "# 元组"
   ]
  },
  {
   "cell_type": "markdown",
   "id": "4773f74c",
   "metadata": {},
   "source": [
    "## 元组作为记录"
   ]
  },
  {
   "cell_type": "markdown",
   "id": "451b7535",
   "metadata": {},
   "source": [
    "### 元组拆包"
   ]
  },
  {
   "cell_type": "code",
   "execution_count": 14,
   "id": "af70056b",
   "metadata": {},
   "outputs": [],
   "source": [
    "# 元组拆包--将元组的元素分别赋值给city,year\n",
    "city, year = (\"Tokyo\",2003)\n"
   ]
  },
  {
   "cell_type": "code",
   "execution_count": 15,
   "id": "cc5b3953",
   "metadata": {},
   "outputs": [
    {
     "data": {
      "text/plain": [
       "(-1, 100)"
      ]
     },
     "execution_count": 15,
     "metadata": {},
     "output_type": "execute_result"
    }
   ],
   "source": [
    "# 使用元组可以不使用中间变量就交换两个变量的值\n",
    "a = 100\n",
    "b = -1\n",
    "a,b = b,a\n",
    "a,b"
   ]
  },
  {
   "cell_type": "code",
   "execution_count": 19,
   "id": "ea44f345",
   "metadata": {},
   "outputs": [
    {
     "name": "stdout",
     "output_type": "stream",
     "text": [
      "USA   3198888\n",
      "USA 3198888\n"
     ]
    }
   ],
   "source": [
    "traveler_id = (\"USA\", \"3198888\")\n",
    "print(\"%s   %s\" % traveler_id)  # 使用拆包的方式\n",
    "# 对比直接打印元组的结果\n",
    "print(traveler_id[0], traveler_id[1])"
   ]
  },
  {
   "cell_type": "markdown",
   "id": "97b06d11",
   "metadata": {},
   "source": [
    "使用*将元素拆开作为函数参数\n"
   ]
  },
  {
   "cell_type": "code",
   "execution_count": 20,
   "id": "00e23e83",
   "metadata": {},
   "outputs": [
    {
     "name": "stdout",
     "output_type": "stream",
     "text": [
      "a 8  b 20\n"
     ]
    }
   ],
   "source": [
    "def f1(a,b):\n",
    "    a,b = b,a\n",
    "    print(\"a %s  b %s\"%(a,b))\n",
    "\n",
    "t = (20,8)\n",
    "f1(*t)"
   ]
  },
  {
   "cell_type": "markdown",
   "id": "c6c5e01a",
   "metadata": {},
   "source": [
    "通过元组使得函数支持多个返回值"
   ]
  },
  {
   "cell_type": "markdown",
   "id": "7789896e",
   "metadata": {},
   "source": [
    "用*处理多余的元素"
   ]
  },
  {
   "cell_type": "code",
   "execution_count": 23,
   "id": "c9ef2edd",
   "metadata": {},
   "outputs": [
    {
     "data": {
      "text/plain": [
       "(0, 1, [2, 3, 4], list)"
      ]
     },
     "execution_count": 23,
     "metadata": {},
     "output_type": "execute_result"
    }
   ],
   "source": [
    "a,b,*remain = range(5)  # remain是一个list\n",
    "a,b,remain,type(remain)"
   ]
  },
  {
   "cell_type": "markdown",
   "id": "efc5893b",
   "metadata": {},
   "source": [
    "*可以放在任意位置"
   ]
  },
  {
   "cell_type": "code",
   "execution_count": 25,
   "id": "05356deb",
   "metadata": {},
   "outputs": [
    {
     "data": {
      "text/plain": [
       "([0, 1, 2], 3, 4)"
      ]
     },
     "execution_count": 25,
     "metadata": {},
     "output_type": "execute_result"
    }
   ],
   "source": [
    "*remain, a, b = range(5)\n",
    "remain,a,b"
   ]
  },
  {
   "cell_type": "code",
   "execution_count": 27,
   "id": "02f52ccf",
   "metadata": {},
   "outputs": [
    {
     "data": {
      "text/plain": [
       "(0, [1, 2, 3], 4)"
      ]
     },
     "execution_count": 27,
     "metadata": {},
     "output_type": "execute_result"
    }
   ],
   "source": [
    "a, *remain, b = range(5)\n",
    "a,remain,b"
   ]
  },
  {
   "cell_type": "code",
   "execution_count": 28,
   "id": "658e441b",
   "metadata": {},
   "outputs": [
    {
     "data": {
      "text/plain": [
       "(0, 1, [])"
      ]
     },
     "execution_count": 28,
     "metadata": {},
     "output_type": "execute_result"
    }
   ],
   "source": [
    "a,b,*remain = range(2)\n",
    "a,b,remain"
   ]
  },
  {
   "cell_type": "code",
   "execution_count": 29,
   "id": "7de5d6f2",
   "metadata": {},
   "outputs": [
    {
     "data": {
      "text/plain": [
       "(0, [], 1)"
      ]
     },
     "execution_count": 29,
     "metadata": {},
     "output_type": "execute_result"
    }
   ],
   "source": [
    "a,*remain,b = range(2)\n",
    "a,remain,b"
   ]
  },
  {
   "cell_type": "code",
   "execution_count": null,
   "id": "b60c93be",
   "metadata": {},
   "outputs": [],
   "source": []
  },
  {
   "cell_type": "markdown",
   "id": "de339e8c",
   "metadata": {},
   "source": [
    "## 元组作为不可变列表"
   ]
  },
  {
   "cell_type": "code",
   "execution_count": 51,
   "id": "c5feb39d",
   "metadata": {},
   "outputs": [
    {
     "data": {
      "text/plain": [
       "(1, 2, 3, 4, 5, 6)"
      ]
     },
     "execution_count": 51,
     "metadata": {},
     "output_type": "execute_result"
    }
   ],
   "source": [
    "# 1.元组拼接\n",
    "t1 = (1,2,3)\n",
    "t2 = (4,5,6)\n",
    "t3 = t1 + t2\n",
    "t3"
   ]
  },
  {
   "cell_type": "code",
   "execution_count": 54,
   "id": "eee2caca",
   "metadata": {},
   "outputs": [
    {
     "data": {
      "text/plain": [
       "(1, 2, 3, 4, 5, 6)"
      ]
     },
     "execution_count": 54,
     "metadata": {},
     "output_type": "execute_result"
    }
   ],
   "source": [
    "\n",
    "t3 = t1.__add__(t2)\n",
    "t3"
   ]
  },
  {
   "cell_type": "code",
   "execution_count": 55,
   "id": "36ebaf83",
   "metadata": {},
   "outputs": [
    {
     "data": {
      "text/plain": [
       "True"
      ]
     },
     "execution_count": 55,
     "metadata": {},
     "output_type": "execute_result"
    }
   ],
   "source": [
    "# 是否包含元素\n",
    "t = (\"a\",\"b\",\"ddd\")\n",
    "t.__contains__(\"ddd\")"
   ]
  },
  {
   "cell_type": "code",
   "execution_count": 56,
   "id": "37f0c281",
   "metadata": {},
   "outputs": [
    {
     "data": {
      "text/plain": [
       "2"
      ]
     },
     "execution_count": 56,
     "metadata": {},
     "output_type": "execute_result"
    }
   ],
   "source": [
    "# 统计出现的次数\n",
    "t4 = t + (\"a\",\"d\",\"bbb\")\n",
    "t4.count(\"a\")"
   ]
  },
  {
   "cell_type": "code",
   "execution_count": 59,
   "id": "14771382",
   "metadata": {},
   "outputs": [
    {
     "data": {
      "text/plain": [
       "'a'"
      ]
     },
     "execution_count": 59,
     "metadata": {},
     "output_type": "execute_result"
    }
   ],
   "source": [
    "# 获取位置p的元素\n",
    "t4[0]"
   ]
  },
  {
   "cell_type": "code",
   "execution_count": 60,
   "id": "5ab5dcb0",
   "metadata": {},
   "outputs": [
    {
     "data": {
      "text/plain": [
       "'a'"
      ]
     },
     "execution_count": 60,
     "metadata": {},
     "output_type": "execute_result"
    }
   ],
   "source": [
    "t4.__getitem__(0)"
   ]
  },
  {
   "cell_type": "code",
   "execution_count": 61,
   "id": "d3be4b1c",
   "metadata": {},
   "outputs": [
    {
     "data": {
      "text/plain": [
       "1"
      ]
     },
     "execution_count": 61,
     "metadata": {},
     "output_type": "execute_result"
    }
   ],
   "source": [
    "# 查找元素第一次出现的位置\n",
    "t4.index(\"b\")"
   ]
  },
  {
   "cell_type": "code",
   "execution_count": 64,
   "id": "b585f44e",
   "metadata": {},
   "outputs": [
    {
     "name": "stdout",
     "output_type": "stream",
     "text": [
      "a\n",
      "b\n",
      "ddd\n",
      "a\n",
      "d\n",
      "bbb\n"
     ]
    }
   ],
   "source": [
    "# 获取迭代器\n",
    "iter4 = t4.__iter__()\n",
    "for e in iter4:\n",
    "    print(e)"
   ]
  },
  {
   "cell_type": "code",
   "execution_count": 65,
   "id": "8c39a17c",
   "metadata": {},
   "outputs": [
    {
     "data": {
      "text/plain": [
       "6"
      ]
     },
     "execution_count": 65,
     "metadata": {},
     "output_type": "execute_result"
    }
   ],
   "source": [
    "len(t4)"
   ]
  },
  {
   "cell_type": "code",
   "execution_count": 67,
   "id": "d9a96c04",
   "metadata": {},
   "outputs": [
    {
     "data": {
      "text/plain": [
       "18"
      ]
     },
     "execution_count": 67,
     "metadata": {},
     "output_type": "execute_result"
    }
   ],
   "source": [
    "# 正向重复拼接\n",
    "t5 = t4 * 3\n",
    "len(t5)"
   ]
  },
  {
   "cell_type": "code",
   "execution_count": 68,
   "id": "dd2d3f34",
   "metadata": {},
   "outputs": [
    {
     "data": {
      "text/plain": [
       "18"
      ]
     },
     "execution_count": 68,
     "metadata": {},
     "output_type": "execute_result"
    }
   ],
   "source": [
    "t6 = t4.__mul__(3)\n",
    "len(t6)"
   ]
  },
  {
   "cell_type": "code",
   "execution_count": 70,
   "id": "8b3a1e40",
   "metadata": {},
   "outputs": [
    {
     "data": {
      "text/plain": [
       "(1, 2, 3, 1, 2, 3)"
      ]
     },
     "execution_count": 70,
     "metadata": {},
     "output_type": "execute_result"
    }
   ],
   "source": [
    "# 反向重复拼接\n",
    "t = (1,2,3)\n",
    "t1 = t.__rmul__(2)\n",
    "t1"
   ]
  },
  {
   "cell_type": "code",
   "execution_count": 71,
   "id": "394a5826",
   "metadata": {},
   "outputs": [
    {
     "data": {
      "text/plain": [
       "(1, 2, 3, 1, 2, 3)"
      ]
     },
     "execution_count": 71,
     "metadata": {},
     "output_type": "execute_result"
    }
   ],
   "source": [
    "2 * t"
   ]
  },
  {
   "cell_type": "markdown",
   "id": "5460eb75",
   "metadata": {},
   "source": [
    "## 具名数组"
   ]
  },
  {
   "cell_type": "code",
   "execution_count": 33,
   "id": "3a37e8ac",
   "metadata": {},
   "outputs": [
    {
     "data": {
      "text/plain": [
       "City(name='Tokyo', country='JP', coordinate=(35.689722, 139.691667))"
      ]
     },
     "execution_count": 33,
     "metadata": {},
     "output_type": "execute_result"
    }
   ],
   "source": [
    "from collections import namedtuple\n",
    "# 创建一个具名数组：传入两个参数--类名和类的各字段名\n",
    "City = namedtuple(\"City\", \"name country coordinate\")\n",
    "tokyo = City(\"Tokyo\",\"JP\",(35.689722, 139.691667))\n",
    "tokyo"
   ]
  },
  {
   "cell_type": "code",
   "execution_count": 32,
   "id": "6dbc0b00",
   "metadata": {},
   "outputs": [
    {
     "data": {
      "text/plain": [
       "'Tokyo'"
      ]
     },
     "execution_count": 32,
     "metadata": {},
     "output_type": "execute_result"
    }
   ],
   "source": [
    "tokyo.name  # 使用类名.字段名获取某个字段的值"
   ]
  },
  {
   "cell_type": "code",
   "execution_count": 46,
   "id": "adaadde2",
   "metadata": {},
   "outputs": [
    {
     "data": {
      "text/plain": [
       "City(name='Delhi NCR', country='IN', coordinate=(28.613899, 77.2))"
      ]
     },
     "execution_count": 46,
     "metadata": {},
     "output_type": "execute_result"
    }
   ],
   "source": [
    "# 创建具体的元组实例时接收可迭代对象\n",
    "delhi_data = (\"Delhi NCR\",\"IN\", (28.613899, 77.20))\n",
    "delhi = City._make(delhi_data)\n",
    "delhi"
   ]
  },
  {
   "cell_type": "markdown",
   "id": "96258cdf",
   "metadata": {},
   "source": [
    "**具名数组属性查询**"
   ]
  },
  {
   "cell_type": "code",
   "execution_count": 35,
   "id": "08402fde",
   "metadata": {},
   "outputs": [
    {
     "data": {
      "text/plain": [
       "('name', 'country', 'coordinate')"
      ]
     },
     "execution_count": 35,
     "metadata": {},
     "output_type": "execute_result"
    }
   ],
   "source": [
    "# 查询所包含的字段\n",
    "City._fields"
   ]
  },
  {
   "cell_type": "code",
   "execution_count": 38,
   "id": "e20db948",
   "metadata": {},
   "outputs": [
    {
     "data": {
      "text/plain": [
       "{'name': 'Tokyo', 'country': 'JP', 'coordinate': (35.689722, 139.691667)}"
      ]
     },
     "execution_count": 38,
     "metadata": {},
     "output_type": "execute_result"
    }
   ],
   "source": [
    "# 显示元组的有关信息---以collections.OrderDict的形式\n",
    "tokyo._asdict()"
   ]
  },
  {
   "cell_type": "code",
   "execution_count": 39,
   "id": "821f812c",
   "metadata": {},
   "outputs": [
    {
     "data": {
      "text/plain": [
       "dict_items([('name', 'Tokyo'), ('country', 'JP'), ('coordinate', (35.689722, 139.691667))])"
      ]
     },
     "execution_count": 39,
     "metadata": {},
     "output_type": "execute_result"
    }
   ],
   "source": [
    "tokyo._asdict().items()"
   ]
  },
  {
   "cell_type": "code",
   "execution_count": 43,
   "id": "87ca530f",
   "metadata": {},
   "outputs": [
    {
     "name": "stdout",
     "output_type": "stream",
     "text": [
      "name: Tokyo\n",
      "country: JP\n",
      "coordinate: (35.689722, 139.691667)\n"
     ]
    }
   ],
   "source": [
    "# 用dict的方式访问具名数组的元素\n",
    "for key,value in tokyo._asdict().items():\n",
    "    print(key + ':', value)"
   ]
  }
 ],
 "metadata": {
  "kernelspec": {
   "display_name": "Python 3 (ipykernel)",
   "language": "python",
   "name": "python3"
  },
  "language_info": {
   "codemirror_mode": {
    "name": "ipython",
    "version": 3
   },
   "file_extension": ".py",
   "mimetype": "text/x-python",
   "name": "python",
   "nbconvert_exporter": "python",
   "pygments_lexer": "ipython3",
   "version": "3.9.7"
  },
  "toc": {
   "base_numbering": 1,
   "nav_menu": {},
   "number_sections": true,
   "sideBar": true,
   "skip_h1_title": false,
   "title_cell": "Table of Contents",
   "title_sidebar": "Contents",
   "toc_cell": false,
   "toc_position": {},
   "toc_section_display": true,
   "toc_window_display": false
  }
 },
 "nbformat": 4,
 "nbformat_minor": 5
}
