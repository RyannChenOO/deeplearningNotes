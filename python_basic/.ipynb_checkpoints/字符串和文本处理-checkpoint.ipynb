{
 "cells": [
  {
   "cell_type": "markdown",
   "id": "d05e5f99",
   "metadata": {},
   "source": [
    "## 分割字符串"
   ]
  },
  {
   "cell_type": "markdown",
   "id": "352089ca",
   "metadata": {},
   "source": [
    "### string对象的split()方法\n",
    "\n",
    "只能传送单个分隔符"
   ]
  },
  {
   "cell_type": "code",
   "execution_count": 38,
   "id": "78fbbeaa",
   "metadata": {},
   "outputs": [
    {
     "data": {
      "text/plain": [
       "['asdfghjkk', 'fdskjgsjgksgjr', 'ijsgl']"
      ]
     },
     "execution_count": 38,
     "metadata": {},
     "output_type": "execute_result"
    }
   ],
   "source": [
    "# 默认按照空格切分\n",
    "line = \"asdfghjkk fdskjgsjgksgjr ijsgl\"\n",
    "line.split()"
   ]
  },
  {
   "cell_type": "code",
   "execution_count": 1,
   "id": "f81d6462",
   "metadata": {},
   "outputs": [
    {
     "data": {
      "text/plain": [
       "['asdfghjkk', 'fdskjgsjgksgjr', 'ijsgl']"
      ]
     },
     "execution_count": 1,
     "metadata": {},
     "output_type": "execute_result"
    }
   ],
   "source": [
    "line = \"asdfghjkk;fdskjgsjgksgjr;ijsgl\"\n",
    "line.split(\";\")"
   ]
  },
  {
   "cell_type": "markdown",
   "id": "d166bc3d",
   "metadata": {},
   "source": [
    "### re.split()方法\n",
    "支持多个分隔符\n",
    "\n",
    "支持分隔符不确定数目的情况"
   ]
  },
  {
   "cell_type": "code",
   "execution_count": 3,
   "id": "203215cb",
   "metadata": {},
   "outputs": [
    {
     "data": {
      "text/plain": [
       "['asdfghjkk', 'fdskjgsjgksgjr', 'ijsgl']"
      ]
     },
     "execution_count": 3,
     "metadata": {},
     "output_type": "execute_result"
    }
   ],
   "source": [
    "import re\n",
    "# 支持多个分隔符\n",
    "line = \"asdfghjkk;fdskjgsjgksgjr,ijsgl\"\n",
    "re.split(r\"[;,]\",line)"
   ]
  },
  {
   "cell_type": "code",
   "execution_count": 19,
   "id": "c9f36ca7",
   "metadata": {},
   "outputs": [
    {
     "name": "stdout",
     "output_type": "stream",
     "text": [
      "['asdfghjkk', '   fdskjgsjgksgjr', '   ijsgl']\n",
      "******************************\n",
      "['asdfghjkk;', 'fdskjgsjgksgjr', 'ijsgl']\n"
     ]
    }
   ],
   "source": [
    "# 支持分隔符不确定数目的情况\n",
    "line = \"asdfghjkk;   fdskjgsjgksgjr,   ijsgl\"\n",
    "print(re.split(r\"[;,]\",line))\n",
    "print(\"*\"*30)\n",
    "print(re.split(r\"[:,\\s]\\s*\",line))"
   ]
  },
  {
   "cell_type": "markdown",
   "id": "09a79ea4",
   "metadata": {},
   "source": [
    "##  文本匹配问题 "
   ]
  },
  {
   "cell_type": "code",
   "execution_count": null,
   "id": "19d3760c",
   "metadata": {},
   "outputs": [],
   "source": []
  },
  {
   "cell_type": "markdown",
   "id": "846b4514",
   "metadata": {},
   "source": [
    "### shell通配符方式\n",
    "按照Uinx Shell的通配符方式进行文本匹配:\n",
    "fnmatch的fnmatch和fnmatchcase"
   ]
  },
  {
   "cell_type": "code",
   "execution_count": 39,
   "id": "22b3499c",
   "metadata": {},
   "outputs": [],
   "source": [
    "from fnmatch import fnmatch, fnmatchcase"
   ]
  },
  {
   "cell_type": "code",
   "execution_count": 40,
   "id": "dfba3c51",
   "metadata": {},
   "outputs": [
    {
     "data": {
      "text/plain": [
       "True"
      ]
     },
     "execution_count": 40,
     "metadata": {},
     "output_type": "execute_result"
    }
   ],
   "source": [
    "fnmatch(\"foo.txt\", \"*.txt\")"
   ]
  },
  {
   "cell_type": "code",
   "execution_count": 41,
   "id": "b6bd099c",
   "metadata": {},
   "outputs": [
    {
     "data": {
      "text/plain": [
       "True"
      ]
     },
     "execution_count": 41,
     "metadata": {},
     "output_type": "execute_result"
    }
   ],
   "source": [
    "fnmatch(\"foo.txt\", \"?oo.txt\")"
   ]
  },
  {
   "cell_type": "code",
   "execution_count": 43,
   "id": "92836efd",
   "metadata": {},
   "outputs": [
    {
     "data": {
      "text/plain": [
       "True"
      ]
     },
     "execution_count": 43,
     "metadata": {},
     "output_type": "execute_result"
    }
   ],
   "source": [
    "# fnmatch在Os X(Mac)上大小写敏感，在Windows上不存在大小写敏感问题\n",
    "fnmatch(\"foo3.txt\", \"Foo[1-9].txt\")\n"
   ]
  },
  {
   "cell_type": "code",
   "execution_count": 44,
   "id": "301b565e",
   "metadata": {},
   "outputs": [
    {
     "data": {
      "text/plain": [
       "False"
      ]
     },
     "execution_count": 44,
     "metadata": {},
     "output_type": "execute_result"
    }
   ],
   "source": [
    "# 使用fmatchcase处理不同操作系统的大小写敏感问题\n",
    "fnmatchcase(\"foo3.txt\", \"Foo[1-9].txt\")  # 区分大小写"
   ]
  },
  {
   "cell_type": "markdown",
   "id": "481a15d9",
   "metadata": {},
   "source": [
    "### 文件名匹配--最好使用glob模块"
   ]
  },
  {
   "cell_type": "markdown",
   "id": "d3d14afa",
   "metadata": {},
   "source": [
    "### string的匹配方法"
   ]
  },
  {
   "cell_type": "markdown",
   "id": "dfce5e52",
   "metadata": {},
   "source": [
    "#### 匹配开头、结尾：string的startswith()，endswith()"
   ]
  },
  {
   "cell_type": "code",
   "execution_count": 30,
   "id": "6b7e6b85",
   "metadata": {},
   "outputs": [
    {
     "data": {
      "text/plain": [
       "(False, True)"
      ]
     },
     "execution_count": 30,
     "metadata": {},
     "output_type": "execute_result"
    }
   ],
   "source": [
    "filename = \"apam.txt\"\n",
    "filename.startswith(\"file\"),filename.endswith(\"txt\")"
   ]
  },
  {
   "cell_type": "code",
   "execution_count": 31,
   "id": "6ba34e3a",
   "metadata": {
    "collapsed": true
   },
   "outputs": [
    {
     "data": {
      "text/plain": [
       "['.ipynb_checkpoints',\n",
       " 'data',\n",
       " 'decorater.py',\n",
       " 'fileread.py',\n",
       " 'hello.txt',\n",
       " 'makesentence.py',\n",
       " 'occurtime.py',\n",
       " 'python技巧.ipynb',\n",
       " 'py_47_正则表达式-checkpoint.ipynb',\n",
       " 'py_47_正则表达式.ipynb',\n",
       " 'readme.txt',\n",
       " 'Untitled.ipynb',\n",
       " 'user.txt',\n",
       " 'user_pwd.txt',\n",
       " 'work_5.py',\n",
       " '__pycache__',\n",
       " '内置序列类型.ipynb',\n",
       " '函数.ipynb',\n",
       " '变量和数据类型.ipynb',\n",
       " '可迭代对象的操作.ipynb',\n",
       " '基本运算.ipynb',\n",
       " '字符串和文本处理.ipynb',\n",
       " '文件.ipynb',\n",
       " '装饰器和闭包.ipynb',\n",
       " '输入输出.ipynb']"
      ]
     },
     "execution_count": 31,
     "metadata": {},
     "output_type": "execute_result"
    }
   ],
   "source": [
    "# 同时匹配多种可能\n",
    "import os\n",
    "filenames = os.listdir(\"./\")\n",
    "filenames"
   ]
  },
  {
   "cell_type": "code",
   "execution_count": 32,
   "id": "7c93a81e",
   "metadata": {},
   "outputs": [
    {
     "data": {
      "text/plain": [
       "['decorater.py',\n",
       " 'fileread.py',\n",
       " 'hello.txt',\n",
       " 'makesentence.py',\n",
       " 'occurtime.py',\n",
       " 'readme.txt',\n",
       " 'user.txt',\n",
       " 'user_pwd.txt',\n",
       " 'work_5.py']"
      ]
     },
     "execution_count": 32,
     "metadata": {},
     "output_type": "execute_result"
    }
   ],
   "source": [
    "# 同时匹配多种可能--必须使用元组传入\n",
    "[name for name in filenames if name.endswith((\".py\",\".txt\"))]"
   ]
  },
  {
   "cell_type": "code",
   "execution_count": null,
   "id": "5f97b088",
   "metadata": {},
   "outputs": [],
   "source": []
  },
  {
   "cell_type": "code",
   "execution_count": 45,
   "id": "26e29f3c",
   "metadata": {},
   "outputs": [
    {
     "data": {
      "text/plain": [
       "True"
      ]
     },
     "execution_count": 45,
     "metadata": {},
     "output_type": "execute_result"
    }
   ],
   "source": [
    "text = \"yeah but,no,yes\"\n",
    "text.endswith(\"yes\")"
   ]
  },
  {
   "cell_type": "code",
   "execution_count": 46,
   "id": "0a83e929",
   "metadata": {},
   "outputs": [
    {
     "data": {
      "text/plain": [
       "False"
      ]
     },
     "execution_count": 46,
     "metadata": {},
     "output_type": "execute_result"
    }
   ],
   "source": [
    "text.startswith(\"nn\")"
   ]
  },
  {
   "cell_type": "code",
   "execution_count": 50,
   "id": "22315836",
   "metadata": {},
   "outputs": [
    {
     "data": {
      "text/plain": [
       "0"
      ]
     },
     "execution_count": 50,
     "metadata": {},
     "output_type": "execute_result"
    }
   ],
   "source": [
    "# 返回的是字符串第一次出现的位置\n",
    "text.find(\"y\")"
   ]
  },
  {
   "cell_type": "markdown",
   "id": "fa6376b8",
   "metadata": {},
   "source": [
    "### 正则表达式方式：mach()、findall()"
   ]
  },
  {
   "cell_type": "code",
   "execution_count": null,
   "id": "eea0cf49",
   "metadata": {},
   "outputs": [],
   "source": []
  },
  {
   "cell_type": "markdown",
   "id": "17168948",
   "metadata": {},
   "source": [
    "## 文本搜索和替换"
   ]
  },
  {
   "cell_type": "markdown",
   "id": "d74f4dec",
   "metadata": {},
   "source": [
    "### string的replace方法"
   ]
  },
  {
   "cell_type": "code",
   "execution_count": 2,
   "id": "04f190a8",
   "metadata": {},
   "outputs": [
    {
     "data": {
      "text/plain": [
       "('yeh, you know', 'yeh, we know')"
      ]
     },
     "execution_count": 2,
     "metadata": {},
     "output_type": "execute_result"
    }
   ],
   "source": [
    "text = \"yeh, you know\"\n",
    "new_text = text.replace(\"you\", \"we\")\n",
    "text, new_text"
   ]
  },
  {
   "cell_type": "markdown",
   "id": "cc3fa305",
   "metadata": {},
   "source": [
    "### 正则表达式的sub方法"
   ]
  },
  {
   "cell_type": "markdown",
   "id": "558cab8a",
   "metadata": {},
   "source": [
    "## 删除指定字符串"
   ]
  },
  {
   "cell_type": "markdown",
   "id": "e42d10e4",
   "metadata": {},
   "source": [
    "### string的strip(),lstrip(),rstrip()删除两边"
   ]
  },
  {
   "cell_type": "code",
   "execution_count": 2,
   "id": "56f8cc4c",
   "metadata": {},
   "outputs": [
    {
     "data": {
      "text/plain": [
       "'hello world'"
      ]
     },
     "execution_count": 2,
     "metadata": {},
     "output_type": "execute_result"
    }
   ],
   "source": [
    "text = \"  hello world    \"\n",
    "# strip()删除开头和结尾的空格\n",
    "text.strip()  # 默认删除空格"
   ]
  },
  {
   "cell_type": "code",
   "execution_count": 4,
   "id": "1af820ea",
   "metadata": {},
   "outputs": [
    {
     "data": {
      "text/plain": [
       "'hello world    '"
      ]
     },
     "execution_count": 4,
     "metadata": {},
     "output_type": "execute_result"
    }
   ],
   "source": [
    "text.lstrip()  # 只删除左边的空格"
   ]
  },
  {
   "cell_type": "code",
   "execution_count": 5,
   "id": "ba0fbba4",
   "metadata": {},
   "outputs": [
    {
     "data": {
      "text/plain": [
       "'  hello world'"
      ]
     },
     "execution_count": 5,
     "metadata": {},
     "output_type": "execute_result"
    }
   ],
   "source": [
    "text.rstrip() # 只删除右边的空格"
   ]
  },
  {
   "cell_type": "code",
   "execution_count": 7,
   "id": "5bb974aa",
   "metadata": {},
   "outputs": [
    {
     "data": {
      "text/plain": [
       "'----------hello -- world '"
      ]
     },
     "execution_count": 7,
     "metadata": {},
     "output_type": "execute_result"
    }
   ],
   "source": [
    "text = \"----------hello -- world ---------\"\n",
    "text.rstrip(\"-\")"
   ]
  },
  {
   "cell_type": "code",
   "execution_count": 8,
   "id": "7483dd84",
   "metadata": {},
   "outputs": [
    {
     "data": {
      "text/plain": [
       "'hello -- world ---------'"
      ]
     },
     "execution_count": 8,
     "metadata": {},
     "output_type": "execute_result"
    }
   ],
   "source": [
    "text.lstrip(\"-\")"
   ]
  },
  {
   "cell_type": "code",
   "execution_count": 9,
   "id": "4f8fe712",
   "metadata": {},
   "outputs": [
    {
     "data": {
      "text/plain": [
       "'hello -- world '"
      ]
     },
     "execution_count": 9,
     "metadata": {},
     "output_type": "execute_result"
    }
   ],
   "source": [
    " text.strip(\"-\")  # 无法删除中间的"
   ]
  },
  {
   "cell_type": "code",
   "execution_count": 12,
   "id": "338a21f1",
   "metadata": {},
   "outputs": [
    {
     "name": "stdout",
     "output_type": "stream",
     "text": [
      "hello\n",
      "\n",
      "world\n",
      "\n",
      "life\n"
     ]
    }
   ],
   "source": [
    "# 未使用strip读取文件的多行文本\n",
    "filename = \"hello.txt\"\n",
    "with open(filename) as f:\n",
    "    for line in f:\n",
    "        print(line)  # 有两个换行print一个，文本一个"
   ]
  },
  {
   "cell_type": "code",
   "execution_count": 13,
   "id": "5cfa1f40",
   "metadata": {},
   "outputs": [
    {
     "name": "stdout",
     "output_type": "stream",
     "text": [
      "hello\n",
      "world\n",
      "life\n"
     ]
    }
   ],
   "source": [
    "# 使用strip读取文件的多行文本\n",
    "filename = \"hello.txt\"\n",
    "with open(filename) as f:\n",
    "    for line in f:\n",
    "        print(line.strip())  # 只有print一个换行"
   ]
  },
  {
   "cell_type": "markdown",
   "id": "2145abe2",
   "metadata": {},
   "source": [
    "### string的replace：删除两边"
   ]
  },
  {
   "cell_type": "code",
   "execution_count": 10,
   "id": "3fd90fb0",
   "metadata": {},
   "outputs": [
    {
     "data": {
      "text/plain": [
       "'hello  world '"
      ]
     },
     "execution_count": 10,
     "metadata": {},
     "output_type": "execute_result"
    }
   ],
   "source": [
    "text = \"----------hello -- world ---------\"\n",
    "text.replace(\"-\",\"\")"
   ]
  },
  {
   "cell_type": "markdown",
   "id": "ec36cc71",
   "metadata": {},
   "source": [
    "## Unicode编码处理"
   ]
  },
  {
   "cell_type": "markdown",
   "id": "28f85e1b",
   "metadata": {},
   "source": [
    "### unicode编码标准化\n",
    "unicode中某些字符能用多个合法的编码表示，在比较字符串时可能会出现问题\n",
    "\n",
    "解决：使用unicodedata将文本标准化\n",
    "\n",
    "字符串标准化方式：NFC，NFD，NFKD，NFKC"
   ]
  },
  {
   "cell_type": "code",
   "execution_count": 9,
   "id": "becae370",
   "metadata": {
    "scrolled": true
   },
   "outputs": [
    {
     "data": {
      "text/plain": [
       "('ñ', 'ñ')"
      ]
     },
     "execution_count": 9,
     "metadata": {},
     "output_type": "execute_result"
    }
   ],
   "source": [
    "# unicode中某些字符能用多个合法的编码表示\n",
    "c1 = \"\\u00f1\"\n",
    "c2 = \"n\\u0303\"\n",
    "c1,c2"
   ]
  },
  {
   "cell_type": "code",
   "execution_count": 10,
   "id": "fe1d8e21",
   "metadata": {},
   "outputs": [
    {
     "data": {
      "text/plain": [
       "False"
      ]
     },
     "execution_count": 10,
     "metadata": {},
     "output_type": "execute_result"
    }
   ],
   "source": [
    "c1 == c2"
   ]
  },
  {
   "cell_type": "code",
   "execution_count": 18,
   "id": "6246c37a",
   "metadata": {},
   "outputs": [
    {
     "data": {
      "text/plain": [
       "('ñ', 'ñ')"
      ]
     },
     "execution_count": 18,
     "metadata": {},
     "output_type": "execute_result"
    }
   ],
   "source": [
    "import unicodedata\n",
    "# 字符串标准化方式：NFC(字符作为整体组成)\n",
    "t1 = unicodedata.normalize(\"NFC\", c1)  \n",
    "t2 = unicodedata.normalize(\"NFC\", c2)\n",
    "t1,t2"
   ]
  },
  {
   "cell_type": "code",
   "execution_count": 14,
   "id": "87b2ee0f",
   "metadata": {},
   "outputs": [
    {
     "data": {
      "text/plain": [
       "True"
      ]
     },
     "execution_count": 14,
     "metadata": {},
     "output_type": "execute_result"
    }
   ],
   "source": [
    "t1 == t2"
   ]
  },
  {
   "cell_type": "code",
   "execution_count": 17,
   "id": "ebd20d47",
   "metadata": {},
   "outputs": [
    {
     "data": {
      "text/plain": [
       "(\"'\\\\xf1'\", \"'\\\\xf1'\", \"'\\\\xf1'\", \"'n\\\\u0303'\")"
      ]
     },
     "execution_count": 17,
     "metadata": {},
     "output_type": "execute_result"
    }
   ],
   "source": [
    "ascii(t1), ascii(t1),ascii(c1),ascii(c2)"
   ]
  },
  {
   "cell_type": "markdown",
   "id": "44571639",
   "metadata": {},
   "source": [
    "### 正则表达式处理unicode字符串"
   ]
  },
  {
   "cell_type": "code",
   "execution_count": null,
   "id": "dd7c7619",
   "metadata": {},
   "outputs": [],
   "source": []
  }
 ],
 "metadata": {
  "kernelspec": {
   "display_name": "Python 3 (ipykernel)",
   "language": "python",
   "name": "python3"
  },
  "language_info": {
   "codemirror_mode": {
    "name": "ipython",
    "version": 3
   },
   "file_extension": ".py",
   "mimetype": "text/x-python",
   "name": "python",
   "nbconvert_exporter": "python",
   "pygments_lexer": "ipython3",
   "version": "3.9.7"
  },
  "toc": {
   "base_numbering": 1,
   "nav_menu": {},
   "number_sections": true,
   "sideBar": true,
   "skip_h1_title": false,
   "title_cell": "Table of Contents",
   "title_sidebar": "Contents",
   "toc_cell": false,
   "toc_position": {
    "height": "calc(100% - 180px)",
    "left": "10px",
    "top": "150px",
    "width": "156.412px"
   },
   "toc_section_display": true,
   "toc_window_display": true
  }
 },
 "nbformat": 4,
 "nbformat_minor": 5
}
