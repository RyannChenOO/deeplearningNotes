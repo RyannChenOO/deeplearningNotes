{
 "cells": [
  {
   "cell_type": "markdown",
   "id": "50360f5a",
   "metadata": {},
   "source": [
    "# 格式化输出"
   ]
  },
  {
   "cell_type": "markdown",
   "id": "8b698dd6",
   "metadata": {},
   "source": [
    "## 使用占位符\n",
    "\n",
    "表示一个%时需要写成%%"
   ]
  },
  {
   "cell_type": "code",
   "execution_count": 3,
   "id": "6457daa1",
   "metadata": {},
   "outputs": [
    {
     "name": "stdout",
     "output_type": "stream",
     "text": [
      "姓名chen, 年龄18, python成绩99.500000\n"
     ]
    }
   ],
   "source": [
    "info_stu = {\"name\":\"chen\", \"age\":18, \"score\":{\"python\":99.5, \"c++\":99.0}}\n",
    "print(\"姓名%s, 年龄%d, python成绩%f\"%(info_stu[\"name\"], info_stu[\"age\"], info_stu[\"score\"][\"python\"]))"
   ]
  },
  {
   "cell_type": "code",
   "execution_count": 5,
   "id": "31854d02",
   "metadata": {},
   "outputs": [
    {
     "name": "stdout",
     "output_type": "stream",
     "text": [
      "姓名chen, 年龄018, python成绩99.5000\n"
     ]
    }
   ],
   "source": [
    "# 调整输入格式\n",
    "print(\"姓名%s, 年龄%03d, python成绩%.4f\"%(info_stu[\"name\"], info_stu[\"age\"], info_stu[\"score\"][\"python\"]))"
   ]
  },
  {
   "cell_type": "code",
   "execution_count": 8,
   "id": "910eff8c",
   "metadata": {
    "scrolled": true
   },
   "outputs": [
    {
     "name": "stdout",
     "output_type": "stream",
     "text": [
      "姓名    chen, 年龄 18, python成绩0099.5000\n"
     ]
    }
   ],
   "source": [
    "# 调整输入格式\n",
    "print(\"姓名%8s, 年龄%3d, python成绩%09.4f\"%(info_stu[\"name\"], info_stu[\"age\"], info_stu[\"score\"][\"python\"]))"
   ]
  },
  {
   "cell_type": "markdown",
   "id": "cde92049",
   "metadata": {},
   "source": [
    "百分比输出"
   ]
  },
  {
   "cell_type": "code",
   "execution_count": 15,
   "id": "d89bac91",
   "metadata": {},
   "outputs": [
    {
     "name": "stdout",
     "output_type": "stream",
     "text": [
      "总人数  380, 教育程度  本科, c++优秀比例99.00000000% \n"
     ]
    }
   ],
   "source": [
    "info_grade = {\"count\":380, \"degree\":\"本科\", \"优秀比例\":{\"python\":99.5, \"c++\":99.0}}\n",
    "print(\"总人数%5d, 教育程度%04s, c++优秀比例%0.8f%% \" %(info_grade[\"count\"], info_grade[\"degree\"], info_grade[\"优秀比例\"][\"c++\"]))"
   ]
  },
  {
   "cell_type": "code",
   "execution_count": null,
   "id": "63888415",
   "metadata": {},
   "outputs": [],
   "source": []
  }
 ],
 "metadata": {
  "kernelspec": {
   "display_name": "Python 3 (ipykernel)",
   "language": "python",
   "name": "python3"
  },
  "language_info": {
   "codemirror_mode": {
    "name": "ipython",
    "version": 3
   },
   "file_extension": ".py",
   "mimetype": "text/x-python",
   "name": "python",
   "nbconvert_exporter": "python",
   "pygments_lexer": "ipython3",
   "version": "3.9.7"
  },
  "toc": {
   "base_numbering": 1,
   "nav_menu": {},
   "number_sections": true,
   "sideBar": true,
   "skip_h1_title": false,
   "title_cell": "Table of Contents",
   "title_sidebar": "Contents",
   "toc_cell": false,
   "toc_position": {},
   "toc_section_display": true,
   "toc_window_display": false
  }
 },
 "nbformat": 4,
 "nbformat_minor": 5
}
