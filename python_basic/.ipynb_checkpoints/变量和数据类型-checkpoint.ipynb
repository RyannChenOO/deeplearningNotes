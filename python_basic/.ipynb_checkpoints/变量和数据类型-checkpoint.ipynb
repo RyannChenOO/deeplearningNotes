{
 "cells": [
  {
   "cell_type": "markdown",
   "id": "f5dfcd30",
   "metadata": {},
   "source": [
    "# 变量"
   ]
  },
  {
   "cell_type": "markdown",
   "id": "b256b555",
   "metadata": {},
   "source": [
    "Python是一种**弱类型**的语言，变量的类型由其值的类型决定。\n",
    "\n",
    "    --变量名可以包括字母、数字和下划线，但是数字不能作为开头字符\n",
    "    -- Python 3.x默认使用UTF-8编码，变量名中允许包含中文，如“测试”是一个有效的变量名。"
   ]
  },
  {
   "cell_type": "code",
   "execution_count": 4,
   "id": "d6e88b20",
   "metadata": {},
   "outputs": [
    {
     "data": {
      "text/plain": [
       "99"
      ]
     },
     "execution_count": 4,
     "metadata": {},
     "output_type": "execute_result"
    }
   ],
   "source": [
    "测试 = 99\n",
    "测试"
   ]
  },
  {
   "cell_type": "code",
   "execution_count": 5,
   "id": "41d6ffd9",
   "metadata": {},
   "outputs": [
    {
     "data": {
      "text/plain": [
       "('ryann', 3)"
      ]
     },
     "execution_count": 5,
     "metadata": {},
     "output_type": "execute_result"
    }
   ],
   "source": [
    "# 同时处理多个变量\n",
    "name, value = \"ryann\", 3\n",
    "name, value"
   ]
  },
  {
   "cell_type": "markdown",
   "id": "6f53159f",
   "metadata": {},
   "source": [
    "# 数据类型\n",
    "\n",
    "内置数据类型：\n",
    "\n",
    "    --Number（数字）、\n",
    "    --序列：\n",
    "        不可修改：String（字符串）、Tuple（元组）\n",
    "        可修改：List（列表）\n",
    "    --无序：\n",
    "        Set（集合）、\n",
    "        Dictionary（字典）\n",
    "    \n"
   ]
  },
  {
   "cell_type": "markdown",
   "id": "36279c4f",
   "metadata": {},
   "source": [
    "## Number\n",
    "\n",
    "    --整数类型：int（整型）、float（浮点型）、complex（复数类型）\n",
    "\n",
    "整数类型无大小限制，加前缀0o为八进制整数，加前缀0x则为十六进制整数\n",
    "    \n",
    "Boolean类型是整型的子类型，在作为数字参与运算时，False自动转为0，True自动转为1\n",
    "\n"
   ]
  },
  {
   "cell_type": "code",
   "execution_count": 5,
   "id": "47b58916",
   "metadata": {},
   "outputs": [
    {
     "data": {
      "text/plain": [
       "(10, 10, 168)"
      ]
     },
     "execution_count": 5,
     "metadata": {},
     "output_type": "execute_result"
    }
   ],
   "source": [
    "# 整数类型无大小限制，加前缀0o为八进制整数，加前缀0x则为十六进制整数\n",
    "a, b,c = 10, 0o12, 0xa8\n",
    "a,b,c"
   ]
  },
  {
   "cell_type": "code",
   "execution_count": 6,
   "id": "18462d11",
   "metadata": {},
   "outputs": [
    {
     "data": {
      "text/plain": [
       "bool"
      ]
     },
     "execution_count": 6,
     "metadata": {},
     "output_type": "execute_result"
    }
   ],
   "source": [
    "# Boolean类型是整型的子类型，在作为数字参与运算时，False自动转为0，True自动转为1\n",
    "num = True\n",
    "type(num)"
   ]
  },
  {
   "cell_type": "markdown",
   "id": "c6972db0",
   "metadata": {},
   "source": [
    "使用bool函数可以将其他类型的数据转为Boolean类型，当给bool函数传入下列参数时其将会返回False：\n",
    "\n",
    "    --任意值为0的数值，如0、0.0、0j等\n",
    "    --空的序列或集合，如''（空字符串）、()（空元组）、[]（空列表）等\n",
    "\n"
   ]
  },
  {
   "cell_type": "code",
   "execution_count": 7,
   "id": "0650ba29",
   "metadata": {
    "scrolled": true
   },
   "outputs": [
    {
     "data": {
      "text/plain": [
       "True"
      ]
     },
     "execution_count": 7,
     "metadata": {},
     "output_type": "execute_result"
    }
   ],
   "source": [
    "# 转换为Boolean--使用bool()函数\n",
    "num = bool(1)\n",
    "num"
   ]
  },
  {
   "cell_type": "code",
   "execution_count": 10,
   "id": "53adde76",
   "metadata": {},
   "outputs": [
    {
     "data": {
      "text/plain": [
       "(False, False, False)"
      ]
     },
     "execution_count": 10,
     "metadata": {},
     "output_type": "execute_result"
    }
   ],
   "source": [
    "bool(0), bool(0j), bool(0j)"
   ]
  },
  {
   "cell_type": "code",
   "execution_count": 12,
   "id": "9644462c",
   "metadata": {
    "scrolled": false
   },
   "outputs": [
    {
     "data": {
      "text/plain": [
       "(False, False, False, False, True)"
      ]
     },
     "execution_count": 12,
     "metadata": {},
     "output_type": "execute_result"
    }
   ],
   "source": [
    "bool(None), bool([]), bool(\"\"), bool({}), bool(\" \")"
   ]
  },
  {
   "cell_type": "markdown",
   "id": "41a88fd2",
   "metadata": {},
   "source": [
    "python中的整型-255-256常量默认存放在内存固定位置中"
   ]
  },
  {
   "cell_type": "code",
   "execution_count": 18,
   "id": "88c51c23",
   "metadata": {},
   "outputs": [
    {
     "name": "stdout",
     "output_type": "stream",
     "text": [
      "True\n",
      "True\n"
     ]
    },
    {
     "data": {
      "text/plain": [
       "(2507763706160, 2507763706160, 2507763706160)"
      ]
     },
     "execution_count": 18,
     "metadata": {},
     "output_type": "execute_result"
    }
   ],
   "source": [
    "num = 1\n",
    "a = [1]\n",
    "print(id(num) == id(1))\n",
    "print(id(a[0]) == id(1))\n",
    "id(1), id(a[0]),id(num)"
   ]
  },
  {
   "cell_type": "markdown",
   "id": "11a8a128",
   "metadata": {},
   "source": [
    "### 浮点数\n",
    "浮点型数字使用C语言中的**double**类型实现\n",
    "\n",
    "浮点数中的e其实表示10"
   ]
  },
  {
   "cell_type": "code",
   "execution_count": null,
   "id": "a0277b10",
   "metadata": {},
   "outputs": [],
   "source": []
  },
  {
   "cell_type": "code",
   "execution_count": 10,
   "id": "674ac99a",
   "metadata": {},
   "outputs": [
    {
     "data": {
      "text/plain": [
       "True"
      ]
     },
     "execution_count": 10,
     "metadata": {},
     "output_type": "execute_result"
    }
   ],
   "source": [
    "# 浮点数中的e其实表示10\n",
    "1e-3 == 0.001"
   ]
  },
  {
   "cell_type": "markdown",
   "id": "5dbdd85c",
   "metadata": {},
   "source": [
    "查看浮点数的取值范围和精度:\n",
    "\n",
    "min和max是浮点数的最小值和最大值，dig是浮点\n",
    "数所能精确表示的十进制数字的最大位数"
   ]
  },
  {
   "cell_type": "code",
   "execution_count": 11,
   "id": "969cfd3d",
   "metadata": {
    "scrolled": true
   },
   "outputs": [
    {
     "data": {
      "text/plain": [
       "sys.float_info(max=1.7976931348623157e+308, max_exp=1024, max_10_exp=308, min=2.2250738585072014e-308, min_exp=-1021, min_10_exp=-307, dig=15, mant_dig=53, epsilon=2.220446049250313e-16, radix=2, rounds=1)"
      ]
     },
     "execution_count": 11,
     "metadata": {},
     "output_type": "execute_result"
    }
   ],
   "source": [
    "import sys\n",
    "sys.float_info"
   ]
  },
  {
   "cell_type": "markdown",
   "id": "085343cc",
   "metadata": {},
   "source": [
    "### 复数\n",
    "\n",
    "复数由实部和虚部组成，每一部分都是一个浮点数\n"
   ]
  },
  {
   "cell_type": "code",
   "execution_count": 12,
   "id": "3f3ebdb6",
   "metadata": {},
   "outputs": [
    {
     "data": {
      "text/plain": [
       "((1+2j), complex)"
      ]
     },
     "execution_count": 12,
     "metadata": {},
     "output_type": "execute_result"
    }
   ],
   "source": [
    "a = 1 + 2j\n",
    "a, type(a)"
   ]
  },
  {
   "cell_type": "code",
   "execution_count": 14,
   "id": "57a4570b",
   "metadata": {},
   "outputs": [
    {
     "data": {
      "text/plain": [
       "((1+2j), complex)"
      ]
     },
     "execution_count": 14,
     "metadata": {},
     "output_type": "execute_result"
    }
   ],
   "source": [
    "b = complex(1,2)\n",
    "b, type(b)"
   ]
  },
  {
   "cell_type": "code",
   "execution_count": 16,
   "id": "c5c630bb",
   "metadata": {},
   "outputs": [
    {
     "data": {
      "text/plain": [
       "(1j, (1+0j), 0j)"
      ]
     },
     "execution_count": 16,
     "metadata": {},
     "output_type": "execute_result"
    }
   ],
   "source": [
    "complex(0,1), complex(1,0), complex(0,0)"
   ]
  },
  {
   "cell_type": "markdown",
   "id": "516e5b96",
   "metadata": {},
   "source": [
    "## 序列\n",
    "\n",
    "可迭代（iterable）对象是指可以一次返回它的一个元素，字符串、列表、元组都是可迭代的数据类型。\n",
    "可迭代对象（序列、集合或字典）"
   ]
  },
  {
   "cell_type": "markdown",
   "id": "13bb883d",
   "metadata": {},
   "source": [
    "### string"
   ]
  },
  {
   "cell_type": "markdown",
   "id": "ece1c681",
   "metadata": {},
   "source": [
    "#### 字符串转换"
   ]
  },
  {
   "cell_type": "markdown",
   "id": "a18567d9",
   "metadata": {},
   "source": [
    "##### 字符串转成整数\n",
    "\n",
    "第一个参数是要转换为整数的字符串（要求必须是一个整数字符串，否则会报错）\n",
    "    \n",
    "    --int函数仅是将字符串中的数字直接转为整数，不会做任何运算。当要转换的字符串是一个包含运算的表达式时，int函数会报错\n",
    "\n",
    "第二个参数是字符串中整数的数制（不指定则默认为10）"
   ]
  },
  {
   "cell_type": "code",
   "execution_count": 19,
   "id": "8736a651",
   "metadata": {},
   "outputs": [
    {
     "data": {
      "text/plain": [
       "(25, int)"
      ]
     },
     "execution_count": 19,
     "metadata": {},
     "output_type": "execute_result"
    }
   ],
   "source": [
    "a = int(\"25\")\n",
    "a, type(a)"
   ]
  },
  {
   "cell_type": "code",
   "execution_count": 30,
   "id": "ae5055df",
   "metadata": {},
   "outputs": [
    {
     "data": {
      "text/plain": [
       "(25, 21, 37)"
      ]
     },
     "execution_count": 30,
     "metadata": {},
     "output_type": "execute_result"
    }
   ],
   "source": [
    "a, b, c = int(\"25\", base=10), int(\"25\", base=8), int(\"25\", base=16)\n",
    "a,b,c"
   ]
  },
  {
   "cell_type": "code",
   "execution_count": 32,
   "id": "dad4d514",
   "metadata": {},
   "outputs": [
    {
     "name": "stdout",
     "output_type": "stream",
     "text": [
      "invalid literal for int() with base 16: '25+1'\n"
     ]
    }
   ],
   "source": [
    "# 当要转换的字符串是一个包含运算的表达式时，int函数会报错\n",
    "try:\n",
    "    c = int(\"25+1\", base=16) # 因无法转换而报错\n",
    "except Exception as e:\n",
    "    print(e)"
   ]
  },
  {
   "cell_type": "markdown",
   "id": "d9de4cab",
   "metadata": {},
   "source": [
    "##### 字符串转浮点数"
   ]
  },
  {
   "cell_type": "code",
   "execution_count": 33,
   "id": "f2dae27a",
   "metadata": {},
   "outputs": [
    {
     "data": {
      "text/plain": [
       "(35.0, 35.1)"
      ]
     },
     "execution_count": 33,
     "metadata": {},
     "output_type": "execute_result"
    }
   ],
   "source": [
    "a, b = float(\"35\"), float(\"35.1\")\n",
    "a,b"
   ]
  },
  {
   "cell_type": "code",
   "execution_count": 34,
   "id": "8639883a",
   "metadata": {
    "scrolled": true
   },
   "outputs": [
    {
     "name": "stdout",
     "output_type": "stream",
     "text": [
      "could not convert string to float: '34+1'\n"
     ]
    }
   ],
   "source": [
    "try:\n",
    "    c = float(\"34+1\")\n",
    "except Exception as e:\n",
    "    print(e)"
   ]
  },
  {
   "attachments": {
    "image.png": {
     "image/png": "[encoded data removed]"
    }
   },
   "cell_type": "markdown",
   "id": "188e0db0",
   "metadata": {},
   "source": [
    "#### 转义字符\n",
    "\n",
    "![image.png](attachment:image.png)"
   ]
  },
  {
   "cell_type": "code",
   "execution_count": 37,
   "id": "0c9498c7",
   "metadata": {},
   "outputs": [
    {
     "data": {
      "text/plain": [
       "'Hello,world, 你好'"
      ]
     },
     "execution_count": 37,
     "metadata": {},
     "output_type": "execute_result"
    }
   ],
   "source": [
    "# 上一行以\\作为行尾，说明上一行与当前行是同一条语句\n",
    "a = \"Hello,\\\n",
    "world, 你好\"\n",
    "a"
   ]
  },
  {
   "cell_type": "code",
   "execution_count": 38,
   "id": "77edb28a",
   "metadata": {},
   "outputs": [
    {
     "data": {
      "text/plain": [
       "\"it's a good day\""
      ]
     },
     "execution_count": 38,
     "metadata": {},
     "output_type": "execute_result"
    }
   ],
   "source": [
    "b = 'it\\'s a good day'\n",
    "b"
   ]
  },
  {
   "cell_type": "markdown",
   "id": "75613de7",
   "metadata": {},
   "source": [
    "### tuple"
   ]
  },
  {
   "cell_type": "code",
   "execution_count": null,
   "id": "a5036cd5",
   "metadata": {},
   "outputs": [],
   "source": []
  },
  {
   "cell_type": "markdown",
   "id": "d33ca750",
   "metadata": {},
   "source": [
    "### List"
   ]
  },
  {
   "cell_type": "markdown",
   "id": "bf469008",
   "metadata": {},
   "source": [
    "元素批量修改--使用切片和另一个列表"
   ]
  },
  {
   "cell_type": "code",
   "execution_count": 40,
   "id": "f45b331b",
   "metadata": {},
   "outputs": [
    {
     "data": {
      "text/plain": [
       "[True, 999.999, 888.0, 777.111, 4, [1, 1, 2], 35.555]"
      ]
     },
     "execution_count": 40,
     "metadata": {},
     "output_type": "execute_result"
    }
   ],
   "source": [
    "la  = [True, 1,3,4,[1,1,2], 35.555]\n",
    "la[1:-3] = [999.999, 888.000, 777.111]\n",
    "la"
   ]
  },
  {
   "cell_type": "markdown",
   "id": "55026ea8",
   "metadata": {},
   "source": [
    "### 序列运算符\n",
    "\n",
    "用于序列操作的运算符:`+`   `*` "
   ]
  },
  {
   "cell_type": "code",
   "execution_count": 78,
   "id": "8a4d076e",
   "metadata": {},
   "outputs": [
    {
     "data": {
      "text/plain": [
       "['a', 'b', 'c', 'd', 'e', 'f']"
      ]
     },
     "execution_count": 78,
     "metadata": {},
     "output_type": "execute_result"
    }
   ],
   "source": [
    "list_x = list(\"abc\")\n",
    "list_y = list(\"def\")\n",
    "list_x + list_y"
   ]
  },
  {
   "cell_type": "code",
   "execution_count": 79,
   "id": "1d19f9e8",
   "metadata": {},
   "outputs": [
    {
     "data": {
      "text/plain": [
       "'HelloWorld'"
      ]
     },
     "execution_count": 79,
     "metadata": {},
     "output_type": "execute_result"
    }
   ],
   "source": [
    "str_x = \"Hello\"\n",
    "str_y = \"World\"\n",
    "str_x + str_y"
   ]
  },
  {
   "cell_type": "code",
   "execution_count": 80,
   "id": "c77ab137",
   "metadata": {},
   "outputs": [
    {
     "data": {
      "text/plain": [
       "(1, 2, 3, 1, 2, 3, 1, 2, 3, 1, 2, 3)"
      ]
     },
     "execution_count": 80,
     "metadata": {},
     "output_type": "execute_result"
    }
   ],
   "source": [
    "tup_x = (1,2,3)\n",
    "4 * tup_x"
   ]
  },
  {
   "cell_type": "markdown",
   "id": "b303fc1e",
   "metadata": {},
   "source": [
    "## 无序\n",
    "\n",
    "与列表等序列对象不同，在访问字典中的元素时不能通过下标方式访问，而是通过键访问\n",
    "\n",
    "与字符串、列表、元组等序列类型不同，集合中的元素不能使用下标方式访问"
   ]
  },
  {
   "cell_type": "markdown",
   "id": "5fac5a46",
   "metadata": {},
   "source": [
    "### Set\n",
    "与元组和列表类似，Set（集合） 中同样可以包含多个不同类型的元素，但集合中的各元素无序、不允许有相同元素且元素必须是`可哈希（hashable）的对象`。\n",
    "\n",
    "    --可 哈 希 对 象 是 指 拥 有__hash__(self) 内置函数的对象。列 表 、 元 组 、集合和字 典 类型的数 据 不 是可 哈 希 对 象 ， 所 以它们不能作为集合中的元素\n",
    "    \n",
    "与字符串、列表、元组等`序列类型`不同，集合中的元素**不能**使用下标方式访问。\n",
    "集合主要用于做并、交、差等集合运算，以及基于集合进行元素的快速检索。"
   ]
  },
  {
   "cell_type": "code",
   "execution_count": 51,
   "id": "48461db5",
   "metadata": {},
   "outputs": [
    {
     "data": {
      "text/plain": [
       "({1, 2, 3, 4}, {'A', 'B', 'C'}, {(3+4j), 10, 2.5, 5.3, True, 'test'})"
      ]
     },
     "execution_count": 51,
     "metadata": {},
     "output_type": "execute_result"
    }
   ],
   "source": [
    "sa, sb,sc = {1,2,3,4},set([\"A\",\"B\",\"C\"]),set((10, 2.5, 'test', 3+4j, True, 5.3, 2.5))\n",
    "sa,sb, sc"
   ]
  },
  {
   "cell_type": "code",
   "execution_count": 52,
   "id": "eff8514e",
   "metadata": {},
   "outputs": [
    {
     "data": {
      "text/plain": [
       "(dict, set)"
      ]
     },
     "execution_count": 52,
     "metadata": {},
     "output_type": "execute_result"
    }
   ],
   "source": [
    "# 创建空集合与创建空字典易混--{}用于创建空字典，如果要创建一个空集合，则需使用set()\n",
    "dict_a = {}\n",
    "set_a = set()\n",
    "type(dict_a), type(set_a)"
   ]
  },
  {
   "cell_type": "markdown",
   "id": "081c77d4",
   "metadata": {},
   "source": [
    "### dictionary\n",
    "\n",
    "**键 （key）:值（value）对**\n",
    "\n",
    "    键必须是可哈希数据，即键不能是列表、元组、集合、字典等类型；\n",
    "\n",
    "    值可以是任意类型。"
   ]
  },
  {
   "cell_type": "code",
   "execution_count": 53,
   "id": "fde23c81",
   "metadata": {},
   "outputs": [
    {
     "data": {
      "text/plain": [
       "({}, {})"
      ]
     },
     "execution_count": 53,
     "metadata": {},
     "output_type": "execute_result"
    }
   ],
   "source": [
    "dic_a = {}  # 创建空字典\n",
    "dict_b = dict()\n",
    "dict_a, dict_b"
   ]
  },
  {
   "cell_type": "code",
   "execution_count": 71,
   "id": "da305f52",
   "metadata": {
    "scrolled": true
   },
   "outputs": [
    {
     "data": {
      "text/plain": [
       "({'one': 1, 'two': 2, 'three': 3, 'four': 4, 'five': 5, 'six': 6},\n",
       " {'one': 1, 'two': 2, 'three': 3, 'four': 4, 'five': 5, 'six': 6})"
      ]
     },
     "execution_count": 71,
     "metadata": {},
     "output_type": "execute_result"
    }
   ],
   "source": [
    "dict_a = {\"one\":1, \"two\":2, \"three\":3, \"four\":4, \"five\":5, \"six\":6}\n",
    "# dict(dictionary) #dictionary是一个已有的字典\n",
    "dict_b = dict(dict_a)\n",
    "dict_a, dict_b"
   ]
  },
  {
   "cell_type": "code",
   "execution_count": 72,
   "id": "07697313",
   "metadata": {},
   "outputs": [
    {
     "data": {
      "text/plain": [
       "{'one': 1, 'two': 2, 'three': 3}"
      ]
     },
     "execution_count": 72,
     "metadata": {},
     "output_type": "execute_result"
    }
   ],
   "source": [
    "dict_c = dict([(\"one\",1),(\"two\",2),(\"three\",3)])\n",
    "dict_c"
   ]
  },
  {
   "cell_type": "code",
   "execution_count": 77,
   "id": "07a7bd40",
   "metadata": {},
   "outputs": [
    {
     "data": {
      "text/plain": [
       "({'name': 'chen', 'age': 18, 'score': {'python': 99, 'c++': 100}}, 'chen', 100)"
      ]
     },
     "execution_count": 77,
     "metadata": {},
     "output_type": "execute_result"
    }
   ],
   "source": [
    "# 使用=不用使用双引号\n",
    "dic_a = dict(name = \"chen\",age=18, score={\"python\":99, \"c++\":100})\n",
    "# 访问时注意使用双引号\n",
    "dic_a, dic_a[\"name\"], dic_a[\"score\"][\"c++\"]"
   ]
  },
  {
   "cell_type": "markdown",
   "id": "b869e9f7",
   "metadata": {},
   "source": [
    "for循环遍历字典时每次得到的是字典的键"
   ]
  },
  {
   "cell_type": "code",
   "execution_count": 81,
   "id": "994a2951",
   "metadata": {},
   "outputs": [
    {
     "name": "stdout",
     "output_type": "stream",
     "text": [
      "one\n",
      "two\n",
      "three\n"
     ]
    }
   ],
   "source": [
    "dict_c = dict([(\"one\",1),(\"two\",2),(\"three\",3)])\n",
    "for element in dict_c:\n",
    "    print(element)"
   ]
  }
 ],
 "metadata": {
  "kernelspec": {
   "display_name": "Python 3 (ipykernel)",
   "language": "python",
   "name": "python3"
  },
  "language_info": {
   "codemirror_mode": {
    "name": "ipython",
    "version": 3
   },
   "file_extension": ".py",
   "mimetype": "text/x-python",
   "name": "python",
   "nbconvert_exporter": "python",
   "pygments_lexer": "ipython3",
   "version": "3.9.7"
  },
  "toc": {
   "base_numbering": 1,
   "nav_menu": {},
   "number_sections": true,
   "sideBar": true,
   "skip_h1_title": false,
   "title_cell": "Table of Contents",
   "title_sidebar": "Contents",
   "toc_cell": false,
   "toc_position": {},
   "toc_section_display": true,
   "toc_window_display": false
  }
 },
 "nbformat": 4,
 "nbformat_minor": 5
}
