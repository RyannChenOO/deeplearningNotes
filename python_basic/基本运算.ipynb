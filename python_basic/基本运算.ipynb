{
 "cells": [
  {
   "cell_type": "code",
   "execution_count": 1,
   "id": "c59b51b6",
   "metadata": {},
   "outputs": [],
   "source": [
    "import math"
   ]
  },
  {
   "cell_type": "markdown",
   "id": "97e91769",
   "metadata": {},
   "source": [
    "# 算数运算"
   ]
  },
  {
   "cell_type": "code",
   "execution_count": 3,
   "id": "e0dc8fe5",
   "metadata": {},
   "outputs": [
    {
     "data": {
      "text/plain": [
       "(2.5, 2)"
      ]
     },
     "execution_count": 3,
     "metadata": {},
     "output_type": "execute_result"
    }
   ],
   "source": [
    "# // 是整除\n",
    "a, b = 5 / 2, 5 // 2\n",
    "a,b"
   ]
  },
  {
   "cell_type": "code",
   "execution_count": 4,
   "id": "b33be250",
   "metadata": {},
   "outputs": [
    {
     "data": {
      "text/plain": [
       "3.5999999999999996"
      ]
     },
     "execution_count": 4,
     "metadata": {},
     "output_type": "execute_result"
    }
   ],
   "source": [
    "# 十进制小数在转换为二进制时有可能会产生精度损失\n",
    "a = 1.5\n",
    "b = 2.4\n",
    "a * b  # 实际结果应该是3.6"
   ]
  },
  {
   "cell_type": "code",
   "execution_count": null,
   "id": "c1c0bcf8",
   "metadata": {},
   "outputs": [],
   "source": []
  },
  {
   "cell_type": "markdown",
   "id": "29d3a7a9",
   "metadata": {},
   "source": [
    "# 身份运算符\n",
    "\n",
    "x is y -- id(x)==id(y)"
   ]
  },
  {
   "cell_type": "code",
   "execution_count": 7,
   "id": "49ddb42b",
   "metadata": {},
   "outputs": [
    {
     "data": {
      "text/plain": [
       "(True, True)"
      ]
     },
     "execution_count": 7,
     "metadata": {},
     "output_type": "execute_result"
    }
   ],
   "source": [
    "# python中的整型-255-256常量默认存放在内存固定位置中\n",
    "x = 15\n",
    "y = 15\n",
    "# x is y -- id(x)==id(y)\n",
    "x is y, id(x)==id(y)"
   ]
  },
  {
   "cell_type": "code",
   "execution_count": 8,
   "id": "51e61528",
   "metadata": {},
   "outputs": [
    {
     "data": {
      "text/plain": [
       "(False, False)"
      ]
     },
     "execution_count": 8,
     "metadata": {},
     "output_type": "execute_result"
    }
   ],
   "source": [
    "x = [1,2,3]\n",
    "y = [1,2,3]\n",
    "x is y, id(x)==id(y)"
   ]
  },
  {
   "cell_type": "code",
   "execution_count": 9,
   "id": "f05bbbce",
   "metadata": {},
   "outputs": [
    {
     "data": {
      "text/plain": [
       "True"
      ]
     },
     "execution_count": 9,
     "metadata": {},
     "output_type": "execute_result"
    }
   ],
   "source": [
    "x = 15\n",
    "y = x\n",
    "x is y"
   ]
  },
  {
   "cell_type": "code",
   "execution_count": 10,
   "id": "884a0a9f",
   "metadata": {},
   "outputs": [
    {
     "data": {
      "text/plain": [
       "True"
      ]
     },
     "execution_count": 10,
     "metadata": {},
     "output_type": "execute_result"
    }
   ],
   "source": [
    "x = 15\n",
    "y = [15]\n",
    "x is not y"
   ]
  },
  {
   "cell_type": "markdown",
   "id": "1df9c413",
   "metadata": {},
   "source": [
    "# 成员运算符\n",
    "\n",
    "成员运算用于判断一个可迭代对象（序列、集合或字典）中是否包含某个元素。\n",
    "\n",
    "    使用成员运算符判断一个数据是否是字典中的元素，实际上就是判断该数据是否是字典中某个元素的键。"
   ]
  },
  {
   "cell_type": "code",
   "execution_count": 14,
   "id": "ff08b754",
   "metadata": {},
   "outputs": [
    {
     "data": {
      "text/plain": [
       "(True, True, True)"
      ]
     },
     "execution_count": 14,
     "metadata": {},
     "output_type": "execute_result"
    }
   ],
   "source": [
    "la = [\"a\", \"b\"]\n",
    "y = \"b\"\n",
    "\"a\" in la, \"c\" not in la, y in la"
   ]
  },
  {
   "cell_type": "code",
   "execution_count": 16,
   "id": "4b91a0bf",
   "metadata": {},
   "outputs": [
    {
     "data": {
      "text/plain": [
       "(True, False)"
      ]
     },
     "execution_count": 16,
     "metadata": {},
     "output_type": "execute_result"
    }
   ],
   "source": [
    "dict_a = {\"a\":1, \"b\":2, \"c\":3}\n",
    "\"a\" in dict_a, 1 in dict_a"
   ]
  },
  {
   "cell_type": "markdown",
   "id": "36fec0b5",
   "metadata": {},
   "source": [
    "# pass占位符\n",
    "\n",
    "pass表示一个空操作，只起到一个占位作用，执行时什么都不做\n",
    "\n",
    "在程序中所有需要的地方都可以使用pass作为占位符"
   ]
  },
  {
   "cell_type": "code",
   "execution_count": 17,
   "id": "b3df1235",
   "metadata": {},
   "outputs": [
    {
     "name": "stdout",
     "output_type": "stream",
     "text": [
      "请输入成绩25\n",
      "bad\n"
     ]
    }
   ],
   "source": [
    "score = int(input(\"请输入成绩\"))\n",
    "if score > 60:\n",
    "    pass\n",
    "elif score > 20:\n",
    "    print(\"bad\")\n",
    "else:\n",
    "    print(\"awful\")"
   ]
  },
  {
   "cell_type": "markdown",
   "id": "7b65cc13",
   "metadata": {},
   "source": [
    "# else\n",
    "\n",
    "在for循环和while循环后面可以跟着else分支，当for循环已经遍 历完列表中所有元素或while循环的条件为False时，就会执行else分支。"
   ]
  },
  {
   "cell_type": "code",
   "execution_count": 18,
   "id": "6413229e",
   "metadata": {},
   "outputs": [
    {
     "name": "stdout",
     "output_type": "stream",
     "text": [
      "a\n",
      "b\n",
      "c\n",
      "end\n"
     ]
    }
   ],
   "source": [
    "for elem in list(\"abc\"):\n",
    "    print(elem)\n",
    "else:\n",
    "    print(\"end\")"
   ]
  },
  {
   "cell_type": "code",
   "execution_count": 20,
   "id": "5da59a3c",
   "metadata": {},
   "outputs": [
    {
     "name": "stdout",
     "output_type": "stream",
     "text": [
      "end\n"
     ]
    }
   ],
   "source": [
    "dict_a = {\"a\":1, \"b\":2, \"c\":3}\n",
    "while(len(dict_a) > 4):\n",
    "    print(\"in while loop\")\n",
    "else:\n",
    "    print(\"end\")"
   ]
  },
  {
   "cell_type": "code",
   "execution_count": 24,
   "id": "123cbb60",
   "metadata": {},
   "outputs": [
    {
     "data": {
      "text/plain": [
       "35"
      ]
     },
     "execution_count": 24,
     "metadata": {},
     "output_type": "execute_result"
    }
   ],
   "source": [
    "int(\"35\")"
   ]
  },
  {
   "cell_type": "code",
   "execution_count": 37,
   "id": "785f44c1",
   "metadata": {},
   "outputs": [
    {
     "name": "stdout",
     "output_type": "stream",
     "text": [
      "请输入您要到达的楼层，按'#'停止13\n",
      "实际到达层数：13\n",
      "请输入您要到达的楼层，按'#'停止#\n"
     ]
    }
   ],
   "source": [
    "def floor():\n",
    "    max_floor = 22\n",
    "    while(True):\n",
    "        f = input(\"请输入您要到达的楼层，按'#'停止\")\n",
    "        try:\n",
    "            if f == \"#\":\n",
    "                break\n",
    "            result = int(f)\n",
    "            if result < 1 or result >max_floor or result==14 or result==18:\n",
    "                result = None\n",
    "                print(\"输入楼层无效，请重新输入或按'#'退出\")\n",
    "            elif result >14 and result < 18:\n",
    "                result = result - 1\n",
    "            elif result > 18 and result <=max_floorx:\n",
    "                result = result - 2\n",
    "            if result is not None:\n",
    "                print(\"实际到达层数：%d\"%result)\n",
    "        except ValueError:\n",
    "            print(\"输入楼层无效，请重新输入或按'#'退出\")\n",
    "if __name__ == '__main__':\n",
    "    floor()"
   ]
  },
  {
   "cell_type": "code",
   "execution_count": 30,
   "id": "f621a471",
   "metadata": {},
   "outputs": [
    {
     "ename": "ValueError",
     "evalue": "invalid literal for int() with base 10: 'A'",
     "output_type": "error",
     "traceback": [
      "\u001b[1;31m---------------------------------------------------------------------------\u001b[0m",
      "\u001b[1;31mValueError\u001b[0m                                Traceback (most recent call last)",
      "Input \u001b[1;32mIn [30]\u001b[0m, in \u001b[0;36m<cell line: 1>\u001b[1;34m()\u001b[0m\n\u001b[1;32m----> 1\u001b[0m \u001b[38;5;28;43mint\u001b[39;49m\u001b[43m(\u001b[49m\u001b[38;5;124;43m\"\u001b[39;49m\u001b[38;5;124;43mA\u001b[39;49m\u001b[38;5;124;43m\"\u001b[39;49m\u001b[43m)\u001b[49m\n",
      "\u001b[1;31mValueError\u001b[0m: invalid literal for int() with base 10: 'A'"
     ]
    }
   ],
   "source": [
    "int(\"A\")"
   ]
  }
 ],
 "metadata": {
  "kernelspec": {
   "display_name": "Python 3 (ipykernel)",
   "language": "python",
   "name": "python3"
  },
  "language_info": {
   "codemirror_mode": {
    "name": "ipython",
    "version": 3
   },
   "file_extension": ".py",
   "mimetype": "text/x-python",
   "name": "python",
   "nbconvert_exporter": "python",
   "pygments_lexer": "ipython3",
   "version": "3.9.7"
  },
  "toc": {
   "base_numbering": 1,
   "nav_menu": {},
   "number_sections": true,
   "sideBar": true,
   "skip_h1_title": false,
   "title_cell": "Table of Contents",
   "title_sidebar": "Contents",
   "toc_cell": false,
   "toc_position": {},
   "toc_section_display": true,
   "toc_window_display": false
  }
 },
 "nbformat": 4,
 "nbformat_minor": 5
}
