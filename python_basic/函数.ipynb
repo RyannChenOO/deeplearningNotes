{
 "cells": [
  {
   "cell_type": "markdown",
   "id": "4dc13c65",
   "metadata": {},
   "source": [
    "# 匿名函数与map方法\n",
    "\n",
    "有一些函数的定义具有清晰简单的映射关系，可以用匿名函数的方法简洁地表示："
   ]
  },
  {
   "cell_type": "code",
   "execution_count": 2,
   "id": "e98a62ca",
   "metadata": {
    "ExecuteTime": {
     "end_time": "2022-08-23T01:38:40.758037Z",
     "start_time": "2022-08-23T01:38:40.745286Z"
    }
   },
   "outputs": [],
   "source": [
    "def myfunc(x):\n",
    "    return 2 * x"
   ]
  },
  {
   "cell_type": "code",
   "execution_count": 4,
   "id": "ba8db019",
   "metadata": {
    "ExecuteTime": {
     "end_time": "2022-08-23T01:39:14.778107Z",
     "start_time": "2022-08-23T01:39:14.775005Z"
    }
   },
   "outputs": [],
   "source": [
    "# 匿名函数的写法\n",
    "myfunc2 = lambda x : 2 * x"
   ]
  },
  {
   "cell_type": "code",
   "execution_count": 5,
   "id": "5bc29092",
   "metadata": {
    "ExecuteTime": {
     "end_time": "2022-08-23T01:39:25.067932Z",
     "start_time": "2022-08-23T01:39:25.049837Z"
    }
   },
   "outputs": [
    {
     "data": {
      "text/plain": [
       "(4, 4)"
      ]
     },
     "execution_count": 5,
     "metadata": {},
     "output_type": "execute_result"
    }
   ],
   "source": [
    "myfunc(2), myfunc2(2)"
   ]
  },
  {
   "cell_type": "markdown",
   "id": "55dbccde",
   "metadata": {},
   "source": [
    "多参数的情况"
   ]
  },
  {
   "cell_type": "code",
   "execution_count": 7,
   "id": "dcce433e",
   "metadata": {
    "ExecuteTime": {
     "end_time": "2022-08-23T01:41:29.887439Z",
     "start_time": "2022-08-23T01:41:29.879610Z"
    }
   },
   "outputs": [],
   "source": [
    "func = lambda a,b : a + b"
   ]
  },
  {
   "cell_type": "code",
   "execution_count": 9,
   "id": "66ef311c",
   "metadata": {
    "ExecuteTime": {
     "end_time": "2022-08-23T01:41:35.735252Z",
     "start_time": "2022-08-23T01:41:35.721714Z"
    }
   },
   "outputs": [
    {
     "data": {
      "text/plain": [
       "7"
      ]
     },
     "execution_count": 9,
     "metadata": {},
     "output_type": "execute_result"
    }
   ],
   "source": [
    "func(3,4)"
   ]
  },
  {
   "cell_type": "markdown",
   "id": "f83c3074",
   "metadata": {},
   "source": [
    "它往往在无需多处调用的场合进行使用，例如用户不关心函数的名字，只关心这种映射的关系"
   ]
  },
  {
   "cell_type": "code",
   "execution_count": 14,
   "id": "15f7322b",
   "metadata": {
    "ExecuteTime": {
     "end_time": "2022-08-23T01:43:39.189477Z",
     "start_time": "2022-08-23T01:43:39.176991Z"
    }
   },
   "outputs": [
    {
     "data": {
      "text/plain": [
       "[0, 2, 4, 6, 8]"
      ]
     },
     "execution_count": 14,
     "metadata": {},
     "output_type": "execute_result"
    }
   ],
   "source": [
    "# 列表推导式的匿名函数映射\n",
    "[(lambda x : 2 * x)(i) for i in range(5)]"
   ]
  },
  {
   "cell_type": "markdown",
   "id": "2c28e2b1",
   "metadata": {},
   "source": [
    "对于上述的这种列表推导式的匿名函数映射，Python中提供了map函数来完成，它返回的是一个map对象，需要通过list转为列表"
   ]
  },
  {
   "cell_type": "code",
   "execution_count": 16,
   "id": "bac3e04c",
   "metadata": {
    "ExecuteTime": {
     "end_time": "2022-08-23T01:44:47.486132Z",
     "start_time": "2022-08-23T01:44:47.478646Z"
    }
   },
   "outputs": [
    {
     "data": {
      "text/plain": [
       "[0, 2, 4, 6, 8]"
      ]
     },
     "execution_count": 16,
     "metadata": {},
     "output_type": "execute_result"
    }
   ],
   "source": [
    "list(map(lambda x : 2 * x, range(5)))"
   ]
  },
  {
   "cell_type": "markdown",
   "id": "b25d8041",
   "metadata": {},
   "source": [
    "对于多个输入值的函数映射，可以通过追加迭代对象实现"
   ]
  },
  {
   "cell_type": "code",
   "execution_count": 21,
   "id": "64ec8991",
   "metadata": {
    "ExecuteTime": {
     "end_time": "2022-08-23T01:47:05.584794Z",
     "start_time": "2022-08-23T01:47:05.574477Z"
    }
   },
   "outputs": [
    {
     "data": {
      "text/plain": [
       "['0_a', '1_b', '2_c', '3_d']"
      ]
     },
     "execution_count": 21,
     "metadata": {},
     "output_type": "execute_result"
    }
   ],
   "source": [
    "list(map(lambda a,b: str(a)+\"_\"+b,range(5),list(\"abcd\")))"
   ]
  },
  {
   "cell_type": "code",
   "execution_count": null,
   "id": "9313baf2",
   "metadata": {},
   "outputs": [],
   "source": []
  }
 ],
 "metadata": {
  "kernelspec": {
   "display_name": "Python 3 (ipykernel)",
   "language": "python",
   "name": "python3"
  },
  "language_info": {
   "codemirror_mode": {
    "name": "ipython",
    "version": 3
   },
   "file_extension": ".py",
   "mimetype": "text/x-python",
   "name": "python",
   "nbconvert_exporter": "python",
   "pygments_lexer": "ipython3",
   "version": "3.9.7"
  },
  "toc": {
   "base_numbering": 1,
   "nav_menu": {},
   "number_sections": true,
   "sideBar": true,
   "skip_h1_title": false,
   "title_cell": "Table of Contents",
   "title_sidebar": "Contents",
   "toc_cell": false,
   "toc_position": {},
   "toc_section_display": true,
   "toc_window_display": false
  },
  "varInspector": {
   "cols": {
    "lenName": 16,
    "lenType": 16,
    "lenVar": 40
   },
   "kernels_config": {
    "python": {
     "delete_cmd_postfix": "",
     "delete_cmd_prefix": "del ",
     "library": "var_list.py",
     "varRefreshCmd": "print(var_dic_list())"
    },
    "r": {
     "delete_cmd_postfix": ") ",
     "delete_cmd_prefix": "rm(",
     "library": "var_list.r",
     "varRefreshCmd": "cat(var_dic_list()) "
    }
   },
   "types_to_exclude": [
    "module",
    "function",
    "builtin_function_or_method",
    "instance",
    "_Feature"
   ],
   "window_display": false
  }
 },
 "nbformat": 4,
 "nbformat_minor": 5
}
