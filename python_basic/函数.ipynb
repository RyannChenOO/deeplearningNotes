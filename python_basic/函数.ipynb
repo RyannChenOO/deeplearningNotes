{
 "cells": [
  {
   "cell_type": "markdown",
   "id": "7d5e4aa4",
   "metadata": {},
   "source": [
    "# 函数传参"
   ]
  },
  {
   "cell_type": "markdown",
   "id": "721ff77b",
   "metadata": {},
   "source": [
    "## 引用传递"
   ]
  },
  {
   "cell_type": "code",
   "execution_count": 1,
   "id": "a79efd93",
   "metadata": {},
   "outputs": [
    {
     "name": "stdout",
     "output_type": "stream",
     "text": [
      "修改前x的地址 1490410697664\n",
      "修改前y的地址 1490410696832\n",
      "[4, 5, 6]\n",
      "修改后x的地址 1490410696832\n",
      "c的地址 1490410697664\n"
     ]
    },
    {
     "data": {
      "text/plain": [
       "[1, 3, 5]"
      ]
     },
     "execution_count": 1,
     "metadata": {},
     "output_type": "execute_result"
    }
   ],
   "source": [
    "def ModifyVal(x,y):\n",
    "    \"\"\"理解引用传递\"\"\"\n",
    "    print(\"修改前x的地址\", id(x))\n",
    "    print(\"修改前y的地址\", id(y))\n",
    "    # 实际上是引用赋值\n",
    "    x = y \n",
    "    print(x)\n",
    "    print(\"修改后x的地址\", id(x))\n",
    "    \n",
    "c = [1,3,5]\n",
    "# 列表传参--是引用，传递的是列表的首地址\n",
    "ModifyVal(c, [4,5,6])\n",
    "print(\"c的地址\", id(c))\n",
    "c"
   ]
  },
  {
   "cell_type": "code",
   "execution_count": 2,
   "id": "277727a0",
   "metadata": {},
   "outputs": [
    {
     "data": {
      "text/plain": [
       "[1, 3, 20]"
      ]
     },
     "execution_count": 2,
     "metadata": {},
     "output_type": "execute_result"
    }
   ],
   "source": [
    "def ModifyListElement(ls, idx, val):\n",
    "    \"\"\"引用传递可成功修改\"\"\"\n",
    "    # 实际上是所引用的地址赋值\n",
    "    ls[idx] = val\n",
    "c = [1,3,5]\n",
    "ModifyListElement(c, 2, 20)\n",
    "c"
   ]
  },
  {
   "cell_type": "code",
   "execution_count": 3,
   "id": "36cd9116",
   "metadata": {},
   "outputs": [
    {
     "name": "stdout",
     "output_type": "stream",
     "text": [
      "('p', 'y', 't', 'h', 'o', 'n')\n",
      "(3, 5, 2, 7, 1)\n"
     ]
    }
   ],
   "source": [
    "def fun(*args):\n",
    "    print(args)\n",
    "\n",
    "str = \"python\"\n",
    "fun(*str)\n",
    "ls = [3,5,2,7,1]\n",
    "fun(*ls)"
   ]
  },
  {
   "cell_type": "markdown",
   "id": "363dd061",
   "metadata": {},
   "source": [
    "## 默认参数和关键字参数\n",
    "\n",
    "函数的默认参数就是缺省参数，即当调用函数时，如果没\n",
    "有为某些形参传递对应的实参，则这些形参会自动使用默\n",
    "认参数值。\n",
    "\n",
    "    元组（位置参数）\n",
    "    字典（关键字参数）\n",
    "\n",
    "位置参数和关键字参数可以混合使用，但位置\n",
    "参数必须在前、关键字参数在后"
   ]
  },
  {
   "cell_type": "code",
   "execution_count": 2,
   "id": "f7f94210",
   "metadata": {},
   "outputs": [
    {
     "name": "stdout",
     "output_type": "stream",
     "text": [
      "姓名chen， 年龄18， 国籍china\n",
      "姓名ryann， 年龄23， 国籍Ama\n"
     ]
    }
   ],
   "source": [
    "def stu_info(name, age, country=\"china\"):\n",
    "    \"\"\"打印学生的信息\"\"\"\n",
    "    print(\"姓名%s， 年龄%d， 国籍%s\"%(name, age, country))\n",
    "\n",
    "stu_info(\"chen\", 18)\n",
    "stu_info(\"ryann\",23,\"Ama\")"
   ]
  },
  {
   "cell_type": "code",
   "execution_count": 6,
   "id": "18c9be3e",
   "metadata": {},
   "outputs": [
    {
     "name": "stdout",
     "output_type": "stream",
     "text": [
      "姓名David， 年龄18，受教育程度: 博士,  国籍: china\n"
     ]
    }
   ],
   "source": [
    "def edu_info(name, age, degree=\"本科\", country=\"china\"):\n",
    "    print(\"姓名%s， 年龄%d，受教育程度: %s,  国籍: %s\"%(name, age, degree, country))\n",
    "\n",
    "# 位置参数：种通过位置来体现实参和形参的对应关系\n",
    "edu_info(\"David\", 18, \"博士\")"
   ]
  },
  {
   "cell_type": "code",
   "execution_count": 8,
   "id": "9ed613c8",
   "metadata": {},
   "outputs": [
    {
     "name": "stdout",
     "output_type": "stream",
     "text": [
      "姓名David， 年龄18，受教育程度: 本科,  国籍: England\n",
      "姓名Ming， 年龄22，受教育程度: 研究生,  国籍: Austra\n"
     ]
    }
   ],
   "source": [
    "def edu_info(name, age, degree=\"本科\", country=\"china\"):\n",
    "    print(\"姓名%s， 年龄%d，受教育程度: %s,  国籍: %s\"%(name, age, degree, country))\n",
    "\n",
    "# 关键字参数\n",
    "edu_info(\"David\", 18, country=\"England\")\n",
    "\n",
    "# 关键字参数允许顺序改变\n",
    "edu_info(\"Ming\", 22, country=\"Austra\", degree=\"研究生\")"
   ]
  },
  {
   "cell_type": "code",
   "execution_count": 12,
   "id": "ad5f60ee",
   "metadata": {},
   "outputs": [
    {
     "ename": "SyntaxError",
     "evalue": "non-default argument follows default argument (4258833723.py, line 2)",
     "output_type": "error",
     "traceback": [
      "\u001b[1;36m  Input \u001b[1;32mIn [12]\u001b[1;36m\u001b[0m\n\u001b[1;33m    def StudentInfo(country='中国',name):\u001b[0m\n\u001b[1;37m                                     ^\u001b[0m\n\u001b[1;31mSyntaxError\u001b[0m\u001b[1;31m:\u001b[0m non-default argument follows default argument\n"
     ]
    }
   ],
   "source": [
    "# 位置参数和关键字参数可以混合使用，但位置参数必须在前、关键字参数在后\n",
    "def StudentInfo(country='中国',name):\n",
    "    print('%s，%s'%(name,country))"
   ]
  },
  {
   "cell_type": "code",
   "execution_count": null,
   "id": "46a03be4",
   "metadata": {},
   "outputs": [],
   "source": []
  },
  {
   "cell_type": "markdown",
   "id": "9ca6d8f2",
   "metadata": {},
   "source": [
    "## 不定长参数\n",
    "\n",
    "一般情况下，不定长参数是放在形参列表的最后，前面传入的实参与普通形参一一对应，而后面剩余的实参会被封装成元组或字典后传给不定长参数\n",
    "\n",
    "    “*不定长参数名” 表示这个不定长参数对应的是一组位置参数；·元组·\n",
    "    而 “**不定长参数名” 表示这个不定长参数对应的是一组关键字参数。·字典·"
   ]
  },
  {
   "cell_type": "code",
   "execution_count": 14,
   "id": "b3edb1cd",
   "metadata": {},
   "outputs": [
    {
     "name": "stdout",
     "output_type": "stream",
     "text": [
      "<class 'tuple'>\n",
      "('David', 18, '博士')\n"
     ]
    }
   ],
   "source": [
    "def info(*args):\n",
    "    print(type(args))  # 元组\n",
    "    print(args)\n",
    "info(\"David\", 18, \"博士\")"
   ]
  },
  {
   "cell_type": "code",
   "execution_count": 15,
   "id": "b3999d02",
   "metadata": {},
   "outputs": [
    {
     "name": "stdout",
     "output_type": "stream",
     "text": [
      "<class 'dict'>\n",
      "{'name': 'David', 'age': 18, 'degree': '博士'}\n"
     ]
    }
   ],
   "source": [
    "def info(**args):\n",
    "    print(type(args))  # 字典\n",
    "    print(args)\n",
    "info(name=\"David\", age=18, degree=\"博士\")"
   ]
  },
  {
   "cell_type": "markdown",
   "id": "222b28bd",
   "metadata": {},
   "source": [
    "一般情况下，不定长参数是放在形参列表的最后，前面传入的实参与普通形参一一对应，而后面剩余的实参会被封装成元组或字典后传给不定长参数。\n",
    "\n",
    "    def 函数名([普通形参列表,] **不定长参数名):\n",
    "        函数体\n",
    "    def 函数名([普通形参列表,] *不定长参数名):\n",
    "        函数体"
   ]
  },
  {
   "cell_type": "code",
   "execution_count": 19,
   "id": "3caa5474",
   "metadata": {},
   "outputs": [
    {
     "name": "stdout",
     "output_type": "stream",
     "text": [
      "<class 'tuple'>\n",
      "occupation teacher\n",
      "('David', 18, '博士')\n"
     ]
    }
   ],
   "source": [
    "# 普通参数+不定长参数\n",
    "def stu_info(occupation, *args):\n",
    "    print(type(args))\n",
    "    print(\"occupation %s\"%occupation)\n",
    "    print(args)\n",
    "\n",
    "stu_info(\"teacher\",\"David\", 18, \"博士\" )"
   ]
  },
  {
   "cell_type": "code",
   "execution_count": 20,
   "id": "d63c954a",
   "metadata": {},
   "outputs": [
    {
     "name": "stdout",
     "output_type": "stream",
     "text": [
      "<class 'dict'>\n",
      "occupation teacher\n",
      "{'name': 'David', 'age': 18, 'degree': '博士'}\n"
     ]
    }
   ],
   "source": [
    "# 普通参数+不定长参数\n",
    "def stu_info(occupation, **args):\n",
    "    print(type(args))\n",
    "    print(\"occupation %s\"%occupation)\n",
    "    print(args)\n",
    "stu_info(\"teacher\",name=\"David\", age=18, degree=\"博士\" )"
   ]
  },
  {
   "cell_type": "markdown",
   "id": "f17857ee",
   "metadata": {},
   "source": [
    "后面添加关键字参数，只允许不定长位置参数\n",
    "     \n",
    "    def 函数名([普通形参列表,] *不定长参数名, 关键字参数):\n",
    "        函数体"
   ]
  },
  {
   "cell_type": "code",
   "execution_count": 26,
   "id": "500e0ef9",
   "metadata": {},
   "outputs": [
    {
     "name": "stdout",
     "output_type": "stream",
     "text": [
      "<class 'tuple'>\n",
      "occupation: teacher, country: Engla, 其他：  ('David', 18, '博士')\n",
      "<class 'tuple'>\n",
      "occupation: teacher, country: china, 其他：  ('David', 18, '博士')\n"
     ]
    }
   ],
   "source": [
    "# 普通参数+不定长位置参数+关键字参数\n",
    "def stu_info(occupation, *args, country=\"china\"):\n",
    "    print(type(args))\n",
    "    print(\"occupation: %s, country: %s, 其他： \"%(occupation, country),args)\n",
    "stu_info(\"teacher\",\"David\", 18, \"博士\", country=\"Engla\" )\n",
    "stu_info(\"teacher\",\"David\", 18, \"博士\" )"
   ]
  },
  {
   "cell_type": "code",
   "execution_count": 27,
   "id": "b687c2e8",
   "metadata": {},
   "outputs": [
    {
     "ename": "SyntaxError",
     "evalue": "invalid syntax (2912141998.py, line 2)",
     "output_type": "error",
     "traceback": [
      "\u001b[1;36m  Input \u001b[1;32mIn [27]\u001b[1;36m\u001b[0m\n\u001b[1;33m    def stu_info(occupation, **args, country=\"china\"):\u001b[0m\n\u001b[1;37m                                     ^\u001b[0m\n\u001b[1;31mSyntaxError\u001b[0m\u001b[1;31m:\u001b[0m invalid syntax\n"
     ]
    }
   ],
   "source": [
    "# 普通参数+不定长参数+关键字参数，下列使用**args的方式报错\n",
    "def stu_info(occupation, **args, country=\"china\"):\n",
    "    print(type(args))\n",
    "    print(\"occupation%s, country%s, 其他： \"%(occupation, country, args))\n",
    "aastu_info(\"teacher\",name=\"David\", age=18, degree=\"博士\", country=\"Engla\" )\n",
    "stu_info(\"teacher\",name=\"David\", age=18, degree=\"博士\" )"
   ]
  },
  {
   "cell_type": "markdown",
   "id": "4f07b23a",
   "metadata": {},
   "source": [
    "两种混合传递"
   ]
  },
  {
   "cell_type": "code",
   "execution_count": 37,
   "id": "c28d17ff",
   "metadata": {},
   "outputs": [
    {
     "name": "stdout",
     "output_type": "stream",
     "text": [
      "99\n",
      "(1, 2, 3, 4)\n",
      "{'name': 'chen', 'age': 18}\n",
      "--------------------------------------------------\n",
      "[1, 2, 3, 4]\n",
      "{'name': 'chen', 'age': 18}\n"
     ]
    }
   ],
   "source": [
    "def create(num, *args, **kwargs):\n",
    "    print(num)\n",
    "    print(args)\n",
    "    print(kwargs)\n",
    "    new_list = list(args)\n",
    "    new_dict = dict(kwargs)\n",
    "    print(\"-\"*50)\n",
    "    print(new_list)\n",
    "    print(new_dict)\n",
    "\n",
    "create(99, 1,2,3,4, name=\"chen\", age=18)"
   ]
  },
  {
   "cell_type": "markdown",
   "id": "b082592f",
   "metadata": {},
   "source": [
    " ## 拆分参数列表\n",
    " 如果一个函数所需要的参数已经存储在了列表、元组或字典中，则可以直接从列表、元组或字典中拆分出来函数所需要的这些参数\n",
    "\n",
    "其中列表、元组拆分出来的结果作为位置参数，而字典拆分出来的结果作为关键字参数。\n",
    "\n",
    "    **d的作用是把字典d中的所有元素拆分出来作为实参\n",
    "    *ls的作用是把列表ls中的所有元素拆分出来作为实参"
   ]
  },
  {
   "cell_type": "code",
   "execution_count": 30,
   "id": "223527e9",
   "metadata": {},
   "outputs": [
    {
     "name": "stdout",
     "output_type": "stream",
     "text": [
      "姓名 chen, 年龄 18, 性别 F\n"
     ]
    }
   ],
   "source": [
    "def info(name, age, sex):\n",
    "    print(\"姓名 %s, 年龄 %2d, 性别 %s\" %(name, age, sex))\n",
    "\n",
    "# 参数已经存在列表中了\n",
    "param_list = [\"chen\", 18, \"F\"]\n",
    "info(*param_list)"
   ]
  },
  {
   "cell_type": "code",
   "execution_count": 34,
   "id": "a05a59a5",
   "metadata": {},
   "outputs": [
    {
     "name": "stdout",
     "output_type": "stream",
     "text": [
      "姓名 ryann, 年龄 20, 性别 M\n"
     ]
    }
   ],
   "source": [
    "def info(name, age, sex=\"F\"):\n",
    "    print(\"姓名 %s, 年龄 %2d, 性别 %s\" %(name, age, sex))\n",
    "    \n",
    "# 参数已经存在字典中了 \n",
    "param_dict = {\"name\":\"ryann\", \"age\":20, \"sex\":\"M\"}\n",
    "info(**param_dict)"
   ]
  },
  {
   "cell_type": "markdown",
   "id": "f6c3b491",
   "metadata": {},
   "source": [
    "## 不定长参数+拆分参数\n",
    "\n",
    "当使用不定长参数传递给A函数的形参希望再传递给B函数时， 由于拆分参数的原理，可分别对应到元组和字典的解包"
   ]
  },
  {
   "cell_type": "code",
   "execution_count": 45,
   "id": "793028b2",
   "metadata": {},
   "outputs": [
    {
     "name": "stdout",
     "output_type": "stream",
     "text": [
      "姓名 chen, 年龄 18, 性别 F, 学历 博士\n"
     ]
    }
   ],
   "source": [
    "def show(num, name, age, sex, degree):\n",
    "    print(\"姓名 %s, 年龄 %2d, 性别 %s, 学历 %s\" %(name, age, sex, degree))\n",
    "def create(num, *args, **kwargs):\n",
    "    # 已知args是元组， kwargs是字典，拆分参数\n",
    "    show(num, *args, **kwargs) # 解包再传参\n",
    "    \n",
    "create(99, \"chen\", 18,  sex=\"F\", degree=\"博士\")"
   ]
  },
  {
   "cell_type": "code",
   "execution_count": null,
   "id": "e239e55d",
   "metadata": {},
   "outputs": [],
   "source": []
  },
  {
   "cell_type": "markdown",
   "id": "4dc13c65",
   "metadata": {},
   "source": [
    "# 匿名函数与map方法\n",
    "\n",
    "有一些函数的定义具有清晰简单的映射关系，可以用匿名函数的方法简洁地表示："
   ]
  },
  {
   "cell_type": "code",
   "execution_count": 2,
   "id": "e98a62ca",
   "metadata": {
    "ExecuteTime": {
     "end_time": "2022-08-23T01:38:40.758037Z",
     "start_time": "2022-08-23T01:38:40.745286Z"
    }
   },
   "outputs": [],
   "source": [
    "def myfunc(x):\n",
    "    return 2 * x"
   ]
  },
  {
   "cell_type": "code",
   "execution_count": 4,
   "id": "ba8db019",
   "metadata": {
    "ExecuteTime": {
     "end_time": "2022-08-23T01:39:14.778107Z",
     "start_time": "2022-08-23T01:39:14.775005Z"
    }
   },
   "outputs": [],
   "source": [
    "# 匿名函数的写法\n",
    "myfunc2 = lambda x : 2 * x"
   ]
  },
  {
   "cell_type": "code",
   "execution_count": 5,
   "id": "5bc29092",
   "metadata": {
    "ExecuteTime": {
     "end_time": "2022-08-23T01:39:25.067932Z",
     "start_time": "2022-08-23T01:39:25.049837Z"
    }
   },
   "outputs": [
    {
     "data": {
      "text/plain": [
       "(4, 4)"
      ]
     },
     "execution_count": 5,
     "metadata": {},
     "output_type": "execute_result"
    }
   ],
   "source": [
    "myfunc(2), myfunc2(2)"
   ]
  },
  {
   "cell_type": "markdown",
   "id": "55dbccde",
   "metadata": {},
   "source": [
    "多参数的情况"
   ]
  },
  {
   "cell_type": "code",
   "execution_count": 7,
   "id": "dcce433e",
   "metadata": {
    "ExecuteTime": {
     "end_time": "2022-08-23T01:41:29.887439Z",
     "start_time": "2022-08-23T01:41:29.879610Z"
    }
   },
   "outputs": [],
   "source": [
    "func = lambda a,b : a + b"
   ]
  },
  {
   "cell_type": "code",
   "execution_count": 9,
   "id": "66ef311c",
   "metadata": {
    "ExecuteTime": {
     "end_time": "2022-08-23T01:41:35.735252Z",
     "start_time": "2022-08-23T01:41:35.721714Z"
    }
   },
   "outputs": [
    {
     "data": {
      "text/plain": [
       "7"
      ]
     },
     "execution_count": 9,
     "metadata": {},
     "output_type": "execute_result"
    }
   ],
   "source": [
    "func(3,4)"
   ]
  },
  {
   "cell_type": "markdown",
   "id": "f83c3074",
   "metadata": {},
   "source": [
    "它往往在无需多处调用的场合进行使用，例如用户不关心函数的名字，只关心这种映射的关系"
   ]
  },
  {
   "cell_type": "code",
   "execution_count": 14,
   "id": "15f7322b",
   "metadata": {
    "ExecuteTime": {
     "end_time": "2022-08-23T01:43:39.189477Z",
     "start_time": "2022-08-23T01:43:39.176991Z"
    }
   },
   "outputs": [
    {
     "data": {
      "text/plain": [
       "[0, 2, 4, 6, 8]"
      ]
     },
     "execution_count": 14,
     "metadata": {},
     "output_type": "execute_result"
    }
   ],
   "source": [
    "# 列表推导式的匿名函数映射\n",
    "[(lambda x : 2 * x)(i) for i in range(5)]"
   ]
  },
  {
   "cell_type": "markdown",
   "id": "2c28e2b1",
   "metadata": {},
   "source": [
    "对于上述的这种列表推导式的匿名函数映射，Python中提供了map函数来完成，它返回的是一个map对象，需要通过list转为列表"
   ]
  },
  {
   "cell_type": "code",
   "execution_count": 16,
   "id": "bac3e04c",
   "metadata": {
    "ExecuteTime": {
     "end_time": "2022-08-23T01:44:47.486132Z",
     "start_time": "2022-08-23T01:44:47.478646Z"
    }
   },
   "outputs": [
    {
     "data": {
      "text/plain": [
       "[0, 2, 4, 6, 8]"
      ]
     },
     "execution_count": 16,
     "metadata": {},
     "output_type": "execute_result"
    }
   ],
   "source": [
    "list(map(lambda x : 2 * x, range(5)))"
   ]
  },
  {
   "cell_type": "markdown",
   "id": "b25d8041",
   "metadata": {},
   "source": [
    "对于多个输入值的函数映射，可以通过追加迭代对象实现"
   ]
  },
  {
   "cell_type": "code",
   "execution_count": 21,
   "id": "64ec8991",
   "metadata": {
    "ExecuteTime": {
     "end_time": "2022-08-23T01:47:05.584794Z",
     "start_time": "2022-08-23T01:47:05.574477Z"
    }
   },
   "outputs": [
    {
     "data": {
      "text/plain": [
       "['0_a', '1_b', '2_c', '3_d']"
      ]
     },
     "execution_count": 21,
     "metadata": {},
     "output_type": "execute_result"
    }
   ],
   "source": [
    "list(map(lambda a,b: str(a)+\"_\"+b,range(5),list(\"abcd\")))"
   ]
  },
  {
   "cell_type": "code",
   "execution_count": null,
   "id": "9313baf2",
   "metadata": {},
   "outputs": [],
   "source": []
  }
 ],
 "metadata": {
  "kernelspec": {
   "display_name": "Python 3 (ipykernel)",
   "language": "python",
   "name": "python3"
  },
  "language_info": {
   "codemirror_mode": {
    "name": "ipython",
    "version": 3
   },
   "file_extension": ".py",
   "mimetype": "text/x-python",
   "name": "python",
   "nbconvert_exporter": "python",
   "pygments_lexer": "ipython3",
   "version": "3.9.7"
  },
  "toc": {
   "base_numbering": 1,
   "nav_menu": {},
   "number_sections": true,
   "sideBar": true,
   "skip_h1_title": false,
   "title_cell": "Table of Contents",
   "title_sidebar": "Contents",
   "toc_cell": false,
   "toc_position": {},
   "toc_section_display": true,
   "toc_window_display": false
  },
  "varInspector": {
   "cols": {
    "lenName": 16,
    "lenType": 16,
    "lenVar": 40
   },
   "kernels_config": {
    "python": {
     "delete_cmd_postfix": "",
     "delete_cmd_prefix": "del ",
     "library": "var_list.py",
     "varRefreshCmd": "print(var_dic_list())"
    },
    "r": {
     "delete_cmd_postfix": ") ",
     "delete_cmd_prefix": "rm(",
     "library": "var_list.r",
     "varRefreshCmd": "cat(var_dic_list()) "
    }
   },
   "types_to_exclude": [
    "module",
    "function",
    "builtin_function_or_method",
    "instance",
    "_Feature"
   ],
   "window_display": false
  }
 },
 "nbformat": 4,
 "nbformat_minor": 5
}
