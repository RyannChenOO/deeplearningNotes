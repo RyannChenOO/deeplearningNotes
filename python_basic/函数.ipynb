{
 "cells": [
  {
   "cell_type": "markdown",
   "id": "79eea3c2",
   "metadata": {},
   "source": [
    "# 函数\n",
    "\n",
    "函数名：使用小写字母和下划线"
   ]
  },
  {
   "cell_type": "markdown",
   "id": "7d5e4aa4",
   "metadata": {},
   "source": [
    "# 函数传参\n",
    "\n",
    "`位置实参`:\n",
    "\n",
    "    要求实参的顺序与形参的顺序相同\n",
    "    基于形参的顺序依次传递实参\n",
    "    \n",
    "`关键字实参`:\n",
    "\n",
    "    其中每个实参都由变量名和值组成,用于明确地指出了各个实参对应的形参\n",
    "    关键字实参的顺序无关紧要\n",
    "    \n",
    " 位置实参+关键字实参:必须先位置参数再到关键字参数，因为位置参数只能按顺序对应\n",
    " \n",
    "`默认参数`:\n",
    "\n",
    "    给每个形参指定默认值\n",
    "    使用默认值时，在形参列表中必须先列出【没有默认值的形参】，再列出有默认值的实参.python会按位置参数顺序读取(必须保证 带有默认值的缺省参数 在参数列表末尾)\n",
    "    在 调用函数时，如果有 多个缺省参数， 需要指定参数名，这样解释器才能够知道参数的对应关系！，如果都不指定是可以的，指定一个以后，后面的就必须指定\n",
    "    \n",
    "`不定长参数`:\n",
    "\n",
    "    元组\n",
    "    字典\n",
    "    \n",
    " 不定长参数与其他参数的混合：\n",
    " \n",
    "     （1）位置参数+不定长参数\n",
    "     （2）位置参数+不定长位置参数（元组*args）+关键字参数(也就是说不支持**kwargs，因为后面还有一个关键字参数)\n",
    "     （3）*args + **kwargs"
   ]
  },
  {
   "cell_type": "code",
   "execution_count": 10,
   "id": "0d833e3e",
   "metadata": {},
   "outputs": [
    {
     "name": "stdout",
     "output_type": "stream",
     "text": [
      "dog cindy\n",
      "cat dorthy\n",
      "cat kitty\n",
      "cat katty\n"
     ]
    }
   ],
   "source": [
    "def describe_pet(pet_type, pet_name):\n",
    "    \"\"\"\n",
    "    :param pet_type: 宠物类型\n",
    "    :param pet_name: 宠物名称\n",
    "    \n",
    "    \"\"\"\n",
    "    print(pet_type, pet_name)\n",
    "\n",
    "\n",
    "# 位置实参\n",
    "describe_pet(\"dog\", \"cindy\")\n",
    "# 关键字实参\n",
    "describe_pet(pet_type=\"cat\", pet_name=\"dorthy\") # 每个实参都由变量名和值组成\n",
    "# 关键字实参\n",
    "describe_pet(pet_name=\"kitty\", pet_type=\"cat\") # 关键字实参的顺序无关紧要\n",
    "# 位置实参+关键字实参:必须先位置参数再到关键字参数，因为位置参数只能按顺序对应\n",
    "describe_pet(\"cat\", pet_name=\"katty\")\n"
   ]
  },
  {
   "cell_type": "code",
   "execution_count": 13,
   "id": "b23e067b",
   "metadata": {},
   "outputs": [
    {
     "name": "stdout",
     "output_type": "stream",
     "text": [
      "cat katty M 0\n",
      "cat katty M 0\n",
      "dog dorthy F 5\n",
      "dog timi F 0\n"
     ]
    }
   ],
   "source": [
    "def describe_pet(pet_type, pet_name,age=0, pet_sex=\"M\"): # 先列出【没有默认值的形参】，再列出有默认值的实参\n",
    "    \"\"\"\n",
    "    :param pet_type: 宠物类型\n",
    "    :param pet_name: 宠物名称\n",
    "    :param pet_sex: 宠物性别\n",
    "    \"\"\"\n",
    "    print(pet_type, pet_name, pet_sex,age)\n",
    "\n",
    "# 位置实参\n",
    "describe_pet(\"cat\", \"katty\")  # python 会按位置参数进行对应\n",
    "# 关键字实参\n",
    "describe_pet(\"cat\",pet_name=\"katty\")\n",
    "# 位置参数+关键字参数\n",
    "describe_pet(\"dog\",\"dorthy\", pet_sex=\"F\",age=5)\n",
    "describe_pet(\"dog\", \"timi\", pet_sex=\"F\")\n"
   ]
  },
  {
   "cell_type": "markdown",
   "id": "9ca6d8f2",
   "metadata": {},
   "source": [
    "## 不定长参数\n",
    "\n",
    "一般情况下，不定长参数是放在形参列表的最后，前面传入的实参与普通形参一一对应，而后面剩余的实参会被封装成元组或字典后传给不定长参数\n",
    "\n",
    "    “*不定长参数名” 表示这个不定长参数对应的是一组位置参数；·元组·\n",
    "          *让Python创建一个名为 ___ 的空元组，并将收到的所有值都封装到这个元组中\n",
    "    而 “**不定长参数名” 表示这个不定长参数对应的是一组关键字参数。·字典·\n",
    "          **让Python创建一个名为 user_info 的空字典，并将收到的所有名称—值对            都封装到这个字典中。"
   ]
  },
  {
   "cell_type": "code",
   "execution_count": 3,
   "id": "36cd9116",
   "metadata": {},
   "outputs": [
    {
     "name": "stdout",
     "output_type": "stream",
     "text": [
      "('p', 'y', 't', 'h', 'o', 'n')\n",
      "(3, 5, 2, 7, 1)\n"
     ]
    }
   ],
   "source": [
    "def fun(*args):\n",
    "    print(args)\n",
    "\n",
    "str = \"python\"\n",
    "fun(*str)\n",
    "\n",
    "# 列表会转成元组--这是后面的拆分列表\n",
    "ls = [3,5,2,7,1]\n",
    "fun(*ls)"
   ]
  },
  {
   "cell_type": "code",
   "execution_count": 14,
   "id": "b3edb1cd",
   "metadata": {},
   "outputs": [
    {
     "name": "stdout",
     "output_type": "stream",
     "text": [
      "<class 'tuple'>\n",
      "('David', 18, '博士')\n"
     ]
    }
   ],
   "source": [
    "def info(*args):\n",
    "    print(type(args))  # 元组\n",
    "    print(args)\n",
    "info(\"David\", 18, \"博士\")"
   ]
  },
  {
   "cell_type": "code",
   "execution_count": 15,
   "id": "b3999d02",
   "metadata": {},
   "outputs": [
    {
     "name": "stdout",
     "output_type": "stream",
     "text": [
      "<class 'dict'>\n",
      "{'name': 'David', 'age': 18, 'degree': '博士'}\n"
     ]
    }
   ],
   "source": [
    "def info(**args):\n",
    "    print(type(args))  # 字典\n",
    "    print(args)\n",
    "info(name=\"David\", age=18, degree=\"博士\")"
   ]
  },
  {
   "cell_type": "markdown",
   "id": "222b28bd",
   "metadata": {},
   "source": [
    "一般情况下，不定长参数是放在形参列表的最后，前面传入的实参与普通形参一一对应，而后面剩余的实参会被封装成元组或字典后传给不定长参数。\n",
    "\n",
    "    def 函数名([普通形参列表,] **不定长参数名):\n",
    "        函数体\n",
    "    def 函数名([普通形参列表,] *不定长参数名):\n",
    "        函数体"
   ]
  },
  {
   "cell_type": "code",
   "execution_count": 19,
   "id": "3caa5474",
   "metadata": {},
   "outputs": [
    {
     "name": "stdout",
     "output_type": "stream",
     "text": [
      "<class 'tuple'>\n",
      "occupation teacher\n",
      "('David', 18, '博士')\n"
     ]
    }
   ],
   "source": [
    "# 普通参数+不定长参数\n",
    "def stu_info(occupation, *args):\n",
    "    print(type(args))\n",
    "    print(\"occupation %s\"%occupation)\n",
    "    print(args)\n",
    "\n",
    "stu_info(\"teacher\",\"David\", 18, \"博士\" )"
   ]
  },
  {
   "cell_type": "code",
   "execution_count": 20,
   "id": "d63c954a",
   "metadata": {},
   "outputs": [
    {
     "name": "stdout",
     "output_type": "stream",
     "text": [
      "<class 'dict'>\n",
      "occupation teacher\n",
      "{'name': 'David', 'age': 18, 'degree': '博士'}\n"
     ]
    }
   ],
   "source": [
    "# 普通参数+不定长参数\n",
    "def stu_info(occupation, **args):\n",
    "    print(type(args))\n",
    "    print(\"occupation %s\"%occupation)\n",
    "    print(args)\n",
    "stu_info(\"teacher\",name=\"David\", age=18, degree=\"博士\" )"
   ]
  },
  {
   "cell_type": "markdown",
   "id": "f17857ee",
   "metadata": {},
   "source": [
    "后面添加关键字参数，只允许不定长位置参数\n",
    "     \n",
    "    def 函数名([普通形参列表,] *不定长参数名, 关键字参数):\n",
    "        函数体"
   ]
  },
  {
   "cell_type": "code",
   "execution_count": 26,
   "id": "500e0ef9",
   "metadata": {},
   "outputs": [
    {
     "name": "stdout",
     "output_type": "stream",
     "text": [
      "<class 'tuple'>\n",
      "occupation: teacher, country: Engla, 其他：  ('David', 18, '博士')\n",
      "<class 'tuple'>\n",
      "occupation: teacher, country: china, 其他：  ('David', 18, '博士')\n"
     ]
    }
   ],
   "source": [
    "# 普通参数+不定长位置参数+关键字参数\n",
    "def stu_info(occupation, *args, country=\"china\"):\n",
    "    print(type(args))\n",
    "    print(\"occupation: %s, country: %s, 其他： \"%(occupation, country),args)\n",
    "stu_info(\"teacher\",\"David\", 18, \"博士\", country=\"Engla\" )\n",
    "stu_info(\"teacher\",\"David\", 18, \"博士\" )"
   ]
  },
  {
   "cell_type": "code",
   "execution_count": 27,
   "id": "b687c2e8",
   "metadata": {},
   "outputs": [
    {
     "ename": "SyntaxError",
     "evalue": "invalid syntax (2912141998.py, line 2)",
     "output_type": "error",
     "traceback": [
      "\u001b[1;36m  Input \u001b[1;32mIn [27]\u001b[1;36m\u001b[0m\n\u001b[1;33m    def stu_info(occupation, **args, country=\"china\"):\u001b[0m\n\u001b[1;37m                                     ^\u001b[0m\n\u001b[1;31mSyntaxError\u001b[0m\u001b[1;31m:\u001b[0m invalid syntax\n"
     ]
    }
   ],
   "source": [
    "# 普通参数+不定长参数+关键字参数，下列使用**args的方式报错\n",
    "def stu_info(occupation, **args, country=\"china\"):\n",
    "    print(type(args))\n",
    "    print(\"occupation%s, country%s, 其他： \"%(occupation, country, args))\n",
    "aastu_info(\"teacher\",name=\"David\", age=18, degree=\"博士\", country=\"Engla\" )\n",
    "stu_info(\"teacher\",name=\"David\", age=18, degree=\"博士\" )"
   ]
  },
  {
   "cell_type": "markdown",
   "id": "4f07b23a",
   "metadata": {},
   "source": [
    "两种混合传递"
   ]
  },
  {
   "cell_type": "code",
   "execution_count": 37,
   "id": "c28d17ff",
   "metadata": {},
   "outputs": [
    {
     "name": "stdout",
     "output_type": "stream",
     "text": [
      "99\n",
      "(1, 2, 3, 4)\n",
      "{'name': 'chen', 'age': 18}\n",
      "--------------------------------------------------\n",
      "[1, 2, 3, 4]\n",
      "{'name': 'chen', 'age': 18}\n"
     ]
    }
   ],
   "source": [
    "def create(num, *args, **kwargs):\n",
    "    print(num)\n",
    "    print(args)\n",
    "    print(kwargs)\n",
    "    new_list = list(args)\n",
    "    new_dict = dict(kwargs)\n",
    "    print(\"-\"*50)\n",
    "    print(new_list)\n",
    "    print(new_dict)\n",
    "\n",
    "create(99, 1,2,3,4, name=\"chen\", age=18)"
   ]
  },
  {
   "cell_type": "markdown",
   "id": "b082592f",
   "metadata": {},
   "source": [
    " ### 拆分参数列表\n",
    " 如果一个函数所需要的参数已经存储在了列表、元组或字典中，则可以直接从列表、元组或字典中拆分出来函数所需要的这些参数\n",
    "\n",
    "其中列表、元组拆分出来的结果作为位置参数，而字典拆分出来的结果作为关键字参数。\n",
    "\n",
    "    **d的作用是把字典d中的所有元素拆分出来作为实参\n",
    "    *ls的作用是把列表ls中的所有元素拆分出来作为实参"
   ]
  },
  {
   "cell_type": "code",
   "execution_count": 30,
   "id": "223527e9",
   "metadata": {},
   "outputs": [
    {
     "name": "stdout",
     "output_type": "stream",
     "text": [
      "姓名 chen, 年龄 18, 性别 F\n"
     ]
    }
   ],
   "source": [
    "def info(name, age, sex):\n",
    "    print(\"姓名 %s, 年龄 %2d, 性别 %s\" %(name, age, sex))\n",
    "\n",
    "# 参数已经存在列表中了\n",
    "param_list = [\"chen\", 18, \"F\"]  # 相当于直接将列表转换为元组\n",
    "info(*param_list)  # 解包"
   ]
  },
  {
   "cell_type": "code",
   "execution_count": 34,
   "id": "a05a59a5",
   "metadata": {},
   "outputs": [
    {
     "name": "stdout",
     "output_type": "stream",
     "text": [
      "姓名 ryann, 年龄 20, 性别 M\n"
     ]
    }
   ],
   "source": [
    "def info(name, age, sex=\"F\"):\n",
    "    print(\"姓名 %s, 年龄 %2d, 性别 %s\" %(name, age, sex))\n",
    "    \n",
    "# 参数已经存在字典中了 \n",
    "param_dict = {\"name\":\"ryann\", \"age\":20, \"sex\":\"M\"}\n",
    "info(**param_dict)"
   ]
  },
  {
   "cell_type": "markdown",
   "id": "f6c3b491",
   "metadata": {},
   "source": [
    "## 解包：不定长参数+拆分参数\n",
    "\n",
    "当使用不定长参数传递给A函数的形参希望再传递给B函数时， 由于拆分参数的原理，可分别对应到元组和字典的解包"
   ]
  },
  {
   "cell_type": "code",
   "execution_count": 45,
   "id": "793028b2",
   "metadata": {},
   "outputs": [
    {
     "name": "stdout",
     "output_type": "stream",
     "text": [
      "姓名 chen, 年龄 18, 性别 F, 学历 博士\n"
     ]
    }
   ],
   "source": [
    "def show(num, name, age, sex, degree):\n",
    "    print(\"姓名 %s, 年龄 %2d, 性别 %s, 学历 %s\" %(name, age, sex, degree))\n",
    "def create(num, *args, **kwargs):\n",
    "    # 已知args是元组， kwargs是字典，拆分参数\n",
    "    show(num, *args, **kwargs) # 解包再传参\n",
    "    \n",
    "create(99, \"chen\", 18,  sex=\"F\", degree=\"博士\")"
   ]
  },
  {
   "cell_type": "code",
   "execution_count": null,
   "id": "e239e55d",
   "metadata": {},
   "outputs": [],
   "source": []
  },
  {
   "cell_type": "markdown",
   "id": "721ff77b",
   "metadata": {},
   "source": [
    "## 引用传递 vs 值传递\n",
    "\n",
    "**函数内部的改变**\n",
    "    \n",
    "    对形参的赋值不论形参是可变还是不可变类型，都是按照值传递的方法\n",
    "    \n",
    "    如果传递的参数是【可变类型】，在函数内部，使用 【方法】 修改了数据的内容， 同样会影响到外部的数据\n",
    "    \n",
    "    在 python 中， 列 表 变 量 调 用 += 本 质 上 是 在 执 行 列 表 变 量 的 extend 方 法 ， 不会 修 改 变 量 的 引 用 ， 就 是 变 量的 的 id 值 没\n",
    "\n",
    "    传递列表将列表传递给函数后，函数就可对其进行修改。在函数中对这个列表所做的任何修改都是原地的\n",
    "    \n",
    "    如果不希望列表被原地修改，可以传递列表的拷贝"
   ]
  },
  {
   "cell_type": "code",
   "execution_count": 34,
   "id": "a28b34ee",
   "metadata": {},
   "outputs": [
    {
     "name": "stdout",
     "output_type": "stream",
     "text": [
      "函数内 [6, 6, 6]\n",
      "函数外 [7, 7, 7]\n"
     ]
    }
   ],
   "source": [
    "# 对形参的赋值不论形参是可变还是不可变类型，都是按照值传递的方法\n",
    "def no_change(num_list):\n",
    "    num_list = [6,6,6]\n",
    "    print(\"函数内\",num_list)\n",
    "\n",
    "num_list = [7,7,7]\n",
    "no_change(num_list)   # 在函数外部不会改变列表\n",
    "print(\"函数外\",num_list)"
   ]
  },
  {
   "cell_type": "code",
   "execution_count": 37,
   "id": "06e4ec32",
   "metadata": {},
   "outputs": [
    {
     "name": "stdout",
     "output_type": "stream",
     "text": [
      "[7, 7, 7, 8, 9, 10]\n",
      "函数外 [7, 7, 7, 8, 9, 10]\n"
     ]
    }
   ],
   "source": [
    "def yes_change(num_list):\n",
    "    num_list.extend([8,9,10])\n",
    "    print(num_list)\n",
    "    \n",
    "num_list = [7,7,7]\n",
    "yes_change(num_list)  # 在函数外部会改变\n",
    "print(\"函数外\",num_list)"
   ]
  },
  {
   "cell_type": "markdown",
   "id": "4e3205b7",
   "metadata": {},
   "source": [
    "在 python 中， 列 表 变 量 调 用 += 本 质 上 是 在 执 行 列 表 变 量 的 extend 方 法 ， 不\n",
    "会 修 改 变 量 的 引 用 ， 就 是 变 量的 的 id 值 没"
   ]
  },
  {
   "cell_type": "code",
   "execution_count": 39,
   "id": "6ad42d15",
   "metadata": {},
   "outputs": [
    {
     "name": "stdout",
     "output_type": "stream",
     "text": [
      "[7, 7, 7, 8, 8, 8]\n"
     ]
    }
   ],
   "source": [
    "def yes_change2(num_list):\n",
    "    # num_list += num_list 与num = num_list + num_list 不同\n",
    "    num_list += [8,8,8]\n",
    "    \n",
    "num_list = [7,7,7]\n",
    "yes_change2(num_list)\n",
    "print(num_list)"
   ]
  },
  {
   "cell_type": "code",
   "execution_count": 2,
   "id": "277727a0",
   "metadata": {},
   "outputs": [
    {
     "data": {
      "text/plain": [
       "[1, 3, 20]"
      ]
     },
     "execution_count": 2,
     "metadata": {},
     "output_type": "execute_result"
    }
   ],
   "source": [
    "def ModifyListElement(ls, idx, val):\n",
    "    \"\"\"引用传递可成功修改\"\"\"\n",
    "    # 实际上是所引用的地址赋值\n",
    "    ls[idx] = val\n",
    "c = [1,3,5]\n",
    "ModifyListElement(c, 2, 20)\n",
    "c"
   ]
  },
  {
   "cell_type": "code",
   "execution_count": 14,
   "id": "a79efd93",
   "metadata": {},
   "outputs": [
    {
     "name": "stdout",
     "output_type": "stream",
     "text": [
      "修改前x的地址 2178666015872\n",
      "修改前y的地址 2178663406784\n",
      "[4, 5, 6]\n",
      "修改后x的地址 2178663406784\n",
      "c的地址 2178666015872\n"
     ]
    },
    {
     "data": {
      "text/plain": [
       "[1, 3, 5]"
      ]
     },
     "execution_count": 14,
     "metadata": {},
     "output_type": "execute_result"
    }
   ],
   "source": [
    "def ModifyVal(x,y):\n",
    "    \"\"\"理解引用传递\"\"\"\n",
    "    print(\"修改前x的地址\", id(x))\n",
    "    print(\"修改前y的地址\", id(y))\n",
    "    # 实际上是引用赋值\n",
    "    x = y \n",
    "    print(x)  # x现在与y指向了同一个列表\n",
    "    print(\"修改后x的地址\", id(x))\n",
    "    \n",
    "c = [1,3,5]\n",
    "# 列表传参--是引用，传递的是列表的首地址\n",
    "ModifyVal(c, [4,5,6])\n",
    "print(\"c的地址\", id(c))\n",
    "c"
   ]
  },
  {
   "cell_type": "code",
   "execution_count": 31,
   "id": "943b31bb",
   "metadata": {},
   "outputs": [
    {
     "name": "stdout",
     "output_type": "stream",
     "text": [
      "[5, 5, 5]\n",
      "[5, 5, 5, 1, 2, 3]\n"
     ]
    }
   ],
   "source": [
    "def change(num_list1, num_list2):\n",
    "    num_list1 = num_list1 + [1,2,3]  # 不改变\n",
    "    num_list2 += [1,2,3] # 改变\n",
    "    \n",
    "a_list = [5,5,5]\n",
    "b_list = [5,5,5]\n",
    "change(a_list, b_list)\n",
    "print(a_list)\n",
    "print(b_list)"
   ]
  },
  {
   "cell_type": "code",
   "execution_count": null,
   "id": "6f8df3b2",
   "metadata": {},
   "outputs": [],
   "source": []
  },
  {
   "cell_type": "markdown",
   "id": "64a214a9",
   "metadata": {},
   "source": [
    "### 传递列表的副本"
   ]
  },
  {
   "cell_type": "code",
   "execution_count": 17,
   "id": "d8c2b6c7",
   "metadata": {},
   "outputs": [
    {
     "name": "stdout",
     "output_type": "stream",
     "text": [
      "[555, 555, 555]\n",
      "[1, 2, 3]\n"
     ]
    }
   ],
   "source": [
    "def show_list(a):\n",
    "    a[:] = 555,555,555\n",
    "    print(a)\n",
    "\n",
    "alist = [1,2,3]\n",
    "show_list(alist[:]) # 传递的是列表的拷贝\n",
    "print(alist)  # 不变"
   ]
  },
  {
   "cell_type": "markdown",
   "id": "7b6b2a16",
   "metadata": {},
   "source": [
    "# 模块\n",
    "\n",
    "将函数存储在被称为模块的独立文件中，再将模块导入到主程序中。 import 语句允许在**当前运行的程序文件**中使用模块中的代码。\n",
    "\n",
    "模块是扩展名为.py的文件"
   ]
  },
  {
   "cell_type": "code",
   "execution_count": 24,
   "id": "5cb5ea1e",
   "metadata": {},
   "outputs": [
    {
     "data": {
      "text/plain": [
       "11"
      ]
     },
     "execution_count": 24,
     "metadata": {},
     "output_type": "execute_result"
    }
   ],
   "source": [
    "import occurtime as fn\n",
    "# 注意导入模块不要加.py\n",
    "fn.find_occurTime1((11,2,2))\n"
   ]
  },
  {
   "cell_type": "markdown",
   "id": "4dc13c65",
   "metadata": {},
   "source": [
    "# 匿名函数与map方法\n",
    "\n",
    "有一些函数的定义具有清晰简单的映射关系，可以用匿名函数的方法简洁地表示："
   ]
  },
  {
   "cell_type": "code",
   "execution_count": 2,
   "id": "e98a62ca",
   "metadata": {
    "ExecuteTime": {
     "end_time": "2022-08-23T01:38:40.758037Z",
     "start_time": "2022-08-23T01:38:40.745286Z"
    }
   },
   "outputs": [],
   "source": [
    "def myfunc(x):\n",
    "    return 2 * x"
   ]
  },
  {
   "cell_type": "code",
   "execution_count": 4,
   "id": "ba8db019",
   "metadata": {
    "ExecuteTime": {
     "end_time": "2022-08-23T01:39:14.778107Z",
     "start_time": "2022-08-23T01:39:14.775005Z"
    }
   },
   "outputs": [],
   "source": [
    "# 匿名函数的写法\n",
    "myfunc2 = lambda x : 2 * x"
   ]
  },
  {
   "cell_type": "code",
   "execution_count": 5,
   "id": "5bc29092",
   "metadata": {
    "ExecuteTime": {
     "end_time": "2022-08-23T01:39:25.067932Z",
     "start_time": "2022-08-23T01:39:25.049837Z"
    }
   },
   "outputs": [
    {
     "data": {
      "text/plain": [
       "(4, 4)"
      ]
     },
     "execution_count": 5,
     "metadata": {},
     "output_type": "execute_result"
    }
   ],
   "source": [
    "myfunc(2), myfunc2(2)"
   ]
  },
  {
   "cell_type": "markdown",
   "id": "55dbccde",
   "metadata": {},
   "source": [
    "多参数的情况"
   ]
  },
  {
   "cell_type": "code",
   "execution_count": 7,
   "id": "dcce433e",
   "metadata": {
    "ExecuteTime": {
     "end_time": "2022-08-23T01:41:29.887439Z",
     "start_time": "2022-08-23T01:41:29.879610Z"
    }
   },
   "outputs": [],
   "source": [
    "func = lambda a,b : a + b"
   ]
  },
  {
   "cell_type": "code",
   "execution_count": 9,
   "id": "66ef311c",
   "metadata": {
    "ExecuteTime": {
     "end_time": "2022-08-23T01:41:35.735252Z",
     "start_time": "2022-08-23T01:41:35.721714Z"
    }
   },
   "outputs": [
    {
     "data": {
      "text/plain": [
       "7"
      ]
     },
     "execution_count": 9,
     "metadata": {},
     "output_type": "execute_result"
    }
   ],
   "source": [
    "func(3,4)"
   ]
  },
  {
   "cell_type": "markdown",
   "id": "f83c3074",
   "metadata": {},
   "source": [
    "它往往在无需多处调用的场合进行使用，例如用户不关心函数的名字，只关心这种映射的关系"
   ]
  },
  {
   "cell_type": "code",
   "execution_count": 14,
   "id": "15f7322b",
   "metadata": {
    "ExecuteTime": {
     "end_time": "2022-08-23T01:43:39.189477Z",
     "start_time": "2022-08-23T01:43:39.176991Z"
    }
   },
   "outputs": [
    {
     "data": {
      "text/plain": [
       "[0, 2, 4, 6, 8]"
      ]
     },
     "execution_count": 14,
     "metadata": {},
     "output_type": "execute_result"
    }
   ],
   "source": [
    "# 列表推导式的匿名函数映射\n",
    "[(lambda x : 2 * x)(i) for i in range(5)]"
   ]
  },
  {
   "cell_type": "markdown",
   "id": "2c28e2b1",
   "metadata": {},
   "source": [
    "对于上述的这种列表推导式的匿名函数映射，Python中提供了map函数来完成，它返回的是一个map对象，需要通过list转为列表"
   ]
  },
  {
   "cell_type": "code",
   "execution_count": 16,
   "id": "bac3e04c",
   "metadata": {
    "ExecuteTime": {
     "end_time": "2022-08-23T01:44:47.486132Z",
     "start_time": "2022-08-23T01:44:47.478646Z"
    }
   },
   "outputs": [
    {
     "data": {
      "text/plain": [
       "[0, 2, 4, 6, 8]"
      ]
     },
     "execution_count": 16,
     "metadata": {},
     "output_type": "execute_result"
    }
   ],
   "source": [
    "list(map(lambda x : 2 * x, range(5)))"
   ]
  },
  {
   "cell_type": "markdown",
   "id": "b25d8041",
   "metadata": {},
   "source": [
    "对于多个输入值的函数映射，可以通过追加迭代对象实现"
   ]
  },
  {
   "cell_type": "code",
   "execution_count": 21,
   "id": "64ec8991",
   "metadata": {
    "ExecuteTime": {
     "end_time": "2022-08-23T01:47:05.584794Z",
     "start_time": "2022-08-23T01:47:05.574477Z"
    }
   },
   "outputs": [
    {
     "data": {
      "text/plain": [
       "['0_a', '1_b', '2_c', '3_d']"
      ]
     },
     "execution_count": 21,
     "metadata": {},
     "output_type": "execute_result"
    }
   ],
   "source": [
    "list(map(lambda a,b: str(a)+\"_\"+b,range(5),list(\"abcd\")))"
   ]
  },
  {
   "cell_type": "code",
   "execution_count": null,
   "id": "9313baf2",
   "metadata": {},
   "outputs": [],
   "source": []
  },
  {
   "cell_type": "code",
   "execution_count": 86,
   "id": "cc32e5ed",
   "metadata": {},
   "outputs": [],
   "source": [
    "import random\n",
    "def generate_pwd(length, *users):\n",
    "    \"\"\"\n",
    "    :param length:生成的密码位数\n",
    "    :param *args: 输入的用户\n",
    "    :return 用户-初始密码对\n",
    "    \n",
    "    \"\"\"\n",
    "    # 为每一位用户生成一个初始化密码\n",
    "    pwd_dict = {}  # 用户-密码对保存在字典中返回\n",
    "    # 使用到的密码符号\n",
    "    nums = \"0123456789\"\n",
    "    chars = \"abcdefghijklmnopqrstuvwxyzABCDEFGHIJKLMNOPQRSTUVWXYZ\"\n",
    "    special_signs = \"!@#$%^&*,._-+\"\n",
    "    users = list(users)\n",
    "    for user in users:\n",
    "        pwd = \"\"\n",
    "        # 生成一个随机整数\n",
    "        pwd += random.choice(nums)\n",
    "        # 生成一个随机特殊字符\n",
    "        pwd  += random.choice(special_signs)\n",
    "        # 生成length-2个随机字符\n",
    "        for i in range(length-2):\n",
    "            pwd += random.choice(chars)\n",
    "        # 将密码打乱\n",
    "        pwd = [str(c) for c in pwd]\n",
    "        random.shuffle(pwd)\n",
    "        pwd_dict[user] = pwd = \"\".join(pwd)\n",
    "    return pwd_dict"
   ]
  },
  {
   "cell_type": "code",
   "execution_count": 62,
   "id": "1f4248e8",
   "metadata": {},
   "outputs": [
    {
     "data": {
      "text/plain": [
       "'123'"
      ]
     },
     "execution_count": 62,
     "metadata": {},
     "output_type": "execute_result"
    }
   ],
   "source": [
    "a = \"\"\n",
    "b = [\"1\",\"2\",\"3\"]\n",
    "res = \"\".join(b)\n",
    "res"
   ]
  },
  {
   "cell_type": "code",
   "execution_count": 85,
   "id": "1ea73e37",
   "metadata": {},
   "outputs": [
    {
     "name": "stdout",
     "output_type": "stream",
     "text": [
      "001\n",
      "002\n",
      "003\n",
      "{'001': 'C&TjG7', '002': 'cP^3YN', '003': 'Ag*0eN'}\n"
     ]
    }
   ],
   "source": [
    "res = generate_pwd(6,*[\"001\",\"002\",\"003\"] )\n",
    "print(res)"
   ]
  },
  {
   "cell_type": "code",
   "execution_count": 119,
   "id": "3523708b",
   "metadata": {},
   "outputs": [],
   "source": [
    "\n",
    "with open(\"user.txt\", mode=\"r\", encoding=\"utf-8\") as f:\n",
    "    users = f.readlines()\n",
    "    users = [user.rstrip() for user in users]\n",
    "result = generate_pwd(17, *users)\n",
    "\n",
    "f1 = open(\"user.txt\",mode=\"r\", encoding=\"utf-8\")\n",
    "f2 = open(\"user_pwd.txt\", mode=\"w\", encoding=\"utf-8\")\n",
    "for line in f1:\n",
    "    user = line.rstrip()\n",
    "    pwd = result[user]\n",
    "    item = user+\":\"+pwd+\"\\n\"\n",
    "    f2.write(item)\n",
    "f1.close()\n",
    "f2.close()\n",
    "    "
   ]
  },
  {
   "cell_type": "code",
   "execution_count": 107,
   "id": "5fb23eab",
   "metadata": {},
   "outputs": [
    {
     "data": {
      "text/plain": [
       "'OUMYjay*Uz4eJkSYd'"
      ]
     },
     "execution_count": 107,
     "metadata": {},
     "output_type": "execute_result"
    }
   ],
   "source": [
    "result[\"001\"]"
   ]
  },
  {
   "cell_type": "code",
   "execution_count": 121,
   "id": "04a0e22b",
   "metadata": {},
   "outputs": [],
   "source": [
    "import random\n",
    "def generate_pwd(length, *users):\n",
    "    \"\"\"\n",
    "    :param length:生成的密码位数\n",
    "    :param *args: 输入的用户\n",
    "    :return 用户-初始密码对\n",
    "    \n",
    "    \"\"\"\n",
    "    # 为每一位用户生成一个初始化密码\n",
    "    pwd_dict = {}  # 用户-密码对保存在字典中返回\n",
    "    # 使用到的密码符号\n",
    "    nums = \"0123456789\"\n",
    "    chars = \"abcdefghijklmnopqrstuvwxyzABCDEFGHIJKLMNOPQRSTUVWXYZ\"\n",
    "    special_signs = \"!@#$%^&*,._-+\"\n",
    "    users = list(users)\n",
    "    for user in users:\n",
    "        pwd = \"\"\n",
    "        # 生成一个随机整数\n",
    "        pwd += random.choice(nums)\n",
    "        # 生成一个随机特殊字符\n",
    "        pwd  += random.choice(special_signs)\n",
    "        # 生成length-2个随机字符\n",
    "        for i in range(length-2):\n",
    "            pwd += random.choice(chars)\n",
    "        # 将密码打乱\n",
    "        pwd = [str(c) for c in pwd]\n",
    "        random.shuffle(pwd)\n",
    "        pwd_dict[user] = pwd = \"\".join(pwd)\n",
    "    return pwd_dict\n",
    "def create_password(length, user_file,user_pwd):\n",
    "    \"\"\"\n",
    "    :param user_file:存储用户名的txt文件，每一行对应一个用户名\n",
    "    :return user_pwd: 将用户名：密码对写回一个文件,也是txt格式\n",
    "    \n",
    "    \"\"\"\n",
    "    with open(user_file, mode=\"r\", encoding=\"utf-8\") as f:\n",
    "        users = f.readlines()\n",
    "        users = [user.rstrip() for user in users]\n",
    "        result = generate_pwd(length, *users)\n",
    "\n",
    "    f1 = open(user_file,mode=\"r\", encoding=\"utf-8\")\n",
    "    f2 = open(user_pwd, mode=\"w\", encoding=\"utf-8\")\n",
    "    for line in f1:\n",
    "        user = line.rstrip()\n",
    "        pwd = result[user]\n",
    "        item = user+\":\"+pwd+\"\\n\"\n",
    "        f2.write(item)\n",
    "    f1.close()\n",
    "    f2.close()"
   ]
  },
  {
   "cell_type": "code",
   "execution_count": 122,
   "id": "3c21079e",
   "metadata": {},
   "outputs": [],
   "source": [
    "create_password(17, \"user.txt\", \"user_pwd.txt\")"
   ]
  }
 ],
 "metadata": {
  "kernelspec": {
   "display_name": "Python 3 (ipykernel)",
   "language": "python",
   "name": "python3"
  },
  "language_info": {
   "codemirror_mode": {
    "name": "ipython",
    "version": 3
   },
   "file_extension": ".py",
   "mimetype": "text/x-python",
   "name": "python",
   "nbconvert_exporter": "python",
   "pygments_lexer": "ipython3",
   "version": "3.9.7"
  },
  "toc": {
   "base_numbering": 1,
   "nav_menu": {},
   "number_sections": true,
   "sideBar": true,
   "skip_h1_title": false,
   "title_cell": "Table of Contents",
   "title_sidebar": "Contents",
   "toc_cell": false,
   "toc_position": {},
   "toc_section_display": true,
   "toc_window_display": false
  },
  "varInspector": {
   "cols": {
    "lenName": 16,
    "lenType": 16,
    "lenVar": 40
   },
   "kernels_config": {
    "python": {
     "delete_cmd_postfix": "",
     "delete_cmd_prefix": "del ",
     "library": "var_list.py",
     "varRefreshCmd": "print(var_dic_list())"
    },
    "r": {
     "delete_cmd_postfix": ") ",
     "delete_cmd_prefix": "rm(",
     "library": "var_list.r",
     "varRefreshCmd": "cat(var_dic_list()) "
    }
   },
   "types_to_exclude": [
    "module",
    "function",
    "builtin_function_or_method",
    "instance",
    "_Feature"
   ],
   "window_display": false
  }
 },
 "nbformat": 4,
 "nbformat_minor": 5
}
