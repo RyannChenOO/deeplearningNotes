{
 "cells": [
  {
   "cell_type": "code",
   "execution_count": 2,
   "id": "ef3bb4c6",
   "metadata": {},
   "outputs": [],
   "source": [
    "import makesentence"
   ]
  },
  {
   "cell_type": "code",
   "execution_count": null,
   "id": "56d0dbbb",
   "metadata": {},
   "outputs": [],
   "source": [
    "def file_write(file_path, num=10):\n",
    "    with open(file_path, encoding=\"utf-8\", mode=\"w\") as f:\n",
    "        for i in range(num):\n",
    "            # 生成一个句子\n",
    "            sentence = \" \".join(makesentence.sentence())\n",
    "            f.write(sentence + \"\\n\")\n",
    "\n",
    "            \n",
    "file_write(file_path=\"./data/my_sentences.txt\")"
   ]
  },
  {
   "cell_type": "code",
   "execution_count": null,
   "id": "8b9a36f4",
   "metadata": {},
   "outputs": [],
   "source": []
  },
  {
   "cell_type": "code",
   "execution_count": 31,
   "id": "6a5b6e15",
   "metadata": {},
   "outputs": [],
   "source": [
    "def f1(file_path, word=\"cat\"):\n",
    "    cats_counter = 0  # 统计cat出现次数的计数器\n",
    "    try:\n",
    "        with open(file_path, encoding=\"utf-8\", mode=\"r\") as f:\n",
    "            for line in f:\n",
    "                line = line\n",
    "                if word in line:\n",
    "                    cats_counter = cats_counter + 1\n",
    "    except Exception as e:\n",
    "        print(e)\n",
    "    return cats_counter"
   ]
  },
  {
   "cell_type": "code",
   "execution_count": 32,
   "id": "a1cd3052",
   "metadata": {
    "scrolled": true
   },
   "outputs": [
    {
     "data": {
      "text/plain": [
       "3"
      ]
     },
     "execution_count": 32,
     "metadata": {},
     "output_type": "execute_result"
    }
   ],
   "source": [
    "f1(file_path=\"./data/my_sentences.txt\")"
   ]
  },
  {
   "cell_type": "code",
   "execution_count": 16,
   "id": "b255eee4",
   "metadata": {},
   "outputs": [],
   "source": [
    "def f2(file_path, word=\"cat\"):\n",
    "    cats_counter = 0\n",
    "    try:\n",
    "        with open(file_path, encoding=\"utf-8\", mode=\"r\") as f:\n",
    "            while True:\n",
    "                line = f.readline()\n",
    "                if not line:\n",
    "                    break\n",
    "                if word in line:\n",
    "                    cats_counter = cats_counter + 1            \n",
    "    except Exception as e:\n",
    "        print(e)\n",
    "    return cats_counter"
   ]
  },
  {
   "cell_type": "code",
   "execution_count": 17,
   "id": "d5165961",
   "metadata": {},
   "outputs": [
    {
     "data": {
      "text/plain": [
       "3"
      ]
     },
     "execution_count": 17,
     "metadata": {},
     "output_type": "execute_result"
    }
   ],
   "source": [
    "f2(file_path=\"./data/my_sentences.txt\")"
   ]
  },
  {
   "cell_type": "code",
   "execution_count": 24,
   "id": "a761d92e",
   "metadata": {},
   "outputs": [],
   "source": [
    "def f3(file_path, word=\"cat\"):\n",
    "    cats_counter = 0\n",
    "    try:\n",
    "        with open(file_path, encoding=\"utf-8\", mode=\"r\") as f:\n",
    "            lines = f.readlines()\n",
    "            for line in lines:\n",
    "                if word in line:\n",
    "                    cats_counter = cats_counter + 1\n",
    "    except Exception as e:\n",
    "        print(e)\n",
    "    return cats_counter"
   ]
  },
  {
   "cell_type": "code",
   "execution_count": 25,
   "id": "8b030aeb",
   "metadata": {},
   "outputs": [
    {
     "data": {
      "text/plain": [
       "3"
      ]
     },
     "execution_count": 25,
     "metadata": {},
     "output_type": "execute_result"
    }
   ],
   "source": [
    "f3(file_path=\"./data/my_sentences.txt\")"
   ]
  },
  {
   "cell_type": "code",
   "execution_count": 41,
   "id": "e1ef79da",
   "metadata": {},
   "outputs": [
    {
     "name": "stdout",
     "output_type": "stream",
     "text": [
      "方法1 运行时间0.0010006427764892578\n"
     ]
    }
   ],
   "source": [
    "import time\n",
    "def time_counting(func):\n",
    "    def count(*kwargs):\n",
    "        # 统计程序运行的时间\n",
    "        start_time = time.time()\n",
    "        result = func(*kwargs)\n",
    "        stop_time = time.time()\n",
    "        print(\"方法1 运行时间{}\".format(stop_time - start_time))\n",
    "        return result\n",
    "    return count\n",
    " \n",
    "@time_counting\n",
    "def f1(file_path, word=\"cat\"):\n",
    "    cats_counter = 0  # 统计cat出现次数的计数器\n",
    "    try:\n",
    "        with open(file_path, encoding=\"utf-8\", mode=\"r\") as f:\n",
    "            for line in f:\n",
    "                if word in line:\n",
    "                    cats_counter = cats_counter + 1\n",
    "    except Exception as e:\n",
    "        print(e)\n",
    "    return cats_counter\n",
    "\n",
    "count1 = f1(\"./data/my_sentences.txt\")"
   ]
  },
  {
   "cell_type": "code",
   "execution_count": 63,
   "id": "70e9a5e4",
   "metadata": {},
   "outputs": [
    {
     "name": "stdout",
     "output_type": "stream",
     "text": [
      "方法1 运行时间0.005002260208129883\n",
      "方法1 运行时间0.002000093460083008\n",
      "方法1 运行时间0.001999378204345703\n"
     ]
    }
   ],
   "source": [
    "import time\n",
    "import makesentence\n",
    "\n",
    "def file_write(file_path, num=10):\n",
    "    with open(file_path, encoding=\"utf-8\", mode=\"w\") as f:\n",
    "        for i in range(num):\n",
    "            # 生成一个句子\n",
    "            sentence = \" \".join(makesentence.sentence())\n",
    "            f.write(sentence + \"\\n\")\n",
    "            \n",
    "def time_counting(func):\n",
    "    def count(*args,**kwargs):\n",
    "        # 统计程序运行的时间\n",
    "        start_time = time.time()\n",
    "        result = func(*args, **kwargs)\n",
    "        stop_time = time.time()\n",
    "        print(\"方法1 运行时间{}\".format(stop_time - start_time))\n",
    "        return result\n",
    "    return count\n",
    " \n",
    "@time_counting\n",
    "def f1(file_path, word=\"cat\"):\n",
    "    cats_counter = 0  # 统计cat出现次数的计数器\n",
    "    try:\n",
    "        with open(file_path, encoding=\"utf-8\", mode=\"r\") as f:\n",
    "            for line in f:\n",
    "                line = line\n",
    "                if word in line:\n",
    "                    cats_counter = cats_counter + 1\n",
    "    except Exception as e:\n",
    "        print(e)\n",
    "    return cats_counter\n",
    "        \n",
    "@time_counting\n",
    "def f2(file_path, word=\"cat\"):\n",
    "    cats_counter = 0\n",
    "    try:\n",
    "        with open(file_path, encoding=\"utf-8\", mode=\"r\") as f:\n",
    "            while True:\n",
    "                line = f.readline()\n",
    "                if not line:\n",
    "                    break\n",
    "                if word in line:\n",
    "                    cats_counter = cats_counter + 1            \n",
    "    except Exception as e:\n",
    "        print(e)\n",
    "    return cats_counter\n",
    "\n",
    "@time_counting\n",
    "def f3(file_path, word=\"cat\"):\n",
    "    cats_counter = 0\n",
    "    try:\n",
    "        with open(file_path, encoding=\"utf-8\", mode=\"r\") as f:\n",
    "            lines = f.readlines()\n",
    "            for line in lines:\n",
    "                if word in line:\n",
    "                    cats_counter = cats_counter + 1\n",
    "    except Exception as e:\n",
    "        print(e)\n",
    "    return cats_counter\n",
    "if __name__ == \"__main__\":\n",
    "    file_path = \"./data/my_sentences.txt\"\n",
    "    num_writting = 10000\n",
    "    file_write(file_path=file_path, num=num_writting)        \n",
    "    count1 = f1(file_path=file_path)\n",
    "    count2 = f2(file_path=file_path)\n",
    "    count3 = f3(file_path=file_path)\n",
    "    count1, count2, count3"
   ]
  },
  {
   "cell_type": "code",
   "execution_count": 62,
   "id": "d8571007",
   "metadata": {},
   "outputs": [
    {
     "name": "stdout",
     "output_type": "stream",
     "text": [
      "[Errno 2] No such file or directory: './data/my_sentencesa.txt'\n",
      "方法1 运行时间0.0\n",
      "[Errno 2] No such file or directory: './data/my_sentencesa.txt'\n",
      "方法1 运行时间0.001001596450805664\n",
      "[Errno 2] No such file or directory: './data/my_sentencesa.txt'\n",
      "方法1 运行时间0.0\n"
     ]
    },
    {
     "data": {
      "text/plain": [
       "(0, 0, 0)"
      ]
     },
     "execution_count": 62,
     "metadata": {},
     "output_type": "execute_result"
    }
   ],
   "source": [
    "import time\n",
    "import makesentence\n",
    "\n",
    "def file_write(file_path, num=10):\n",
    "    with open(file_path, encoding=\"utf-8\", mode=\"w\") as f:\n",
    "        for i in range(num):\n",
    "            # 生成一个句子\n",
    "            sentence = \" \".join(makesentence.sentence())\n",
    "            f.write(sentence + \"\\n\")\n",
    "            \n",
    "def time_counting(func):\n",
    "    def count(*args,**kwargs):\n",
    "        # 统计程序运行的时间\n",
    "        start_time = time.time()\n",
    "        result = func(*args, **kwargs)\n",
    "        stop_time = time.time()\n",
    "        print(\"方法1 运行时间{}\".format(stop_time - start_time))\n",
    "        return result\n",
    "    return count\n",
    " \n",
    "@time_counting\n",
    "def f1(file_path, word=\"cat\"):\n",
    "    cats_counter = 0  # 统计cat出现次数的计数器\n",
    "    try:\n",
    "        with open(file_path, encoding=\"utf-8\", mode=\"r\") as f:\n",
    "            for line in f:\n",
    "                line = line\n",
    "                if word in line:\n",
    "                    cats_counter = cats_counter + 1\n",
    "    except Exception as e:\n",
    "        print(e)\n",
    "    return cats_counter\n",
    "        \n",
    "@time_counting\n",
    "def f2(file_path, word=\"cat\"):\n",
    "    cats_counter = 0\n",
    "    try:\n",
    "        with open(file_path, encoding=\"utf-8\", mode=\"r\") as f:\n",
    "            while True:\n",
    "                line = f.readline()\n",
    "                if not line:\n",
    "                    break\n",
    "                if word in line:\n",
    "                    cats_counter = cats_counter + 1            \n",
    "    except Exception as e:\n",
    "        print(e)\n",
    "    return cats_counter\n",
    "\n",
    "@time_counting\n",
    "def f3(file_path, word=\"cat\"):\n",
    "    cats_counter = 0\n",
    "    try:\n",
    "        with open(file_path, encoding=\"utf-8\", mode=\"r\") as f:\n",
    "            lines = f.readlines()\n",
    "            for line in lines:\n",
    "                if word in line:\n",
    "                    cats_counter = cats_counter + 1\n",
    "    except Exception as e:\n",
    "        print(e)\n",
    "    return cats_counter\n",
    "\n",
    "file_path = \"./data/my_sentences.txt\"\n",
    "num_writting = 10000\n",
    "file_write(file_path=file_path, num=num_writting)        \n",
    "count1 = f1(file_path=\"./data/my_sentencesa.txt\")\n",
    "count2 = f2(file_path=\"./data/my_sentencesa.txt\")\n",
    "count3 = f3(file_path=\"./data/my_sentencesa.txt\")\n",
    "count1, count2, count3"
   ]
  }
 ],
 "metadata": {
  "kernelspec": {
   "display_name": "Python 3 (ipykernel)",
   "language": "python",
   "name": "python3"
  },
  "language_info": {
   "codemirror_mode": {
    "name": "ipython",
    "version": 3
   },
   "file_extension": ".py",
   "mimetype": "text/x-python",
   "name": "python",
   "nbconvert_exporter": "python",
   "pygments_lexer": "ipython3",
   "version": "3.9.7"
  },
  "toc": {
   "base_numbering": 1,
   "nav_menu": {},
   "number_sections": true,
   "sideBar": true,
   "skip_h1_title": false,
   "title_cell": "Table of Contents",
   "title_sidebar": "Contents",
   "toc_cell": false,
   "toc_position": {},
   "toc_section_display": true,
   "toc_window_display": false
  }
 },
 "nbformat": 4,
 "nbformat_minor": 5
}
