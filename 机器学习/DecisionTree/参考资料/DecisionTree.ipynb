{
 "cells": [
  {
   "cell_type": "code",
   "execution_count": null,
   "id": "0e56fc80",
   "metadata": {
    "ExecuteTime": {
     "end_time": "2022-08-11T12:16:24.639257Z",
     "start_time": "2022-08-11T12:16:24.639257Z"
    }
   },
   "outputs": [],
   "source": [
    "import numpy as np\n",
    "import pandas as pd\n",
    "import matplotlib.pyplot as plt\n",
    "import seaborn as sns\n",
    "from sklearn.tree import DecisionTreeClassifier\n",
    "from sklearn.datasets import load_iris\n",
    "from sklearn.model_selection import train_test_split\n",
    "from sklearn import tree"
   ]
  },
  {
   "cell_type": "markdown",
   "id": "5da0be0a",
   "metadata": {},
   "source": [
    "# sklearn-鸢尾花（iris）数据集"
   ]
  },
  {
   "cell_type": "markdown",
   "id": "e51c6ab2",
   "metadata": {},
   "source": [
    "## 加载数据集"
   ]
  },
  {
   "cell_type": "markdown",
   "id": "f5581341",
   "metadata": {},
   "source": [
    " iris数据集\n",
    "\n",
    "鸢尾花（iris）数据集是一个经典数据集，在统计学习和机器学习领域都经常被用作示例。数据集内包含 3 类共 150 条记录，每类各 50 个数据，每条记录都有 4 项特征：花萼长度、花萼宽度、花瓣长度、花瓣宽度，可以通过这4个特征预测鸢尾花卉属于（iris-setosa, iris-versicolour, iris-virginica）中的哪一品种。"
   ]
  },
  {
   "cell_type": "code",
   "execution_count": null,
   "id": "6708a24e",
   "metadata": {
    "ExecuteTime": {
     "end_time": "2022-08-11T12:16:24.640256Z",
     "start_time": "2022-08-11T12:16:24.640256Z"
    }
   },
   "outputs": [],
   "source": [
    "# 加载数据集\n",
    "data = load_iris()"
   ]
  },
  {
   "cell_type": "markdown",
   "id": "46f93321",
   "metadata": {},
   "source": [
    "了解数据"
   ]
  },
  {
   "cell_type": "code",
   "execution_count": null,
   "id": "58341c42",
   "metadata": {
    "ExecuteTime": {
     "end_time": "2022-08-11T12:16:24.641255Z",
     "start_time": "2022-08-11T12:16:24.641255Z"
    }
   },
   "outputs": [],
   "source": [
    "print(data.DESCR)"
   ]
  },
  {
   "cell_type": "code",
   "execution_count": null,
   "id": "1e177bd1",
   "metadata": {
    "ExecuteTime": {
     "end_time": "2022-08-11T12:16:24.641255Z",
     "start_time": "2022-08-11T12:16:24.641255Z"
    }
   },
   "outputs": [],
   "source": [
    "data.target_names"
   ]
  },
  {
   "cell_type": "code",
   "execution_count": null,
   "id": "ea0106c3",
   "metadata": {
    "ExecuteTime": {
     "end_time": "2022-08-11T12:16:24.642255Z",
     "start_time": "2022-08-11T12:16:24.642255Z"
    }
   },
   "outputs": [],
   "source": [
    "type(data.data),type(data.target),len(data.data),len(data.target)"
   ]
  },
  {
   "cell_type": "code",
   "execution_count": null,
   "id": "6d90fe7e",
   "metadata": {
    "ExecuteTime": {
     "end_time": "2022-08-11T12:16:24.643254Z",
     "start_time": "2022-08-11T12:16:24.643254Z"
    }
   },
   "outputs": [],
   "source": [
    "# 转换成.DataFrame形式\n",
    "df = pd.DataFrame(data.data, columns=data.feature_names)"
   ]
  },
  {
   "cell_type": "code",
   "execution_count": null,
   "id": "342163a8",
   "metadata": {
    "ExecuteTime": {
     "end_time": "2022-08-11T12:16:24.643254Z",
     "start_time": "2022-08-11T12:16:24.643254Z"
    }
   },
   "outputs": [],
   "source": [
    "# 添加品种列\n",
    "df[\"Species\"] = data.target"
   ]
  },
  {
   "cell_type": "code",
   "execution_count": null,
   "id": "f110d6f1",
   "metadata": {
    "ExecuteTime": {
     "end_time": "2022-08-11T12:16:24.644255Z",
     "start_time": "2022-08-11T12:16:24.644255Z"
    }
   },
   "outputs": [],
   "source": [
    "# 查看数据集信息\n",
    "print(f\"数据集信息:\\n{df.info()}\")"
   ]
  },
  {
   "cell_type": "code",
   "execution_count": null,
   "id": "bb0d6985",
   "metadata": {
    "ExecuteTime": {
     "end_time": "2022-08-11T12:16:24.645255Z",
     "start_time": "2022-08-11T12:16:24.645255Z"
    }
   },
   "outputs": [],
   "source": [
    "# 查看前5条数据\n",
    "df.head()"
   ]
  },
  {
   "cell_type": "code",
   "execution_count": null,
   "id": "aec9d362",
   "metadata": {
    "ExecuteTime": {
     "end_time": "2022-08-11T12:16:24.645255Z",
     "start_time": "2022-08-11T12:16:24.645255Z"
    }
   },
   "outputs": [],
   "source": [
    "# 查看各特征列的摘要信息\n",
    "df.describe()"
   ]
  },
  {
   "cell_type": "code",
   "execution_count": null,
   "id": "b70fe86a",
   "metadata": {
    "ExecuteTime": {
     "end_time": "2022-08-11T12:16:24.646255Z",
     "start_time": "2022-08-11T12:16:24.646255Z"
    }
   },
   "outputs": [],
   "source": [
    "# 设置颜色主题\n",
    "antV = ['#1890FF', '#2FC25B', '#FACC14', '#223273', '#8543E0', '#13C2C2', '#3436c7', '#F04864'] \n",
    "# 绘制violinplot\n",
    "f, axes = plt.subplots(2,2,figsize=(8,8), sharex=True)\n",
    "# 删除上方和右方坐标轴上不需要的边框，这在matplotlib中是无法通过参数实现的\n",
    "sns.despine(left=True)\n",
    "sns.violinplot(x=\"Species\", y=df.columns[0], data=df, palette=antV, ax=axes[0,0])\n",
    "sns.violinplot(x=\"Species\", y=df.columns[1], data=df, palette=antV, ax=axes[0,1])\n",
    "sns.violinplot(x=\"Species\", y=df.columns[2], data=df, palette=antV, ax=axes[1,0])\n",
    "sns.violinplot(x=\"Species\", y=df.columns[3], data=df, palette=antV, ax=axes[1,1])\n",
    "plt.show()\n",
    "# 绘制pointplot\n",
    "f, axes = plt.subplots(2,2, figsize=(8,6), sharex=True)\n",
    "sns.despine(left=True)\n",
    "sns.pointplot(x=\"Species\", y=df.columns[0], data=df, color=antV[1], ax=axes[0, 0])\n",
    "sns.pointplot(x='Species', y=df.columns[1], data=df, color=antV[1], ax=axes[0, 1])\n",
    "sns.pointplot(x='Species', y=df.columns[2], data=df, color=antV[1], ax=axes[1, 0])\n",
    "sns.pointplot(x='Species', y=df.columns[3], data=df, color=antV[1], ax=axes[1, 1])\n",
    "plt.show()\n"
   ]
  },
  {
   "cell_type": "code",
   "execution_count": null,
   "id": "1cd959c4",
   "metadata": {
    "ExecuteTime": {
     "end_time": "2022-08-11T12:16:24.647255Z",
     "start_time": "2022-08-11T12:16:24.647255Z"
    }
   },
   "outputs": [],
   "source": [
    "data.target[45:55]"
   ]
  },
  {
   "cell_type": "code",
   "execution_count": null,
   "id": "2deedffb",
   "metadata": {
    "ExecuteTime": {
     "end_time": "2022-08-11T12:16:24.647255Z",
     "start_time": "2022-08-11T12:16:24.647255Z"
    }
   },
   "outputs": [],
   "source": [
    "# 用数值替代品种名作为标签\n",
    "target = np.unique(data.target)\n",
    "target_names = np.unique(data.target_names)\n",
    "targets = dict(zip(target, t’ arget_names))\n",
    "df[\"Species\"] = df[\"Species\"].replace(targets)"
   ]
  },
  {
   "cell_type": "code",
   "execution_count": null,
   "id": "d2efc57d",
   "metadata": {
    "ExecuteTime": {
     "end_time": "2022-08-11T12:16:24.648255Z",
     "start_time": "2022-08-11T12:16:24.648255Z"
    }
   },
   "outputs": [],
   "source": [
    "targets"
   ]
  },
  {
   "cell_type": "code",
   "execution_count": null,
   "id": "aeb2fb42",
   "metadata": {
    "ExecuteTime": {
     "end_time": "2022-08-11T12:16:24.648973Z",
     "start_time": "2022-08-11T12:16:24.648973Z"
    }
   },
   "outputs": [],
   "source": [
    "df[\"Species\"]"
   ]
  },
  {
   "cell_type": "code",
   "execution_count": null,
   "id": "6eafdee2",
   "metadata": {
    "ExecuteTime": {
     "end_time": "2022-08-11T12:16:24.649982Z",
     "start_time": "2022-08-11T12:16:24.649982Z"
    }
   },
   "outputs": [],
   "source": [
    "# 提取数据和标签\n",
    "X = df.drop(columns=\"Species\")\n",
    "y = df[\"Species\"]\n",
    "feature_names = X.columns\n",
    "labels = y.unique()"
   ]
  },
  {
   "cell_type": "markdown",
   "id": "6a57bdd9",
   "metadata": {
    "ExecuteTime": {
     "end_time": "2022-08-07T01:41:54.814597Z",
     "start_time": "2022-08-07T01:41:54.783910Z"
    }
   },
   "source": [
    "### 最终代码"
   ]
  },
  {
   "cell_type": "code",
   "execution_count": null,
   "id": "ec0e9521",
   "metadata": {
    "ExecuteTime": {
     "end_time": "2022-08-11T12:16:24.650985Z",
     "start_time": "2022-08-11T12:16:24.650985Z"
    }
   },
   "outputs": [],
   "source": [
    "# 加载数据集\n",
    "data = load_iris() \n",
    "# 转换成.DataFrame形式\n",
    "df = pd.DataFrame(data.data, columns = data.feature_names)\n",
    "# 添加品种列\n",
    "df['Species'] = data.target\n",
    "\n",
    "# 用品种名替代数值作为标签\n",
    "target = np.unique(data.target)\n",
    "target_names = np.unique(data.target_names)\n",
    "targets = dict(zip(target, target_names))\n",
    "df['Species'] = df['Species'].replace(targets)\n",
    "\n",
    "# 提取数据和标签\n",
    "X = df.drop(columns=\"Species\")\n",
    "y = df[\"Species\"]\n",
    "feature_names = X.columns\n",
    "labels = y.unique()"
   ]
  },
  {
   "cell_type": "markdown",
   "id": "733706ce",
   "metadata": {},
   "source": [
    "## 决策树"
   ]
  },
  {
   "cell_type": "code",
   "execution_count": null,
   "id": "9ca5393f",
   "metadata": {
    "ExecuteTime": {
     "end_time": "2022-08-11T12:16:24.650985Z",
     "start_time": "2022-08-11T12:16:24.650985Z"
    }
   },
   "outputs": [],
   "source": [
    "# 划分数据集\n",
    "X_train, test_x, y_train, test_lab = train_test_split(X, y, test_size=0.4, random_state=42)\n",
    "# 创建模型\n",
    "model = DecisionTreeClassifier(max_depth=3, random_state=42)\n",
    "# 训练模型\n",
    "model.fit(X_train, y_train)\n"
   ]
  },
  {
   "cell_type": "code",
   "execution_count": null,
   "id": "bedd5d0c",
   "metadata": {
    "ExecuteTime": {
     "end_time": "2022-08-11T12:16:24.652897Z",
     "start_time": "2022-08-11T12:16:24.652730Z"
    }
   },
   "outputs": [],
   "source": [
    "y_pred = model.predict(data.data)\n",
    "target_dict = {}\n",
    "for i,name in enumerate(data.target_names):\n",
    "    target_dict[name] = i\n",
    "y_predict = [target_dict[k] for k in y_pred]\n",
    "print(y_predict)\n"
   ]
  },
  {
   "cell_type": "code",
   "execution_count": null,
   "id": "3cec31da",
   "metadata": {
    "ExecuteTime": {
     "end_time": "2022-08-11T12:16:24.652897Z",
     "start_time": "2022-08-11T12:16:24.652897Z"
    }
   },
   "outputs": [],
   "source": [
    "print(data.target)"
   ]
  },
  {
   "cell_type": "code",
   "execution_count": null,
   "id": "069a1728",
   "metadata": {
    "ExecuteTime": {
     "end_time": "2022-08-11T12:16:24.653908Z",
     "start_time": "2022-08-11T12:16:24.653908Z"
    }
   },
   "outputs": [],
   "source": [
    "target_dict"
   ]
  },
  {
   "cell_type": "code",
   "execution_count": null,
   "id": "97d6be90",
   "metadata": {
    "ExecuteTime": {
     "end_time": "2022-08-11T12:16:24.654910Z",
     "start_time": "2022-08-11T12:16:24.654910Z"
    }
   },
   "outputs": [],
   "source": [
    "help(dict)"
   ]
  },
  {
   "cell_type": "markdown",
   "id": "12c6804f",
   "metadata": {},
   "source": [
    "### 可视化决策树的方式"
   ]
  },
  {
   "cell_type": "markdown",
   "id": "bcddf5a8",
   "metadata": {},
   "source": [
    "#### 以文字形式输出树"
   ]
  },
  {
   "cell_type": "code",
   "execution_count": null,
   "id": "26faf4ca",
   "metadata": {
    "ExecuteTime": {
     "end_time": "2022-08-11T12:16:24.655909Z",
     "start_time": "2022-08-11T12:16:24.655909Z"
    }
   },
   "outputs": [],
   "source": [
    "# 以文字形式输出树 \n",
    "text_representation = tree.export_text(model)\n",
    "print(text_representation)"
   ]
  },
  {
   "cell_type": "markdown",
   "id": "84b9ac37",
   "metadata": {},
   "source": [
    "#### plot_tree"
   ]
  },
  {
   "cell_type": "code",
   "execution_count": null,
   "id": "149c964a",
   "metadata": {
    "ExecuteTime": {
     "end_time": "2022-08-11T12:16:24.656908Z",
     "start_time": "2022-08-11T12:16:24.656908Z"
    }
   },
   "outputs": [],
   "source": [
    "# 用图片画出:plot_tree\n",
    "plt.figure(figsize=(30,10), facecolor=\"g\")\n",
    "a = tree.plot_tree(model, feature_names=feature_names, class_names=labels, rounded=True, filled=True, fontsize=14)\n",
    "plt.show()"
   ]
  },
  {
   "cell_type": "markdown",
   "id": "12e77582",
   "metadata": {},
   "source": [
    "#### graphviz模块\n",
    "\n",
    "该模块需要安装graphviz，推荐在ubuntu上```sudo apt install graphviz```或者Mac上```brew install graphviz```\n",
    "\n",
    "https://zhuanlan.zhihu.com/p/268532582"
   ]
  },
  {
   "cell_type": "code",
   "execution_count": null,
   "id": "d56ec88c",
   "metadata": {
    "ExecuteTime": {
     "end_time": "2022-08-11T12:16:24.657908Z",
     "start_time": "2022-08-11T12:16:24.657908Z"
    }
   },
   "outputs": [],
   "source": [
    "graphviz??"
   ]
  },
  {
   "cell_type": "code",
   "execution_count": null,
   "id": "63cbfb6e",
   "metadata": {
    "ExecuteTime": {
     "end_time": "2022-08-11T12:16:24.658908Z",
     "start_time": "2022-08-11T12:16:24.658908Z"
    }
   },
   "outputs": [],
   "source": [
    "import graphviz\n",
    "# 通过export_graphviz()方法将之前搭建的决策树模型model转换为字符串格式并赋值给dot_data，\n",
    "# 其中注意需要设定out_file参数为None，这样获得的才是字符串格式\n",
    "dot_data = tree.export_graphviz(model, out_file=None, feature_names=data.feature_names, class_names=data.target_names, filled=True)\n",
    "# 将dot_data转换成可视化的格式\n",
    "graph = graphviz.Source(dot_data, format=\"png\")\n",
    "graph"
   ]
  },
  {
   "cell_type": "code",
   "execution_count": null,
   "id": "2e477056",
   "metadata": {
    "ExecuteTime": {
     "end_time": "2022-08-11T12:16:24.658908Z",
     "start_time": "2022-08-11T12:16:24.658908Z"
    }
   },
   "outputs": [],
   "source": [
    "# dot_data就是字符串格式\n",
    "dot_data"
   ]
  },
  {
   "cell_type": "markdown",
   "id": "3b1ef8ac",
   "metadata": {},
   "source": [
    "#### dtreeviz模块\n",
    "\n",
    "dtreevizd的y_data需要输入数值，所以前面的数据预处理不合适，这里重新进行了数据集处理"
   ]
  },
  {
   "cell_type": "code",
   "execution_count": null,
   "id": "8458fec3",
   "metadata": {
    "ExecuteTime": {
     "end_time": "2022-08-11T12:16:24.659909Z",
     "start_time": "2022-08-11T12:16:24.659909Z"
    }
   },
   "outputs": [],
   "source": [
    "import dtreeviz"
   ]
  },
  {
   "cell_type": "code",
   "execution_count": null,
   "id": "d83761fd",
   "metadata": {
    "ExecuteTime": {
     "end_time": "2022-08-11T12:16:24.661910Z",
     "start_time": "2022-08-11T12:16:24.661910Z"
    }
   },
   "outputs": [],
   "source": [
    "dtreeviz??"
   ]
  },
  {
   "cell_type": "code",
   "execution_count": null,
   "id": "94dd3dc7",
   "metadata": {
    "ExecuteTime": {
     "end_time": "2022-08-11T12:16:24.662909Z",
     "start_time": "2022-08-11T12:16:24.662909Z"
    }
   },
   "outputs": [],
   "source": [
    "from dtreeviz.trees import *\n",
    "\n",
    "# 准备数据\n",
    "X = data.data\n",
    "y = data.target\n",
    "X_train, X_test, y_train, y_test = train_test_split(X, y, test_size=0.2, random_state=42)\n",
    "\n",
    "# 拟合\n",
    "clf = tree.DecisionTreeClassifier(max_depth=3, random_state=42)\n",
    "clf.fit(X_train, y_train)\n",
    "# dtreevizd的y_data需要输入数值，所以前面的数据预处理不合适，这里重新进行了数据集处理\n",
    "viz = dtreeviz(clf, \n",
    "               x_data=X_train,\n",
    "               y_data=y_train,\n",
    "               target_name='class',\n",
    "               feature_names=data.feature_names, \n",
    "               class_names=list(data.target_names), \n",
    "               title=\"Decision Tree - Iris data set\")\n",
    "viz"
   ]
  },
  {
   "cell_type": "markdown",
   "id": "0cf36018",
   "metadata": {},
   "source": [
    "## 预测"
   ]
  },
  {
   "cell_type": "markdown",
   "id": "a7a58480",
   "metadata": {},
   "source": [
    "#### sns.heatmap可视化报告"
   ]
  },
  {
   "cell_type": "code",
   "execution_count": null,
   "id": "c0843fa1",
   "metadata": {
    "ExecuteTime": {
     "end_time": "2022-08-11T12:16:24.663912Z",
     "start_time": "2022-08-11T12:16:24.663912Z"
    }
   },
   "outputs": [],
   "source": [
    "from sklearn.metrics import classification_report\n"
   ]
  },
  {
   "cell_type": "code",
   "execution_count": null,
   "id": "e5c10479",
   "metadata": {
    "ExecuteTime": {
     "end_time": "2022-08-11T12:16:24.664911Z",
     "start_time": "2022-08-11T12:16:24.664911Z"
    }
   },
   "outputs": [],
   "source": [
    "y_pred = model.predict(test_x)\n",
    "# clf_report是字符串描述\n",
    "clf_report = classification_report(test_lab, y_pred, labels=labels, target_names=target_names, output_dict=True)\n",
    "plt.figure(figsize=(8,6))\n",
    "sns.heatmap(pd.DataFrame(clf_report).iloc[:-1, :].T, annot=True)\n",
    "plt.show()"
   ]
  },
  {
   "cell_type": "code",
   "execution_count": null,
   "id": "40716aa9",
   "metadata": {
    "ExecuteTime": {
     "end_time": "2022-08-11T12:16:24.665909Z",
     "start_time": "2022-08-11T12:16:24.665909Z"
    }
   },
   "outputs": [],
   "source": [
    "clf_report"
   ]
  },
  {
   "cell_type": "markdown",
   "id": "09f3137d",
   "metadata": {},
   "source": [
    "# 实现DecisionTree"
   ]
  },
  {
   "cell_type": "markdown",
   "id": "7c6fa64f",
   "metadata": {},
   "source": [
    "In this exercise, you will implement a decision tree from scratch and apply it to the task of classifying whether a mushroom is edible or poisonous.\n",
    "\n",
    "**Outline**"
   ]
  },
  {
   "cell_type": "code",
   "execution_count": null,
   "id": "6017b090",
   "metadata": {
    "ExecuteTime": {
     "end_time": "2022-08-11T12:16:24.666911Z",
     "start_time": "2022-08-11T12:16:24.666911Z"
    }
   },
   "outputs": [],
   "source": [
    "import numpy as np\n",
    "import matplotlib.pyplot as plt\n",
    "from public_tests import *  # 已封装的函数\n",
    "%matplotlib inline"
   ]
  },
  {
   "cell_type": "markdown",
   "id": "a4734bb7",
   "metadata": {},
   "source": [
    "## Dataset\n",
    "\n",
    "You will start by loading the dataset for this task. The dataset you have collected is as follows:\n",
    "\n",
    "| Cap Color | Stalk Shape | Solitary | Edible |\n",
    "|:---------:|:-----------:|:--------:|:------:|\n",
    "|   Brown   |   Tapering  |    Yes   |    1   |\n",
    "|   Brown   |  Enlarging  |    Yes   |    1   |\n",
    "|   Brown   |  Enlarging  |    No    |    0   |\n",
    "|   Brown   |  Enlarging  |    No    |    0   |\n",
    "|   Brown   |   Tapering  |    Yes   |    1   |\n",
    "|    Red    |   Tapering  |    Yes   |    0   |\n",
    "|    Red    |  Enlarging  |    No    |    0   |\n",
    "|   Brown   |  Enlarging  |    Yes   |    1   |\n",
    "|    Red    |   Tapering  |    No    |    1   |\n",
    "|   Brown   |  Enlarging  |    No    |    0   |\n",
    "\n",
    "## One hot encoded dataset\n",
    "\n",
    "For ease of implementation, we have one-hot encoded the features (turned them into 0 or 1 valued features)\n",
    "\n",
    "| Brown Cap | Tapering Stalk Shape | Solitary | Edible |\n",
    "|:---------:|:--------------------:|:--------:|:------:|\n",
    "|     1     |           1          |     1    |    1   |\n",
    "|     1     |           0          |     1    |    1   |\n",
    "|     1     |           0          |     0    |    0   |\n",
    "|     1     |           0          |     0    |    0   |\n",
    "|     1     |           1          |     1    |    1   |\n",
    "|     0     |           1          |     1    |    0   |\n",
    "|     0     |           0          |     0    |    0   |\n",
    "|     1     |           0          |     1    |    1   |\n",
    "|     0     |           1          |     0    |    1   |\n",
    "|     1     |           0          |     0    |    0   |\n"
   ]
  },
  {
   "cell_type": "code",
   "execution_count": null,
   "id": "614bdc3d",
   "metadata": {
    "ExecuteTime": {
     "end_time": "2022-08-11T12:16:24.668058Z",
     "start_time": "2022-08-11T12:16:24.668058Z"
    }
   },
   "outputs": [],
   "source": [
    "X_train = np.array([[1,1,1],[1,0,1],[1,0,0],[1,0,0],[1,1,1],[0,1,1],[0,0,0],[1,0,1],[0,1,0],[1,0,0]])\n",
    "y_train = np.array([1,1,0,0,1,0,0,1,1,0])"
   ]
  },
  {
   "cell_type": "markdown",
   "id": "fd3a94b6",
   "metadata": {
    "ExecuteTime": {
     "end_time": "2022-08-07T09:10:26.679793Z",
     "start_time": "2022-08-07T09:10:26.661572Z"
    }
   },
   "source": [
    "## Decision Tree Refresher\n",
    "\n",
    "- Recall that the steps for building a decision tree are as follows:\n",
    "    - Start with all examples at the root node\n",
    "    - Calculate information gain for splitting on all possible features, and pick the one with the highest information gain\n",
    "    - Split dataset according to the selected feature, and create left and right branches of the tree\n",
    "    - Keep repeating splitting process until stopping criteria is met\n",
    "\n",
    "- For this lab, the stopping criteria we've chosen is setting a maximum depth of 2"
   ]
  },
  {
   "cell_type": "markdown",
   "id": "defe5220",
   "metadata": {},
   "source": [
    "### Calculate entropy"
   ]
  },
  {
   "cell_type": "code",
   "execution_count": null,
   "id": "a99a0426",
   "metadata": {
    "ExecuteTime": {
     "end_time": "2022-08-11T12:16:24.668058Z",
     "start_time": "2022-08-11T12:16:24.668058Z"
    }
   },
   "outputs": [],
   "source": [
    "len(y_train)"
   ]
  },
  {
   "cell_type": "code",
   "execution_count": null,
   "id": "39c349b5",
   "metadata": {
    "ExecuteTime": {
     "end_time": "2022-08-11T12:16:24.669150Z",
     "start_time": "2022-08-11T12:16:24.669150Z"
    }
   },
   "outputs": [],
   "source": [
    "(-0.5) * np.log2(0.5) - (0.5)*np.log2(0.5)"
   ]
  },
  {
   "cell_type": "code",
   "execution_count": null,
   "id": "a05097a6",
   "metadata": {
    "ExecuteTime": {
     "end_time": "2022-08-11T12:16:24.670148Z",
     "start_time": "2022-08-11T12:16:24.670148Z"
    }
   },
   "outputs": [],
   "source": [
    "def compute_entropy(y):\n",
    "    \"\"\"\n",
    "    Computes the entropy for \n",
    "    \n",
    "    Args:\n",
    "       y (ndarray): Numpy array indicating whether each example at a node is\n",
    "           edible (`1`) or poisonous (`0`)\n",
    "       \n",
    "    Returns:\n",
    "        entropy (float): Entropy at that node\n",
    "    \n",
    "    \"\"\"\n",
    "    entropy = 0.\n",
    "    # p1:正例的比例\n",
    "    p_1 = np.sum(y) / len(y)\n",
    "    if p_1==1 or p_1==0:\n",
    "        return entropy\n",
    "    entropy = (-p_1) * np.log2(p_1) - (1 - p_1) * np.log2(1 - p_1)\n",
    "    return entropy"
   ]
  },
  {
   "cell_type": "code",
   "execution_count": null,
   "id": "b778637e",
   "metadata": {
    "ExecuteTime": {
     "end_time": "2022-08-11T12:16:24.671148Z",
     "start_time": "2022-08-11T12:16:24.671148Z"
    }
   },
   "outputs": [],
   "source": [
    "print(\"Entropy at root node: \", compute_entropy(y_train)) "
   ]
  },
  {
   "attachments": {
    "image.png": {
     "image/png": "[encoded data removed]"
    }
   },
   "cell_type": "markdown",
   "id": "e009db0b",
   "metadata": {},
   "source": [
    "### Split dataset\n",
    "\n",
    "根据选择的特征对数据集进行左右子树划分\n",
    "\n",
    "**for example:**\n",
    "say we're starting at the root node (so `node_indices = [0,1,2,3,4,5,6,7,8,9]`), and we chose to split on feature `0`, which is whether or not the example has a brown cap.\n",
    "    - The output of the function is then, `left_indices = [0,1,2,3,4,7,9]` and `right_indices = [5,6,8]`\n",
    "![image.png](attachment:image.png)"
   ]
  },
  {
   "cell_type": "code",
   "execution_count": null,
   "id": "2224725a",
   "metadata": {
    "ExecuteTime": {
     "end_time": "2022-08-11T12:16:24.672148Z",
     "start_time": "2022-08-11T12:16:24.672148Z"
    }
   },
   "outputs": [],
   "source": [
    "def split_dataset(X, node_indices, feature):\n",
    "    \"\"\"\n",
    "    Splits the data at the given node into\n",
    "    left and right branches\n",
    "    \n",
    "    Args:\n",
    "        X (ndarray):             Data matrix of shape(n_samples, n_features)\n",
    "        node_indices (ndarray):  当前子树中待划分的所有结点\n",
    "        feature (int):           指定的划分feature,根据这个feature进行划分\n",
    "    \n",
    "    Returns:\n",
    "        left_indices (ndarray): Indices with feature value == 1\n",
    "        right_indices (ndarray): Indices with feature value == 0\n",
    "    \n",
    "    \"\"\"\n",
    "    left_indices = []\n",
    "    right_indeices = []\n",
    "    for i in range(len(node_indices)):\n",
    "        if X[i,feature] == 1:\n",
    "            left_indices.append(i)\n",
    "        else:\n",
    "            right_indeices.append(i)\n",
    "    \n",
    "    return left_indices, right_indeices"
   ]
  },
  {
   "cell_type": "code",
   "execution_count": null,
   "id": "65d5015e",
   "metadata": {
    "ExecuteTime": {
     "end_time": "2022-08-11T12:16:24.674149Z",
     "start_time": "2022-08-11T12:16:24.674149Z"
    }
   },
   "outputs": [],
   "source": [
    "root_indices = [0, 1, 2, 3, 4, 5, 6, 7, 8, 9]\n",
    "\n",
    "# 选出的feature是第1个\n",
    "feature = 0\n",
    "\n",
    "left_indices, right_indices = split_dataset(X_train, root_indices, feature)\n",
    "\n",
    "print(\"Left indices: \", left_indices)\n",
    "print(\"Right indices: \", right_indices)"
   ]
  },
  {
   "cell_type": "markdown",
   "id": "06e435d7",
   "metadata": {},
   "source": [
    "## Calculate information gain\n",
    "\n",
    "$$\\text{Information Gain} = H(p_1^\\text{node})- (w^{\\text{left}}H(p_1^\\text{left}) + w^{\\text{right}}H(p_1^\\text{right}))$$\n",
    "\n",
    "where \n",
    "- $H(p_1^\\text{node})$ is entropy at the node \n",
    "- $H(p_1^\\text{left})$ and $H(p_1^\\text{right})$ are the entropies at the left and the right branches resulting from the split\n",
    "- $w^{\\text{left}}$ and $w^{\\text{right}}$ are the proportion of examples at the left and right branch respectively"
   ]
  },
  {
   "cell_type": "code",
   "execution_count": null,
   "id": "6431f6bf",
   "metadata": {
    "ExecuteTime": {
     "end_time": "2022-08-11T12:16:24.674149Z",
     "start_time": "2022-08-11T12:16:24.674149Z"
    }
   },
   "outputs": [],
   "source": [
    "root_indices = [0, 1, 2, 3, 4, 5, 6, 7, 8, 9]\n",
    "# 根据indices提取出对应的样本\n",
    "X_train[root_indices]\n"
   ]
  },
  {
   "cell_type": "code",
   "execution_count": null,
   "id": "0b110231",
   "metadata": {
    "ExecuteTime": {
     "end_time": "2022-08-11T12:16:24.676167Z",
     "start_time": "2022-08-11T12:16:24.676167Z"
    }
   },
   "outputs": [],
   "source": [
    "def compute_information_gain(X, y, node_indices, feature):\n",
    "    \"\"\"\n",
    "    Compute the information of splitting the node on a given feature\n",
    "    Args:\n",
    "        X (ndarray):            Data matrix of shape(n_samples, n_features)\n",
    "        y (array like):         list or ndarray with n_samples containing the target variable\n",
    "        node_indices (ndarray): 当前子树中待划分的所有结点\n",
    "   \n",
    "    Returns:\n",
    "        cost (float):        Cost computed\n",
    "    \n",
    "    \"\"\"\n",
    "    # Split dataset\n",
    "    left_indices, right_indices = split_dataset(X, y, feature)\n",
    "    \n",
    "    information_gain = 0\n",
    "    # 计算左右分支所占的权重\n",
    "    w_left, w_right = len(left_indices)/len(X), len(right_indices)/len(X)\n",
    "    # 根据indices提取出对应的样本\n",
    "    X_node, y_node = X[node_indices], y[node_indices]\n",
    "    X_left, y_left = X[left_indices], y[left_indices]\n",
    "    X_right, y_right = X[right_indices], y[right_indices]\n",
    "    # compute entropy\n",
    "    entropy_p1_node = compute_entropy(y_node)\n",
    "    entropy_p1_left = compute_entropy(y_left)\n",
    "    entropy_p1_right = compute_entropy(y_right)\n",
    "    # compute information gain\n",
    "    information_gain = entropy_p1_node - (w_left * entropy_p1_left + w_right * entropy_p1_right)\n",
    "    return information_gain"
   ]
  },
  {
   "cell_type": "markdown",
   "id": "cb42c362",
   "metadata": {},
   "source": [
    "根节点开始"
   ]
  },
  {
   "cell_type": "code",
   "execution_count": null,
   "id": "437e68c4",
   "metadata": {
    "ExecuteTime": {
     "end_time": "2022-08-11T12:16:24.677149Z",
     "start_time": "2022-08-11T12:16:24.677149Z"
    }
   },
   "outputs": [],
   "source": [
    "# 分别计算各个特征对应的information gain\n",
    "info_gain0 = compute_information_gain(X_train, y_train, root_indices, feature=0)\n",
    "info_gain1 = compute_information_gain(X_train, y_train, root_indices, feature=1)\n",
    "info_gain2 = compute_information_gain(X_train, y_train, root_indices, feature=2)"
   ]
  },
  {
   "cell_type": "code",
   "execution_count": null,
   "id": "b0ef1907",
   "metadata": {
    "ExecuteTime": {
     "end_time": "2022-08-11T12:16:24.678149Z",
     "start_time": "2022-08-11T12:16:24.678149Z"
    }
   },
   "outputs": [],
   "source": [
    "print(\"Information Gain from splitting the root on brown cap: \", info_gain0)\n",
    "print(\"Information Gain from splitting the root on tapering stalk shape: \", info_gain1)\n",
    "print(\"Information Gain from splitting the root on solitary: \", info_gain2)"
   ]
  },
  {
   "cell_type": "markdown",
   "id": "dc7e8720",
   "metadata": {},
   "source": [
    "## Get best split—特征选择"
   ]
  },
  {
   "cell_type": "code",
   "execution_count": null,
   "id": "23aaa693",
   "metadata": {
    "ExecuteTime": {
     "end_time": "2022-08-11T12:16:24.679147Z",
     "start_time": "2022-08-11T12:16:24.679147Z"
    }
   },
   "outputs": [],
   "source": [
    "def get_best_split(X, y, node_indices):\n",
    "    \"\"\"\n",
    "    Returns the optimal feature and threshold value\n",
    "    to split the node data \n",
    "    \n",
    "    Args:\n",
    "        X (ndarray):            Data matrix of shape(n_samples, n_features)\n",
    "        y (array like):         list or ndarray with n_samples containing the target variable\n",
    "        node_indices (ndarray): List containing the active indices. I.e, the samples being considered in this step.\n",
    "\n",
    "    Returns:\n",
    "        best_feature (int):     The index of the best feature to split\n",
    "    \n",
    "    \"\"\"\n",
    "    num_features = X.shape[1]\n",
    "    best_feature = -1\n",
    "    max_info_gain = 0\n",
    "    for i in range(num_features):\n",
    "        # 依次计算各个特征对应的information gain，选择最佳特征（maximum information gain）\n",
    "        cur_info_gain = compute_information_gain(X, y, node_indices, i)\n",
    "        best_feature = i if cur_info_gain >= max_info_gain else best_feature\n",
    "    return best_feature"
   ]
  },
  {
   "cell_type": "code",
   "execution_count": null,
   "id": "e6c3c4d9",
   "metadata": {
    "ExecuteTime": {
     "end_time": "2022-08-11T12:16:24.680149Z",
     "start_time": "2022-08-11T12:16:24.680149Z"
    }
   },
   "outputs": [],
   "source": [
    "best_feature = get_best_split(X_train, y_train, root_indices)\n",
    "print(\"Best feature to split on: %d\" % best_feature)"
   ]
  },
  {
   "cell_type": "markdown",
   "id": "9f651d17",
   "metadata": {},
   "source": [
    "## Building the tree"
   ]
  },
  {
   "cell_type": "code",
   "execution_count": null,
   "id": "c3f41328",
   "metadata": {
    "ExecuteTime": {
     "end_time": "2022-08-11T12:16:24.680149Z",
     "start_time": "2022-08-11T12:16:24.680149Z"
    }
   },
   "outputs": [],
   "source": [
    "tree = []\n",
    "def build_tree_recursive(X, y, node_indices, branch_name, max_depth, current_depth):\n",
    "    \"\"\"\n",
    "    Build a tree using the recursive algorithm that split the dataset into 2 subgroups at each node.\n",
    "    This function just prints the tree.\n",
    "    \n",
    "    Args:\n",
    "        X (ndarray):            Data matrix of shape(n_samples, n_features)\n",
    "        y (array like):         list or ndarray with n_samples containing the target variable\n",
    "        node_indices (ndarray): List containing the active indices. I.e, the samples being considered in this step.\n",
    "        branch_name (string):   Name of the branch. ['Root', 'Left', 'Right']\n",
    "        max_depth (int):        Max depth of the resulting tree. \n",
    "        current_depth (int):    Current depth. Parameter used during recursive call.\n",
    "    \n",
    "    \"\"\"\n",
    "    # Maximum depth reached - stop splitting\n",
    "    if current_depth == max_depth:\n",
    "        formatting = \" \" * current_depth + \"-\" * current_depth\n",
    "        print(formatting, \"%s leaf node with indices\" % branch_name, node_indices)\n",
    "        return \n",
    "    # keep split\n",
    "    best_feature = get_best_split(X, y, node_indices)\n",
    "    tree.append((current_depth, branch_name, best_feature, node_indices))\n",
    "    formatting = \"-\" * current_depth\n",
    "    print(\"%s Depth %d, %s: Split on feature: %d\" %(formatting, current_depth,branch_name, best_feature ) )\n",
    "    # 基于上述选取的best feature进行split\n",
    "    left_indices, right_indices = split_dataset(X, node_indices, best_feature)\n",
    "    # 递归的划分左右子树\n",
    "    build_tree_recursive(X, y, left_indices, \"Left\", max_depth, current_depth+1)\n",
    "    build_tree_recursive(X, y, right_indices, \"Right\", max_depth, current_depth+1)"
   ]
  },
  {
   "cell_type": "code",
   "execution_count": null,
   "id": "a6760dcb",
   "metadata": {
    "ExecuteTime": {
     "end_time": "2022-08-11T12:16:24.681147Z",
     "start_time": "2022-08-11T12:16:24.681147Z"
    },
    "scrolled": true
   },
   "outputs": [],
   "source": [
    "build_tree_recursive(X_train, y_train, root_indices, \"Root\", max_depth=2, current_depth=0)"
   ]
  },
  {
   "cell_type": "markdown",
   "id": "b76efd68",
   "metadata": {},
   "source": [
    "# CART"
   ]
  },
  {
   "cell_type": "code",
   "execution_count": null,
   "id": "9867bc15",
   "metadata": {
    "ExecuteTime": {
     "end_time": "2022-08-11T12:16:24.682148Z",
     "start_time": "2022-08-11T12:16:24.682148Z"
    }
   },
   "outputs": [],
   "source": [
    "\n",
    "def feature_split(X, feature_i, threshold):\n",
    "    \n",
    "    \"\"\"\n",
    "    定义二叉特征分裂函数\n",
    "    feature_i:给定的划分特征\n",
    "    X:待划分集合\n",
    "    threshold：二分的正反例划分阈值\n",
    "    \n",
    "    \"\"\"\n",
    "    split_func = None\n",
    "    if isinstance(threshold, int) or isinstance(threshold, float):\n",
    "        split_func = lambda sample: sample[feature_i] >= threshold\n",
    "    else:\n",
    "        split_func = lambda sample: sample[feature_i] == threshold\n",
    "    # 大于阈值的放在左边\n",
    "    X_left = np.array([sample for sample in X if split_func(sample)])\n",
    "    # 否则放在右边\n",
    "    X_right = np.array([sample for sample in X if not split_func(sample)])\n",
    "    \n",
    "    return np.array([X_left, X_right])"
   ]
  },
  {
   "cell_type": "code",
   "execution_count": null,
   "id": "2be03032",
   "metadata": {
    "ExecuteTime": {
     "end_time": "2022-08-11T12:16:24.683147Z",
     "start_time": "2022-08-11T12:16:24.683147Z"
    }
   },
   "outputs": [],
   "source": [
    "class TreeNode():\n",
    "    \"\"\"\n",
    "    定义决策树中的单个树结点：\n",
    "    本子树的左右分支、本子树是依据哪个特征划分的左右分支、由于特征有多个可能取值，本子树依据特征的哪个阈值\n",
    "    \"\"\"\n",
    "    def __init__(self, feature_i=None, threshold=None, leaf_value=None, left_branch=None, right_branch=None):\n",
    "        # 特征索引\n",
    "        self.feature_i = feature_i\n",
    "        # 特征划分阈值\n",
    "        self.threshold = threshold\n",
    "        # 叶子节点取值\n",
    "        self.leaf_value = leaf_value\n",
    "        # 左子树\n",
    "        self.left_branch = left_branch\n",
    "        # 右子树\n",
    "        self.right_branch = right_branch\n",
    "    "
   ]
  },
  {
   "cell_type": "code",
   "execution_count": null,
   "id": "9c942006",
   "metadata": {
    "ExecuteTime": {
     "end_time": "2022-08-11T12:16:24.684425Z",
     "start_time": "2022-08-11T12:16:24.684425Z"
    }
   },
   "outputs": [],
   "source": [
    "class BinaryDecisionTree(object):\n",
    "    \"\"\"定义二叉决策树\"\"\"\n",
    "    def __init__(self, min_sample_split=2, min_gini_impurity=999, max_depth=float(\"inf\"), loss=None):\n",
    "        # 根结点\n",
    "        self.root = None\n",
    "        # 节点最小分裂样本数，再小就不能继续划分\n",
    "        self.min_sample_split = min_sample_split\n",
    "        # 基于最佳特征计算得到的当前最小gini_impurity < min_gini_impurity才能进行划分\n",
    "        self.min_gini_impurity = min_gini_impurity\n",
    "        # 树最大深度\n",
    "        self.max_depth = max_depth\n",
    "        # 基尼不纯度计算函数\n",
    "        self.gini_impurity_calculation = None\n",
    "        # 叶子节点值预测函数:预测叶子所属分类<多数原则>/回归值\n",
    "        self._leaf_value_calculation = None\n",
    "        # 损失函数\n",
    "        self.loss = loss\n",
    "        \n",
    "    def _build_tree(self, X, y, current_depth=0):\n",
    "        \"\"\"决策树构建函数\"\"\"\n",
    "        # 初始化最小基尼不纯度==预定的min_gini_impurity\n",
    "        init_gini_impurity = 999\n",
    "        # 初始化最佳特征索引和阈值,之后存储最佳的特征和对应的阈值\n",
    "        best_criteria = None\n",
    "        # 初始化数据子集，之后存储基于最佳特征和阈值划分的左右子集(X：y)\n",
    "        best_sets = None\n",
    "        # 合并输入和标签\n",
    "        example = np.concatenate((X,y), axis=1)\n",
    "        # 获取样本数和特征数\n",
    "        n_samples, n_features = X.shape\n",
    "        \n",
    "        # 设定决策树构建条件\n",
    "        # 1、训练样本数量＞节点最小分裂样本数＆当前树深度＜最大深度\n",
    "        if n_samples >= self.min_sample_split and self.current_depth <= self.max_depth:\n",
    "            # 遍历计算每个特征的基尼不纯度\n",
    "            for feature_i in range(n_features):\n",
    "                # 获取第i特征的所有取值—取出第i列，但是维度是(m,),为方便计算，处理成(m,1)\n",
    "                feature_values = np.expand_dims(X[:, feature_i], axis=1)                \n",
    "                # 获取第i个特征的唯一所有可能取值\n",
    "                unique_values = np.unique(feature_values)\n",
    "                # 根据特征的不同取值进行划分\n",
    "                for threshold in unique_values:\n",
    "                    # 根据阈值划分左右分支并返回\n",
    "                    left_indices, right_indices = feature_split(example, feature_i, threshold)\n",
    "                    # 如果分裂后的子集大小都不为0\n",
    "                    if len(left_indices) > 0 and len(right_indices) > 0:\n",
    "                        # 获取两个子集的标签值\n",
    "                        left_y = example[:,n_features:]\n",
    "                        right_y = example[:, n_features]\n",
    "                        # 计算基尼不纯度\n",
    "                        gini_impurity = self.gini_impurity_calculation(y, left_y,right_y)\n",
    "                        # 获取最小基尼不纯度\n",
    "                        if gini_impurity < init_gini_impurity:\n",
    "                            init_gini_impurity = gini_impurity\n",
    "                            # 基于所选的最小gini_impurity进行将划分方案存储在best_criteria和bast_sets中\n",
    "                            # 注意此时还没有真正划分\n",
    "                            best_criteria = {\"feature_i\":feature_i, \"threshold\":threshold}\n",
    "                            best_sets = {\n",
    "                                \"leftX\":left_indices[:, :n_features],\n",
    "                                \"lefty\":left_indices[:, n_features:],\n",
    "                                \"rightX\":right_indices[:, :n_features],\n",
    "                                \"righty\":right_indices[:, n_features:]\n",
    "                            }\n",
    "        # 2、当前的最小gini_impurity < 预设的mini_gini_impurity,可以进行划分\n",
    "        if init_gini_impurity < self.min_gini_impurity:\n",
    "            # 继续递归的进行左右子树的划分\n",
    "            left_branch = self._build_tree(best_sets[\"leftX\"], best_sets[\"lefty\"], current_depth + 1)\n",
    "            right_branch = self._build_tree(best_sets[\"rightX\"], best_sets[\"righty\"], current_depth + 1)\n",
    "            # 左右子树划分完毕后，本子树划分完毕，返回子树\n",
    "            return TreeNode(feature_i=best_criteria[\"feature_i\"], threshold=best_criteria[\"threshold\"], left_branch=left_branch, right_branch=right_branch)\n",
    "        \n",
    "        # 3、否则是叶子，直接计算\n",
    "        leaf_value = self._leaf_value_calculation(y)\n",
    "        return TreeNode(leaf_value=leaf_value)\n",
    "                        \n",
    "                    \n",
    "    def fit(self, X, y, loss=None):\n",
    "        \"\"\"决策树拟合函数\"\"\"\n",
    "        self.root = self._build_tree(X, y)\n",
    "        self.loss = None\n",
    "    def predict(self, X):\n",
    "        \"\"\"数据集预测函数\"\"\"\n",
    "        y_pred = [self.predict_value(sample) for sample in X]\n",
    "        return y_pred\n",
    "    \n",
    "    def predict_value(self, x, tree=None):\n",
    "        \"\"\"单个样本的预测\"\"\"\n",
    "        if tree is None:# 样本刚刚进入决策树时：从root开始判断\n",
    "            tree = self.root\n",
    "        \n",
    "        # 样本x继续走到叶子节点则已经分类（回归预测）完毕了\n",
    "        if tree.leaf_value is not None:\n",
    "            return tree.leaf_value\n",
    "        # 此子树的最佳特征feature_i(由之前构建子树时存储的)\n",
    "        feature_value = x[tree.feature_i] # 根据当前所在子树的最佳特征feature_i取出样本对应的这个特征\n",
    "        branch = tree.right_branch\n",
    "        # feature_value有效时（feature_i初始为None时无效）\n",
    "        if isinstance(feature_value, int) or isinstance(feature_value, float):\n",
    "            # 如果样本的feature_value＞=阈值就往左边走，继续递归的往下直到走到叶子节点完成预测\n",
    "            if feature_value >= tree.threshold:\n",
    "                branch = tree.left_branch\n",
    "        elif feature_value == tree.threshold:\n",
    "            branch = tree.left_branch\n",
    "            \n",
    "        return self.predict_value(x, branch)# 递归的继续往下判断\n",
    "        \n",
    "        "
   ]
  },
  {
   "cell_type": "code",
   "execution_count": null,
   "id": "df3487b7",
   "metadata": {
    "ExecuteTime": {
     "end_time": "2022-08-11T12:16:24.685446Z",
     "start_time": "2022-08-11T12:16:24.685446Z"
    }
   },
   "outputs": [],
   "source": [
    "def calculate_gini(y):\n",
    "    \"\"\"\n",
    "    未划分时计算本节点的基尼系数:\n",
    "    给定样本集合D,其gini指数为Σp_k(1-p_k),k是分类数:0,1,...,k\n",
    "    y:ndarray\n",
    "    \n",
    "    \"\"\"\n",
    "    k = np.unique(y)\n",
    "    p_k = [y.tolist().count(i) for i in k]\n",
    "    gini = sum(p * (1-p) for p in p_k)\n",
    "    return gini  "
   ]
  },
  {
   "cell_type": "code",
   "execution_count": null,
   "id": "b432b062",
   "metadata": {
    "ExecuteTime": {
     "end_time": "2022-08-11T12:16:24.686463Z",
     "start_time": "2022-08-11T12:16:24.686463Z"
    }
   },
   "outputs": [],
   "source": [
    "class ClassificationTree(BinaryDecisionTree):\n",
    "    \n",
    "    def _calculate_gini_impurity(self, y, left_y, right_y):\n",
    "        \"\"\"\n",
    "        定义gini_impurity:基于此节点已经划分的左右分支\n",
    "        \n",
    "        \"\"\"\n",
    "        # 计算正例的比例\n",
    "        p = len(left_y) / len(y)\n",
    "        gini = calculate_gini(y)\n",
    "        gini_impurity = p * calculate_gini(left_y) + (1-p) * calculate_gini(right_y)\n",
    "        return gini_impurity\n",
    "    \n",
    "    def _majority_vote(self, y):\n",
    "        \"\"\"使用多数原则对此节点的所有样本划定所属分类\"\"\"\n",
    "        most_common = None\n",
    "        max_count = 0\n",
    "        for label in np.unique(y):\n",
    "            count = len(y[y == label])\n",
    "            if count > max_count:\n",
    "                most_common = label\n",
    "                max_count = count\n",
    "        return most_common\n",
    "    def fit(self, X, y):\n",
    "        \"\"\"分类树拟合\"\"\"\n",
    "        self.impurity_calculation = self._calculate_gini_impurity\n",
    "        self._leaf_value_calculation = self._majority_vote\n",
    "        super(ClassificationTree, self).fit(X,y)\n",
    "    "
   ]
  },
  {
   "cell_type": "code",
   "execution_count": null,
   "id": "7d3de315",
   "metadata": {
    "ExecuteTime": {
     "end_time": "2022-08-11T12:16:24.687448Z",
     "start_time": "2022-08-11T12:16:24.687448Z"
    }
   },
   "outputs": [],
   "source": [
    "from sklearn import datasets\n",
    "from sklearn.model_selection import train_test_split\n",
    "# 加载数据集\n",
    "data = datasets.load_iris()\n",
    "X,y = data.data, data.target\n",
    "# y.shape是（150，），改为一维方便之后计算\n",
    "y = y.reshape(-1,1)\n",
    "\n",
    "# 划分数据集\n",
    "X_train, X_test, y_train, y_test = train_test_split(X, y, test_size=0.3)\n",
    "\n",
    "# 创建决策树类对象\n",
    "clf = ClassificationTree()\n",
    "# 训练决策树\n",
    "clf.fit(X_train, y_train)\n",
    "# 预测\n",
    "y_pred = clf.predict(X_test)\n",
    "# 查看预测准确率\n",
    "print(accuracy_score(y_test, y_pred))"
   ]
  },
  {
   "cell_type": "code",
   "execution_count": null,
   "id": "7d4bb018",
   "metadata": {
    "ExecuteTime": {
     "end_time": "2022-08-11T12:16:24.687776Z",
     "start_time": "2022-08-11T12:16:24.687776Z"
    }
   },
   "outputs": [],
   "source": [
    "y.shape"
   ]
  },
  {
   "cell_type": "code",
   "execution_count": null,
   "id": "cf34e405",
   "metadata": {
    "ExecuteTime": {
     "end_time": "2022-08-11T12:16:24.689089Z",
     "start_time": "2022-08-11T12:16:24.689089Z"
    }
   },
   "outputs": [],
   "source": [
    "x = np.arange(6).reshape(2,3)\n",
    "print(x)\n",
    "print(x[:,1]) # 取第1列\n",
    "print(x[:,1].shape) # 取到的是一维的(2,)\n",
    "np.expand_dims(x[:, 1], axis=1).shape # 变长（2，1）"
   ]
  },
  {
   "cell_type": "markdown",
   "id": "6ef168a1",
   "metadata": {
    "ExecuteTime": {
     "end_time": "2022-08-09T08:37:47.025322Z",
     "start_time": "2022-08-09T08:37:47.011409Z"
    }
   },
   "source": [
    "## CART"
   ]
  },
  {
   "attachments": {
    "image.png": {
     "image/png": "[encoded data removed]"
    }
   },
   "cell_type": "markdown",
   "id": "bf99bf52",
   "metadata": {},
   "source": [
    "### 计算基尼指数\n",
    "\n",
    "![image.png](attachment:image.png)"
   ]
  },
  {
   "cell_type": "code",
   "execution_count": null,
   "id": "a918d6b3",
   "metadata": {
    "ExecuteTime": {
     "end_time": "2022-08-11T12:16:24.690089Z",
     "start_time": "2022-08-11T12:16:24.690089Z"
    }
   },
   "outputs": [],
   "source": [
    "def  gini(y, weight=None):\n",
    "    \n",
    "    \"\"\"\n",
    "    计算当前样本集合y的基尼指数\n",
    "    :param y:一维ndarray数组\n",
    "    :param weight:一维ndarray数组，样本权重\n",
    "    :return:基尼系数\n",
    "    \n",
    "    \"\"\"\n",
    "    if weight is None:\n",
    "        # 根节点的权重为1\n",
    "        weight = np.array([1.0]*len(y))\n",
    "    # 样本数\n",
    "    weight_sum = np.sum(weight)\n",
    "    # 统计各个pk\n",
    "    probs = np.array(np.sum(weight[y==i]/weight_sum) for i in np.unique(y))\n",
    "    # 基于公式计算基尼指数\n",
    "    gini = np.sum([probs_k * (1-probs_k) for probs_k in probs])\n",
    "    return gini"
   ]
  },
  {
   "cell_type": "code",
   "execution_count": null,
   "id": "3bc5c6a5",
   "metadata": {
    "ExecuteTime": {
     "end_time": "2022-08-11T12:16:24.691089Z",
     "start_time": "2022-08-11T12:16:24.691089Z"
    }
   },
   "outputs": [],
   "source": [
    "y = np.array([1,3,4,4])\n",
    "weight = np.array([1,1,1,1])\n",
    "y == 4\n",
    "weight[y==4]"
   ]
  },
  {
   "attachments": {
    "image.png": {
     "image/png": "[encoded data removed]"
    }
   },
   "cell_type": "markdown",
   "id": "d5f704a9",
   "metadata": {},
   "source": [
    "### 计算条件基尼指数\n",
    "\n",
    "属性a不同取值上基尼系数的加权求和\n",
    "![image.png](attachment:image.png)"
   ]
  },
  {
   "cell_type": "code",
   "execution_count": null,
   "id": "8816e298",
   "metadata": {
    "ExecuteTime": {
     "end_time": "2022-08-11T12:16:24.692088Z",
     "start_time": "2022-08-11T12:16:24.692088Z"
    }
   },
   "outputs": [],
   "source": [
    "def con_gini(x, y, weight=None):\n",
    "    \"\"\"\n",
    "    计算单个特征下的条件基尼系数\n",
    "    :param x:特征，一维ndarray数组\n",
    "    :param y:标签，一维ndarray数组\n",
    "    :param weight:样本权重，一维ndarray数组\n",
    "    :return:条件基尼系数\n",
    "    \n",
    "    \"\"\"\n",
    "    if weight is None:\n",
    "        weight = np.array([1.0]*len(y))\n",
    "    weight_sum = np.sum(weight)\n",
    "    condition_gain = 0\n",
    "    for i in np.unique(x):\n",
    "        # 找出特征值为i的样本索引\n",
    "        index = np.where(x==i)\n",
    "        # 找到索引对应的权重和标签\n",
    "        y_new = y[index]\n",
    "        weight_new = weight[index]\n",
    "        # 计算基于此特征值进行分类时的各个分类内样本geggini_index(cond_gini_index)\n",
    "        cond_gini_index += np.sum(weight_new)/weight_sum * gini(y_new, weight_new)"
   ]
  },
  {
   "cell_type": "code",
   "execution_count": null,
   "id": "bd0241ba",
   "metadata": {
    "ExecuteTime": {
     "end_time": "2022-08-11T12:16:24.693090Z",
     "start_time": "2022-08-11T12:16:24.693090Z"
    }
   },
   "outputs": [],
   "source": [
    "a = np.array([1,2,3,3])\n",
    "np.where(a == 3)"
   ]
  },
  {
   "attachments": {
    "image.png": {
     "image/png": "[encoded data removed]"
    }
   },
   "cell_type": "markdown",
   "id": "0b371a44",
   "metadata": {},
   "source": [
    "基尼系数增益:\n",
    "\n",
    "cart分类树选择基尼系数变化最大（基尼系数增益）的特征来进行划分\n",
    "![image.png](attachment:image.png)\n"
   ]
  },
  {
   "cell_type": "code",
   "execution_count": null,
   "id": "2d664950",
   "metadata": {
    "ExecuteTime": {
     "end_time": "2022-08-11T12:16:24.694089Z",
     "start_time": "2022-08-11T12:16:24.694089Z"
    }
   },
   "outputs": [],
   "source": [
    "def gini_gain(x,y,weight=None):\n",
    "    \n",
    "    \"\"\"\n",
    "    计算单个特征对应的基尼增益\n",
    "    :param x: 特征，一维ndarray数组\n",
    "    :param y: 标签，一维ndarray数组\n",
    "    :param weight: 样本权重，一维ndarray数组\n",
    "    :return: 基尼系数变化量\n",
    "    \n",
    "    \"\"\"\n",
    "    if weight is None:\n",
    "        weight = np.array([1.0]*weight)\n",
    "    return gini(y, weight) - con_gini(x, y, weight)"
   ]
  },
  {
   "cell_type": "markdown",
   "id": "cfb84061",
   "metadata": {},
   "source": [
    "### 决策树构建\n",
    "\n",
    "cart分类树中，决策树生成就是递归调用基尼系数算法来做特征选择，递归的终止条件是两个：一个是节点包含数据属于同一个类别，此时无需划分；另一个是没有特征可以用来做特征选择或者所有特征都只有一个取值，此时无法划分。\n",
    "\n",
    "cart树是一个二叉树，因此在进行特征选择之前，要对特征进行二分，即选择能使基尼增益最大的点作为分割点对特征进行划分"
   ]
  },
  {
   "cell_type": "code",
   "execution_count": null,
   "id": "d91b6588",
   "metadata": {
    "ExecuteTime": {
     "end_time": "2022-08-11T12:16:24.695091Z",
     "start_time": "2022-08-11T12:16:24.695091Z"
    }
   },
   "outputs": [],
   "source": [
    "class Node(object):\n",
    "    def __init__(self, \n",
    "                 n_sample = None, \n",
    "                 gini = None, \n",
    "                 left_child_node = None, \n",
    "                 right_child_node = None, \n",
    "                 class_prob = None, \n",
    "                 feature_index = None, \n",
    "                 feature_best_value = None):\n",
    "        \"\"\"\n",
    "        :param n_sample: 节点样本量\n",
    "        :param gini: 节点标签的基尼系数\n",
    "        :param left_child_node: 节点的左侧子节点\n",
    "        :param right_child_node: 节点的右侧字节带你\n",
    "        :param class_prob: 节点标签的概率分布\n",
    "        :param feature_index: 节点使用的特征\n",
    "        :param feature_best_value: 特征的最佳分割点\n",
    "        \n",
    "        \"\"\"\n",
    "        self.n_sample = n_sample\n",
    "        self.gini = gini\n",
    "        self.left_child_node = left_child_node\n",
    "        self.right_child_node = right_child_node\n",
    "        self.class_prob = class_prob\n",
    "        self.feature_index = feature_index\n",
    "        self.feature_best_value = feature_best_value\n",
    "\n",
    "        "
   ]
  },
  {
   "cell_type": "markdown",
   "id": "cfb4c79a",
   "metadata": {},
   "source": [
    "递归建立决策树的思路：\n",
    "\n",
    "**初始化**\n",
    "\n",
    "建立根节点root_node\n",
    "传入数据集（X，y）＆根节点：\n",
    "build_tree(X, y, self.root_node, weight)\n",
    "\n",
    "**build_tree递归过程**\n",
    "\n",
    "    **递归基**\n",
    "    1、样本基本属于同一类\n",
    "    2、没有更多特征\n",
    "    \n",
    "    **处理当前节点（自身）**\n",
    "    1、遍历找到最佳特征和特征的最佳分割点\n",
    "    2、基于最佳特征和最佳分割点分成左右子树left,right，建立左右节点left_node,right_node\n",
    "    3、让buildtree()帮忙划分左右子树：\n",
    "    build_tree(right_x, right_y, node.right_child_node, right_weight)\n",
    "    build_tree(left_x, left_y, node.left_child_node, left_weight)\n",
    "\n",
    "\n",
    "\n"
   ]
  },
  {
   "cell_type": "markdown",
   "id": "60b86dbb",
   "metadata": {},
   "source": [
    "基于上述思路，先准备各模块：\n",
    "\n",
    "1、寻找最佳特征\n",
    "2、寻找最佳特征的最佳分割点\n",
    "\n",
    "先找到所有特征的每个特征的最佳分割点作为每个特征的代表，再从中选出最佳代表即最佳特征\n",
    "\n"
   ]
  },
  {
   "cell_type": "code",
   "execution_count": 1,
   "id": "0d543127",
   "metadata": {
    "ExecuteTime": {
     "end_time": "2022-08-11T12:16:24.825365Z",
     "start_time": "2022-08-11T12:16:24.745238Z"
    }
   },
   "outputs": [
    {
     "ename": "NameError",
     "evalue": "name 'Node' is not defined",
     "output_type": "error",
     "traceback": [
      "\u001b[1;31m---------------------------------------------------------------------------\u001b[0m",
      "\u001b[1;31mNameError\u001b[0m                                 Traceback (most recent call last)",
      "Input \u001b[1;32mIn [1]\u001b[0m, in \u001b[0;36m<cell line: 1>\u001b[1;34m()\u001b[0m\n\u001b[1;32m----> 1\u001b[0m \u001b[38;5;28;01mclass\u001b[39;00m \u001b[38;5;21;01mCartClassifier\u001b[39;00m(\u001b[38;5;28mobject\u001b[39m):\n\u001b[0;32m      2\u001b[0m     \u001b[38;5;28;01mdef\u001b[39;00m \u001b[38;5;21m__init__\u001b[39m(\u001b[38;5;28mself\u001b[39m, criterion \u001b[38;5;241m=\u001b[39m \u001b[38;5;124m\"\u001b[39m\u001b[38;5;124mgini\u001b[39m\u001b[38;5;124m\"\u001b[39m):\n\u001b[0;32m      3\u001b[0m         \u001b[38;5;28mself\u001b[39m\u001b[38;5;241m.\u001b[39mcriterion \u001b[38;5;241m=\u001b[39m criterion\n",
      "Input \u001b[1;32mIn [1]\u001b[0m, in \u001b[0;36mCartClassifier\u001b[1;34m()\u001b[0m\n\u001b[0;32m     44\u001b[0m     \u001b[38;5;66;03m# 递归建树\u001b[39;00m\n\u001b[0;32m     45\u001b[0m     \u001b[38;5;28mself\u001b[39m\u001b[38;5;241m.\u001b[39m__build_tree(X, y, \u001b[38;5;28mself\u001b[39m\u001b[38;5;241m.\u001b[39mroot_node, weight)\n\u001b[1;32m---> 47\u001b[0m \u001b[38;5;28;01mdef\u001b[39;00m \u001b[38;5;21m__build_tree\u001b[39m(\u001b[38;5;28mself\u001b[39m, X, y, node:\u001b[43mNode\u001b[49m, weight):\n\u001b[0;32m     49\u001b[0m     \u001b[38;5;124;03m\"\"\"\u001b[39;00m\n\u001b[0;32m     50\u001b[0m \u001b[38;5;124;03m    构建决策树子树：\u001b[39;00m\n\u001b[0;32m     51\u001b[0m \u001b[38;5;124;03m    :param node:当前子树的根节点(Node实例)\u001b[39;00m\n\u001b[1;32m   (...)\u001b[0m\n\u001b[0;32m     55\u001b[0m \u001b[38;5;124;03m    \u001b[39;00m\n\u001b[0;32m     56\u001b[0m \u001b[38;5;124;03m    \"\"\"\u001b[39;00m\n\u001b[0;32m     57\u001b[0m     \u001b[38;5;66;03m# 当前节点的样本量和特征的数量\u001b[39;00m\n",
      "\u001b[1;31mNameError\u001b[0m: name 'Node' is not defined"
     ]
    }
   ],
   "source": [
    "class CartClassifier(object):\n",
    "    def __init__(self, criterion = \"gini\"):\n",
    "        self.criterion = criterion\n",
    "        if self.criterion == \"gini\":\n",
    "            # 使用gini增益进行特征选择\n",
    "            self.func = gini_gain\n",
    "    def __split(self, x, y, weight):\n",
    "        \"\"\"\n",
    "        对特征x进行二分，找到本特征最佳的切分点\n",
    "        :param x: 特征\n",
    "        :param y: 标签\n",
    "        :param weight:样本权重\n",
    "        :return: 二分后的特征向量和最佳分割点\n",
    "        \n",
    "        \"\"\"\n",
    "        # 取出当前特征的所有可能取值\n",
    "        x_unique = np.unique(x)\n",
    "        # 先取所有可能取值的中点作为候选切分点\n",
    "        x_split = (x_unique[:-1] + x_unique[1:]) / 2\n",
    "        # 最终只能选择一个切分点（因为是二叉树）\n",
    "        best_split = None\n",
    "        best_gain = 0\n",
    "        for i in x_split:\n",
    "            x_i = np.zeros_like(x)\n",
    "            # 基于特征的切分点i分成左右子树\n",
    "            # 为什么可以直接赋值0/1计算？—因为gini公式中实际上只使用了p(正例的个数)\n",
    "            x_i[x>=i] = 1\n",
    "            x_i[x<i] = 0\n",
    "            cur_gain = gini_gain(x_i, y, weight)\n",
    "            if cur_gain > best_gain:\n",
    "                best_gain = cur_gain\n",
    "                best_split = i\n",
    "        # 找到最佳切分点后进行切分\n",
    "        x_new = np.zeros_like(x)\n",
    "        x_new[x>=best_split] = 1\n",
    "        x_new[x<best_split] = 0\n",
    "        return x_new, best_split\n",
    "    \n",
    "    def fit(self, X, y, weight = None):\n",
    "        if weight is None: # 初始时默认根节点中样本的权重为1\n",
    "            weight = np.array([1.0] * len(y))\n",
    "        # 首先定义根节点\n",
    "        self.root_node = Node()\n",
    "        # 递归建树\n",
    "        self.__build_tree(X, y, self.root_node, weight)\n",
    "    \n",
    "    def __build_tree(self, X, y, node:Node, weight):\n",
    "        \n",
    "        \"\"\"\n",
    "        构建决策树子树：\n",
    "        :param node:当前子树的根节点(Node实例)\n",
    "        :param weight:子树中的样本对应的权重\n",
    "        :param X:样本\n",
    "        :param y: 标签\n",
    "        \n",
    "        \"\"\"\n",
    "        # 当前节点的样本量和特征的数量\n",
    "        n_sample, n_feature = X.shape\n",
    "        # 记录到当前节点的属性中\n",
    "        node.n_sample = n_sample\n",
    "        \n",
    "        # 当前节点的基尼系数\n",
    "        node.gini = gini(y, weight)\n",
    "        # 当前节点的概率分布(不同分类值k对应的权重)\n",
    "        node.class_prob = {k : np.sum(weight[y==k]) for k in np.unique(y)}\n",
    "        \n",
    "        ## 构建子树的递归基\n",
    "        # （1、样本基本属于同一类）如果当前节点所含样本的标签只有一种取值，无需进行划分，跳出循环\n",
    "        if len(np.unique(y) == 1):\n",
    "            return\n",
    "        # (2、没有更多特征)如果当前节点所含样本所有特征都只有一个取值，无法进行划分，跳出循环\n",
    "        if np.sum(np.unique(X[:,i]) for i in range(n_feature)) == n_feature:\n",
    "            return \n",
    "        \n",
    "        ## 递归构建子树\n",
    "        # 找到最佳特征的最佳切分点，并记录对应的最佳基尼增益\n",
    "        best_feature_i = None\n",
    "        best_gain = 0\n",
    "        best_split = None\n",
    "        # 遍历寻找最佳特征和特征的最佳分割点，此处缺失值进行特殊处理\n",
    "        for feature_i in range(n_feature):# X[:, feature_i]取到每个特征\n",
    "            # 去除缺失值\n",
    "            nonan_index = ~np.isnan(X[:, feature_i])\n",
    "            # 有效样本的占比\n",
    "            nonan_prob = np.sum(weight[nonan_index])/np.sum(weight)\n",
    "            if len(np.unique(X[:, feature_i][nonan_index])) == 1:\n",
    "                # 只有一个有效样本则结束本特征的分割\n",
    "                continue\n",
    "                \n",
    "            ## 1、先找到所有特征的每个特征的最佳分割点作为每个特征的代表\n",
    "            \n",
    "            # 对特征进行二分，找到本特征的最佳切分点和对应的左右分支\n",
    "            # x_split中的值为1对应左子树，值为0对应右子树\n",
    "            x_split, cur_split = self.__split(X[:, feature_i][nonan_index], y[nonan_index], weight[nonan_index])\n",
    "            # 计算此特征切分的gini_gain(加权-*nonprob)\n",
    "            cur_gain = self.func(x_split, y[nonan_index], weight[nonan_index]) * nonan_prob\n",
    "            \n",
    "            \n",
    "            ## 2、找最佳特征：再从中选出最佳代表即最佳特征\n",
    "            if cur_gain > best_gain:\n",
    "                best_gain = cur_gain\n",
    "                best_feature_i = feature_i\n",
    "                best_split = cur_split\n",
    "                \n",
    "        ## 3、基于最佳特征和最佳分割点分成左右子树left,right，建立左右节点left_node,right_node\n",
    "        \n",
    "        \n",
    "        # 基于上述遍历找到了最佳特征和最佳切分点，在当前节点的属性中记录\n",
    "        node.feature_index = best_feature_i\n",
    "        node.feature_best_value = best_split\n",
    "\n",
    "        # 最佳特征\n",
    "        x_best = X[:, best_feature_i]\n",
    "        # < 最佳切分点的样本和缺失样本会被同时划分到左子节点\n",
    "        nan_index = np.isnan(X[:, best_feature_i])\n",
    "        left_index = nan_index + (x_best < best_split)\n",
    "        left_x = X[left_index]\n",
    "        left_y = y[left_index]\n",
    "        left_weight = weight[left_index]\n",
    "        # 缺失值的权重处理:加权（有效左子树节点数/有效总节点数）\n",
    "        nan_left_weight = left_weight[np.isnan(left_x[:, best_feature_i])]\n",
    "        nan_left_weight *= np.sum(weight[x_best < best_split]) / np.sum(weight[~nan_index])\n",
    "        # 建立左节点left_node\n",
    "        node.left_child_node = Node()\n",
    "        # 递归建立左子树\n",
    "        self.__build_tree(left_x, left_y, node.left_child_node, left_weight)\n",
    "\n",
    "        # (缺失样本也会被划分到右侧子节点),\n",
    "        # >=最佳切分点的样本和缺失样本会被同时划分到左子节点\n",
    "        right_index = nan_index + (x_best >= best_split)\n",
    "        right_x = X[right_index]\n",
    "        right_y = y[right_index]\n",
    "        right_weight = weight[right_index]\n",
    "        # 缺失值的权重处理:加权（有效右子树节点数/有效总节点数）\n",
    "        nan_right_weight = right_weight[np.isnan(right_x[:, best_feature_i])]\n",
    "        nan_right_weight *= np.sum(weight[x_best>=best_split])/np.sum(weight[~nan_index])\n",
    "        # 建立右节点right_node\n",
    "        node.right_child_node = Node()\n",
    "        # 递归建立右子树\n",
    "        self.__build_tree(right_x, right_y, node.right_child_node, right_weight)\n",
    "        \n",
    "    def predict(self, X):\n",
    "        \"\"\"\n",
    "        基于多数原则进行预测：X的每一个样本通过决策树搜索找到样本属于各个分类的概率分布，\n",
    "        再根据多数原则选出概率最大的那个\n",
    "        :param X:待预测对应类别的样本\n",
    "        \n",
    "        \"\"\"\n",
    "        # X的每一个样本通过决策树搜索找到样本属于各个分类的概率分布\n",
    "        res = self.predict_prob(X)\n",
    "        pred = []\n",
    "        # 遍历每一行（每一个样本的各个分类概率分布），拿到每一行数据最大概率对应的类别(多数原则)\n",
    "        for i in range(len(res)):\n",
    "            # 多数原则取出概率最大的那个\n",
    "            p = max(res[i], key = lambda k : res[i][k])\n",
    "            pred.append(p)\n",
    "        return pred\n",
    "    \n",
    "    def predict_prob(self, X):\n",
    "        \"\"\"\n",
    "        将每一个样本都在决策树中进行遍历搜索，直到叶节点找到该样本属于各个类的概率\n",
    "        :param X: 待预测对应类别的样本,∈（m,n）\n",
    "        \n",
    "        \"\"\"\n",
    "        n_sample = X.shape[0]\n",
    "        results = []\n",
    "        # 遍历每一行(每一个样本)，拿到每一个样本属于各个类的概率\n",
    "        for i in range(n_sample):\n",
    "            # 从根节点开始遍历整棵树直到叶节点确认类别\n",
    "            res = self.__search_node(X[i], self.root_node) \n",
    "            result.append(res)\n",
    "        return results\n",
    "    \n",
    "    def __search_node(self, x, node):\n",
    "        \"\"\"\n",
    "        遍历决策树直到叶子节点确定分类的概率分布\n",
    "        :param x: 待预测对应类别的单个样本\n",
    "        \n",
    "        \"\"\"\n",
    "        if node.left_child_node is not None or node.right_child_node is not None:\n",
    "            if x[node.feature_index] >= node.feature_best_value:\n",
    "                return self.__search_node(x, node.right_child_node)\n",
    "            else:\n",
    "                return self.__search_node(x, node.left_child_node)\n",
    "            \n",
    "        else:# 到叶子节点拿出叶子节点中的概率分布（不同分类对应的权重）\n",
    "            result = {i: node.class_prob.get(i,0) for i in self.root_node.class_prob.keys()}\n",
    "            return result\n",
    "        \n",
    "            "
   ]
  },
  {
   "cell_type": "code",
   "execution_count": null,
   "id": "9e4fed77",
   "metadata": {},
   "outputs": [],
   "source": []
  },
  {
   "cell_type": "code",
   "execution_count": null,
   "id": "f39ce906",
   "metadata": {
    "ExecuteTime": {
     "end_time": "2022-08-11T12:16:24.826572Z",
     "start_time": "2022-08-11T12:16:24.826572Z"
    }
   },
   "outputs": [],
   "source": [
    "# 取切分点\n",
    "a = np.array([1,2,3,3,3])\n",
    "(a[:-1] + a[1:])/2"
   ]
  },
  {
   "cell_type": "code",
   "execution_count": null,
   "id": "cf3cef4d",
   "metadata": {
    "ExecuteTime": {
     "end_time": "2022-08-11T12:16:24.828571Z",
     "start_time": "2022-08-11T12:16:24.828571Z"
    }
   },
   "outputs": [],
   "source": [
    "a = np.array([0,1])\n",
    "(a[:-1] + a[1:])/2"
   ]
  },
  {
   "cell_type": "code",
   "execution_count": null,
   "id": "82f45355",
   "metadata": {
    "ExecuteTime": {
     "end_time": "2022-08-11T12:16:24.829571Z",
     "start_time": "2022-08-11T12:16:24.829571Z"
    }
   },
   "outputs": [],
   "source": [
    "a = np.array([1,1,2,3,3,4])\n",
    "weight = np.array([0.1,0.1,0.2,0.4,0.1,0.1])\n",
    "class_probs = {k : np.sum(weight[a==k]) for k in np.unique(a)}\n",
    "class_probs"
   ]
  },
  {
   "cell_type": "code",
   "execution_count": null,
   "id": "a0b484d7",
   "metadata": {
    "ExecuteTime": {
     "end_time": "2022-08-11T12:16:24.830571Z",
     "start_time": "2022-08-11T12:16:24.830571Z"
    }
   },
   "outputs": [],
   "source": [
    "a = np.array([1,1,2,3,3,4])\n",
    "weight = np.array([0.1,0.1,0.2,0.4,0.1,0.1])\n",
    "weight[a==1]"
   ]
  },
  {
   "cell_type": "markdown",
   "id": "3d8fbb70",
   "metadata": {},
   "source": [
    "### cart分类树剪枝"
   ]
  },
  {
   "attachments": {
    "image.png": {
     "image/png": "[encoded data removed]"
    }
   },
   "cell_type": "markdown",
   "id": "c905d96c",
   "metadata": {},
   "source": [
    "#### 计算gini_index\n",
    "\n",
    "求给定样本集合的gini_index\n",
    "![image.png](attachment:image.png)"
   ]
  },
  {
   "cell_type": "code",
   "execution_count": null,
   "id": "e57956cd",
   "metadata": {
    "ExecuteTime": {
     "end_time": "2022-08-11T12:16:24.830571Z",
     "start_time": "2022-08-11T12:16:24.830571Z"
    }
   },
   "outputs": [],
   "source": [
    "def gini(y):\n",
    "    \"\"\"\n",
    "    计算当前节点的gini_index\n",
    "    :param y:当前节点的样本中对应的分类\n",
    "    \n",
    "    \"\"\"\n",
    "    p_k = np.array([np.sum([y==k])/len(y) for k in np.unique(y)])\n",
    "    gini_index = np.sum([p * (1-p) for p in p_k])\n",
    "    return gini_index"
   ]
  },
  {
   "cell_type": "code",
   "execution_count": null,
   "id": "285deddc",
   "metadata": {
    "ExecuteTime": {
     "end_time": "2022-08-11T12:16:24.831572Z",
     "start_time": "2022-08-11T12:16:24.831572Z"
    }
   },
   "outputs": [],
   "source": [
    "a = np.array([1,2,2,1])\n",
    "p = np.array([np.sum([a==k])/len(a) for k in np.unique(a)])\n",
    "np.sum([p_i * (1 - p_i) for p_i in p])\n"
   ]
  },
  {
   "cell_type": "code",
   "execution_count": null,
   "id": "2567e6bf",
   "metadata": {
    "ExecuteTime": {
     "end_time": "2022-08-11T12:16:24.832571Z",
     "start_time": "2022-08-11T12:16:24.832571Z"
    }
   },
   "outputs": [],
   "source": [
    "gini(a)"
   ]
  },
  {
   "attachments": {
    "image.png": {
     "image/png": "[encoded data removed]"
    }
   },
   "cell_type": "markdown",
   "id": "3d638403",
   "metadata": {},
   "source": [
    "### 计算条件gini_index\n",
    "\n",
    "**要考虑权重**\n",
    "在给定特征A=a的条件下，样本集合D的基尼指数Gini(D,a)\n",
    "-- 表示经A=a分割后集合D的不确定性。gini_index越大，不确定性越大\n",
    "\n",
    "D_v代表通过特征A的不同取值将样本集合D切分成的不同子集\n",
    "![image.png](attachment:image.png)"
   ]
  },
  {
   "cell_type": "code",
   "execution_count": null,
   "id": "4c7fc04c",
   "metadata": {
    "ExecuteTime": {
     "end_time": "2022-08-11T12:16:24.833571Z",
     "start_time": "2022-08-11T12:16:24.833571Z"
    }
   },
   "outputs": [],
   "source": [
    "def cond_gini(x_feature_i, y):\n",
    "    \"\"\"\n",
    "    计算条件gini_index:G(D,A_i)\n",
    "    计算的是以A_i=a为切分点时的二分gini，所以x_feature_i的取值只有0/1\n",
    "    :param x_feature_i:给定的样本集合中每个样本对应的特征i\n",
    "    :param y:待切分的样本集合\n",
    "    \n",
    "    \"\"\"\n",
    "    # 获取特征i所有可能的取值\n",
    "    feature_values = np.unique(x_feature_i)\n",
    "    # 计算基于所有可能的取值将样本进行二分的情况\n",
    "    for value in feature_values:\n",
    "        # 找出特征i取value时的样本索引\n",
    "        indices = np.where(feature_values==a)\n",
    "        # 基于样本索引找到对应的y\n",
    "        y_new = y[indices]\n",
    "        \n",
    "        \n",
    "    "
   ]
  },
  {
   "cell_type": "code",
   "execution_count": null,
   "id": "33fd9375",
   "metadata": {
    "ExecuteTime": {
     "end_time": "2022-08-11T12:16:24.834570Z",
     "start_time": "2022-08-11T12:16:24.834570Z"
    }
   },
   "outputs": [],
   "source": [
    "a = np.array([1,1,1,2,7,8,2])\n",
    "v = np.unique(a)\n",
    "np.where(a==1)"
   ]
  },
  {
   "cell_type": "code",
   "execution_count": null,
   "id": "07050d38",
   "metadata": {
    "ExecuteTime": {
     "end_time": "2022-08-11T12:16:24.835570Z",
     "start_time": "2022-08-11T12:16:24.835570Z"
    }
   },
   "outputs": [],
   "source": [
    "x = np.array([[1,0,0,1],\n",
    "              [1,0,0,2],\n",
    "              [1,1,0,2],\n",
    "              [1,1,1,1],\n",
    "              [1,0,0,1],\n",
    "              [2,0,0,1],\n",
    "              [2,0,0,2],\n",
    "              [2,1,1,2],\n",
    "              [2,0,1,3],\n",
    "              [2,0,1,3],\n",
    "              [3,0,1,3],\n",
    "              [3,0,1,2],\n",
    "              [3,1,0,2],\n",
    "              [3,1,0,3],\n",
    "              [3,0,0,1]])\n",
    "y = np.array([0,0,1,1,0,0,0,1,1,1,1,1,1,1,0])"
   ]
  },
  {
   "cell_type": "markdown",
   "id": "4d1bce06",
   "metadata": {},
   "source": [
    "当前节点：\n",
    "1、寻找最佳特征\n",
    "2、寻找最佳特征的最佳分割点\n",
    "\n",
    "先找到所有特征的每个特征的最佳分割点作为每个特征的代表，再从中选出最佳代表即最佳特征"
   ]
  },
  {
   "cell_type": "code",
   "execution_count": null,
   "id": "4f9e7a4f",
   "metadata": {
    "ExecuteTime": {
     "end_time": "2022-08-11T12:16:24.836572Z",
     "start_time": "2022-08-11T12:16:24.836572Z"
    }
   },
   "outputs": [],
   "source": [
    "def get_best_split(X,y):\n",
    "    \"\"\"\n",
    "    找当前节点node的最佳特征及其最佳切分点\n",
    "    :param X: 样本∈（m,n）\n",
    "    :param y: 标签∈（m,1）\n",
    "    :param node_indices 当前节点所包含的样本X对应的索引\n",
    "    :return best_feature, best_split:返回最佳特征及其对应的最佳切分点\n",
    "    \n",
    "    \"\"\"\n",
    "    best_feature = -1\n",
    "    best_split = None\n",
    "    max_gini_gain = 0\n",
    "    n_features = X.shape[1]\n",
    "    # 依次遍历X的所有特征，找到所有特征的最佳切分点作为其代表\n",
    "    for i in range(n_features):\n",
    "        # 样本X的第i列就对应第i个特征X[:,i]\n",
    "        # 用每个特征的最佳分割点计算的gini_gain作为每个特征的代表\n",
    "        cur_gini_gain, cur_split = compute_gini_gain(X,y,i)\n",
    "        # 选择gini_gian最大（gini_index最小）的作为最佳特征\n",
    "        best_feature,best_split = i,cur_split if cur_gini_gain >= max_gini_gain\n",
    "    return best_feature, best_split"
   ]
  },
  {
   "cell_type": "markdown",
   "id": "7ec1e2eb",
   "metadata": {},
   "source": [
    "对于当前节点集合（X，y）计算特征i的基尼增益:\n",
    "\n",
    "确定特征i的所有可能取值，根据特征i是连续型/离散型特征对这些可能取值进行处理从而得到特征i的所有候选分割点；\n",
    "\n",
    "尝试依次使用候选分割点对当前集合（X，y）进行二分分割，并计算对应的gini_gain\n",
    "找到具有最大的gini_gain的分割点作为特征i的最佳分割点，用最佳分割点的gini_index作为特征i的gini_gain\n",
    "\n",
    "由于二分分割时需要x来分成left和right，计算gini需要left_y和right_y,所有分割时直接返回indices表明分割的部分或者先将X,y合并再参与分割\n",
    "所以计算特征i的基尼增益需要用到的参数\n",
    "    \n",
    "    :param X: 样本∈（m,n）——在对集合进行二分分割时需要使用特征值\n",
    "    :param y: 标签∈（m,1）——计算gini_gain时需要\n",
    "    :param feature_i: 当前计算的第i个特征，X[:,i]即对应的特征值\n",
    "    :return 当前特征的最佳切分点及其对应的gini_gain\n",
    "    \n",
    "**离散型/连续型所取的候选分割点和分割时使用的方法均不同**"
   ]
  },
  {
   "cell_type": "code",
   "execution_count": null,
   "id": "5d8648b6",
   "metadata": {
    "ExecuteTime": {
     "end_time": "2022-08-11T12:16:24.836572Z",
     "start_time": "2022-08-11T12:16:24.836572Z"
    }
   },
   "outputs": [],
   "source": [
    "# 对于当前节点集合（X，y）-node_indices计算特征i的基尼增益\n",
    "\"\"\"\n",
    ":param sample:当前集合的X和y\n",
    ":param feature_i: 当前计算的第i个特征，X[:,i]即对应的特征值\n",
    ":return 当前特征的最佳切分点及其对应的gini_gain\n",
    "\n",
    "\"\"\"\n",
    "\n",
    "# 1、确定特征i的所有可能取值\n",
    "feature_values = np.unique(sample[:, feature_i]).reshape(-1,1)# 已排序的\n",
    "best_gini_gain = None\n",
    "best_split_point = None\n",
    "# 根据特征i是连续型/离散型特征对这些可能取值进行处理从而得到特征i的所有候选分割点；    \n",
    "if np.issubdtype(feature_values.dtype, np.integer) or np.issubdtype(feature_values[0], np.floating):\n",
    "    # 特征是连续型特征则使用二分法找到所有的切分点\n",
    "    split_points = (feature_values[1:] + feature_values[:-1]) / 2\n",
    "    # 依次使用候选分割点对当前集合（X，y）进行二分分割\n",
    "    for point in split_points:\n",
    "        # 基于分割点会将当前集合（X，y）划分成左右分支，记录对应的索引方便之后取特征和y\n",
    "        left_sample = []\n",
    "        right_sample = []\n",
    "        for single_sample in sample:# 处理每个样本\n",
    "            if single_sample[feature_i] <= point:# 小于切分点的放在左边\n",
    "                left_sample.append(single_sample)\n",
    "            else:\n",
    "                right_sample.append(single_sample)  \n",
    "else:# 离散型特征直接使用特征的各个取值作为切分点\n",
    "    split_points = feature_values\n",
    "    # 依次使用候选分割点对当前集合（X，y）进行二分分割\n",
    "    for point in split_points:\n",
    "        left_sample = []\n",
    "        right_sample = []\n",
    "        for single_sample in sample:# 处理每个样本\n",
    "            # 基于分割点会将当前集合（X，y）划分成左右分支\n",
    "            if single_sample[feature_i] == point:\n",
    "                left_sample.append(single_sample)\n",
    "            else:\n",
    "                right_sample.append(single_sample)\n",
    "        # 分好左右分支后计算gini_gain\n",
    "        w_left = len(left_X) / len(X)\n",
    "        w_right = len(right_X) / len(X)\n",
    "        left_y = y[left_indices]\n",
    "        right_y = y[right_indices]\n",
    "        cur_gini_index = w_left * gini(left_y) + w_right * gini(right_y)\n",
    "        cur_gini_gain = gini(y) - cur_gini_index\n",
    "\n",
    "# 找到具有最大的gini_gain的分割点作为特征i的最佳分割点\n",
    "best_gini_gain, best_split_point = (cur_gini_gain,point )if cur_gini_gain >= best_gini_gain else best_gini_gain            \n",
    "    "
   ]
  },
  {
   "cell_type": "markdown",
   "id": "8571b19b",
   "metadata": {},
   "source": [
    "将上述代码模块化"
   ]
  },
  {
   "cell_type": "markdown",
   "id": "e1d72794",
   "metadata": {},
   "source": [
    "使用sample的版本"
   ]
  },
  {
   "cell_type": "code",
   "execution_count": null,
   "id": "227f8026",
   "metadata": {
    "ExecuteTime": {
     "end_time": "2022-08-11T12:16:24.837571Z",
     "start_time": "2022-08-11T12:16:24.837571Z"
    }
   },
   "outputs": [],
   "source": [
    "# 离散型/连续型所取的候选分割点和分割时使用的方法均不同\n",
    "# 故可以先定义二叉分割函数\n",
    "def feature_split(sample,feature_i, split_point, split_func):\n",
    "    \n",
    "    \"\"\"\n",
    "    给定分割点split_point,根据特征是离散型/连续型对当前集合X进行二分分割\n",
    "    :param sample: 当前待分割集合\n",
    "    :param feature_i : 当前考虑的特征的索引\n",
    "    :param split_point:给定的一个候选分割点\n",
    "\n",
    "    \"\"\" \n",
    "    ## 对当前集合X进行二分分割\n",
    "    left_sample = np.array([single_sample for single_sample in sample if split_func(single_sample, split_point)])\n",
    "    right_sample = np.array([single_sample for single_sample in sample if not split_func(single_sample, split_point)])\n",
    "    return left_sample, right_sample"
   ]
  },
  {
   "cell_type": "code",
   "execution_count": null,
   "id": "2ae1a7c2",
   "metadata": {
    "ExecuteTime": {
     "end_time": "2022-08-11T12:16:24.869238Z",
     "start_time": "2022-08-11T12:16:24.869238Z"
    }
   },
   "outputs": [],
   "source": [
    "def create_split_points(X, feature_i):\n",
    "    \n",
    "    \"\"\"\n",
    "    根据特征i是连续型/离散型特征得到特征i的所有候选分割点,并返回对应的分割函数\n",
    "    :param X: 当前集合的样本\n",
    "    :param feature_i : 给定的特征索引\n",
    "    :return 特征i的所有候选分割点、分割函数\n",
    "    \n",
    "    \"\"\"\n",
    "    \n",
    "    # 1、确定特征i的所有可能取值\n",
    "    feature_values = np.unique(X[:, feature_i]).reshape(-1,1)# 已排序的 \n",
    "    \n",
    "    # 2、根据特征i是连续型/离散型特征对这些可能取值进行处理从而得到特征i的所有候选分割点；    \n",
    "    split_points = None\n",
    "    split_func = None\n",
    "   \n",
    "    if np.issubdtype(feature_values.dtype, np.integer) or np.issubdtype(feature_values.dtype, np.floating):\n",
    "        split_points = (feature_values[1:] + feature_values[:-1]) / 2 # 特征是连续型特征则使用二分法找到所有的切分点\n",
    "        split_func = lambda (x,split_point) : x[feature_i] >= split_point\n",
    "        \n",
    "    else:\n",
    "        split_points = feature_values# 离散型特征直接使用特征的各个取值作为切分点\n",
    "        split_func = lambda (x,split_point) : x[feature_i] == split_point\n",
    "    return split_points, split_func"
   ]
  },
  {
   "cell_type": "code",
   "execution_count": null,
   "id": "6450108b",
   "metadata": {
    "ExecuteTime": {
     "end_time": "2022-08-11T12:16:24.870235Z",
     "start_time": "2022-08-11T12:16:24.870235Z"
    }
   },
   "outputs": [],
   "source": [
    "# 测试\n",
    "a = np.array([['青年','否','否','一般'],\n",
    "               ['青年','否','否','好'],\n",
    "               ['青年','是','否','好'],\n",
    "               ['青年','是','是','一般'],\n",
    "               ['青年','否','否','一般'],\n",
    "               ['中年','否','否','一般'],\n",
    "               ['中年','否','否','好'],\n",
    "               ['中年','是','是','好'],\n",
    "               ['中年','否','是','非常好'],\n",
    "               ['中年','否','是','非常好'],\n",
    "               ['老年','否','是','非常好'],\n",
    "               ['老年','否','是','好'],\n",
    "               ['老年','是','否','好'],\n",
    "               ['老年','是','否','非常好'],\n",
    "               ['老年','否','否','一般'],])\n",
    "create_split_points(a, 0)"
   ]
  },
  {
   "cell_type": "code",
   "execution_count": null,
   "id": "d1ce887e",
   "metadata": {
    "ExecuteTime": {
     "end_time": "2022-08-11T12:16:24.871234Z",
     "start_time": "2022-08-11T12:16:24.871234Z"
    }
   },
   "outputs": [],
   "source": [
    "a = np.array([[1,0,0,1],\n",
    "              [1,0,0,2],\n",
    "              [1,1,0,2],\n",
    "              [1,1,1,1],\n",
    "              [1,0,0,1],\n",
    "              [2,0,0,1],\n",
    "              [2,0,0,2],\n",
    "              [2,1,1,2],\n",
    "              [2,0,1,3],\n",
    "              [2,0,1,3],\n",
    "              [3,0,1,3],\n",
    "              [3,0,1,2],\n",
    "              [3,1,0,2],\n",
    "              [3,1,0,3],\n",
    "              [3,0,0,1]], dtype=object)\n",
    "create_split_points(a, 0)"
   ]
  },
  {
   "cell_type": "code",
   "execution_count": null,
   "id": "38a613f6",
   "metadata": {
    "ExecuteTime": {
     "end_time": "2022-08-11T12:16:24.872233Z",
     "start_time": "2022-08-11T12:16:24.872233Z"
    },
    "scrolled": true
   },
   "outputs": [],
   "source": [
    "a = np.arange(24).reshape(4,6)\n",
    "create_split_points(a,0)"
   ]
  },
  {
   "cell_type": "code",
   "execution_count": 16,
   "id": "69eacd3a",
   "metadata": {
    "ExecuteTime": {
     "end_time": "2022-08-11T12:18:42.712859Z",
     "start_time": "2022-08-11T12:18:42.694499Z"
    }
   },
   "outputs": [],
   "source": [
    "def get_best_split_point(X,y,feature_i):\n",
    "    # 当前特征i的所有候选分割点及分割点对应的分割函数\n",
    "    split_points, split_func = create_split_points(X, feature_i)\n",
    "    # 合并X，y方便之后分割——x可能由于离散数据导致合并后y的dtype改变,需要转换类型\n",
    "    # ——使用indices更好\n",
    "    sample = np.concatenate((X,y), axis=1)\n",
    "    # 初始化\n",
    "    best_gini = -1 # 存储本特征的最佳切分点对应的gini_gain\n",
    "    best_sets = None  # 存储最佳切分点切分的左右分支\n",
    "    # 依次使用候选分割点对当前集合（X，y）进行二分分割\n",
    "    for point in split_points:\n",
    "        # 使用每个候选分割点进行二分分割\n",
    "        ## 对当前集合X进行二分分割\n",
    "        left_sample = np.array([single_sample for single_sample in sample if split_func(single_sample, point)])\n",
    "        right_sample = np.array([single_sample for single_sample in sample if not split_func(single_sample,point)])\n",
    "        # 分好左右分支后计算gini_gain\n",
    "        w_left,w_right = len(left_sample) / len(sample), len(right_sample)/len(sample)\n",
    "        left_y = left_sample[:,-1].astype(np.float32)\n",
    "        right_y = right_sample[:,-1].astype(np.float32)\n",
    "        cur_gini_gain = gini(y) - (w_left * gini(left_y) + w_right * gini(right_y))\n",
    "        # 选择最佳的split point\n",
    "        if cur_gini_gain >= best_gini:\n",
    "            best_gini_gain = cur_gini_gain\n",
    "            best_sets = {\n",
    "                \"left_X\": left_sample[:, :-1],\n",
    "                \"left_y\": left_y,\n",
    "                \"right_X\": right_sample[:, :-1],\n",
    "                \"right_y\": right_y\n",
    "            }\n",
    "    return best_gini_gain, best_sets\n"
   ]
  },
  {
   "cell_type": "code",
   "execution_count": null,
   "id": "2ff4ef68",
   "metadata": {
    "ExecuteTime": {
     "end_time": "2022-08-11T12:16:24.874234Z",
     "start_time": "2022-08-11T12:16:24.874234Z"
    }
   },
   "outputs": [],
   "source": [
    "a = np.array([['青年','否','否','一般'],\n",
    "               ['青年','否','否','好'],\n",
    "               ['青年','是','否','好'],\n",
    "               ['青年','是','是','一般'],\n",
    "               ['青年','否','否','一般'],\n",
    "               ['中年','否','否','一般'],\n",
    "               ['中年','否','否','好'],\n",
    "               ['中年','是','是','好'],\n",
    "               ['中年','否','是','非常好'],\n",
    "               ['中年','否','是','非常好'],\n",
    "               ['老年','否','是','非常好'],\n",
    "               ['老年','否','是','好'],\n",
    "               ['老年','是','否','好'],\n",
    "               ['老年','是','否','非常好'],\n",
    "               ['老年','否','否','一般'],], dtype=object)\n",
    "b = np.array([0,0,1,1,0,0,0,1,1,1,1,1,1,1,0]).reshape(-1,1)\n",
    "get_best_split_point(a, b,3)"
   ]
  },
  {
   "cell_type": "code",
   "execution_count": 2,
   "id": "3e4a42f2",
   "metadata": {
    "ExecuteTime": {
     "end_time": "2022-08-11T12:16:24.902594Z",
     "start_time": "2022-08-11T12:16:24.879234Z"
    }
   },
   "outputs": [
    {
     "ename": "NameError",
     "evalue": "name 'np' is not defined",
     "output_type": "error",
     "traceback": [
      "\u001b[1;31m---------------------------------------------------------------------------\u001b[0m",
      "\u001b[1;31mNameError\u001b[0m                                 Traceback (most recent call last)",
      "Input \u001b[1;32mIn [2]\u001b[0m, in \u001b[0;36m<cell line: 2>\u001b[1;34m()\u001b[0m\n\u001b[0;32m      1\u001b[0m \u001b[38;5;66;03m# 测试\u001b[39;00m\n\u001b[1;32m----> 2\u001b[0m a \u001b[38;5;241m=\u001b[39m \u001b[43mnp\u001b[49m\u001b[38;5;241m.\u001b[39marray([[\u001b[38;5;241m1\u001b[39m,\u001b[38;5;241m0\u001b[39m,\u001b[38;5;241m0\u001b[39m,\u001b[38;5;241m1\u001b[39m],\n\u001b[0;32m      3\u001b[0m               [\u001b[38;5;241m1\u001b[39m,\u001b[38;5;241m0\u001b[39m,\u001b[38;5;241m0\u001b[39m,\u001b[38;5;241m2\u001b[39m],\n\u001b[0;32m      4\u001b[0m               [\u001b[38;5;241m1\u001b[39m,\u001b[38;5;241m1\u001b[39m,\u001b[38;5;241m0\u001b[39m,\u001b[38;5;241m2\u001b[39m],\n\u001b[0;32m      5\u001b[0m               [\u001b[38;5;241m1\u001b[39m,\u001b[38;5;241m1\u001b[39m,\u001b[38;5;241m1\u001b[39m,\u001b[38;5;241m1\u001b[39m],\n\u001b[0;32m      6\u001b[0m               [\u001b[38;5;241m1\u001b[39m,\u001b[38;5;241m0\u001b[39m,\u001b[38;5;241m0\u001b[39m,\u001b[38;5;241m1\u001b[39m],\n\u001b[0;32m      7\u001b[0m               [\u001b[38;5;241m2\u001b[39m,\u001b[38;5;241m0\u001b[39m,\u001b[38;5;241m0\u001b[39m,\u001b[38;5;241m1\u001b[39m],\n\u001b[0;32m      8\u001b[0m               [\u001b[38;5;241m2\u001b[39m,\u001b[38;5;241m0\u001b[39m,\u001b[38;5;241m0\u001b[39m,\u001b[38;5;241m2\u001b[39m],\n\u001b[0;32m      9\u001b[0m               [\u001b[38;5;241m2\u001b[39m,\u001b[38;5;241m1\u001b[39m,\u001b[38;5;241m1\u001b[39m,\u001b[38;5;241m2\u001b[39m],\n\u001b[0;32m     10\u001b[0m               [\u001b[38;5;241m2\u001b[39m,\u001b[38;5;241m0\u001b[39m,\u001b[38;5;241m1\u001b[39m,\u001b[38;5;241m3\u001b[39m],\n\u001b[0;32m     11\u001b[0m               [\u001b[38;5;241m2\u001b[39m,\u001b[38;5;241m0\u001b[39m,\u001b[38;5;241m1\u001b[39m,\u001b[38;5;241m3\u001b[39m],\n\u001b[0;32m     12\u001b[0m               [\u001b[38;5;241m3\u001b[39m,\u001b[38;5;241m0\u001b[39m,\u001b[38;5;241m1\u001b[39m,\u001b[38;5;241m3\u001b[39m],\n\u001b[0;32m     13\u001b[0m               [\u001b[38;5;241m3\u001b[39m,\u001b[38;5;241m0\u001b[39m,\u001b[38;5;241m1\u001b[39m,\u001b[38;5;241m2\u001b[39m],\n\u001b[0;32m     14\u001b[0m               [\u001b[38;5;241m3\u001b[39m,\u001b[38;5;241m1\u001b[39m,\u001b[38;5;241m0\u001b[39m,\u001b[38;5;241m2\u001b[39m],\n\u001b[0;32m     15\u001b[0m               [\u001b[38;5;241m3\u001b[39m,\u001b[38;5;241m1\u001b[39m,\u001b[38;5;241m0\u001b[39m,\u001b[38;5;241m3\u001b[39m],\n\u001b[0;32m     16\u001b[0m               [\u001b[38;5;241m3\u001b[39m,\u001b[38;5;241m0\u001b[39m,\u001b[38;5;241m0\u001b[39m,\u001b[38;5;241m1\u001b[39m]], dtype\u001b[38;5;241m=\u001b[39m\u001b[38;5;28mobject\u001b[39m)\n\u001b[0;32m     17\u001b[0m b \u001b[38;5;241m=\u001b[39m np\u001b[38;5;241m.\u001b[39marray([\u001b[38;5;241m0\u001b[39m,\u001b[38;5;241m0\u001b[39m,\u001b[38;5;241m1\u001b[39m,\u001b[38;5;241m1\u001b[39m,\u001b[38;5;241m0\u001b[39m,\u001b[38;5;241m0\u001b[39m,\u001b[38;5;241m0\u001b[39m,\u001b[38;5;241m1\u001b[39m,\u001b[38;5;241m1\u001b[39m,\u001b[38;5;241m1\u001b[39m,\u001b[38;5;241m1\u001b[39m,\u001b[38;5;241m1\u001b[39m,\u001b[38;5;241m1\u001b[39m,\u001b[38;5;241m1\u001b[39m,\u001b[38;5;241m0\u001b[39m])\u001b[38;5;241m.\u001b[39mreshape(\u001b[38;5;241m-\u001b[39m\u001b[38;5;241m1\u001b[39m,\u001b[38;5;241m1\u001b[39m)\n\u001b[0;32m     18\u001b[0m get_best_split_point(a, b,\u001b[38;5;241m0\u001b[39m)\n",
      "\u001b[1;31mNameError\u001b[0m: name 'np' is not defined"
     ]
    }
   ],
   "source": [
    "# 测试\n",
    "a = np.array([[1,0,0,1],\n",
    "              [1,0,0,2],\n",
    "              [1,1,0,2],\n",
    "              [1,1,1,1],\n",
    "              [1,0,0,1],\n",
    "              [2,0,0,1],\n",
    "              [2,0,0,2],\n",
    "              [2,1,1,2],\n",
    "              [2,0,1,3],\n",
    "              [2,0,1,3],\n",
    "              [3,0,1,3],\n",
    "              [3,0,1,2],\n",
    "              [3,1,0,2],\n",
    "              [3,1,0,3],\n",
    "              [3,0,0,1]], dtype=object)\n",
    "b = np.array([0,0,1,1,0,0,0,1,1,1,1,1,1,1,0]).reshape(-1,1)\n",
    "get_best_split_point(a, b,0)"
   ]
  },
  {
   "cell_type": "markdown",
   "id": "ee5403a1",
   "metadata": {},
   "source": [
    "上述代码运行不对，使用node_indices的版本"
   ]
  },
  {
   "cell_type": "code",
   "execution_count": null,
   "id": "f9da52ee",
   "metadata": {
    "ExecuteTime": {
     "end_time": "2022-08-11T12:16:24.904595Z",
     "start_time": "2022-08-11T12:16:24.904595Z"
    }
   },
   "outputs": [],
   "source": [
    "def create_split_points(X, feature_i):\n",
    "    \n",
    "    \"\"\"\n",
    "    根据特征i是连续型/离散型特征得到特征i的所有候选分割点,并返回对应的分割函数\n",
    "    :param X: 当前集合的样本\n",
    "    :param feature_i : 给定的特征索引\n",
    "    :return 特征i的所有候选分割点、分割函数\n",
    "    \n",
    "    \"\"\"\n",
    "    \n",
    "    # 1、确定特征i的所有可能取值\n",
    "    feature_values = np.unique(X[:, feature_i])# 已排序的 \n",
    "    \n",
    "    # 2、根据特征i是连续型/离散型特征对这些可能取值进行处理从而得到特征i的所有候选分割点；    \n",
    "    split_points = None\n",
    "    split_func = None\n",
    "   \n",
    "    if np.issubdtype(feature_values.dtype, np.integer) or np.issubdtype(feature_values.dtype, np.floating):\n",
    "        split_points = (feature_values[1:] + feature_values[:-1]) / 2 # 特征是连续型特征则使用二分法找到所有的切分点\n",
    "        split_func = lambda x,split_point : x[feature_i] >= split_point\n",
    "        \n",
    "    else:\n",
    "        split_points = feature_values# 离散型特征直接使用特征的各个取值作为切分点\n",
    "        split_func = lambda x,split_point : x[feature_i] == split_point\n",
    "    return split_points, split_func"
   ]
  },
  {
   "cell_type": "code",
   "execution_count": null,
   "id": "2ea1f517",
   "metadata": {
    "ExecuteTime": {
     "end_time": "2022-08-11T12:16:24.905593Z",
     "start_time": "2022-08-11T12:16:24.905593Z"
    }
   },
   "outputs": [],
   "source": [
    "a = np.array([1,2,3])\n",
    "a = np.unique(a).reshape(-1,1)\n",
    "for e in a:\n",
    "    print(e == 1)\n",
    "    print(type(e))"
   ]
  },
  {
   "cell_type": "code",
   "execution_count": null,
   "id": "5513745f",
   "metadata": {
    "ExecuteTime": {
     "end_time": "2022-08-11T12:16:24.906592Z",
     "start_time": "2022-08-11T12:16:24.906592Z"
    }
   },
   "outputs": [],
   "source": [
    "def get_best_split_point(X,y,node_indices, feature_i):\n",
    "    \n",
    "    \"\"\"\n",
    "    对于当前节点集合（X，y）-node_indices计算特征i的基尼增益\n",
    "    :param X: 所有样本\n",
    "    :param y: 所有标签\n",
    "    :param node_indices : 当前样本集合对应的索引\n",
    "    :param : 给定的特征索引\n",
    "    :return : 返回特征i的基尼增益以及分割的左右子树\n",
    "    \n",
    "    \"\"\"\n",
    "    # 当前特征i的所有候选分割点\n",
    "    split_points, split_func = create_split_points(X[node_indices], feature_i)\n",
    "    # 初始化\n",
    "    best_gini_gain = -1# 存储本特征的最佳切分点对应的gini_gain\n",
    "    best_sets = None# 存储最佳切分点切分的左右分支\n",
    "    # 依次使用候选分割点对当前集合（X，y）进行二分分割\n",
    "    for point in split_points:\n",
    "        # 使用每个候选分割点进行二分分割\n",
    "        left_indices = np.array([i for i in node_indices if split_func(X[i],point)])\n",
    "        right_indices = np.array([ i for i in node_indices if not split_func(X[i],point)])\n",
    "        # 分好左右分支后计算gini_gain\n",
    "        w_left, w_right = len(left_indices) / len(node_indices), len(right_indices) / len(node_indices)\n",
    "        cur_gini_gain = gini(y[node_indices]) - (w_left * gini(y[left_indices]) + w_right * gini(y[right_indices]))\n",
    "        # 选择最佳的split point\n",
    "        if cur_gini_gain >= best_gini_gain:\n",
    "            best_gini_gain = cur_gini_gain\n",
    "            best_sets = {\n",
    "                \"best_split_point\":point,\n",
    "                \"left_indices\": left_indices,\n",
    "                \"right_indices\": right_indices,\n",
    "            }\n",
    "    return best_gini_gain, best_sets"
   ]
  },
  {
   "cell_type": "code",
   "execution_count": null,
   "id": "61a2d847",
   "metadata": {
    "ExecuteTime": {
     "end_time": "2022-08-11T12:16:24.907592Z",
     "start_time": "2022-08-11T12:16:24.907592Z"
    }
   },
   "outputs": [],
   "source": [
    "def gini(y):\n",
    "    \"\"\"\n",
    "    计算当前节点的gini_index\n",
    "    :param y:当前节点的样本中对应的分类\n",
    "    \n",
    "    \"\"\"\n",
    "    p_k = np.array([np.sum([y==k])/len(y) for k in np.unique(y)])\n",
    "    gini_index = np.sum([p * (1-p) for p in p_k])\n",
    "    return gini_index\n",
    "    "
   ]
  },
  {
   "cell_type": "code",
   "execution_count": null,
   "id": "204347d5",
   "metadata": {
    "ExecuteTime": {
     "end_time": "2022-08-11T12:16:24.908592Z",
     "start_time": "2022-08-11T12:16:24.908592Z"
    }
   },
   "outputs": [],
   "source": [
    "b = np.array([0,0,1,1,0,0,0,1,1,1,1,1,1,1,0]).reshape(-1,1)\n",
    "gini(b)"
   ]
  },
  {
   "cell_type": "code",
   "execution_count": null,
   "id": "fb504b1a",
   "metadata": {
    "ExecuteTime": {
     "end_time": "2022-08-11T12:16:24.909592Z",
     "start_time": "2022-08-11T12:16:24.909592Z"
    }
   },
   "outputs": [],
   "source": [
    "# 测试\n",
    "a = np.array([['青年','否','否','一般'],\n",
    "               ['青年','否','否','好'],\n",
    "               ['青年','是','否','好'],\n",
    "               ['青年','是','是','一般'],\n",
    "               ['青年','否','否','一般'],\n",
    "               ['中年','否','否','一般'],\n",
    "               ['中年','否','否','好'],\n",
    "               ['中年','是','是','好'],\n",
    "               ['中年','否','是','非常好'],\n",
    "               ['中年','否','是','非常好'],\n",
    "               ['老年','否','是','非常好'],\n",
    "               ['老年','否','是','好'],\n",
    "               ['老年','是','否','好'],\n",
    "               ['老年','是','否','非常好'],\n",
    "               ['老年','否','否','一般'],])\n",
    "b = np.array([0,0,1,1,0,0,0,1,1,1,1,1,1,1,0]).reshape(-1,1)\n",
    "node_indices = np.arange(15)\n",
    "get_best_split_point(a,b,node_indices,0)\n"
   ]
  },
  {
   "cell_type": "markdown",
   "id": "d428bf1a",
   "metadata": {},
   "source": [
    "有了上述寻找最佳切分点的模块后，就可以针对求所有特征的gini_gain了"
   ]
  },
  {
   "cell_type": "code",
   "execution_count": 11,
   "id": "a9dc7215",
   "metadata": {
    "ExecuteTime": {
     "end_time": "2022-08-11T12:18:15.450376Z",
     "start_time": "2022-08-11T12:18:15.439896Z"
    }
   },
   "outputs": [],
   "source": [
    "def get_best_split_feature(X,y,node_indices):\n",
    "    \"\"\"\n",
    "    对于当前节点集合（X，y）-node_indices,找到最佳特征：求所有特征的gini_gain\n",
    "    :param X: 所有样本\n",
    "    :param y: 所有标签\n",
    "    :param node_indices : 当前样本集合对应的索引\n",
    "    \n",
    "    \"\"\"\n",
    "    \n",
    "    # 获取样本数和特征数\n",
    "    n_samples, n_features = len(node_indices), X.shape[1]\n",
    " \n",
    "    best_gini_gain = -1\n",
    "    best_feature = None\n",
    "    best_sets = None\n",
    "    # 依次求所有特征的gini_gain\n",
    "    for feature_i in range(n_features):\n",
    "        # 特征在所有样本中取值唯一时无需找split_point和参与特征划分\n",
    "        if len(np.unique(X[node_indices][:,feature_i])) == 1:\n",
    "            continue\n",
    "        # 特征i的基尼增益以及分割的左右子树\n",
    "        cur_gini_gain,cur_branch_sets = get_best_split_point(X,y,node_indices, feature_i)\n",
    "        # 寻找最佳特征\n",
    "        if cur_gini_gain >= best_gini_gain:\n",
    "            best_gini_gain = cur_gini_gain\n",
    "            best_feature = feature_i\n",
    "            best_sets = cur_branch_sets\n",
    "            \n",
    "    # 找到了当前节点所用的最佳特征（也找到了该特征的最佳分割点）\n",
    "\n",
    "    return best_feature, best_sets  "
   ]
  },
  {
   "cell_type": "code",
   "execution_count": 17,
   "id": "925d4d3c",
   "metadata": {
    "ExecuteTime": {
     "end_time": "2022-08-11T12:18:48.505704Z",
     "start_time": "2022-08-11T12:18:48.455502Z"
    }
   },
   "outputs": [
    {
     "ename": "TypeError",
     "evalue": "get_best_split_point() takes 3 positional arguments but 4 were given",
     "output_type": "error",
     "traceback": [
      "\u001b[1;31m---------------------------------------------------------------------------\u001b[0m",
      "\u001b[1;31mTypeError\u001b[0m                                 Traceback (most recent call last)",
      "Input \u001b[1;32mIn [17]\u001b[0m, in \u001b[0;36m<cell line: 19>\u001b[1;34m()\u001b[0m\n\u001b[0;32m      3\u001b[0m a \u001b[38;5;241m=\u001b[39m np\u001b[38;5;241m.\u001b[39marray([[\u001b[38;5;241m1\u001b[39m,\u001b[38;5;241m0\u001b[39m,\u001b[38;5;241m0\u001b[39m,\u001b[38;5;241m1\u001b[39m],\n\u001b[0;32m      4\u001b[0m               [\u001b[38;5;241m1\u001b[39m,\u001b[38;5;241m0\u001b[39m,\u001b[38;5;241m0\u001b[39m,\u001b[38;5;241m2\u001b[39m],\n\u001b[0;32m      5\u001b[0m               [\u001b[38;5;241m1\u001b[39m,\u001b[38;5;241m1\u001b[39m,\u001b[38;5;241m0\u001b[39m,\u001b[38;5;241m2\u001b[39m],\n\u001b[1;32m   (...)\u001b[0m\n\u001b[0;32m     16\u001b[0m               [\u001b[38;5;241m3\u001b[39m,\u001b[38;5;241m1\u001b[39m,\u001b[38;5;241m0\u001b[39m,\u001b[38;5;241m3\u001b[39m],\n\u001b[0;32m     17\u001b[0m               [\u001b[38;5;241m3\u001b[39m,\u001b[38;5;241m0\u001b[39m,\u001b[38;5;241m0\u001b[39m,\u001b[38;5;241m1\u001b[39m]], dtype\u001b[38;5;241m=\u001b[39m\u001b[38;5;28mobject\u001b[39m)\n\u001b[0;32m     18\u001b[0m b \u001b[38;5;241m=\u001b[39m np\u001b[38;5;241m.\u001b[39marray([\u001b[38;5;241m0\u001b[39m,\u001b[38;5;241m0\u001b[39m,\u001b[38;5;241m1\u001b[39m,\u001b[38;5;241m1\u001b[39m,\u001b[38;5;241m0\u001b[39m,\u001b[38;5;241m0\u001b[39m,\u001b[38;5;241m0\u001b[39m,\u001b[38;5;241m1\u001b[39m,\u001b[38;5;241m1\u001b[39m,\u001b[38;5;241m1\u001b[39m,\u001b[38;5;241m1\u001b[39m,\u001b[38;5;241m1\u001b[39m,\u001b[38;5;241m1\u001b[39m,\u001b[38;5;241m1\u001b[39m,\u001b[38;5;241m0\u001b[39m])\u001b[38;5;241m.\u001b[39mreshape(\u001b[38;5;241m-\u001b[39m\u001b[38;5;241m1\u001b[39m,\u001b[38;5;241m1\u001b[39m)\n\u001b[1;32m---> 19\u001b[0m \u001b[43mget_best_split_feature\u001b[49m\u001b[43m(\u001b[49m\u001b[43ma\u001b[49m\u001b[43m,\u001b[49m\u001b[43mb\u001b[49m\u001b[43m,\u001b[49m\u001b[43mnp\u001b[49m\u001b[38;5;241;43m.\u001b[39;49m\u001b[43marange\u001b[49m\u001b[43m(\u001b[49m\u001b[38;5;28;43mlen\u001b[39;49m\u001b[43m(\u001b[49m\u001b[43ma\u001b[49m\u001b[43m)\u001b[49m\u001b[43m)\u001b[49m\u001b[43m)\u001b[49m\n",
      "Input \u001b[1;32mIn [11]\u001b[0m, in \u001b[0;36mget_best_split_feature\u001b[1;34m(X, y, node_indices)\u001b[0m\n\u001b[0;32m     20\u001b[0m     \u001b[38;5;28;01mcontinue\u001b[39;00m\n\u001b[0;32m     21\u001b[0m \u001b[38;5;66;03m# 特征i的基尼增益以及分割的左右子树\u001b[39;00m\n\u001b[1;32m---> 22\u001b[0m cur_gini_gain,cur_branch_sets \u001b[38;5;241m=\u001b[39m \u001b[43mget_best_split_point\u001b[49m\u001b[43m(\u001b[49m\u001b[43mX\u001b[49m\u001b[43m,\u001b[49m\u001b[43my\u001b[49m\u001b[43m,\u001b[49m\u001b[43mnode_indices\u001b[49m\u001b[43m,\u001b[49m\u001b[43m \u001b[49m\u001b[43mfeature_i\u001b[49m\u001b[43m)\u001b[49m\n\u001b[0;32m     23\u001b[0m \u001b[38;5;66;03m# 寻找最佳特征\u001b[39;00m\n\u001b[0;32m     24\u001b[0m \u001b[38;5;28;01mif\u001b[39;00m cur_gini_gain \u001b[38;5;241m>\u001b[39m\u001b[38;5;241m=\u001b[39m best_gini_gain:\n",
      "\u001b[1;31mTypeError\u001b[0m: get_best_split_point() takes 3 positional arguments but 4 were given"
     ]
    }
   ],
   "source": [
    "# test\n",
    "# 测试\n",
    "a = np.array([[1,0,0,1],\n",
    "              [1,0,0,2],\n",
    "              [1,1,0,2],\n",
    "              [1,1,1,1],\n",
    "              [1,0,0,1],\n",
    "              [2,0,0,1],\n",
    "              [2,0,0,2],\n",
    "              [2,1,1,2],\n",
    "              [2,0,1,3],\n",
    "              [2,0,1,3],\n",
    "              [3,0,1,3],\n",
    "              [3,0,1,2],\n",
    "              [3,1,0,2],\n",
    "              [3,1,0,3],\n",
    "              [3,0,0,1]], dtype=object)\n",
    "b = np.array([0,0,1,1,0,0,0,1,1,1,1,1,1,1,0]).reshape(-1,1)\n",
    "get_best_split_feature(a,b,np.arange(len(a)))"
   ]
  },
  {
   "cell_type": "markdown",
   "id": "c77aa06f",
   "metadata": {},
   "source": [
    "连续型特征的二分法"
   ]
  },
  {
   "cell_type": "code",
   "execution_count": null,
   "id": "bc4f19da",
   "metadata": {
    "ExecuteTime": {
     "end_time": "2022-08-11T12:16:24.912593Z",
     "start_time": "2022-08-11T12:16:24.912593Z"
    }
   },
   "outputs": [],
   "source": [
    "# np.unique用于找出数组中的唯一值并返回已排序的结果\n",
    "ints = np.array([3, 3, 3, 2, 2, 1, 1, 4, 4])\n",
    "b = np.unique(ints)# 已排序\n",
    "b"
   ]
  },
  {
   "cell_type": "code",
   "execution_count": 3,
   "id": "6748f3ec",
   "metadata": {
    "ExecuteTime": {
     "end_time": "2022-08-11T12:16:24.934471Z",
     "start_time": "2022-08-11T12:16:24.913593Z"
    }
   },
   "outputs": [
    {
     "ename": "NameError",
     "evalue": "name 'b' is not defined",
     "output_type": "error",
     "traceback": [
      "\u001b[1;31m---------------------------------------------------------------------------\u001b[0m",
      "\u001b[1;31mNameError\u001b[0m                                 Traceback (most recent call last)",
      "Input \u001b[1;32mIn [3]\u001b[0m, in \u001b[0;36m<cell line: 2>\u001b[1;34m()\u001b[0m\n\u001b[0;32m      1\u001b[0m \u001b[38;5;66;03m# 求各种取值的中点\u001b[39;00m\n\u001b[1;32m----> 2\u001b[0m midpoints \u001b[38;5;241m=\u001b[39m (\u001b[43mb\u001b[49m[:\u001b[38;5;241m-\u001b[39m\u001b[38;5;241m1\u001b[39m] \u001b[38;5;241m+\u001b[39m b[\u001b[38;5;241m1\u001b[39m:]) \u001b[38;5;241m/\u001b[39m \u001b[38;5;241m2\u001b[39m\n\u001b[0;32m      3\u001b[0m midpoints\n",
      "\u001b[1;31mNameError\u001b[0m: name 'b' is not defined"
     ]
    }
   ],
   "source": [
    "# 求各种取值的中点\n",
    "midpoints = (b[:-1] + b[1:]) / 2\n",
    "midpoints"
   ]
  },
  {
   "cell_type": "code",
   "execution_count": null,
   "id": "fb469157",
   "metadata": {
    "ExecuteTime": {
     "end_time": "2022-08-11T12:16:24.935469Z",
     "start_time": "2022-08-11T12:16:24.935469Z"
    }
   },
   "outputs": [],
   "source": [
    "a = np.array([1,0])\n",
    "np.issubdtype(a[1].dtype, np.integer)"
   ]
  },
  {
   "cell_type": "markdown",
   "id": "c2f25049",
   "metadata": {},
   "source": [
    "判断连续/离散型特征"
   ]
  },
  {
   "cell_type": "code",
   "execution_count": null,
   "id": "97d48827",
   "metadata": {
    "ExecuteTime": {
     "end_time": "2022-08-11T12:16:24.936469Z",
     "start_time": "2022-08-11T12:16:24.936469Z"
    }
   },
   "outputs": [],
   "source": [
    "a = np.array([1,1,1,2,7,8,2])\n",
    "np.issubdtype(a.dtype, np.floating)"
   ]
  },
  {
   "cell_type": "markdown",
   "id": "099fd9cb",
   "metadata": {},
   "source": [
    "有了上述模块后，就可以进行递归建树了\n",
    "\n",
    "递归建立决策树的思路：\n",
    "\n",
    "**初始化**\n",
    "\n",
    "建立根节点root_node\n",
    "传入数据集（X，y）＆根节点：\n",
    "build_tree(X, y, self.root_node, weight)\n",
    "\n",
    "**build_tree递归过程**\n",
    "\n",
    "    **递归基**\n",
    "    1、样本基本属于同一类\n",
    "    2、没有更多特征\n",
    "    \n",
    "    **处理当前节点（自身）**\n",
    "    1、遍历找到最佳特征和特征的最佳分割点\n",
    "    2、基于最佳特征和最佳分割点分成左右子树left,right，建立左右节点left_node,right_node\n",
    "    3、让buildtree()帮忙划分左右子树：\n",
    "    build_tree(right_x, right_y, node.right_child_node, right_weight)\n",
    "    build_tree(left_x, left_y, node.left_child_node, left_weight)"
   ]
  },
  {
   "cell_type": "code",
   "execution_count": 12,
   "id": "ed36b6e4",
   "metadata": {
    "ExecuteTime": {
     "end_time": "2022-08-11T12:18:20.400268Z",
     "start_time": "2022-08-11T12:18:20.383713Z"
    }
   },
   "outputs": [],
   "source": [
    "def build_tree_recussive(X,y, node_indices):\n",
    "    \"\"\"\n",
    "    对于当前节点集合（X，y）-node_indices,递归建立决策树\n",
    "    :param X: 所有样本\n",
    "    :param y: 所有标签\n",
    "    :param node_indices : 当前样本集合对应的索引\n",
    "    \n",
    "    \"\"\"\n",
    "    n_samples = len(node_indices)\n",
    "    n_features = X.shape[1]\n",
    "    \n",
    "    ## 递归基\n",
    "    # 节点包含数据属于同一个类别，此时无需划分\n",
    "    if len(np.unique(y[node_indices])) <= 1:\n",
    "        return\n",
    "    # 没有更多特征(当前节点所含样本所有特征都只有一个取值)\n",
    "    if np.sum(len(np.unique(X[node_indices][:,i])))== n_features: \n",
    "        return\n",
    "    \n",
    "    ## 处理当前节点自身\n",
    "    # 找到最佳特征和特征的最佳分割点\n",
    "    best_feature, best_sets = get_best_split_feature(X, y, node_indices)\n",
    "    # 基于最佳特征和最佳分割点分成左右子树left,right\n",
    "    left_indices = best_sets[\"left_indices\"]\n",
    "    right_indices = best_sets[\"right_indices\"]\n",
    "    \n",
    "    # 让buildtree()帮忙划分左右子树\n",
    "    build_tree_recussive(X,y,left_indices)\n",
    "    build_tree_recussive(X,y,right_indices)"
   ]
  },
  {
   "cell_type": "markdown",
   "id": "13bd7ce1",
   "metadata": {},
   "source": [
    "上述代码是逻辑实现，要记录划分的树结构，需要添加记录机制——Node类,将这个状态记录沿着递归树传递下去"
   ]
  },
  {
   "cell_type": "code",
   "execution_count": 13,
   "id": "22e0ccbc",
   "metadata": {
    "ExecuteTime": {
     "end_time": "2022-08-11T12:18:23.439847Z",
     "start_time": "2022-08-11T12:18:23.431573Z"
    }
   },
   "outputs": [],
   "source": [
    "class Node(object):\n",
    "    \"\"\"通过树结点的各属性记录生成的树结构\"\"\"\n",
    "    def __init__(self,\n",
    "                 best_feature_i=None, \n",
    "                 best_split_point=None,\n",
    "                 left_node=None, \n",
    "                 right_node=None,\n",
    "                 leaf_class = None):\n",
    "        \"\"\"\n",
    "        每个当前结点Node都记录了当前的划分状况\n",
    "        :param left_child_node : 结点的左侧子结点\n",
    "        :param right_child_node : 结点的右侧子结点\n",
    "        :param best_feature_i : 当前结点的最佳划分特征\n",
    "        :param split_point : 当前结点的最佳特征对应的最佳分割点\n",
    "        :param leaf_class : 如果当前结点是叶子，则记录其所属的类别\n",
    "        \n",
    "        \"\"\"\n",
    "        self.best_feature_i = best_feature_i\n",
    "        self.best_split_point = best_split_point\n",
    "        self.left_node = left_node\n",
    "        self.right_node = right_node\n",
    "        self.leaf_class = leaf_class\n",
    "        "
   ]
  },
  {
   "cell_type": "markdown",
   "id": "7aded449",
   "metadata": {},
   "source": [
    "为什么不记录left_indice和right_indices?\n",
    "\n",
    "对于构建的决策树，训练过程的数据集划分不重要，重要的是当前结点按照哪个特征和分割点进行分割。\n",
    "\n",
    "这样当有训练集以外的样本要预测时就可以一路遍历决策树直到到达叶子节点找到对应的分类"
   ]
  },
  {
   "cell_type": "code",
   "execution_count": 14,
   "id": "022486ea",
   "metadata": {
    "ExecuteTime": {
     "end_time": "2022-08-11T12:18:25.661247Z",
     "start_time": "2022-08-11T12:18:25.645909Z"
    }
   },
   "outputs": [],
   "source": [
    "def build_tree_recussive(X,y, node_indices,node:Node):\n",
    "    \"\"\"\n",
    "    对于当前节点集合（X，y）-node_indices,递归建立决策树\n",
    "    :param X: 所有样本\n",
    "    :param y: 所有标签\n",
    "    :param node_indices : 当前样本集合对应的索引\n",
    "    :param node : 当前结点的状态记录\n",
    "    \n",
    "    \"\"\"\n",
    "    \"\"\"\n",
    "    对于当前节点集合（X，y）-node_indices,递归建立决策树\n",
    "    :param X: 所有样本\n",
    "    :param y: 所有标签\n",
    "    :param node_indices : 当前样本集合对应的索引\n",
    "    \n",
    "    \"\"\"\n",
    "    n_samples = len(node_indices)\n",
    "    n_features = X.shape[1]\n",
    "    \n",
    "    ## 递归基\n",
    "    # 节点包含数据属于同一个类别，此时无需划分\n",
    "    if len(np.unique(y[node_indices])) <= 1:\n",
    "        # 记录叶子结点所属的分类\n",
    "        node.leaf_class = y[node_indices][0]\n",
    "        return\n",
    "    # 没有更多特征(当前节点所含样本所有特征都只有一个取值)\n",
    "    if np.sum(len(np.unique(X[node_indices][:,i])) for i in range(n_features)) == n_features:\n",
    "        return\n",
    "    ## 处理当前节点自身\n",
    "    # 找到最佳特征和特征的最佳分割点\n",
    "    best_feature_i, best_sets = get_best_split_feature(X, y, node_indices)\n",
    "    # 基于最佳特征和最佳分割点分成左右子树left,right\n",
    "    left_indices = best_sets[\"left_indices\"]\n",
    "    right_indices = best_sets[\"right_indices\"]\n",
    "    # 记录本节点的状态\n",
    "    node.best_feature_i = best_feature_i\n",
    "    node.best_split_point = best_sets[\"best_split_point\"]\n",
    "    node.left_node = Node()\n",
    "    node.right_node = Node()\n",
    "    # --leaf_value在递归基时才记录\n",
    "    \n",
    "    # 让buildtree()帮忙划分左右子树\n",
    "    build_tree_recussive(X,y,left_indices,node.left_node)\n",
    "    build_tree_recussive(X,y,right_indices,node.right_node)\n",
    "    \n",
    "    "
   ]
  },
  {
   "cell_type": "code",
   "execution_count": 15,
   "id": "5c1a7bac",
   "metadata": {
    "ExecuteTime": {
     "end_time": "2022-08-11T12:18:31.014439Z",
     "start_time": "2022-08-11T12:18:30.952564Z"
    }
   },
   "outputs": [
    {
     "name": "stderr",
     "output_type": "stream",
     "text": [
      "C:\\Users\\17761\\AppData\\Local\\Temp\\ipykernel_11940\\415273674.py:27: DeprecationWarning: Calling np.sum(generator) is deprecated, and in the future will give a different result. Use np.sum(np.fromiter(generator)) or the python sum builtin instead.\n",
      "  if np.sum(len(np.unique(X[node_indices][:,i])) for i in range(n_features)) == n_features:\n"
     ]
    },
    {
     "ename": "NameError",
     "evalue": "name 'get_best_split_point' is not defined",
     "output_type": "error",
     "traceback": [
      "\u001b[1;31m---------------------------------------------------------------------------\u001b[0m",
      "\u001b[1;31mNameError\u001b[0m                                 Traceback (most recent call last)",
      "Input \u001b[1;32mIn [15]\u001b[0m, in \u001b[0;36m<cell line: 20>\u001b[1;34m()\u001b[0m\n\u001b[0;32m     18\u001b[0m b \u001b[38;5;241m=\u001b[39m np\u001b[38;5;241m.\u001b[39marray([\u001b[38;5;241m0\u001b[39m,\u001b[38;5;241m0\u001b[39m,\u001b[38;5;241m1\u001b[39m,\u001b[38;5;241m1\u001b[39m,\u001b[38;5;241m0\u001b[39m,\u001b[38;5;241m0\u001b[39m,\u001b[38;5;241m0\u001b[39m,\u001b[38;5;241m1\u001b[39m,\u001b[38;5;241m1\u001b[39m,\u001b[38;5;241m1\u001b[39m,\u001b[38;5;241m1\u001b[39m,\u001b[38;5;241m1\u001b[39m,\u001b[38;5;241m1\u001b[39m,\u001b[38;5;241m1\u001b[39m,\u001b[38;5;241m0\u001b[39m])\u001b[38;5;241m.\u001b[39mreshape(\u001b[38;5;241m-\u001b[39m\u001b[38;5;241m1\u001b[39m,\u001b[38;5;241m1\u001b[39m)\n\u001b[0;32m     19\u001b[0m root_node \u001b[38;5;241m=\u001b[39m Node()\n\u001b[1;32m---> 20\u001b[0m \u001b[43mbuild_tree_recussive\u001b[49m\u001b[43m(\u001b[49m\u001b[43ma\u001b[49m\u001b[43m,\u001b[49m\u001b[43mb\u001b[49m\u001b[43m,\u001b[49m\u001b[43mnp\u001b[49m\u001b[38;5;241;43m.\u001b[39;49m\u001b[43marange\u001b[49m\u001b[43m(\u001b[49m\u001b[38;5;28;43mlen\u001b[39;49m\u001b[43m(\u001b[49m\u001b[43ma\u001b[49m\u001b[43m)\u001b[49m\u001b[43m)\u001b[49m\u001b[43m,\u001b[49m\u001b[43mroot_node\u001b[49m\u001b[43m)\u001b[49m\n",
      "Input \u001b[1;32mIn [14]\u001b[0m, in \u001b[0;36mbuild_tree_recussive\u001b[1;34m(X, y, node_indices, node)\u001b[0m\n\u001b[0;32m     28\u001b[0m     \u001b[38;5;28;01mreturn\u001b[39;00m\n\u001b[0;32m     29\u001b[0m \u001b[38;5;66;03m## 处理当前节点自身\u001b[39;00m\n\u001b[0;32m     30\u001b[0m \u001b[38;5;66;03m# 找到最佳特征和特征的最佳分割点\u001b[39;00m\n\u001b[1;32m---> 31\u001b[0m best_feature_i, best_sets \u001b[38;5;241m=\u001b[39m \u001b[43mget_best_split_feature\u001b[49m\u001b[43m(\u001b[49m\u001b[43mX\u001b[49m\u001b[43m,\u001b[49m\u001b[43m \u001b[49m\u001b[43my\u001b[49m\u001b[43m,\u001b[49m\u001b[43m \u001b[49m\u001b[43mnode_indices\u001b[49m\u001b[43m)\u001b[49m\n\u001b[0;32m     32\u001b[0m \u001b[38;5;66;03m# 基于最佳特征和最佳分割点分成左右子树left,right\u001b[39;00m\n\u001b[0;32m     33\u001b[0m left_indices \u001b[38;5;241m=\u001b[39m best_sets[\u001b[38;5;124m\"\u001b[39m\u001b[38;5;124mleft_indices\u001b[39m\u001b[38;5;124m\"\u001b[39m]\n",
      "Input \u001b[1;32mIn [11]\u001b[0m, in \u001b[0;36mget_best_split_feature\u001b[1;34m(X, y, node_indices)\u001b[0m\n\u001b[0;32m     20\u001b[0m     \u001b[38;5;28;01mcontinue\u001b[39;00m\n\u001b[0;32m     21\u001b[0m \u001b[38;5;66;03m# 特征i的基尼增益以及分割的左右子树\u001b[39;00m\n\u001b[1;32m---> 22\u001b[0m cur_gini_gain,cur_branch_sets \u001b[38;5;241m=\u001b[39m \u001b[43mget_best_split_point\u001b[49m(X,y,node_indices, feature_i)\n\u001b[0;32m     23\u001b[0m \u001b[38;5;66;03m# 寻找最佳特征\u001b[39;00m\n\u001b[0;32m     24\u001b[0m \u001b[38;5;28;01mif\u001b[39;00m cur_gini_gain \u001b[38;5;241m>\u001b[39m\u001b[38;5;241m=\u001b[39m best_gini_gain:\n",
      "\u001b[1;31mNameError\u001b[0m: name 'get_best_split_point' is not defined"
     ]
    }
   ],
   "source": [
    "# test\n",
    "# 测试\n",
    "a = np.array([[1,0,0,1],\n",
    "              [1,0,0,2],\n",
    "              [1,1,0,2],\n",
    "              [1,1,1,1],\n",
    "              [1,0,0,1],\n",
    "              [2,0,0,1],\n",
    "              [2,0,0,2],\n",
    "              [2,1,1,2],\n",
    "              [2,0,1,3],\n",
    "              [2,0,1,3],\n",
    "              [3,0,1,3],\n",
    "              [3,0,1,2],\n",
    "              [3,1,0,2],\n",
    "              [3,1,0,3],\n",
    "              [3,0,0,1]], dtype=object)\n",
    "b = np.array([0,0,1,1,0,0,0,1,1,1,1,1,1,1,0]).reshape(-1,1)\n",
    "root_node = Node()\n",
    "build_tree_recussive(a,b,np.arange(len(a)),root_node)"
   ]
  },
  {
   "cell_type": "markdown",
   "id": "5c0dafc3",
   "metadata": {
    "ExecuteTime": {
     "end_time": "2022-08-11T08:15:52.737109Z",
     "start_time": "2022-08-11T08:15:52.731364Z"
    }
   },
   "source": [
    "上述代码构建好了决策树，如何进行预测？——二叉搜索树\n",
    "\n",
    "从根结点开始遍历已经构建好的决策树：\n",
    "\n",
    "走到当前结点的x,根据当前节点的最佳特征及最佳切分点决定是继续往左边走还是往右边走：\n",
    "离散型特征==时/连续型特征>=时往左边走，否则往右边\n",
    "\n",
    "让二叉搜索树帮忙继续搜索\n",
    "\n",
    "递归基：遍历到叶子节点则返回\n",
    "\n",
    "通过返回的叶子节点判断所属分类"
   ]
  },
  {
   "cell_type": "code",
   "execution_count": null,
   "id": "28544ce6",
   "metadata": {
    "ExecuteTime": {
     "end_time": "2022-08-11T12:16:24.952620Z",
     "start_time": "2022-08-11T12:16:24.952620Z"
    }
   },
   "outputs": [],
   "source": [
    "def predict(X):\n",
    "    \"\"\"\n",
    "    :param X: 待预测的m个样本\n",
    "    \n",
    "    \"\"\"\n",
    "    # 每一个样本都通过二叉搜索决策树树查找所属类别,决策树由其根节点作为代表\n",
    "    y_pred = [search_class(x, root_node) for x in X]\n",
    "    return y_pred"
   ]
  },
  {
   "cell_type": "code",
   "execution_count": 5,
   "id": "d5d0604b",
   "metadata": {
    "ExecuteTime": {
     "end_time": "2022-08-11T12:16:24.981120Z",
     "start_time": "2022-08-11T12:16:24.956620Z"
    }
   },
   "outputs": [
    {
     "ename": "NameError",
     "evalue": "name 'Node' is not defined",
     "output_type": "error",
     "traceback": [
      "\u001b[1;31m---------------------------------------------------------------------------\u001b[0m",
      "\u001b[1;31mNameError\u001b[0m                                 Traceback (most recent call last)",
      "Input \u001b[1;32mIn [5]\u001b[0m, in \u001b[0;36m<cell line: 1>\u001b[1;34m()\u001b[0m\n\u001b[1;32m----> 1\u001b[0m \u001b[38;5;28;01mdef\u001b[39;00m \u001b[38;5;21msearch_class\u001b[39m(x, node:\u001b[43mNode\u001b[49m):\n\u001b[0;32m      2\u001b[0m     \u001b[38;5;124;03m\"\"\"\u001b[39;00m\n\u001b[0;32m      3\u001b[0m \u001b[38;5;124;03m    : param x: 待预测所属分类的样本\u001b[39;00m\n\u001b[0;32m      4\u001b[0m \u001b[38;5;124;03m    : param node : 当前所在节点\u001b[39;00m\n\u001b[0;32m      5\u001b[0m \u001b[38;5;124;03m    \u001b[39;00m\n\u001b[0;32m      6\u001b[0m \u001b[38;5;124;03m    \"\"\"\u001b[39;00m\n\u001b[0;32m      7\u001b[0m     \u001b[38;5;66;03m## 递归基\u001b[39;00m\n",
      "\u001b[1;31mNameError\u001b[0m: name 'Node' is not defined"
     ]
    }
   ],
   "source": [
    "def search_class(x, node:Node):\n",
    "    \"\"\"\n",
    "    : param x: 待预测所属分类的样本\n",
    "    : param node : 当前所在节点\n",
    "    \n",
    "    \"\"\"\n",
    "    ## 递归基\n",
    "    if node.leaf_class is not None:\n",
    "        return node.leaf_class\n",
    "    \n",
    "    ## 当前节点的工作\n",
    "    # 根据当前节点的最佳特征及最佳切分点决定x是继续往左边走还是往右边走\n",
    "    # 与训练时不同，这里在预测单个样本时取的feature_value是单个值,转成array才能在后面用dtype\n",
    "    feature_value = x[node.best_feature_i]\n",
    "    print(feature_value)\n",
    "    # 离散型/连续型特征处理不同\n",
    "    \n",
    "    if np.issubdtype(np.array(feature_value).dtype, np.integer) or np.issubdtype(np.array(feature_value).dtype, np.floating):\n",
    "        # 连续型\n",
    "        if feature_value >= node.best_split_point:\n",
    "            # 往左边\n",
    "            return search_class(x,node.left_node)\n",
    "        else:\n",
    "            return search_class(x, node.right_node)\n",
    "    else:\n",
    "        if feature_value == node.best_split_point:\n",
    "            # 往左边\n",
    "            return search_class(x, node.left_node)\n",
    "        else:\n",
    "            return search_class(x, node.right_node)\n",
    "        "
   ]
  },
  {
   "cell_type": "markdown",
   "id": "da72feb4",
   "metadata": {},
   "source": [
    "上述代码出口太多了，修改一下格式（逻辑不变）"
   ]
  },
  {
   "cell_type": "code",
   "execution_count": null,
   "id": "167f564f",
   "metadata": {
    "ExecuteTime": {
     "end_time": "2022-08-11T12:16:24.982320Z",
     "start_time": "2022-08-11T12:16:24.982320Z"
    }
   },
   "outputs": [],
   "source": [
    "def search_class(x, node:Node):\n",
    "    \"\"\"\n",
    "    : param x: 待预测所属分类的样本\n",
    "    : param node : 当前所在节点\n",
    "    \n",
    "    \"\"\"\n",
    "    \n",
    "    \n",
    "    # 递归基\n",
    "    if node.leaf_class is not None:# 已经走到叶子\n",
    "        return node.leaf_class\n",
    "    ## 当前节点的工作\n",
    "    # 本样本最终要往哪个分支走\n",
    "    goto = None\n",
    "    # 根据当前节点的最佳特征及最佳切分点决定x是继续往左边走还是往右边走\n",
    "    feature_value = x[node.best_feature_i]\n",
    "    # 离散型/连续型特征处理不同\n",
    "    if isinstance(feature_value, int) or isinstance(feature_value, float):\n",
    "        if feature_value >= node.best_split_point:\n",
    "            goto = node.left_node# 往左边\n",
    "        else:\n",
    "            goto = node.right_node#往右边\n",
    "    else:\n",
    "        if feature_value == node.best_split_point:\n",
    "            goto = node.left_node# 往左边\n",
    "        else:\n",
    "            goto = node.right_node\n",
    "    return search_class(x, goto)\n",
    "        "
   ]
  },
  {
   "cell_type": "code",
   "execution_count": null,
   "id": "e13e628a",
   "metadata": {
    "ExecuteTime": {
     "end_time": "2022-08-11T12:16:24.982320Z",
     "start_time": "2022-08-11T12:16:24.982320Z"
    }
   },
   "outputs": [],
   "source": [
    "a = np.array([[1,1,1,1],\n",
    "              [1,0,0,2],\n",
    "              [1,1,0,2],\n",
    "              [1,1,1,1],\n",
    "              [1,0,0,1],\n",
    "              [2,0,0,1],\n",
    "              [2,0,0,2],\n",
    "              [2,1,1,2],\n",
    "              [2,0,1,3],\n",
    "              [2,0,1,3],\n",
    "              [3,0,1,3],\n",
    "              [3,0,1,2],\n",
    "              [3,1,0,2],\n",
    "              [3,1,0,3],\n",
    "              [3,1,1,1]], dtype=object)\n",
    "np.array(a[0][0]).dtype # 改变为int了"
   ]
  },
  {
   "cell_type": "code",
   "execution_count": null,
   "id": "d8d98795",
   "metadata": {
    "ExecuteTime": {
     "end_time": "2022-08-11T12:16:24.983320Z",
     "start_time": "2022-08-11T12:16:24.983320Z"
    }
   },
   "outputs": [],
   "source": [
    "from sklearn.datasets import load_iris\n",
    "data = load_iris()\n",
    "X,y = data.data, data.target\n",
    "root_node = Node()\n",
    "build_tree_recussive(X,y, np.arange(len(X)), root_node)\n"
   ]
  },
  {
   "cell_type": "code",
   "execution_count": null,
   "id": "847eba9e",
   "metadata": {
    "ExecuteTime": {
     "end_time": "2022-08-11T12:16:24.984319Z",
     "start_time": "2022-08-11T12:16:24.984319Z"
    }
   },
   "outputs": [],
   "source": [
    "predict(X)"
   ]
  },
  {
   "cell_type": "code",
   "execution_count": null,
   "id": "af161e62",
   "metadata": {
    "ExecuteTime": {
     "end_time": "2022-08-11T12:16:24.985320Z",
     "start_time": "2022-08-11T12:16:24.985320Z"
    }
   },
   "outputs": [],
   "source": [
    "y"
   ]
  },
  {
   "cell_type": "markdown",
   "id": "1ac3086c",
   "metadata": {},
   "source": [
    "## cart-决策树剪枝"
   ]
  },
  {
   "attachments": {
    "image.png": {
     "image/png": "[encoded data removed]"
    }
   },
   "cell_type": "markdown",
   "id": "9a727b69",
   "metadata": {},
   "source": [
    "预剪枝＋后剪枝\n",
    "\n",
    "预剪枝:\n",
    "在构造决策树划分节点时，前面建树停止是下述两个递归基\n",
    "![image.png](attachment:image.png)\n",
    "现在增加递归基对树的大小进行一定的限制：\n",
    "\n",
    "-限制树的最大深度\n",
    "\n",
    "-限制节点的最小样本量\n",
    "\n",
    "-基尼系数增益的最小值（gini_gain太小时不划分）\n",
    "\n",
    "后剪枝：\n",
    "自底向上处理已经构建的决策树的非叶子结点：\n",
    "\n",
    "对于当前处理的非叶结点：\n",
    "\n",
    "    -让递归函数帮忙处理左右子树\n",
    "    \n",
    "    -已经处理后自己左右子树的结点处理自身：\n",
    "        -比较剪枝前的loss与剪枝后的loss，若剪枝后loss更小则剪枝（收回左右结点）\n"
   ]
  },
  {
   "cell_type": "markdown",
   "id": "7dcd36ea",
   "metadata": {},
   "source": [
    "### 预剪枝"
   ]
  },
  {
   "cell_type": "markdown",
   "id": "683d2f15",
   "metadata": {},
   "source": [
    "限制树的最大深度:当前节点划分前先判断当前深度是否超过预设的最大深度，所以增加深度记录\n",
    "\n",
    "限制节点的最小样本量同理\n",
    "\n",
    "以下是改动部分"
   ]
  },
  {
   "cell_type": "raw",
   "id": "72fc4e42",
   "metadata": {},
   "source": [
    ".f.\n",
    "class CartDecisionTree():\n",
    "    \"\"\"使用cart算法构建决策树\"\"\"\n",
    "    \n",
    "    def __init__(self, max_depth = float(\"inf\"),min_sample_split=2, min_gini_decrease=None):\n",
    "        # 代表决策树的决策树根节点\n",
    "        self.root_node = None \n",
    "        # 预设的决策树最大深度\n",
    "        self.max_depth = max_depth\n",
    "        # 预设的决策树叶子节点最小样本数\n",
    "        self.min_sample_split = min_sample_split\n",
    "        # 预设的基尼系数增益的最小值（gini_gain太小时不划分）\n",
    "        self.min_gini_decrease = min_gini_decrease\n",
    "        \n",
    "    def fit(self, X,y):\n",
    "        \"\"\"\n",
    "        决策树拟合\n",
    "        :param X : 训练数据集∈（m,n）\n",
    "        :param y : 训练标签∈（n,1）\n",
    "        \n",
    "        \"\"\"\n",
    "        # 创建决策树根结点\n",
    "        self.root_node = Node()\n",
    "        # 默认根节点的深度为1\n",
    "        cur_depth = 1\n",
    "        # 递归构建决策树\n",
    "        self._build_tree_recussive(X,y,np.arange(len(X)),self.root_node, cur_depth)\n",
    "        \n",
    "    def _build_tree_recussive(self, X,y, node_indices,node:Node, cur_depth):\n",
    "        \"\"\"\n",
    "        对于当前节点集合（X，y）-node_indices,递归建立决策树\n",
    "        :param X: 所有样本\n",
    "        :param y: 所有标签\n",
    "        :param node_indices : 当前样本集合对应的索引\n",
    "        :param node : 当前结点的状态记录\n",
    "\n",
    "        \"\"\"\n",
    "        \"\"\"\n",
    "        对于当前节点集合（X，y）-node_indices,递归建立决策树\n",
    "        :param X: 所有样本\n",
    "        :param y: 所有标签\n",
    "        :param node_indices : 当前样本集合对应的索引\n",
    "\n",
    "        \"\"\"\n",
    "        n_samples = len(node_indices)\n",
    "        n_features = X.shape[1]\n",
    "\n",
    "        ## 递归基\n",
    "        # 节点包含数据属于同一个类别，此时无需划分\n",
    "        if len(np.unique(y[node_indices])) <= 1:\n",
    "            # 记录叶子结点所属的分类\n",
    "            node.leaf_class = y[node_indices][0]\n",
    "            return\n",
    "        # 没有更多特征(当前节点所含样本所有特征都只有一个取值)\n",
    "        if np.sum([len(np.unique(X[node_indices][:,i])) for i in range(n_features)]) == n_features:\n",
    "            return\n",
    "        # 限制构建子树的深度\n",
    "        if cur_depth >=self.max_depth:\n",
    "            return\n",
    "        # 限制节点的最小样本量\n",
    "        if n_samples < self.min_sample_split:\n",
    "            return\n",
    "\n",
    "        ## 处理当前节点自身\n",
    "        # 找到最佳特征和特征的最佳分割点\n",
    "        best_feature_i,best_gini_gain, best_sets = self._get_best_split_feature(X, y, node_indices)\n",
    "        \n",
    "        # 基尼系数增益的最小值（gini_gain太小时不划分）\n",
    "        if self.min_gini_decrease is not None and  best_gini_gain < self.min_gini_decrease:\n",
    "            return\n",
    "        \n",
    "        # 基于最佳特征和最佳分割点分成左右子树left,right\n",
    "        left_indices = best_sets[\"left_indices\"]\n",
    "        right_indices = best_sets[\"right_indices\"]\n",
    "        # 记录本节点的状态\n",
    "        node.best_feature_i = best_feature_i\n",
    "        node.best_split_point = best_sets[\"best_split_point\"]\n",
    "        node.left_node = Node()\n",
    "        node.right_node = Node()\n",
    "        # --leaf_class在递归基时才记录\n",
    "\n",
    "        # 让buildtree()帮忙划分左右子树\n",
    "        self._build_tree_recussive(X,y,left_indices,node.left_node, cur_depth+1)\n",
    "        self._build_tree_recussive(X,y,right_indices,node.right_node, cur_depth+1)\n",
    "    \n",
    "    \n",
    "    def _get_best_split_feature(self,X,y,node_indices):\n",
    "        \"\"\"\n",
    "        对于当前节点集合（X，y）-node_indices,找到最佳特征：求所有特征的gini_gain\n",
    "        :param X: 所有样本\n",
    "        :param y: 所有标签\n",
    "        :param node_indices : 当前样本集合对应的索引\n",
    "\n",
    "        \"\"\"\n",
    "\n",
    "        # 获取样本数和特征数\n",
    "        n_samples, n_features = len(node_indices), X.shape[1]\n",
    "\n",
    "        best_gini_gain = -1\n",
    "        best_feature = None\n",
    "        best_sets = None\n",
    "        # 依次求所有特征的gini_gain\n",
    "        for feature_i in range(n_features):\n",
    "            # 特征在所有样本中取值唯一时无需找split_point和参与特征划分\n",
    "            if len(np.unique(X[node_indices][:,feature_i])) == 1:\n",
    "                continue\n",
    "            # 特征i的基尼增益以及分割的左右子树\n",
    "            cur_gini_gain,cur_branch_sets = self._get_best_split_point(X,y,node_indices, feature_i)\n",
    "            # 寻找最佳特征\n",
    "            if cur_gini_gain >= best_gini_gain:\n",
    "                best_gini_gain = cur_gini_gain\n",
    "                best_feature = feature_i\n",
    "                best_sets = cur_branch_sets\n",
    "\n",
    "        # 找到了当前节点所用的最佳特征（也找到了该特征的最佳分割点）\n",
    "\n",
    "        return best_feature,best_gini_gain, best_sets"
   ]
  },
  {
   "cell_type": "markdown",
   "id": "8da0826e",
   "metadata": {},
   "source": [
    "限制树的深度后——叶子节点所含的便签不一定只有一种了，需要根据多数原则定叶子节点所属的分类"
   ]
  },
  {
   "cell_type": "code",
   "execution_count": 12,
   "id": "a57c97b8",
   "metadata": {
    "ExecuteTime": {
     "end_time": "2022-08-12T09:08:50.517990Z",
     "start_time": "2022-08-12T09:08:50.499867Z"
    }
   },
   "outputs": [],
   "source": [
    "def majority_vote(y):\n",
    "    \"\"\"\n",
    "    根据多数原则定叶子节点所属的分类\n",
    "    :param y: 当前叶子节点的所有标签\n",
    "    :return most_common_class叶子节点所属的分类\n",
    "    \"\"\"\n",
    "    most_common_class = None\n",
    "    max_count = 0\n",
    "    for label in np.unique(y):\n",
    "        count = np.sum(y==label)\n",
    "        if count >= max_count:\n",
    "            most_common_class = label\n",
    "            max_count = count\n",
    "    return most_common_class\n",
    "    "
   ]
  },
  {
   "cell_type": "code",
   "execution_count": 15,
   "id": "6e265d43",
   "metadata": {
    "ExecuteTime": {
     "end_time": "2022-08-12T09:09:52.711643Z",
     "start_time": "2022-08-12T09:09:52.691833Z"
    }
   },
   "outputs": [
    {
     "data": {
      "text/plain": [
       "'青年'"
      ]
     },
     "execution_count": 15,
     "metadata": {},
     "output_type": "execute_result"
    }
   ],
   "source": [
    "a = np.array([1,2,3,5,5])\n",
    "majority_vote(a)\n",
    "b = np.array([\"青年\",\"青年\",\"老年\"])\n",
    "majority_vote(b)"
   ]
  },
  {
   "cell_type": "code",
   "execution_count": 18,
   "id": "30f8c4bb",
   "metadata": {
    "ExecuteTime": {
     "end_time": "2022-08-12T09:13:05.272119Z",
     "start_time": "2022-08-12T09:13:05.245765Z"
    }
   },
   "outputs": [],
   "source": [
    "class Node(object):\n",
    "    \"\"\"通过树结点的各属性记录生成的树结构\"\"\"\n",
    "    def __init__(self,\n",
    "                 best_feature_i=None, \n",
    "                 best_split_point=None,\n",
    "                 left_node=None, \n",
    "                 right_node=None,\n",
    "                 leaf_class = None):\n",
    "        \"\"\"\n",
    "        每个当前结点Node都记录了当前的划分状况\n",
    "        :param left_child_node : 结点的左侧子结点\n",
    "        :param right_child_node : 结点的右侧子结点\n",
    "        :param best_feature_i : 当前结点的最佳划分特征\n",
    "        :param split_point : 当前结点的最佳特征对应的最佳分割点\n",
    "        :param leaf_class : 如果当前结点是叶子，则记录其所属的类别\n",
    "        \n",
    "        \"\"\"\n",
    "        self.best_feature_i = best_feature_i\n",
    "        self.best_split_point = best_split_point\n",
    "        self.left_node = left_node\n",
    "        self.right_node = right_node\n",
    "        self.leaf_class = leaf_class\n",
    "        \n",
    "class CartDecisionTree():\n",
    "    \"\"\"使用cart算法构建决策树\"\"\"\n",
    "    \n",
    "    def __init__(self, max_depth = float(\"inf\"),min_sample_split=2, min_gini_decrease=None):\n",
    "        # 代表决策树的决策树根节点\n",
    "        self.root_node = None \n",
    "        # 预设的决策树最大深度\n",
    "        self.max_depth = max_depth\n",
    "        # 预设的决策树叶子节点最小样本数\n",
    "        self.min_sample_split = min_sample_split\n",
    "        # 预设的基尼系数增益的最小值（gini_gain太小时不划分）\n",
    "        self.min_gini_decrease = min_gini_decrease\n",
    "        \n",
    "    def fit(self, X,y):\n",
    "        \"\"\"\n",
    "        决策树拟合\n",
    "        :param X : 训练数据集∈（m,n）\n",
    "        :param y : 训练标签∈（n,1）\n",
    "        \n",
    "        \"\"\"\n",
    "        # 创建决策树根结点\n",
    "        self.root_node = Node()\n",
    "        # 默认根节点的深度为1\n",
    "        cur_depth = 1\n",
    "        # 递归构建决策树\n",
    "        self._build_tree_recussive(X,y,np.arange(len(X)),self.root_node, cur_depth)\n",
    "        \n",
    "    def _build_tree_recussive(self, X,y, node_indices,node:Node, cur_depth):\n",
    "        \"\"\"\n",
    "        对于当前节点集合（X，y）-node_indices,递归建立决策树\n",
    "        :param X: 所有样本\n",
    "        :param y: 所有标签\n",
    "        :param node_indices : 当前样本集合对应的索引\n",
    "        :param node : 当前结点的状态记录\n",
    "\n",
    "        \"\"\"\n",
    "        \"\"\"\n",
    "        对于当前节点集合（X，y）-node_indices,递归建立决策树\n",
    "        :param X: 所有样本\n",
    "        :param y: 所有标签\n",
    "        :param node_indices : 当前样本集合对应的索引\n",
    "\n",
    "        \"\"\"\n",
    "        n_samples = len(node_indices)\n",
    "        n_features = X.shape[1]\n",
    "\n",
    "        ## 递归基\n",
    "        # 节点包含数据属于同一个类别，此时无需划分\n",
    "        if len(np.unique(y[node_indices])) <= 1:\n",
    "            # 记录叶子结点所属的分类\n",
    "            node.leaf_class = y[node_indices][0]\n",
    "            return\n",
    "        # 没有更多特征(当前节点所含样本所有特征都只有一个取值)\n",
    "        if np.sum([len(np.unique(X[node_indices][:,i])) for i in range(n_features)]) == n_features:\n",
    "            node.leaf_class = self._majority_vote(y[node_indices])\n",
    "            return\n",
    "        # 限制构建子树的深度\n",
    "        if cur_depth >= self.max_depth:\n",
    "            node.leaf_class = self._majority_vote(y[node_indices])\n",
    "            return\n",
    "        # 限制节点的最小样本量\n",
    "        if n_samples < self.min_sample_split:\n",
    "            node.leaf_class = self._majority_vote(y[node_indices])\n",
    "            return\n",
    "\n",
    "        ## 处理当前节点自身\n",
    "        # 找到最佳特征和特征的最佳分割点\n",
    "        best_feature_i,best_gini_gain, best_sets = self._get_best_split_feature(X, y, node_indices)\n",
    "        \n",
    "        # 基尼系数增益的最小值（gini_gain太小时不划分）\n",
    "        if self.min_gini_decrease is not None and  best_gini_gain < self.min_gini_decrease:\n",
    "            node.leaf_class = self._majority_vote(y[node_indices])\n",
    "            return\n",
    "        \n",
    "        # 基于最佳特征和最佳分割点分成左右子树left,right\n",
    "        left_indices = best_sets[\"left_indices\"]\n",
    "        right_indices = best_sets[\"right_indices\"]\n",
    "        # 记录本节点的状态\n",
    "        node.best_feature_i = best_feature_i\n",
    "        node.best_split_point = best_sets[\"best_split_point\"]\n",
    "        node.left_node = Node()\n",
    "        node.right_node = Node()\n",
    "        # --leaf_class在递归基时才记录\n",
    "\n",
    "        # 让buildtree()帮忙划分左右子树\n",
    "        self._build_tree_recussive(X,y,left_indices,node.left_node, cur_depth+1)\n",
    "        self._build_tree_recussive(X,y,right_indices,node.right_node, cur_depth+1)\n",
    "    \n",
    "    \n",
    "    def _get_best_split_feature(self,X,y,node_indices):\n",
    "        \"\"\"\n",
    "        对于当前节点集合（X，y）-node_indices,找到最佳特征：求所有特征的gini_gain\n",
    "        :param X: 所有样本\n",
    "        :param y: 所有标签\n",
    "        :param node_indices : 当前样本集合对应的索引\n",
    "\n",
    "        \"\"\"\n",
    "\n",
    "        # 获取样本数和特征数\n",
    "        n_samples, n_features = len(node_indices), X.shape[1]\n",
    "\n",
    "        best_gini_gain = -1\n",
    "        best_feature = None\n",
    "        best_sets = None\n",
    "        # 依次求所有特征的gini_gain\n",
    "        for feature_i in range(n_features):\n",
    "            # 特征在所有样本中取值唯一时无需找split_point和参与特征划分\n",
    "            if len(np.unique(X[node_indices][:,feature_i])) == 1:\n",
    "                continue\n",
    "            # 特征i的基尼增益以及分割的左右子树\n",
    "            cur_gini_gain,cur_branch_sets = self._get_best_split_point(X,y,node_indices, feature_i)\n",
    "            # 寻找最佳特征\n",
    "            if cur_gini_gain >= best_gini_gain:\n",
    "                best_gini_gain = cur_gini_gain\n",
    "                best_feature = feature_i\n",
    "                best_sets = cur_branch_sets\n",
    "\n",
    "        # 找到了当前节点所用的最佳特征（也找到了该特征的最佳分割点）\n",
    "\n",
    "        return best_feature,best_gini_gain, best_sets\n",
    "    \n",
    "    def _get_best_split_point(self,X,y,node_indices, feature_i):\n",
    "    \n",
    "        \"\"\"\n",
    "        对于当前节点集合（X，y）-node_indices计算特征i的基尼增益\n",
    "        :param X: 所有样本\n",
    "        :param y: 所有标签\n",
    "        :param node_indices : 当前样本集合对应的索引\n",
    "        :param : 给定的特征索引\n",
    "        :return : 返回特征i的基尼增益以及分割的左右子树\n",
    "\n",
    "        \"\"\"\n",
    "        # 当前特征i的所有候选分割点\n",
    "        split_points, split_func = self._create_split_points(X[node_indices], feature_i)\n",
    "        # 初始化\n",
    "        best_gini_gain = -1# 存储本特征的最佳切分点对应的gini_gain\n",
    "        best_sets = None# 存储最佳切分点切分的左右分支\n",
    "        # 依次使用候选分割点对当前集合（X，y）进行二分分割\n",
    "        for point in split_points:\n",
    "            # 使用每个候选分割点进行二分分割\n",
    "            left_indices = np.array([i for i in node_indices if split_func(X[i],point)])\n",
    "            right_indices = np.array([ i for i in node_indices if not split_func(X[i],point)])\n",
    "            # 分好左右分支后计算gini_gain\n",
    "            w_left, w_right = len(left_indices) / len(node_indices), len(right_indices) / len(node_indices)\n",
    "            cur_gini_gain = self._gini(y[node_indices]) - (w_left * self._gini(y[left_indices]) + w_right * self._gini(y[right_indices]))\n",
    "            # 选择最佳的split point\n",
    "            if cur_gini_gain >= best_gini_gain:\n",
    "                best_gini_gain = cur_gini_gain\n",
    "                best_sets = {\n",
    "                    \"best_split_point\":point,\n",
    "                    \"left_indices\": left_indices,\n",
    "                    \"right_indices\": right_indices,\n",
    "                }\n",
    "        return best_gini_gain, best_sets\n",
    "    \n",
    "    def _create_split_points(self,X, feature_i):\n",
    "    \n",
    "        \"\"\"\n",
    "        根据特征i是连续型/离散型特征得到特征i的所有候选分割点,并返回对应的分割函数\n",
    "        :param X: 当前集合的样本\n",
    "        :param feature_i : 给定的特征索引\n",
    "        :return 特征i的所有候选分割点、分割函数\n",
    "\n",
    "        \"\"\"\n",
    "\n",
    "        # 1、确定特征i的所有可能取值\n",
    "        feature_values = np.unique(X[:, feature_i])# 已排序的 \n",
    "\n",
    "        # 2、根据特征i是连续型/离散型特征对这些可能取值进行处理从而得到特征i的所有候选分割点；    \n",
    "        split_points = None\n",
    "        split_func = None\n",
    "\n",
    "        if np.issubdtype(feature_values.dtype, np.integer) or np.issubdtype(feature_values.dtype, np.floating):\n",
    "            split_points = (feature_values[1:] + feature_values[:-1]) / 2 # 特征是连续型特征则使用二分法找到所有的切分点\n",
    "            split_func = lambda x,split_point : x[feature_i] >= split_point\n",
    "\n",
    "        else:\n",
    "            split_points = feature_values# 离散型特征直接使用特征的各个取值作为切分点\n",
    "            split_func = lambda x,split_point : x[feature_i] == split_point\n",
    "        return split_points, split_func\n",
    "    \n",
    "    def _gini(self,y):\n",
    "        \"\"\"\n",
    "        计算当前节点的gini_index\n",
    "        :param y:当前节点的样本中对应的分类\n",
    "\n",
    "        \"\"\"\n",
    "        p_k = np.array([np.sum([y==k])/len(y) for k in np.unique(y)])\n",
    "        gini_index = np.sum([p * (1-p) for p in p_k])\n",
    "        return gini_index\n",
    "    \n",
    "    def _majority_vote(self, y):\n",
    "        \"\"\"\n",
    "        根据多数原则定叶子节点所属的分类\n",
    "        :param y: 当前叶子节点的所有标签\n",
    "        :return most_common_class叶子节点所属的分类\n",
    "        \"\"\"\n",
    "        most_common_class = None\n",
    "        max_count = 0\n",
    "        for label in np.unique(y):\n",
    "            count = np.sum(y==label)\n",
    "            if count >= max_count:\n",
    "                most_common_class = label\n",
    "                max_count = count\n",
    "        return most_common_class\n",
    "    \n",
    "    def predict(self,X):\n",
    "        \"\"\"\n",
    "        :param X: 待预测的m个样本\n",
    "\n",
    "        \"\"\"\n",
    "        # 每一个样本都通过二叉搜索决策树树查找所属类别,决策树由其根节点作为代表\n",
    "        y_pred = [self._search_class(x, self.root_node) for x in X]\n",
    "        return y_pred\n",
    "\n",
    "    def _search_class(self, x, node:Node):\n",
    "        \"\"\"\n",
    "        : param x: 待预测所属分类的样本\n",
    "        : param node : 当前所在节点\n",
    "\n",
    "        \"\"\"\n",
    "\n",
    "\n",
    "        # 递归基\n",
    "        if node.leaf_class is not None:# 已经走到叶子\n",
    "            return node.leaf_class\n",
    "        ## 当前节点的工作\n",
    "        # 本样本最终要往哪个分支走\n",
    "        goto = None\n",
    "        # 根据当前节点的最佳特征及最佳切分点决定x是继续往左边走还是往右边走\n",
    "        feature_value = x[node.best_feature_i]\n",
    "        # 离散型/连续型特征处理不同\n",
    "        if isinstance(feature_value, int) or isinstance(feature_value, float):\n",
    "            if feature_value >= node.best_split_point:\n",
    "                goto = node.left_node# 往左边\n",
    "            else:\n",
    "                goto = node.right_node#往右边\n",
    "        else:\n",
    "            if feature_value == node.best_split_point:\n",
    "                goto = node.left_node# 往左边\n",
    "            else:\n",
    "                goto = node.right_node\n",
    "        return self._search_class(x, goto)\n"
   ]
  },
  {
   "cell_type": "code",
   "execution_count": 20,
   "id": "489ffd25",
   "metadata": {
    "ExecuteTime": {
     "end_time": "2022-08-12T09:13:58.163453Z",
     "start_time": "2022-08-12T09:13:58.146813Z"
    }
   },
   "outputs": [],
   "source": [
    "def accuracy(y_pred, y_true):\n",
    "    return np.sum(y_pred == y_true) / len(y_pred)"
   ]
  },
  {
   "cell_type": "code",
   "execution_count": 23,
   "id": "5b8c0d32",
   "metadata": {
    "ExecuteTime": {
     "end_time": "2022-08-12T09:14:22.426680Z",
     "start_time": "2022-08-12T09:14:22.370972Z"
    }
   },
   "outputs": [
    {
     "data": {
      "text/plain": [
       "0.9777777777777777"
      ]
     },
     "execution_count": 23,
     "metadata": {},
     "output_type": "execute_result"
    }
   ],
   "source": [
    "from sklearn.model_selection import train_test_split\n",
    "from sklearn.datasets import load_iris\n",
    "data = load_iris()\n",
    "X,y = data.data, data.target\n",
    "X_train,test_X,y_train,test_y = train_test_split(X,y,test_size=0.3)\n",
    "model = CartDecisionTree(max_depth = 5,min_sample_split=6)\n",
    "model.fit(X_train,y_train)\n",
    "y_pred = model.predict(test_X)\n",
    "accuracy(y_pred,test_y)"
   ]
  },
  {
   "cell_type": "markdown",
   "id": "d34898af",
   "metadata": {},
   "source": [
    "预剪枝后准确的提高了"
   ]
  },
  {
   "cell_type": "code",
   "execution_count": 65,
   "id": "de77fb65",
   "metadata": {
    "ExecuteTime": {
     "end_time": "2022-08-23T08:39:37.294755Z",
     "start_time": "2022-08-23T08:39:37.257452Z"
    },
    "code_folding": []
   },
   "outputs": [],
   "source": [
    "class Node(object):\n",
    "    \"\"\"通过树结点的各属性记录生成的树结构\"\"\"\n",
    "    def __init__(self,\n",
    "                 best_feature_i=None, \n",
    "                 best_split_point=None,\n",
    "                 left_node=None, \n",
    "                 right_node=None,\n",
    "                 leaf_class = None,\n",
    "                 is_leaf=False,\n",
    "                 gini=None):\n",
    "        \"\"\"\n",
    "        每个当前结点Node都记录了当前的划分状况\n",
    "        :param left_child_node : 结点的左侧子结点\n",
    "        :param right_child_node : 结点的右侧子结点\n",
    "        :param best_feature_i : 当前结点的最佳划分特征\n",
    "        :param split_point : 当前结点的最佳特征对应的最佳分割点\n",
    "        :param leaf_class : 记录当前节点所属的类别\n",
    "        :param is_leaf : 只有在is_leaf==True时，leaf_class才生效\n",
    "        :param gini : 当前节点的gini_index\n",
    "        \n",
    "        \"\"\"\n",
    "        self.best_feature_i = best_feature_i\n",
    "        self.best_split_point = best_split_point\n",
    "        self.left_node = left_node\n",
    "        self.right_node = right_node\n",
    "        self.leaf_class = leaf_class\n",
    "        self.is_leaf = is_leaf\n",
    "        self.gini = gini\n",
    "class CartDecisionTree():\n",
    "    \"\"\"使用cart算法构建决策树\"\"\"\n",
    "    \n",
    "    def __init__(self, max_depth = float(\"inf\"),min_sample_split=2, min_gini_decrease=None):\n",
    "        # 代表决策树的决策树根节点\n",
    "        self.root_node = None \n",
    "        # 预设的决策树最大深度\n",
    "        self.max_depth = max_depth\n",
    "        # 预设的决策树叶子节点最小样本数\n",
    "        self.min_sample_split = min_sample_split\n",
    "        # 预设的基尼系数增益的最小值（gini_gain太小时不划分）\n",
    "        self.min_gini_decrease = min_gini_decrease\n",
    "    def fit(self, X,y,is_linear=False):\n",
    "        \"\"\"\n",
    "        决策树拟合\n",
    "        :param X : 训练数据集∈（m,n）\n",
    "        :param y : 训练标签∈（n,1）\n",
    "        :param is_linear : 特征是否为连续型\n",
    "        \n",
    "        \"\"\"\n",
    "        # 创建决策树根结点\n",
    "        self.root_node = Node()\n",
    "        # 默认根节点的深度为1\n",
    "        cur_depth = 1\n",
    "        # 根节点的初始化权重\n",
    "        # 样本的初始权重:都为1\n",
    "        weight = np.ones((len(X))) # 全局的weight:初始化为全1 \n",
    "        # 递归构建决策树\n",
    "        self._build_tree_recussive(X,y,np.arange(len(X)),weight,self.root_node, cur_depth, is_linear)\n",
    "    \n",
    "    def _build_tree_recussive(self, X,y, node_indices,weight,node:Node, cur_depth, is_linear):\n",
    "        \"\"\"\n",
    "        对于当前节点集合（X，y）-node_indices,递归建立决策树\n",
    "        :param X: 所有样本\n",
    "        :param y: 所有标签\n",
    "        :param node_indices : 当前样本集合对应的索引\n",
    "        :param weight : 所有样本对应的权重\n",
    "        :param node : 当前结点的状态记录\n",
    "\n",
    "        \"\"\"\n",
    "        n_samples = len(node_indices)\n",
    "        n_features = X.shape[1]\n",
    "        # 记录本节点的状态\n",
    "        node.gini = self._gini(y[node_indices], weight[node_indices])\n",
    "        node.leaf_class = self._majority_vote(y[node_indices], weight[node_indices])\n",
    "\n",
    "        ## 递归基\n",
    "        # 节点包含数据属于同一个类别，此时无需划分\n",
    "        if len(np.unique(y[node_indices])) <= 1:\n",
    "            # 记录叶子结点所属的分类\n",
    "            node.is_leaf = True\n",
    "            return\n",
    "        # 没有更多特征(当前节点所含样本所有特征都只有一个取值)\n",
    "        if np.sum([len(np.unique(X[node_indices][:,i])) for i in range(n_features)]) == n_features:\n",
    "            node.is_leaf = True\n",
    "            return\n",
    "        # 限制构建子树的深度\n",
    "        if cur_depth >= self.max_depth:\n",
    "            node.is_leaf = True\n",
    "            return\n",
    "        # 限制节点的最小样本量\n",
    "        if n_samples < self.min_sample_split:\n",
    "            node.is_leaf = True\n",
    "            return\n",
    "\n",
    "        ## 处理当前节点自身\n",
    "        # 找到最佳特征和特征的最佳分割点\n",
    "        best_feature_i,best_gini_gain, best_sets = self._get_best_split_feature(X, y, node_indices, weight, is_linear)\n",
    "        \n",
    "        # 基尼系数增益的最小值（gini_gain太小时不划分）\n",
    "        if self.min_gini_decrease is not None and  best_gini_gain < self.min_gini_decrease:\n",
    "            node.is_leaf = True\n",
    "            return\n",
    "        \n",
    "        # 基于最佳特征和最佳分割点分成左右子树left,right\n",
    "        left_indices = best_sets[\"left_indices\"]\n",
    "        right_indices = best_sets[\"right_indices\"]\n",
    "        left_weight = best_sets[\"left_weight\"]\n",
    "        right_weight = best_sets[\"right_weight\"]\n",
    "        # 记录本节点的状态\n",
    "        node.best_feature_i = best_feature_i\n",
    "        node.best_split_point = best_sets[\"best_split_point\"]\n",
    "        node.left_node = Node()\n",
    "        node.right_node = Node()\n",
    "        # --leaf_class和gini在递归基时记录\n",
    "\n",
    "        # 让buildtree()帮忙划分左右子树\n",
    "        self._build_tree_recussive(X,y,left_indices,left_weight, node.left_node, cur_depth+1, is_linear)\n",
    "        self._build_tree_recussive(X,y,right_indices,right_weight, node.right_node, cur_depth+1, is_linear)\n",
    "                                   \n",
    "    def _get_best_split_feature(self,X,y,node_indices,weight, is_linear):\n",
    "        \"\"\"\n",
    "        对于当前节点集合（X，y）-node_indices,找到最佳特征：求所有特征的gini_gain\n",
    "        :param X: 所有样本\n",
    "        :param y: 所有标签\n",
    "        :param node_indices : 当前样本集合对应的索引\n",
    "        :param weight : 所有样本对应的权重\n",
    "        :param is_linear : 特征的类型\n",
    "\n",
    "        \"\"\"\n",
    "\n",
    "        # 获取样本数和特征数\n",
    "        n_samples, n_features = len(node_indices), X.shape[1]\n",
    "        \n",
    "        # 初始化\n",
    "        best_gini_gain = -1\n",
    "        best_feature = None\n",
    "        best_sets = None\n",
    "        \n",
    "        # 依次求所有特征的gini_gain\n",
    "        for feature_i in range(n_features):\n",
    "            # 特征在所有样本中取值唯一时无需找split_point和参与特征划分\n",
    "            if len(np.unique(X[node_indices][:,feature_i])) == 1:\n",
    "                continue\n",
    "                \n",
    "            ## 找出未缺失的样本\n",
    "            nonan_indices = [i  for i in node_indices if ~np.isnan(X[i, feature_i])]\n",
    "            # 找出缺失样本\n",
    "            nan_indices = [i  for i in node_indices if np.isnan(X[i, feature_i])]\n",
    "            # 无缺失值样本所占的比例:对每一个样本赋予了权重后,利用权重计算无缺失样本所占的比例\n",
    "            lou = np.sum(weight[nonan_indices]) / np.sum(weight[node_indices])\n",
    "            \n",
    "            # 特征i的基尼增益以及分割的左右子树\n",
    "            cur_gini_gain,cur_branch_sets = self._get_best_split_point(X,y,nonan_indices, weight,feature_i, is_linear)\n",
    "            # 找到特征i的最佳gini_point后,使用权重计算最终的gini_gain\n",
    "            cur_gini_gain = lou * cur_gini_gain\n",
    "            \n",
    "            # 寻找最佳特征\n",
    "            if cur_gini_gain >= best_gini_gain:\n",
    "                best_gini_gain = cur_gini_gain\n",
    "                best_feature = feature_i\n",
    "                best_sets = cur_branch_sets\n",
    "                # 修改权重\n",
    "                left_weight, right_weight = np.zeros_like(weight),np.zeros_like(weight)\n",
    "                left_indices, right_indices = best_sets[\"left_indices\"], best_sets[\"right_indices\"]\n",
    "                left_weight[left_indices], right_weight[right_indices] = weight[left_indices], weight[right_indices]\n",
    "                left_weight[nan_indices], right_weight[nan_indices] = np.sum(weight[left_indices]) / np.sum(weight[nonan_indices]),np.sum(weight[right_indices]) / np.sum(weight[nonan_indices])\n",
    "\n",
    "                # 将缺失样本按不同的比重放到左右两个子集中\n",
    "                left_indices.extend(nan_indices)\n",
    "                right_indices.extend(nan_indices)\n",
    "                best_sets[\"left_indices\"] = left_indices\n",
    "                best_sets[\"right_indices\"] = right_indices\n",
    "                best_sets[\"left_weight\"] = left_weight\n",
    "                best_sets[\"right_weight\"] = right_weight\n",
    "\n",
    "        # 找到了当前节点所用的最佳特征（也找到了该特征的最佳分割点）\n",
    "        \n",
    "        return best_feature,best_gini_gain, best_sets\n",
    "    \n",
    "    def _get_best_split_point(self,X,y,node_indices, weight, feature_i, is_linear=False):\n",
    "\n",
    "        \"\"\"\n",
    "        对于当前节点集合（X，y）-node_indices计算特征i的基尼增益\n",
    "        :param X: 所有样本\n",
    "        :param y: 所有标签\n",
    "        :param node_indices : 当前样本集合对应的索引(无缺失值)\n",
    "        :param weight: 所有样本的权重\n",
    "        :param is_linear : 特征的类型\n",
    "        :return : 返回特征i的基尼增益以及分割的左右子树\n",
    "\n",
    "        \"\"\"\n",
    "        ## 基于无缺失的样本来寻找特征的最佳切分点\n",
    "        # 当前特征i的所有候选分割点\n",
    "        split_points, split_func = self._create_split_points(X[node_indices], feature_i, is_linear=False)\n",
    "\n",
    "        ## 产生最佳切分点\n",
    "        # 初始化\n",
    "        best_gini_gain = -1# 存储本特征的最佳切分点对应的gini_gain\n",
    "        best_sets = None# 存储最佳切分点切分的左右分支\n",
    "        # 依次使用候选分割点对当前集合（X，y）进行二分分割\n",
    "        for point in split_points:\n",
    "            # 使用每个候选分割点进行二分分割\n",
    "            left_indices = [i for i in node_indices if split_func(X[i],point)]\n",
    "            right_indices = [i for i in node_indices if not split_func(X[i], point)]\n",
    "            # 分好左右分支后计算划分后的gini_gain\n",
    "            # 左右分支的权重计算不再使用频数\n",
    "            w_left, w_right = np.sum(weight[left_indices])/np.sum(weight), np.sum(weight[right_indices])/np.sum(weight)\n",
    "\n",
    "            # 未划分前的gini:使用该属性上无缺失的样本来计算\n",
    "            cur_gini = self._gini(y[node_indices], weight[node_indices])\n",
    "            # 未划分前-划分后==gini_gain\n",
    "            cur_gini_gain = cur_gini - (w_left*self._gini(y[left_indices],weight[left_indices]) + w_right*self._gini(y[right_indices], weight[right_indices]))\n",
    "\n",
    "            # 选择最佳的split point\n",
    "            if cur_gini_gain >= best_gini_gain:\n",
    "                best_gini_gain = cur_gini_gain\n",
    "                # 划分时传给左右子集的weight、indices均不同weigh\n",
    "                # weight在之后再重置\n",
    "                best_sets = {\n",
    "                    \"best_split_point\":point,\n",
    "                    \"left_indices\": left_indices,\n",
    "                    \"right_indices\": right_indices,\n",
    "                }\n",
    "        return best_gini_gain, best_sets\n",
    "    \n",
    "    def _create_split_points(self, X, feature_i, is_linear=False):\n",
    "    \n",
    "        \"\"\"\n",
    "        根据特征i是连续型/离散型特征得到特征i的所有候选分割点,并返回对应的分割函数\n",
    "        :param X: 当前集合的样本（无缺失值）\n",
    "        :param feature_i : 给定的特征索引\n",
    "        :return 特征i的所有候选分割点、分割函数\n",
    "\n",
    "        \"\"\"\n",
    "\n",
    "        # 1、确定特征i的所有可能取值\n",
    "        feature_values = np.unique(X[:, feature_i])# 已排序的 \n",
    "\n",
    "        # 2、根据特征i是连续型/离散型特征对这些可能取值进行处理从而得到特征i的所有候选分割点；    \n",
    "        split_points = None\n",
    "        split_func = None\n",
    "\n",
    "        if is_linear:\n",
    "            split_points = (feature_values[1:] + feature_values[:-1]) / 2 # 特征是连续型特征则使用二分法找到所有的切分点\n",
    "            split_func = lambda x,split_point : x[feature_i] >= split_point\n",
    "\n",
    "        else:\n",
    "            split_points = feature_values# 离散型特征直接使用特征的各个取值作为切分点\n",
    "            split_func = lambda x,split_point : x[feature_i] == split_point\n",
    "        return split_points, split_func\n",
    "    \n",
    "     \n",
    "    \n",
    "    def _gini(self,y, weight):\n",
    "        \n",
    "        \"\"\"\n",
    "        计算当前样本集合的gini指数\n",
    "        :param y : 当前集合对应的标签\n",
    "        :param weight : 当前样本集合对应的权重\n",
    "\n",
    "        \"\"\"\n",
    "        # 找出y中包含的所有类别\n",
    "        unique_y = np.unique(y)\n",
    "        weight_sum = np.sum(weight)\n",
    "        # 1.计算p_k:计算无缺失样本中第k类所占的比例\n",
    "        p_k = [np.sum(weight[np.where(y==k)])/ weight_sum for k in unique_y ]\n",
    "        # 2.计算gini\n",
    "        gini = np.sum([-p * np.log2(p) for p in p_k])\n",
    "        return gini\n",
    "    def _majority_vote(self, y,weight):\n",
    "        \"\"\"\n",
    "        根据多数原则定叶子节点所属的分类\n",
    "        :param y : 当前集合对应的标签\n",
    "        :param weight : 前集合对应的权重\n",
    "        :return most_common_class叶子节点所属的分类\n",
    "        \"\"\"\n",
    "        most_common_class = None\n",
    "        max_distribution = 0\n",
    "        for k in np.unique(y): \n",
    "            distribution = np.sum(weight[y==k])\n",
    "            if distribution >= max_distribution:\n",
    "                max_distribution = distribution\n",
    "                most_common_class = k\n",
    "        return most_common_class\n",
    "    \n",
    "    def prune(self, alpha=0):\n",
    "        \"\"\"对决策树进行后剪枝\"\"\"\n",
    "        return self._pruning_node(self.root_node, alpha)\n",
    "        \n",
    "    def _pruning_node(self, node,alpha):\n",
    "        \"\"\"\n",
    "        :param node : 当前处理的节点\n",
    "        :param alpha: loss的参数，alpha≥0\n",
    "\n",
    "        \"\"\"\n",
    "        ## 递归基:当前节点是叶子节点则直接返回\n",
    "        if node.is_leaf:\n",
    "            return \n",
    "        ## 让递归函数帮忙处理左右子树\n",
    "        self._pruning_node(node.left_node, alpha)\n",
    "        self._pruning_node(node.right_node, alpha)\n",
    "\n",
    "        ## 处理当前节点\n",
    "        # 剪枝后\n",
    "        post_loss = node.gini + alpha * 1 \n",
    "        # 剪枝前\n",
    "        pre_loss = node.left_node.gini + node.right_node.gini + alpha * 2\n",
    "        # 比较剪枝前的loss与剪枝后的loss\n",
    "        if post_loss < pre_loss: # 剪枝后loss更小则剪枝（收回左右结点）\n",
    "            node.left_node = None\n",
    "            node.right_node = None\n",
    "            node.best_feature_i = None\n",
    "            node.best_split_point = None\n",
    "            node.is_leaf = True\n",
    "    \n",
    "    def predict(self,X,is_linear=False):\n",
    "        \"\"\"\n",
    "        :param X: 待预测的m个样本\n",
    "\n",
    "        \"\"\"\n",
    "        # 每一个样本都通过二叉搜索决策树树查找所属类别,决策树由其根节点作为代表\n",
    "        y_pred = [self._search_class(x, self.root_node, is_linear) for x in X]\n",
    "        return y_pred\n",
    "\n",
    "    def _search_class(self, x, node:Node, is_linear=False):\n",
    "        \"\"\"\n",
    "        : param x: 待预测所属分类的样本\n",
    "        : param node : 当前所在节点\n",
    "\n",
    "        \"\"\"\n",
    "\n",
    "\n",
    "        # 递归基\n",
    "        if node.is_leaf:# 已经走到叶子\n",
    "            return node.leaf_class\n",
    "        ## 当前节点的工作\n",
    "        # 本样本最终要往哪个分支走\n",
    "        goto = None\n",
    "        # 根据当前节点的最佳特征及最佳切分点决定x是继续往左边走还是往右边走\n",
    "        feature_value = x[node.best_feature_i]\n",
    "        # 离散型/连续型特征处理不同\n",
    "        if is_linear:\n",
    "            if feature_value >= node.best_split_point:\n",
    "                goto = node.left_node# 往左边\n",
    "            else:\n",
    "                goto = node.right_node#往右边\n",
    "        else:\n",
    "            if feature_value == node.best_split_point:\n",
    "                goto = node.left_node# 往左边\n",
    "            else:\n",
    "                goto = node.right_node\n",
    "        return self._search_class(x, goto, is_linear)\n",
    "        \n",
    "    \n",
    "\n",
    "    "
   ]
  },
  {
   "cell_type": "code",
   "execution_count": 51,
   "id": "b823f62d",
   "metadata": {
    "ExecuteTime": {
     "end_time": "2022-08-23T04:55:46.689907Z",
     "start_time": "2022-08-23T04:55:46.659112Z"
    }
   },
   "outputs": [],
   "source": [
    "X = np.array([\n",
    "       [np.nan, 1, 1, 1, 1, 1],\n",
    "       [1, 1, 2, 1, 1, np.nan],\n",
    "       [1, 1, np.nan, 1, 1, 1],\n",
    "       [2, 1, 2, 1, 1, 1],\n",
    "       [np.nan, 1, 1, 1, 1, 1],\n",
    "       [2, 2, 1, 1, np.nan, 2],\n",
    "       [1, 2, 1, 2, 2, 2],\n",
    "       [1, 2, 1, np.nan, 2, 1],\n",
    "       [1, np.nan, 2, 2, 2, 1],\n",
    "       [2, 3, 3, np.nan, 3, 2],\n",
    "       [3, 3, 3, 3, 3, np.nan],\n",
    "       [3, 1, np.nan, 3, 3, 2],\n",
    "       [np.nan, 2, 1, 2, 1, 1],\n",
    "       [3, 2, 2, 2, 1, 1],\n",
    "       [1, 2, 1, 1, np.nan, 2],\n",
    "       [3, 1, 1, 3, 3, 1],\n",
    "       [2, np.nan, 2, 2, 2, 1]])\n",
    "y = np.array([1, 1, 1, 1, 1, 1, 1, 1, 0, 0, 0, 0, 0, 0, 0, 0, 0])\n",
    "model = CartDecisionTree()\n",
    "model.fit(X,y)"
   ]
  },
  {
   "cell_type": "code",
   "execution_count": 52,
   "id": "ec83bf82",
   "metadata": {
    "ExecuteTime": {
     "end_time": "2022-08-23T04:55:49.277654Z",
     "start_time": "2022-08-23T04:55:49.265638Z"
    }
   },
   "outputs": [],
   "source": [
    "y_pred = model.predict(X)"
   ]
  },
  {
   "cell_type": "code",
   "execution_count": 53,
   "id": "f77ba3ed",
   "metadata": {
    "ExecuteTime": {
     "end_time": "2022-08-23T04:55:51.567830Z",
     "start_time": "2022-08-23T04:55:51.554397Z"
    }
   },
   "outputs": [],
   "source": [
    "def accuracy(y_pred, y_true):\n",
    "    return np.sum(y_pred == y_true) / len(y_pred)"
   ]
  },
  {
   "cell_type": "code",
   "execution_count": 54,
   "id": "9ccd4907",
   "metadata": {
    "ExecuteTime": {
     "end_time": "2022-08-23T04:55:53.736068Z",
     "start_time": "2022-08-23T04:55:53.729431Z"
    }
   },
   "outputs": [
    {
     "data": {
      "text/plain": [
       "1.0"
      ]
     },
     "execution_count": 54,
     "metadata": {},
     "output_type": "execute_result"
    }
   ],
   "source": [
    "accuracy(y_pred, y)"
   ]
  },
  {
   "cell_type": "code",
   "execution_count": 63,
   "id": "6792f37c",
   "metadata": {
    "ExecuteTime": {
     "end_time": "2022-08-23T08:38:48.368110Z",
     "start_time": "2022-08-23T08:38:48.360791Z"
    }
   },
   "outputs": [],
   "source": [
    "from sklearn.model_selection import train_test_split\n",
    "from sklearn.datasets import load_iris\n",
    "data = load_iris()\n",
    "X,y = data.data, data.target\n",
    "X_train,test_X,y_train,test_y = train_test_split(X,y,test_size=0.3)"
   ]
  },
  {
   "cell_type": "code",
   "execution_count": 64,
   "id": "c2fa843e",
   "metadata": {
    "ExecuteTime": {
     "end_time": "2022-08-23T08:38:50.714587Z",
     "start_time": "2022-08-23T08:38:50.507324Z"
    }
   },
   "outputs": [
    {
     "data": {
      "text/plain": [
       "0.37777777777777777"
      ]
     },
     "execution_count": 64,
     "metadata": {},
     "output_type": "execute_result"
    }
   ],
   "source": [
    "# 不输入参数——不进行预剪枝\n",
    "model = CartDecisionTree()\n",
    "model.fit(X_train, y_train, is_linear=True)\n",
    "y_pred = model.predict(test_X, is_linear=True)\n",
    "\n",
    "accuracy(y_pred, test_y)"
   ]
  },
  {
   "cell_type": "code",
   "execution_count": 61,
   "id": "517992c5",
   "metadata": {
    "ExecuteTime": {
     "end_time": "2022-08-23T08:38:32.204600Z",
     "start_time": "2022-08-23T08:38:32.152491Z"
    }
   },
   "outputs": [
    {
     "data": {
      "text/plain": [
       "0.4"
      ]
     },
     "execution_count": 61,
     "metadata": {},
     "output_type": "execute_result"
    }
   ],
   "source": [
    "# 输入参数——预剪枝\n",
    "model = CartDecisionTree(max_depth=7, min_sample_split=4, min_gini_decrease=0.2)\n",
    "model.fit(X_train,y_train, is_linear=True)\n",
    "y_pred = model.predict(test_X, is_linear=True)\n",
    "accuracy(y_pred,test_y)"
   ]
  },
  {
   "cell_type": "code",
   "execution_count": 58,
   "id": "8623343c",
   "metadata": {
    "ExecuteTime": {
     "end_time": "2022-08-23T04:56:02.597270Z",
     "start_time": "2022-08-23T04:56:02.579594Z"
    }
   },
   "outputs": [
    {
     "data": {
      "text/plain": [
       "0.5333333333333333"
      ]
     },
     "execution_count": 58,
     "metadata": {},
     "output_type": "execute_result"
    }
   ],
   "source": [
    "model.prune(1e-10)\n",
    "y_pred = model.predict(test_X)\n",
    "accuracy(y_pred,test_y)"
   ]
  }
 ],
 "metadata": {
  "kernelspec": {
   "display_name": "Python 3 (ipykernel)",
   "language": "python",
   "name": "python3"
  },
  "language_info": {
   "codemirror_mode": {
    "name": "ipython",
    "version": 3
   },
   "file_extension": ".py",
   "mimetype": "text/x-python",
   "name": "python",
   "nbconvert_exporter": "python",
   "pygments_lexer": "ipython3",
   "version": "3.9.7"
  },
  "toc": {
   "base_numbering": 1,
   "nav_menu": {},
   "number_sections": true,
   "sideBar": true,
   "skip_h1_title": false,
   "title_cell": "Table of Contents",
   "title_sidebar": "Contents",
   "toc_cell": false,
   "toc_position": {},
   "toc_section_display": true,
   "toc_window_display": false
  },
  "varInspector": {
   "cols": {
    "lenName": 16,
    "lenType": 16,
    "lenVar": 40
   },
   "kernels_config": {
    "python": {
     "delete_cmd_postfix": "",
     "delete_cmd_prefix": "del ",
     "library": "var_list.py",
     "varRefreshCmd": "print(var_dic_list())"
    },
    "r": {
     "delete_cmd_postfix": ") ",
     "delete_cmd_prefix": "rm(",
     "library": "var_list.r",
     "varRefreshCmd": "cat(var_dic_list()) "
    }
   },
   "types_to_exclude": [
    "module",
    "function",
    "builtin_function_or_method",
    "instance",
    "_Feature"
   ],
   "window_display": false
  }
 },
 "nbformat": 4,
 "nbformat_minor": 5
}
