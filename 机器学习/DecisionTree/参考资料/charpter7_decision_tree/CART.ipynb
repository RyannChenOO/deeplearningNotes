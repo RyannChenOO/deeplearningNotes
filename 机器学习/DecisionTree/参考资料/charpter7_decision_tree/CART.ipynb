{
 "cells": [
  {
   "cell_type": "markdown",
   "metadata": {},
   "source": [
    "### CART"
   ]
  },
  {
   "cell_type": "code",
   "execution_count": 1,
   "metadata": {
    "ExecuteTime": {
     "end_time": "2022-08-09T07:21:24.903995Z",
     "start_time": "2022-08-09T07:21:24.455335Z"
    }
   },
   "outputs": [],
   "source": [
    "import numpy as np\n",
    "from sklearn.model_selection import train_test_split\n",
    "from sklearn.metrics import accuracy_score, mean_squared_error\n",
    "from utils import feature_split, calculate_gini"
   ]
  },
  {
   "cell_type": "code",
   "execution_count": 2,
   "metadata": {
    "ExecuteTime": {
     "end_time": "2022-08-09T07:21:24.919736Z",
     "start_time": "2022-08-09T07:21:24.904964Z"
    }
   },
   "outputs": [],
   "source": [
    "### 定义树结点\n",
    "class TreeNode():\n",
    "    def __init__(self, feature_i=None, threshold=None,\n",
    "                 leaf_value=None, left_branch=None, right_branch=None):\n",
    "        # 特征索引\n",
    "        self.feature_i = feature_i          \n",
    "        # 特征划分阈值\n",
    "        self.threshold = threshold \n",
    "        # 叶子节点取值\n",
    "        self.leaf_value = leaf_value   \n",
    "        # 左子树\n",
    "        self.left_branch = left_branch     \n",
    "        # 右子树\n",
    "        self.right_branch = right_branch    "
   ]
  },
  {
   "cell_type": "code",
   "execution_count": 3,
   "metadata": {
    "ExecuteTime": {
     "end_time": "2022-08-09T07:21:24.935630Z",
     "start_time": "2022-08-09T07:21:24.921320Z"
    }
   },
   "outputs": [],
   "source": [
    "### 定义二叉决策树\n",
    "class BinaryDecisionTree(object):\n",
    "    ### 决策树初始参数\n",
    "    def __init__(self, min_samples_split=2, min_gini_impurity=999,\n",
    "                 max_depth=float(\"inf\"), loss=None):\n",
    "        # 根结点\n",
    "        self.root = None  \n",
    "        # 节点最小分裂样本数\n",
    "        self.min_samples_split = min_samples_split\n",
    "        # 节点初始化基尼不纯度\n",
    "        self.mini_gini_impurity = min_gini_impurity\n",
    "        # 树最大深度\n",
    "        self.max_depth = max_depth\n",
    "        # 基尼不纯度计算函数\n",
    "        self.gini_impurity_calculation = None\n",
    "        # 叶子节点值预测函数\n",
    "        self._leaf_value_calculation = None\n",
    "        # 损失函数\n",
    "        self.loss = loss\n",
    "\n",
    "    ### 决策树拟合函数\n",
    "    def fit(self, X, y, loss=None):\n",
    "        # 递归构建决策树\n",
    "        self.root = self._build_tree(X, y)\n",
    "        self.loss=None\n",
    "\n",
    "    ### 决策树构建函数\n",
    "    def _build_tree(self, X, y, current_depth=0):\n",
    "        # 初始化最小基尼不纯度\n",
    "        init_gini_impurity = 999\n",
    "        # 初始化最佳特征索引和阈值\n",
    "        best_criteria = None    \n",
    "        # 初始化数据子集\n",
    "        best_sets = None        \n",
    "\n",
    "        # 合并输入和标签\n",
    "        Xy = np.concatenate((X, y), axis=1)\n",
    "        # 获取样本数和特征数\n",
    "        n_samples, n_features = X.shape\n",
    "        # 设定决策树构建条件\n",
    "        # 训练样本数量大于节点最小分裂样本数且当前树深度小于最大深度\n",
    "        if n_samples >= self.min_samples_split and current_depth <= self.max_depth:\n",
    "            # 遍历计算每个特征的基尼不纯度\n",
    "            for feature_i in range(n_features):\n",
    "                # 获取第i特征的所有取值\n",
    "                feature_values = np.expand_dims(X[:, feature_i], axis=1)\n",
    "                # 获取第i个特征的唯一取值\n",
    "                unique_values = np.unique(feature_values)\n",
    "\n",
    "                # 遍历取值并寻找最佳特征分裂阈值\n",
    "                for threshold in unique_values:\n",
    "                    # 特征节点二叉分裂\n",
    "                    Xy1, Xy2 = feature_split(Xy, feature_i, threshold)\n",
    "                    # 如果分裂后的子集大小都不为0\n",
    "                    if len(Xy1) > 0 and len(Xy2) > 0:\n",
    "                        # 获取两个子集的标签值\n",
    "                        y1 = Xy1[:, n_features:]\n",
    "                        y2 = Xy2[:, n_features:]\n",
    "\n",
    "                        # 计算基尼不纯度\n",
    "                        impurity = self.impurity_calculation(y, y1, y2)\n",
    "\n",
    "                        # 获取最小基尼不纯度\n",
    "                        # 最佳特征索引和分裂阈值\n",
    "                        if impurity < init_gini_impurity:\n",
    "                            init_gini_impurity = impurity\n",
    "                            best_criteria = {\"feature_i\": feature_i, \"threshold\": threshold}\n",
    "                            best_sets = {\n",
    "                                \"leftX\": Xy1[:, :n_features],   \n",
    "                                \"lefty\": Xy1[:, n_features:],   \n",
    "                                \"rightX\": Xy2[:, :n_features],  \n",
    "                                \"righty\": Xy2[:, n_features:]   \n",
    "                                }\n",
    "        \n",
    "        # 如果计算的最小不纯度小于设定的最小不纯度\n",
    "        if init_gini_impurity < self.mini_gini_impurity:\n",
    "            # 分别构建左右子树\n",
    "            left_branch = self._build_tree(best_sets[\"leftX\"], best_sets[\"lefty\"], current_depth + 1)\n",
    "            right_branch = self._build_tree(best_sets[\"rightX\"], best_sets[\"righty\"], current_depth + 1)\n",
    "            return TreeNode(feature_i=best_criteria[\"feature_i\"], threshold=best_criteria[\n",
    "                                \"threshold\"], left_branch=left_branch, right_branch=right_branch)\n",
    "\n",
    "        # 计算叶子计算取值\n",
    "        leaf_value = self._leaf_value_calculation(y)\n",
    "\n",
    "        return TreeNode(leaf_value=leaf_value)\n",
    "\n",
    "    ### 定义二叉树值预测函数\n",
    "    def predict_value(self, x, tree=None):\n",
    "        if tree is None:# 第一个样本进来时\n",
    "            tree = self.root\n",
    "\n",
    "        # 如果叶子节点已有值，则直接返回已有值\n",
    "        if tree.leaf_value is not None:\n",
    "            return tree.leaf_value\n",
    "\n",
    "        # 选择特征并获取特征值\n",
    "        feature_value = x[tree.feature_i]\n",
    "\n",
    "        # 判断落入左子树还是右子树\n",
    "        branch = tree.right_branch\n",
    "        if isinstance(feature_value, int) or isinstance(feature_value, float):\n",
    "            if feature_value >= tree.threshold:\n",
    "                branch = tree.left_branch\n",
    "        elif feature_value == tree.threshold:\n",
    "            branch = tree.left_branch\n",
    "\n",
    "        # 测试子集\n",
    "        return self.predict_value(x, branch)\n",
    "\n",
    "    ### 数据集预测函数\n",
    "    def predict(self, X):\n",
    "        y_pred = [self.predict_value(sample) for sample in X]\n",
    "        return y_pred"
   ]
  },
  {
   "cell_type": "code",
   "execution_count": 4,
   "metadata": {
    "ExecuteTime": {
     "end_time": "2022-08-09T07:21:24.950739Z",
     "start_time": "2022-08-09T07:21:24.937656Z"
    }
   },
   "outputs": [],
   "source": [
    "### CART回归树\n",
    "class RegressionTree(BinaryDecisionTree):\n",
    "    def _calculate_variance_reduction(self, y, y1, y2):\n",
    "        var_tot = np.var(y, axis=0)\n",
    "        var_y1 = np.var(y1, axis=0)\n",
    "        var_y2 = np.var(y2, axis=0)\n",
    "        frac_1 = len(y1) / len(y)\n",
    "        frac_2 = len(y2) / len(y)\n",
    "        # 计算方差减少量\n",
    "        variance_reduction = var_tot - (frac_1 * var_y1 + frac_2 * var_y2)\n",
    "        \n",
    "        return sum(variance_reduction)\n",
    "\n",
    "    # 节点值取平均\n",
    "    def _mean_of_y(self, y):\n",
    "        value = np.mean(y, axis=0)\n",
    "        return value if len(value) > 1 else value[0]\n",
    "\n",
    "    def fit(self, X, y):\n",
    "        self.impurity_calculation = self._calculate_variance_reduction\n",
    "        self._leaf_value_calculation = self._mean_of_y\n",
    "        super(RegressionTree, self).fit(X, y)"
   ]
  },
  {
   "cell_type": "code",
   "execution_count": 5,
   "metadata": {
    "ExecuteTime": {
     "end_time": "2022-08-09T07:21:24.965969Z",
     "start_time": "2022-08-09T07:21:24.951975Z"
    }
   },
   "outputs": [],
   "source": [
    "### CART决策树\n",
    "class ClassificationTree(BinaryDecisionTree):\n",
    "    ### 定义基尼不纯度计算过程\n",
    "    def _calculate_gini_impurity(self, y, y1, y2):\n",
    "        p = len(y1) / len(y)\n",
    "        gini = calculate_gini(y)\n",
    "        gini_impurity = p * calculate_gini(y1) + (1-p) * calculate_gini(y2)\n",
    "        return gini_impurity\n",
    "    \n",
    "    ### 多数投票\n",
    "    def _majority_vote(self, y):\n",
    "        most_common = None\n",
    "        max_count = 0\n",
    "        for label in np.unique(y):\n",
    "            # 统计多数\n",
    "            count = len(y[y == label])\n",
    "            if count > max_count:\n",
    "                most_common = label\n",
    "                max_count = count\n",
    "        return most_common\n",
    "    \n",
    "    # 分类树拟合\n",
    "    def fit(self, X, y):\n",
    "        self.impurity_calculation = self._calculate_gini_impurity\n",
    "        self._leaf_value_calculation = self._majority_vote\n",
    "        super(ClassificationTree, self).fit(X, y)"
   ]
  },
  {
   "cell_type": "code",
   "execution_count": 6,
   "metadata": {
    "ExecuteTime": {
     "end_time": "2022-08-09T07:21:25.402603Z",
     "start_time": "2022-08-09T07:21:24.968042Z"
    }
   },
   "outputs": [
    {
     "name": "stderr",
     "output_type": "stream",
     "text": [
      "d:\\yangdaopy\\pycharm\\pythondownload\\pythonproject\\机器学习\\DecisionTree\\charpter7_decision_tree\\utils.py:14: VisibleDeprecationWarning: Creating an ndarray from ragged nested sequences (which is a list-or-tuple of lists-or-tuples-or ndarrays with different lengths or shapes) is deprecated. If you meant to do this, you must specify 'dtype=object' when creating the ndarray.\n",
      "  return np.array([X_left, X_right])\n"
     ]
    },
    {
     "name": "stdout",
     "output_type": "stream",
     "text": [
      "1.0\n"
     ]
    }
   ],
   "source": [
    "from sklearn import datasets\n",
    "data = datasets.load_iris()\n",
    "X, y = data.data, data.target\n",
    "y = y.reshape(-1,1)\n",
    "X_train, X_test, y_train, y_test = train_test_split(X, y.reshape(-1,1), test_size=0.3)\n",
    "clf = ClassificationTree()\n",
    "clf.fit(X_train, y_train)\n",
    "y_pred = clf.predict(X_test)\n",
    "\n",
    "print(accuracy_score(y_test, y_pred))"
   ]
  },
  {
   "cell_type": "code",
   "execution_count": 7,
   "metadata": {
    "ExecuteTime": {
     "end_time": "2022-08-09T07:21:25.790688Z",
     "start_time": "2022-08-09T07:21:25.404523Z"
    }
   },
   "outputs": [
    {
     "name": "stdout",
     "output_type": "stream",
     "text": [
      "1.0\n"
     ]
    }
   ],
   "source": [
    "from sklearn.tree import DecisionTreeClassifier\n",
    "clf = DecisionTreeClassifier()\n",
    "clf.fit(X_train, y_train)\n",
    "y_pred = clf.predict(X_test)\n",
    "\n",
    "print(accuracy_score(y_test, y_pred))"
   ]
  },
  {
   "cell_type": "code",
   "execution_count": 8,
   "metadata": {
    "ExecuteTime": {
     "end_time": "2022-08-09T07:21:25.868659Z",
     "start_time": "2022-08-09T07:21:25.791984Z"
    }
   },
   "outputs": [
    {
     "name": "stderr",
     "output_type": "stream",
     "text": [
      "D:\\yangdaopy\\Pycharm\\pythondownload\\lib\\site-packages\\sklearn\\utils\\deprecation.py:87: FutureWarning: Function load_boston is deprecated; `load_boston` is deprecated in 1.0 and will be removed in 1.2.\n",
      "\n",
      "    The Boston housing prices dataset has an ethical problem. You can refer to\n",
      "    the documentation of this function for further details.\n",
      "\n",
      "    The scikit-learn maintainers therefore strongly discourage the use of this\n",
      "    dataset unless the purpose of the code is to study and educate about\n",
      "    ethical issues in data science and machine learning.\n",
      "\n",
      "    In this special case, you can fetch the dataset from the original\n",
      "    source::\n",
      "\n",
      "        import pandas as pd\n",
      "        import numpy as np\n",
      "\n",
      "\n",
      "        data_url = \"http://lib.stat.cmu.edu/datasets/boston\"\n",
      "        raw_df = pd.read_csv(data_url, sep=\"\\s+\", skiprows=22, header=None)\n",
      "        data = np.hstack([raw_df.values[::2, :], raw_df.values[1::2, :2]])\n",
      "        target = raw_df.values[1::2, 2]\n",
      "\n",
      "    Alternative datasets include the California housing dataset (i.e.\n",
      "    :func:`~sklearn.datasets.fetch_california_housing`) and the Ames housing\n",
      "    dataset. You can load the datasets as follows::\n",
      "\n",
      "        from sklearn.datasets import fetch_california_housing\n",
      "        housing = fetch_california_housing()\n",
      "\n",
      "    for the California housing dataset and::\n",
      "\n",
      "        from sklearn.datasets import fetch_openml\n",
      "        housing = fetch_openml(name=\"house_prices\", as_frame=True)\n",
      "\n",
      "    for the Ames housing dataset.\n",
      "    \n",
      "  warnings.warn(msg, category=FutureWarning)\n"
     ]
    },
    {
     "ename": "ValueError",
     "evalue": "all the input arrays must have same number of dimensions, but the array at index 0 has 2 dimension(s) and the array at index 1 has 1 dimension(s)",
     "output_type": "error",
     "traceback": [
      "\u001b[1;31m---------------------------------------------------------------------------\u001b[0m",
      "\u001b[1;31mValueError\u001b[0m                                Traceback (most recent call last)",
      "Input \u001b[1;32mIn [8]\u001b[0m, in \u001b[0;36m<cell line: 5>\u001b[1;34m()\u001b[0m\n\u001b[0;32m      3\u001b[0m X_train, X_test, y_train, y_test \u001b[38;5;241m=\u001b[39m train_test_split(X, y, test_size\u001b[38;5;241m=\u001b[39m\u001b[38;5;241m0.3\u001b[39m)\n\u001b[0;32m      4\u001b[0m model \u001b[38;5;241m=\u001b[39m RegressionTree()\n\u001b[1;32m----> 5\u001b[0m \u001b[43mmodel\u001b[49m\u001b[38;5;241;43m.\u001b[39;49m\u001b[43mfit\u001b[49m\u001b[43m(\u001b[49m\u001b[43mX_train\u001b[49m\u001b[43m,\u001b[49m\u001b[43m \u001b[49m\u001b[43my_train\u001b[49m\u001b[43m)\u001b[49m\n\u001b[0;32m      6\u001b[0m y_pred \u001b[38;5;241m=\u001b[39m model\u001b[38;5;241m.\u001b[39mpredict(X_test)\n\u001b[0;32m      7\u001b[0m mse \u001b[38;5;241m=\u001b[39m mean_squared_error(y_test, y_pred)\n",
      "Input \u001b[1;32mIn [4]\u001b[0m, in \u001b[0;36mRegressionTree.fit\u001b[1;34m(self, X, y)\u001b[0m\n\u001b[0;32m     20\u001b[0m \u001b[38;5;28mself\u001b[39m\u001b[38;5;241m.\u001b[39mimpurity_calculation \u001b[38;5;241m=\u001b[39m \u001b[38;5;28mself\u001b[39m\u001b[38;5;241m.\u001b[39m_calculate_variance_reduction\n\u001b[0;32m     21\u001b[0m \u001b[38;5;28mself\u001b[39m\u001b[38;5;241m.\u001b[39m_leaf_value_calculation \u001b[38;5;241m=\u001b[39m \u001b[38;5;28mself\u001b[39m\u001b[38;5;241m.\u001b[39m_mean_of_y\n\u001b[1;32m---> 22\u001b[0m \u001b[38;5;28;43msuper\u001b[39;49m\u001b[43m(\u001b[49m\u001b[43mRegressionTree\u001b[49m\u001b[43m,\u001b[49m\u001b[43m \u001b[49m\u001b[38;5;28;43mself\u001b[39;49m\u001b[43m)\u001b[49m\u001b[38;5;241;43m.\u001b[39;49m\u001b[43mfit\u001b[49m\u001b[43m(\u001b[49m\u001b[43mX\u001b[49m\u001b[43m,\u001b[49m\u001b[43m \u001b[49m\u001b[43my\u001b[49m\u001b[43m)\u001b[49m\n",
      "Input \u001b[1;32mIn [3]\u001b[0m, in \u001b[0;36mBinaryDecisionTree.fit\u001b[1;34m(self, X, y, loss)\u001b[0m\n\u001b[0;32m     22\u001b[0m \u001b[38;5;28;01mdef\u001b[39;00m \u001b[38;5;21mfit\u001b[39m(\u001b[38;5;28mself\u001b[39m, X, y, loss\u001b[38;5;241m=\u001b[39m\u001b[38;5;28;01mNone\u001b[39;00m):\n\u001b[0;32m     23\u001b[0m     \u001b[38;5;66;03m# 递归构建决策树\u001b[39;00m\n\u001b[1;32m---> 24\u001b[0m     \u001b[38;5;28mself\u001b[39m\u001b[38;5;241m.\u001b[39mroot \u001b[38;5;241m=\u001b[39m \u001b[38;5;28;43mself\u001b[39;49m\u001b[38;5;241;43m.\u001b[39;49m\u001b[43m_build_tree\u001b[49m\u001b[43m(\u001b[49m\u001b[43mX\u001b[49m\u001b[43m,\u001b[49m\u001b[43m \u001b[49m\u001b[43my\u001b[49m\u001b[43m)\u001b[49m\n\u001b[0;32m     25\u001b[0m     \u001b[38;5;28mself\u001b[39m\u001b[38;5;241m.\u001b[39mloss\u001b[38;5;241m=\u001b[39m\u001b[38;5;28;01mNone\u001b[39;00m\n",
      "Input \u001b[1;32mIn [3]\u001b[0m, in \u001b[0;36mBinaryDecisionTree._build_tree\u001b[1;34m(self, X, y, current_depth)\u001b[0m\n\u001b[0;32m     34\u001b[0m best_sets \u001b[38;5;241m=\u001b[39m \u001b[38;5;28;01mNone\u001b[39;00m        \n\u001b[0;32m     36\u001b[0m \u001b[38;5;66;03m# 合并输入和标签\u001b[39;00m\n\u001b[1;32m---> 37\u001b[0m Xy \u001b[38;5;241m=\u001b[39m \u001b[43mnp\u001b[49m\u001b[38;5;241;43m.\u001b[39;49m\u001b[43mconcatenate\u001b[49m\u001b[43m(\u001b[49m\u001b[43m(\u001b[49m\u001b[43mX\u001b[49m\u001b[43m,\u001b[49m\u001b[43m \u001b[49m\u001b[43my\u001b[49m\u001b[43m)\u001b[49m\u001b[43m,\u001b[49m\u001b[43m \u001b[49m\u001b[43maxis\u001b[49m\u001b[38;5;241;43m=\u001b[39;49m\u001b[38;5;241;43m1\u001b[39;49m\u001b[43m)\u001b[49m\n\u001b[0;32m     38\u001b[0m \u001b[38;5;66;03m# 获取样本数和特征数\u001b[39;00m\n\u001b[0;32m     39\u001b[0m n_samples, n_features \u001b[38;5;241m=\u001b[39m X\u001b[38;5;241m.\u001b[39mshape\n",
      "File \u001b[1;32m<__array_function__ internals>:180\u001b[0m, in \u001b[0;36mconcatenate\u001b[1;34m(*args, **kwargs)\u001b[0m\n",
      "\u001b[1;31mValueError\u001b[0m: all the input arrays must have same number of dimensions, but the array at index 0 has 2 dimension(s) and the array at index 1 has 1 dimension(s)"
     ]
    }
   ],
   "source": [
    "from sklearn.datasets import load_boston\n",
    "X, y = load_boston(return_X_y=True)\n",
    "X_train, X_test, y_train, y_test = train_test_split(X, y, test_size=0.3)\n",
    "model = RegressionTree()\n",
    "model.fit(X_train, y_train)\n",
    "y_pred = model.predict(X_test)\n",
    "mse = mean_squared_error(y_test, y_pred)\n",
    "\n",
    "print(\"Mean Squared Error:\", mse)"
   ]
  },
  {
   "cell_type": "code",
   "execution_count": null,
   "metadata": {},
   "outputs": [],
   "source": []
  },
  {
   "cell_type": "code",
   "execution_count": null,
   "metadata": {
    "ExecuteTime": {
     "end_time": "2022-08-09T07:21:25.870839Z",
     "start_time": "2022-08-09T07:21:25.870839Z"
    }
   },
   "outputs": [],
   "source": [
    "from sklearn.tree import DecisionTreeRegressor\n",
    "reg = DecisionTreeRegressor()\n",
    "reg.fit(X_train, y_train)\n",
    "y_pred = reg.predict(X_test)\n",
    "mse = mean_squared_error(y_test, y_pred)\n",
    "\n",
    "print(\"Mean Squared Error:\", mse)"
   ]
  },
  {
   "cell_type": "code",
   "execution_count": null,
   "metadata": {},
   "outputs": [],
   "source": []
  }
 ],
 "metadata": {
  "kernelspec": {
   "display_name": "Python 3 (ipykernel)",
   "language": "python",
   "name": "python3"
  },
  "language_info": {
   "codemirror_mode": {
    "name": "ipython",
    "version": 3
   },
   "file_extension": ".py",
   "mimetype": "text/x-python",
   "name": "python",
   "nbconvert_exporter": "python",
   "pygments_lexer": "ipython3",
   "version": "3.9.7"
  },
  "toc": {
   "base_numbering": 1,
   "nav_menu": {},
   "number_sections": true,
   "sideBar": true,
   "skip_h1_title": false,
   "title_cell": "Table of Contents",
   "title_sidebar": "Contents",
   "toc_cell": false,
   "toc_position": {},
   "toc_section_display": true,
   "toc_window_display": false
  },
  "varInspector": {
   "cols": {
    "lenName": 16,
    "lenType": 16,
    "lenVar": 40
   },
   "kernels_config": {
    "python": {
     "delete_cmd_postfix": "",
     "delete_cmd_prefix": "del ",
     "library": "var_list.py",
     "varRefreshCmd": "print(var_dic_list())"
    },
    "r": {
     "delete_cmd_postfix": ") ",
     "delete_cmd_prefix": "rm(",
     "library": "var_list.r",
     "varRefreshCmd": "cat(var_dic_list()) "
    }
   },
   "types_to_exclude": [
    "module",
    "function",
    "builtin_function_or_method",
    "instance",
    "_Feature"
   ],
   "window_display": false
  }
 },
 "nbformat": 4,
 "nbformat_minor": 2
}
