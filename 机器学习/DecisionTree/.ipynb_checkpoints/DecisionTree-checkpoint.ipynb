{
 "cells": [
  {
   "cell_type": "code",
   "execution_count": 1,
   "id": "0e56fc80",
   "metadata": {
    "ExecuteTime": {
     "end_time": "2022-08-10T01:41:08.825100Z",
     "start_time": "2022-08-10T01:41:02.424796Z"
    }
   },
   "outputs": [],
   "source": [
    "import numpy as np\n",
    "import pandas as pd\n",
    "import matplotlib.pyplot as plt\n",
    "import seaborn as sns\n",
    "from sklearn.tree import DecisionTreeClassifier\n",
    "from sklearn.datasets import load_iris\n",
    "from sklearn.model_selection import train_test_split\n",
    "from sklearn import tree"
   ]
  },
  {
   "cell_type": "markdown",
   "id": "5da0be0a",
   "metadata": {},
   "source": [
    "# sklearn-鸢尾花（iris）数据集"
   ]
  },
  {
   "cell_type": "markdown",
   "id": "e51c6ab2",
   "metadata": {},
   "source": [
    "## 加载数据集"
   ]
  },
  {
   "cell_type": "markdown",
   "id": "f5581341",
   "metadata": {},
   "source": [
    " iris数据集\n",
    "\n",
    "鸢尾花（iris）数据集是一个经典数据集，在统计学习和机器学习领域都经常被用作示例。数据集内包含 3 类共 150 条记录，每类各 50 个数据，每条记录都有 4 项特征：花萼长度、花萼宽度、花瓣长度、花瓣宽度，可以通过这4个特征预测鸢尾花卉属于（iris-setosa, iris-versicolour, iris-virginica）中的哪一品种。"
   ]
  },
  {
   "cell_type": "code",
   "execution_count": 4,
   "id": "6708a24e",
   "metadata": {
    "ExecuteTime": {
     "end_time": "2022-08-08T07:17:11.533738Z",
     "start_time": "2022-08-08T07:17:11.504951Z"
    }
   },
   "outputs": [],
   "source": [
    "# 加载数据集\n",
    "data = load_iris()"
   ]
  },
  {
   "cell_type": "markdown",
   "id": "46f93321",
   "metadata": {},
   "source": [
    "了解数据"
   ]
  },
  {
   "cell_type": "code",
   "execution_count": 5,
   "id": "58341c42",
   "metadata": {
    "ExecuteTime": {
     "end_time": "2022-08-08T07:17:11.549102Z",
     "start_time": "2022-08-08T07:17:11.535032Z"
    }
   },
   "outputs": [
    {
     "name": "stdout",
     "output_type": "stream",
     "text": [
      ".. _iris_dataset:\n",
      "\n",
      "Iris plants dataset\n",
      "--------------------\n",
      "\n",
      "**Data Set Characteristics:**\n",
      "\n",
      "    :Number of Instances: 150 (50 in each of three classes)\n",
      "    :Number of Attributes: 4 numeric, predictive attributes and the class\n",
      "    :Attribute Information:\n",
      "        - sepal length in cm\n",
      "        - sepal width in cm\n",
      "        - petal length in cm\n",
      "        - petal width in cm\n",
      "        - class:\n",
      "                - Iris-Setosa\n",
      "                - Iris-Versicolour\n",
      "                - Iris-Virginica\n",
      "                \n",
      "    :Summary Statistics:\n",
      "\n",
      "    ============== ==== ==== ======= ===== ====================\n",
      "                    Min  Max   Mean    SD   Class Correlation\n",
      "    ============== ==== ==== ======= ===== ====================\n",
      "    sepal length:   4.3  7.9   5.84   0.83    0.7826\n",
      "    sepal width:    2.0  4.4   3.05   0.43   -0.4194\n",
      "    petal length:   1.0  6.9   3.76   1.76    0.9490  (high!)\n",
      "    petal width:    0.1  2.5   1.20   0.76    0.9565  (high!)\n",
      "    ============== ==== ==== ======= ===== ====================\n",
      "\n",
      "    :Missing Attribute Values: None\n",
      "    :Class Distribution: 33.3% for each of 3 classes.\n",
      "    :Creator: R.A. Fisher\n",
      "    :Donor: Michael Marshall (MARSHALL%PLU@io.arc.nasa.gov)\n",
      "    :Date: July, 1988\n",
      "\n",
      "The famous Iris database, first used by Sir R.A. Fisher. The dataset is taken\n",
      "from Fisher's paper. Note that it's the same as in R, but not as in the UCI\n",
      "Machine Learning Repository, which has two wrong data points.\n",
      "\n",
      "This is perhaps the best known database to be found in the\n",
      "pattern recognition literature.  Fisher's paper is a classic in the field and\n",
      "is referenced frequently to this day.  (See Duda & Hart, for example.)  The\n",
      "data set contains 3 classes of 50 instances each, where each class refers to a\n",
      "type of iris plant.  One class is linearly separable from the other 2; the\n",
      "latter are NOT linearly separable from each other.\n",
      "\n",
      ".. topic:: References\n",
      "\n",
      "   - Fisher, R.A. \"The use of multiple measurements in taxonomic problems\"\n",
      "     Annual Eugenics, 7, Part II, 179-188 (1936); also in \"Contributions to\n",
      "     Mathematical Statistics\" (John Wiley, NY, 1950).\n",
      "   - Duda, R.O., & Hart, P.E. (1973) Pattern Classification and Scene Analysis.\n",
      "     (Q327.D83) John Wiley & Sons.  ISBN 0-471-22361-1.  See page 218.\n",
      "   - Dasarathy, B.V. (1980) \"Nosing Around the Neighborhood: A New System\n",
      "     Structure and Classification Rule for Recognition in Partially Exposed\n",
      "     Environments\".  IEEE Transactions on Pattern Analysis and Machine\n",
      "     Intelligence, Vol. PAMI-2, No. 1, 67-71.\n",
      "   - Gates, G.W. (1972) \"The Reduced Nearest Neighbor Rule\".  IEEE Transactions\n",
      "     on Information Theory, May 1972, 431-433.\n",
      "   - See also: 1988 MLC Proceedings, 54-64.  Cheeseman et al\"s AUTOCLASS II\n",
      "     conceptual clustering system finds 3 classes in the data.\n",
      "   - Many, many more ...\n"
     ]
    }
   ],
   "source": [
    "print(data.DESCR)"
   ]
  },
  {
   "cell_type": "code",
   "execution_count": 6,
   "id": "1e177bd1",
   "metadata": {
    "ExecuteTime": {
     "end_time": "2022-08-08T07:17:11.564997Z",
     "start_time": "2022-08-08T07:17:11.550249Z"
    }
   },
   "outputs": [
    {
     "data": {
      "text/plain": [
       "array(['setosa', 'versicolor', 'virginica'], dtype='<U10')"
      ]
     },
     "execution_count": 6,
     "metadata": {},
     "output_type": "execute_result"
    }
   ],
   "source": [
    "data.target_names"
   ]
  },
  {
   "cell_type": "code",
   "execution_count": 7,
   "id": "ea0106c3",
   "metadata": {
    "ExecuteTime": {
     "end_time": "2022-08-08T07:17:11.580123Z",
     "start_time": "2022-08-08T07:17:11.566464Z"
    }
   },
   "outputs": [
    {
     "data": {
      "text/plain": [
       "(numpy.ndarray, numpy.ndarray, 150, 150)"
      ]
     },
     "execution_count": 7,
     "metadata": {},
     "output_type": "execute_result"
    }
   ],
   "source": [
    "type(data.data),type(data.target),len(data.data),len(data.target)"
   ]
  },
  {
   "cell_type": "code",
   "execution_count": 8,
   "id": "6d90fe7e",
   "metadata": {
    "ExecuteTime": {
     "end_time": "2022-08-08T07:17:11.595487Z",
     "start_time": "2022-08-08T07:17:11.581465Z"
    }
   },
   "outputs": [],
   "source": [
    "# 转换成.DataFrame形式\n",
    "df = pd.DataFrame(data.data, columns=data.feature_names)"
   ]
  },
  {
   "cell_type": "code",
   "execution_count": 9,
   "id": "342163a8",
   "metadata": {
    "ExecuteTime": {
     "end_time": "2022-08-08T07:17:11.611154Z",
     "start_time": "2022-08-08T07:17:11.596465Z"
    }
   },
   "outputs": [],
   "source": [
    "# 添加品种列\n",
    "df[\"Species\"] = data.target"
   ]
  },
  {
   "cell_type": "code",
   "execution_count": 10,
   "id": "f110d6f1",
   "metadata": {
    "ExecuteTime": {
     "end_time": "2022-08-08T07:17:11.626409Z",
     "start_time": "2022-08-08T07:17:11.612543Z"
    }
   },
   "outputs": [
    {
     "name": "stdout",
     "output_type": "stream",
     "text": [
      "<class 'pandas.core.frame.DataFrame'>\n",
      "RangeIndex: 150 entries, 0 to 149\n",
      "Data columns (total 5 columns):\n",
      " #   Column             Non-Null Count  Dtype  \n",
      "---  ------             --------------  -----  \n",
      " 0   sepal length (cm)  150 non-null    float64\n",
      " 1   sepal width (cm)   150 non-null    float64\n",
      " 2   petal length (cm)  150 non-null    float64\n",
      " 3   petal width (cm)   150 non-null    float64\n",
      " 4   Species            150 non-null    int32  \n",
      "dtypes: float64(4), int32(1)\n",
      "memory usage: 5.4 KB\n",
      "数据集信息:\n",
      "None\n"
     ]
    }
   ],
   "source": [
    "# 查看数据集信息\n",
    "print(f\"数据集信息:\\n{df.info()}\")"
   ]
  },
  {
   "cell_type": "code",
   "execution_count": 11,
   "id": "bb0d6985",
   "metadata": {
    "ExecuteTime": {
     "end_time": "2022-08-08T07:17:11.657179Z",
     "start_time": "2022-08-08T07:17:11.629182Z"
    }
   },
   "outputs": [
    {
     "data": {
      "text/html": [
       "<div>\n",
       "<style scoped>\n",
       "    .dataframe tbody tr th:only-of-type {\n",
       "        vertical-align: middle;\n",
       "    }\n",
       "\n",
       "    .dataframe tbody tr th {\n",
       "        vertical-align: top;\n",
       "    }\n",
       "\n",
       "    .dataframe thead th {\n",
       "        text-align: right;\n",
       "    }\n",
       "</style>\n",
       "<table border=\"1\" class=\"dataframe\">\n",
       "  <thead>\n",
       "    <tr style=\"text-align: right;\">\n",
       "      <th></th>\n",
       "      <th>sepal length (cm)</th>\n",
       "      <th>sepal width (cm)</th>\n",
       "      <th>petal length (cm)</th>\n",
       "      <th>petal width (cm)</th>\n",
       "      <th>Species</th>\n",
       "    </tr>\n",
       "  </thead>\n",
       "  <tbody>\n",
       "    <tr>\n",
       "      <th>0</th>\n",
       "      <td>5.1</td>\n",
       "      <td>3.5</td>\n",
       "      <td>1.4</td>\n",
       "      <td>0.2</td>\n",
       "      <td>0</td>\n",
       "    </tr>\n",
       "    <tr>\n",
       "      <th>1</th>\n",
       "      <td>4.9</td>\n",
       "      <td>3.0</td>\n",
       "      <td>1.4</td>\n",
       "      <td>0.2</td>\n",
       "      <td>0</td>\n",
       "    </tr>\n",
       "    <tr>\n",
       "      <th>2</th>\n",
       "      <td>4.7</td>\n",
       "      <td>3.2</td>\n",
       "      <td>1.3</td>\n",
       "      <td>0.2</td>\n",
       "      <td>0</td>\n",
       "    </tr>\n",
       "    <tr>\n",
       "      <th>3</th>\n",
       "      <td>4.6</td>\n",
       "      <td>3.1</td>\n",
       "      <td>1.5</td>\n",
       "      <td>0.2</td>\n",
       "      <td>0</td>\n",
       "    </tr>\n",
       "    <tr>\n",
       "      <th>4</th>\n",
       "      <td>5.0</td>\n",
       "      <td>3.6</td>\n",
       "      <td>1.4</td>\n",
       "      <td>0.2</td>\n",
       "      <td>0</td>\n",
       "    </tr>\n",
       "  </tbody>\n",
       "</table>\n",
       "</div>"
      ],
      "text/plain": [
       "   sepal length (cm)  sepal width (cm)  petal length (cm)  petal width (cm)  \\\n",
       "0                5.1               3.5                1.4               0.2   \n",
       "1                4.9               3.0                1.4               0.2   \n",
       "2                4.7               3.2                1.3               0.2   \n",
       "3                4.6               3.1                1.5               0.2   \n",
       "4                5.0               3.6                1.4               0.2   \n",
       "\n",
       "   Species  \n",
       "0        0  \n",
       "1        0  \n",
       "2        0  \n",
       "3        0  \n",
       "4        0  "
      ]
     },
     "execution_count": 11,
     "metadata": {},
     "output_type": "execute_result"
    }
   ],
   "source": [
    "# 查看前5条数据\n",
    "df.head()"
   ]
  },
  {
   "cell_type": "code",
   "execution_count": 12,
   "id": "aec9d362",
   "metadata": {
    "ExecuteTime": {
     "end_time": "2022-08-08T07:17:11.672694Z",
     "start_time": "2022-08-08T07:17:11.658012Z"
    }
   },
   "outputs": [
    {
     "data": {
      "text/html": [
       "<div>\n",
       "<style scoped>\n",
       "    .dataframe tbody tr th:only-of-type {\n",
       "        vertical-align: middle;\n",
       "    }\n",
       "\n",
       "    .dataframe tbody tr th {\n",
       "        vertical-align: top;\n",
       "    }\n",
       "\n",
       "    .dataframe thead th {\n",
       "        text-align: right;\n",
       "    }\n",
       "</style>\n",
       "<table border=\"1\" class=\"dataframe\">\n",
       "  <thead>\n",
       "    <tr style=\"text-align: right;\">\n",
       "      <th></th>\n",
       "      <th>sepal length (cm)</th>\n",
       "      <th>sepal width (cm)</th>\n",
       "      <th>petal length (cm)</th>\n",
       "      <th>petal width (cm)</th>\n",
       "      <th>Species</th>\n",
       "    </tr>\n",
       "  </thead>\n",
       "  <tbody>\n",
       "    <tr>\n",
       "      <th>count</th>\n",
       "      <td>150.000000</td>\n",
       "      <td>150.000000</td>\n",
       "      <td>150.000000</td>\n",
       "      <td>150.000000</td>\n",
       "      <td>150.000000</td>\n",
       "    </tr>\n",
       "    <tr>\n",
       "      <th>mean</th>\n",
       "      <td>5.843333</td>\n",
       "      <td>3.057333</td>\n",
       "      <td>3.758000</td>\n",
       "      <td>1.199333</td>\n",
       "      <td>1.000000</td>\n",
       "    </tr>\n",
       "    <tr>\n",
       "      <th>std</th>\n",
       "      <td>0.828066</td>\n",
       "      <td>0.435866</td>\n",
       "      <td>1.765298</td>\n",
       "      <td>0.762238</td>\n",
       "      <td>0.819232</td>\n",
       "    </tr>\n",
       "    <tr>\n",
       "      <th>min</th>\n",
       "      <td>4.300000</td>\n",
       "      <td>2.000000</td>\n",
       "      <td>1.000000</td>\n",
       "      <td>0.100000</td>\n",
       "      <td>0.000000</td>\n",
       "    </tr>\n",
       "    <tr>\n",
       "      <th>25%</th>\n",
       "      <td>5.100000</td>\n",
       "      <td>2.800000</td>\n",
       "      <td>1.600000</td>\n",
       "      <td>0.300000</td>\n",
       "      <td>0.000000</td>\n",
       "    </tr>\n",
       "    <tr>\n",
       "      <th>50%</th>\n",
       "      <td>5.800000</td>\n",
       "      <td>3.000000</td>\n",
       "      <td>4.350000</td>\n",
       "      <td>1.300000</td>\n",
       "      <td>1.000000</td>\n",
       "    </tr>\n",
       "    <tr>\n",
       "      <th>75%</th>\n",
       "      <td>6.400000</td>\n",
       "      <td>3.300000</td>\n",
       "      <td>5.100000</td>\n",
       "      <td>1.800000</td>\n",
       "      <td>2.000000</td>\n",
       "    </tr>\n",
       "    <tr>\n",
       "      <th>max</th>\n",
       "      <td>7.900000</td>\n",
       "      <td>4.400000</td>\n",
       "      <td>6.900000</td>\n",
       "      <td>2.500000</td>\n",
       "      <td>2.000000</td>\n",
       "    </tr>\n",
       "  </tbody>\n",
       "</table>\n",
       "</div>"
      ],
      "text/plain": [
       "       sepal length (cm)  sepal width (cm)  petal length (cm)  \\\n",
       "count         150.000000        150.000000         150.000000   \n",
       "mean            5.843333          3.057333           3.758000   \n",
       "std             0.828066          0.435866           1.765298   \n",
       "min             4.300000          2.000000           1.000000   \n",
       "25%             5.100000          2.800000           1.600000   \n",
       "50%             5.800000          3.000000           4.350000   \n",
       "75%             6.400000          3.300000           5.100000   \n",
       "max             7.900000          4.400000           6.900000   \n",
       "\n",
       "       petal width (cm)     Species  \n",
       "count        150.000000  150.000000  \n",
       "mean           1.199333    1.000000  \n",
       "std            0.762238    0.819232  \n",
       "min            0.100000    0.000000  \n",
       "25%            0.300000    0.000000  \n",
       "50%            1.300000    1.000000  \n",
       "75%            1.800000    2.000000  \n",
       "max            2.500000    2.000000  "
      ]
     },
     "execution_count": 12,
     "metadata": {},
     "output_type": "execute_result"
    }
   ],
   "source": [
    "# 查看各特征列的摘要信息\n",
    "df.describe()"
   ]
  },
  {
   "cell_type": "code",
   "execution_count": 13,
   "id": "b70fe86a",
   "metadata": {
    "ExecuteTime": {
     "end_time": "2022-08-08T07:17:12.401123Z",
     "start_time": "2022-08-08T07:17:11.674689Z"
    }
   },
   "outputs": [
    {
     "data": {
      "image/png": "[encoded data removed]",
      "text/plain": [
       "<Figure size 576x576 with 4 Axes>"
      ]
     },
     "metadata": {
      "needs_background": "light"
     },
     "output_type": "display_data"
    },
    {
     "data": {
      "image/png": "[encoded data removed]",
      "text/plain": [
       "<Figure size 576x432 with 4 Axes>"
      ]
     },
     "metadata": {
      "needs_background": "light"
     },
     "output_type": "display_data"
    }
   ],
   "source": [
    "# 设置颜色主题\n",
    "antV = ['#1890FF', '#2FC25B', '#FACC14', '#223273', '#8543E0', '#13C2C2', '#3436c7', '#F04864'] \n",
    "# 绘制violinplot\n",
    "f, axes = plt.subplots(2,2,figsize=(8,8), sharex=True)\n",
    "# 删除上方和右方坐标轴上不需要的边框，这在matplotlib中是无法通过参数实现的\n",
    "sns.despine(left=True)\n",
    "sns.violinplot(x=\"Species\", y=df.columns[0], data=df, palette=antV, ax=axes[0,0])\n",
    "sns.violinplot(x=\"Species\", y=df.columns[1], data=df, palette=antV, ax=axes[0,1])\n",
    "sns.violinplot(x=\"Species\", y=df.columns[2], data=df, palette=antV, ax=axes[1,0])\n",
    "sns.violinplot(x=\"Species\", y=df.columns[3], data=df, palette=antV, ax=axes[1,1])\n",
    "plt.show()\n",
    "# 绘制pointplot\n",
    "f, axes = plt.subplots(2,2, figsize=(8,6), sharex=True)\n",
    "sns.despine(left=True)\n",
    "sns.pointplot(x=\"Species\", y=df.columns[0], data=df, color=antV[1], ax=axes[0, 0])\n",
    "sns.pointplot(x='Species', y=df.columns[1], data=df, color=antV[1], ax=axes[0, 1])\n",
    "sns.pointplot(x='Species', y=df.columns[2], data=df, color=antV[1], ax=axes[1, 0])\n",
    "sns.pointplot(x='Species', y=df.columns[3], data=df, color=antV[1], ax=axes[1, 1])\n",
    "plt.show()\n"
   ]
  },
  {
   "cell_type": "code",
   "execution_count": 14,
   "id": "1cd959c4",
   "metadata": {
    "ExecuteTime": {
     "end_time": "2022-08-08T07:17:12.416525Z",
     "start_time": "2022-08-08T07:17:12.402368Z"
    }
   },
   "outputs": [
    {
     "data": {
      "text/plain": [
       "array([0, 0, 0, 0, 0, 1, 1, 1, 1, 1])"
      ]
     },
     "execution_count": 14,
     "metadata": {},
     "output_type": "execute_result"
    }
   ],
   "source": [
    "data.target[45:55]"
   ]
  },
  {
   "cell_type": "code",
   "execution_count": 15,
   "id": "2deedffb",
   "metadata": {
    "ExecuteTime": {
     "end_time": "2022-08-08T07:17:12.432091Z",
     "start_time": "2022-08-08T07:17:12.418525Z"
    }
   },
   "outputs": [],
   "source": [
    "# 用数值替代品种名作为标签\n",
    "target = np.unique(data.target)\n",
    "target_names = np.unique(data.target_names)\n",
    "targets = dict(zip(target, target_names))\n",
    "df[\"Species\"] = df[\"Species\"].replace(targets)"
   ]
  },
  {
   "cell_type": "code",
   "execution_count": 16,
   "id": "d2efc57d",
   "metadata": {
    "ExecuteTime": {
     "end_time": "2022-08-08T07:17:12.447145Z",
     "start_time": "2022-08-08T07:17:12.433440Z"
    }
   },
   "outputs": [
    {
     "data": {
      "text/plain": [
       "{0: 'setosa', 1: 'versicolor', 2: 'virginica'}"
      ]
     },
     "execution_count": 16,
     "metadata": {},
     "output_type": "execute_result"
    }
   ],
   "source": [
    "targets"
   ]
  },
  {
   "cell_type": "code",
   "execution_count": 17,
   "id": "aeb2fb42",
   "metadata": {
    "ExecuteTime": {
     "end_time": "2022-08-08T07:17:12.462415Z",
     "start_time": "2022-08-08T07:17:12.448145Z"
    }
   },
   "outputs": [
    {
     "data": {
      "text/plain": [
       "0         setosa\n",
       "1         setosa\n",
       "2         setosa\n",
       "3         setosa\n",
       "4         setosa\n",
       "         ...    \n",
       "145    virginica\n",
       "146    virginica\n",
       "147    virginica\n",
       "148    virginica\n",
       "149    virginica\n",
       "Name: Species, Length: 150, dtype: object"
      ]
     },
     "execution_count": 17,
     "metadata": {},
     "output_type": "execute_result"
    }
   ],
   "source": [
    "df[\"Species\"]"
   ]
  },
  {
   "cell_type": "code",
   "execution_count": 18,
   "id": "6eafdee2",
   "metadata": {
    "ExecuteTime": {
     "end_time": "2022-08-08T07:17:12.478217Z",
     "start_time": "2022-08-08T07:17:12.463902Z"
    }
   },
   "outputs": [],
   "source": [
    "# 提取数据和标签\n",
    "X = df.drop(columns=\"Species\")\n",
    "y = df[\"Species\"]\n",
    "feature_names = X.columns\n",
    "labels = y.unique()"
   ]
  },
  {
   "cell_type": "markdown",
   "id": "6a57bdd9",
   "metadata": {
    "ExecuteTime": {
     "end_time": "2022-08-07T01:41:54.814597Z",
     "start_time": "2022-08-07T01:41:54.783910Z"
    }
   },
   "source": [
    "### 最终代码"
   ]
  },
  {
   "cell_type": "code",
   "execution_count": 19,
   "id": "ec0e9521",
   "metadata": {
    "ExecuteTime": {
     "end_time": "2022-08-08T07:17:12.493712Z",
     "start_time": "2022-08-08T07:17:12.480289Z"
    }
   },
   "outputs": [],
   "source": [
    "# 加载数据集\n",
    "data = load_iris() \n",
    "# 转换成.DataFrame形式\n",
    "df = pd.DataFrame(data.data, columns = data.feature_names)\n",
    "# 添加品种列\n",
    "df['Species'] = data.target\n",
    "\n",
    "# 用数值替代品种名作为标签\n",
    "target = np.unique(data.target)\n",
    "target_names = np.unique(data.target_names)\n",
    "targets = dict(zip(target, target_names))\n",
    "df['Species'] = df['Species'].replace(targets)\n",
    "\n",
    "# 提取数据和标签\n",
    "X = df.drop(columns=\"Species\")\n",
    "y = df[\"Species\"]\n",
    "feature_names = X.columns\n",
    "labels = y.unique()"
   ]
  },
  {
   "cell_type": "markdown",
   "id": "733706ce",
   "metadata": {},
   "source": [
    "## 决策树"
   ]
  },
  {
   "cell_type": "code",
   "execution_count": 20,
   "id": "9ca5393f",
   "metadata": {
    "ExecuteTime": {
     "end_time": "2022-08-08T07:17:12.509072Z",
     "start_time": "2022-08-08T07:17:12.494958Z"
    }
   },
   "outputs": [
    {
     "data": {
      "text/plain": [
       "DecisionTreeClassifier(max_depth=3, random_state=42)"
      ]
     },
     "execution_count": 20,
     "metadata": {},
     "output_type": "execute_result"
    }
   ],
   "source": [
    "# 划分数据集\n",
    "X_train, test_x, y_train, test_lab = train_test_split(X, y, test_size=0.4, random_state=42)\n",
    "# 创建模型\n",
    "model = DecisionTreeClassifier(max_depth=3, random_state=42)\n",
    "# 训练模型\n",
    "model.fit(X_train, y_train)\n"
   ]
  },
  {
   "cell_type": "markdown",
   "id": "12c6804f",
   "metadata": {},
   "source": [
    "### 可视化决策树的方式"
   ]
  },
  {
   "cell_type": "markdown",
   "id": "bcddf5a8",
   "metadata": {},
   "source": [
    "#### 以文字形式输出树"
   ]
  },
  {
   "cell_type": "code",
   "execution_count": 21,
   "id": "26faf4ca",
   "metadata": {
    "ExecuteTime": {
     "end_time": "2022-08-08T07:17:12.524353Z",
     "start_time": "2022-08-08T07:17:12.511163Z"
    }
   },
   "outputs": [
    {
     "name": "stdout",
     "output_type": "stream",
     "text": [
      "|--- feature_2 <= 2.45\n",
      "|   |--- class: setosa\n",
      "|--- feature_2 >  2.45\n",
      "|   |--- feature_3 <= 1.75\n",
      "|   |   |--- feature_2 <= 5.35\n",
      "|   |   |   |--- class: versicolor\n",
      "|   |   |--- feature_2 >  5.35\n",
      "|   |   |   |--- class: virginica\n",
      "|   |--- feature_3 >  1.75\n",
      "|   |   |--- feature_2 <= 4.85\n",
      "|   |   |   |--- class: virginica\n",
      "|   |   |--- feature_2 >  4.85\n",
      "|   |   |   |--- class: virginica\n",
      "\n"
     ]
    }
   ],
   "source": [
    "# 以文字形式输出树 \n",
    "text_representation = tree.export_text(model)\n",
    "print(text_representation)"
   ]
  },
  {
   "cell_type": "markdown",
   "id": "84b9ac37",
   "metadata": {},
   "source": [
    "#### plot_tree"
   ]
  },
  {
   "cell_type": "code",
   "execution_count": 22,
   "id": "149c964a",
   "metadata": {
    "ExecuteTime": {
     "end_time": "2022-08-08T07:17:12.820158Z",
     "start_time": "2022-08-08T07:17:12.525997Z"
    }
   },
   "outputs": [
    {
     "data": {
      "image/png": "[encoded data removed]",
      "text/plain": [
       "<Figure size 2160x720 with 1 Axes>"
      ]
     },
     "metadata": {},
     "output_type": "display_data"
    }
   ],
   "source": [
    "# 用图片画出:plot_tree\n",
    "plt.figure(figsize=(30,10), facecolor=\"g\")\n",
    "a = tree.plot_tree(model, feature_names=feature_names, class_names=labels, rounded=True, filled=True, fontsize=14)\n",
    "plt.show()"
   ]
  },
  {
   "cell_type": "markdown",
   "id": "12e77582",
   "metadata": {},
   "source": [
    "#### graphviz模块\n",
    "\n",
    "该模块需要安装graphviz，推荐在ubuntu上```sudo apt install graphviz```或者Mac上```brew install graphviz```\n",
    "\n",
    "https://zhuanlan.zhihu.com/p/268532582"
   ]
  },
  {
   "cell_type": "code",
   "execution_count": 23,
   "id": "d56ec88c",
   "metadata": {
    "ExecuteTime": {
     "end_time": "2022-08-08T07:17:12.856075Z",
     "start_time": "2022-08-08T07:17:12.821475Z"
    }
   },
   "outputs": [
    {
     "name": "stdout",
     "output_type": "stream",
     "text": [
      "Object `graphviz` not found.\n"
     ]
    }
   ],
   "source": [
    "graphviz??"
   ]
  },
  {
   "cell_type": "code",
   "execution_count": 24,
   "id": "63cbfb6e",
   "metadata": {
    "ExecuteTime": {
     "end_time": "2022-08-08T07:17:13.302141Z",
     "start_time": "2022-08-08T07:17:12.857593Z"
    }
   },
   "outputs": [
    {
     "data": {
      "image/svg+xml": [
       "<?xml version=\"1.0\" encoding=\"UTF-8\" standalone=\"no\"?>\n",
       "<!DOCTYPE svg PUBLIC \"-//W3C//DTD SVG 1.1//EN\"\n",
       " \"http://www.w3.org/Graphics/SVG/1.1/DTD/svg11.dtd\">\n",
       "<!-- Generated by graphviz version 2.38.0 (20140413.2041)\n",
       " -->\n",
       "<!-- Title: Tree Pages: 1 -->\n",
       "<svg width=\"572pt\" height=\"433pt\"\n",
       " viewBox=\"0.00 0.00 572.00 433.00\" xmlns=\"http://www.w3.org/2000/svg\" xmlns:xlink=\"http://www.w3.org/1999/xlink\">\n",
       "<g id=\"graph0\" class=\"graph\" transform=\"scale(1 1) rotate(0) translate(4 429)\">\n",
       "<title>Tree</title>\n",
       "<polygon fill=\"white\" stroke=\"none\" points=\"-4,4 -4,-429 568,-429 568,4 -4,4\"/>\n",
       "<!-- 0 -->\n",
       "<g id=\"node1\" class=\"node\"><title>0</title>\n",
       "<polygon fill=\"#fdfcff\" stroke=\"black\" points=\"289.5,-425 115.5,-425 115.5,-342 289.5,-342 289.5,-425\"/>\n",
       "<text text-anchor=\"middle\" x=\"202.5\" y=\"-409.8\" font-family=\"Helvetica,sans-Serif\" font-size=\"14.00\">petal length (cm) &lt;= 2.45</text>\n",
       "<text text-anchor=\"middle\" x=\"202.5\" y=\"-394.8\" font-family=\"Helvetica,sans-Serif\" font-size=\"14.00\">gini = 0.665</text>\n",
       "<text text-anchor=\"middle\" x=\"202.5\" y=\"-379.8\" font-family=\"Helvetica,sans-Serif\" font-size=\"14.00\">samples = 90</text>\n",
       "<text text-anchor=\"middle\" x=\"202.5\" y=\"-364.8\" font-family=\"Helvetica,sans-Serif\" font-size=\"14.00\">value = [27, 31, 32]</text>\n",
       "<text text-anchor=\"middle\" x=\"202.5\" y=\"-349.8\" font-family=\"Helvetica,sans-Serif\" font-size=\"14.00\">class = virginica</text>\n",
       "</g>\n",
       "<!-- 1 -->\n",
       "<g id=\"node2\" class=\"node\"><title>1</title>\n",
       "<polygon fill=\"#e58139\" stroke=\"black\" points=\"182,-298.5 61,-298.5 61,-230.5 182,-230.5 182,-298.5\"/>\n",
       "<text text-anchor=\"middle\" x=\"121.5\" y=\"-283.3\" font-family=\"Helvetica,sans-Serif\" font-size=\"14.00\">gini = 0.0</text>\n",
       "<text text-anchor=\"middle\" x=\"121.5\" y=\"-268.3\" font-family=\"Helvetica,sans-Serif\" font-size=\"14.00\">samples = 27</text>\n",
       "<text text-anchor=\"middle\" x=\"121.5\" y=\"-253.3\" font-family=\"Helvetica,sans-Serif\" font-size=\"14.00\">value = [27, 0, 0]</text>\n",
       "<text text-anchor=\"middle\" x=\"121.5\" y=\"-238.3\" font-family=\"Helvetica,sans-Serif\" font-size=\"14.00\">class = setosa</text>\n",
       "</g>\n",
       "<!-- 0&#45;&gt;1 -->\n",
       "<g id=\"edge1\" class=\"edge\"><title>0&#45;&gt;1</title>\n",
       "<path fill=\"none\" stroke=\"black\" d=\"M174.397,-341.907C166.605,-330.652 158.136,-318.418 150.304,-307.106\"/>\n",
       "<polygon fill=\"black\" stroke=\"black\" points=\"153.032,-304.897 144.462,-298.667 147.276,-308.881 153.032,-304.897\"/>\n",
       "<text text-anchor=\"middle\" x=\"139.99\" y=\"-319.564\" font-family=\"Helvetica,sans-Serif\" font-size=\"14.00\">True</text>\n",
       "</g>\n",
       "<!-- 2 -->\n",
       "<g id=\"node3\" class=\"node\"><title>2</title>\n",
       "<polygon fill=\"#fbf9fe\" stroke=\"black\" points=\"368.5,-306 200.5,-306 200.5,-223 368.5,-223 368.5,-306\"/>\n",
       "<text text-anchor=\"middle\" x=\"284.5\" y=\"-290.8\" font-family=\"Helvetica,sans-Serif\" font-size=\"14.00\">petal width (cm) &lt;= 1.75</text>\n",
       "<text text-anchor=\"middle\" x=\"284.5\" y=\"-275.8\" font-family=\"Helvetica,sans-Serif\" font-size=\"14.00\">gini = 0.5</text>\n",
       "<text text-anchor=\"middle\" x=\"284.5\" y=\"-260.8\" font-family=\"Helvetica,sans-Serif\" font-size=\"14.00\">samples = 63</text>\n",
       "<text text-anchor=\"middle\" x=\"284.5\" y=\"-245.8\" font-family=\"Helvetica,sans-Serif\" font-size=\"14.00\">value = [0, 31, 32]</text>\n",
       "<text text-anchor=\"middle\" x=\"284.5\" y=\"-230.8\" font-family=\"Helvetica,sans-Serif\" font-size=\"14.00\">class = virginica</text>\n",
       "</g>\n",
       "<!-- 0&#45;&gt;2 -->\n",
       "<g id=\"edge2\" class=\"edge\"><title>0&#45;&gt;2</title>\n",
       "<path fill=\"none\" stroke=\"black\" d=\"M230.949,-341.907C237.183,-333.014 243.844,-323.509 250.277,-314.331\"/>\n",
       "<polygon fill=\"black\" stroke=\"black\" points=\"253.228,-316.219 256.101,-306.021 247.495,-312.201 253.228,-316.219\"/>\n",
       "<text text-anchor=\"middle\" x=\"260.431\" y=\"-326.943\" font-family=\"Helvetica,sans-Serif\" font-size=\"14.00\">False</text>\n",
       "</g>\n",
       "<!-- 3 -->\n",
       "<g id=\"node4\" class=\"node\"><title>3</title>\n",
       "<polygon fill=\"#53e892\" stroke=\"black\" points=\"275.5,-187 101.5,-187 101.5,-104 275.5,-104 275.5,-187\"/>\n",
       "<text text-anchor=\"middle\" x=\"188.5\" y=\"-171.8\" font-family=\"Helvetica,sans-Serif\" font-size=\"14.00\">petal length (cm) &lt;= 5.35</text>\n",
       "<text text-anchor=\"middle\" x=\"188.5\" y=\"-156.8\" font-family=\"Helvetica,sans-Serif\" font-size=\"14.00\">gini = 0.208</text>\n",
       "<text text-anchor=\"middle\" x=\"188.5\" y=\"-141.8\" font-family=\"Helvetica,sans-Serif\" font-size=\"14.00\">samples = 34</text>\n",
       "<text text-anchor=\"middle\" x=\"188.5\" y=\"-126.8\" font-family=\"Helvetica,sans-Serif\" font-size=\"14.00\">value = [0, 30, 4]</text>\n",
       "<text text-anchor=\"middle\" x=\"188.5\" y=\"-111.8\" font-family=\"Helvetica,sans-Serif\" font-size=\"14.00\">class = versicolor</text>\n",
       "</g>\n",
       "<!-- 2&#45;&gt;3 -->\n",
       "<g id=\"edge3\" class=\"edge\"><title>2&#45;&gt;3</title>\n",
       "<path fill=\"none\" stroke=\"black\" d=\"M251.193,-222.907C243.747,-213.832 235.779,-204.121 228.106,-194.769\"/>\n",
       "<polygon fill=\"black\" stroke=\"black\" points=\"230.797,-192.531 221.748,-187.021 225.385,-196.972 230.797,-192.531\"/>\n",
       "</g>\n",
       "<!-- 6 -->\n",
       "<g id=\"node7\" class=\"node\"><title>6</title>\n",
       "<polygon fill=\"#8640e6\" stroke=\"black\" points=\"467.5,-187 293.5,-187 293.5,-104 467.5,-104 467.5,-187\"/>\n",
       "<text text-anchor=\"middle\" x=\"380.5\" y=\"-171.8\" font-family=\"Helvetica,sans-Serif\" font-size=\"14.00\">petal length (cm) &lt;= 4.85</text>\n",
       "<text text-anchor=\"middle\" x=\"380.5\" y=\"-156.8\" font-family=\"Helvetica,sans-Serif\" font-size=\"14.00\">gini = 0.067</text>\n",
       "<text text-anchor=\"middle\" x=\"380.5\" y=\"-141.8\" font-family=\"Helvetica,sans-Serif\" font-size=\"14.00\">samples = 29</text>\n",
       "<text text-anchor=\"middle\" x=\"380.5\" y=\"-126.8\" font-family=\"Helvetica,sans-Serif\" font-size=\"14.00\">value = [0, 1, 28]</text>\n",
       "<text text-anchor=\"middle\" x=\"380.5\" y=\"-111.8\" font-family=\"Helvetica,sans-Serif\" font-size=\"14.00\">class = virginica</text>\n",
       "</g>\n",
       "<!-- 2&#45;&gt;6 -->\n",
       "<g id=\"edge6\" class=\"edge\"><title>2&#45;&gt;6</title>\n",
       "<path fill=\"none\" stroke=\"black\" d=\"M317.807,-222.907C325.253,-213.832 333.221,-204.121 340.894,-194.769\"/>\n",
       "<polygon fill=\"black\" stroke=\"black\" points=\"343.615,-196.972 347.252,-187.021 338.203,-192.531 343.615,-196.972\"/>\n",
       "</g>\n",
       "<!-- 4 -->\n",
       "<g id=\"node5\" class=\"node\"><title>4</title>\n",
       "<polygon fill=\"#46e789\" stroke=\"black\" points=\"127,-68 -7.10543e-015,-68 -7.10543e-015,-0 127,-0 127,-68\"/>\n",
       "<text text-anchor=\"middle\" x=\"63.5\" y=\"-52.8\" font-family=\"Helvetica,sans-Serif\" font-size=\"14.00\">gini = 0.117</text>\n",
       "<text text-anchor=\"middle\" x=\"63.5\" y=\"-37.8\" font-family=\"Helvetica,sans-Serif\" font-size=\"14.00\">samples = 32</text>\n",
       "<text text-anchor=\"middle\" x=\"63.5\" y=\"-22.8\" font-family=\"Helvetica,sans-Serif\" font-size=\"14.00\">value = [0, 30, 2]</text>\n",
       "<text text-anchor=\"middle\" x=\"63.5\" y=\"-7.8\" font-family=\"Helvetica,sans-Serif\" font-size=\"14.00\">class = versicolor</text>\n",
       "</g>\n",
       "<!-- 3&#45;&gt;4 -->\n",
       "<g id=\"edge4\" class=\"edge\"><title>3&#45;&gt;4</title>\n",
       "<path fill=\"none\" stroke=\"black\" d=\"M141.955,-103.726C131.23,-94.3318 119.834,-84.349 109.149,-74.9883\"/>\n",
       "<polygon fill=\"black\" stroke=\"black\" points=\"111.342,-72.2562 101.513,-68.2996 106.729,-77.5217 111.342,-72.2562\"/>\n",
       "</g>\n",
       "<!-- 5 -->\n",
       "<g id=\"node6\" class=\"node\"><title>5</title>\n",
       "<polygon fill=\"#8139e5\" stroke=\"black\" points=\"261.5,-68 145.5,-68 145.5,-0 261.5,-0 261.5,-68\"/>\n",
       "<text text-anchor=\"middle\" x=\"203.5\" y=\"-52.8\" font-family=\"Helvetica,sans-Serif\" font-size=\"14.00\">gini = 0.0</text>\n",
       "<text text-anchor=\"middle\" x=\"203.5\" y=\"-37.8\" font-family=\"Helvetica,sans-Serif\" font-size=\"14.00\">samples = 2</text>\n",
       "<text text-anchor=\"middle\" x=\"203.5\" y=\"-22.8\" font-family=\"Helvetica,sans-Serif\" font-size=\"14.00\">value = [0, 0, 2]</text>\n",
       "<text text-anchor=\"middle\" x=\"203.5\" y=\"-7.8\" font-family=\"Helvetica,sans-Serif\" font-size=\"14.00\">class = virginica</text>\n",
       "</g>\n",
       "<!-- 3&#45;&gt;5 -->\n",
       "<g id=\"edge5\" class=\"edge\"><title>3&#45;&gt;5</title>\n",
       "<path fill=\"none\" stroke=\"black\" d=\"M194.085,-103.726C195.222,-95.4263 196.422,-86.6671 197.571,-78.2834\"/>\n",
       "<polygon fill=\"black\" stroke=\"black\" points=\"201.049,-78.6821 198.938,-68.2996 194.114,-77.732 201.049,-78.6821\"/>\n",
       "</g>\n",
       "<!-- 7 -->\n",
       "<g id=\"node8\" class=\"node\"><title>7</title>\n",
       "<polygon fill=\"#c09cf2\" stroke=\"black\" points=\"424.5,-68 308.5,-68 308.5,-0 424.5,-0 424.5,-68\"/>\n",
       "<text text-anchor=\"middle\" x=\"366.5\" y=\"-52.8\" font-family=\"Helvetica,sans-Serif\" font-size=\"14.00\">gini = 0.444</text>\n",
       "<text text-anchor=\"middle\" x=\"366.5\" y=\"-37.8\" font-family=\"Helvetica,sans-Serif\" font-size=\"14.00\">samples = 3</text>\n",
       "<text text-anchor=\"middle\" x=\"366.5\" y=\"-22.8\" font-family=\"Helvetica,sans-Serif\" font-size=\"14.00\">value = [0, 1, 2]</text>\n",
       "<text text-anchor=\"middle\" x=\"366.5\" y=\"-7.8\" font-family=\"Helvetica,sans-Serif\" font-size=\"14.00\">class = virginica</text>\n",
       "</g>\n",
       "<!-- 6&#45;&gt;7 -->\n",
       "<g id=\"edge7\" class=\"edge\"><title>6&#45;&gt;7</title>\n",
       "<path fill=\"none\" stroke=\"black\" d=\"M375.287,-103.726C374.226,-95.4263 373.106,-86.6671 372.034,-78.2834\"/>\n",
       "<polygon fill=\"black\" stroke=\"black\" points=\"375.498,-77.7749 370.757,-68.2996 368.554,-78.6628 375.498,-77.7749\"/>\n",
       "</g>\n",
       "<!-- 8 -->\n",
       "<g id=\"node9\" class=\"node\"><title>8</title>\n",
       "<polygon fill=\"#8139e5\" stroke=\"black\" points=\"564,-68 443,-68 443,-0 564,-0 564,-68\"/>\n",
       "<text text-anchor=\"middle\" x=\"503.5\" y=\"-52.8\" font-family=\"Helvetica,sans-Serif\" font-size=\"14.00\">gini = 0.0</text>\n",
       "<text text-anchor=\"middle\" x=\"503.5\" y=\"-37.8\" font-family=\"Helvetica,sans-Serif\" font-size=\"14.00\">samples = 26</text>\n",
       "<text text-anchor=\"middle\" x=\"503.5\" y=\"-22.8\" font-family=\"Helvetica,sans-Serif\" font-size=\"14.00\">value = [0, 0, 26]</text>\n",
       "<text text-anchor=\"middle\" x=\"503.5\" y=\"-7.8\" font-family=\"Helvetica,sans-Serif\" font-size=\"14.00\">class = virginica</text>\n",
       "</g>\n",
       "<!-- 6&#45;&gt;8 -->\n",
       "<g id=\"edge8\" class=\"edge\"><title>6&#45;&gt;8</title>\n",
       "<path fill=\"none\" stroke=\"black\" d=\"M426.301,-103.726C436.853,-94.3318 448.067,-84.349 458.582,-74.9883\"/>\n",
       "<polygon fill=\"black\" stroke=\"black\" points=\"460.953,-77.5631 466.095,-68.2996 456.299,-72.3347 460.953,-77.5631\"/>\n",
       "</g>\n",
       "</g>\n",
       "</svg>\n"
      ],
      "text/plain": [
       "<graphviz.sources.Source at 0x1f3c71e7a00>"
      ]
     },
     "execution_count": 24,
     "metadata": {},
     "output_type": "execute_result"
    }
   ],
   "source": [
    "import graphviz\n",
    "# 通过export_graphviz()方法将之前搭建的决策树模型model转换为字符串格式并赋值给dot_data，\n",
    "# 其中注意需要设定out_file参数为None，这样获得的才是字符串格式\n",
    "dot_data = tree.export_graphviz(model, out_file=None, feature_names=data.feature_names, class_names=data.target_names, filled=True)\n",
    "# 将dot_data转换成可视化的格式\n",
    "graph = graphviz.Source(dot_data, format=\"png\")\n",
    "graph"
   ]
  },
  {
   "cell_type": "code",
   "execution_count": 25,
   "id": "2e477056",
   "metadata": {
    "ExecuteTime": {
     "end_time": "2022-08-08T07:17:13.317817Z",
     "start_time": "2022-08-08T07:17:13.303335Z"
    }
   },
   "outputs": [
    {
     "data": {
      "text/plain": [
       "'digraph Tree {\\nnode [shape=box, style=\"filled\", color=\"black\", fontname=\"helvetica\"] ;\\nedge [fontname=\"helvetica\"] ;\\n0 [label=\"petal length (cm) <= 2.45\\\\ngini = 0.665\\\\nsamples = 90\\\\nvalue = [27, 31, 32]\\\\nclass = virginica\", fillcolor=\"#fdfcff\"] ;\\n1 [label=\"gini = 0.0\\\\nsamples = 27\\\\nvalue = [27, 0, 0]\\\\nclass = setosa\", fillcolor=\"#e58139\"] ;\\n0 -> 1 [labeldistance=2.5, labelangle=45, headlabel=\"True\"] ;\\n2 [label=\"petal width (cm) <= 1.75\\\\ngini = 0.5\\\\nsamples = 63\\\\nvalue = [0, 31, 32]\\\\nclass = virginica\", fillcolor=\"#fbf9fe\"] ;\\n0 -> 2 [labeldistance=2.5, labelangle=-45, headlabel=\"False\"] ;\\n3 [label=\"petal length (cm) <= 5.35\\\\ngini = 0.208\\\\nsamples = 34\\\\nvalue = [0, 30, 4]\\\\nclass = versicolor\", fillcolor=\"#53e892\"] ;\\n2 -> 3 ;\\n4 [label=\"gini = 0.117\\\\nsamples = 32\\\\nvalue = [0, 30, 2]\\\\nclass = versicolor\", fillcolor=\"#46e789\"] ;\\n3 -> 4 ;\\n5 [label=\"gini = 0.0\\\\nsamples = 2\\\\nvalue = [0, 0, 2]\\\\nclass = virginica\", fillcolor=\"#8139e5\"] ;\\n3 -> 5 ;\\n6 [label=\"petal length (cm) <= 4.85\\\\ngini = 0.067\\\\nsamples = 29\\\\nvalue = [0, 1, 28]\\\\nclass = virginica\", fillcolor=\"#8640e6\"] ;\\n2 -> 6 ;\\n7 [label=\"gini = 0.444\\\\nsamples = 3\\\\nvalue = [0, 1, 2]\\\\nclass = virginica\", fillcolor=\"#c09cf2\"] ;\\n6 -> 7 ;\\n8 [label=\"gini = 0.0\\\\nsamples = 26\\\\nvalue = [0, 0, 26]\\\\nclass = virginica\", fillcolor=\"#8139e5\"] ;\\n6 -> 8 ;\\n}'"
      ]
     },
     "execution_count": 25,
     "metadata": {},
     "output_type": "execute_result"
    }
   ],
   "source": [
    "# dot_data就是字符串格式\n",
    "dot_data"
   ]
  },
  {
   "cell_type": "markdown",
   "id": "3b1ef8ac",
   "metadata": {},
   "source": [
    "#### dtreeviz模块\n",
    "\n",
    "dtreevizd的y_data需要输入数值，所以前面的数据预处理不合适，这里重新进行了数据集处理"
   ]
  },
  {
   "cell_type": "code",
   "execution_count": 26,
   "id": "8458fec3",
   "metadata": {
    "ExecuteTime": {
     "end_time": "2022-08-08T07:17:13.348764Z",
     "start_time": "2022-08-08T07:17:13.322069Z"
    }
   },
   "outputs": [],
   "source": [
    "import dtreeviz"
   ]
  },
  {
   "cell_type": "code",
   "execution_count": 27,
   "id": "d83761fd",
   "metadata": {
    "ExecuteTime": {
     "end_time": "2022-08-08T07:17:13.364441Z",
     "start_time": "2022-08-08T07:17:13.349738Z"
    }
   },
   "outputs": [],
   "source": [
    "dtreeviz??"
   ]
  },
  {
   "cell_type": "code",
   "execution_count": 28,
   "id": "94dd3dc7",
   "metadata": {
    "ExecuteTime": {
     "end_time": "2022-08-08T07:17:14.077440Z",
     "start_time": "2022-08-08T07:17:13.365609Z"
    }
   },
   "outputs": [
    {
     "data": {
      "image/svg+xml": [
       "<svg xmlns=\"http://www.w3.org/2000/svg\" xmlns:dc=\"http://purl.org/dc/elements/1.1/\" xmlns:ns2=\"http://creativecommons.org/ns#\" xmlns:rdf=\"http://www.w3.org/1999/02/22-rdf-syntax-ns#\" xmlns:xlink=\"http://www.w3.org/1999/xlink\" width=\"376.0\" height=\"403.0\" viewBox=\"0.0 0.0 376.0 402.5\">\n",
       "<g id=\"graph0\" class=\"graph\" transform=\"scale(1.0 1.0) rotate(0) translate(4 398.5)\">\n",
       "<title>G</title>\n",
       "<polygon fill=\"white\" stroke=\"none\" points=\"-4,4 -4,-398.5 372,-398.5 372,4 -4,4\" />\n",
       "<text text-anchor=\"middle\" x=\"184\" y=\"-379.3\" font-family=\"Arial\" font-size=\"14.00\" fill=\"#444443\">Decision Tree - Iris data set</text>\n",
       "<g id=\"clust5\" class=\"cluster\"><title>cluster_legend</title>\n",
       "</g>\n",
       "\n",
       "<g id=\"node1\" class=\"node\"><title>node3</title>\n",
       "<svg width=\"150px\" height=\"62px\" viewBox=\"0 0 201.32 83.088839\" version=\"1.1\" preserveAspectRatio=\"xMinYMin meet\" x=\"42\" y=\"-145\">\n",
       " <metadata>\n",
       "  <rdf:RDF>\n",
       "   <ns2:Work>\n",
       "    <dc:type rdf:resource=\"http://purl.org/dc/dcmitype/StillImage\" />\n",
       "    <dc:date>2022-08-08T15:17:13.494836</dc:date>\n",
       "    <dc:format>image/svg+xml</dc:format>\n",
       "    <dc:creator>\n",
       "     <ns2:Agent>\n",
       "      <dc:title>Matplotlib v3.5.1, https://matplotlib.org/</dc:title>\n",
       "     </ns2:Agent>\n",
       "    </dc:creator>\n",
       "   </ns2:Work>\n",
       "  </rdf:RDF>\n",
       " </metadata>\n",
       " <defs>\n",
       "  <style type=\"text/css\">*{stroke-linejoin: round; stroke-linecap: butt}</style>\n",
       " </defs>\n",
       " <g id=\"figure_1\">\n",
       "  <g id=\"patch_1\">\n",
       "   <path d=\"M 0 83.088839  L 201.32 83.088839  L 201.32 0  L 0 0  L 0 83.088839  z \" style=\"fill: none\" />\n",
       "  </g>\n",
       "  <g id=\"axes_1\">\n",
       "   <g id=\"patch_2\">\n",
       "    <path d=\"M 17.18 53.085089  L 201.32 53.085089  L 201.32 0.537089  L 17.18 0.537089  z \" style=\"fill: #ffffff\" />\n",
       "   </g>\n",
       "   <g id=\"patch_3\">\n",
       "    <path d=\"M 17.761571 53.085089  L 28.024593 53.085089  L 28.024593 53.085089  L 17.761571 53.085089  z \" clip-path=\"url(#p20e2299913)\" style=\"fill: #fefebb; stroke: #444443; stroke-width: 0.5; stroke-linejoin: miter\" />\n",
       "   </g>\n",
       "   <g id=\"patch_4\">\n",
       "    <path d=\"M 28.024593 53.085089  L 38.287616 53.085089  L 38.287616 53.085089  L 28.024593 53.085089  z \" clip-path=\"url(#p20e2299913)\" style=\"fill: #fefebb; stroke: #444443; stroke-width: 0.5; stroke-linejoin: miter\" />\n",
       "   </g>\n",
       "   <g id=\"patch_5\">\n",
       "    <path d=\"M 38.287616 53.085089  L 48.550638 53.085089  L 48.550638 53.085089  L 38.287616 53.085089  z \" clip-path=\"url(#p20e2299913)\" style=\"fill: #fefebb; stroke: #444443; stroke-width: 0.5; stroke-linejoin: miter\" />\n",
       "   </g>\n",
       "   <g id=\"patch_6\">\n",
       "    <path d=\"M 48.550638 53.085089  L 58.81366 53.085089  L 58.81366 53.085089  L 48.550638 53.085089  z \" clip-path=\"url(#p20e2299913)\" style=\"fill: #fefebb; stroke: #444443; stroke-width: 0.5; stroke-linejoin: miter\" />\n",
       "   </g>\n",
       "   <g id=\"patch_7\">\n",
       "    <path d=\"M 58.81366 53.085089  L 69.076682 53.085089  L 69.076682 53.085089  L 58.81366 53.085089  z \" clip-path=\"url(#p20e2299913)\" style=\"fill: #fefebb; stroke: #444443; stroke-width: 0.5; stroke-linejoin: miter\" />\n",
       "   </g>\n",
       "   <g id=\"patch_8\">\n",
       "    <path d=\"M 69.076682 53.085089  L 79.339705 53.085089  L 79.339705 53.085089  L 69.076682 53.085089  z \" clip-path=\"url(#p20e2299913)\" style=\"fill: #fefebb; stroke: #444443; stroke-width: 0.5; stroke-linejoin: miter\" />\n",
       "   </g>\n",
       "   <g id=\"patch_9\">\n",
       "    <path d=\"M 79.339705 53.085089  L 89.602727 53.085089  L 89.602727 53.085089  L 79.339705 53.085089  z \" clip-path=\"url(#p20e2299913)\" style=\"fill: #fefebb; stroke: #444443; stroke-width: 0.5; stroke-linejoin: miter\" />\n",
       "   </g>\n",
       "   <g id=\"patch_10\">\n",
       "    <path d=\"M 89.602727 53.085089  L 99.865749 53.085089  L 99.865749 53.085089  L 89.602727 53.085089  z \" clip-path=\"url(#p20e2299913)\" style=\"fill: #fefebb; stroke: #444443; stroke-width: 0.5; stroke-linejoin: miter\" />\n",
       "   </g>\n",
       "   <g id=\"patch_11\">\n",
       "    <path d=\"M 99.865749 53.085089  L 110.128771 53.085089  L 110.128771 53.085089  L 99.865749 53.085089  z \" clip-path=\"url(#p20e2299913)\" style=\"fill: #fefebb; stroke: #444443; stroke-width: 0.5; stroke-linejoin: miter\" />\n",
       "   </g>\n",
       "   <g id=\"patch_12\">\n",
       "    <path d=\"M 110.128771 53.085089  L 120.391794 53.085089  L 120.391794 53.085089  L 110.128771 53.085089  z \" clip-path=\"url(#p20e2299913)\" style=\"fill: #fefebb; stroke: #444443; stroke-width: 0.5; stroke-linejoin: miter\" />\n",
       "   </g>\n",
       "   <g id=\"patch_13\">\n",
       "    <path d=\"M 120.391794 53.085089  L 130.654816 53.085089  L 130.654816 53.085089  L 120.391794 53.085089  z \" clip-path=\"url(#p20e2299913)\" style=\"fill: #fefebb; stroke: #444443; stroke-width: 0.5; stroke-linejoin: miter\" />\n",
       "   </g>\n",
       "   <g id=\"patch_14\">\n",
       "    <path d=\"M 130.654816 53.085089  L 140.917838 53.085089  L 140.917838 53.085089  L 130.654816 53.085089  z \" clip-path=\"url(#p20e2299913)\" style=\"fill: #fefebb; stroke: #444443; stroke-width: 0.5; stroke-linejoin: miter\" />\n",
       "   </g>\n",
       "   <g id=\"patch_15\">\n",
       "    <path d=\"M 140.917838 53.085089  L 151.18086 53.085089  L 151.18086 53.085089  L 140.917838 53.085089  z \" clip-path=\"url(#p20e2299913)\" style=\"fill: #fefebb; stroke: #444443; stroke-width: 0.5; stroke-linejoin: miter\" />\n",
       "   </g>\n",
       "   <g id=\"patch_16\">\n",
       "    <path d=\"M 151.18086 53.085089  L 161.443882 53.085089  L 161.443882 53.085089  L 151.18086 53.085089  z \" clip-path=\"url(#p20e2299913)\" style=\"fill: #fefebb; stroke: #444443; stroke-width: 0.5; stroke-linejoin: miter\" />\n",
       "   </g>\n",
       "   <g id=\"patch_17\">\n",
       "    <path d=\"M 161.443882 53.085089  L 171.706905 53.085089  L 171.706905 53.085089  L 161.443882 53.085089  z \" clip-path=\"url(#p20e2299913)\" style=\"fill: #fefebb; stroke: #444443; stroke-width: 0.5; stroke-linejoin: miter\" />\n",
       "   </g>\n",
       "   <g id=\"patch_18\">\n",
       "    <path d=\"M 171.706905 53.085089  L 181.969927 53.085089  L 181.969927 53.085089  L 171.706905 53.085089  z \" clip-path=\"url(#p20e2299913)\" style=\"fill: #fefebb; stroke: #444443; stroke-width: 0.5; stroke-linejoin: miter\" />\n",
       "   </g>\n",
       "   <g id=\"patch_19\">\n",
       "    <path d=\"M 181.969927 53.085089  L 192.232949 53.085089  L 192.232949 53.085089  L 181.969927 53.085089  z \" clip-path=\"url(#p20e2299913)\" style=\"fill: #fefebb; stroke: #444443; stroke-width: 0.5; stroke-linejoin: miter\" />\n",
       "   </g>\n",
       "   <g id=\"patch_20\">\n",
       "    <path d=\"M 17.761571 53.085089  L 28.024593 53.085089  L 28.024593 53.085089  L 17.761571 53.085089  z \" clip-path=\"url(#p20e2299913)\" style=\"fill: #d9e6f5; stroke: #444443; stroke-width: 0.5; stroke-linejoin: miter\" />\n",
       "   </g>\n",
       "   <g id=\"patch_21\">\n",
       "    <path d=\"M 28.024593 53.085089  L 38.287616 53.085089  L 38.287616 53.085089  L 28.024593 53.085089  z \" clip-path=\"url(#p20e2299913)\" style=\"fill: #d9e6f5; stroke: #444443; stroke-width: 0.5; stroke-linejoin: miter\" />\n",
       "   </g>\n",
       "   <g id=\"patch_22\">\n",
       "    <path d=\"M 38.287616 53.085089  L 48.550638 53.085089  L 48.550638 53.085089  L 38.287616 53.085089  z \" clip-path=\"url(#p20e2299913)\" style=\"fill: #d9e6f5; stroke: #444443; stroke-width: 0.5; stroke-linejoin: miter\" />\n",
       "   </g>\n",
       "   <g id=\"patch_23\">\n",
       "    <path d=\"M 48.550638 53.085089  L 58.81366 53.085089  L 58.81366 53.085089  L 48.550638 53.085089  z \" clip-path=\"url(#p20e2299913)\" style=\"fill: #d9e6f5; stroke: #444443; stroke-width: 0.5; stroke-linejoin: miter\" />\n",
       "   </g>\n",
       "   <g id=\"patch_24\">\n",
       "    <path d=\"M 58.81366 53.085089  L 69.076682 53.085089  L 69.076682 53.085089  L 58.81366 53.085089  z \" clip-path=\"url(#p20e2299913)\" style=\"fill: #d9e6f5; stroke: #444443; stroke-width: 0.5; stroke-linejoin: miter\" />\n",
       "   </g>\n",
       "   <g id=\"patch_25\">\n",
       "    <path d=\"M 69.076682 53.085089  L 79.339705 53.085089  L 79.339705 53.085089  L 69.076682 53.085089  z \" clip-path=\"url(#p20e2299913)\" style=\"fill: #d9e6f5; stroke: #444443; stroke-width: 0.5; stroke-linejoin: miter\" />\n",
       "   </g>\n",
       "   <g id=\"patch_26\">\n",
       "    <path d=\"M 79.339705 53.085089  L 89.602727 53.085089  L 89.602727 23.891756  L 79.339705 23.891756  z \" clip-path=\"url(#p20e2299913)\" style=\"fill: #d9e6f5; stroke: #444443; stroke-width: 0.5; stroke-linejoin: miter\" />\n",
       "   </g>\n",
       "   <g id=\"patch_27\">\n",
       "    <path d=\"M 89.602727 53.085089  L 99.865749 53.085089  L 99.865749 32.232708  L 89.602727 32.232708  z \" clip-path=\"url(#p20e2299913)\" style=\"fill: #d9e6f5; stroke: #444443; stroke-width: 0.5; stroke-linejoin: miter\" />\n",
       "   </g>\n",
       "   <g id=\"patch_28\">\n",
       "    <path d=\"M 99.865749 53.085089  L 110.128771 53.085089  L 110.128771 7.209851  L 99.865749 7.209851  z \" clip-path=\"url(#p20e2299913)\" style=\"fill: #d9e6f5; stroke: #444443; stroke-width: 0.5; stroke-linejoin: miter\" />\n",
       "   </g>\n",
       "   <g id=\"patch_29\">\n",
       "    <path d=\"M 110.128771 53.085089  L 120.391794 53.085089  L 120.391794 3.039375  L 110.128771 3.039375  z \" clip-path=\"url(#p20e2299913)\" style=\"fill: #d9e6f5; stroke: #444443; stroke-width: 0.5; stroke-linejoin: miter\" />\n",
       "   </g>\n",
       "   <g id=\"patch_30\">\n",
       "    <path d=\"M 120.391794 53.085089  L 130.654816 53.085089  L 130.654816 48.914613  L 120.391794 48.914613  z \" clip-path=\"url(#p20e2299913)\" style=\"fill: #d9e6f5; stroke: #444443; stroke-width: 0.5; stroke-linejoin: miter\" />\n",
       "   </g>\n",
       "   <g id=\"patch_31\">\n",
       "    <path d=\"M 130.654816 53.085089  L 140.917838 53.085089  L 140.917838 53.085089  L 130.654816 53.085089  z \" clip-path=\"url(#p20e2299913)\" style=\"fill: #d9e6f5; stroke: #444443; stroke-width: 0.5; stroke-linejoin: miter\" />\n",
       "   </g>\n",
       "   <g id=\"patch_32\">\n",
       "    <path d=\"M 140.917838 53.085089  L 151.18086 53.085089  L 151.18086 53.085089  L 140.917838 53.085089  z \" clip-path=\"url(#p20e2299913)\" style=\"fill: #d9e6f5; stroke: #444443; stroke-width: 0.5; stroke-linejoin: miter\" />\n",
       "   </g>\n",
       "   <g id=\"patch_33\">\n",
       "    <path d=\"M 151.18086 53.085089  L 161.443882 53.085089  L 161.443882 53.085089  L 151.18086 53.085089  z \" clip-path=\"url(#p20e2299913)\" style=\"fill: #d9e6f5; stroke: #444443; stroke-width: 0.5; stroke-linejoin: miter\" />\n",
       "   </g>\n",
       "   <g id=\"patch_34\">\n",
       "    <path d=\"M 161.443882 53.085089  L 171.706905 53.085089  L 171.706905 53.085089  L 161.443882 53.085089  z \" clip-path=\"url(#p20e2299913)\" style=\"fill: #d9e6f5; stroke: #444443; stroke-width: 0.5; stroke-linejoin: miter\" />\n",
       "   </g>\n",
       "   <g id=\"patch_35\">\n",
       "    <path d=\"M 171.706905 53.085089  L 181.969927 53.085089  L 181.969927 53.085089  L 171.706905 53.085089  z \" clip-path=\"url(#p20e2299913)\" style=\"fill: #d9e6f5; stroke: #444443; stroke-width: 0.5; stroke-linejoin: miter\" />\n",
       "   </g>\n",
       "   <g id=\"patch_36\">\n",
       "    <path d=\"M 181.969927 53.085089  L 192.232949 53.085089  L 192.232949 53.085089  L 181.969927 53.085089  z \" clip-path=\"url(#p20e2299913)\" style=\"fill: #d9e6f5; stroke: #444443; stroke-width: 0.5; stroke-linejoin: miter\" />\n",
       "   </g>\n",
       "   <g id=\"patch_37\">\n",
       "    <path d=\"M 17.761571 53.085089  L 28.024593 53.085089  L 28.024593 53.085089  L 17.761571 53.085089  z \" clip-path=\"url(#p20e2299913)\" style=\"fill: #a1dab4; stroke: #444443; stroke-width: 0.5; stroke-linejoin: miter\" />\n",
       "   </g>\n",
       "   <g id=\"patch_38\">\n",
       "    <path d=\"M 28.024593 53.085089  L 38.287616 53.085089  L 38.287616 53.085089  L 28.024593 53.085089  z \" clip-path=\"url(#p20e2299913)\" style=\"fill: #a1dab4; stroke: #444443; stroke-width: 0.5; stroke-linejoin: miter\" />\n",
       "   </g>\n",
       "   <g id=\"patch_39\">\n",
       "    <path d=\"M 38.287616 53.085089  L 48.550638 53.085089  L 48.550638 53.085089  L 38.287616 53.085089  z \" clip-path=\"url(#p20e2299913)\" style=\"fill: #a1dab4; stroke: #444443; stroke-width: 0.5; stroke-linejoin: miter\" />\n",
       "   </g>\n",
       "   <g id=\"patch_40\">\n",
       "    <path d=\"M 48.550638 53.085089  L 58.81366 53.085089  L 58.81366 53.085089  L 48.550638 53.085089  z \" clip-path=\"url(#p20e2299913)\" style=\"fill: #a1dab4; stroke: #444443; stroke-width: 0.5; stroke-linejoin: miter\" />\n",
       "   </g>\n",
       "   <g id=\"patch_41\">\n",
       "    <path d=\"M 58.81366 53.085089  L 69.076682 53.085089  L 69.076682 53.085089  L 58.81366 53.085089  z \" clip-path=\"url(#p20e2299913)\" style=\"fill: #a1dab4; stroke: #444443; stroke-width: 0.5; stroke-linejoin: miter\" />\n",
       "   </g>\n",
       "   <g id=\"patch_42\">\n",
       "    <path d=\"M 69.076682 53.085089  L 79.339705 53.085089  L 79.339705 53.085089  L 69.076682 53.085089  z \" clip-path=\"url(#p20e2299913)\" style=\"fill: #a1dab4; stroke: #444443; stroke-width: 0.5; stroke-linejoin: miter\" />\n",
       "   </g>\n",
       "   <g id=\"patch_43\">\n",
       "    <path d=\"M 79.339705 23.891756  L 89.602727 23.891756  L 89.602727 23.891756  L 79.339705 23.891756  z \" clip-path=\"url(#p20e2299913)\" style=\"fill: #a1dab4; stroke: #444443; stroke-width: 0.5; stroke-linejoin: miter\" />\n",
       "   </g>\n",
       "   <g id=\"patch_44\">\n",
       "    <path d=\"M 89.602727 32.232708  L 99.865749 32.232708  L 99.865749 32.232708  L 89.602727 32.232708  z \" clip-path=\"url(#p20e2299913)\" style=\"fill: #a1dab4; stroke: #444443; stroke-width: 0.5; stroke-linejoin: miter\" />\n",
       "   </g>\n",
       "   <g id=\"patch_45\">\n",
       "    <path d=\"M 99.865749 7.209851  L 110.128771 7.209851  L 110.128771 7.209851  L 99.865749 7.209851  z \" clip-path=\"url(#p20e2299913)\" style=\"fill: #a1dab4; stroke: #444443; stroke-width: 0.5; stroke-linejoin: miter\" />\n",
       "   </g>\n",
       "   <g id=\"patch_46\">\n",
       "    <path d=\"M 110.128771 3.039375  L 120.391794 3.039375  L 120.391794 3.039375  L 110.128771 3.039375  z \" clip-path=\"url(#p20e2299913)\" style=\"fill: #a1dab4; stroke: #444443; stroke-width: 0.5; stroke-linejoin: miter\" />\n",
       "   </g>\n",
       "   <g id=\"patch_47\">\n",
       "    <path d=\"M 120.391794 48.914613  L 130.654816 48.914613  L 130.654816 48.914613  L 120.391794 48.914613  z \" clip-path=\"url(#p20e2299913)\" style=\"fill: #a1dab4; stroke: #444443; stroke-width: 0.5; stroke-linejoin: miter\" />\n",
       "   </g>\n",
       "   <g id=\"patch_48\">\n",
       "    <path d=\"M 130.654816 53.085089  L 140.917838 53.085089  L 140.917838 48.914613  L 130.654816 48.914613  z \" clip-path=\"url(#p20e2299913)\" style=\"fill: #a1dab4; stroke: #444443; stroke-width: 0.5; stroke-linejoin: miter\" />\n",
       "   </g>\n",
       "   <g id=\"patch_49\">\n",
       "    <path d=\"M 140.917838 53.085089  L 151.18086 53.085089  L 151.18086 53.085089  L 140.917838 53.085089  z \" clip-path=\"url(#p20e2299913)\" style=\"fill: #a1dab4; stroke: #444443; stroke-width: 0.5; stroke-linejoin: miter\" />\n",
       "   </g>\n",
       "   <g id=\"patch_50\">\n",
       "    <path d=\"M 151.18086 53.085089  L 161.443882 53.085089  L 161.443882 53.085089  L 151.18086 53.085089  z \" clip-path=\"url(#p20e2299913)\" style=\"fill: #a1dab4; stroke: #444443; stroke-width: 0.5; stroke-linejoin: miter\" />\n",
       "   </g>\n",
       "   <g id=\"patch_51\">\n",
       "    <path d=\"M 161.443882 53.085089  L 171.706905 53.085089  L 171.706905 53.085089  L 161.443882 53.085089  z \" clip-path=\"url(#p20e2299913)\" style=\"fill: #a1dab4; stroke: #444443; stroke-width: 0.5; stroke-linejoin: miter\" />\n",
       "   </g>\n",
       "   <g id=\"patch_52\">\n",
       "    <path d=\"M 171.706905 53.085089  L 181.969927 53.085089  L 181.969927 53.085089  L 171.706905 53.085089  z \" clip-path=\"url(#p20e2299913)\" style=\"fill: #a1dab4; stroke: #444443; stroke-width: 0.5; stroke-linejoin: miter\" />\n",
       "   </g>\n",
       "   <g id=\"patch_53\">\n",
       "    <path d=\"M 181.969927 53.085089  L 192.232949 53.085089  L 192.232949 53.085089  L 181.969927 53.085089  z \" clip-path=\"url(#p20e2299913)\" style=\"fill: #a1dab4; stroke: #444443; stroke-width: 0.5; stroke-linejoin: miter\" />\n",
       "   </g>\n",
       "   <g id=\"patch_54\">\n",
       "    <path d=\"M 130.441005 53.900489  L 127.126485 61.239089  L 133.755525 61.239089  z \" style=\"fill: #444443\" />\n",
       "   </g>\n",
       "   <g id=\"matplotlib.axis_1\">\n",
       "    <g id=\"xtick_1\">\n",
       "     <g id=\"line2d_1\">\n",
       "      <defs>\n",
       "       <path id=\"m25a146eea3\" d=\"M 0 0  L 0 3.5  \" style=\"stroke: #000000; stroke-width: 0.3\" />\n",
       "      </defs>\n",
       "      <g>\n",
       "       <use xlink:href=\"#m25a146eea3\" x=\"17.761571\" y=\"53.085089\" style=\"stroke: #000000; stroke-width: 0.3\" />\n",
       "      </g>\n",
       "     </g>\n",
       "     <g id=\"text_1\">\n",
       "      \n",
       "      <g style=\"fill: #444443\" transform=\"translate(11.400321 66.163839)scale(0.08 -0.08)\">\n",
       "       <defs>\n",
       "        <path id=\"DejaVuSans-30\" d=\"M 2034 4250  Q 1547 4250 1301 3770  Q 1056 3291 1056 2328  Q 1056 1369 1301 889  Q 1547 409 2034 409  Q 2525 409 2770 889  Q 3016 1369 3016 2328  Q 3016 3291 2770 3770  Q 2525 4250 2034 4250  z M 2034 4750  Q 2819 4750 3233 4129  Q 3647 3509 3647 2328  Q 3647 1150 3233 529  Q 2819 -91 2034 -91  Q 1250 -91 836 529  Q 422 1150 422 2328  Q 422 3509 836 4129  Q 1250 4750 2034 4750  z \" transform=\"scale(0.015625)\" />\n",
       "        <path id=\"DejaVuSans-2e\" d=\"M 684 794  L 1344 794  L 1344 0  L 684 0  L 684 794  z \" transform=\"scale(0.015625)\" />\n",
       "        <path id=\"DejaVuSans-31\" d=\"M 794 531  L 1825 531  L 1825 4091  L 703 3866  L 703 4441  L 1819 4666  L 2450 4666  L 2450 531  L 3481 531  L 3481 0  L 794 0  L 794 531  z \" transform=\"scale(0.015625)\" />\n",
       "       </defs>\n",
       "       <use xlink:href=\"#DejaVuSans-30\" />\n",
       "       <use xlink:href=\"#DejaVuSans-2e\" x=\"63.623047\" />\n",
       "       <use xlink:href=\"#DejaVuSans-31\" x=\"95.410156\" />\n",
       "      </g>\n",
       "     </g>\n",
       "    </g>\n",
       "    <g id=\"xtick_2\">\n",
       "     <g id=\"line2d_2\">\n",
       "      <g>\n",
       "       <use xlink:href=\"#m25a146eea3\" x=\"192.232949\" y=\"53.085089\" style=\"stroke: #000000; stroke-width: 0.3\" />\n",
       "      </g>\n",
       "     </g>\n",
       "     <g id=\"text_2\">\n",
       "      \n",
       "      <g style=\"fill: #444443\" transform=\"translate(185.871699 66.163839)scale(0.08 -0.08)\">\n",
       "       <defs>\n",
       "        <path id=\"DejaVuSans-32\" d=\"M 1228 531  L 3431 531  L 3431 0  L 469 0  L 469 531  Q 828 903 1448 1529  Q 2069 2156 2228 2338  Q 2531 2678 2651 2914  Q 2772 3150 2772 3378  Q 2772 3750 2511 3984  Q 2250 4219 1831 4219  Q 1534 4219 1204 4116  Q 875 4013 500 3803  L 500 4441  Q 881 4594 1212 4672  Q 1544 4750 1819 4750  Q 2544 4750 2975 4387  Q 3406 4025 3406 3419  Q 3406 3131 3298 2873  Q 3191 2616 2906 2266  Q 2828 2175 2409 1742  Q 1991 1309 1228 531  z \" transform=\"scale(0.015625)\" />\n",
       "        <path id=\"DejaVuSans-35\" d=\"M 691 4666  L 3169 4666  L 3169 4134  L 1269 4134  L 1269 2991  Q 1406 3038 1543 3061  Q 1681 3084 1819 3084  Q 2600 3084 3056 2656  Q 3513 2228 3513 1497  Q 3513 744 3044 326  Q 2575 -91 1722 -91  Q 1428 -91 1123 -41  Q 819 9 494 109  L 494 744  Q 775 591 1075 516  Q 1375 441 1709 441  Q 2250 441 2565 725  Q 2881 1009 2881 1497  Q 2881 1984 2565 2268  Q 2250 2553 1709 2553  Q 1456 2553 1204 2497  Q 953 2441 691 2322  L 691 4666  z \" transform=\"scale(0.015625)\" />\n",
       "       </defs>\n",
       "       <use xlink:href=\"#DejaVuSans-32\" />\n",
       "       <use xlink:href=\"#DejaVuSans-2e\" x=\"63.623047\" />\n",
       "       <use xlink:href=\"#DejaVuSans-35\" x=\"95.410156\" />\n",
       "      </g>\n",
       "     </g>\n",
       "    </g>\n",
       "    <g id=\"text_3\">\n",
       "     \n",
       "     <g style=\"fill: #444443\" transform=\"translate(66.906875 80.563214)scale(0.12 -0.12)\">\n",
       "      <defs>\n",
       "       <path id=\"ArialMT-70\" d=\"M 422 -1272  L 422 3319  L 934 3319  L 934 2888  Q 1116 3141 1344 3267  Q 1572 3394 1897 3394  Q 2322 3394 2647 3175  Q 2972 2956 3137 2557  Q 3303 2159 3303 1684  Q 3303 1175 3120 767  Q 2938 359 2589 142  Q 2241 -75 1856 -75  Q 1575 -75 1351 44  Q 1128 163 984 344  L 984 -1272  L 422 -1272  z M 931 1641  Q 931 1000 1190 694  Q 1450 388 1819 388  Q 2194 388 2461 705  Q 2728 1022 2728 1688  Q 2728 2322 2467 2637  Q 2206 2953 1844 2953  Q 1484 2953 1207 2617  Q 931 2281 931 1641  z \" transform=\"scale(0.015625)\" />\n",
       "       <path id=\"ArialMT-65\" d=\"M 2694 1069  L 3275 997  Q 3138 488 2766 206  Q 2394 -75 1816 -75  Q 1088 -75 661 373  Q 234 822 234 1631  Q 234 2469 665 2931  Q 1097 3394 1784 3394  Q 2450 3394 2872 2941  Q 3294 2488 3294 1666  Q 3294 1616 3291 1516  L 816 1516  Q 847 969 1125 678  Q 1403 388 1819 388  Q 2128 388 2347 550  Q 2566 713 2694 1069  z M 847 1978  L 2700 1978  Q 2663 2397 2488 2606  Q 2219 2931 1791 2931  Q 1403 2931 1139 2672  Q 875 2413 847 1978  z \" transform=\"scale(0.015625)\" />\n",
       "       <path id=\"ArialMT-74\" d=\"M 1650 503  L 1731 6  Q 1494 -44 1306 -44  Q 1000 -44 831 53  Q 663 150 594 308  Q 525 466 525 972  L 525 2881  L 113 2881  L 113 3319  L 525 3319  L 525 4141  L 1084 4478  L 1084 3319  L 1650 3319  L 1650 2881  L 1084 2881  L 1084 941  Q 1084 700 1114 631  Q 1144 563 1211 522  Q 1278 481 1403 481  Q 1497 481 1650 503  z \" transform=\"scale(0.015625)\" />\n",
       "       <path id=\"ArialMT-61\" d=\"M 2588 409  Q 2275 144 1986 34  Q 1697 -75 1366 -75  Q 819 -75 525 192  Q 231 459 231 875  Q 231 1119 342 1320  Q 453 1522 633 1644  Q 813 1766 1038 1828  Q 1203 1872 1538 1913  Q 2219 1994 2541 2106  Q 2544 2222 2544 2253  Q 2544 2597 2384 2738  Q 2169 2928 1744 2928  Q 1347 2928 1158 2789  Q 969 2650 878 2297  L 328 2372  Q 403 2725 575 2942  Q 747 3159 1072 3276  Q 1397 3394 1825 3394  Q 2250 3394 2515 3294  Q 2781 3194 2906 3042  Q 3031 2891 3081 2659  Q 3109 2516 3109 2141  L 3109 1391  Q 3109 606 3145 398  Q 3181 191 3288 0  L 2700 0  Q 2613 175 2588 409  z M 2541 1666  Q 2234 1541 1622 1453  Q 1275 1403 1131 1340  Q 988 1278 909 1158  Q 831 1038 831 891  Q 831 666 1001 516  Q 1172 366 1500 366  Q 1825 366 2078 508  Q 2331 650 2450 897  Q 2541 1088 2541 1459  L 2541 1666  z \" transform=\"scale(0.015625)\" />\n",
       "       <path id=\"ArialMT-6c\" d=\"M 409 0  L 409 4581  L 972 4581  L 972 0  L 409 0  z \" transform=\"scale(0.015625)\" />\n",
       "       <path id=\"ArialMT-20\" transform=\"scale(0.015625)\" />\n",
       "       <path id=\"ArialMT-77\" d=\"M 1034 0  L 19 3319  L 600 3319  L 1128 1403  L 1325 691  Q 1338 744 1497 1375  L 2025 3319  L 2603 3319  L 3100 1394  L 3266 759  L 3456 1400  L 4025 3319  L 4572 3319  L 3534 0  L 2950 0  L 2422 1988  L 2294 2553  L 1622 0  L 1034 0  z \" transform=\"scale(0.015625)\" />\n",
       "       <path id=\"ArialMT-69\" d=\"M 425 3934  L 425 4581  L 988 4581  L 988 3934  L 425 3934  z M 425 0  L 425 3319  L 988 3319  L 988 0  L 425 0  z \" transform=\"scale(0.015625)\" />\n",
       "       <path id=\"ArialMT-64\" d=\"M 2575 0  L 2575 419  Q 2259 -75 1647 -75  Q 1250 -75 917 144  Q 584 363 401 755  Q 219 1147 219 1656  Q 219 2153 384 2558  Q 550 2963 881 3178  Q 1213 3394 1622 3394  Q 1922 3394 2156 3267  Q 2391 3141 2538 2938  L 2538 4581  L 3097 4581  L 3097 0  L 2575 0  z M 797 1656  Q 797 1019 1065 703  Q 1334 388 1700 388  Q 2069 388 2326 689  Q 2584 991 2584 1609  Q 2584 2291 2321 2609  Q 2059 2928 1675 2928  Q 1300 2928 1048 2622  Q 797 2316 797 1656  z \" transform=\"scale(0.015625)\" />\n",
       "       <path id=\"ArialMT-68\" d=\"M 422 0  L 422 4581  L 984 4581  L 984 2938  Q 1378 3394 1978 3394  Q 2347 3394 2619 3248  Q 2891 3103 3008 2847  Q 3125 2591 3125 2103  L 3125 0  L 2563 0  L 2563 2103  Q 2563 2525 2380 2717  Q 2197 2909 1863 2909  Q 1613 2909 1392 2779  Q 1172 2650 1078 2428  Q 984 2206 984 1816  L 984 0  L 422 0  z \" transform=\"scale(0.015625)\" />\n",
       "       <path id=\"ArialMT-28\" d=\"M 1497 -1347  Q 1031 -759 709 28  Q 388 816 388 1659  Q 388 2403 628 3084  Q 909 3875 1497 4659  L 1900 4659  Q 1522 4009 1400 3731  Q 1209 3300 1100 2831  Q 966 2247 966 1656  Q 966 153 1900 -1347  L 1497 -1347  z \" transform=\"scale(0.015625)\" />\n",
       "       <path id=\"ArialMT-63\" d=\"M 2588 1216  L 3141 1144  Q 3050 572 2676 248  Q 2303 -75 1759 -75  Q 1078 -75 664 370  Q 250 816 250 1647  Q 250 2184 428 2587  Q 606 2991 970 3192  Q 1334 3394 1763 3394  Q 2303 3394 2647 3120  Q 2991 2847 3088 2344  L 2541 2259  Q 2463 2594 2264 2762  Q 2066 2931 1784 2931  Q 1359 2931 1093 2626  Q 828 2322 828 1663  Q 828 994 1084 691  Q 1341 388 1753 388  Q 2084 388 2306 591  Q 2528 794 2588 1216  z \" transform=\"scale(0.015625)\" />\n",
       "       <path id=\"ArialMT-6d\" d=\"M 422 0  L 422 3319  L 925 3319  L 925 2853  Q 1081 3097 1340 3245  Q 1600 3394 1931 3394  Q 2300 3394 2536 3241  Q 2772 3088 2869 2813  Q 3263 3394 3894 3394  Q 4388 3394 4653 3120  Q 4919 2847 4919 2278  L 4919 0  L 4359 0  L 4359 2091  Q 4359 2428 4304 2576  Q 4250 2725 4106 2815  Q 3963 2906 3769 2906  Q 3419 2906 3187 2673  Q 2956 2441 2956 1928  L 2956 0  L 2394 0  L 2394 2156  Q 2394 2531 2256 2718  Q 2119 2906 1806 2906  Q 1569 2906 1367 2781  Q 1166 2656 1075 2415  Q 984 2175 984 1722  L 984 0  L 422 0  z \" transform=\"scale(0.015625)\" />\n",
       "       <path id=\"ArialMT-29\" d=\"M 791 -1347  L 388 -1347  Q 1322 153 1322 1656  Q 1322 2244 1188 2822  Q 1081 3291 891 3722  Q 769 4003 388 4659  L 791 4659  Q 1378 3875 1659 3084  Q 1900 2403 1900 1659  Q 1900 816 1576 28  Q 1253 -759 791 -1347  z \" transform=\"scale(0.015625)\" />\n",
       "      </defs>\n",
       "      <use xlink:href=\"#ArialMT-70\" />\n",
       "      <use xlink:href=\"#ArialMT-65\" x=\"55.615234\" />\n",
       "      <use xlink:href=\"#ArialMT-74\" x=\"111.230469\" />\n",
       "      <use xlink:href=\"#ArialMT-61\" x=\"139.013672\" />\n",
       "      <use xlink:href=\"#ArialMT-6c\" x=\"194.628906\" />\n",
       "      <use xlink:href=\"#ArialMT-20\" x=\"216.845703\" />\n",
       "      <use xlink:href=\"#ArialMT-77\" x=\"244.628906\" />\n",
       "      <use xlink:href=\"#ArialMT-69\" x=\"316.845703\" />\n",
       "      <use xlink:href=\"#ArialMT-64\" x=\"339.0625\" />\n",
       "      <use xlink:href=\"#ArialMT-74\" x=\"394.677734\" />\n",
       "      <use xlink:href=\"#ArialMT-68\" x=\"422.460938\" />\n",
       "      <use xlink:href=\"#ArialMT-20\" x=\"478.076172\" />\n",
       "      <use xlink:href=\"#ArialMT-28\" x=\"505.859375\" />\n",
       "      <use xlink:href=\"#ArialMT-63\" x=\"539.160156\" />\n",
       "      <use xlink:href=\"#ArialMT-6d\" x=\"589.160156\" />\n",
       "      <use xlink:href=\"#ArialMT-29\" x=\"672.460938\" />\n",
       "     </g>\n",
       "    </g>\n",
       "   </g>\n",
       "   <g id=\"matplotlib.axis_2\">\n",
       "    <g id=\"ytick_1\">\n",
       "     <g id=\"line2d_3\">\n",
       "      <defs>\n",
       "       <path id=\"m1ec0e8d85a\" d=\"M 0 0  L -3.5 0  \" style=\"stroke: #000000; stroke-width: 0.3\" />\n",
       "      </defs>\n",
       "      <g>\n",
       "       <use xlink:href=\"#m1ec0e8d85a\" x=\"17.18\" y=\"53.085089\" style=\"stroke: #000000; stroke-width: 0.3\" />\n",
       "      </g>\n",
       "     </g>\n",
       "     <g id=\"text_4\">\n",
       "      \n",
       "      <g style=\"fill: #444443\" transform=\"translate(5.09 56.124464)scale(0.08 -0.08)\">\n",
       "       <use xlink:href=\"#DejaVuSans-30\" />\n",
       "      </g>\n",
       "     </g>\n",
       "    </g>\n",
       "    <g id=\"ytick_2\">\n",
       "     <g id=\"line2d_4\">\n",
       "      <g>\n",
       "       <use xlink:href=\"#m1ec0e8d85a\" x=\"17.18\" y=\"3.039375\" style=\"stroke: #000000; stroke-width: 0.3\" />\n",
       "      </g>\n",
       "     </g>\n",
       "     <g id=\"text_5\">\n",
       "      \n",
       "      <g style=\"fill: #444443\" transform=\"translate(0 6.07875)scale(0.08 -0.08)\">\n",
       "       <use xlink:href=\"#DejaVuSans-31\" />\n",
       "       <use xlink:href=\"#DejaVuSans-32\" x=\"63.623047\" />\n",
       "      </g>\n",
       "     </g>\n",
       "    </g>\n",
       "   </g>\n",
       "   <g id=\"patch_55\">\n",
       "    <path d=\"M 17.18 53.085089  L 17.18 0.537089  \" style=\"fill: none; stroke: #000000; stroke-width: 0.3; stroke-linejoin: miter; stroke-linecap: square\" />\n",
       "   </g>\n",
       "   <g id=\"patch_56\">\n",
       "    <path d=\"M 17.18 53.085089  L 201.32 53.085089  \" style=\"fill: none; stroke: #000000; stroke-width: 0.3; stroke-linejoin: miter; stroke-linecap: square\" />\n",
       "   </g>\n",
       "   <g id=\"text_6\">\n",
       "    \n",
       "    <g style=\"fill: #444443\" transform=\"translate(122.65663 69.393089)scale(0.08 -0.08)\">\n",
       "     <defs>\n",
       "      <path id=\"ArialMT-31\" d=\"M 2384 0  L 1822 0  L 1822 3584  Q 1619 3391 1289 3197  Q 959 3003 697 2906  L 697 3450  Q 1169 3672 1522 3987  Q 1875 4303 2022 4600  L 2384 4600  L 2384 0  z \" transform=\"scale(0.015625)\" />\n",
       "      <path id=\"ArialMT-2e\" d=\"M 581 0  L 581 641  L 1222 641  L 1222 0  L 581 0  z \" transform=\"scale(0.015625)\" />\n",
       "      <path id=\"ArialMT-36\" d=\"M 3184 3459  L 2625 3416  Q 2550 3747 2413 3897  Q 2184 4138 1850 4138  Q 1581 4138 1378 3988  Q 1113 3794 959 3422  Q 806 3050 800 2363  Q 1003 2672 1297 2822  Q 1591 2972 1913 2972  Q 2475 2972 2870 2558  Q 3266 2144 3266 1488  Q 3266 1056 3080 686  Q 2894 316 2569 119  Q 2244 -78 1831 -78  Q 1128 -78 684 439  Q 241 956 241 2144  Q 241 3472 731 4075  Q 1159 4600 1884 4600  Q 2425 4600 2770 4297  Q 3116 3994 3184 3459  z M 888 1484  Q 888 1194 1011 928  Q 1134 663 1356 523  Q 1578 384 1822 384  Q 2178 384 2434 671  Q 2691 959 2691 1453  Q 2691 1928 2437 2201  Q 2184 2475 1800 2475  Q 1419 2475 1153 2201  Q 888 1928 888 1484  z \" transform=\"scale(0.015625)\" />\n",
       "      <path id=\"ArialMT-35\" d=\"M 266 1200  L 856 1250  Q 922 819 1161 601  Q 1400 384 1738 384  Q 2144 384 2425 690  Q 2706 997 2706 1503  Q 2706 1984 2436 2262  Q 2166 2541 1728 2541  Q 1456 2541 1237 2417  Q 1019 2294 894 2097  L 366 2166  L 809 4519  L 3088 4519  L 3088 3981  L 1259 3981  L 1013 2750  Q 1425 3038 1878 3038  Q 2478 3038 2890 2622  Q 3303 2206 3303 1553  Q 3303 931 2941 478  Q 2500 -78 1738 -78  Q 1113 -78 717 272  Q 322 622 266 1200  z \" transform=\"scale(0.015625)\" />\n",
       "     </defs>\n",
       "     <use xlink:href=\"#ArialMT-31\" />\n",
       "     <use xlink:href=\"#ArialMT-2e\" x=\"55.615234\" />\n",
       "     <use xlink:href=\"#ArialMT-36\" x=\"83.398438\" />\n",
       "     <use xlink:href=\"#ArialMT-35\" x=\"139.013672\" />\n",
       "    </g>\n",
       "   </g>\n",
       "  </g>\n",
       " </g>\n",
       " <defs>\n",
       "  <clipPath id=\"p20e2299913\">\n",
       "   <rect x=\"17.18\" y=\"0.537089\" width=\"184.14\" height=\"52.548\" />\n",
       "  </clipPath>\n",
       " </defs>\n",
       "</svg></g>\n",
       "\n",
       "<g id=\"node2\" class=\"node\"><title>node6</title>\n",
       "<svg width=\"150px\" height=\"44px\" viewBox=\"0 0 201.32 58.928839\" version=\"1.1\" preserveAspectRatio=\"xMinYMin meet\" x=\"214\" y=\"-136\">\n",
       " <metadata>\n",
       "  <rdf:RDF>\n",
       "   <ns2:Work>\n",
       "    <dc:type rdf:resource=\"http://purl.org/dc/dcmitype/StillImage\" />\n",
       "    <dc:date>2022-08-08T15:17:13.581079</dc:date>\n",
       "    <dc:format>image/svg+xml</dc:format>\n",
       "    <dc:creator>\n",
       "     <ns2:Agent>\n",
       "      <dc:title>Matplotlib v3.5.1, https://matplotlib.org/</dc:title>\n",
       "     </ns2:Agent>\n",
       "    </dc:creator>\n",
       "   </ns2:Work>\n",
       "  </rdf:RDF>\n",
       " </metadata>\n",
       " <defs>\n",
       "  <style type=\"text/css\">*{stroke-linejoin: round; stroke-linecap: butt}</style>\n",
       " </defs>\n",
       " <g id=\"figure_1\">\n",
       "  <g id=\"patch_1\">\n",
       "   <path d=\"M 0 58.928839  L 201.32 58.928839  L 201.32 0  L 0 0  L 0 58.928839  z \" style=\"fill: none\" />\n",
       "  </g>\n",
       "  <g id=\"axes_1\">\n",
       "   <g id=\"patch_2\">\n",
       "    <path d=\"M 17.18 28.925089  L 201.32 28.925089  L 201.32 1.745089  L 17.18 1.745089  z \" style=\"fill: #ffffff\" />\n",
       "   </g>\n",
       "   <g id=\"patch_3\">\n",
       "    <path d=\"M 17.761571 28.925089  L 28.024593 28.925089  L 28.024593 28.925089  L 17.761571 28.925089  z \" clip-path=\"url(#p4c7ca3c28b)\" style=\"fill: #fefebb; stroke: #444443; stroke-width: 0.5; stroke-linejoin: miter\" />\n",
       "   </g>\n",
       "   <g id=\"patch_4\">\n",
       "    <path d=\"M 28.024593 28.925089  L 38.287616 28.925089  L 38.287616 28.925089  L 28.024593 28.925089  z \" clip-path=\"url(#p4c7ca3c28b)\" style=\"fill: #fefebb; stroke: #444443; stroke-width: 0.5; stroke-linejoin: miter\" />\n",
       "   </g>\n",
       "   <g id=\"patch_5\">\n",
       "    <path d=\"M 38.287616 28.925089  L 48.550638 28.925089  L 48.550638 28.925089  L 38.287616 28.925089  z \" clip-path=\"url(#p4c7ca3c28b)\" style=\"fill: #fefebb; stroke: #444443; stroke-width: 0.5; stroke-linejoin: miter\" />\n",
       "   </g>\n",
       "   <g id=\"patch_6\">\n",
       "    <path d=\"M 48.550638 28.925089  L 58.81366 28.925089  L 58.81366 28.925089  L 48.550638 28.925089  z \" clip-path=\"url(#p4c7ca3c28b)\" style=\"fill: #fefebb; stroke: #444443; stroke-width: 0.5; stroke-linejoin: miter\" />\n",
       "   </g>\n",
       "   <g id=\"patch_7\">\n",
       "    <path d=\"M 58.81366 28.925089  L 69.076682 28.925089  L 69.076682 28.925089  L 58.81366 28.925089  z \" clip-path=\"url(#p4c7ca3c28b)\" style=\"fill: #fefebb; stroke: #444443; stroke-width: 0.5; stroke-linejoin: miter\" />\n",
       "   </g>\n",
       "   <g id=\"patch_8\">\n",
       "    <path d=\"M 69.076682 28.925089  L 79.339705 28.925089  L 79.339705 28.925089  L 69.076682 28.925089  z \" clip-path=\"url(#p4c7ca3c28b)\" style=\"fill: #fefebb; stroke: #444443; stroke-width: 0.5; stroke-linejoin: miter\" />\n",
       "   </g>\n",
       "   <g id=\"patch_9\">\n",
       "    <path d=\"M 79.339705 28.925089  L 89.602727 28.925089  L 89.602727 28.925089  L 79.339705 28.925089  z \" clip-path=\"url(#p4c7ca3c28b)\" style=\"fill: #fefebb; stroke: #444443; stroke-width: 0.5; stroke-linejoin: miter\" />\n",
       "   </g>\n",
       "   <g id=\"patch_10\">\n",
       "    <path d=\"M 89.602727 28.925089  L 99.865749 28.925089  L 99.865749 28.925089  L 89.602727 28.925089  z \" clip-path=\"url(#p4c7ca3c28b)\" style=\"fill: #fefebb; stroke: #444443; stroke-width: 0.5; stroke-linejoin: miter\" />\n",
       "   </g>\n",
       "   <g id=\"patch_11\">\n",
       "    <path d=\"M 99.865749 28.925089  L 110.128771 28.925089  L 110.128771 28.925089  L 99.865749 28.925089  z \" clip-path=\"url(#p4c7ca3c28b)\" style=\"fill: #fefebb; stroke: #444443; stroke-width: 0.5; stroke-linejoin: miter\" />\n",
       "   </g>\n",
       "   <g id=\"patch_12\">\n",
       "    <path d=\"M 110.128771 28.925089  L 120.391794 28.925089  L 120.391794 28.925089  L 110.128771 28.925089  z \" clip-path=\"url(#p4c7ca3c28b)\" style=\"fill: #fefebb; stroke: #444443; stroke-width: 0.5; stroke-linejoin: miter\" />\n",
       "   </g>\n",
       "   <g id=\"patch_13\">\n",
       "    <path d=\"M 120.391794 28.925089  L 130.654816 28.925089  L 130.654816 28.925089  L 120.391794 28.925089  z \" clip-path=\"url(#p4c7ca3c28b)\" style=\"fill: #fefebb; stroke: #444443; stroke-width: 0.5; stroke-linejoin: miter\" />\n",
       "   </g>\n",
       "   <g id=\"patch_14\">\n",
       "    <path d=\"M 130.654816 28.925089  L 140.917838 28.925089  L 140.917838 28.925089  L 130.654816 28.925089  z \" clip-path=\"url(#p4c7ca3c28b)\" style=\"fill: #fefebb; stroke: #444443; stroke-width: 0.5; stroke-linejoin: miter\" />\n",
       "   </g>\n",
       "   <g id=\"patch_15\">\n",
       "    <path d=\"M 140.917838 28.925089  L 151.18086 28.925089  L 151.18086 28.925089  L 140.917838 28.925089  z \" clip-path=\"url(#p4c7ca3c28b)\" style=\"fill: #fefebb; stroke: #444443; stroke-width: 0.5; stroke-linejoin: miter\" />\n",
       "   </g>\n",
       "   <g id=\"patch_16\">\n",
       "    <path d=\"M 151.18086 28.925089  L 161.443882 28.925089  L 161.443882 28.925089  L 151.18086 28.925089  z \" clip-path=\"url(#p4c7ca3c28b)\" style=\"fill: #fefebb; stroke: #444443; stroke-width: 0.5; stroke-linejoin: miter\" />\n",
       "   </g>\n",
       "   <g id=\"patch_17\">\n",
       "    <path d=\"M 161.443882 28.925089  L 171.706905 28.925089  L 171.706905 28.925089  L 161.443882 28.925089  z \" clip-path=\"url(#p4c7ca3c28b)\" style=\"fill: #fefebb; stroke: #444443; stroke-width: 0.5; stroke-linejoin: miter\" />\n",
       "   </g>\n",
       "   <g id=\"patch_18\">\n",
       "    <path d=\"M 171.706905 28.925089  L 181.969927 28.925089  L 181.969927 28.925089  L 171.706905 28.925089  z \" clip-path=\"url(#p4c7ca3c28b)\" style=\"fill: #fefebb; stroke: #444443; stroke-width: 0.5; stroke-linejoin: miter\" />\n",
       "   </g>\n",
       "   <g id=\"patch_19\">\n",
       "    <path d=\"M 181.969927 28.925089  L 192.232949 28.925089  L 192.232949 28.925089  L 181.969927 28.925089  z \" clip-path=\"url(#p4c7ca3c28b)\" style=\"fill: #fefebb; stroke: #444443; stroke-width: 0.5; stroke-linejoin: miter\" />\n",
       "   </g>\n",
       "   <g id=\"patch_20\">\n",
       "    <path d=\"M 17.761571 28.925089  L 28.024593 28.925089  L 28.024593 28.925089  L 17.761571 28.925089  z \" clip-path=\"url(#p4c7ca3c28b)\" style=\"fill: #d9e6f5; stroke: #444443; stroke-width: 0.5; stroke-linejoin: miter\" />\n",
       "   </g>\n",
       "   <g id=\"patch_21\">\n",
       "    <path d=\"M 28.024593 28.925089  L 38.287616 28.925089  L 38.287616 28.925089  L 28.024593 28.925089  z \" clip-path=\"url(#p4c7ca3c28b)\" style=\"fill: #d9e6f5; stroke: #444443; stroke-width: 0.5; stroke-linejoin: miter\" />\n",
       "   </g>\n",
       "   <g id=\"patch_22\">\n",
       "    <path d=\"M 38.287616 28.925089  L 48.550638 28.925089  L 48.550638 28.925089  L 38.287616 28.925089  z \" clip-path=\"url(#p4c7ca3c28b)\" style=\"fill: #d9e6f5; stroke: #444443; stroke-width: 0.5; stroke-linejoin: miter\" />\n",
       "   </g>\n",
       "   <g id=\"patch_23\">\n",
       "    <path d=\"M 48.550638 28.925089  L 58.81366 28.925089  L 58.81366 28.925089  L 48.550638 28.925089  z \" clip-path=\"url(#p4c7ca3c28b)\" style=\"fill: #d9e6f5; stroke: #444443; stroke-width: 0.5; stroke-linejoin: miter\" />\n",
       "   </g>\n",
       "   <g id=\"patch_24\">\n",
       "    <path d=\"M 58.81366 28.925089  L 69.076682 28.925089  L 69.076682 28.925089  L 58.81366 28.925089  z \" clip-path=\"url(#p4c7ca3c28b)\" style=\"fill: #d9e6f5; stroke: #444443; stroke-width: 0.5; stroke-linejoin: miter\" />\n",
       "   </g>\n",
       "   <g id=\"patch_25\">\n",
       "    <path d=\"M 69.076682 28.925089  L 79.339705 28.925089  L 79.339705 28.925089  L 69.076682 28.925089  z \" clip-path=\"url(#p4c7ca3c28b)\" style=\"fill: #d9e6f5; stroke: #444443; stroke-width: 0.5; stroke-linejoin: miter\" />\n",
       "   </g>\n",
       "   <g id=\"patch_26\">\n",
       "    <path d=\"M 79.339705 28.925089  L 89.602727 28.925089  L 89.602727 28.925089  L 79.339705 28.925089  z \" clip-path=\"url(#p4c7ca3c28b)\" style=\"fill: #d9e6f5; stroke: #444443; stroke-width: 0.5; stroke-linejoin: miter\" />\n",
       "   </g>\n",
       "   <g id=\"patch_27\">\n",
       "    <path d=\"M 89.602727 28.925089  L 99.865749 28.925089  L 99.865749 28.925089  L 89.602727 28.925089  z \" clip-path=\"url(#p4c7ca3c28b)\" style=\"fill: #d9e6f5; stroke: #444443; stroke-width: 0.5; stroke-linejoin: miter\" />\n",
       "   </g>\n",
       "   <g id=\"patch_28\">\n",
       "    <path d=\"M 99.865749 28.925089  L 110.128771 28.925089  L 110.128771 28.925089  L 99.865749 28.925089  z \" clip-path=\"url(#p4c7ca3c28b)\" style=\"fill: #d9e6f5; stroke: #444443; stroke-width: 0.5; stroke-linejoin: miter\" />\n",
       "   </g>\n",
       "   <g id=\"patch_29\">\n",
       "    <path d=\"M 110.128771 28.925089  L 120.391794 28.925089  L 120.391794 25.473661  L 110.128771 25.473661  z \" clip-path=\"url(#p4c7ca3c28b)\" style=\"fill: #d9e6f5; stroke: #444443; stroke-width: 0.5; stroke-linejoin: miter\" />\n",
       "   </g>\n",
       "   <g id=\"patch_30\">\n",
       "    <path d=\"M 120.391794 28.925089  L 130.654816 28.925089  L 130.654816 27.199375  L 120.391794 27.199375  z \" clip-path=\"url(#p4c7ca3c28b)\" style=\"fill: #d9e6f5; stroke: #444443; stroke-width: 0.5; stroke-linejoin: miter\" />\n",
       "   </g>\n",
       "   <g id=\"patch_31\">\n",
       "    <path d=\"M 130.654816 28.925089  L 140.917838 28.925089  L 140.917838 27.199375  L 130.654816 27.199375  z \" clip-path=\"url(#p4c7ca3c28b)\" style=\"fill: #d9e6f5; stroke: #444443; stroke-width: 0.5; stroke-linejoin: miter\" />\n",
       "   </g>\n",
       "   <g id=\"patch_32\">\n",
       "    <path d=\"M 140.917838 28.925089  L 151.18086 28.925089  L 151.18086 27.199375  L 140.917838 27.199375  z \" clip-path=\"url(#p4c7ca3c28b)\" style=\"fill: #d9e6f5; stroke: #444443; stroke-width: 0.5; stroke-linejoin: miter\" />\n",
       "   </g>\n",
       "   <g id=\"patch_33\">\n",
       "    <path d=\"M 151.18086 28.925089  L 161.443882 28.925089  L 161.443882 28.925089  L 151.18086 28.925089  z \" clip-path=\"url(#p4c7ca3c28b)\" style=\"fill: #d9e6f5; stroke: #444443; stroke-width: 0.5; stroke-linejoin: miter\" />\n",
       "   </g>\n",
       "   <g id=\"patch_34\">\n",
       "    <path d=\"M 161.443882 28.925089  L 171.706905 28.925089  L 171.706905 28.925089  L 161.443882 28.925089  z \" clip-path=\"url(#p4c7ca3c28b)\" style=\"fill: #d9e6f5; stroke: #444443; stroke-width: 0.5; stroke-linejoin: miter\" />\n",
       "   </g>\n",
       "   <g id=\"patch_35\">\n",
       "    <path d=\"M 171.706905 28.925089  L 181.969927 28.925089  L 181.969927 28.925089  L 171.706905 28.925089  z \" clip-path=\"url(#p4c7ca3c28b)\" style=\"fill: #d9e6f5; stroke: #444443; stroke-width: 0.5; stroke-linejoin: miter\" />\n",
       "   </g>\n",
       "   <g id=\"patch_36\">\n",
       "    <path d=\"M 181.969927 28.925089  L 192.232949 28.925089  L 192.232949 28.925089  L 181.969927 28.925089  z \" clip-path=\"url(#p4c7ca3c28b)\" style=\"fill: #d9e6f5; stroke: #444443; stroke-width: 0.5; stroke-linejoin: miter\" />\n",
       "   </g>\n",
       "   <g id=\"patch_37\">\n",
       "    <path d=\"M 17.761571 28.925089  L 28.024593 28.925089  L 28.024593 28.925089  L 17.761571 28.925089  z \" clip-path=\"url(#p4c7ca3c28b)\" style=\"fill: #a1dab4; stroke: #444443; stroke-width: 0.5; stroke-linejoin: miter\" />\n",
       "   </g>\n",
       "   <g id=\"patch_38\">\n",
       "    <path d=\"M 28.024593 28.925089  L 38.287616 28.925089  L 38.287616 28.925089  L 28.024593 28.925089  z \" clip-path=\"url(#p4c7ca3c28b)\" style=\"fill: #a1dab4; stroke: #444443; stroke-width: 0.5; stroke-linejoin: miter\" />\n",
       "   </g>\n",
       "   <g id=\"patch_39\">\n",
       "    <path d=\"M 38.287616 28.925089  L 48.550638 28.925089  L 48.550638 28.925089  L 38.287616 28.925089  z \" clip-path=\"url(#p4c7ca3c28b)\" style=\"fill: #a1dab4; stroke: #444443; stroke-width: 0.5; stroke-linejoin: miter\" />\n",
       "   </g>\n",
       "   <g id=\"patch_40\">\n",
       "    <path d=\"M 48.550638 28.925089  L 58.81366 28.925089  L 58.81366 28.925089  L 48.550638 28.925089  z \" clip-path=\"url(#p4c7ca3c28b)\" style=\"fill: #a1dab4; stroke: #444443; stroke-width: 0.5; stroke-linejoin: miter\" />\n",
       "   </g>\n",
       "   <g id=\"patch_41\">\n",
       "    <path d=\"M 58.81366 28.925089  L 69.076682 28.925089  L 69.076682 28.925089  L 58.81366 28.925089  z \" clip-path=\"url(#p4c7ca3c28b)\" style=\"fill: #a1dab4; stroke: #444443; stroke-width: 0.5; stroke-linejoin: miter\" />\n",
       "   </g>\n",
       "   <g id=\"patch_42\">\n",
       "    <path d=\"M 69.076682 28.925089  L 79.339705 28.925089  L 79.339705 28.925089  L 69.076682 28.925089  z \" clip-path=\"url(#p4c7ca3c28b)\" style=\"fill: #a1dab4; stroke: #444443; stroke-width: 0.5; stroke-linejoin: miter\" />\n",
       "   </g>\n",
       "   <g id=\"patch_43\">\n",
       "    <path d=\"M 79.339705 28.925089  L 89.602727 28.925089  L 89.602727 28.925089  L 79.339705 28.925089  z \" clip-path=\"url(#p4c7ca3c28b)\" style=\"fill: #a1dab4; stroke: #444443; stroke-width: 0.5; stroke-linejoin: miter\" />\n",
       "   </g>\n",
       "   <g id=\"patch_44\">\n",
       "    <path d=\"M 89.602727 28.925089  L 99.865749 28.925089  L 99.865749 28.925089  L 89.602727 28.925089  z \" clip-path=\"url(#p4c7ca3c28b)\" style=\"fill: #a1dab4; stroke: #444443; stroke-width: 0.5; stroke-linejoin: miter\" />\n",
       "   </g>\n",
       "   <g id=\"patch_45\">\n",
       "    <path d=\"M 99.865749 28.925089  L 110.128771 28.925089  L 110.128771 28.925089  L 99.865749 28.925089  z \" clip-path=\"url(#p4c7ca3c28b)\" style=\"fill: #a1dab4; stroke: #444443; stroke-width: 0.5; stroke-linejoin: miter\" />\n",
       "   </g>\n",
       "   <g id=\"patch_46\">\n",
       "    <path d=\"M 110.128771 25.473661  L 120.391794 25.473661  L 120.391794 20.296518  L 110.128771 20.296518  z \" clip-path=\"url(#p4c7ca3c28b)\" style=\"fill: #a1dab4; stroke: #444443; stroke-width: 0.5; stroke-linejoin: miter\" />\n",
       "   </g>\n",
       "   <g id=\"patch_47\">\n",
       "    <path d=\"M 120.391794 27.199375  L 130.654816 27.199375  L 130.654816 25.473661  L 120.391794 25.473661  z \" clip-path=\"url(#p4c7ca3c28b)\" style=\"fill: #a1dab4; stroke: #444443; stroke-width: 0.5; stroke-linejoin: miter\" />\n",
       "   </g>\n",
       "   <g id=\"patch_48\">\n",
       "    <path d=\"M 130.654816 27.199375  L 140.917838 27.199375  L 140.917838 27.199375  L 130.654816 27.199375  z \" clip-path=\"url(#p4c7ca3c28b)\" style=\"fill: #a1dab4; stroke: #444443; stroke-width: 0.5; stroke-linejoin: miter\" />\n",
       "   </g>\n",
       "   <g id=\"patch_49\">\n",
       "    <path d=\"M 140.917838 27.199375  L 151.18086 27.199375  L 151.18086 3.039375  L 140.917838 3.039375  z \" clip-path=\"url(#p4c7ca3c28b)\" style=\"fill: #a1dab4; stroke: #444443; stroke-width: 0.5; stroke-linejoin: miter\" />\n",
       "   </g>\n",
       "   <g id=\"patch_50\">\n",
       "    <path d=\"M 151.18086 28.925089  L 161.443882 28.925089  L 161.443882 22.022232  L 151.18086 22.022232  z \" clip-path=\"url(#p4c7ca3c28b)\" style=\"fill: #a1dab4; stroke: #444443; stroke-width: 0.5; stroke-linejoin: miter\" />\n",
       "   </g>\n",
       "   <g id=\"patch_51\">\n",
       "    <path d=\"M 161.443882 28.925089  L 171.706905 28.925089  L 171.706905 18.570804  L 161.443882 18.570804  z \" clip-path=\"url(#p4c7ca3c28b)\" style=\"fill: #a1dab4; stroke: #444443; stroke-width: 0.5; stroke-linejoin: miter\" />\n",
       "   </g>\n",
       "   <g id=\"patch_52\">\n",
       "    <path d=\"M 171.706905 28.925089  L 181.969927 28.925089  L 181.969927 22.022232  L 171.706905 22.022232  z \" clip-path=\"url(#p4c7ca3c28b)\" style=\"fill: #a1dab4; stroke: #444443; stroke-width: 0.5; stroke-linejoin: miter\" />\n",
       "   </g>\n",
       "   <g id=\"patch_53\">\n",
       "    <path d=\"M 181.969927 28.925089  L 192.232949 28.925089  L 192.232949 18.570804  L 181.969927 18.570804  z \" clip-path=\"url(#p4c7ca3c28b)\" style=\"fill: #a1dab4; stroke: #444443; stroke-width: 0.5; stroke-linejoin: miter\" />\n",
       "   </g>\n",
       "   <g id=\"patch_54\">\n",
       "    <path d=\"M 137.710644 29.740489  L 134.396124 37.079089  L 141.025164 37.079089  z \" style=\"fill: #444443\" />\n",
       "   </g>\n",
       "   <g id=\"matplotlib.axis_1\">\n",
       "    <g id=\"xtick_1\">\n",
       "     <g id=\"line2d_1\">\n",
       "      <defs>\n",
       "       <path id=\"m6bb2523ea1\" d=\"M 0 0  L 0 3.5  \" style=\"stroke: #000000; stroke-width: 0.3\" />\n",
       "      </defs>\n",
       "      <g>\n",
       "       <use xlink:href=\"#m6bb2523ea1\" x=\"17.761571\" y=\"28.925089\" style=\"stroke: #000000; stroke-width: 0.3\" />\n",
       "      </g>\n",
       "     </g>\n",
       "     <g id=\"text_1\">\n",
       "      \n",
       "      <g style=\"fill: #444443\" transform=\"translate(11.400321 42.003839)scale(0.08 -0.08)\">\n",
       "       <defs>\n",
       "        <path id=\"DejaVuSans-30\" d=\"M 2034 4250  Q 1547 4250 1301 3770  Q 1056 3291 1056 2328  Q 1056 1369 1301 889  Q 1547 409 2034 409  Q 2525 409 2770 889  Q 3016 1369 3016 2328  Q 3016 3291 2770 3770  Q 2525 4250 2034 4250  z M 2034 4750  Q 2819 4750 3233 4129  Q 3647 3509 3647 2328  Q 3647 1150 3233 529  Q 2819 -91 2034 -91  Q 1250 -91 836 529  Q 422 1150 422 2328  Q 422 3509 836 4129  Q 1250 4750 2034 4750  z \" transform=\"scale(0.015625)\" />\n",
       "        <path id=\"DejaVuSans-2e\" d=\"M 684 794  L 1344 794  L 1344 0  L 684 0  L 684 794  z \" transform=\"scale(0.015625)\" />\n",
       "        <path id=\"DejaVuSans-31\" d=\"M 794 531  L 1825 531  L 1825 4091  L 703 3866  L 703 4441  L 1819 4666  L 2450 4666  L 2450 531  L 3481 531  L 3481 0  L 794 0  L 794 531  z \" transform=\"scale(0.015625)\" />\n",
       "       </defs>\n",
       "       <use xlink:href=\"#DejaVuSans-30\" />\n",
       "       <use xlink:href=\"#DejaVuSans-2e\" x=\"63.623047\" />\n",
       "       <use xlink:href=\"#DejaVuSans-31\" x=\"95.410156\" />\n",
       "      </g>\n",
       "     </g>\n",
       "    </g>\n",
       "    <g id=\"xtick_2\">\n",
       "     <g id=\"line2d_2\">\n",
       "      <g>\n",
       "       <use xlink:href=\"#m6bb2523ea1\" x=\"192.232949\" y=\"28.925089\" style=\"stroke: #000000; stroke-width: 0.3\" />\n",
       "      </g>\n",
       "     </g>\n",
       "     <g id=\"text_2\">\n",
       "      \n",
       "      <g style=\"fill: #444443\" transform=\"translate(185.871699 42.003839)scale(0.08 -0.08)\">\n",
       "       <defs>\n",
       "        <path id=\"DejaVuSans-32\" d=\"M 1228 531  L 3431 531  L 3431 0  L 469 0  L 469 531  Q 828 903 1448 1529  Q 2069 2156 2228 2338  Q 2531 2678 2651 2914  Q 2772 3150 2772 3378  Q 2772 3750 2511 3984  Q 2250 4219 1831 4219  Q 1534 4219 1204 4116  Q 875 4013 500 3803  L 500 4441  Q 881 4594 1212 4672  Q 1544 4750 1819 4750  Q 2544 4750 2975 4387  Q 3406 4025 3406 3419  Q 3406 3131 3298 2873  Q 3191 2616 2906 2266  Q 2828 2175 2409 1742  Q 1991 1309 1228 531  z \" transform=\"scale(0.015625)\" />\n",
       "        <path id=\"DejaVuSans-35\" d=\"M 691 4666  L 3169 4666  L 3169 4134  L 1269 4134  L 1269 2991  Q 1406 3038 1543 3061  Q 1681 3084 1819 3084  Q 2600 3084 3056 2656  Q 3513 2228 3513 1497  Q 3513 744 3044 326  Q 2575 -91 1722 -91  Q 1428 -91 1123 -41  Q 819 9 494 109  L 494 744  Q 775 591 1075 516  Q 1375 441 1709 441  Q 2250 441 2565 725  Q 2881 1009 2881 1497  Q 2881 1984 2565 2268  Q 2250 2553 1709 2553  Q 1456 2553 1204 2497  Q 953 2441 691 2322  L 691 4666  z \" transform=\"scale(0.015625)\" />\n",
       "       </defs>\n",
       "       <use xlink:href=\"#DejaVuSans-32\" />\n",
       "       <use xlink:href=\"#DejaVuSans-2e\" x=\"63.623047\" />\n",
       "       <use xlink:href=\"#DejaVuSans-35\" x=\"95.410156\" />\n",
       "      </g>\n",
       "     </g>\n",
       "    </g>\n",
       "    <g id=\"text_3\">\n",
       "     \n",
       "     <g style=\"fill: #444443\" transform=\"translate(66.906875 56.403214)scale(0.12 -0.12)\">\n",
       "      <defs>\n",
       "       <path id=\"ArialMT-70\" d=\"M 422 -1272  L 422 3319  L 934 3319  L 934 2888  Q 1116 3141 1344 3267  Q 1572 3394 1897 3394  Q 2322 3394 2647 3175  Q 2972 2956 3137 2557  Q 3303 2159 3303 1684  Q 3303 1175 3120 767  Q 2938 359 2589 142  Q 2241 -75 1856 -75  Q 1575 -75 1351 44  Q 1128 163 984 344  L 984 -1272  L 422 -1272  z M 931 1641  Q 931 1000 1190 694  Q 1450 388 1819 388  Q 2194 388 2461 705  Q 2728 1022 2728 1688  Q 2728 2322 2467 2637  Q 2206 2953 1844 2953  Q 1484 2953 1207 2617  Q 931 2281 931 1641  z \" transform=\"scale(0.015625)\" />\n",
       "       <path id=\"ArialMT-65\" d=\"M 2694 1069  L 3275 997  Q 3138 488 2766 206  Q 2394 -75 1816 -75  Q 1088 -75 661 373  Q 234 822 234 1631  Q 234 2469 665 2931  Q 1097 3394 1784 3394  Q 2450 3394 2872 2941  Q 3294 2488 3294 1666  Q 3294 1616 3291 1516  L 816 1516  Q 847 969 1125 678  Q 1403 388 1819 388  Q 2128 388 2347 550  Q 2566 713 2694 1069  z M 847 1978  L 2700 1978  Q 2663 2397 2488 2606  Q 2219 2931 1791 2931  Q 1403 2931 1139 2672  Q 875 2413 847 1978  z \" transform=\"scale(0.015625)\" />\n",
       "       <path id=\"ArialMT-74\" d=\"M 1650 503  L 1731 6  Q 1494 -44 1306 -44  Q 1000 -44 831 53  Q 663 150 594 308  Q 525 466 525 972  L 525 2881  L 113 2881  L 113 3319  L 525 3319  L 525 4141  L 1084 4478  L 1084 3319  L 1650 3319  L 1650 2881  L 1084 2881  L 1084 941  Q 1084 700 1114 631  Q 1144 563 1211 522  Q 1278 481 1403 481  Q 1497 481 1650 503  z \" transform=\"scale(0.015625)\" />\n",
       "       <path id=\"ArialMT-61\" d=\"M 2588 409  Q 2275 144 1986 34  Q 1697 -75 1366 -75  Q 819 -75 525 192  Q 231 459 231 875  Q 231 1119 342 1320  Q 453 1522 633 1644  Q 813 1766 1038 1828  Q 1203 1872 1538 1913  Q 2219 1994 2541 2106  Q 2544 2222 2544 2253  Q 2544 2597 2384 2738  Q 2169 2928 1744 2928  Q 1347 2928 1158 2789  Q 969 2650 878 2297  L 328 2372  Q 403 2725 575 2942  Q 747 3159 1072 3276  Q 1397 3394 1825 3394  Q 2250 3394 2515 3294  Q 2781 3194 2906 3042  Q 3031 2891 3081 2659  Q 3109 2516 3109 2141  L 3109 1391  Q 3109 606 3145 398  Q 3181 191 3288 0  L 2700 0  Q 2613 175 2588 409  z M 2541 1666  Q 2234 1541 1622 1453  Q 1275 1403 1131 1340  Q 988 1278 909 1158  Q 831 1038 831 891  Q 831 666 1001 516  Q 1172 366 1500 366  Q 1825 366 2078 508  Q 2331 650 2450 897  Q 2541 1088 2541 1459  L 2541 1666  z \" transform=\"scale(0.015625)\" />\n",
       "       <path id=\"ArialMT-6c\" d=\"M 409 0  L 409 4581  L 972 4581  L 972 0  L 409 0  z \" transform=\"scale(0.015625)\" />\n",
       "       <path id=\"ArialMT-20\" transform=\"scale(0.015625)\" />\n",
       "       <path id=\"ArialMT-77\" d=\"M 1034 0  L 19 3319  L 600 3319  L 1128 1403  L 1325 691  Q 1338 744 1497 1375  L 2025 3319  L 2603 3319  L 3100 1394  L 3266 759  L 3456 1400  L 4025 3319  L 4572 3319  L 3534 0  L 2950 0  L 2422 1988  L 2294 2553  L 1622 0  L 1034 0  z \" transform=\"scale(0.015625)\" />\n",
       "       <path id=\"ArialMT-69\" d=\"M 425 3934  L 425 4581  L 988 4581  L 988 3934  L 425 3934  z M 425 0  L 425 3319  L 988 3319  L 988 0  L 425 0  z \" transform=\"scale(0.015625)\" />\n",
       "       <path id=\"ArialMT-64\" d=\"M 2575 0  L 2575 419  Q 2259 -75 1647 -75  Q 1250 -75 917 144  Q 584 363 401 755  Q 219 1147 219 1656  Q 219 2153 384 2558  Q 550 2963 881 3178  Q 1213 3394 1622 3394  Q 1922 3394 2156 3267  Q 2391 3141 2538 2938  L 2538 4581  L 3097 4581  L 3097 0  L 2575 0  z M 797 1656  Q 797 1019 1065 703  Q 1334 388 1700 388  Q 2069 388 2326 689  Q 2584 991 2584 1609  Q 2584 2291 2321 2609  Q 2059 2928 1675 2928  Q 1300 2928 1048 2622  Q 797 2316 797 1656  z \" transform=\"scale(0.015625)\" />\n",
       "       <path id=\"ArialMT-68\" d=\"M 422 0  L 422 4581  L 984 4581  L 984 2938  Q 1378 3394 1978 3394  Q 2347 3394 2619 3248  Q 2891 3103 3008 2847  Q 3125 2591 3125 2103  L 3125 0  L 2563 0  L 2563 2103  Q 2563 2525 2380 2717  Q 2197 2909 1863 2909  Q 1613 2909 1392 2779  Q 1172 2650 1078 2428  Q 984 2206 984 1816  L 984 0  L 422 0  z \" transform=\"scale(0.015625)\" />\n",
       "       <path id=\"ArialMT-28\" d=\"M 1497 -1347  Q 1031 -759 709 28  Q 388 816 388 1659  Q 388 2403 628 3084  Q 909 3875 1497 4659  L 1900 4659  Q 1522 4009 1400 3731  Q 1209 3300 1100 2831  Q 966 2247 966 1656  Q 966 153 1900 -1347  L 1497 -1347  z \" transform=\"scale(0.015625)\" />\n",
       "       <path id=\"ArialMT-63\" d=\"M 2588 1216  L 3141 1144  Q 3050 572 2676 248  Q 2303 -75 1759 -75  Q 1078 -75 664 370  Q 250 816 250 1647  Q 250 2184 428 2587  Q 606 2991 970 3192  Q 1334 3394 1763 3394  Q 2303 3394 2647 3120  Q 2991 2847 3088 2344  L 2541 2259  Q 2463 2594 2264 2762  Q 2066 2931 1784 2931  Q 1359 2931 1093 2626  Q 828 2322 828 1663  Q 828 994 1084 691  Q 1341 388 1753 388  Q 2084 388 2306 591  Q 2528 794 2588 1216  z \" transform=\"scale(0.015625)\" />\n",
       "       <path id=\"ArialMT-6d\" d=\"M 422 0  L 422 3319  L 925 3319  L 925 2853  Q 1081 3097 1340 3245  Q 1600 3394 1931 3394  Q 2300 3394 2536 3241  Q 2772 3088 2869 2813  Q 3263 3394 3894 3394  Q 4388 3394 4653 3120  Q 4919 2847 4919 2278  L 4919 0  L 4359 0  L 4359 2091  Q 4359 2428 4304 2576  Q 4250 2725 4106 2815  Q 3963 2906 3769 2906  Q 3419 2906 3187 2673  Q 2956 2441 2956 1928  L 2956 0  L 2394 0  L 2394 2156  Q 2394 2531 2256 2718  Q 2119 2906 1806 2906  Q 1569 2906 1367 2781  Q 1166 2656 1075 2415  Q 984 2175 984 1722  L 984 0  L 422 0  z \" transform=\"scale(0.015625)\" />\n",
       "       <path id=\"ArialMT-29\" d=\"M 791 -1347  L 388 -1347  Q 1322 153 1322 1656  Q 1322 2244 1188 2822  Q 1081 3291 891 3722  Q 769 4003 388 4659  L 791 4659  Q 1378 3875 1659 3084  Q 1900 2403 1900 1659  Q 1900 816 1576 28  Q 1253 -759 791 -1347  z \" transform=\"scale(0.015625)\" />\n",
       "      </defs>\n",
       "      <use xlink:href=\"#ArialMT-70\" />\n",
       "      <use xlink:href=\"#ArialMT-65\" x=\"55.615234\" />\n",
       "      <use xlink:href=\"#ArialMT-74\" x=\"111.230469\" />\n",
       "      <use xlink:href=\"#ArialMT-61\" x=\"139.013672\" />\n",
       "      <use xlink:href=\"#ArialMT-6c\" x=\"194.628906\" />\n",
       "      <use xlink:href=\"#ArialMT-20\" x=\"216.845703\" />\n",
       "      <use xlink:href=\"#ArialMT-77\" x=\"244.628906\" />\n",
       "      <use xlink:href=\"#ArialMT-69\" x=\"316.845703\" />\n",
       "      <use xlink:href=\"#ArialMT-64\" x=\"339.0625\" />\n",
       "      <use xlink:href=\"#ArialMT-74\" x=\"394.677734\" />\n",
       "      <use xlink:href=\"#ArialMT-68\" x=\"422.460938\" />\n",
       "      <use xlink:href=\"#ArialMT-20\" x=\"478.076172\" />\n",
       "      <use xlink:href=\"#ArialMT-28\" x=\"505.859375\" />\n",
       "      <use xlink:href=\"#ArialMT-63\" x=\"539.160156\" />\n",
       "      <use xlink:href=\"#ArialMT-6d\" x=\"589.160156\" />\n",
       "      <use xlink:href=\"#ArialMT-29\" x=\"672.460938\" />\n",
       "     </g>\n",
       "    </g>\n",
       "   </g>\n",
       "   <g id=\"matplotlib.axis_2\">\n",
       "    <g id=\"ytick_1\">\n",
       "     <g id=\"line2d_3\">\n",
       "      <defs>\n",
       "       <path id=\"mcee4779dc5\" d=\"M 0 0  L -3.5 0  \" style=\"stroke: #000000; stroke-width: 0.3\" />\n",
       "      </defs>\n",
       "      <g>\n",
       "       <use xlink:href=\"#mcee4779dc5\" x=\"17.18\" y=\"28.925089\" style=\"stroke: #000000; stroke-width: 0.3\" />\n",
       "      </g>\n",
       "     </g>\n",
       "     <g id=\"text_4\">\n",
       "      \n",
       "      <g style=\"fill: #444443\" transform=\"translate(5.09 31.964464)scale(0.08 -0.08)\">\n",
       "       <use xlink:href=\"#DejaVuSans-30\" />\n",
       "      </g>\n",
       "     </g>\n",
       "    </g>\n",
       "    <g id=\"ytick_2\">\n",
       "     <g id=\"line2d_4\">\n",
       "      <g>\n",
       "       <use xlink:href=\"#mcee4779dc5\" x=\"17.18\" y=\"3.039375\" style=\"stroke: #000000; stroke-width: 0.3\" />\n",
       "      </g>\n",
       "     </g>\n",
       "     <g id=\"text_5\">\n",
       "      \n",
       "      <g style=\"fill: #444443\" transform=\"translate(0 6.07875)scale(0.08 -0.08)\">\n",
       "       <use xlink:href=\"#DejaVuSans-31\" />\n",
       "       <use xlink:href=\"#DejaVuSans-35\" x=\"63.623047\" />\n",
       "      </g>\n",
       "     </g>\n",
       "    </g>\n",
       "   </g>\n",
       "   <g id=\"patch_55\">\n",
       "    <path d=\"M 17.18 28.925089  L 17.18 1.745089  \" style=\"fill: none; stroke: #000000; stroke-width: 0.3; stroke-linejoin: miter; stroke-linecap: square\" />\n",
       "   </g>\n",
       "   <g id=\"patch_56\">\n",
       "    <path d=\"M 17.18 28.925089  L 201.32 28.925089  \" style=\"fill: none; stroke: #000000; stroke-width: 0.3; stroke-linejoin: miter; stroke-linecap: square\" />\n",
       "   </g>\n",
       "   <g id=\"text_6\">\n",
       "    \n",
       "    <g style=\"fill: #444443\" transform=\"translate(129.926269 45.233089)scale(0.08 -0.08)\">\n",
       "     <defs>\n",
       "      <path id=\"ArialMT-31\" d=\"M 2384 0  L 1822 0  L 1822 3584  Q 1619 3391 1289 3197  Q 959 3003 697 2906  L 697 3450  Q 1169 3672 1522 3987  Q 1875 4303 2022 4600  L 2384 4600  L 2384 0  z \" transform=\"scale(0.015625)\" />\n",
       "      <path id=\"ArialMT-2e\" d=\"M 581 0  L 581 641  L 1222 641  L 1222 0  L 581 0  z \" transform=\"scale(0.015625)\" />\n",
       "      <path id=\"ArialMT-37\" d=\"M 303 3981  L 303 4522  L 3269 4522  L 3269 4084  Q 2831 3619 2401 2847  Q 1972 2075 1738 1259  Q 1569 684 1522 0  L 944 0  Q 953 541 1156 1306  Q 1359 2072 1739 2783  Q 2119 3494 2547 3981  L 303 3981  z \" transform=\"scale(0.015625)\" />\n",
       "      <path id=\"ArialMT-35\" d=\"M 266 1200  L 856 1250  Q 922 819 1161 601  Q 1400 384 1738 384  Q 2144 384 2425 690  Q 2706 997 2706 1503  Q 2706 1984 2436 2262  Q 2166 2541 1728 2541  Q 1456 2541 1237 2417  Q 1019 2294 894 2097  L 366 2166  L 809 4519  L 3088 4519  L 3088 3981  L 1259 3981  L 1013 2750  Q 1425 3038 1878 3038  Q 2478 3038 2890 2622  Q 3303 2206 3303 1553  Q 3303 931 2941 478  Q 2500 -78 1738 -78  Q 1113 -78 717 272  Q 322 622 266 1200  z \" transform=\"scale(0.015625)\" />\n",
       "     </defs>\n",
       "     <use xlink:href=\"#ArialMT-31\" />\n",
       "     <use xlink:href=\"#ArialMT-2e\" x=\"55.615234\" />\n",
       "     <use xlink:href=\"#ArialMT-37\" x=\"83.398438\" />\n",
       "     <use xlink:href=\"#ArialMT-35\" x=\"139.013672\" />\n",
       "    </g>\n",
       "   </g>\n",
       "  </g>\n",
       " </g>\n",
       " <defs>\n",
       "  <clipPath id=\"p4c7ca3c28b\">\n",
       "   <rect x=\"17.18\" y=\"1.745089\" width=\"184.14\" height=\"27.18\" />\n",
       "  </clipPath>\n",
       " </defs>\n",
       "</svg></g>\n",
       "\n",
       "\n",
       "<g id=\"node5\" class=\"node\"><title>leaf4</title>\n",
       "<polygon fill=\"none\" stroke=\"#444443\" stroke-width=\"0\" points=\"107.5,-62 60.5,-62 60.5,-0 107.5,-0 107.5,-62\" />\n",
       "<svg width=\"39px\" height=\"54px\" viewBox=\"0 0 52.548 72.399889\" version=\"1.1\" preserveAspectRatio=\"xMinYMin meet\" x=\"65\" y=\"-58\">\n",
       " <metadata>\n",
       "  <rdf:RDF>\n",
       "   <ns2:Work>\n",
       "    <dc:type rdf:resource=\"http://purl.org/dc/dcmitype/StillImage\" />\n",
       "    <dc:date>2022-08-08T15:17:13.836024</dc:date>\n",
       "    <dc:format>image/svg+xml</dc:format>\n",
       "    <dc:creator>\n",
       "     <ns2:Agent>\n",
       "      <dc:title>Matplotlib v3.5.1, https://matplotlib.org/</dc:title>\n",
       "     </ns2:Agent>\n",
       "    </dc:creator>\n",
       "   </ns2:Work>\n",
       "  </rdf:RDF>\n",
       " </metadata>\n",
       " <defs>\n",
       "  <style type=\"text/css\">*{stroke-linejoin: round; stroke-linecap: butt}</style>\n",
       " </defs>\n",
       " <g id=\"figure_1\">\n",
       "  <g id=\"patch_1\">\n",
       "   <path d=\"M 0 72.399889  L 52.548 72.399889  L 52.548 0  L 0 0  L 0 72.399889  z \" style=\"fill: none\" />\n",
       "  </g>\n",
       "  <g id=\"axes_1\">\n",
       "   <g id=\"patch_2\">\n",
       "    <path d=\"M 52.548 26.274  C 52.548 22.82373 51.868372 19.407009 50.548011 16.219375  C 49.22765 13.031742 47.292233 10.135186 44.852524 7.695476  C 42.412814 5.255767 39.516258 3.32035 36.328625 1.999989  C 33.140991 0.679628 29.72427 0 26.274 0  C 22.82373 0 19.407009 0.679628 16.219375 1.999989  C 13.031742 3.32035 10.135186 5.255767 7.695476 7.695476  C 5.255767 10.135186 3.32035 13.031742 1.999989 16.219375  C 0.679628 19.407009 0 22.82373 0 26.274  C 0 29.72427 0.679628 33.140991 1.999989 36.328625  C 3.32035 39.516258 5.255767 42.412814 7.695476 44.852524  C 10.135186 47.292233 13.031742 49.22765 16.219375 50.548011  C 19.407009 51.868372 22.82373 52.548 26.274 52.548  C 29.72427 52.548 33.140991 51.868372 36.328625 50.548011  C 39.516258 49.22765 42.412814 47.292233 44.852524 44.852524  C 47.292233 42.412814 49.22765 39.516258 50.548011 36.328625  C 51.868372 33.140991 52.548 29.72427 52.548 26.274  M 26.274 26.274  M 52.548 26.274  z \" style=\"fill: #d9e6f5; stroke: #444443; stroke-width: 0.5; stroke-linejoin: miter\" />\n",
       "   </g>\n",
       "   <g id=\"text_1\">\n",
       "    \n",
       "    <g style=\"fill: #444443\" transform=\"translate(16.138453 61.091951)scale(0.09 -0.09)\">\n",
       "     <defs>\n",
       "      <path id=\"ArialMT-6e\" d=\"M 422 0  L 422 3319  L 928 3319  L 928 2847  Q 1294 3394 1984 3394  Q 2284 3394 2536 3286  Q 2788 3178 2913 3003  Q 3038 2828 3088 2588  Q 3119 2431 3119 2041  L 3119 0  L 2556 0  L 2556 2019  Q 2556 2363 2490 2533  Q 2425 2703 2258 2804  Q 2091 2906 1866 2906  Q 1506 2906 1245 2678  Q 984 2450 984 1813  L 984 0  L 422 0  z \" transform=\"scale(0.015625)\" />\n",
       "      <path id=\"ArialMT-3d\" d=\"M 3381 2694  L 356 2694  L 356 3219  L 3381 3219  L 3381 2694  z M 3381 1303  L 356 1303  L 356 1828  L 3381 1828  L 3381 1303  z \" transform=\"scale(0.015625)\" />\n",
       "      <path id=\"ArialMT-33\" d=\"M 269 1209  L 831 1284  Q 928 806 1161 595  Q 1394 384 1728 384  Q 2125 384 2398 659  Q 2672 934 2672 1341  Q 2672 1728 2419 1979  Q 2166 2231 1775 2231  Q 1616 2231 1378 2169  L 1441 2663  Q 1497 2656 1531 2656  Q 1891 2656 2178 2843  Q 2466 3031 2466 3422  Q 2466 3731 2256 3934  Q 2047 4138 1716 4138  Q 1388 4138 1169 3931  Q 950 3725 888 3313  L 325 3413  Q 428 3978 793 4289  Q 1159 4600 1703 4600  Q 2078 4600 2393 4439  Q 2709 4278 2876 4000  Q 3044 3722 3044 3409  Q 3044 3113 2884 2869  Q 2725 2625 2413 2481  Q 2819 2388 3044 2092  Q 3269 1797 3269 1353  Q 3269 753 2831 336  Q 2394 -81 1725 -81  Q 1122 -81 723 278  Q 325 638 269 1209  z \" transform=\"scale(0.015625)\" />\n",
       "      <path id=\"ArialMT-36\" d=\"M 3184 3459  L 2625 3416  Q 2550 3747 2413 3897  Q 2184 4138 1850 4138  Q 1581 4138 1378 3988  Q 1113 3794 959 3422  Q 806 3050 800 2363  Q 1003 2672 1297 2822  Q 1591 2972 1913 2972  Q 2475 2972 2870 2558  Q 3266 2144 3266 1488  Q 3266 1056 3080 686  Q 2894 316 2569 119  Q 2244 -78 1831 -78  Q 1128 -78 684 439  Q 241 956 241 2144  Q 241 3472 731 4075  Q 1159 4600 1884 4600  Q 2425 4600 2770 4297  Q 3116 3994 3184 3459  z M 888 1484  Q 888 1194 1011 928  Q 1134 663 1356 523  Q 1578 384 1822 384  Q 2178 384 2434 671  Q 2691 959 2691 1453  Q 2691 1928 2437 2201  Q 2184 2475 1800 2475  Q 1419 2475 1153 2201  Q 888 1928 888 1484  z \" transform=\"scale(0.015625)\" />\n",
       "     </defs>\n",
       "     <use xlink:href=\"#ArialMT-6e\" />\n",
       "     <use xlink:href=\"#ArialMT-3d\" x=\"55.615234\" />\n",
       "     <use xlink:href=\"#ArialMT-33\" x=\"114.013672\" />\n",
       "     <use xlink:href=\"#ArialMT-36\" x=\"169.628906\" />\n",
       "    </g>\n",
       "    \n",
       "    <g style=\"fill: #444443\" transform=\"translate(7.020328 70.611139)scale(0.09 -0.09)\">\n",
       "     <defs>\n",
       "      <path id=\"ArialMT-76\" d=\"M 1344 0  L 81 3319  L 675 3319  L 1388 1331  Q 1503 1009 1600 663  Q 1675 925 1809 1294  L 2547 3319  L 3125 3319  L 1869 0  L 1344 0  z \" transform=\"scale(0.015625)\" />\n",
       "      <path id=\"ArialMT-65\" d=\"M 2694 1069  L 3275 997  Q 3138 488 2766 206  Q 2394 -75 1816 -75  Q 1088 -75 661 373  Q 234 822 234 1631  Q 234 2469 665 2931  Q 1097 3394 1784 3394  Q 2450 3394 2872 2941  Q 3294 2488 3294 1666  Q 3294 1616 3291 1516  L 816 1516  Q 847 969 1125 678  Q 1403 388 1819 388  Q 2128 388 2347 550  Q 2566 713 2694 1069  z M 847 1978  L 2700 1978  Q 2663 2397 2488 2606  Q 2219 2931 1791 2931  Q 1403 2931 1139 2672  Q 875 2413 847 1978  z \" transform=\"scale(0.015625)\" />\n",
       "      <path id=\"ArialMT-72\" d=\"M 416 0  L 416 3319  L 922 3319  L 922 2816  Q 1116 3169 1280 3281  Q 1444 3394 1641 3394  Q 1925 3394 2219 3213  L 2025 2691  Q 1819 2813 1613 2813  Q 1428 2813 1281 2702  Q 1134 2591 1072 2394  Q 978 2094 978 1738  L 978 0  L 416 0  z \" transform=\"scale(0.015625)\" />\n",
       "      <path id=\"ArialMT-73\" d=\"M 197 991  L 753 1078  Q 800 744 1014 566  Q 1228 388 1613 388  Q 2000 388 2187 545  Q 2375 703 2375 916  Q 2375 1106 2209 1216  Q 2094 1291 1634 1406  Q 1016 1563 777 1677  Q 538 1791 414 1992  Q 291 2194 291 2438  Q 291 2659 392 2848  Q 494 3038 669 3163  Q 800 3259 1026 3326  Q 1253 3394 1513 3394  Q 1903 3394 2198 3281  Q 2494 3169 2634 2976  Q 2775 2784 2828 2463  L 2278 2388  Q 2241 2644 2061 2787  Q 1881 2931 1553 2931  Q 1166 2931 1000 2803  Q 834 2675 834 2503  Q 834 2394 903 2306  Q 972 2216 1119 2156  Q 1203 2125 1616 2013  Q 2213 1853 2448 1751  Q 2684 1650 2818 1456  Q 2953 1263 2953 975  Q 2953 694 2789 445  Q 2625 197 2315 61  Q 2006 -75 1616 -75  Q 969 -75 630 194  Q 291 463 197 991  z \" transform=\"scale(0.015625)\" />\n",
       "      <path id=\"ArialMT-69\" d=\"M 425 3934  L 425 4581  L 988 4581  L 988 3934  L 425 3934  z M 425 0  L 425 3319  L 988 3319  L 988 0  L 425 0  z \" transform=\"scale(0.015625)\" />\n",
       "      <path id=\"ArialMT-63\" d=\"M 2588 1216  L 3141 1144  Q 3050 572 2676 248  Q 2303 -75 1759 -75  Q 1078 -75 664 370  Q 250 816 250 1647  Q 250 2184 428 2587  Q 606 2991 970 3192  Q 1334 3394 1763 3394  Q 2303 3394 2647 3120  Q 2991 2847 3088 2344  L 2541 2259  Q 2463 2594 2264 2762  Q 2066 2931 1784 2931  Q 1359 2931 1093 2626  Q 828 2322 828 1663  Q 828 994 1084 691  Q 1341 388 1753 388  Q 2084 388 2306 591  Q 2528 794 2588 1216  z \" transform=\"scale(0.015625)\" />\n",
       "      <path id=\"ArialMT-6f\" d=\"M 213 1659  Q 213 2581 725 3025  Q 1153 3394 1769 3394  Q 2453 3394 2887 2945  Q 3322 2497 3322 1706  Q 3322 1066 3130 698  Q 2938 331 2570 128  Q 2203 -75 1769 -75  Q 1072 -75 642 372  Q 213 819 213 1659  z M 791 1659  Q 791 1022 1069 705  Q 1347 388 1769 388  Q 2188 388 2466 706  Q 2744 1025 2744 1678  Q 2744 2294 2464 2611  Q 2184 2928 1769 2928  Q 1347 2928 1069 2612  Q 791 2297 791 1659  z \" transform=\"scale(0.015625)\" />\n",
       "      <path id=\"ArialMT-6c\" d=\"M 409 0  L 409 4581  L 972 4581  L 972 0  L 409 0  z \" transform=\"scale(0.015625)\" />\n",
       "     </defs>\n",
       "     <use xlink:href=\"#ArialMT-76\" />\n",
       "     <use xlink:href=\"#ArialMT-65\" x=\"50\" />\n",
       "     <use xlink:href=\"#ArialMT-72\" x=\"105.615234\" />\n",
       "     <use xlink:href=\"#ArialMT-73\" x=\"138.916016\" />\n",
       "     <use xlink:href=\"#ArialMT-69\" x=\"188.916016\" />\n",
       "     <use xlink:href=\"#ArialMT-63\" x=\"211.132812\" />\n",
       "     <use xlink:href=\"#ArialMT-6f\" x=\"261.132812\" />\n",
       "     <use xlink:href=\"#ArialMT-6c\" x=\"316.748047\" />\n",
       "     <use xlink:href=\"#ArialMT-6f\" x=\"338.964844\" />\n",
       "     <use xlink:href=\"#ArialMT-72\" x=\"394.580078\" />\n",
       "    </g>\n",
       "   </g>\n",
       "  </g>\n",
       " </g>\n",
       "</svg></g>\n",
       "\n",
       "<g id=\"edge1\" class=\"edge\"><title>node3-&gt;leaf4</title>\n",
       "<path fill=\"none\" stroke=\"#444443\" stroke-width=\"0.3\" d=\"M103.005,-78.6487C101.283,-74.4231 99.5247,-70.1061 97.806,-65.8875\" />\n",
       "<polygon fill=\"#444443\" stroke=\"#444443\" stroke-width=\"0.3\" points=\"99.0469,-65.2224 96.2411,-62.0463 96.4538,-66.2789 99.0469,-65.2224\" />\n",
       "</g>\n",
       "\n",
       "<g id=\"node6\" class=\"node\"><title>leaf5</title>\n",
       "<polygon fill=\"none\" stroke=\"#444443\" stroke-width=\"0\" points=\"153,-45.5 121,-45.5 121,-16.5 153,-16.5 153,-45.5\" />\n",
       "<svg width=\"24px\" height=\"21px\" viewBox=\"0 0 33.010312 28.534157\" version=\"1.1\" preserveAspectRatio=\"xMinYMin meet\" x=\"125\" y=\"-41\">\n",
       " <metadata>\n",
       "  <rdf:RDF>\n",
       "   <ns2:Work>\n",
       "    <dc:type rdf:resource=\"http://purl.org/dc/dcmitype/StillImage\" />\n",
       "    <dc:date>2022-08-08T15:17:13.862672</dc:date>\n",
       "    <dc:format>image/svg+xml</dc:format>\n",
       "    <dc:creator>\n",
       "     <ns2:Agent>\n",
       "      <dc:title>Matplotlib v3.5.1, https://matplotlib.org/</dc:title>\n",
       "     </ns2:Agent>\n",
       "    </dc:creator>\n",
       "   </ns2:Work>\n",
       "  </rdf:RDF>\n",
       " </metadata>\n",
       " <defs>\n",
       "  <style type=\"text/css\">*{stroke-linejoin: round; stroke-linecap: butt}</style>\n",
       " </defs>\n",
       " <g id=\"figure_1\">\n",
       "  <g id=\"patch_1\">\n",
       "   <path d=\"M 0 28.534157  L 33.010312 28.534157  L 33.010312 0  L 0 0  L 0 28.534157  z \" style=\"fill: none\" />\n",
       "  </g>\n",
       "  <g id=\"axes_1\">\n",
       "   <g id=\"patch_2\">\n",
       "    <path d=\"M 21.639156 5.134  C 21.639156 4.459809 21.506355 3.792174 21.248354 3.169303  C 20.990352 2.546432 20.612167 1.980439 20.135442 1.503714  C 19.658718 1.026989 19.092724 0.648804 18.469853 0.390802  C 17.846982 0.132801 17.179347 0 16.505156 0  C 15.830966 0 15.16333 0.132801 14.54046 0.390802  C 13.917589 0.648804 13.351595 1.026989 12.87487 1.503714  C 12.398145 1.980439 12.01996 2.546432 11.761959 3.169303  C 11.503957 3.792174 11.371156 4.459809 11.371156 5.134  C 11.371156 5.808191 11.503957 6.475826 11.761959 7.098697  C 12.01996 7.721568 12.398145 8.287561 12.87487 8.764286  C 13.351595 9.241011 13.917589 9.619196 14.54046 9.877198  C 15.16333 10.135199 15.830966 10.268 16.505156 10.268  C 17.179347 10.268 17.846982 10.135199 18.469853 9.877198  C 19.092724 9.619196 19.658718 9.241011 20.135442 8.764286  C 20.612167 8.287561 20.990352 7.721568 21.248354 7.098697  C 21.506355 6.475826 21.639156 5.808191 21.639156 5.134  M 16.505156 5.134  M 21.639156 5.134  z \" style=\"fill: #a1dab4; stroke: #444443; stroke-width: 0.5; stroke-linejoin: miter\" />\n",
       "   </g>\n",
       "   <g id=\"text_1\">\n",
       "    \n",
       "    <g style=\"fill: #444443\" transform=\"translate(8.872031 17.120751)scale(0.09 -0.09)\">\n",
       "     <defs>\n",
       "      <path id=\"ArialMT-6e\" d=\"M 422 0  L 422 3319  L 928 3319  L 928 2847  Q 1294 3394 1984 3394  Q 2284 3394 2536 3286  Q 2788 3178 2913 3003  Q 3038 2828 3088 2588  Q 3119 2431 3119 2041  L 3119 0  L 2556 0  L 2556 2019  Q 2556 2363 2490 2533  Q 2425 2703 2258 2804  Q 2091 2906 1866 2906  Q 1506 2906 1245 2678  Q 984 2450 984 1813  L 984 0  L 422 0  z \" transform=\"scale(0.015625)\" />\n",
       "      <path id=\"ArialMT-3d\" d=\"M 3381 2694  L 356 2694  L 356 3219  L 3381 3219  L 3381 2694  z M 3381 1303  L 356 1303  L 356 1828  L 3381 1828  L 3381 1303  z \" transform=\"scale(0.015625)\" />\n",
       "      <path id=\"ArialMT-31\" d=\"M 2384 0  L 1822 0  L 1822 3584  Q 1619 3391 1289 3197  Q 959 3003 697 2906  L 697 3450  Q 1169 3672 1522 3987  Q 1875 4303 2022 4600  L 2384 4600  L 2384 0  z \" transform=\"scale(0.015625)\" />\n",
       "     </defs>\n",
       "     <use xlink:href=\"#ArialMT-6e\" />\n",
       "     <use xlink:href=\"#ArialMT-3d\" x=\"55.615234\" />\n",
       "     <use xlink:href=\"#ArialMT-31\" x=\"114.013672\" />\n",
       "    </g>\n",
       "    \n",
       "    <g style=\"fill: #444443\" transform=\"translate(0 26.639939)scale(0.09 -0.09)\">\n",
       "     <defs>\n",
       "      <path id=\"ArialMT-76\" d=\"M 1344 0  L 81 3319  L 675 3319  L 1388 1331  Q 1503 1009 1600 663  Q 1675 925 1809 1294  L 2547 3319  L 3125 3319  L 1869 0  L 1344 0  z \" transform=\"scale(0.015625)\" />\n",
       "      <path id=\"ArialMT-69\" d=\"M 425 3934  L 425 4581  L 988 4581  L 988 3934  L 425 3934  z M 425 0  L 425 3319  L 988 3319  L 988 0  L 425 0  z \" transform=\"scale(0.015625)\" />\n",
       "      <path id=\"ArialMT-72\" d=\"M 416 0  L 416 3319  L 922 3319  L 922 2816  Q 1116 3169 1280 3281  Q 1444 3394 1641 3394  Q 1925 3394 2219 3213  L 2025 2691  Q 1819 2813 1613 2813  Q 1428 2813 1281 2702  Q 1134 2591 1072 2394  Q 978 2094 978 1738  L 978 0  L 416 0  z \" transform=\"scale(0.015625)\" />\n",
       "      <path id=\"ArialMT-67\" d=\"M 319 -275  L 866 -356  Q 900 -609 1056 -725  Q 1266 -881 1628 -881  Q 2019 -881 2231 -725  Q 2444 -569 2519 -288  Q 2563 -116 2559 434  Q 2191 0 1641 0  Q 956 0 581 494  Q 206 988 206 1678  Q 206 2153 378 2554  Q 550 2956 876 3175  Q 1203 3394 1644 3394  Q 2231 3394 2613 2919  L 2613 3319  L 3131 3319  L 3131 450  Q 3131 -325 2973 -648  Q 2816 -972 2473 -1159  Q 2131 -1347 1631 -1347  Q 1038 -1347 672 -1080  Q 306 -813 319 -275  z M 784 1719  Q 784 1066 1043 766  Q 1303 466 1694 466  Q 2081 466 2343 764  Q 2606 1063 2606 1700  Q 2606 2309 2336 2618  Q 2066 2928 1684 2928  Q 1309 2928 1046 2623  Q 784 2319 784 1719  z \" transform=\"scale(0.015625)\" />\n",
       "      <path id=\"ArialMT-63\" d=\"M 2588 1216  L 3141 1144  Q 3050 572 2676 248  Q 2303 -75 1759 -75  Q 1078 -75 664 370  Q 250 816 250 1647  Q 250 2184 428 2587  Q 606 2991 970 3192  Q 1334 3394 1763 3394  Q 2303 3394 2647 3120  Q 2991 2847 3088 2344  L 2541 2259  Q 2463 2594 2264 2762  Q 2066 2931 1784 2931  Q 1359 2931 1093 2626  Q 828 2322 828 1663  Q 828 994 1084 691  Q 1341 388 1753 388  Q 2084 388 2306 591  Q 2528 794 2588 1216  z \" transform=\"scale(0.015625)\" />\n",
       "      <path id=\"ArialMT-61\" d=\"M 2588 409  Q 2275 144 1986 34  Q 1697 -75 1366 -75  Q 819 -75 525 192  Q 231 459 231 875  Q 231 1119 342 1320  Q 453 1522 633 1644  Q 813 1766 1038 1828  Q 1203 1872 1538 1913  Q 2219 1994 2541 2106  Q 2544 2222 2544 2253  Q 2544 2597 2384 2738  Q 2169 2928 1744 2928  Q 1347 2928 1158 2789  Q 969 2650 878 2297  L 328 2372  Q 403 2725 575 2942  Q 747 3159 1072 3276  Q 1397 3394 1825 3394  Q 2250 3394 2515 3294  Q 2781 3194 2906 3042  Q 3031 2891 3081 2659  Q 3109 2516 3109 2141  L 3109 1391  Q 3109 606 3145 398  Q 3181 191 3288 0  L 2700 0  Q 2613 175 2588 409  z M 2541 1666  Q 2234 1541 1622 1453  Q 1275 1403 1131 1340  Q 988 1278 909 1158  Q 831 1038 831 891  Q 831 666 1001 516  Q 1172 366 1500 366  Q 1825 366 2078 508  Q 2331 650 2450 897  Q 2541 1088 2541 1459  L 2541 1666  z \" transform=\"scale(0.015625)\" />\n",
       "     </defs>\n",
       "     <use xlink:href=\"#ArialMT-76\" />\n",
       "     <use xlink:href=\"#ArialMT-69\" x=\"50\" />\n",
       "     <use xlink:href=\"#ArialMT-72\" x=\"72.216797\" />\n",
       "     <use xlink:href=\"#ArialMT-67\" x=\"105.517578\" />\n",
       "     <use xlink:href=\"#ArialMT-69\" x=\"161.132812\" />\n",
       "     <use xlink:href=\"#ArialMT-6e\" x=\"183.349609\" />\n",
       "     <use xlink:href=\"#ArialMT-69\" x=\"238.964844\" />\n",
       "     <use xlink:href=\"#ArialMT-63\" x=\"261.181641\" />\n",
       "     <use xlink:href=\"#ArialMT-61\" x=\"311.181641\" />\n",
       "    </g>\n",
       "   </g>\n",
       "  </g>\n",
       " </g>\n",
       "</svg></g>\n",
       "\n",
       "<g id=\"edge2\" class=\"edge\"><title>node3-&gt;leaf5</title>\n",
       "<path fill=\"none\" stroke=\"#444443\" stroke-width=\"0.3\" d=\"M125.482,-78.6487C127.934,-68.718 130.511,-58.2824 132.604,-49.8055\" />\n",
       "<polygon fill=\"#444443\" stroke=\"#444443\" stroke-width=\"0.3\" points=\"133.99,-50.0313 133.59,-45.8123 131.271,-49.36 133.99,-50.0313\" />\n",
       "</g>\n",
       "\n",
       "<g id=\"node7\" class=\"node\"><title>leaf7</title>\n",
       "<polygon fill=\"none\" stroke=\"#444443\" stroke-width=\"0\" points=\"290.5,-48.5 253.5,-48.5 253.5,-13.5 290.5,-13.5 290.5,-48.5\" />\n",
       "<svg width=\"29px\" height=\"27px\" viewBox=\"0 0 38.507344 37.222929\" version=\"1.1\" preserveAspectRatio=\"xMinYMin meet\" x=\"258\" y=\"-44\">\n",
       " <metadata>\n",
       "  <rdf:RDF>\n",
       "   <ns2:Work>\n",
       "    <dc:type rdf:resource=\"http://purl.org/dc/dcmitype/StillImage\" />\n",
       "    <dc:date>2022-08-08T15:17:13.885535</dc:date>\n",
       "    <dc:format>image/svg+xml</dc:format>\n",
       "    <dc:creator>\n",
       "     <ns2:Agent>\n",
       "      <dc:title>Matplotlib v3.5.1, https://matplotlib.org/</dc:title>\n",
       "     </ns2:Agent>\n",
       "    </dc:creator>\n",
       "   </ns2:Work>\n",
       "  </rdf:RDF>\n",
       " </metadata>\n",
       " <defs>\n",
       "  <style type=\"text/css\">*{stroke-linejoin: round; stroke-linecap: butt}</style>\n",
       " </defs>\n",
       " <g id=\"figure_1\">\n",
       "  <g id=\"patch_1\">\n",
       "   <path d=\"M 0 37.222929  L 38.507344 37.222929  L 38.507344 0  L 0 0  L 0 37.222929  z \" style=\"fill: none\" />\n",
       "  </g>\n",
       "  <g id=\"axes_1\">\n",
       "   <g id=\"patch_2\">\n",
       "    <path d=\"M 28.615672 9.362  C 28.615672 9.362 28.615672 9.362 28.615672 9.362  L 19.253672 9.362  L 28.615672 9.362  z \" style=\"fill: #fefebb; stroke: #444443; stroke-width: 0.5; stroke-linejoin: miter\" />\n",
       "   </g>\n",
       "   <g id=\"patch_3\">\n",
       "    <path d=\"M 28.615672 9.362  C 28.615672 6.879995 27.628648 4.497109 25.873606 2.742066  C 24.118563 0.987024 21.735676 0 19.253672 0  C 16.771667 0 14.38878 0.987024 12.633738 2.742066  C 10.878696 4.497109 9.891672 6.879995 9.891672 9.362  L 19.253672 9.362  L 28.615672 9.362  z \" style=\"fill: #d9e6f5; stroke: #444443; stroke-width: 0.5; stroke-linejoin: miter\" />\n",
       "   </g>\n",
       "   <g id=\"patch_4\">\n",
       "    <path d=\"M 9.891672 9.362  C 9.891672 11.844005 10.878696 14.226891 12.633738 15.981934  C 14.38878 17.736976 16.771667 18.724 19.253672 18.724  C 21.735676 18.724 24.118563 17.736976 25.873606 15.981934  C 27.628648 14.226891 28.615672 11.844005 28.615672 9.362  L 19.253672 9.362  L 9.891672 9.362  z \" style=\"fill: #a1dab4; stroke: #444443; stroke-width: 0.5; stroke-linejoin: miter\" />\n",
       "   </g>\n",
       "   <g id=\"text_1\">\n",
       "    \n",
       "    <g style=\"fill: #444443\" transform=\"translate(11.620547 25.914991)scale(0.09 -0.09)\">\n",
       "     <defs>\n",
       "      <path id=\"ArialMT-6e\" d=\"M 422 0  L 422 3319  L 928 3319  L 928 2847  Q 1294 3394 1984 3394  Q 2284 3394 2536 3286  Q 2788 3178 2913 3003  Q 3038 2828 3088 2588  Q 3119 2431 3119 2041  L 3119 0  L 2556 0  L 2556 2019  Q 2556 2363 2490 2533  Q 2425 2703 2258 2804  Q 2091 2906 1866 2906  Q 1506 2906 1245 2678  Q 984 2450 984 1813  L 984 0  L 422 0  z \" transform=\"scale(0.015625)\" />\n",
       "      <path id=\"ArialMT-3d\" d=\"M 3381 2694  L 356 2694  L 356 3219  L 3381 3219  L 3381 2694  z M 3381 1303  L 356 1303  L 356 1828  L 3381 1828  L 3381 1303  z \" transform=\"scale(0.015625)\" />\n",
       "      <path id=\"ArialMT-38\" d=\"M 1131 2484  Q 781 2613 612 2850  Q 444 3088 444 3419  Q 444 3919 803 4259  Q 1163 4600 1759 4600  Q 2359 4600 2725 4251  Q 3091 3903 3091 3403  Q 3091 3084 2923 2848  Q 2756 2613 2416 2484  Q 2838 2347 3058 2040  Q 3278 1734 3278 1309  Q 3278 722 2862 322  Q 2447 -78 1769 -78  Q 1091 -78 675 323  Q 259 725 259 1325  Q 259 1772 486 2073  Q 713 2375 1131 2484  z M 1019 3438  Q 1019 3113 1228 2906  Q 1438 2700 1772 2700  Q 2097 2700 2305 2904  Q 2513 3109 2513 3406  Q 2513 3716 2298 3927  Q 2084 4138 1766 4138  Q 1444 4138 1231 3931  Q 1019 3725 1019 3438  z M 838 1322  Q 838 1081 952 856  Q 1066 631 1291 507  Q 1516 384 1775 384  Q 2178 384 2440 643  Q 2703 903 2703 1303  Q 2703 1709 2433 1975  Q 2163 2241 1756 2241  Q 1359 2241 1098 1978  Q 838 1716 838 1322  z \" transform=\"scale(0.015625)\" />\n",
       "     </defs>\n",
       "     <use xlink:href=\"#ArialMT-6e\" />\n",
       "     <use xlink:href=\"#ArialMT-3d\" x=\"55.615234\" />\n",
       "     <use xlink:href=\"#ArialMT-38\" x=\"114.013672\" />\n",
       "    </g>\n",
       "    \n",
       "    <g style=\"fill: #444443\" transform=\"translate(-0 35.434179)scale(0.09 -0.09)\">\n",
       "     <defs>\n",
       "      <path id=\"ArialMT-76\" d=\"M 1344 0  L 81 3319  L 675 3319  L 1388 1331  Q 1503 1009 1600 663  Q 1675 925 1809 1294  L 2547 3319  L 3125 3319  L 1869 0  L 1344 0  z \" transform=\"scale(0.015625)\" />\n",
       "      <path id=\"ArialMT-65\" d=\"M 2694 1069  L 3275 997  Q 3138 488 2766 206  Q 2394 -75 1816 -75  Q 1088 -75 661 373  Q 234 822 234 1631  Q 234 2469 665 2931  Q 1097 3394 1784 3394  Q 2450 3394 2872 2941  Q 3294 2488 3294 1666  Q 3294 1616 3291 1516  L 816 1516  Q 847 969 1125 678  Q 1403 388 1819 388  Q 2128 388 2347 550  Q 2566 713 2694 1069  z M 847 1978  L 2700 1978  Q 2663 2397 2488 2606  Q 2219 2931 1791 2931  Q 1403 2931 1139 2672  Q 875 2413 847 1978  z \" transform=\"scale(0.015625)\" />\n",
       "      <path id=\"ArialMT-72\" d=\"M 416 0  L 416 3319  L 922 3319  L 922 2816  Q 1116 3169 1280 3281  Q 1444 3394 1641 3394  Q 1925 3394 2219 3213  L 2025 2691  Q 1819 2813 1613 2813  Q 1428 2813 1281 2702  Q 1134 2591 1072 2394  Q 978 2094 978 1738  L 978 0  L 416 0  z \" transform=\"scale(0.015625)\" />\n",
       "      <path id=\"ArialMT-73\" d=\"M 197 991  L 753 1078  Q 800 744 1014 566  Q 1228 388 1613 388  Q 2000 388 2187 545  Q 2375 703 2375 916  Q 2375 1106 2209 1216  Q 2094 1291 1634 1406  Q 1016 1563 777 1677  Q 538 1791 414 1992  Q 291 2194 291 2438  Q 291 2659 392 2848  Q 494 3038 669 3163  Q 800 3259 1026 3326  Q 1253 3394 1513 3394  Q 1903 3394 2198 3281  Q 2494 3169 2634 2976  Q 2775 2784 2828 2463  L 2278 2388  Q 2241 2644 2061 2787  Q 1881 2931 1553 2931  Q 1166 2931 1000 2803  Q 834 2675 834 2503  Q 834 2394 903 2306  Q 972 2216 1119 2156  Q 1203 2125 1616 2013  Q 2213 1853 2448 1751  Q 2684 1650 2818 1456  Q 2953 1263 2953 975  Q 2953 694 2789 445  Q 2625 197 2315 61  Q 2006 -75 1616 -75  Q 969 -75 630 194  Q 291 463 197 991  z \" transform=\"scale(0.015625)\" />\n",
       "      <path id=\"ArialMT-69\" d=\"M 425 3934  L 425 4581  L 988 4581  L 988 3934  L 425 3934  z M 425 0  L 425 3319  L 988 3319  L 988 0  L 425 0  z \" transform=\"scale(0.015625)\" />\n",
       "      <path id=\"ArialMT-63\" d=\"M 2588 1216  L 3141 1144  Q 3050 572 2676 248  Q 2303 -75 1759 -75  Q 1078 -75 664 370  Q 250 816 250 1647  Q 250 2184 428 2587  Q 606 2991 970 3192  Q 1334 3394 1763 3394  Q 2303 3394 2647 3120  Q 2991 2847 3088 2344  L 2541 2259  Q 2463 2594 2264 2762  Q 2066 2931 1784 2931  Q 1359 2931 1093 2626  Q 828 2322 828 1663  Q 828 994 1084 691  Q 1341 388 1753 388  Q 2084 388 2306 591  Q 2528 794 2588 1216  z \" transform=\"scale(0.015625)\" />\n",
       "      <path id=\"ArialMT-6f\" d=\"M 213 1659  Q 213 2581 725 3025  Q 1153 3394 1769 3394  Q 2453 3394 2887 2945  Q 3322 2497 3322 1706  Q 3322 1066 3130 698  Q 2938 331 2570 128  Q 2203 -75 1769 -75  Q 1072 -75 642 372  Q 213 819 213 1659  z M 791 1659  Q 791 1022 1069 705  Q 1347 388 1769 388  Q 2188 388 2466 706  Q 2744 1025 2744 1678  Q 2744 2294 2464 2611  Q 2184 2928 1769 2928  Q 1347 2928 1069 2612  Q 791 2297 791 1659  z \" transform=\"scale(0.015625)\" />\n",
       "      <path id=\"ArialMT-6c\" d=\"M 409 0  L 409 4581  L 972 4581  L 972 0  L 409 0  z \" transform=\"scale(0.015625)\" />\n",
       "     </defs>\n",
       "     <use xlink:href=\"#ArialMT-76\" />\n",
       "     <use xlink:href=\"#ArialMT-65\" x=\"50\" />\n",
       "     <use xlink:href=\"#ArialMT-72\" x=\"105.615234\" />\n",
       "     <use xlink:href=\"#ArialMT-73\" x=\"138.916016\" />\n",
       "     <use xlink:href=\"#ArialMT-69\" x=\"188.916016\" />\n",
       "     <use xlink:href=\"#ArialMT-63\" x=\"211.132812\" />\n",
       "     <use xlink:href=\"#ArialMT-6f\" x=\"261.132812\" />\n",
       "     <use xlink:href=\"#ArialMT-6c\" x=\"316.748047\" />\n",
       "     <use xlink:href=\"#ArialMT-6f\" x=\"338.964844\" />\n",
       "     <use xlink:href=\"#ArialMT-72\" x=\"394.580078\" />\n",
       "    </g>\n",
       "   </g>\n",
       "  </g>\n",
       " </g>\n",
       "</svg></g>\n",
       "\n",
       "<g id=\"edge4\" class=\"edge\"><title>node6-&gt;leaf7</title>\n",
       "<path fill=\"none\" stroke=\"#444443\" stroke-width=\"0.3\" d=\"M283.714,-87.8151C281.374,-76.6635 278.652,-63.6951 276.421,-53.0669\" />\n",
       "<polygon fill=\"#444443\" stroke=\"#444443\" stroke-width=\"0.3\" points=\"277.753,-52.595 275.561,-48.9679 275.013,-53.1702 277.753,-52.595\" />\n",
       "</g>\n",
       "\n",
       "<g id=\"node8\" class=\"node\"><title>leaf8</title>\n",
       "<polygon fill=\"none\" stroke=\"#444443\" stroke-width=\"0\" points=\"350,-61.5 304,-61.5 304,-0.5 350,-0.5 350,-61.5\" />\n",
       "<svg width=\"38px\" height=\"53px\" viewBox=\"0 0 51.339996 71.24903\" version=\"1.1\" preserveAspectRatio=\"xMinYMin meet\" x=\"308\" y=\"-57\">\n",
       " <metadata>\n",
       "  <rdf:RDF>\n",
       "   <ns2:Work>\n",
       "    <dc:type rdf:resource=\"http://purl.org/dc/dcmitype/StillImage\" />\n",
       "    <dc:date>2022-08-08T15:17:13.916290</dc:date>\n",
       "    <dc:format>image/svg+xml</dc:format>\n",
       "    <dc:creator>\n",
       "     <ns2:Agent>\n",
       "      <dc:title>Matplotlib v3.5.1, https://matplotlib.org/</dc:title>\n",
       "     </ns2:Agent>\n",
       "    </dc:creator>\n",
       "   </ns2:Work>\n",
       "  </rdf:RDF>\n",
       " </metadata>\n",
       " <defs>\n",
       "  <style type=\"text/css\">*{stroke-linejoin: round; stroke-linecap: butt}</style>\n",
       " </defs>\n",
       " <g id=\"figure_1\">\n",
       "  <g id=\"patch_1\">\n",
       "   <path d=\"M 0 71.24903  L 51.339996 71.24903  L 51.339996 0  L 0 0  L 0 71.24903  z \" style=\"fill: none\" />\n",
       "  </g>\n",
       "  <g id=\"axes_1\">\n",
       "   <g id=\"patch_2\">\n",
       "    <path d=\"M 51.339996 25.669993  C 51.339996 25.669993 51.339996 25.669993 51.339996 25.669993  L 25.669996 25.669993  L 51.339996 25.669993  z \" style=\"fill: #fefebb; stroke: #444443; stroke-width: 0.5; stroke-linejoin: miter\" />\n",
       "   </g>\n",
       "   <g id=\"patch_3\">\n",
       "    <path d=\"M 51.339996 25.669993  C 51.339996 24.901819 51.305515 24.134033 51.236657 23.368952  C 51.167798 22.60387 51.064632 21.842266 50.927469 21.086437  L 25.669996 25.669993  L 51.339996 25.669993  z \" style=\"fill: #d9e6f5; stroke: #444443; stroke-width: 0.5; stroke-linejoin: miter\" />\n",
       "   </g>\n",
       "   <g id=\"patch_4\">\n",
       "    <path d=\"M 50.927469 21.086437  C 50.342864 17.864999 49.147308 14.78495 47.405407 12.012729  C 45.663505 9.240509 43.407209 6.826967 40.758444 4.902526  C 38.109679 2.978086 35.11703 1.578046 31.942215 0.778063  C 28.767399 -0.021921 25.468651 -0.207175 22.224228 0.232312  C 18.979805 0.671799 15.84922 1.727965 13.00164 3.343738  C 10.154061 4.95951 7.641721 7.105251 5.600382 9.665009  C 3.559043 12.224768 2.026149 15.15159 1.084533 18.287318  C 0.142917 21.423046 -0.190148 24.71016 0.103336 27.971034  C 0.39682 31.231907 1.31147 34.406726 2.797859 37.323929  C 4.284248 40.241132 6.315113 42.84721 8.780709 45.001337  C 11.246306 47.155464 14.101408 48.818126 17.191733 49.899478  C 20.282058 50.980829 23.55092 51.461035 26.821677 51.314145  C 30.092434 51.167255 33.305091 50.395964 36.286043 49.041951  C 39.266996 47.687938 41.961564 45.77604 44.224141 43.409571  C 46.486717 41.043101 48.275799 38.265469 49.494708 35.226771  C 50.713618 32.188072 51.339996 28.944046 51.339996 25.669992  L 25.669996 25.669993  L 50.927469 21.086437  z \" style=\"fill: #a1dab4; stroke: #444443; stroke-width: 0.5; stroke-linejoin: miter\" />\n",
       "   </g>\n",
       "   <g id=\"text_1\">\n",
       "    \n",
       "    <g style=\"fill: #444443\" transform=\"translate(15.53445 59.835624)scale(0.09 -0.09)\">\n",
       "     <defs>\n",
       "      <path id=\"ArialMT-6e\" d=\"M 422 0  L 422 3319  L 928 3319  L 928 2847  Q 1294 3394 1984 3394  Q 2284 3394 2536 3286  Q 2788 3178 2913 3003  Q 3038 2828 3088 2588  Q 3119 2431 3119 2041  L 3119 0  L 2556 0  L 2556 2019  Q 2556 2363 2490 2533  Q 2425 2703 2258 2804  Q 2091 2906 1866 2906  Q 1506 2906 1245 2678  Q 984 2450 984 1813  L 984 0  L 422 0  z \" transform=\"scale(0.015625)\" />\n",
       "      <path id=\"ArialMT-3d\" d=\"M 3381 2694  L 356 2694  L 356 3219  L 3381 3219  L 3381 2694  z M 3381 1303  L 356 1303  L 356 1828  L 3381 1828  L 3381 1303  z \" transform=\"scale(0.015625)\" />\n",
       "      <path id=\"ArialMT-33\" d=\"M 269 1209  L 831 1284  Q 928 806 1161 595  Q 1394 384 1728 384  Q 2125 384 2398 659  Q 2672 934 2672 1341  Q 2672 1728 2419 1979  Q 2166 2231 1775 2231  Q 1616 2231 1378 2169  L 1441 2663  Q 1497 2656 1531 2656  Q 1891 2656 2178 2843  Q 2466 3031 2466 3422  Q 2466 3731 2256 3934  Q 2047 4138 1716 4138  Q 1388 4138 1169 3931  Q 950 3725 888 3313  L 325 3413  Q 428 3978 793 4289  Q 1159 4600 1703 4600  Q 2078 4600 2393 4439  Q 2709 4278 2876 4000  Q 3044 3722 3044 3409  Q 3044 3113 2884 2869  Q 2725 2625 2413 2481  Q 2819 2388 3044 2092  Q 3269 1797 3269 1353  Q 3269 753 2831 336  Q 2394 -81 1725 -81  Q 1122 -81 723 278  Q 325 638 269 1209  z \" transform=\"scale(0.015625)\" />\n",
       "      <path id=\"ArialMT-35\" d=\"M 266 1200  L 856 1250  Q 922 819 1161 601  Q 1400 384 1738 384  Q 2144 384 2425 690  Q 2706 997 2706 1503  Q 2706 1984 2436 2262  Q 2166 2541 1728 2541  Q 1456 2541 1237 2417  Q 1019 2294 894 2097  L 366 2166  L 809 4519  L 3088 4519  L 3088 3981  L 1259 3981  L 1013 2750  Q 1425 3038 1878 3038  Q 2478 3038 2890 2622  Q 3303 2206 3303 1553  Q 3303 931 2941 478  Q 2500 -78 1738 -78  Q 1113 -78 717 272  Q 322 622 266 1200  z \" transform=\"scale(0.015625)\" />\n",
       "     </defs>\n",
       "     <use xlink:href=\"#ArialMT-6e\" />\n",
       "     <use xlink:href=\"#ArialMT-3d\" x=\"55.615234\" />\n",
       "     <use xlink:href=\"#ArialMT-33\" x=\"114.013672\" />\n",
       "     <use xlink:href=\"#ArialMT-35\" x=\"169.628906\" />\n",
       "    </g>\n",
       "    \n",
       "    <g style=\"fill: #444443\" transform=\"translate(9.16484 69.354811)scale(0.09 -0.09)\">\n",
       "     <defs>\n",
       "      <path id=\"ArialMT-76\" d=\"M 1344 0  L 81 3319  L 675 3319  L 1388 1331  Q 1503 1009 1600 663  Q 1675 925 1809 1294  L 2547 3319  L 3125 3319  L 1869 0  L 1344 0  z \" transform=\"scale(0.015625)\" />\n",
       "      <path id=\"ArialMT-69\" d=\"M 425 3934  L 425 4581  L 988 4581  L 988 3934  L 425 3934  z M 425 0  L 425 3319  L 988 3319  L 988 0  L 425 0  z \" transform=\"scale(0.015625)\" />\n",
       "      <path id=\"ArialMT-72\" d=\"M 416 0  L 416 3319  L 922 3319  L 922 2816  Q 1116 3169 1280 3281  Q 1444 3394 1641 3394  Q 1925 3394 2219 3213  L 2025 2691  Q 1819 2813 1613 2813  Q 1428 2813 1281 2702  Q 1134 2591 1072 2394  Q 978 2094 978 1738  L 978 0  L 416 0  z \" transform=\"scale(0.015625)\" />\n",
       "      <path id=\"ArialMT-67\" d=\"M 319 -275  L 866 -356  Q 900 -609 1056 -725  Q 1266 -881 1628 -881  Q 2019 -881 2231 -725  Q 2444 -569 2519 -288  Q 2563 -116 2559 434  Q 2191 0 1641 0  Q 956 0 581 494  Q 206 988 206 1678  Q 206 2153 378 2554  Q 550 2956 876 3175  Q 1203 3394 1644 3394  Q 2231 3394 2613 2919  L 2613 3319  L 3131 3319  L 3131 450  Q 3131 -325 2973 -648  Q 2816 -972 2473 -1159  Q 2131 -1347 1631 -1347  Q 1038 -1347 672 -1080  Q 306 -813 319 -275  z M 784 1719  Q 784 1066 1043 766  Q 1303 466 1694 466  Q 2081 466 2343 764  Q 2606 1063 2606 1700  Q 2606 2309 2336 2618  Q 2066 2928 1684 2928  Q 1309 2928 1046 2623  Q 784 2319 784 1719  z \" transform=\"scale(0.015625)\" />\n",
       "      <path id=\"ArialMT-63\" d=\"M 2588 1216  L 3141 1144  Q 3050 572 2676 248  Q 2303 -75 1759 -75  Q 1078 -75 664 370  Q 250 816 250 1647  Q 250 2184 428 2587  Q 606 2991 970 3192  Q 1334 3394 1763 3394  Q 2303 3394 2647 3120  Q 2991 2847 3088 2344  L 2541 2259  Q 2463 2594 2264 2762  Q 2066 2931 1784 2931  Q 1359 2931 1093 2626  Q 828 2322 828 1663  Q 828 994 1084 691  Q 1341 388 1753 388  Q 2084 388 2306 591  Q 2528 794 2588 1216  z \" transform=\"scale(0.015625)\" />\n",
       "      <path id=\"ArialMT-61\" d=\"M 2588 409  Q 2275 144 1986 34  Q 1697 -75 1366 -75  Q 819 -75 525 192  Q 231 459 231 875  Q 231 1119 342 1320  Q 453 1522 633 1644  Q 813 1766 1038 1828  Q 1203 1872 1538 1913  Q 2219 1994 2541 2106  Q 2544 2222 2544 2253  Q 2544 2597 2384 2738  Q 2169 2928 1744 2928  Q 1347 2928 1158 2789  Q 969 2650 878 2297  L 328 2372  Q 403 2725 575 2942  Q 747 3159 1072 3276  Q 1397 3394 1825 3394  Q 2250 3394 2515 3294  Q 2781 3194 2906 3042  Q 3031 2891 3081 2659  Q 3109 2516 3109 2141  L 3109 1391  Q 3109 606 3145 398  Q 3181 191 3288 0  L 2700 0  Q 2613 175 2588 409  z M 2541 1666  Q 2234 1541 1622 1453  Q 1275 1403 1131 1340  Q 988 1278 909 1158  Q 831 1038 831 891  Q 831 666 1001 516  Q 1172 366 1500 366  Q 1825 366 2078 508  Q 2331 650 2450 897  Q 2541 1088 2541 1459  L 2541 1666  z \" transform=\"scale(0.015625)\" />\n",
       "     </defs>\n",
       "     <use xlink:href=\"#ArialMT-76\" />\n",
       "     <use xlink:href=\"#ArialMT-69\" x=\"50\" />\n",
       "     <use xlink:href=\"#ArialMT-72\" x=\"72.216797\" />\n",
       "     <use xlink:href=\"#ArialMT-67\" x=\"105.517578\" />\n",
       "     <use xlink:href=\"#ArialMT-69\" x=\"161.132812\" />\n",
       "     <use xlink:href=\"#ArialMT-6e\" x=\"183.349609\" />\n",
       "     <use xlink:href=\"#ArialMT-69\" x=\"238.964844\" />\n",
       "     <use xlink:href=\"#ArialMT-63\" x=\"261.181641\" />\n",
       "     <use xlink:href=\"#ArialMT-61\" x=\"311.181641\" />\n",
       "    </g>\n",
       "   </g>\n",
       "  </g>\n",
       " </g>\n",
       "</svg></g>\n",
       "\n",
       "<g id=\"edge5\" class=\"edge\"><title>node6-&gt;leaf8</title>\n",
       "<path fill=\"none\" stroke=\"#444443\" stroke-width=\"0.3\" d=\"M300.815,-87.8151C304.148,-80.7111 307.827,-72.8698 311.347,-65.3659\" />\n",
       "<polygon fill=\"#444443\" stroke=\"#444443\" stroke-width=\"0.3\" points=\"312.629,-65.93 313.06,-61.714 310.094,-64.7407 312.629,-65.93\" />\n",
       "</g>\n",
       "\n",
       "<g id=\"node3\" class=\"node\"><title>node2</title>\n",
       "<svg width=\"150px\" height=\"62px\" viewBox=\"0 0 201.32 83.088839\" version=\"1.1\" preserveAspectRatio=\"xMinYMin meet\" x=\"88\" y=\"-232\">\n",
       " <metadata>\n",
       "  <rdf:RDF>\n",
       "   <ns2:Work>\n",
       "    <dc:type rdf:resource=\"http://purl.org/dc/dcmitype/StillImage\" />\n",
       "    <dc:date>2022-08-08T15:17:13.676346</dc:date>\n",
       "    <dc:format>image/svg+xml</dc:format>\n",
       "    <dc:creator>\n",
       "     <ns2:Agent>\n",
       "      <dc:title>Matplotlib v3.5.1, https://matplotlib.org/</dc:title>\n",
       "     </ns2:Agent>\n",
       "    </dc:creator>\n",
       "   </ns2:Work>\n",
       "  </rdf:RDF>\n",
       " </metadata>\n",
       " <defs>\n",
       "  <style type=\"text/css\">*{stroke-linejoin: round; stroke-linecap: butt}</style>\n",
       " </defs>\n",
       " <g id=\"figure_1\">\n",
       "  <g id=\"patch_1\">\n",
       "   <path d=\"M 0 83.088839  L 201.32 83.088839  L 201.32 0  L 0 0  L 0 83.088839  z \" style=\"fill: none\" />\n",
       "  </g>\n",
       "  <g id=\"axes_1\">\n",
       "   <g id=\"patch_2\">\n",
       "    <path d=\"M 17.18 53.085089  L 201.32 53.085089  L 201.32 0.537089  L 17.18 0.537089  z \" style=\"fill: #ffffff\" />\n",
       "   </g>\n",
       "   <g id=\"patch_3\">\n",
       "    <path d=\"M 19.589027 53.085089  L 29.685684 53.085089  L 29.685684 53.085089  L 19.589027 53.085089  z \" clip-path=\"url(#pac2806be48)\" style=\"fill: #fefebb; stroke: #444443; stroke-width: 0.5; stroke-linejoin: miter\" />\n",
       "   </g>\n",
       "   <g id=\"patch_4\">\n",
       "    <path d=\"M 29.685684 53.085089  L 39.782341 53.085089  L 39.782341 53.085089  L 29.685684 53.085089  z \" clip-path=\"url(#pac2806be48)\" style=\"fill: #fefebb; stroke: #444443; stroke-width: 0.5; stroke-linejoin: miter\" />\n",
       "   </g>\n",
       "   <g id=\"patch_5\">\n",
       "    <path d=\"M 39.782341 53.085089  L 49.878999 53.085089  L 49.878999 53.085089  L 39.782341 53.085089  z \" clip-path=\"url(#pac2806be48)\" style=\"fill: #fefebb; stroke: #444443; stroke-width: 0.5; stroke-linejoin: miter\" />\n",
       "   </g>\n",
       "   <g id=\"patch_6\">\n",
       "    <path d=\"M 49.878999 53.085089  L 59.975656 53.085089  L 59.975656 53.085089  L 49.878999 53.085089  z \" clip-path=\"url(#pac2806be48)\" style=\"fill: #fefebb; stroke: #444443; stroke-width: 0.5; stroke-linejoin: miter\" />\n",
       "   </g>\n",
       "   <g id=\"patch_7\">\n",
       "    <path d=\"M 59.975656 53.085089  L 70.072313 53.085089  L 70.072313 53.085089  L 59.975656 53.085089  z \" clip-path=\"url(#pac2806be48)\" style=\"fill: #fefebb; stroke: #444443; stroke-width: 0.5; stroke-linejoin: miter\" />\n",
       "   </g>\n",
       "   <g id=\"patch_8\">\n",
       "    <path d=\"M 70.072313 53.085089  L 80.16897 53.085089  L 80.16897 53.085089  L 70.072313 53.085089  z \" clip-path=\"url(#pac2806be48)\" style=\"fill: #fefebb; stroke: #444443; stroke-width: 0.5; stroke-linejoin: miter\" />\n",
       "   </g>\n",
       "   <g id=\"patch_9\">\n",
       "    <path d=\"M 80.16897 53.085089  L 90.265627 53.085089  L 90.265627 53.085089  L 80.16897 53.085089  z \" clip-path=\"url(#pac2806be48)\" style=\"fill: #fefebb; stroke: #444443; stroke-width: 0.5; stroke-linejoin: miter\" />\n",
       "   </g>\n",
       "   <g id=\"patch_10\">\n",
       "    <path d=\"M 90.265627 53.085089  L 100.362285 53.085089  L 100.362285 53.085089  L 90.265627 53.085089  z \" clip-path=\"url(#pac2806be48)\" style=\"fill: #fefebb; stroke: #444443; stroke-width: 0.5; stroke-linejoin: miter\" />\n",
       "   </g>\n",
       "   <g id=\"patch_11\">\n",
       "    <path d=\"M 100.362285 53.085089  L 110.458942 53.085089  L 110.458942 53.085089  L 100.362285 53.085089  z \" clip-path=\"url(#pac2806be48)\" style=\"fill: #fefebb; stroke: #444443; stroke-width: 0.5; stroke-linejoin: miter\" />\n",
       "   </g>\n",
       "   <g id=\"patch_12\">\n",
       "    <path d=\"M 110.458942 53.085089  L 120.555599 53.085089  L 120.555599 53.085089  L 110.458942 53.085089  z \" clip-path=\"url(#pac2806be48)\" style=\"fill: #fefebb; stroke: #444443; stroke-width: 0.5; stroke-linejoin: miter\" />\n",
       "   </g>\n",
       "   <g id=\"patch_13\">\n",
       "    <path d=\"M 120.555599 53.085089  L 130.652256 53.085089  L 130.652256 53.085089  L 120.555599 53.085089  z \" clip-path=\"url(#pac2806be48)\" style=\"fill: #fefebb; stroke: #444443; stroke-width: 0.5; stroke-linejoin: miter\" />\n",
       "   </g>\n",
       "   <g id=\"patch_14\">\n",
       "    <path d=\"M 130.652256 53.085089  L 140.748913 53.085089  L 140.748913 53.085089  L 130.652256 53.085089  z \" clip-path=\"url(#pac2806be48)\" style=\"fill: #fefebb; stroke: #444443; stroke-width: 0.5; stroke-linejoin: miter\" />\n",
       "   </g>\n",
       "   <g id=\"patch_15\">\n",
       "    <path d=\"M 140.748913 53.085089  L 150.845571 53.085089  L 150.845571 53.085089  L 140.748913 53.085089  z \" clip-path=\"url(#pac2806be48)\" style=\"fill: #fefebb; stroke: #444443; stroke-width: 0.5; stroke-linejoin: miter\" />\n",
       "   </g>\n",
       "   <g id=\"patch_16\">\n",
       "    <path d=\"M 150.845571 53.085089  L 160.942228 53.085089  L 160.942228 53.085089  L 150.845571 53.085089  z \" clip-path=\"url(#pac2806be48)\" style=\"fill: #fefebb; stroke: #444443; stroke-width: 0.5; stroke-linejoin: miter\" />\n",
       "   </g>\n",
       "   <g id=\"patch_17\">\n",
       "    <path d=\"M 160.942228 53.085089  L 171.038885 53.085089  L 171.038885 53.085089  L 160.942228 53.085089  z \" clip-path=\"url(#pac2806be48)\" style=\"fill: #fefebb; stroke: #444443; stroke-width: 0.5; stroke-linejoin: miter\" />\n",
       "   </g>\n",
       "   <g id=\"patch_18\">\n",
       "    <path d=\"M 171.038885 53.085089  L 181.135542 53.085089  L 181.135542 53.085089  L 171.038885 53.085089  z \" clip-path=\"url(#pac2806be48)\" style=\"fill: #fefebb; stroke: #444443; stroke-width: 0.5; stroke-linejoin: miter\" />\n",
       "   </g>\n",
       "   <g id=\"patch_19\">\n",
       "    <path d=\"M 181.135542 53.085089  L 191.2322 53.085089  L 191.2322 53.085089  L 181.135542 53.085089  z \" clip-path=\"url(#pac2806be48)\" style=\"fill: #fefebb; stroke: #444443; stroke-width: 0.5; stroke-linejoin: miter\" />\n",
       "   </g>\n",
       "   <g id=\"patch_20\">\n",
       "    <path d=\"M 19.589027 53.085089  L 29.685684 53.085089  L 29.685684 53.085089  L 19.589027 53.085089  z \" clip-path=\"url(#pac2806be48)\" style=\"fill: #d9e6f5; stroke: #444443; stroke-width: 0.5; stroke-linejoin: miter\" />\n",
       "   </g>\n",
       "   <g id=\"patch_21\">\n",
       "    <path d=\"M 29.685684 53.085089  L 39.782341 53.085089  L 39.782341 53.085089  L 29.685684 53.085089  z \" clip-path=\"url(#pac2806be48)\" style=\"fill: #d9e6f5; stroke: #444443; stroke-width: 0.5; stroke-linejoin: miter\" />\n",
       "   </g>\n",
       "   <g id=\"patch_22\">\n",
       "    <path d=\"M 39.782341 53.085089  L 49.878999 53.085089  L 49.878999 53.085089  L 39.782341 53.085089  z \" clip-path=\"url(#pac2806be48)\" style=\"fill: #d9e6f5; stroke: #444443; stroke-width: 0.5; stroke-linejoin: miter\" />\n",
       "   </g>\n",
       "   <g id=\"patch_23\">\n",
       "    <path d=\"M 49.878999 53.085089  L 59.975656 53.085089  L 59.975656 53.085089  L 49.878999 53.085089  z \" clip-path=\"url(#pac2806be48)\" style=\"fill: #d9e6f5; stroke: #444443; stroke-width: 0.5; stroke-linejoin: miter\" />\n",
       "   </g>\n",
       "   <g id=\"patch_24\">\n",
       "    <path d=\"M 59.975656 53.085089  L 70.072313 53.085089  L 70.072313 53.085089  L 59.975656 53.085089  z \" clip-path=\"url(#pac2806be48)\" style=\"fill: #d9e6f5; stroke: #444443; stroke-width: 0.5; stroke-linejoin: miter\" />\n",
       "   </g>\n",
       "   <g id=\"patch_25\">\n",
       "    <path d=\"M 70.072313 53.085089  L 80.16897 53.085089  L 80.16897 49.510395  L 70.072313 49.510395  z \" clip-path=\"url(#pac2806be48)\" style=\"fill: #d9e6f5; stroke: #444443; stroke-width: 0.5; stroke-linejoin: miter\" />\n",
       "   </g>\n",
       "   <g id=\"patch_26\">\n",
       "    <path d=\"M 80.16897 53.085089  L 90.265627 53.085089  L 90.265627 45.935702  L 80.16897 45.935702  z \" clip-path=\"url(#pac2806be48)\" style=\"fill: #d9e6f5; stroke: #444443; stroke-width: 0.5; stroke-linejoin: miter\" />\n",
       "   </g>\n",
       "   <g id=\"patch_27\">\n",
       "    <path d=\"M 90.265627 53.085089  L 100.362285 53.085089  L 100.362285 45.935702  L 90.265627 45.935702  z \" clip-path=\"url(#pac2806be48)\" style=\"fill: #d9e6f5; stroke: #444443; stroke-width: 0.5; stroke-linejoin: miter\" />\n",
       "   </g>\n",
       "   <g id=\"patch_28\">\n",
       "    <path d=\"M 100.362285 53.085089  L 110.458942 53.085089  L 110.458942 24.487538  L 100.362285 24.487538  z \" clip-path=\"url(#pac2806be48)\" style=\"fill: #d9e6f5; stroke: #444443; stroke-width: 0.5; stroke-linejoin: miter\" />\n",
       "   </g>\n",
       "   <g id=\"patch_29\">\n",
       "    <path d=\"M 110.458942 53.085089  L 120.555599 53.085089  L 120.555599 20.912844  L 110.458942 20.912844  z \" clip-path=\"url(#pac2806be48)\" style=\"fill: #d9e6f5; stroke: #444443; stroke-width: 0.5; stroke-linejoin: miter\" />\n",
       "   </g>\n",
       "   <g id=\"patch_30\">\n",
       "    <path d=\"M 120.555599 53.085089  L 130.652256 53.085089  L 130.652256 13.763457  L 120.555599 13.763457  z \" clip-path=\"url(#pac2806be48)\" style=\"fill: #d9e6f5; stroke: #444443; stroke-width: 0.5; stroke-linejoin: miter\" />\n",
       "   </g>\n",
       "   <g id=\"patch_31\">\n",
       "    <path d=\"M 130.652256 53.085089  L 140.748913 53.085089  L 140.748913 28.062232  L 130.652256 28.062232  z \" clip-path=\"url(#pac2806be48)\" style=\"fill: #d9e6f5; stroke: #444443; stroke-width: 0.5; stroke-linejoin: miter\" />\n",
       "   </g>\n",
       "   <g id=\"patch_32\">\n",
       "    <path d=\"M 140.748913 53.085089  L 150.845571 53.085089  L 150.845571 49.510395  L 140.748913 49.510395  z \" clip-path=\"url(#pac2806be48)\" style=\"fill: #d9e6f5; stroke: #444443; stroke-width: 0.5; stroke-linejoin: miter\" />\n",
       "   </g>\n",
       "   <g id=\"patch_33\">\n",
       "    <path d=\"M 150.845571 53.085089  L 160.942228 53.085089  L 160.942228 53.085089  L 150.845571 53.085089  z \" clip-path=\"url(#pac2806be48)\" style=\"fill: #d9e6f5; stroke: #444443; stroke-width: 0.5; stroke-linejoin: miter\" />\n",
       "   </g>\n",
       "   <g id=\"patch_34\">\n",
       "    <path d=\"M 160.942228 53.085089  L 171.038885 53.085089  L 171.038885 53.085089  L 160.942228 53.085089  z \" clip-path=\"url(#pac2806be48)\" style=\"fill: #d9e6f5; stroke: #444443; stroke-width: 0.5; stroke-linejoin: miter\" />\n",
       "   </g>\n",
       "   <g id=\"patch_35\">\n",
       "    <path d=\"M 171.038885 53.085089  L 181.135542 53.085089  L 181.135542 53.085089  L 171.038885 53.085089  z \" clip-path=\"url(#pac2806be48)\" style=\"fill: #d9e6f5; stroke: #444443; stroke-width: 0.5; stroke-linejoin: miter\" />\n",
       "   </g>\n",
       "   <g id=\"patch_36\">\n",
       "    <path d=\"M 181.135542 53.085089  L 191.2322 53.085089  L 191.2322 53.085089  L 181.135542 53.085089  z \" clip-path=\"url(#pac2806be48)\" style=\"fill: #d9e6f5; stroke: #444443; stroke-width: 0.5; stroke-linejoin: miter\" />\n",
       "   </g>\n",
       "   <g id=\"patch_37\">\n",
       "    <path d=\"M 19.589027 53.085089  L 29.685684 53.085089  L 29.685684 53.085089  L 19.589027 53.085089  z \" clip-path=\"url(#pac2806be48)\" style=\"fill: #a1dab4; stroke: #444443; stroke-width: 0.5; stroke-linejoin: miter\" />\n",
       "   </g>\n",
       "   <g id=\"patch_38\">\n",
       "    <path d=\"M 29.685684 53.085089  L 39.782341 53.085089  L 39.782341 53.085089  L 29.685684 53.085089  z \" clip-path=\"url(#pac2806be48)\" style=\"fill: #a1dab4; stroke: #444443; stroke-width: 0.5; stroke-linejoin: miter\" />\n",
       "   </g>\n",
       "   <g id=\"patch_39\">\n",
       "    <path d=\"M 39.782341 53.085089  L 49.878999 53.085089  L 49.878999 53.085089  L 39.782341 53.085089  z \" clip-path=\"url(#pac2806be48)\" style=\"fill: #a1dab4; stroke: #444443; stroke-width: 0.5; stroke-linejoin: miter\" />\n",
       "   </g>\n",
       "   <g id=\"patch_40\">\n",
       "    <path d=\"M 49.878999 53.085089  L 59.975656 53.085089  L 59.975656 53.085089  L 49.878999 53.085089  z \" clip-path=\"url(#pac2806be48)\" style=\"fill: #a1dab4; stroke: #444443; stroke-width: 0.5; stroke-linejoin: miter\" />\n",
       "   </g>\n",
       "   <g id=\"patch_41\">\n",
       "    <path d=\"M 59.975656 53.085089  L 70.072313 53.085089  L 70.072313 53.085089  L 59.975656 53.085089  z \" clip-path=\"url(#pac2806be48)\" style=\"fill: #a1dab4; stroke: #444443; stroke-width: 0.5; stroke-linejoin: miter\" />\n",
       "   </g>\n",
       "   <g id=\"patch_42\">\n",
       "    <path d=\"M 70.072313 49.510395  L 80.16897 49.510395  L 80.16897 49.510395  L 70.072313 49.510395  z \" clip-path=\"url(#pac2806be48)\" style=\"fill: #a1dab4; stroke: #444443; stroke-width: 0.5; stroke-linejoin: miter\" />\n",
       "   </g>\n",
       "   <g id=\"patch_43\">\n",
       "    <path d=\"M 80.16897 45.935702  L 90.265627 45.935702  L 90.265627 45.935702  L 80.16897 45.935702  z \" clip-path=\"url(#pac2806be48)\" style=\"fill: #a1dab4; stroke: #444443; stroke-width: 0.5; stroke-linejoin: miter\" />\n",
       "   </g>\n",
       "   <g id=\"patch_44\">\n",
       "    <path d=\"M 90.265627 45.935702  L 100.362285 45.935702  L 100.362285 45.935702  L 90.265627 45.935702  z \" clip-path=\"url(#pac2806be48)\" style=\"fill: #a1dab4; stroke: #444443; stroke-width: 0.5; stroke-linejoin: miter\" />\n",
       "   </g>\n",
       "   <g id=\"patch_45\">\n",
       "    <path d=\"M 100.362285 24.487538  L 110.458942 24.487538  L 110.458942 24.487538  L 100.362285 24.487538  z \" clip-path=\"url(#pac2806be48)\" style=\"fill: #a1dab4; stroke: #444443; stroke-width: 0.5; stroke-linejoin: miter\" />\n",
       "   </g>\n",
       "   <g id=\"patch_46\">\n",
       "    <path d=\"M 110.458942 20.912844  L 120.555599 20.912844  L 120.555599 20.912844  L 110.458942 20.912844  z \" clip-path=\"url(#pac2806be48)\" style=\"fill: #a1dab4; stroke: #444443; stroke-width: 0.5; stroke-linejoin: miter\" />\n",
       "   </g>\n",
       "   <g id=\"patch_47\">\n",
       "    <path d=\"M 120.555599 13.763457  L 130.652256 13.763457  L 130.652256 10.188763  L 120.555599 10.188763  z \" clip-path=\"url(#pac2806be48)\" style=\"fill: #a1dab4; stroke: #444443; stroke-width: 0.5; stroke-linejoin: miter\" />\n",
       "   </g>\n",
       "   <g id=\"patch_48\">\n",
       "    <path d=\"M 130.652256 28.062232  L 140.748913 28.062232  L 140.748913 3.039375  L 130.652256 3.039375  z \" clip-path=\"url(#pac2806be48)\" style=\"fill: #a1dab4; stroke: #444443; stroke-width: 0.5; stroke-linejoin: miter\" />\n",
       "   </g>\n",
       "   <g id=\"patch_49\">\n",
       "    <path d=\"M 140.748913 49.510395  L 150.845571 49.510395  L 150.845571 20.912844  L 140.748913 20.912844  z \" clip-path=\"url(#pac2806be48)\" style=\"fill: #a1dab4; stroke: #444443; stroke-width: 0.5; stroke-linejoin: miter\" />\n",
       "   </g>\n",
       "   <g id=\"patch_50\">\n",
       "    <path d=\"M 150.845571 53.085089  L 160.942228 53.085089  L 160.942228 20.912844  L 150.845571 20.912844  z \" clip-path=\"url(#pac2806be48)\" style=\"fill: #a1dab4; stroke: #444443; stroke-width: 0.5; stroke-linejoin: miter\" />\n",
       "   </g>\n",
       "   <g id=\"patch_51\">\n",
       "    <path d=\"M 160.942228 53.085089  L 171.038885 53.085089  L 171.038885 28.062232  L 160.942228 28.062232  z \" clip-path=\"url(#pac2806be48)\" style=\"fill: #a1dab4; stroke: #444443; stroke-width: 0.5; stroke-linejoin: miter\" />\n",
       "   </g>\n",
       "   <g id=\"patch_52\">\n",
       "    <path d=\"M 171.038885 53.085089  L 181.135542 53.085089  L 181.135542 38.786314  L 171.038885 38.786314  z \" clip-path=\"url(#pac2806be48)\" style=\"fill: #a1dab4; stroke: #444443; stroke-width: 0.5; stroke-linejoin: miter\" />\n",
       "   </g>\n",
       "   <g id=\"patch_53\">\n",
       "    <path d=\"M 181.135542 53.085089  L 191.2322 53.085089  L 191.2322 42.361008  L 181.135542 42.361008  z \" clip-path=\"url(#pac2806be48)\" style=\"fill: #a1dab4; stroke: #444443; stroke-width: 0.5; stroke-linejoin: miter\" />\n",
       "   </g>\n",
       "   <g id=\"patch_54\">\n",
       "    <path d=\"M 132.512167 53.900489  L 129.197647 61.239089  L 135.826687 61.239089  z \" style=\"fill: #444443\" />\n",
       "   </g>\n",
       "   <g id=\"matplotlib.axis_1\">\n",
       "    <g id=\"xtick_1\">\n",
       "     <g id=\"line2d_1\">\n",
       "      <defs>\n",
       "       <path id=\"me27ac40d76\" d=\"M 0 0  L 0 3.5  \" style=\"stroke: #000000; stroke-width: 0.3\" />\n",
       "      </defs>\n",
       "      <g>\n",
       "       <use xlink:href=\"#me27ac40d76\" x=\"19.589027\" y=\"53.085089\" style=\"stroke: #000000; stroke-width: 0.3\" />\n",
       "      </g>\n",
       "     </g>\n",
       "     <g id=\"text_1\">\n",
       "      \n",
       "      <g style=\"fill: #444443\" transform=\"translate(13.227777 66.163839)scale(0.08 -0.08)\">\n",
       "       <defs>\n",
       "        <path id=\"DejaVuSans-31\" d=\"M 794 531  L 1825 531  L 1825 4091  L 703 3866  L 703 4441  L 1819 4666  L 2450 4666  L 2450 531  L 3481 531  L 3481 0  L 794 0  L 794 531  z \" transform=\"scale(0.015625)\" />\n",
       "        <path id=\"DejaVuSans-2e\" d=\"M 684 794  L 1344 794  L 1344 0  L 684 0  L 684 794  z \" transform=\"scale(0.015625)\" />\n",
       "        <path id=\"DejaVuSans-30\" d=\"M 2034 4250  Q 1547 4250 1301 3770  Q 1056 3291 1056 2328  Q 1056 1369 1301 889  Q 1547 409 2034 409  Q 2525 409 2770 889  Q 3016 1369 3016 2328  Q 3016 3291 2770 3770  Q 2525 4250 2034 4250  z M 2034 4750  Q 2819 4750 3233 4129  Q 3647 3509 3647 2328  Q 3647 1150 3233 529  Q 2819 -91 2034 -91  Q 1250 -91 836 529  Q 422 1150 422 2328  Q 422 3509 836 4129  Q 1250 4750 2034 4750  z \" transform=\"scale(0.015625)\" />\n",
       "       </defs>\n",
       "       <use xlink:href=\"#DejaVuSans-31\" />\n",
       "       <use xlink:href=\"#DejaVuSans-2e\" x=\"63.623047\" />\n",
       "       <use xlink:href=\"#DejaVuSans-30\" x=\"95.410156\" />\n",
       "      </g>\n",
       "     </g>\n",
       "    </g>\n",
       "    <g id=\"xtick_2\">\n",
       "     <g id=\"line2d_2\">\n",
       "      <g>\n",
       "       <use xlink:href=\"#me27ac40d76\" x=\"191.2322\" y=\"53.085089\" style=\"stroke: #000000; stroke-width: 0.3\" />\n",
       "      </g>\n",
       "     </g>\n",
       "     <g id=\"text_2\">\n",
       "      \n",
       "      <g style=\"fill: #444443\" transform=\"translate(184.87095 66.163839)scale(0.08 -0.08)\">\n",
       "       <defs>\n",
       "        <path id=\"DejaVuSans-36\" d=\"M 2113 2584  Q 1688 2584 1439 2293  Q 1191 2003 1191 1497  Q 1191 994 1439 701  Q 1688 409 2113 409  Q 2538 409 2786 701  Q 3034 994 3034 1497  Q 3034 2003 2786 2293  Q 2538 2584 2113 2584  z M 3366 4563  L 3366 3988  Q 3128 4100 2886 4159  Q 2644 4219 2406 4219  Q 1781 4219 1451 3797  Q 1122 3375 1075 2522  Q 1259 2794 1537 2939  Q 1816 3084 2150 3084  Q 2853 3084 3261 2657  Q 3669 2231 3669 1497  Q 3669 778 3244 343  Q 2819 -91 2113 -91  Q 1303 -91 875 529  Q 447 1150 447 2328  Q 447 3434 972 4092  Q 1497 4750 2381 4750  Q 2619 4750 2861 4703  Q 3103 4656 3366 4563  z \" transform=\"scale(0.015625)\" />\n",
       "        <path id=\"DejaVuSans-37\" d=\"M 525 4666  L 3525 4666  L 3525 4397  L 1831 0  L 1172 0  L 2766 4134  L 525 4134  L 525 4666  z \" transform=\"scale(0.015625)\" />\n",
       "       </defs>\n",
       "       <use xlink:href=\"#DejaVuSans-36\" />\n",
       "       <use xlink:href=\"#DejaVuSans-2e\" x=\"63.623047\" />\n",
       "       <use xlink:href=\"#DejaVuSans-37\" x=\"95.410156\" />\n",
       "      </g>\n",
       "     </g>\n",
       "    </g>\n",
       "    <g id=\"text_3\">\n",
       "     \n",
       "     <g style=\"fill: #444443\" transform=\"translate(64.566875 80.563214)scale(0.12 -0.12)\">\n",
       "      <defs>\n",
       "       <path id=\"ArialMT-70\" d=\"M 422 -1272  L 422 3319  L 934 3319  L 934 2888  Q 1116 3141 1344 3267  Q 1572 3394 1897 3394  Q 2322 3394 2647 3175  Q 2972 2956 3137 2557  Q 3303 2159 3303 1684  Q 3303 1175 3120 767  Q 2938 359 2589 142  Q 2241 -75 1856 -75  Q 1575 -75 1351 44  Q 1128 163 984 344  L 984 -1272  L 422 -1272  z M 931 1641  Q 931 1000 1190 694  Q 1450 388 1819 388  Q 2194 388 2461 705  Q 2728 1022 2728 1688  Q 2728 2322 2467 2637  Q 2206 2953 1844 2953  Q 1484 2953 1207 2617  Q 931 2281 931 1641  z \" transform=\"scale(0.015625)\" />\n",
       "       <path id=\"ArialMT-65\" d=\"M 2694 1069  L 3275 997  Q 3138 488 2766 206  Q 2394 -75 1816 -75  Q 1088 -75 661 373  Q 234 822 234 1631  Q 234 2469 665 2931  Q 1097 3394 1784 3394  Q 2450 3394 2872 2941  Q 3294 2488 3294 1666  Q 3294 1616 3291 1516  L 816 1516  Q 847 969 1125 678  Q 1403 388 1819 388  Q 2128 388 2347 550  Q 2566 713 2694 1069  z M 847 1978  L 2700 1978  Q 2663 2397 2488 2606  Q 2219 2931 1791 2931  Q 1403 2931 1139 2672  Q 875 2413 847 1978  z \" transform=\"scale(0.015625)\" />\n",
       "       <path id=\"ArialMT-74\" d=\"M 1650 503  L 1731 6  Q 1494 -44 1306 -44  Q 1000 -44 831 53  Q 663 150 594 308  Q 525 466 525 972  L 525 2881  L 113 2881  L 113 3319  L 525 3319  L 525 4141  L 1084 4478  L 1084 3319  L 1650 3319  L 1650 2881  L 1084 2881  L 1084 941  Q 1084 700 1114 631  Q 1144 563 1211 522  Q 1278 481 1403 481  Q 1497 481 1650 503  z \" transform=\"scale(0.015625)\" />\n",
       "       <path id=\"ArialMT-61\" d=\"M 2588 409  Q 2275 144 1986 34  Q 1697 -75 1366 -75  Q 819 -75 525 192  Q 231 459 231 875  Q 231 1119 342 1320  Q 453 1522 633 1644  Q 813 1766 1038 1828  Q 1203 1872 1538 1913  Q 2219 1994 2541 2106  Q 2544 2222 2544 2253  Q 2544 2597 2384 2738  Q 2169 2928 1744 2928  Q 1347 2928 1158 2789  Q 969 2650 878 2297  L 328 2372  Q 403 2725 575 2942  Q 747 3159 1072 3276  Q 1397 3394 1825 3394  Q 2250 3394 2515 3294  Q 2781 3194 2906 3042  Q 3031 2891 3081 2659  Q 3109 2516 3109 2141  L 3109 1391  Q 3109 606 3145 398  Q 3181 191 3288 0  L 2700 0  Q 2613 175 2588 409  z M 2541 1666  Q 2234 1541 1622 1453  Q 1275 1403 1131 1340  Q 988 1278 909 1158  Q 831 1038 831 891  Q 831 666 1001 516  Q 1172 366 1500 366  Q 1825 366 2078 508  Q 2331 650 2450 897  Q 2541 1088 2541 1459  L 2541 1666  z \" transform=\"scale(0.015625)\" />\n",
       "       <path id=\"ArialMT-6c\" d=\"M 409 0  L 409 4581  L 972 4581  L 972 0  L 409 0  z \" transform=\"scale(0.015625)\" />\n",
       "       <path id=\"ArialMT-20\" transform=\"scale(0.015625)\" />\n",
       "       <path id=\"ArialMT-6e\" d=\"M 422 0  L 422 3319  L 928 3319  L 928 2847  Q 1294 3394 1984 3394  Q 2284 3394 2536 3286  Q 2788 3178 2913 3003  Q 3038 2828 3088 2588  Q 3119 2431 3119 2041  L 3119 0  L 2556 0  L 2556 2019  Q 2556 2363 2490 2533  Q 2425 2703 2258 2804  Q 2091 2906 1866 2906  Q 1506 2906 1245 2678  Q 984 2450 984 1813  L 984 0  L 422 0  z \" transform=\"scale(0.015625)\" />\n",
       "       <path id=\"ArialMT-67\" d=\"M 319 -275  L 866 -356  Q 900 -609 1056 -725  Q 1266 -881 1628 -881  Q 2019 -881 2231 -725  Q 2444 -569 2519 -288  Q 2563 -116 2559 434  Q 2191 0 1641 0  Q 956 0 581 494  Q 206 988 206 1678  Q 206 2153 378 2554  Q 550 2956 876 3175  Q 1203 3394 1644 3394  Q 2231 3394 2613 2919  L 2613 3319  L 3131 3319  L 3131 450  Q 3131 -325 2973 -648  Q 2816 -972 2473 -1159  Q 2131 -1347 1631 -1347  Q 1038 -1347 672 -1080  Q 306 -813 319 -275  z M 784 1719  Q 784 1066 1043 766  Q 1303 466 1694 466  Q 2081 466 2343 764  Q 2606 1063 2606 1700  Q 2606 2309 2336 2618  Q 2066 2928 1684 2928  Q 1309 2928 1046 2623  Q 784 2319 784 1719  z \" transform=\"scale(0.015625)\" />\n",
       "       <path id=\"ArialMT-68\" d=\"M 422 0  L 422 4581  L 984 4581  L 984 2938  Q 1378 3394 1978 3394  Q 2347 3394 2619 3248  Q 2891 3103 3008 2847  Q 3125 2591 3125 2103  L 3125 0  L 2563 0  L 2563 2103  Q 2563 2525 2380 2717  Q 2197 2909 1863 2909  Q 1613 2909 1392 2779  Q 1172 2650 1078 2428  Q 984 2206 984 1816  L 984 0  L 422 0  z \" transform=\"scale(0.015625)\" />\n",
       "       <path id=\"ArialMT-28\" d=\"M 1497 -1347  Q 1031 -759 709 28  Q 388 816 388 1659  Q 388 2403 628 3084  Q 909 3875 1497 4659  L 1900 4659  Q 1522 4009 1400 3731  Q 1209 3300 1100 2831  Q 966 2247 966 1656  Q 966 153 1900 -1347  L 1497 -1347  z \" transform=\"scale(0.015625)\" />\n",
       "       <path id=\"ArialMT-63\" d=\"M 2588 1216  L 3141 1144  Q 3050 572 2676 248  Q 2303 -75 1759 -75  Q 1078 -75 664 370  Q 250 816 250 1647  Q 250 2184 428 2587  Q 606 2991 970 3192  Q 1334 3394 1763 3394  Q 2303 3394 2647 3120  Q 2991 2847 3088 2344  L 2541 2259  Q 2463 2594 2264 2762  Q 2066 2931 1784 2931  Q 1359 2931 1093 2626  Q 828 2322 828 1663  Q 828 994 1084 691  Q 1341 388 1753 388  Q 2084 388 2306 591  Q 2528 794 2588 1216  z \" transform=\"scale(0.015625)\" />\n",
       "       <path id=\"ArialMT-6d\" d=\"M 422 0  L 422 3319  L 925 3319  L 925 2853  Q 1081 3097 1340 3245  Q 1600 3394 1931 3394  Q 2300 3394 2536 3241  Q 2772 3088 2869 2813  Q 3263 3394 3894 3394  Q 4388 3394 4653 3120  Q 4919 2847 4919 2278  L 4919 0  L 4359 0  L 4359 2091  Q 4359 2428 4304 2576  Q 4250 2725 4106 2815  Q 3963 2906 3769 2906  Q 3419 2906 3187 2673  Q 2956 2441 2956 1928  L 2956 0  L 2394 0  L 2394 2156  Q 2394 2531 2256 2718  Q 2119 2906 1806 2906  Q 1569 2906 1367 2781  Q 1166 2656 1075 2415  Q 984 2175 984 1722  L 984 0  L 422 0  z \" transform=\"scale(0.015625)\" />\n",
       "       <path id=\"ArialMT-29\" d=\"M 791 -1347  L 388 -1347  Q 1322 153 1322 1656  Q 1322 2244 1188 2822  Q 1081 3291 891 3722  Q 769 4003 388 4659  L 791 4659  Q 1378 3875 1659 3084  Q 1900 2403 1900 1659  Q 1900 816 1576 28  Q 1253 -759 791 -1347  z \" transform=\"scale(0.015625)\" />\n",
       "      </defs>\n",
       "      <use xlink:href=\"#ArialMT-70\" />\n",
       "      <use xlink:href=\"#ArialMT-65\" x=\"55.615234\" />\n",
       "      <use xlink:href=\"#ArialMT-74\" x=\"111.230469\" />\n",
       "      <use xlink:href=\"#ArialMT-61\" x=\"139.013672\" />\n",
       "      <use xlink:href=\"#ArialMT-6c\" x=\"194.628906\" />\n",
       "      <use xlink:href=\"#ArialMT-20\" x=\"216.845703\" />\n",
       "      <use xlink:href=\"#ArialMT-6c\" x=\"244.628906\" />\n",
       "      <use xlink:href=\"#ArialMT-65\" x=\"266.845703\" />\n",
       "      <use xlink:href=\"#ArialMT-6e\" x=\"322.460938\" />\n",
       "      <use xlink:href=\"#ArialMT-67\" x=\"378.076172\" />\n",
       "      <use xlink:href=\"#ArialMT-74\" x=\"433.691406\" />\n",
       "      <use xlink:href=\"#ArialMT-68\" x=\"461.474609\" />\n",
       "      <use xlink:href=\"#ArialMT-20\" x=\"517.089844\" />\n",
       "      <use xlink:href=\"#ArialMT-28\" x=\"544.873047\" />\n",
       "      <use xlink:href=\"#ArialMT-63\" x=\"578.173828\" />\n",
       "      <use xlink:href=\"#ArialMT-6d\" x=\"628.173828\" />\n",
       "      <use xlink:href=\"#ArialMT-29\" x=\"711.474609\" />\n",
       "     </g>\n",
       "    </g>\n",
       "   </g>\n",
       "   <g id=\"matplotlib.axis_2\">\n",
       "    <g id=\"ytick_1\">\n",
       "     <g id=\"line2d_3\">\n",
       "      <defs>\n",
       "       <path id=\"m8372155dc4\" d=\"M 0 0  L -3.5 0  \" style=\"stroke: #000000; stroke-width: 0.3\" />\n",
       "      </defs>\n",
       "      <g>\n",
       "       <use xlink:href=\"#m8372155dc4\" x=\"17.18\" y=\"53.085089\" style=\"stroke: #000000; stroke-width: 0.3\" />\n",
       "      </g>\n",
       "     </g>\n",
       "     <g id=\"text_4\">\n",
       "      \n",
       "      <g style=\"fill: #444443\" transform=\"translate(5.09 56.124464)scale(0.08 -0.08)\">\n",
       "       <use xlink:href=\"#DejaVuSans-30\" />\n",
       "      </g>\n",
       "     </g>\n",
       "    </g>\n",
       "    <g id=\"ytick_2\">\n",
       "     <g id=\"line2d_4\">\n",
       "      <g>\n",
       "       <use xlink:href=\"#m8372155dc4\" x=\"17.18\" y=\"3.039375\" style=\"stroke: #000000; stroke-width: 0.3\" />\n",
       "      </g>\n",
       "     </g>\n",
       "     <g id=\"text_5\">\n",
       "      \n",
       "      <g style=\"fill: #444443\" transform=\"translate(0 6.07875)scale(0.08 -0.08)\">\n",
       "       <defs>\n",
       "        <path id=\"DejaVuSans-34\" d=\"M 2419 4116  L 825 1625  L 2419 1625  L 2419 4116  z M 2253 4666  L 3047 4666  L 3047 1625  L 3713 1625  L 3713 1100  L 3047 1100  L 3047 0  L 2419 0  L 2419 1100  L 313 1100  L 313 1709  L 2253 4666  z \" transform=\"scale(0.015625)\" />\n",
       "       </defs>\n",
       "       <use xlink:href=\"#DejaVuSans-31\" />\n",
       "       <use xlink:href=\"#DejaVuSans-34\" x=\"63.623047\" />\n",
       "      </g>\n",
       "     </g>\n",
       "    </g>\n",
       "   </g>\n",
       "   <g id=\"patch_55\">\n",
       "    <path d=\"M 17.18 53.085089  L 17.18 0.537089  \" style=\"fill: none; stroke: #000000; stroke-width: 0.3; stroke-linejoin: miter; stroke-linecap: square\" />\n",
       "   </g>\n",
       "   <g id=\"patch_56\">\n",
       "    <path d=\"M 17.18 53.085089  L 201.32 53.085089  \" style=\"fill: none; stroke: #000000; stroke-width: 0.3; stroke-linejoin: miter; stroke-linecap: square\" />\n",
       "   </g>\n",
       "   <g id=\"text_6\">\n",
       "    \n",
       "    <g style=\"fill: #444443\" transform=\"translate(124.727792 69.393089)scale(0.08 -0.08)\">\n",
       "     <defs>\n",
       "      <path id=\"ArialMT-34\" d=\"M 2069 0  L 2069 1097  L 81 1097  L 81 1613  L 2172 4581  L 2631 4581  L 2631 1613  L 3250 1613  L 3250 1097  L 2631 1097  L 2631 0  L 2069 0  z M 2069 1613  L 2069 3678  L 634 1613  L 2069 1613  z \" transform=\"scale(0.015625)\" />\n",
       "      <path id=\"ArialMT-2e\" d=\"M 581 0  L 581 641  L 1222 641  L 1222 0  L 581 0  z \" transform=\"scale(0.015625)\" />\n",
       "      <path id=\"ArialMT-37\" d=\"M 303 3981  L 303 4522  L 3269 4522  L 3269 4084  Q 2831 3619 2401 2847  Q 1972 2075 1738 1259  Q 1569 684 1522 0  L 944 0  Q 953 541 1156 1306  Q 1359 2072 1739 2783  Q 2119 3494 2547 3981  L 303 3981  z \" transform=\"scale(0.015625)\" />\n",
       "      <path id=\"ArialMT-35\" d=\"M 266 1200  L 856 1250  Q 922 819 1161 601  Q 1400 384 1738 384  Q 2144 384 2425 690  Q 2706 997 2706 1503  Q 2706 1984 2436 2262  Q 2166 2541 1728 2541  Q 1456 2541 1237 2417  Q 1019 2294 894 2097  L 366 2166  L 809 4519  L 3088 4519  L 3088 3981  L 1259 3981  L 1013 2750  Q 1425 3038 1878 3038  Q 2478 3038 2890 2622  Q 3303 2206 3303 1553  Q 3303 931 2941 478  Q 2500 -78 1738 -78  Q 1113 -78 717 272  Q 322 622 266 1200  z \" transform=\"scale(0.015625)\" />\n",
       "     </defs>\n",
       "     <use xlink:href=\"#ArialMT-34\" />\n",
       "     <use xlink:href=\"#ArialMT-2e\" x=\"55.615234\" />\n",
       "     <use xlink:href=\"#ArialMT-37\" x=\"83.398438\" />\n",
       "     <use xlink:href=\"#ArialMT-35\" x=\"139.013672\" />\n",
       "    </g>\n",
       "   </g>\n",
       "  </g>\n",
       " </g>\n",
       " <defs>\n",
       "  <clipPath id=\"pac2806be48\">\n",
       "   <rect x=\"17.18\" y=\"0.537089\" width=\"184.14\" height=\"52.548\" />\n",
       "  </clipPath>\n",
       " </defs>\n",
       "</svg></g>\n",
       "\n",
       "<g id=\"edge7\" class=\"edge\"><title>node2-&gt;node3</title>\n",
       "<path fill=\"none\" stroke=\"#444443\" stroke-width=\"0.3\" d=\"M144.555,-165.917C142.212,-161.587 139.803,-157.136 137.431,-152.752\" />\n",
       "<polygon fill=\"#444443\" stroke=\"#444443\" stroke-width=\"0.3\" points=\"138.584,-151.942 135.449,-149.091 136.122,-153.275 138.584,-151.942\" />\n",
       "</g>\n",
       "\n",
       "<g id=\"edge8\" class=\"edge\"><title>node2-&gt;node6</title>\n",
       "<path fill=\"none\" stroke=\"#444443\" stroke-width=\"0.3\" d=\"M213.523,-165.917C225.064,-158.132 237.186,-149.954 248.257,-142.486\" />\n",
       "<polygon fill=\"#444443\" stroke=\"#444443\" stroke-width=\"0.3\" points=\"249.124,-143.59 251.657,-140.192 247.558,-141.268 249.124,-143.59\" />\n",
       "</g>\n",
       "\n",
       "<g id=\"node4\" class=\"node\"><title>node0</title>\n",
       "<svg width=\"150px\" height=\"84px\" viewBox=\"0 0 201.32 111.54375\" version=\"1.1\" preserveAspectRatio=\"xMinYMin meet\" x=\"4\" y=\"-355\">\n",
       " <metadata>\n",
       "  <rdf:RDF>\n",
       "   <ns2:Work>\n",
       "    <dc:type rdf:resource=\"http://purl.org/dc/dcmitype/StillImage\" />\n",
       "    <dc:date>2022-08-08T15:17:13.761246</dc:date>\n",
       "    <dc:format>image/svg+xml</dc:format>\n",
       "    <dc:creator>\n",
       "     <ns2:Agent>\n",
       "      <dc:title>Matplotlib v3.5.1, https://matplotlib.org/</dc:title>\n",
       "     </ns2:Agent>\n",
       "    </dc:creator>\n",
       "   </ns2:Work>\n",
       "  </rdf:RDF>\n",
       " </metadata>\n",
       " <defs>\n",
       "  <style type=\"text/css\">*{stroke-linejoin: round; stroke-linecap: butt}</style>\n",
       " </defs>\n",
       " <g id=\"figure_1\">\n",
       "  <g id=\"patch_1\">\n",
       "   <path d=\"M 0 111.54375  L 201.32 111.54375  L 201.32 -0  L 0 -0  L 0 111.54375  z \" style=\"fill: none\" />\n",
       "  </g>\n",
       "  <g id=\"axes_1\">\n",
       "   <g id=\"patch_2\">\n",
       "    <path d=\"M 17.18 81.54  L 201.32 81.54  L 201.32 0  L 17.18 0  z \" style=\"fill: #ffffff\" />\n",
       "   </g>\n",
       "   <g id=\"patch_3\">\n",
       "    <path d=\"M 19.589027 81.54  L 29.685684 81.54  L 29.685684 50.477143  L 19.589027 50.477143  z \" clip-path=\"url(#p00cfa35f27)\" style=\"fill: #fefebb; stroke: #444443; stroke-width: 0.5; stroke-linejoin: miter\" />\n",
       "   </g>\n",
       "   <g id=\"patch_4\">\n",
       "    <path d=\"M 29.685684 81.54  L 39.782341 81.54  L 39.782341 3.882857  L 29.685684 3.882857  z \" clip-path=\"url(#p00cfa35f27)\" style=\"fill: #fefebb; stroke: #444443; stroke-width: 0.5; stroke-linejoin: miter\" />\n",
       "   </g>\n",
       "   <g id=\"patch_5\">\n",
       "    <path d=\"M 39.782341 81.54  L 49.878999 81.54  L 49.878999 66.008571  L 39.782341 66.008571  z \" clip-path=\"url(#p00cfa35f27)\" style=\"fill: #fefebb; stroke: #444443; stroke-width: 0.5; stroke-linejoin: miter\" />\n",
       "   </g>\n",
       "   <g id=\"patch_6\">\n",
       "    <path d=\"M 49.878999 81.54  L 59.975656 81.54  L 59.975656 81.54  L 49.878999 81.54  z \" clip-path=\"url(#p00cfa35f27)\" style=\"fill: #fefebb; stroke: #444443; stroke-width: 0.5; stroke-linejoin: miter\" />\n",
       "   </g>\n",
       "   <g id=\"patch_7\">\n",
       "    <path d=\"M 59.975656 81.54  L 70.072313 81.54  L 70.072313 81.54  L 59.975656 81.54  z \" clip-path=\"url(#p00cfa35f27)\" style=\"fill: #fefebb; stroke: #444443; stroke-width: 0.5; stroke-linejoin: miter\" />\n",
       "   </g>\n",
       "   <g id=\"patch_8\">\n",
       "    <path d=\"M 70.072313 81.54  L 80.16897 81.54  L 80.16897 81.54  L 70.072313 81.54  z \" clip-path=\"url(#p00cfa35f27)\" style=\"fill: #fefebb; stroke: #444443; stroke-width: 0.5; stroke-linejoin: miter\" />\n",
       "   </g>\n",
       "   <g id=\"patch_9\">\n",
       "    <path d=\"M 80.16897 81.54  L 90.265627 81.54  L 90.265627 81.54  L 80.16897 81.54  z \" clip-path=\"url(#p00cfa35f27)\" style=\"fill: #fefebb; stroke: #444443; stroke-width: 0.5; stroke-linejoin: miter\" />\n",
       "   </g>\n",
       "   <g id=\"patch_10\">\n",
       "    <path d=\"M 90.265627 81.54  L 100.362285 81.54  L 100.362285 81.54  L 90.265627 81.54  z \" clip-path=\"url(#p00cfa35f27)\" style=\"fill: #fefebb; stroke: #444443; stroke-width: 0.5; stroke-linejoin: miter\" />\n",
       "   </g>\n",
       "   <g id=\"patch_11\">\n",
       "    <path d=\"M 100.362285 81.54  L 110.458942 81.54  L 110.458942 81.54  L 100.362285 81.54  z \" clip-path=\"url(#p00cfa35f27)\" style=\"fill: #fefebb; stroke: #444443; stroke-width: 0.5; stroke-linejoin: miter\" />\n",
       "   </g>\n",
       "   <g id=\"patch_12\">\n",
       "    <path d=\"M 110.458942 81.54  L 120.555599 81.54  L 120.555599 81.54  L 110.458942 81.54  z \" clip-path=\"url(#p00cfa35f27)\" style=\"fill: #fefebb; stroke: #444443; stroke-width: 0.5; stroke-linejoin: miter\" />\n",
       "   </g>\n",
       "   <g id=\"patch_13\">\n",
       "    <path d=\"M 120.555599 81.54  L 130.652256 81.54  L 130.652256 81.54  L 120.555599 81.54  z \" clip-path=\"url(#p00cfa35f27)\" style=\"fill: #fefebb; stroke: #444443; stroke-width: 0.5; stroke-linejoin: miter\" />\n",
       "   </g>\n",
       "   <g id=\"patch_14\">\n",
       "    <path d=\"M 130.652256 81.54  L 140.748913 81.54  L 140.748913 81.54  L 130.652256 81.54  z \" clip-path=\"url(#p00cfa35f27)\" style=\"fill: #fefebb; stroke: #444443; stroke-width: 0.5; stroke-linejoin: miter\" />\n",
       "   </g>\n",
       "   <g id=\"patch_15\">\n",
       "    <path d=\"M 140.748913 81.54  L 150.845571 81.54  L 150.845571 81.54  L 140.748913 81.54  z \" clip-path=\"url(#p00cfa35f27)\" style=\"fill: #fefebb; stroke: #444443; stroke-width: 0.5; stroke-linejoin: miter\" />\n",
       "   </g>\n",
       "   <g id=\"patch_16\">\n",
       "    <path d=\"M 150.845571 81.54  L 160.942228 81.54  L 160.942228 81.54  L 150.845571 81.54  z \" clip-path=\"url(#p00cfa35f27)\" style=\"fill: #fefebb; stroke: #444443; stroke-width: 0.5; stroke-linejoin: miter\" />\n",
       "   </g>\n",
       "   <g id=\"patch_17\">\n",
       "    <path d=\"M 160.942228 81.54  L 171.038885 81.54  L 171.038885 81.54  L 160.942228 81.54  z \" clip-path=\"url(#p00cfa35f27)\" style=\"fill: #fefebb; stroke: #444443; stroke-width: 0.5; stroke-linejoin: miter\" />\n",
       "   </g>\n",
       "   <g id=\"patch_18\">\n",
       "    <path d=\"M 171.038885 81.54  L 181.135542 81.54  L 181.135542 81.54  L 171.038885 81.54  z \" clip-path=\"url(#p00cfa35f27)\" style=\"fill: #fefebb; stroke: #444443; stroke-width: 0.5; stroke-linejoin: miter\" />\n",
       "   </g>\n",
       "   <g id=\"patch_19\">\n",
       "    <path d=\"M 181.135542 81.54  L 191.2322 81.54  L 191.2322 81.54  L 181.135542 81.54  z \" clip-path=\"url(#p00cfa35f27)\" style=\"fill: #fefebb; stroke: #444443; stroke-width: 0.5; stroke-linejoin: miter\" />\n",
       "   </g>\n",
       "   <g id=\"patch_20\">\n",
       "    <path d=\"M 19.589027 50.477143  L 29.685684 50.477143  L 29.685684 50.477143  L 19.589027 50.477143  z \" clip-path=\"url(#p00cfa35f27)\" style=\"fill: #d9e6f5; stroke: #444443; stroke-width: 0.5; stroke-linejoin: miter\" />\n",
       "   </g>\n",
       "   <g id=\"patch_21\">\n",
       "    <path d=\"M 29.685684 3.882857  L 39.782341 3.882857  L 39.782341 3.882857  L 29.685684 3.882857  z \" clip-path=\"url(#p00cfa35f27)\" style=\"fill: #d9e6f5; stroke: #444443; stroke-width: 0.5; stroke-linejoin: miter\" />\n",
       "   </g>\n",
       "   <g id=\"patch_22\">\n",
       "    <path d=\"M 39.782341 66.008571  L 49.878999 66.008571  L 49.878999 66.008571  L 39.782341 66.008571  z \" clip-path=\"url(#p00cfa35f27)\" style=\"fill: #d9e6f5; stroke: #444443; stroke-width: 0.5; stroke-linejoin: miter\" />\n",
       "   </g>\n",
       "   <g id=\"patch_23\">\n",
       "    <path d=\"M 49.878999 81.54  L 59.975656 81.54  L 59.975656 81.54  L 49.878999 81.54  z \" clip-path=\"url(#p00cfa35f27)\" style=\"fill: #d9e6f5; stroke: #444443; stroke-width: 0.5; stroke-linejoin: miter\" />\n",
       "   </g>\n",
       "   <g id=\"patch_24\">\n",
       "    <path d=\"M 59.975656 81.54  L 70.072313 81.54  L 70.072313 81.54  L 59.975656 81.54  z \" clip-path=\"url(#p00cfa35f27)\" style=\"fill: #d9e6f5; stroke: #444443; stroke-width: 0.5; stroke-linejoin: miter\" />\n",
       "   </g>\n",
       "   <g id=\"patch_25\">\n",
       "    <path d=\"M 70.072313 81.54  L 80.16897 81.54  L 80.16897 78.433714  L 70.072313 78.433714  z \" clip-path=\"url(#p00cfa35f27)\" style=\"fill: #d9e6f5; stroke: #444443; stroke-width: 0.5; stroke-linejoin: miter\" />\n",
       "   </g>\n",
       "   <g id=\"patch_26\">\n",
       "    <path d=\"M 80.16897 81.54  L 90.265627 81.54  L 90.265627 75.327429  L 80.16897 75.327429  z \" clip-path=\"url(#p00cfa35f27)\" style=\"fill: #d9e6f5; stroke: #444443; stroke-width: 0.5; stroke-linejoin: miter\" />\n",
       "   </g>\n",
       "   <g id=\"patch_27\">\n",
       "    <path d=\"M 90.265627 81.54  L 100.362285 81.54  L 100.362285 75.327429  L 90.265627 75.327429  z \" clip-path=\"url(#p00cfa35f27)\" style=\"fill: #d9e6f5; stroke: #444443; stroke-width: 0.5; stroke-linejoin: miter\" />\n",
       "   </g>\n",
       "   <g id=\"patch_28\">\n",
       "    <path d=\"M 100.362285 81.54  L 110.458942 81.54  L 110.458942 56.689714  L 100.362285 56.689714  z \" clip-path=\"url(#p00cfa35f27)\" style=\"fill: #d9e6f5; stroke: #444443; stroke-width: 0.5; stroke-linejoin: miter\" />\n",
       "   </g>\n",
       "   <g id=\"patch_29\">\n",
       "    <path d=\"M 110.458942 81.54  L 120.555599 81.54  L 120.555599 53.583429  L 110.458942 53.583429  z \" clip-path=\"url(#p00cfa35f27)\" style=\"fill: #d9e6f5; stroke: #444443; stroke-width: 0.5; stroke-linejoin: miter\" />\n",
       "   </g>\n",
       "   <g id=\"patch_30\">\n",
       "    <path d=\"M 120.555599 81.54  L 130.652256 81.54  L 130.652256 47.370857  L 120.555599 47.370857  z \" clip-path=\"url(#p00cfa35f27)\" style=\"fill: #d9e6f5; stroke: #444443; stroke-width: 0.5; stroke-linejoin: miter\" />\n",
       "   </g>\n",
       "   <g id=\"patch_31\">\n",
       "    <path d=\"M 130.652256 81.54  L 140.748913 81.54  L 140.748913 59.796  L 130.652256 59.796  z \" clip-path=\"url(#p00cfa35f27)\" style=\"fill: #d9e6f5; stroke: #444443; stroke-width: 0.5; stroke-linejoin: miter\" />\n",
       "   </g>\n",
       "   <g id=\"patch_32\">\n",
       "    <path d=\"M 140.748913 81.54  L 150.845571 81.54  L 150.845571 78.433714  L 140.748913 78.433714  z \" clip-path=\"url(#p00cfa35f27)\" style=\"fill: #d9e6f5; stroke: #444443; stroke-width: 0.5; stroke-linejoin: miter\" />\n",
       "   </g>\n",
       "   <g id=\"patch_33\">\n",
       "    <path d=\"M 150.845571 81.54  L 160.942228 81.54  L 160.942228 81.54  L 150.845571 81.54  z \" clip-path=\"url(#p00cfa35f27)\" style=\"fill: #d9e6f5; stroke: #444443; stroke-width: 0.5; stroke-linejoin: miter\" />\n",
       "   </g>\n",
       "   <g id=\"patch_34\">\n",
       "    <path d=\"M 160.942228 81.54  L 171.038885 81.54  L 171.038885 81.54  L 160.942228 81.54  z \" clip-path=\"url(#p00cfa35f27)\" style=\"fill: #d9e6f5; stroke: #444443; stroke-width: 0.5; stroke-linejoin: miter\" />\n",
       "   </g>\n",
       "   <g id=\"patch_35\">\n",
       "    <path d=\"M 171.038885 81.54  L 181.135542 81.54  L 181.135542 81.54  L 171.038885 81.54  z \" clip-path=\"url(#p00cfa35f27)\" style=\"fill: #d9e6f5; stroke: #444443; stroke-width: 0.5; stroke-linejoin: miter\" />\n",
       "   </g>\n",
       "   <g id=\"patch_36\">\n",
       "    <path d=\"M 181.135542 81.54  L 191.2322 81.54  L 191.2322 81.54  L 181.135542 81.54  z \" clip-path=\"url(#p00cfa35f27)\" style=\"fill: #d9e6f5; stroke: #444443; stroke-width: 0.5; stroke-linejoin: miter\" />\n",
       "   </g>\n",
       "   <g id=\"patch_37\">\n",
       "    <path d=\"M 19.589027 50.477143  L 29.685684 50.477143  L 29.685684 50.477143  L 19.589027 50.477143  z \" clip-path=\"url(#p00cfa35f27)\" style=\"fill: #a1dab4; stroke: #444443; stroke-width: 0.5; stroke-linejoin: miter\" />\n",
       "   </g>\n",
       "   <g id=\"patch_38\">\n",
       "    <path d=\"M 29.685684 3.882857  L 39.782341 3.882857  L 39.782341 3.882857  L 29.685684 3.882857  z \" clip-path=\"url(#p00cfa35f27)\" style=\"fill: #a1dab4; stroke: #444443; stroke-width: 0.5; stroke-linejoin: miter\" />\n",
       "   </g>\n",
       "   <g id=\"patch_39\">\n",
       "    <path d=\"M 39.782341 66.008571  L 49.878999 66.008571  L 49.878999 66.008571  L 39.782341 66.008571  z \" clip-path=\"url(#p00cfa35f27)\" style=\"fill: #a1dab4; stroke: #444443; stroke-width: 0.5; stroke-linejoin: miter\" />\n",
       "   </g>\n",
       "   <g id=\"patch_40\">\n",
       "    <path d=\"M 49.878999 81.54  L 59.975656 81.54  L 59.975656 81.54  L 49.878999 81.54  z \" clip-path=\"url(#p00cfa35f27)\" style=\"fill: #a1dab4; stroke: #444443; stroke-width: 0.5; stroke-linejoin: miter\" />\n",
       "   </g>\n",
       "   <g id=\"patch_41\">\n",
       "    <path d=\"M 59.975656 81.54  L 70.072313 81.54  L 70.072313 81.54  L 59.975656 81.54  z \" clip-path=\"url(#p00cfa35f27)\" style=\"fill: #a1dab4; stroke: #444443; stroke-width: 0.5; stroke-linejoin: miter\" />\n",
       "   </g>\n",
       "   <g id=\"patch_42\">\n",
       "    <path d=\"M 70.072313 78.433714  L 80.16897 78.433714  L 80.16897 78.433714  L 70.072313 78.433714  z \" clip-path=\"url(#p00cfa35f27)\" style=\"fill: #a1dab4; stroke: #444443; stroke-width: 0.5; stroke-linejoin: miter\" />\n",
       "   </g>\n",
       "   <g id=\"patch_43\">\n",
       "    <path d=\"M 80.16897 75.327429  L 90.265627 75.327429  L 90.265627 75.327429  L 80.16897 75.327429  z \" clip-path=\"url(#p00cfa35f27)\" style=\"fill: #a1dab4; stroke: #444443; stroke-width: 0.5; stroke-linejoin: miter\" />\n",
       "   </g>\n",
       "   <g id=\"patch_44\">\n",
       "    <path d=\"M 90.265627 75.327429  L 100.362285 75.327429  L 100.362285 75.327429  L 90.265627 75.327429  z \" clip-path=\"url(#p00cfa35f27)\" style=\"fill: #a1dab4; stroke: #444443; stroke-width: 0.5; stroke-linejoin: miter\" />\n",
       "   </g>\n",
       "   <g id=\"patch_45\">\n",
       "    <path d=\"M 100.362285 56.689714  L 110.458942 56.689714  L 110.458942 56.689714  L 100.362285 56.689714  z \" clip-path=\"url(#p00cfa35f27)\" style=\"fill: #a1dab4; stroke: #444443; stroke-width: 0.5; stroke-linejoin: miter\" />\n",
       "   </g>\n",
       "   <g id=\"patch_46\">\n",
       "    <path d=\"M 110.458942 53.583429  L 120.555599 53.583429  L 120.555599 53.583429  L 110.458942 53.583429  z \" clip-path=\"url(#p00cfa35f27)\" style=\"fill: #a1dab4; stroke: #444443; stroke-width: 0.5; stroke-linejoin: miter\" />\n",
       "   </g>\n",
       "   <g id=\"patch_47\">\n",
       "    <path d=\"M 120.555599 47.370857  L 130.652256 47.370857  L 130.652256 44.264571  L 120.555599 44.264571  z \" clip-path=\"url(#p00cfa35f27)\" style=\"fill: #a1dab4; stroke: #444443; stroke-width: 0.5; stroke-linejoin: miter\" />\n",
       "   </g>\n",
       "   <g id=\"patch_48\">\n",
       "    <path d=\"M 130.652256 59.796  L 140.748913 59.796  L 140.748913 38.052  L 130.652256 38.052  z \" clip-path=\"url(#p00cfa35f27)\" style=\"fill: #a1dab4; stroke: #444443; stroke-width: 0.5; stroke-linejoin: miter\" />\n",
       "   </g>\n",
       "   <g id=\"patch_49\">\n",
       "    <path d=\"M 140.748913 78.433714  L 150.845571 78.433714  L 150.845571 53.583429  L 140.748913 53.583429  z \" clip-path=\"url(#p00cfa35f27)\" style=\"fill: #a1dab4; stroke: #444443; stroke-width: 0.5; stroke-linejoin: miter\" />\n",
       "   </g>\n",
       "   <g id=\"patch_50\">\n",
       "    <path d=\"M 150.845571 81.54  L 160.942228 81.54  L 160.942228 53.583429  L 150.845571 53.583429  z \" clip-path=\"url(#p00cfa35f27)\" style=\"fill: #a1dab4; stroke: #444443; stroke-width: 0.5; stroke-linejoin: miter\" />\n",
       "   </g>\n",
       "   <g id=\"patch_51\">\n",
       "    <path d=\"M 160.942228 81.54  L 171.038885 81.54  L 171.038885 59.796  L 160.942228 59.796  z \" clip-path=\"url(#p00cfa35f27)\" style=\"fill: #a1dab4; stroke: #444443; stroke-width: 0.5; stroke-linejoin: miter\" />\n",
       "   </g>\n",
       "   <g id=\"patch_52\">\n",
       "    <path d=\"M 171.038885 81.54  L 181.135542 81.54  L 181.135542 69.114857  L 171.038885 69.114857  z \" clip-path=\"url(#p00cfa35f27)\" style=\"fill: #a1dab4; stroke: #444443; stroke-width: 0.5; stroke-linejoin: miter\" />\n",
       "   </g>\n",
       "   <g id=\"patch_53\">\n",
       "    <path d=\"M 181.135542 81.54  L 191.2322 81.54  L 191.2322 72.221143  L 181.135542 72.221143  z \" clip-path=\"url(#p00cfa35f27)\" style=\"fill: #a1dab4; stroke: #444443; stroke-width: 0.5; stroke-linejoin: miter\" />\n",
       "   </g>\n",
       "   <g id=\"patch_54\">\n",
       "    <path d=\"M 63.252641 82.3554  L 59.938121 89.694  L 66.567161 89.694  z \" style=\"fill: #444443\" />\n",
       "   </g>\n",
       "   <g id=\"matplotlib.axis_1\">\n",
       "    <g id=\"xtick_1\">\n",
       "     <g id=\"line2d_1\">\n",
       "      <defs>\n",
       "       <path id=\"m371b244b7a\" d=\"M 0 0  L 0 3.5  \" style=\"stroke: #000000; stroke-width: 0.3\" />\n",
       "      </defs>\n",
       "      <g>\n",
       "       <use xlink:href=\"#m371b244b7a\" x=\"19.589027\" y=\"81.54\" style=\"stroke: #000000; stroke-width: 0.3\" />\n",
       "      </g>\n",
       "     </g>\n",
       "     <g id=\"text_1\">\n",
       "      \n",
       "      <g style=\"fill: #444443\" transform=\"translate(13.227777 94.61875)scale(0.08 -0.08)\">\n",
       "       <defs>\n",
       "        <path id=\"DejaVuSans-31\" d=\"M 794 531  L 1825 531  L 1825 4091  L 703 3866  L 703 4441  L 1819 4666  L 2450 4666  L 2450 531  L 3481 531  L 3481 0  L 794 0  L 794 531  z \" transform=\"scale(0.015625)\" />\n",
       "        <path id=\"DejaVuSans-2e\" d=\"M 684 794  L 1344 794  L 1344 0  L 684 0  L 684 794  z \" transform=\"scale(0.015625)\" />\n",
       "        <path id=\"DejaVuSans-30\" d=\"M 2034 4250  Q 1547 4250 1301 3770  Q 1056 3291 1056 2328  Q 1056 1369 1301 889  Q 1547 409 2034 409  Q 2525 409 2770 889  Q 3016 1369 3016 2328  Q 3016 3291 2770 3770  Q 2525 4250 2034 4250  z M 2034 4750  Q 2819 4750 3233 4129  Q 3647 3509 3647 2328  Q 3647 1150 3233 529  Q 2819 -91 2034 -91  Q 1250 -91 836 529  Q 422 1150 422 2328  Q 422 3509 836 4129  Q 1250 4750 2034 4750  z \" transform=\"scale(0.015625)\" />\n",
       "       </defs>\n",
       "       <use xlink:href=\"#DejaVuSans-31\" />\n",
       "       <use xlink:href=\"#DejaVuSans-2e\" x=\"63.623047\" />\n",
       "       <use xlink:href=\"#DejaVuSans-30\" x=\"95.410156\" />\n",
       "      </g>\n",
       "     </g>\n",
       "    </g>\n",
       "    <g id=\"xtick_2\">\n",
       "     <g id=\"line2d_2\">\n",
       "      <g>\n",
       "       <use xlink:href=\"#m371b244b7a\" x=\"191.2322\" y=\"81.54\" style=\"stroke: #000000; stroke-width: 0.3\" />\n",
       "      </g>\n",
       "     </g>\n",
       "     <g id=\"text_2\">\n",
       "      \n",
       "      <g style=\"fill: #444443\" transform=\"translate(184.87095 94.61875)scale(0.08 -0.08)\">\n",
       "       <defs>\n",
       "        <path id=\"DejaVuSans-36\" d=\"M 2113 2584  Q 1688 2584 1439 2293  Q 1191 2003 1191 1497  Q 1191 994 1439 701  Q 1688 409 2113 409  Q 2538 409 2786 701  Q 3034 994 3034 1497  Q 3034 2003 2786 2293  Q 2538 2584 2113 2584  z M 3366 4563  L 3366 3988  Q 3128 4100 2886 4159  Q 2644 4219 2406 4219  Q 1781 4219 1451 3797  Q 1122 3375 1075 2522  Q 1259 2794 1537 2939  Q 1816 3084 2150 3084  Q 2853 3084 3261 2657  Q 3669 2231 3669 1497  Q 3669 778 3244 343  Q 2819 -91 2113 -91  Q 1303 -91 875 529  Q 447 1150 447 2328  Q 447 3434 972 4092  Q 1497 4750 2381 4750  Q 2619 4750 2861 4703  Q 3103 4656 3366 4563  z \" transform=\"scale(0.015625)\" />\n",
       "        <path id=\"DejaVuSans-37\" d=\"M 525 4666  L 3525 4666  L 3525 4397  L 1831 0  L 1172 0  L 2766 4134  L 525 4134  L 525 4666  z \" transform=\"scale(0.015625)\" />\n",
       "       </defs>\n",
       "       <use xlink:href=\"#DejaVuSans-36\" />\n",
       "       <use xlink:href=\"#DejaVuSans-2e\" x=\"63.623047\" />\n",
       "       <use xlink:href=\"#DejaVuSans-37\" x=\"95.410156\" />\n",
       "      </g>\n",
       "     </g>\n",
       "    </g>\n",
       "    <g id=\"text_3\">\n",
       "     \n",
       "     <g style=\"fill: #444443\" transform=\"translate(64.566875 109.018125)scale(0.12 -0.12)\">\n",
       "      <defs>\n",
       "       <path id=\"ArialMT-70\" d=\"M 422 -1272  L 422 3319  L 934 3319  L 934 2888  Q 1116 3141 1344 3267  Q 1572 3394 1897 3394  Q 2322 3394 2647 3175  Q 2972 2956 3137 2557  Q 3303 2159 3303 1684  Q 3303 1175 3120 767  Q 2938 359 2589 142  Q 2241 -75 1856 -75  Q 1575 -75 1351 44  Q 1128 163 984 344  L 984 -1272  L 422 -1272  z M 931 1641  Q 931 1000 1190 694  Q 1450 388 1819 388  Q 2194 388 2461 705  Q 2728 1022 2728 1688  Q 2728 2322 2467 2637  Q 2206 2953 1844 2953  Q 1484 2953 1207 2617  Q 931 2281 931 1641  z \" transform=\"scale(0.015625)\" />\n",
       "       <path id=\"ArialMT-65\" d=\"M 2694 1069  L 3275 997  Q 3138 488 2766 206  Q 2394 -75 1816 -75  Q 1088 -75 661 373  Q 234 822 234 1631  Q 234 2469 665 2931  Q 1097 3394 1784 3394  Q 2450 3394 2872 2941  Q 3294 2488 3294 1666  Q 3294 1616 3291 1516  L 816 1516  Q 847 969 1125 678  Q 1403 388 1819 388  Q 2128 388 2347 550  Q 2566 713 2694 1069  z M 847 1978  L 2700 1978  Q 2663 2397 2488 2606  Q 2219 2931 1791 2931  Q 1403 2931 1139 2672  Q 875 2413 847 1978  z \" transform=\"scale(0.015625)\" />\n",
       "       <path id=\"ArialMT-74\" d=\"M 1650 503  L 1731 6  Q 1494 -44 1306 -44  Q 1000 -44 831 53  Q 663 150 594 308  Q 525 466 525 972  L 525 2881  L 113 2881  L 113 3319  L 525 3319  L 525 4141  L 1084 4478  L 1084 3319  L 1650 3319  L 1650 2881  L 1084 2881  L 1084 941  Q 1084 700 1114 631  Q 1144 563 1211 522  Q 1278 481 1403 481  Q 1497 481 1650 503  z \" transform=\"scale(0.015625)\" />\n",
       "       <path id=\"ArialMT-61\" d=\"M 2588 409  Q 2275 144 1986 34  Q 1697 -75 1366 -75  Q 819 -75 525 192  Q 231 459 231 875  Q 231 1119 342 1320  Q 453 1522 633 1644  Q 813 1766 1038 1828  Q 1203 1872 1538 1913  Q 2219 1994 2541 2106  Q 2544 2222 2544 2253  Q 2544 2597 2384 2738  Q 2169 2928 1744 2928  Q 1347 2928 1158 2789  Q 969 2650 878 2297  L 328 2372  Q 403 2725 575 2942  Q 747 3159 1072 3276  Q 1397 3394 1825 3394  Q 2250 3394 2515 3294  Q 2781 3194 2906 3042  Q 3031 2891 3081 2659  Q 3109 2516 3109 2141  L 3109 1391  Q 3109 606 3145 398  Q 3181 191 3288 0  L 2700 0  Q 2613 175 2588 409  z M 2541 1666  Q 2234 1541 1622 1453  Q 1275 1403 1131 1340  Q 988 1278 909 1158  Q 831 1038 831 891  Q 831 666 1001 516  Q 1172 366 1500 366  Q 1825 366 2078 508  Q 2331 650 2450 897  Q 2541 1088 2541 1459  L 2541 1666  z \" transform=\"scale(0.015625)\" />\n",
       "       <path id=\"ArialMT-6c\" d=\"M 409 0  L 409 4581  L 972 4581  L 972 0  L 409 0  z \" transform=\"scale(0.015625)\" />\n",
       "       <path id=\"ArialMT-20\" transform=\"scale(0.015625)\" />\n",
       "       <path id=\"ArialMT-6e\" d=\"M 422 0  L 422 3319  L 928 3319  L 928 2847  Q 1294 3394 1984 3394  Q 2284 3394 2536 3286  Q 2788 3178 2913 3003  Q 3038 2828 3088 2588  Q 3119 2431 3119 2041  L 3119 0  L 2556 0  L 2556 2019  Q 2556 2363 2490 2533  Q 2425 2703 2258 2804  Q 2091 2906 1866 2906  Q 1506 2906 1245 2678  Q 984 2450 984 1813  L 984 0  L 422 0  z \" transform=\"scale(0.015625)\" />\n",
       "       <path id=\"ArialMT-67\" d=\"M 319 -275  L 866 -356  Q 900 -609 1056 -725  Q 1266 -881 1628 -881  Q 2019 -881 2231 -725  Q 2444 -569 2519 -288  Q 2563 -116 2559 434  Q 2191 0 1641 0  Q 956 0 581 494  Q 206 988 206 1678  Q 206 2153 378 2554  Q 550 2956 876 3175  Q 1203 3394 1644 3394  Q 2231 3394 2613 2919  L 2613 3319  L 3131 3319  L 3131 450  Q 3131 -325 2973 -648  Q 2816 -972 2473 -1159  Q 2131 -1347 1631 -1347  Q 1038 -1347 672 -1080  Q 306 -813 319 -275  z M 784 1719  Q 784 1066 1043 766  Q 1303 466 1694 466  Q 2081 466 2343 764  Q 2606 1063 2606 1700  Q 2606 2309 2336 2618  Q 2066 2928 1684 2928  Q 1309 2928 1046 2623  Q 784 2319 784 1719  z \" transform=\"scale(0.015625)\" />\n",
       "       <path id=\"ArialMT-68\" d=\"M 422 0  L 422 4581  L 984 4581  L 984 2938  Q 1378 3394 1978 3394  Q 2347 3394 2619 3248  Q 2891 3103 3008 2847  Q 3125 2591 3125 2103  L 3125 0  L 2563 0  L 2563 2103  Q 2563 2525 2380 2717  Q 2197 2909 1863 2909  Q 1613 2909 1392 2779  Q 1172 2650 1078 2428  Q 984 2206 984 1816  L 984 0  L 422 0  z \" transform=\"scale(0.015625)\" />\n",
       "       <path id=\"ArialMT-28\" d=\"M 1497 -1347  Q 1031 -759 709 28  Q 388 816 388 1659  Q 388 2403 628 3084  Q 909 3875 1497 4659  L 1900 4659  Q 1522 4009 1400 3731  Q 1209 3300 1100 2831  Q 966 2247 966 1656  Q 966 153 1900 -1347  L 1497 -1347  z \" transform=\"scale(0.015625)\" />\n",
       "       <path id=\"ArialMT-63\" d=\"M 2588 1216  L 3141 1144  Q 3050 572 2676 248  Q 2303 -75 1759 -75  Q 1078 -75 664 370  Q 250 816 250 1647  Q 250 2184 428 2587  Q 606 2991 970 3192  Q 1334 3394 1763 3394  Q 2303 3394 2647 3120  Q 2991 2847 3088 2344  L 2541 2259  Q 2463 2594 2264 2762  Q 2066 2931 1784 2931  Q 1359 2931 1093 2626  Q 828 2322 828 1663  Q 828 994 1084 691  Q 1341 388 1753 388  Q 2084 388 2306 591  Q 2528 794 2588 1216  z \" transform=\"scale(0.015625)\" />\n",
       "       <path id=\"ArialMT-6d\" d=\"M 422 0  L 422 3319  L 925 3319  L 925 2853  Q 1081 3097 1340 3245  Q 1600 3394 1931 3394  Q 2300 3394 2536 3241  Q 2772 3088 2869 2813  Q 3263 3394 3894 3394  Q 4388 3394 4653 3120  Q 4919 2847 4919 2278  L 4919 0  L 4359 0  L 4359 2091  Q 4359 2428 4304 2576  Q 4250 2725 4106 2815  Q 3963 2906 3769 2906  Q 3419 2906 3187 2673  Q 2956 2441 2956 1928  L 2956 0  L 2394 0  L 2394 2156  Q 2394 2531 2256 2718  Q 2119 2906 1806 2906  Q 1569 2906 1367 2781  Q 1166 2656 1075 2415  Q 984 2175 984 1722  L 984 0  L 422 0  z \" transform=\"scale(0.015625)\" />\n",
       "       <path id=\"ArialMT-29\" d=\"M 791 -1347  L 388 -1347  Q 1322 153 1322 1656  Q 1322 2244 1188 2822  Q 1081 3291 891 3722  Q 769 4003 388 4659  L 791 4659  Q 1378 3875 1659 3084  Q 1900 2403 1900 1659  Q 1900 816 1576 28  Q 1253 -759 791 -1347  z \" transform=\"scale(0.015625)\" />\n",
       "      </defs>\n",
       "      <use xlink:href=\"#ArialMT-70\" />\n",
       "      <use xlink:href=\"#ArialMT-65\" x=\"55.615234\" />\n",
       "      <use xlink:href=\"#ArialMT-74\" x=\"111.230469\" />\n",
       "      <use xlink:href=\"#ArialMT-61\" x=\"139.013672\" />\n",
       "      <use xlink:href=\"#ArialMT-6c\" x=\"194.628906\" />\n",
       "      <use xlink:href=\"#ArialMT-20\" x=\"216.845703\" />\n",
       "      <use xlink:href=\"#ArialMT-6c\" x=\"244.628906\" />\n",
       "      <use xlink:href=\"#ArialMT-65\" x=\"266.845703\" />\n",
       "      <use xlink:href=\"#ArialMT-6e\" x=\"322.460938\" />\n",
       "      <use xlink:href=\"#ArialMT-67\" x=\"378.076172\" />\n",
       "      <use xlink:href=\"#ArialMT-74\" x=\"433.691406\" />\n",
       "      <use xlink:href=\"#ArialMT-68\" x=\"461.474609\" />\n",
       "      <use xlink:href=\"#ArialMT-20\" x=\"517.089844\" />\n",
       "      <use xlink:href=\"#ArialMT-28\" x=\"544.873047\" />\n",
       "      <use xlink:href=\"#ArialMT-63\" x=\"578.173828\" />\n",
       "      <use xlink:href=\"#ArialMT-6d\" x=\"628.173828\" />\n",
       "      <use xlink:href=\"#ArialMT-29\" x=\"711.474609\" />\n",
       "     </g>\n",
       "    </g>\n",
       "   </g>\n",
       "   <g id=\"matplotlib.axis_2\">\n",
       "    <g id=\"ytick_1\">\n",
       "     <g id=\"line2d_3\">\n",
       "      <defs>\n",
       "       <path id=\"m6ea957eae4\" d=\"M 0 0  L -3.5 0  \" style=\"stroke: #000000; stroke-width: 0.3\" />\n",
       "      </defs>\n",
       "      <g>\n",
       "       <use xlink:href=\"#m6ea957eae4\" x=\"17.18\" y=\"81.54\" style=\"stroke: #000000; stroke-width: 0.3\" />\n",
       "      </g>\n",
       "     </g>\n",
       "     <g id=\"text_4\">\n",
       "      \n",
       "      <g style=\"fill: #444443\" transform=\"translate(5.09 84.579375)scale(0.08 -0.08)\">\n",
       "       <use xlink:href=\"#DejaVuSans-30\" />\n",
       "      </g>\n",
       "     </g>\n",
       "    </g>\n",
       "    <g id=\"ytick_2\">\n",
       "     <g id=\"line2d_4\">\n",
       "      <g>\n",
       "       <use xlink:href=\"#m6ea957eae4\" x=\"17.18\" y=\"3.882857\" style=\"stroke: #000000; stroke-width: 0.3\" />\n",
       "      </g>\n",
       "     </g>\n",
       "     <g id=\"text_5\">\n",
       "      \n",
       "      <g style=\"fill: #444443\" transform=\"translate(0 6.922232)scale(0.08 -0.08)\">\n",
       "       <defs>\n",
       "        <path id=\"DejaVuSans-32\" d=\"M 1228 531  L 3431 531  L 3431 0  L 469 0  L 469 531  Q 828 903 1448 1529  Q 2069 2156 2228 2338  Q 2531 2678 2651 2914  Q 2772 3150 2772 3378  Q 2772 3750 2511 3984  Q 2250 4219 1831 4219  Q 1534 4219 1204 4116  Q 875 4013 500 3803  L 500 4441  Q 881 4594 1212 4672  Q 1544 4750 1819 4750  Q 2544 4750 2975 4387  Q 3406 4025 3406 3419  Q 3406 3131 3298 2873  Q 3191 2616 2906 2266  Q 2828 2175 2409 1742  Q 1991 1309 1228 531  z \" transform=\"scale(0.015625)\" />\n",
       "        <path id=\"DejaVuSans-35\" d=\"M 691 4666  L 3169 4666  L 3169 4134  L 1269 4134  L 1269 2991  Q 1406 3038 1543 3061  Q 1681 3084 1819 3084  Q 2600 3084 3056 2656  Q 3513 2228 3513 1497  Q 3513 744 3044 326  Q 2575 -91 1722 -91  Q 1428 -91 1123 -41  Q 819 9 494 109  L 494 744  Q 775 591 1075 516  Q 1375 441 1709 441  Q 2250 441 2565 725  Q 2881 1009 2881 1497  Q 2881 1984 2565 2268  Q 2250 2553 1709 2553  Q 1456 2553 1204 2497  Q 953 2441 691 2322  L 691 4666  z \" transform=\"scale(0.015625)\" />\n",
       "       </defs>\n",
       "       <use xlink:href=\"#DejaVuSans-32\" />\n",
       "       <use xlink:href=\"#DejaVuSans-35\" x=\"63.623047\" />\n",
       "      </g>\n",
       "     </g>\n",
       "    </g>\n",
       "   </g>\n",
       "   <g id=\"patch_55\">\n",
       "    <path d=\"M 17.18 81.54  L 17.18 0  \" style=\"fill: none; stroke: #000000; stroke-width: 0.3; stroke-linejoin: miter; stroke-linecap: square\" />\n",
       "   </g>\n",
       "   <g id=\"patch_56\">\n",
       "    <path d=\"M 17.18 81.54  L 201.32 81.54  \" style=\"fill: none; stroke: #000000; stroke-width: 0.3; stroke-linejoin: miter; stroke-linecap: square\" />\n",
       "   </g>\n",
       "   <g id=\"text_6\">\n",
       "    \n",
       "    <g style=\"fill: #444443\" transform=\"translate(55.468266 97.848)scale(0.08 -0.08)\">\n",
       "     <defs>\n",
       "      <path id=\"ArialMT-32\" d=\"M 3222 541  L 3222 0  L 194 0  Q 188 203 259 391  Q 375 700 629 1000  Q 884 1300 1366 1694  Q 2113 2306 2375 2664  Q 2638 3022 2638 3341  Q 2638 3675 2398 3904  Q 2159 4134 1775 4134  Q 1369 4134 1125 3890  Q 881 3647 878 3216  L 300 3275  Q 359 3922 746 4261  Q 1134 4600 1788 4600  Q 2447 4600 2831 4234  Q 3216 3869 3216 3328  Q 3216 3053 3103 2787  Q 2991 2522 2730 2228  Q 2469 1934 1863 1422  Q 1356 997 1212 845  Q 1069 694 975 541  L 3222 541  z \" transform=\"scale(0.015625)\" />\n",
       "      <path id=\"ArialMT-2e\" d=\"M 581 0  L 581 641  L 1222 641  L 1222 0  L 581 0  z \" transform=\"scale(0.015625)\" />\n",
       "      <path id=\"ArialMT-34\" d=\"M 2069 0  L 2069 1097  L 81 1097  L 81 1613  L 2172 4581  L 2631 4581  L 2631 1613  L 3250 1613  L 3250 1097  L 2631 1097  L 2631 0  L 2069 0  z M 2069 1613  L 2069 3678  L 634 1613  L 2069 1613  z \" transform=\"scale(0.015625)\" />\n",
       "      <path id=\"ArialMT-35\" d=\"M 266 1200  L 856 1250  Q 922 819 1161 601  Q 1400 384 1738 384  Q 2144 384 2425 690  Q 2706 997 2706 1503  Q 2706 1984 2436 2262  Q 2166 2541 1728 2541  Q 1456 2541 1237 2417  Q 1019 2294 894 2097  L 366 2166  L 809 4519  L 3088 4519  L 3088 3981  L 1259 3981  L 1013 2750  Q 1425 3038 1878 3038  Q 2478 3038 2890 2622  Q 3303 2206 3303 1553  Q 3303 931 2941 478  Q 2500 -78 1738 -78  Q 1113 -78 717 272  Q 322 622 266 1200  z \" transform=\"scale(0.015625)\" />\n",
       "     </defs>\n",
       "     <use xlink:href=\"#ArialMT-32\" />\n",
       "     <use xlink:href=\"#ArialMT-2e\" x=\"55.615234\" />\n",
       "     <use xlink:href=\"#ArialMT-34\" x=\"83.398438\" />\n",
       "     <use xlink:href=\"#ArialMT-35\" x=\"139.013672\" />\n",
       "    </g>\n",
       "   </g>\n",
       "  </g>\n",
       " </g>\n",
       " <defs>\n",
       "  <clipPath id=\"p00cfa35f27\">\n",
       "   <rect x=\"17.18\" y=\"0\" width=\"184.14\" height=\"81.54\" />\n",
       "  </clipPath>\n",
       " </defs>\n",
       "</svg></g>\n",
       "\n",
       "<g id=\"edge11\" class=\"edge\"><title>node0-&gt;node2</title>\n",
       "<path fill=\"none\" stroke=\"#444443\" stroke-width=\"0.3\" d=\"M113.408,-266.941C120.43,-257.747 127.744,-248.169 134.53,-239.282\" />\n",
       "<polygon fill=\"#444443\" stroke=\"#444443\" stroke-width=\"0.3\" points=\"135.69,-240.07 137.005,-236.041 133.465,-238.37 135.69,-240.07\" />\n",
       "<text text-anchor=\"start\" x=\"129\" y=\"-247.8\" font-family=\"Times New Roman,serif\" font-size=\"14.00\">&gt;</text>\n",
       "</g>\n",
       "\n",
       "<g id=\"node9\" class=\"node\"><title>leaf1</title>\n",
       "<polygon fill=\"none\" stroke=\"#444443\" stroke-width=\"0\" points=\"70,-233.5 20,-233.5 20,-168.5 70,-168.5 70,-233.5\" />\n",
       "<svg width=\"42px\" height=\"57px\" viewBox=\"0 0 57.38 77.425169\" version=\"1.1\" preserveAspectRatio=\"xMinYMin meet\" x=\"24\" y=\"-229\">\n",
       " <metadata>\n",
       "  <rdf:RDF>\n",
       "   <ns2:Work>\n",
       "    <dc:type rdf:resource=\"http://purl.org/dc/dcmitype/StillImage\" />\n",
       "    <dc:date>2022-08-08T15:17:13.811879</dc:date>\n",
       "    <dc:format>image/svg+xml</dc:format>\n",
       "    <dc:creator>\n",
       "     <ns2:Agent>\n",
       "      <dc:title>Matplotlib v3.5.1, https://matplotlib.org/</dc:title>\n",
       "     </ns2:Agent>\n",
       "    </dc:creator>\n",
       "   </ns2:Work>\n",
       "  </rdf:RDF>\n",
       " </metadata>\n",
       " <defs>\n",
       "  <style type=\"text/css\">*{stroke-linejoin: round; stroke-linecap: butt}</style>\n",
       " </defs>\n",
       " <g id=\"figure_1\">\n",
       "  <g id=\"patch_1\">\n",
       "   <path d=\"M 0 77.425169  L 57.38 77.425169  L 57.38 0  L 0 0  L 0 77.425169  z \" style=\"fill: none\" />\n",
       "  </g>\n",
       "  <g id=\"axes_1\">\n",
       "   <g id=\"patch_2\">\n",
       "    <path d=\"M 57.38 28.69  C 57.38 24.922464 56.637878 21.191562 55.196104 17.710812  C 53.75433 14.230063 51.640944 11.067157 48.976894 8.403106  C 46.312843 5.739056 43.149937 3.62567 39.669188 2.183896  C 36.188438 0.742122 32.457536 -0 28.69 -0  C 24.922464 -0 21.191562 0.742122 17.710812 2.183896  C 14.230063 3.62567 11.067157 5.739056 8.403106 8.403106  C 5.739056 11.067157 3.62567 14.230063 2.183896 17.710812  C 0.742122 21.191562 -0 24.922464 -0 28.69  C -0 32.457536 0.742122 36.188438 2.183896 39.669188  C 3.62567 43.149937 5.739056 46.312843 8.403106 48.976894  C 11.067157 51.640944 14.230063 53.75433 17.710812 55.196104  C 21.191562 56.637878 24.922464 57.38 28.69 57.38  C 32.457536 57.38 36.188438 56.637878 39.669188 55.196104  C 43.149937 53.75433 46.312843 51.640944 48.976894 48.976894  C 51.640944 46.312843 53.75433 43.149937 55.196104 39.669188  C 56.637878 36.188438 57.38 32.457536 57.38 28.69  M 28.69 28.69  M 57.38 28.69  z \" style=\"fill: #fefebb; stroke: #444443; stroke-width: 0.5; stroke-linejoin: miter\" />\n",
       "   </g>\n",
       "   <g id=\"text_1\">\n",
       "    \n",
       "    <g style=\"fill: #444443\" transform=\"translate(18.554453 66.117231)scale(0.09 -0.09)\">\n",
       "     <defs>\n",
       "      <path id=\"ArialMT-6e\" d=\"M 422 0  L 422 3319  L 928 3319  L 928 2847  Q 1294 3394 1984 3394  Q 2284 3394 2536 3286  Q 2788 3178 2913 3003  Q 3038 2828 3088 2588  Q 3119 2431 3119 2041  L 3119 0  L 2556 0  L 2556 2019  Q 2556 2363 2490 2533  Q 2425 2703 2258 2804  Q 2091 2906 1866 2906  Q 1506 2906 1245 2678  Q 984 2450 984 1813  L 984 0  L 422 0  z \" transform=\"scale(0.015625)\" />\n",
       "      <path id=\"ArialMT-3d\" d=\"M 3381 2694  L 356 2694  L 356 3219  L 3381 3219  L 3381 2694  z M 3381 1303  L 356 1303  L 356 1828  L 3381 1828  L 3381 1303  z \" transform=\"scale(0.015625)\" />\n",
       "      <path id=\"ArialMT-34\" d=\"M 2069 0  L 2069 1097  L 81 1097  L 81 1613  L 2172 4581  L 2631 4581  L 2631 1613  L 3250 1613  L 3250 1097  L 2631 1097  L 2631 0  L 2069 0  z M 2069 1613  L 2069 3678  L 634 1613  L 2069 1613  z \" transform=\"scale(0.015625)\" />\n",
       "      <path id=\"ArialMT-30\" d=\"M 266 2259  Q 266 3072 433 3567  Q 600 4063 929 4331  Q 1259 4600 1759 4600  Q 2128 4600 2406 4451  Q 2684 4303 2865 4023  Q 3047 3744 3150 3342  Q 3253 2941 3253 2259  Q 3253 1453 3087 958  Q 2922 463 2592 192  Q 2263 -78 1759 -78  Q 1097 -78 719 397  Q 266 969 266 2259  z M 844 2259  Q 844 1131 1108 757  Q 1372 384 1759 384  Q 2147 384 2411 759  Q 2675 1134 2675 2259  Q 2675 3391 2411 3762  Q 2147 4134 1753 4134  Q 1366 4134 1134 3806  Q 844 3388 844 2259  z \" transform=\"scale(0.015625)\" />\n",
       "     </defs>\n",
       "     <use xlink:href=\"#ArialMT-6e\" />\n",
       "     <use xlink:href=\"#ArialMT-3d\" x=\"55.615234\" />\n",
       "     <use xlink:href=\"#ArialMT-34\" x=\"114.013672\" />\n",
       "     <use xlink:href=\"#ArialMT-30\" x=\"169.628906\" />\n",
       "    </g>\n",
       "    \n",
       "    <g style=\"fill: #444443\" transform=\"translate(15.432578 75.636419)scale(0.09 -0.09)\">\n",
       "     <defs>\n",
       "      <path id=\"ArialMT-73\" d=\"M 197 991  L 753 1078  Q 800 744 1014 566  Q 1228 388 1613 388  Q 2000 388 2187 545  Q 2375 703 2375 916  Q 2375 1106 2209 1216  Q 2094 1291 1634 1406  Q 1016 1563 777 1677  Q 538 1791 414 1992  Q 291 2194 291 2438  Q 291 2659 392 2848  Q 494 3038 669 3163  Q 800 3259 1026 3326  Q 1253 3394 1513 3394  Q 1903 3394 2198 3281  Q 2494 3169 2634 2976  Q 2775 2784 2828 2463  L 2278 2388  Q 2241 2644 2061 2787  Q 1881 2931 1553 2931  Q 1166 2931 1000 2803  Q 834 2675 834 2503  Q 834 2394 903 2306  Q 972 2216 1119 2156  Q 1203 2125 1616 2013  Q 2213 1853 2448 1751  Q 2684 1650 2818 1456  Q 2953 1263 2953 975  Q 2953 694 2789 445  Q 2625 197 2315 61  Q 2006 -75 1616 -75  Q 969 -75 630 194  Q 291 463 197 991  z \" transform=\"scale(0.015625)\" />\n",
       "      <path id=\"ArialMT-65\" d=\"M 2694 1069  L 3275 997  Q 3138 488 2766 206  Q 2394 -75 1816 -75  Q 1088 -75 661 373  Q 234 822 234 1631  Q 234 2469 665 2931  Q 1097 3394 1784 3394  Q 2450 3394 2872 2941  Q 3294 2488 3294 1666  Q 3294 1616 3291 1516  L 816 1516  Q 847 969 1125 678  Q 1403 388 1819 388  Q 2128 388 2347 550  Q 2566 713 2694 1069  z M 847 1978  L 2700 1978  Q 2663 2397 2488 2606  Q 2219 2931 1791 2931  Q 1403 2931 1139 2672  Q 875 2413 847 1978  z \" transform=\"scale(0.015625)\" />\n",
       "      <path id=\"ArialMT-74\" d=\"M 1650 503  L 1731 6  Q 1494 -44 1306 -44  Q 1000 -44 831 53  Q 663 150 594 308  Q 525 466 525 972  L 525 2881  L 113 2881  L 113 3319  L 525 3319  L 525 4141  L 1084 4478  L 1084 3319  L 1650 3319  L 1650 2881  L 1084 2881  L 1084 941  Q 1084 700 1114 631  Q 1144 563 1211 522  Q 1278 481 1403 481  Q 1497 481 1650 503  z \" transform=\"scale(0.015625)\" />\n",
       "      <path id=\"ArialMT-6f\" d=\"M 213 1659  Q 213 2581 725 3025  Q 1153 3394 1769 3394  Q 2453 3394 2887 2945  Q 3322 2497 3322 1706  Q 3322 1066 3130 698  Q 2938 331 2570 128  Q 2203 -75 1769 -75  Q 1072 -75 642 372  Q 213 819 213 1659  z M 791 1659  Q 791 1022 1069 705  Q 1347 388 1769 388  Q 2188 388 2466 706  Q 2744 1025 2744 1678  Q 2744 2294 2464 2611  Q 2184 2928 1769 2928  Q 1347 2928 1069 2612  Q 791 2297 791 1659  z \" transform=\"scale(0.015625)\" />\n",
       "      <path id=\"ArialMT-61\" d=\"M 2588 409  Q 2275 144 1986 34  Q 1697 -75 1366 -75  Q 819 -75 525 192  Q 231 459 231 875  Q 231 1119 342 1320  Q 453 1522 633 1644  Q 813 1766 1038 1828  Q 1203 1872 1538 1913  Q 2219 1994 2541 2106  Q 2544 2222 2544 2253  Q 2544 2597 2384 2738  Q 2169 2928 1744 2928  Q 1347 2928 1158 2789  Q 969 2650 878 2297  L 328 2372  Q 403 2725 575 2942  Q 747 3159 1072 3276  Q 1397 3394 1825 3394  Q 2250 3394 2515 3294  Q 2781 3194 2906 3042  Q 3031 2891 3081 2659  Q 3109 2516 3109 2141  L 3109 1391  Q 3109 606 3145 398  Q 3181 191 3288 0  L 2700 0  Q 2613 175 2588 409  z M 2541 1666  Q 2234 1541 1622 1453  Q 1275 1403 1131 1340  Q 988 1278 909 1158  Q 831 1038 831 891  Q 831 666 1001 516  Q 1172 366 1500 366  Q 1825 366 2078 508  Q 2331 650 2450 897  Q 2541 1088 2541 1459  L 2541 1666  z \" transform=\"scale(0.015625)\" />\n",
       "     </defs>\n",
       "     <use xlink:href=\"#ArialMT-73\" />\n",
       "     <use xlink:href=\"#ArialMT-65\" x=\"50\" />\n",
       "     <use xlink:href=\"#ArialMT-74\" x=\"105.615234\" />\n",
       "     <use xlink:href=\"#ArialMT-6f\" x=\"133.398438\" />\n",
       "     <use xlink:href=\"#ArialMT-73\" x=\"189.013672\" />\n",
       "     <use xlink:href=\"#ArialMT-61\" x=\"239.013672\" />\n",
       "    </g>\n",
       "   </g>\n",
       "  </g>\n",
       " </g>\n",
       "</svg></g>\n",
       "\n",
       "<g id=\"edge10\" class=\"edge\"><title>node0-&gt;leaf1</title>\n",
       "<path fill=\"none\" stroke=\"#444443\" stroke-width=\"0.3\" d=\"M65.0728,-266.941C62.056,-257.181 58.9057,-246.989 56.0191,-237.65\" />\n",
       "<polygon fill=\"#444443\" stroke=\"#444443\" stroke-width=\"0.3\" points=\"57.3181,-237.112 54.7993,-233.704 54.643,-237.939 57.3181,-237.112\" />\n",
       "<text text-anchor=\"start\" x=\"62\" y=\"-247.8\" font-family=\"Times New Roman,serif\" font-size=\"14.00\">&#8804;</text>\n",
       "</g>\n",
       "\n",
       "\n",
       "\n",
       "\n",
       "<g id=\"node10\" class=\"node\"><title>legend</title>\n",
       "<polygon fill=\"none\" stroke=\"black\" stroke-width=\"0\" points=\"290.5,-340.5 225.5,-340.5 225.5,-285.5 290.5,-285.5 290.5,-340.5\" />\n",
       "<svg width=\"61px\" height=\"51px\" viewBox=\"0 0 82.285937 68.23125\" version=\"1.1\" preserveAspectRatio=\"xMinYMin meet\" x=\"228\" y=\"-338\">\n",
       " <metadata>\n",
       "  <rdf:RDF>\n",
       "   <ns2:Work>\n",
       "    <dc:type rdf:resource=\"http://purl.org/dc/dcmitype/StillImage\" />\n",
       "    <dc:date>2022-08-08T15:17:13.404498</dc:date>\n",
       "    <dc:format>image/svg+xml</dc:format>\n",
       "    <dc:creator>\n",
       "     <ns2:Agent>\n",
       "      <dc:title>Matplotlib v3.5.1, https://matplotlib.org/</dc:title>\n",
       "     </ns2:Agent>\n",
       "    </dc:creator>\n",
       "   </ns2:Work>\n",
       "  </rdf:RDF>\n",
       " </metadata>\n",
       " <defs>\n",
       "  <style type=\"text/css\">*{stroke-linejoin: round; stroke-linecap: butt}</style>\n",
       " </defs>\n",
       " <g id=\"figure_1\">\n",
       "  <g id=\"patch_1\">\n",
       "   <path d=\"M 0 68.23125  L 82.285937 68.23125  L 82.285937 0  L 0 0  L 0 68.23125  z \" style=\"fill: none\" />\n",
       "  </g>\n",
       "  <g id=\"axes_1\">\n",
       "   <g id=\"legend_1\">\n",
       "    <g id=\"patch_2\">\n",
       "     <path d=\"M 2 68.23125  L 80.285938 68.23125  Q 82.285938 68.23125 82.285938 66.23125  L 82.285938 2  Q 82.285938 0 80.285938 0  L 2 0  Q 0 0 0 2  L 0 66.23125  Q 0 68.23125 2 68.23125  z \" style=\"fill: #ffffff; opacity: 0.8; stroke: #444443; stroke-width: 0.5; stroke-linejoin: miter\" />\n",
       "    </g>\n",
       "    <g id=\"text_1\">\n",
       "     \n",
       "     <g style=\"fill: #444443\" transform=\"translate(27.139063 15.598438)scale(0.1 -0.1)\">\n",
       "      <defs>\n",
       "       <path id=\"DejaVuSans-Bold-63\" d=\"M 3366 3391  L 3366 2478  Q 3138 2634 2908 2709  Q 2678 2784 2431 2784  Q 1963 2784 1702 2511  Q 1441 2238 1441 1747  Q 1441 1256 1702 982  Q 1963 709 2431 709  Q 2694 709 2930 787  Q 3166 866 3366 1019  L 3366 103  Q 3103 6 2833 -42  Q 2563 -91 2291 -91  Q 1344 -91 809 395  Q 275 881 275 1747  Q 275 2613 809 3098  Q 1344 3584 2291 3584  Q 2566 3584 2833 3536  Q 3100 3488 3366 3391  z \" transform=\"scale(0.015625)\" />\n",
       "       <path id=\"DejaVuSans-Bold-6c\" d=\"M 538 4863  L 1656 4863  L 1656 0  L 538 0  L 538 4863  z \" transform=\"scale(0.015625)\" />\n",
       "       <path id=\"DejaVuSans-Bold-61\" d=\"M 2106 1575  Q 1756 1575 1579 1456  Q 1403 1338 1403 1106  Q 1403 894 1545 773  Q 1688 653 1941 653  Q 2256 653 2472 879  Q 2688 1106 2688 1447  L 2688 1575  L 2106 1575  z M 3816 1997  L 3816 0  L 2688 0  L 2688 519  Q 2463 200 2181 54  Q 1900 -91 1497 -91  Q 953 -91 614 226  Q 275 544 275 1050  Q 275 1666 698 1953  Q 1122 2241 2028 2241  L 2688 2241  L 2688 2328  Q 2688 2594 2478 2717  Q 2269 2841 1825 2841  Q 1466 2841 1156 2769  Q 847 2697 581 2553  L 581 3406  Q 941 3494 1303 3539  Q 1666 3584 2028 3584  Q 2975 3584 3395 3211  Q 3816 2838 3816 1997  z \" transform=\"scale(0.015625)\" />\n",
       "       <path id=\"DejaVuSans-Bold-73\" d=\"M 3272 3391  L 3272 2541  Q 2913 2691 2578 2766  Q 2244 2841 1947 2841  Q 1628 2841 1473 2761  Q 1319 2681 1319 2516  Q 1319 2381 1436 2309  Q 1553 2238 1856 2203  L 2053 2175  Q 2913 2066 3209 1816  Q 3506 1566 3506 1031  Q 3506 472 3093 190  Q 2681 -91 1863 -91  Q 1516 -91 1145 -36  Q 775 19 384 128  L 384 978  Q 719 816 1070 734  Q 1422 653 1784 653  Q 2113 653 2278 743  Q 2444 834 2444 1013  Q 2444 1163 2330 1236  Q 2216 1309 1875 1350  L 1678 1375  Q 931 1469 631 1722  Q 331 1975 331 2491  Q 331 3047 712 3315  Q 1094 3584 1881 3584  Q 2191 3584 2531 3537  Q 2872 3491 3272 3391  z \" transform=\"scale(0.015625)\" />\n",
       "      </defs>\n",
       "      <use xlink:href=\"#DejaVuSans-Bold-63\" />\n",
       "      <use xlink:href=\"#DejaVuSans-Bold-6c\" x=\"59.277344\" />\n",
       "      <use xlink:href=\"#DejaVuSans-Bold-61\" x=\"93.554688\" />\n",
       "      <use xlink:href=\"#DejaVuSans-Bold-73\" x=\"161.035156\" />\n",
       "      <use xlink:href=\"#DejaVuSans-Bold-73\" x=\"220.556641\" />\n",
       "     </g>\n",
       "    </g>\n",
       "    <g id=\"patch_3\">\n",
       "     <path d=\"M 8 29.835938  L 28 29.835938  L 28 22.835938  L 8 22.835938  z \" style=\"fill: #fefebb; stroke: #444443; stroke-width: 0.4; stroke-linejoin: miter\" />\n",
       "    </g>\n",
       "    <g id=\"text_2\">\n",
       "     \n",
       "     <g style=\"fill: #444443\" transform=\"translate(31.5 29.835938)scale(0.1 -0.1)\">\n",
       "      <defs>\n",
       "       <path id=\"ArialMT-73\" d=\"M 197 991  L 753 1078  Q 800 744 1014 566  Q 1228 388 1613 388  Q 2000 388 2187 545  Q 2375 703 2375 916  Q 2375 1106 2209 1216  Q 2094 1291 1634 1406  Q 1016 1563 777 1677  Q 538 1791 414 1992  Q 291 2194 291 2438  Q 291 2659 392 2848  Q 494 3038 669 3163  Q 800 3259 1026 3326  Q 1253 3394 1513 3394  Q 1903 3394 2198 3281  Q 2494 3169 2634 2976  Q 2775 2784 2828 2463  L 2278 2388  Q 2241 2644 2061 2787  Q 1881 2931 1553 2931  Q 1166 2931 1000 2803  Q 834 2675 834 2503  Q 834 2394 903 2306  Q 972 2216 1119 2156  Q 1203 2125 1616 2013  Q 2213 1853 2448 1751  Q 2684 1650 2818 1456  Q 2953 1263 2953 975  Q 2953 694 2789 445  Q 2625 197 2315 61  Q 2006 -75 1616 -75  Q 969 -75 630 194  Q 291 463 197 991  z \" transform=\"scale(0.015625)\" />\n",
       "       <path id=\"ArialMT-65\" d=\"M 2694 1069  L 3275 997  Q 3138 488 2766 206  Q 2394 -75 1816 -75  Q 1088 -75 661 373  Q 234 822 234 1631  Q 234 2469 665 2931  Q 1097 3394 1784 3394  Q 2450 3394 2872 2941  Q 3294 2488 3294 1666  Q 3294 1616 3291 1516  L 816 1516  Q 847 969 1125 678  Q 1403 388 1819 388  Q 2128 388 2347 550  Q 2566 713 2694 1069  z M 847 1978  L 2700 1978  Q 2663 2397 2488 2606  Q 2219 2931 1791 2931  Q 1403 2931 1139 2672  Q 875 2413 847 1978  z \" transform=\"scale(0.015625)\" />\n",
       "       <path id=\"ArialMT-74\" d=\"M 1650 503  L 1731 6  Q 1494 -44 1306 -44  Q 1000 -44 831 53  Q 663 150 594 308  Q 525 466 525 972  L 525 2881  L 113 2881  L 113 3319  L 525 3319  L 525 4141  L 1084 4478  L 1084 3319  L 1650 3319  L 1650 2881  L 1084 2881  L 1084 941  Q 1084 700 1114 631  Q 1144 563 1211 522  Q 1278 481 1403 481  Q 1497 481 1650 503  z \" transform=\"scale(0.015625)\" />\n",
       "       <path id=\"ArialMT-6f\" d=\"M 213 1659  Q 213 2581 725 3025  Q 1153 3394 1769 3394  Q 2453 3394 2887 2945  Q 3322 2497 3322 1706  Q 3322 1066 3130 698  Q 2938 331 2570 128  Q 2203 -75 1769 -75  Q 1072 -75 642 372  Q 213 819 213 1659  z M 791 1659  Q 791 1022 1069 705  Q 1347 388 1769 388  Q 2188 388 2466 706  Q 2744 1025 2744 1678  Q 2744 2294 2464 2611  Q 2184 2928 1769 2928  Q 1347 2928 1069 2612  Q 791 2297 791 1659  z \" transform=\"scale(0.015625)\" />\n",
       "       <path id=\"ArialMT-61\" d=\"M 2588 409  Q 2275 144 1986 34  Q 1697 -75 1366 -75  Q 819 -75 525 192  Q 231 459 231 875  Q 231 1119 342 1320  Q 453 1522 633 1644  Q 813 1766 1038 1828  Q 1203 1872 1538 1913  Q 2219 1994 2541 2106  Q 2544 2222 2544 2253  Q 2544 2597 2384 2738  Q 2169 2928 1744 2928  Q 1347 2928 1158 2789  Q 969 2650 878 2297  L 328 2372  Q 403 2725 575 2942  Q 747 3159 1072 3276  Q 1397 3394 1825 3394  Q 2250 3394 2515 3294  Q 2781 3194 2906 3042  Q 3031 2891 3081 2659  Q 3109 2516 3109 2141  L 3109 1391  Q 3109 606 3145 398  Q 3181 191 3288 0  L 2700 0  Q 2613 175 2588 409  z M 2541 1666  Q 2234 1541 1622 1453  Q 1275 1403 1131 1340  Q 988 1278 909 1158  Q 831 1038 831 891  Q 831 666 1001 516  Q 1172 366 1500 366  Q 1825 366 2078 508  Q 2331 650 2450 897  Q 2541 1088 2541 1459  L 2541 1666  z \" transform=\"scale(0.015625)\" />\n",
       "      </defs>\n",
       "      <use xlink:href=\"#ArialMT-73\" />\n",
       "      <use xlink:href=\"#ArialMT-65\" x=\"50\" />\n",
       "      <use xlink:href=\"#ArialMT-74\" x=\"105.615234\" />\n",
       "      <use xlink:href=\"#ArialMT-6f\" x=\"133.398438\" />\n",
       "      <use xlink:href=\"#ArialMT-73\" x=\"189.013672\" />\n",
       "      <use xlink:href=\"#ArialMT-61\" x=\"239.013672\" />\n",
       "     </g>\n",
       "    </g>\n",
       "    <g id=\"patch_4\">\n",
       "     <path d=\"M 8 43.98125  L 28 43.98125  L 28 36.98125  L 8 36.98125  z \" style=\"fill: #d9e6f5; stroke: #444443; stroke-width: 0.4; stroke-linejoin: miter\" />\n",
       "    </g>\n",
       "    <g id=\"text_3\">\n",
       "     \n",
       "     <g style=\"fill: #444443\" transform=\"translate(31.5 43.98125)scale(0.1 -0.1)\">\n",
       "      <defs>\n",
       "       <path id=\"ArialMT-76\" d=\"M 1344 0  L 81 3319  L 675 3319  L 1388 1331  Q 1503 1009 1600 663  Q 1675 925 1809 1294  L 2547 3319  L 3125 3319  L 1869 0  L 1344 0  z \" transform=\"scale(0.015625)\" />\n",
       "       <path id=\"ArialMT-72\" d=\"M 416 0  L 416 3319  L 922 3319  L 922 2816  Q 1116 3169 1280 3281  Q 1444 3394 1641 3394  Q 1925 3394 2219 3213  L 2025 2691  Q 1819 2813 1613 2813  Q 1428 2813 1281 2702  Q 1134 2591 1072 2394  Q 978 2094 978 1738  L 978 0  L 416 0  z \" transform=\"scale(0.015625)\" />\n",
       "       <path id=\"ArialMT-69\" d=\"M 425 3934  L 425 4581  L 988 4581  L 988 3934  L 425 3934  z M 425 0  L 425 3319  L 988 3319  L 988 0  L 425 0  z \" transform=\"scale(0.015625)\" />\n",
       "       <path id=\"ArialMT-63\" d=\"M 2588 1216  L 3141 1144  Q 3050 572 2676 248  Q 2303 -75 1759 -75  Q 1078 -75 664 370  Q 250 816 250 1647  Q 250 2184 428 2587  Q 606 2991 970 3192  Q 1334 3394 1763 3394  Q 2303 3394 2647 3120  Q 2991 2847 3088 2344  L 2541 2259  Q 2463 2594 2264 2762  Q 2066 2931 1784 2931  Q 1359 2931 1093 2626  Q 828 2322 828 1663  Q 828 994 1084 691  Q 1341 388 1753 388  Q 2084 388 2306 591  Q 2528 794 2588 1216  z \" transform=\"scale(0.015625)\" />\n",
       "       <path id=\"ArialMT-6c\" d=\"M 409 0  L 409 4581  L 972 4581  L 972 0  L 409 0  z \" transform=\"scale(0.015625)\" />\n",
       "      </defs>\n",
       "      <use xlink:href=\"#ArialMT-76\" />\n",
       "      <use xlink:href=\"#ArialMT-65\" x=\"50\" />\n",
       "      <use xlink:href=\"#ArialMT-72\" x=\"105.615234\" />\n",
       "      <use xlink:href=\"#ArialMT-73\" x=\"138.916016\" />\n",
       "      <use xlink:href=\"#ArialMT-69\" x=\"188.916016\" />\n",
       "      <use xlink:href=\"#ArialMT-63\" x=\"211.132812\" />\n",
       "      <use xlink:href=\"#ArialMT-6f\" x=\"261.132812\" />\n",
       "      <use xlink:href=\"#ArialMT-6c\" x=\"316.748047\" />\n",
       "      <use xlink:href=\"#ArialMT-6f\" x=\"338.964844\" />\n",
       "      <use xlink:href=\"#ArialMT-72\" x=\"394.580078\" />\n",
       "     </g>\n",
       "    </g>\n",
       "    <g id=\"patch_5\">\n",
       "     <path d=\"M 8 58.126563  L 28 58.126563  L 28 51.126563  L 8 51.126563  z \" style=\"fill: #a1dab4; stroke: #444443; stroke-width: 0.4; stroke-linejoin: miter\" />\n",
       "    </g>\n",
       "    <g id=\"text_4\">\n",
       "     \n",
       "     <g style=\"fill: #444443\" transform=\"translate(31.5 58.126563)scale(0.1 -0.1)\">\n",
       "      <defs>\n",
       "       <path id=\"ArialMT-67\" d=\"M 319 -275  L 866 -356  Q 900 -609 1056 -725  Q 1266 -881 1628 -881  Q 2019 -881 2231 -725  Q 2444 -569 2519 -288  Q 2563 -116 2559 434  Q 2191 0 1641 0  Q 956 0 581 494  Q 206 988 206 1678  Q 206 2153 378 2554  Q 550 2956 876 3175  Q 1203 3394 1644 3394  Q 2231 3394 2613 2919  L 2613 3319  L 3131 3319  L 3131 450  Q 3131 -325 2973 -648  Q 2816 -972 2473 -1159  Q 2131 -1347 1631 -1347  Q 1038 -1347 672 -1080  Q 306 -813 319 -275  z M 784 1719  Q 784 1066 1043 766  Q 1303 466 1694 466  Q 2081 466 2343 764  Q 2606 1063 2606 1700  Q 2606 2309 2336 2618  Q 2066 2928 1684 2928  Q 1309 2928 1046 2623  Q 784 2319 784 1719  z \" transform=\"scale(0.015625)\" />\n",
       "       <path id=\"ArialMT-6e\" d=\"M 422 0  L 422 3319  L 928 3319  L 928 2847  Q 1294 3394 1984 3394  Q 2284 3394 2536 3286  Q 2788 3178 2913 3003  Q 3038 2828 3088 2588  Q 3119 2431 3119 2041  L 3119 0  L 2556 0  L 2556 2019  Q 2556 2363 2490 2533  Q 2425 2703 2258 2804  Q 2091 2906 1866 2906  Q 1506 2906 1245 2678  Q 984 2450 984 1813  L 984 0  L 422 0  z \" transform=\"scale(0.015625)\" />\n",
       "      </defs>\n",
       "      <use xlink:href=\"#ArialMT-76\" />\n",
       "      <use xlink:href=\"#ArialMT-69\" x=\"50\" />\n",
       "      <use xlink:href=\"#ArialMT-72\" x=\"72.216797\" />\n",
       "      <use xlink:href=\"#ArialMT-67\" x=\"105.517578\" />\n",
       "      <use xlink:href=\"#ArialMT-69\" x=\"161.132812\" />\n",
       "      <use xlink:href=\"#ArialMT-6e\" x=\"183.349609\" />\n",
       "      <use xlink:href=\"#ArialMT-69\" x=\"238.964844\" />\n",
       "      <use xlink:href=\"#ArialMT-63\" x=\"261.181641\" />\n",
       "      <use xlink:href=\"#ArialMT-61\" x=\"311.181641\" />\n",
       "     </g>\n",
       "    </g>\n",
       "   </g>\n",
       "  </g>\n",
       " </g>\n",
       "</svg></g>\n",
       "</g>\n",
       "</svg>"
      ],
      "text/plain": [
       "<dtreeviz.trees.DTreeViz at 0x1f3aff3c2b0>"
      ]
     },
     "execution_count": 28,
     "metadata": {},
     "output_type": "execute_result"
    }
   ],
   "source": [
    "from dtreeviz.trees import *\n",
    "\n",
    "# 准备数据\n",
    "X = data.data\n",
    "y = data.target\n",
    "X_train, X_test, y_train, y_test = train_test_split(X, y, test_size=0.2, random_state=42)\n",
    "\n",
    "# 拟合\n",
    "clf = tree.DecisionTreeClassifier(max_depth=3, random_state=42)\n",
    "clf.fit(X_train, y_train)\n",
    "# dtreevizd的y_data需要输入数值，所以前面的数据预处理不合适，这里重新进行了数据集处理\n",
    "viz = dtreeviz(clf, \n",
    "               x_data=X_train,\n",
    "               y_data=y_train,\n",
    "               target_name='class',\n",
    "               feature_names=data.feature_names, \n",
    "               class_names=list(data.target_names), \n",
    "               title=\"Decision Tree - Iris data set\")\n",
    "viz"
   ]
  },
  {
   "cell_type": "markdown",
   "id": "0cf36018",
   "metadata": {},
   "source": [
    "## 预测"
   ]
  },
  {
   "cell_type": "markdown",
   "id": "a7a58480",
   "metadata": {},
   "source": [
    "#### sns.heatmap可视化报告"
   ]
  },
  {
   "cell_type": "code",
   "execution_count": 29,
   "id": "c0843fa1",
   "metadata": {
    "ExecuteTime": {
     "end_time": "2022-08-08T07:17:14.093387Z",
     "start_time": "2022-08-08T07:17:14.078157Z"
    }
   },
   "outputs": [],
   "source": [
    "from sklearn.metrics import classification_report\n"
   ]
  },
  {
   "cell_type": "code",
   "execution_count": 30,
   "id": "e5c10479",
   "metadata": {
    "ExecuteTime": {
     "end_time": "2022-08-08T07:17:14.374825Z",
     "start_time": "2022-08-08T07:17:14.094896Z"
    }
   },
   "outputs": [
    {
     "data": {
      "image/png": "[encoded data removed]",
      "text/plain": [
       "<Figure size 576x432 with 2 Axes>"
      ]
     },
     "metadata": {
      "needs_background": "light"
     },
     "output_type": "display_data"
    }
   ],
   "source": [
    "y_pred = model.predict(test_x)\n",
    "# clf_report是字符串描述\n",
    "clf_report = classification_report(test_lab, y_pred, labels=labels, target_names=target_names, output_dict=True)\n",
    "plt.figure(figsize=(8,6))\n",
    "sns.heatmap(pd.DataFrame(clf_report).iloc[:-1, :].T, annot=True)\n",
    "plt.show()"
   ]
  },
  {
   "cell_type": "code",
   "execution_count": 31,
   "id": "40716aa9",
   "metadata": {
    "ExecuteTime": {
     "end_time": "2022-08-08T07:17:14.390528Z",
     "start_time": "2022-08-08T07:17:14.376656Z"
    }
   },
   "outputs": [
    {
     "data": {
      "text/plain": [
       "{'setosa': {'precision': 1.0, 'recall': 1.0, 'f1-score': 1.0, 'support': 23},\n",
       " 'versicolor': {'precision': 0.95,\n",
       "  'recall': 1.0,\n",
       "  'f1-score': 0.9743589743589743,\n",
       "  'support': 19},\n",
       " 'virginica': {'precision': 1.0,\n",
       "  'recall': 0.9444444444444444,\n",
       "  'f1-score': 0.9714285714285714,\n",
       "  'support': 18},\n",
       " 'accuracy': 0.9833333333333333,\n",
       " 'macro avg': {'precision': 0.9833333333333334,\n",
       "  'recall': 0.9814814814814815,\n",
       "  'f1-score': 0.981929181929182,\n",
       "  'support': 60},\n",
       " 'weighted avg': {'precision': 0.9841666666666666,\n",
       "  'recall': 0.9833333333333333,\n",
       "  'f1-score': 0.9833089133089132,\n",
       "  'support': 60}}"
      ]
     },
     "execution_count": 31,
     "metadata": {},
     "output_type": "execute_result"
    }
   ],
   "source": [
    "clf_report"
   ]
  },
  {
   "cell_type": "markdown",
   "id": "09f3137d",
   "metadata": {},
   "source": [
    "# 实现DecisionTree"
   ]
  },
  {
   "cell_type": "markdown",
   "id": "7c6fa64f",
   "metadata": {},
   "source": [
    "In this exercise, you will implement a decision tree from scratch and apply it to the task of classifying whether a mushroom is edible or poisonous.\n",
    "\n",
    "**Outline**"
   ]
  },
  {
   "cell_type": "code",
   "execution_count": 51,
   "id": "6017b090",
   "metadata": {
    "ExecuteTime": {
     "end_time": "2022-08-08T07:41:35.081326Z",
     "start_time": "2022-08-08T07:41:35.064332Z"
    }
   },
   "outputs": [],
   "source": [
    "import numpy as np\n",
    "import matplotlib.pyplot as plt\n",
    "from public_tests import *  # 已封装的函数\n",
    "%matplotlib inline"
   ]
  },
  {
   "cell_type": "markdown",
   "id": "a4734bb7",
   "metadata": {},
   "source": [
    "## Dataset\n",
    "\n",
    "You will start by loading the dataset for this task. The dataset you have collected is as follows:\n",
    "\n",
    "| Cap Color | Stalk Shape | Solitary | Edible |\n",
    "|:---------:|:-----------:|:--------:|:------:|\n",
    "|   Brown   |   Tapering  |    Yes   |    1   |\n",
    "|   Brown   |  Enlarging  |    Yes   |    1   |\n",
    "|   Brown   |  Enlarging  |    No    |    0   |\n",
    "|   Brown   |  Enlarging  |    No    |    0   |\n",
    "|   Brown   |   Tapering  |    Yes   |    1   |\n",
    "|    Red    |   Tapering  |    Yes   |    0   |\n",
    "|    Red    |  Enlarging  |    No    |    0   |\n",
    "|   Brown   |  Enlarging  |    Yes   |    1   |\n",
    "|    Red    |   Tapering  |    No    |    1   |\n",
    "|   Brown   |  Enlarging  |    No    |    0   |\n",
    "\n",
    "## One hot encoded dataset\n",
    "\n",
    "For ease of implementation, we have one-hot encoded the features (turned them into 0 or 1 valued features)\n",
    "\n",
    "| Brown Cap | Tapering Stalk Shape | Solitary | Edible |\n",
    "|:---------:|:--------------------:|:--------:|:------:|\n",
    "|     1     |           1          |     1    |    1   |\n",
    "|     1     |           0          |     1    |    1   |\n",
    "|     1     |           0          |     0    |    0   |\n",
    "|     1     |           0          |     0    |    0   |\n",
    "|     1     |           1          |     1    |    1   |\n",
    "|     0     |           1          |     1    |    0   |\n",
    "|     0     |           0          |     0    |    0   |\n",
    "|     1     |           0          |     1    |    1   |\n",
    "|     0     |           1          |     0    |    1   |\n",
    "|     1     |           0          |     0    |    0   |\n"
   ]
  },
  {
   "cell_type": "code",
   "execution_count": 52,
   "id": "614bdc3d",
   "metadata": {
    "ExecuteTime": {
     "end_time": "2022-08-08T07:41:35.096745Z",
     "start_time": "2022-08-08T07:41:35.082619Z"
    }
   },
   "outputs": [],
   "source": [
    "X_train = np.array([[1,1,1],[1,0,1],[1,0,0],[1,0,0],[1,1,1],[0,1,1],[0,0,0],[1,0,1],[0,1,0],[1,0,0]])\n",
    "y_train = np.array([1,1,0,0,1,0,0,1,1,0])"
   ]
  },
  {
   "cell_type": "markdown",
   "id": "fd3a94b6",
   "metadata": {
    "ExecuteTime": {
     "end_time": "2022-08-07T09:10:26.679793Z",
     "start_time": "2022-08-07T09:10:26.661572Z"
    }
   },
   "source": [
    "## Decision Tree Refresher\n",
    "\n",
    "- Recall that the steps for building a decision tree are as follows:\n",
    "    - Start with all examples at the root node\n",
    "    - Calculate information gain for splitting on all possible features, and pick the one with the highest information gain\n",
    "    - Split dataset according to the selected feature, and create left and right branches of the tree\n",
    "    - Keep repeating splitting process until stopping criteria is met\n",
    "\n",
    "- For this lab, the stopping criteria we've chosen is setting a maximum depth of 2"
   ]
  },
  {
   "cell_type": "markdown",
   "id": "defe5220",
   "metadata": {},
   "source": [
    "### Calculate entropy"
   ]
  },
  {
   "cell_type": "code",
   "execution_count": 53,
   "id": "a99a0426",
   "metadata": {
    "ExecuteTime": {
     "end_time": "2022-08-08T07:41:35.111837Z",
     "start_time": "2022-08-08T07:41:35.097819Z"
    }
   },
   "outputs": [
    {
     "data": {
      "text/plain": [
       "10"
      ]
     },
     "execution_count": 53,
     "metadata": {},
     "output_type": "execute_result"
    }
   ],
   "source": [
    "len(y_train)"
   ]
  },
  {
   "cell_type": "code",
   "execution_count": 54,
   "id": "39c349b5",
   "metadata": {
    "ExecuteTime": {
     "end_time": "2022-08-08T07:41:35.127264Z",
     "start_time": "2022-08-08T07:41:35.113173Z"
    }
   },
   "outputs": [
    {
     "data": {
      "text/plain": [
       "1.0"
      ]
     },
     "execution_count": 54,
     "metadata": {},
     "output_type": "execute_result"
    }
   ],
   "source": [
    "(-0.5) * np.log2(0.5) - (0.5)*np.log2(0.5)"
   ]
  },
  {
   "cell_type": "code",
   "execution_count": 55,
   "id": "a05097a6",
   "metadata": {
    "ExecuteTime": {
     "end_time": "2022-08-08T07:41:35.143161Z",
     "start_time": "2022-08-08T07:41:35.128524Z"
    }
   },
   "outputs": [],
   "source": [
    "def compute_entropy(y):\n",
    "    \"\"\"\n",
    "    Computes the entropy for \n",
    "    \n",
    "    Args:\n",
    "       y (ndarray): Numpy array indicating whether each example at a node is\n",
    "           edible (`1`) or poisonous (`0`)\n",
    "       \n",
    "    Returns:\n",
    "        entropy (float): Entropy at that node\n",
    "    \n",
    "    \"\"\"\n",
    "    entropy = 0.\n",
    "    # p1:正例的比例\n",
    "    p_1 = np.sum(y) / len(y)\n",
    "    if p_1==1 or p_1==0:\n",
    "        return entropy\n",
    "    entropy = (-p_1) * np.log2(p_1) - (1 - p_1) * np.log2(1 - p_1)\n",
    "    return entropy"
   ]
  },
  {
   "cell_type": "code",
   "execution_count": 56,
   "id": "b778637e",
   "metadata": {
    "ExecuteTime": {
     "end_time": "2022-08-08T07:41:35.157965Z",
     "start_time": "2022-08-08T07:41:35.144726Z"
    }
   },
   "outputs": [
    {
     "name": "stdout",
     "output_type": "stream",
     "text": [
      "Entropy at root node:  1.0\n"
     ]
    }
   ],
   "source": [
    "print(\"Entropy at root node: \", compute_entropy(y_train)) "
   ]
  },
  {
   "attachments": {
    "image.png": {
     "image/png": "[encoded data removed]"
    }
   },
   "cell_type": "markdown",
   "id": "e009db0b",
   "metadata": {},
   "source": [
    "### Split dataset\n",
    "\n",
    "根据选择的特征对数据集进行左右子树划分\n",
    "\n",
    "**for example:**\n",
    "say we're starting at the root node (so `node_indices = [0,1,2,3,4,5,6,7,8,9]`), and we chose to split on feature `0`, which is whether or not the example has a brown cap.\n",
    "    - The output of the function is then, `left_indices = [0,1,2,3,4,7,9]` and `right_indices = [5,6,8]`\n",
    "![image.png](attachment:image.png)"
   ]
  },
  {
   "cell_type": "code",
   "execution_count": 57,
   "id": "2224725a",
   "metadata": {
    "ExecuteTime": {
     "end_time": "2022-08-08T07:41:35.173351Z",
     "start_time": "2022-08-08T07:41:35.159335Z"
    }
   },
   "outputs": [],
   "source": [
    "def split_dataset(X, node_indices, feature):\n",
    "    \"\"\"\n",
    "    Splits the data at the given node into\n",
    "    left and right branches\n",
    "    \n",
    "    Args:\n",
    "        X (ndarray):             Data matrix of shape(n_samples, n_features)\n",
    "        node_indices (ndarray):  当前子树中待划分的所有结点\n",
    "        feature (int):           指定的划分feature,根据这个feature进行划分\n",
    "    \n",
    "    Returns:\n",
    "        left_indices (ndarray): Indices with feature value == 1\n",
    "        right_indices (ndarray): Indices with feature value == 0\n",
    "    \n",
    "    \"\"\"\n",
    "    left_indices = []\n",
    "    right_indeices = []\n",
    "    for i in range(len(node_indices)):\n",
    "        if X[i,feature] == 1:\n",
    "            left_indices.append(i)\n",
    "        else:\n",
    "            right_indeices.append(i)\n",
    "    \n",
    "    return left_indices, right_indeices"
   ]
  },
  {
   "cell_type": "code",
   "execution_count": 58,
   "id": "65d5015e",
   "metadata": {
    "ExecuteTime": {
     "end_time": "2022-08-08T07:41:35.189446Z",
     "start_time": "2022-08-08T07:41:35.174339Z"
    }
   },
   "outputs": [
    {
     "name": "stdout",
     "output_type": "stream",
     "text": [
      "Left indices:  [0, 1, 2, 3, 4, 7, 9]\n",
      "Right indices:  [5, 6, 8]\n"
     ]
    }
   ],
   "source": [
    "root_indices = [0, 1, 2, 3, 4, 5, 6, 7, 8, 9]\n",
    "\n",
    "# 选出的feature是第1个\n",
    "feature = 0\n",
    "\n",
    "left_indices, right_indices = split_dataset(X_train, root_indices, feature)\n",
    "\n",
    "print(\"Left indices: \", left_indices)\n",
    "print(\"Right indices: \", right_indices)"
   ]
  },
  {
   "cell_type": "markdown",
   "id": "06e435d7",
   "metadata": {},
   "source": [
    "## Calculate information gain\n",
    "\n",
    "$$\\text{Information Gain} = H(p_1^\\text{node})- (w^{\\text{left}}H(p_1^\\text{left}) + w^{\\text{right}}H(p_1^\\text{right}))$$\n",
    "\n",
    "where \n",
    "- $H(p_1^\\text{node})$ is entropy at the node \n",
    "- $H(p_1^\\text{left})$ and $H(p_1^\\text{right})$ are the entropies at the left and the right branches resulting from the split\n",
    "- $w^{\\text{left}}$ and $w^{\\text{right}}$ are the proportion of examples at the left and right branch respectively"
   ]
  },
  {
   "cell_type": "code",
   "execution_count": 59,
   "id": "6431f6bf",
   "metadata": {
    "ExecuteTime": {
     "end_time": "2022-08-08T07:41:35.204562Z",
     "start_time": "2022-08-08T07:41:35.190700Z"
    }
   },
   "outputs": [
    {
     "data": {
      "text/plain": [
       "array([[1, 1, 1],\n",
       "       [1, 0, 1],\n",
       "       [1, 0, 0],\n",
       "       [1, 0, 0],\n",
       "       [1, 1, 1],\n",
       "       [0, 1, 1],\n",
       "       [0, 0, 0],\n",
       "       [1, 0, 1],\n",
       "       [0, 1, 0],\n",
       "       [1, 0, 0]])"
      ]
     },
     "execution_count": 59,
     "metadata": {},
     "output_type": "execute_result"
    }
   ],
   "source": [
    "root_indices = [0, 1, 2, 3, 4, 5, 6, 7, 8, 9]\n",
    "# 根据indices提取出对应的样本\n",
    "X_train[root_indices]\n"
   ]
  },
  {
   "cell_type": "code",
   "execution_count": 60,
   "id": "0b110231",
   "metadata": {
    "ExecuteTime": {
     "end_time": "2022-08-08T07:41:35.220339Z",
     "start_time": "2022-08-08T07:41:35.207268Z"
    }
   },
   "outputs": [],
   "source": [
    "def compute_information_gain(X, y, node_indices, feature):\n",
    "    \"\"\"\n",
    "    Compute the information of splitting the node on a given feature\n",
    "    Args:\n",
    "        X (ndarray):            Data matrix of shape(n_samples, n_features)\n",
    "        y (array like):         list or ndarray with n_samples containing the target variable\n",
    "        node_indices (ndarray): 当前子树中待划分的所有结点\n",
    "   \n",
    "    Returns:\n",
    "        cost (float):        Cost computed\n",
    "    \n",
    "    \"\"\"\n",
    "    # Split dataset\n",
    "    left_indices, right_indices = split_dataset(X, y, feature)\n",
    "    \n",
    "    information_gain = 0\n",
    "    # 计算左右分支所占的权重\n",
    "    w_left, w_right = len(left_indices)/len(X), len(right_indices)/len(X)\n",
    "    # 根据indices提取出对应的样本\n",
    "    X_node, y_node = X[node_indices], y[node_indices]\n",
    "    X_left, y_left = X[left_indices], y[left_indices]\n",
    "    X_right, y_right = X[right_indices], y[right_indices]\n",
    "    # compute entropy\n",
    "    entropy_p1_node = compute_entropy(y_node)\n",
    "    entropy_p1_left = compute_entropy(y_left)\n",
    "    entropy_p1_right = compute_entropy(y_right)\n",
    "    # compute information gain\n",
    "    information_gain = entropy_p1_node - (w_left * entropy_p1_left + w_right * entropy_p1_right)\n",
    "    return information_gain"
   ]
  },
  {
   "cell_type": "markdown",
   "id": "cb42c362",
   "metadata": {},
   "source": [
    "根节点开始"
   ]
  },
  {
   "cell_type": "code",
   "execution_count": 61,
   "id": "437e68c4",
   "metadata": {
    "ExecuteTime": {
     "end_time": "2022-08-08T07:41:35.235527Z",
     "start_time": "2022-08-08T07:41:35.223318Z"
    }
   },
   "outputs": [],
   "source": [
    "# 分别计算各个特征对应的information gain\n",
    "info_gain0 = compute_information_gain(X_train, y_train, root_indices, feature=0)\n",
    "info_gain1 = compute_information_gain(X_train, y_train, root_indices, feature=1)\n",
    "info_gain2 = compute_information_gain(X_train, y_train, root_indices, feature=2)"
   ]
  },
  {
   "cell_type": "code",
   "execution_count": 62,
   "id": "b0ef1907",
   "metadata": {
    "ExecuteTime": {
     "end_time": "2022-08-08T07:41:35.251049Z",
     "start_time": "2022-08-08T07:41:35.237445Z"
    }
   },
   "outputs": [
    {
     "name": "stdout",
     "output_type": "stream",
     "text": [
      "Information Gain from splitting the root on brown cap:  0.034851554559677034\n",
      "Information Gain from splitting the root on tapering stalk shape:  0.12451124978365313\n",
      "Information Gain from splitting the root on solitary:  0.2780719051126377\n"
     ]
    }
   ],
   "source": [
    "print(\"Information Gain from splitting the root on brown cap: \", info_gain0)\n",
    "print(\"Information Gain from splitting the root on tapering stalk shape: \", info_gain1)\n",
    "print(\"Information Gain from splitting the root on solitary: \", info_gain2)"
   ]
  },
  {
   "cell_type": "markdown",
   "id": "dc7e8720",
   "metadata": {},
   "source": [
    "## Get best split—特征选择"
   ]
  },
  {
   "cell_type": "code",
   "execution_count": 63,
   "id": "23aaa693",
   "metadata": {
    "ExecuteTime": {
     "end_time": "2022-08-08T07:41:35.266735Z",
     "start_time": "2022-08-08T07:41:35.252301Z"
    }
   },
   "outputs": [],
   "source": [
    "def get_best_split(X, y, node_indices):\n",
    "    \"\"\"\n",
    "    Returns the optimal feature and threshold value\n",
    "    to split the node data \n",
    "    \n",
    "    Args:\n",
    "        X (ndarray):            Data matrix of shape(n_samples, n_features)\n",
    "        y (array like):         list or ndarray with n_samples containing the target variable\n",
    "        node_indices (ndarray): List containing the active indices. I.e, the samples being considered in this step.\n",
    "\n",
    "    Returns:\n",
    "        best_feature (int):     The index of the best feature to split\n",
    "    \n",
    "    \"\"\"\n",
    "    num_features = X.shape[1]\n",
    "    best_feature = -1\n",
    "    max_info_gain = 0\n",
    "    for i in range(num_features):\n",
    "        # 依次计算各个特征对应的information gain，选择最佳特征（maximum information gain）\n",
    "        cur_info_gain = compute_information_gain(X, y, node_indices, i)\n",
    "        best_feature = i if cur_info_gain >= max_info_gain else best_feature\n",
    "    return best_feature"
   ]
  },
  {
   "cell_type": "code",
   "execution_count": 64,
   "id": "e6c3c4d9",
   "metadata": {
    "ExecuteTime": {
     "end_time": "2022-08-08T07:41:35.282352Z",
     "start_time": "2022-08-08T07:41:35.267738Z"
    }
   },
   "outputs": [
    {
     "name": "stdout",
     "output_type": "stream",
     "text": [
      "Best feature to split on: 2\n"
     ]
    }
   ],
   "source": [
    "best_feature = get_best_split(X_train, y_train, root_indices)\n",
    "print(\"Best feature to split on: %d\" % best_feature)"
   ]
  },
  {
   "cell_type": "markdown",
   "id": "9f651d17",
   "metadata": {},
   "source": [
    "## Building the tree"
   ]
  },
  {
   "cell_type": "code",
   "execution_count": 71,
   "id": "c3f41328",
   "metadata": {
    "ExecuteTime": {
     "end_time": "2022-08-08T07:43:27.919872Z",
     "start_time": "2022-08-08T07:43:27.906873Z"
    }
   },
   "outputs": [],
   "source": [
    "tree = []\n",
    "def build_tree_recursive(X, y, node_indices, branch_name, max_depth, current_depth):\n",
    "    \"\"\"\n",
    "    Build a tree using the recursive algorithm that split the dataset into 2 subgroups at each node.\n",
    "    This function just prints the tree.\n",
    "    \n",
    "    Args:\n",
    "        X (ndarray):            Data matrix of shape(n_samples, n_features)\n",
    "        y (array like):         list or ndarray with n_samples containing the target variable\n",
    "        node_indices (ndarray): List containing the active indices. I.e, the samples being considered in this step.\n",
    "        branch_name (string):   Name of the branch. ['Root', 'Left', 'Right']\n",
    "        max_depth (int):        Max depth of the resulting tree. \n",
    "        current_depth (int):    Current depth. Parameter used during recursive call.\n",
    "    \n",
    "    \"\"\"\n",
    "    # Maximum depth reached - stop splitting\n",
    "    if current_depth == max_depth:\n",
    "        formatting = \" \" * current_depth + \"-\" * current_depth\n",
    "        print(formatting, \"%s leaf node with indices\" % branch_name, node_indices)\n",
    "        return \n",
    "    # keep split\n",
    "    best_feature = get_best_split(X, y, node_indices)\n",
    "    tree.append((current_depth, branch_name, best_feature, node_indices))\n",
    "    formatting = \"-\" * current_depth\n",
    "    print(\"%s Depth %d, %s: Split on feature: %d\" %(formatting, current_depth,branch_name, best_feature ) )\n",
    "    # 基于上述选取的best feature进行split\n",
    "    left_indices, right_indices = split_dataset(X, node_indices, best_feature)\n",
    "    # 递归的划分左右子树\n",
    "    build_tree_recursive(X, y, left_indices, \"Left\", max_depth, current_depth+1)\n",
    "    build_tree_recursive(X, y, right_indices, \"Right\", max_depth, current_depth+1)"
   ]
  },
  {
   "cell_type": "code",
   "execution_count": 72,
   "id": "a6760dcb",
   "metadata": {
    "ExecuteTime": {
     "end_time": "2022-08-08T07:43:30.951984Z",
     "start_time": "2022-08-08T07:43:30.945967Z"
    },
    "scrolled": true
   },
   "outputs": [
    {
     "name": "stdout",
     "output_type": "stream",
     "text": [
      " Depth 0, Root: Split on feature: 2\n",
      "- Depth 1, Left: Split on feature: 2\n",
      "  -- Left leaf node with indices [0, 1, 4]\n",
      "  -- Right leaf node with indices [2, 3]\n",
      "- Depth 1, Right: Split on feature: 2\n",
      "  -- Left leaf node with indices [0, 1, 4]\n",
      "  -- Right leaf node with indices [2, 3]\n"
     ]
    }
   ],
   "source": [
    "build_tree_recursive(X_train, y_train, root_indices, \"Root\", max_depth=2, current_depth=0)"
   ]
  },
  {
   "cell_type": "markdown",
   "id": "b76efd68",
   "metadata": {},
   "source": [
    "# CART"
   ]
  },
  {
   "cell_type": "code",
   "execution_count": 1,
   "id": "9867bc15",
   "metadata": {
    "ExecuteTime": {
     "end_time": "2022-08-09T01:58:48.370871Z",
     "start_time": "2022-08-09T01:58:48.354685Z"
    }
   },
   "outputs": [],
   "source": [
    "\n",
    "def feature_split(X, feature_i, threshold):\n",
    "    \n",
    "    \"\"\"\n",
    "    定义二叉特征分裂函数\n",
    "    feature_i:给定的划分特征\n",
    "    X:待划分集合\n",
    "    threshold：二分的正反例划分阈值\n",
    "    \n",
    "    \"\"\"\n",
    "    split_func = None\n",
    "    if isinstance(threshold, int) or isinstance(threshold, float):\n",
    "        split_func = lambda sample: sample[feature_i] >= threshold\n",
    "    else:\n",
    "        split_func = lambda sample: sample[feature_i] == threshold\n",
    "    # 大于阈值的放在左边\n",
    "    X_left = np.array([sample for sample in X if split_func(sample)])\n",
    "    # 否则放在右边\n",
    "    X_right = np.array([sample for sample in X if not split_func(sample)])\n",
    "    \n",
    "    return np.array([X_left, X_right])"
   ]
  },
  {
   "cell_type": "code",
   "execution_count": 15,
   "id": "2be03032",
   "metadata": {
    "ExecuteTime": {
     "end_time": "2022-08-09T07:17:26.584739Z",
     "start_time": "2022-08-09T07:17:26.572359Z"
    }
   },
   "outputs": [],
   "source": [
    "class TreeNode():\n",
    "    \"\"\"\n",
    "    定义决策树中的单个树结点：\n",
    "    本子树的左右分支、本子树是依据哪个特征划分的左右分支、由于特征有多个可能取值，本子树依据特征的哪个阈值\n",
    "    \"\"\"\n",
    "    def __init__(self, feature_i=None, threshold=None, leaf_value=None, left_branch=None, right_branch=None):\n",
    "        # 特征索引\n",
    "        self.feature_i = feature_i\n",
    "        # 特征划分阈值\n",
    "        self.threshold = threshold\n",
    "        # 叶子节点取值\n",
    "        self.leaf_value = leaf_value\n",
    "        # 左子树\n",
    "        self.left_branch = left_branch\n",
    "        # 右子树\n",
    "        self.right_branch = right_branch\n",
    "    "
   ]
  },
  {
   "cell_type": "code",
   "execution_count": 2,
   "id": "9c942006",
   "metadata": {
    "ExecuteTime": {
     "end_time": "2022-08-09T05:54:54.455083Z",
     "start_time": "2022-08-09T05:54:54.433407Z"
    }
   },
   "outputs": [],
   "source": [
    "class BinaryDecisionTree(object):\n",
    "    \"\"\"定义二叉决策树\"\"\"\n",
    "    def __init__(self, min_sample_split=2, min_gini_impurity=999, max_depth=float(\"inf\"), loss=None):\n",
    "        # 根结点\n",
    "        self.root = None\n",
    "        # 节点最小分裂样本数，再小就不能继续划分\n",
    "        self.min_sample_split = min_sample_split\n",
    "        # 基于最佳特征计算得到的当前最小gini_impurity < min_gini_impurity才能进行划分\n",
    "        self.min_gini_impurity = min_gini_impurity\n",
    "        # 树最大深度\n",
    "        self.max_depth = max_depth\n",
    "        # 基尼不纯度计算函数\n",
    "        self.gini_impurity_calculation = None\n",
    "        # 叶子节点值预测函数:预测叶子所属分类<多数原则>/回归值\n",
    "        self._leaf_value_calculation = None\n",
    "        # 损失函数\n",
    "        self.loss = loss\n",
    "        \n",
    "    def _build_tree(self, X, y, current_depth=0):\n",
    "        \"\"\"决策树构建函数\"\"\"\n",
    "        # 初始化最小基尼不纯度==预定的min_gini_impurity\n",
    "        init_gini_impurity = 999\n",
    "        # 初始化最佳特征索引和阈值,之后存储最佳的特征和对应的阈值\n",
    "        best_criteria = None\n",
    "        # 初始化数据子集，之后存储基于最佳特征和阈值划分的左右子集(X：y)\n",
    "        best_sets = None\n",
    "        # 合并输入和标签\n",
    "        example = np.concatenate((X,y), axis=1)\n",
    "        # 获取样本数和特征数\n",
    "        n_samples, n_features = X.shape\n",
    "        \n",
    "        # 设定决策树构建条件\n",
    "        # 1、训练样本数量＞节点最小分裂样本数＆当前树深度＜最大深度\n",
    "        if n_samples >= self.min_sample_split and self.current_depth <= self.max_depth:\n",
    "            # 遍历计算每个特征的基尼不纯度\n",
    "            for feature_i in range(n_features):\n",
    "                # 获取第i特征的所有取值—取出第i列，但是维度是(m,),为方便计算，处理成(m,1)\n",
    "                feature_values = np.expand_dims(X[:, feature_i], axis=1)                \n",
    "                # 获取第i个特征的唯一所有可能取值\n",
    "                unique_values = np.unique(feature_values)\n",
    "                # 根据特征的不同取值进行划分\n",
    "                for threshold in unique_values:\n",
    "                    # 根据阈值划分左右分支并返回\n",
    "                    left_indices, right_indices = feature_split(example, feature_i, threshold)\n",
    "                    # 如果分裂后的子集大小都不为0\n",
    "                    if len(left_indices) > 0 and len(right_indices) > 0:\n",
    "                        # 获取两个子集的标签值\n",
    "                        left_y = example[:,n_features:]\n",
    "                        right_y = example[:, n_features]\n",
    "                        # 计算基尼不纯度\n",
    "                        gini_impurity = self.gini_impurity_calculation(y, left_y,right_y)\n",
    "                        # 获取最小基尼不纯度\n",
    "                        if gini_impurity < init_gini_impurity:\n",
    "                            init_gini_impurity = gini_impurity\n",
    "                            # 基于所选的最小gini_impurity进行将划分方案存储在best_criteria和bast_sets中\n",
    "                            # 注意此时还没有真正划分\n",
    "                            best_criteria = {\"feature_i\":feature_i, \"threshold\":threshold}\n",
    "                            best_sets = {\n",
    "                                \"leftX\":left_indices[:, :n_features],\n",
    "                                \"lefty\":left_indices[:, n_features:],\n",
    "                                \"rightX\":right_indices[:, :n_features],\n",
    "                                \"righty\":right_indices[:, n_features:]\n",
    "                            }\n",
    "        # 2、当前的最小gini_impurity < 预设的mini_gini_impurity,可以进行划分\n",
    "        if init_gini_impurity < self.min_gini_impurity:\n",
    "            # 继续递归的进行左右子树的划分\n",
    "            left_branch = self._build_tree(best_sets[\"leftX\"], best_sets[\"lefty\"], current_depth + 1)\n",
    "            right_branch = self._build_tree(best_sets[\"rightX\"], best_sets[\"righty\"], current_depth + 1)\n",
    "            # 左右子树划分完毕后，本子树划分完毕，返回子树\n",
    "            return TreeNode(feature_i=best_criteria[\"feature_i\"], threshold=best_criteria[\"threshold\"], left_branch=left_branch, right_branch=right_branch)\n",
    "        \n",
    "        # 3、否则是叶子，直接计算\n",
    "        leaf_value = self._leaf_value_calculation(y)\n",
    "        return TreeNode(leaf_value=leaf_value)\n",
    "                        \n",
    "                    \n",
    "    def fit(self, X, y, loss=None):\n",
    "        \"\"\"决策树拟合函数\"\"\"\n",
    "        self.root = self._build_tree(X, y)\n",
    "        self.loss = None\n",
    "    def predict(self, X):\n",
    "        \"\"\"数据集预测函数\"\"\"\n",
    "        y_pred = [self.predict_value(sample) for sample in X]\n",
    "        return y_pred\n",
    "    \n",
    "    def predict_value(self, x, tree=None):\n",
    "        \"\"\"单个样本的预测\"\"\"\n",
    "        if tree is None:# 样本刚刚进入决策树时：从root开始判断\n",
    "            tree = self.root\n",
    "        \n",
    "        # 样本x继续走到叶子节点则已经分类（回归预测）完毕了\n",
    "        if tree.leaf_value is not None:\n",
    "            return tree.leaf_value\n",
    "        # 此子树的最佳特征feature_i(由之前构建子树时存储的)\n",
    "        feature_value = x[tree.feature_i] # 根据当前所在子树的最佳特征feature_i取出样本对应的这个特征\n",
    "        branch = tree.right_branch\n",
    "        # feature_value有效时（feature_i初始为None时无效）\n",
    "        if isinstance(feature_value, int) or isinstance(feature_value, float):\n",
    "            # 如果样本的feature_value＞=阈值就往左边走，继续递归的往下直到走到叶子节点完成预测\n",
    "            if feature_value >= tree.threshold:\n",
    "                branch = tree.left_branch\n",
    "        elif feature_value == tree.threshold:\n",
    "            branch = tree.left_branch\n",
    "            \n",
    "        return self.predict_value(x, branch)# 递归的继续往下判断\n",
    "        \n",
    "        "
   ]
  },
  {
   "cell_type": "code",
   "execution_count": 9,
   "id": "df3487b7",
   "metadata": {
    "ExecuteTime": {
     "end_time": "2022-08-09T06:19:03.738165Z",
     "start_time": "2022-08-09T06:19:03.730606Z"
    }
   },
   "outputs": [],
   "source": [
    "def calculate_gini(y):\n",
    "    \"\"\"\n",
    "    未划分时计算本节点的基尼系数:\n",
    "    给定样本集合D,其gini指数为Σp_k(1-p_k),k是分类数:0,1,...,k\n",
    "    y:ndarray\n",
    "    \n",
    "    \"\"\"\n",
    "    k = np.unique(y)\n",
    "    p_k = [y.tolist().count(i) for i in k]\n",
    "    gini = sum(p * (1-p) for p in p_k)\n",
    "    return gini  "
   ]
  },
  {
   "cell_type": "code",
   "execution_count": 12,
   "id": "b432b062",
   "metadata": {
    "ExecuteTime": {
     "end_time": "2022-08-09T06:27:59.018898Z",
     "start_time": "2022-08-09T06:27:59.008707Z"
    }
   },
   "outputs": [],
   "source": [
    "class ClassificationTree(BinaryDecisionTree):\n",
    "    \n",
    "    def _calculate_gini_impurity(self, y, left_y, right_y):\n",
    "        \"\"\"\n",
    "        定义gini_impurity:基于此节点已经划分的左右分支\n",
    "        \n",
    "        \"\"\"\n",
    "        # 计算正例的比例\n",
    "        p = len(left_y) / len(y)\n",
    "        gini = calculate_gini(y)\n",
    "        gini_impurity = p * calculate_gini(left_y) + (1-p) * calculate_gini(right_y)\n",
    "        return gini_impurity\n",
    "    \n",
    "    def _majority_vote(self, y):\n",
    "        \"\"\"使用多数原则对此节点的所有样本划定所属分类\"\"\"\n",
    "        most_common = None\n",
    "        max_count = 0\n",
    "        for label in np.unique(y):\n",
    "            count = len(y[y == label])\n",
    "            if count > max_count:\n",
    "                most_common = label\n",
    "                max_count = count\n",
    "        return most_common\n",
    "    def fit(self, X, y):\n",
    "        \"\"\"分类树拟合\"\"\"\n",
    "        self.impurity_calculation = self._calculate_gini_impurity\n",
    "        self._leaf_value_calculation = self._majority_vote\n",
    "        super(ClassificationTree, self).fit(X,y)\n",
    "    "
   ]
  },
  {
   "cell_type": "code",
   "execution_count": 13,
   "id": "7d3de315",
   "metadata": {
    "ExecuteTime": {
     "end_time": "2022-08-09T06:29:04.803815Z",
     "start_time": "2022-08-09T06:29:04.600176Z"
    }
   },
   "outputs": [],
   "source": [
    "from sklearn import datasets\n",
    "from sklearn.model_selection import train_test_split\n",
    "# 加载数据集\n",
    "data = datasets.load_iris()\n",
    "X,y = data.data, data.target\n",
    "# y.shape是（150，），改为一维方便之后计算\n",
    "y = y.reshape(-1,1)\n",
    "\n",
    "# 划分数据集\n",
    "X_train, X_test, y_train, y_test = train_test_split(X, y, test_size=0.3)\n",
    "\n",
    "# 创建决策树类对象\n",
    "clf = ClassificationTree()\n",
    "# 训练决策树\n",
    "clf.fit(X_train, y_train)\n",
    "# 预测\n",
    "y_pred = clf.predict(X_test)\n",
    "# 查看预测准确率\n",
    "print(accuracy_score(y_test, y_pred))"
   ]
  },
  {
   "cell_type": "code",
   "execution_count": 14,
   "id": "7d4bb018",
   "metadata": {
    "ExecuteTime": {
     "end_time": "2022-08-09T06:29:12.147748Z",
     "start_time": "2022-08-09T06:29:12.142398Z"
    }
   },
   "outputs": [
    {
     "data": {
      "text/plain": [
       "(150,)"
      ]
     },
     "execution_count": 14,
     "metadata": {},
     "output_type": "execute_result"
    }
   ],
   "source": [
    "y.shape"
   ]
  },
  {
   "cell_type": "code",
   "execution_count": 80,
   "id": "cf34e405",
   "metadata": {
    "ExecuteTime": {
     "end_time": "2022-08-08T08:53:30.072823Z",
     "start_time": "2022-08-08T08:53:30.059712Z"
    }
   },
   "outputs": [
    {
     "name": "stdout",
     "output_type": "stream",
     "text": [
      "[[0 1 2]\n",
      " [3 4 5]]\n",
      "[1 4]\n",
      "(2,)\n"
     ]
    },
    {
     "data": {
      "text/plain": [
       "(2, 1)"
      ]
     },
     "execution_count": 80,
     "metadata": {},
     "output_type": "execute_result"
    }
   ],
   "source": [
    "x = np.arange(6).reshape(2,3)\n",
    "print(x)\n",
    "print(x[:,1]) # 取第1列\n",
    "print(x[:,1].shape) # 取到的是一维的(2,)\n",
    "np.expand_dims(x[:, 1], axis=1).shape # 变长（2，1）"
   ]
  },
  {
   "cell_type": "markdown",
   "id": "6ef168a1",
   "metadata": {
    "ExecuteTime": {
     "end_time": "2022-08-09T08:37:47.025322Z",
     "start_time": "2022-08-09T08:37:47.011409Z"
    }
   },
   "source": [
    "## CART"
   ]
  },
  {
   "attachments": {
    "image.png": {
     "image/png": "[encoded data removed]"
    }
   },
   "cell_type": "markdown",
   "id": "bf99bf52",
   "metadata": {},
   "source": [
    "### 计算基尼指数\n",
    "\n",
    "![image.png](attachment:image.png)"
   ]
  },
  {
   "cell_type": "code",
   "execution_count": 2,
   "id": "a918d6b3",
   "metadata": {
    "ExecuteTime": {
     "end_time": "2022-08-10T01:42:11.315850Z",
     "start_time": "2022-08-10T01:42:11.291586Z"
    }
   },
   "outputs": [],
   "source": [
    "def  gini(y, weight=None):\n",
    "    \n",
    "    \"\"\"\n",
    "    计算当前样本集合y的基尼指数\n",
    "    :param y:一维ndarray数组\n",
    "    :param weight:一维ndarray数组，样本权重\n",
    "    :return:基尼系数\n",
    "    \n",
    "    \"\"\"\n",
    "    if weight is None:\n",
    "        # 根节点的权重为1\n",
    "        weight = np.array([1.0]*len(y))\n",
    "    # 样本数\n",
    "    weight_sum = np.sum(weight)\n",
    "    # 统计各个pk\n",
    "    probs = np.array(np.sum(weight[y==i]/weight_sum) for i in np.unique(y))\n",
    "    # 基于公式计算基尼指数\n",
    "    gini = np.sum([probs_k * (1-probs_k) for probs_k in probs])\n",
    "    return gini"
   ]
  },
  {
   "cell_type": "code",
   "execution_count": 3,
   "id": "3bc5c6a5",
   "metadata": {
    "ExecuteTime": {
     "end_time": "2022-08-10T01:42:13.816670Z",
     "start_time": "2022-08-10T01:42:13.792509Z"
    }
   },
   "outputs": [
    {
     "data": {
      "text/plain": [
       "array([1, 1])"
      ]
     },
     "execution_count": 3,
     "metadata": {},
     "output_type": "execute_result"
    }
   ],
   "source": [
    "y = np.array([1,3,4,4])\n",
    "weight = np.array([1,1,1,1])\n",
    "y == 4\n",
    "weight[y==4]"
   ]
  },
  {
   "attachments": {
    "image.png": {
     "image/png": "[encoded data removed]"
    }
   },
   "cell_type": "markdown",
   "id": "d5f704a9",
   "metadata": {},
   "source": [
    "### 计算条件基尼指数\n",
    "\n",
    "属性a不同取值上基尼系数的加权求和\n",
    "![image.png](attachment:image.png)"
   ]
  },
  {
   "cell_type": "code",
   "execution_count": 18,
   "id": "8816e298",
   "metadata": {
    "ExecuteTime": {
     "end_time": "2022-08-10T02:52:17.994195Z",
     "start_time": "2022-08-10T02:52:17.963242Z"
    }
   },
   "outputs": [],
   "source": [
    "def con_gini(x, y, weight=None):\n",
    "    \"\"\"\n",
    "    计算单个特征下的条件基尼系数\n",
    "    :param x:特征，一维ndarray数组\n",
    "    :param y:标签，一维ndarray数组\n",
    "    :param weight:样本权重，一维ndarray数组\n",
    "    :return:条件基尼系数\n",
    "    \n",
    "    \"\"\"\n",
    "    if weight is None:\n",
    "        weight = np.array([1.0]*len(y))\n",
    "    weight_sum = np.sum(weight)\n",
    "    condition_gain = 0\n",
    "    for i in np.unique(x):\n",
    "        # 找出特征值为i的样本索引\n",
    "        index = np.where(x==i)\n",
    "        # 找到索引对应的权重和标签\n",
    "        y_new = y[index]\n",
    "        weight_new = weight[index]\n",
    "        # 计算基于此特征值进行分类时的各个分类内样本geggini_index(cond_gini_index)\n",
    "        cond_gini_index += np.sum(weight_new)/weight_sum * gini(y_new, weight_new)"
   ]
  },
  {
   "cell_type": "code",
   "execution_count": 5,
   "id": "bd0241ba",
   "metadata": {
    "ExecuteTime": {
     "end_time": "2022-08-10T01:42:18.524925Z",
     "start_time": "2022-08-10T01:42:18.501008Z"
    }
   },
   "outputs": [
    {
     "data": {
      "text/plain": [
       "(array([2, 3], dtype=int64),)"
      ]
     },
     "execution_count": 5,
     "metadata": {},
     "output_type": "execute_result"
    }
   ],
   "source": [
    "a = np.array([1,2,3,3])\n",
    "np.where(a == 3)"
   ]
  },
  {
   "attachments": {
    "image.png": {
     "image/png": "[encoded data removed]"
    }
   },
   "cell_type": "markdown",
   "id": "0b371a44",
   "metadata": {},
   "source": [
    "基尼系数增益:\n",
    "\n",
    "cart分类树选择基尼系数变化最大（基尼系数增益）的特征来进行划分\n",
    "![image.png](attachment:image.png)\n"
   ]
  },
  {
   "cell_type": "code",
   "execution_count": 6,
   "id": "2d664950",
   "metadata": {
    "ExecuteTime": {
     "end_time": "2022-08-10T01:42:20.734295Z",
     "start_time": "2022-08-10T01:42:20.711200Z"
    }
   },
   "outputs": [],
   "source": [
    "def gini_gain(x,y,weight=None):\n",
    "    \n",
    "    \"\"\"\n",
    "    计算单个特征对应的基尼增益\n",
    "    :param x: 特征，一维ndarray数组\n",
    "    :param y: 标签，一维ndarray数组\n",
    "    :param weight: 样本权重，一维ndarray数组\n",
    "    :return: 基尼系数变化量\n",
    "    \n",
    "    \"\"\"\n",
    "    if weight is None:\n",
    "        weight = np.array([1.0]*weight)\n",
    "    return gini(y, weight) - con_gini(x, y, weight)"
   ]
  },
  {
   "cell_type": "markdown",
   "id": "cfb84061",
   "metadata": {},
   "source": [
    "### 决策树构建\n",
    "\n",
    "cart分类树中，决策树生成就是递归调用基尼系数算法来做特征选择，递归的终止条件是两个：一个是节点包含数据属于同一个类别，此时无需划分；另一个是没有特征可以用来做特征选择或者所有特征都只有一个取值，此时无法划分。\n",
    "\n",
    "cart树是一个二叉树，因此在进行特征选择之前，要对特征进行二分，即选择能使基尼增益最大的点作为分割点对特征进行划分"
   ]
  },
  {
   "cell_type": "code",
   "execution_count": 7,
   "id": "d91b6588",
   "metadata": {
    "ExecuteTime": {
     "end_time": "2022-08-10T01:42:23.610088Z",
     "start_time": "2022-08-10T01:42:23.586894Z"
    }
   },
   "outputs": [],
   "source": [
    "class Node(object):\n",
    "    def __init__(self, \n",
    "                 n_sample = None, \n",
    "                 gini = None, \n",
    "                 left_child_node = None, \n",
    "                 right_child_node = None, \n",
    "                 class_prob = None, \n",
    "                 feature_index = None, \n",
    "                 feature_best_value = None):\n",
    "        \"\"\"\n",
    "        :param n_sample: 节点样本量\n",
    "        :param gini: 节点标签的基尼系数\n",
    "        :param left_child_node: 节点的左侧子节点\n",
    "        :param right_child_node: 节点的右侧字节带你\n",
    "        :param class_prob: 节点标签的概率分布\n",
    "        :param feature_index: 节点使用的特征\n",
    "        :param feature_best_value: 特征的最佳分割点\n",
    "        \n",
    "        \"\"\"\n",
    "        self.n_sample = n_sample\n",
    "        self.gini = gini\n",
    "        self.left_child_node = left_child_node\n",
    "        self.right_child_node = right_child_node\n",
    "        self.class_prob = class_prob\n",
    "        self.feature_index = feature_index\n",
    "        self.feature_best_value = feature_best_value\n",
    "\n",
    "        "
   ]
  },
  {
   "cell_type": "markdown",
   "id": "cfb4c79a",
   "metadata": {},
   "source": [
    "递归建立决策树的思路：\n",
    "\n",
    "**初始化**\n",
    "\n",
    "建立根节点root_node\n",
    "传入数据集（X，y）＆根节点：\n",
    "build_tree(X, y, self.root_node, weight)\n",
    "\n",
    "**build_tree递归过程**\n",
    "\n",
    "    **递归基**\n",
    "    1、样本基本属于同一类\n",
    "    2、没有更多特征\n",
    "    \n",
    "    **处理当前节点（自身）**\n",
    "    1、遍历找到最佳特征和特征的最佳分割点\n",
    "    2、基于最佳特征和最佳分割点分成左右子树left,right，建立左右节点left_node,right_node\n",
    "    3、让buildtree()帮忙划分左右子树：\n",
    "    build_tree(right_x, right_y, node.right_child_node, right_weight)\n",
    "    build_tree(left_x, left_y, node.left_child_node, left_weight)\n",
    "\n",
    "\n",
    "\n"
   ]
  },
  {
   "cell_type": "markdown",
   "id": "60b86dbb",
   "metadata": {},
   "source": [
    "基于上述思路，先准备各模块：\n",
    "\n",
    "1、寻找最佳特征\n",
    "2、寻找最佳特征的最佳分割点\n",
    "\n",
    "先找到所有特征的每个特征的最佳分割点作为每个特征的代表，再从中选出最佳代表即最佳特征\n",
    "\n"
   ]
  },
  {
   "cell_type": "code",
   "execution_count": 15,
   "id": "0d543127",
   "metadata": {
    "ExecuteTime": {
     "end_time": "2022-08-10T02:18:28.616563Z",
     "start_time": "2022-08-10T02:18:28.564404Z"
    }
   },
   "outputs": [],
   "source": [
    "class CartClassifier(object):\n",
    "    def __init__(self, criterion = \"gini\"):\n",
    "        self.criterion = criterion\n",
    "        if self.criterion == \"gini\":\n",
    "            # 使用gini增益进行特征选择\n",
    "            self.func = gini_gain\n",
    "    def __split(self, x, y, weight):\n",
    "        \"\"\"\n",
    "        对特征x进行二分，找到本特征最佳的切分点\n",
    "        :param x: 特征\n",
    "        :param y: 标签\n",
    "        :param weight:样本权重\n",
    "        :return: 二分后的特征向量和最佳分割点\n",
    "        \n",
    "        \"\"\"\n",
    "        # 取出当前特征的所有可能取值\n",
    "        x_unique = np.unique(x)\n",
    "        # 先取所有可能取值的中点作为候选切分点\n",
    "        x_split = (x_unique[:-1] + x_unique[1:]) / 2\n",
    "        # 最终只能选择一个切分点（因为是二叉树）\n",
    "        best_split = None\n",
    "        best_gain = 0\n",
    "        for i in x_split:\n",
    "            x_i = np.zeros_like(x)\n",
    "            # 基于特征的切分点i分成左右子树\n",
    "            # 为什么可以直接赋值0/1计算？—因为gini公式中实际上只使用了p(正例的个数)\n",
    "            x_i[x>=i] = 1\n",
    "            x_i[x<i] = 0\n",
    "            cur_gain = gini_gain(x_i, y, weight)\n",
    "            if cur_gain > best_gain:\n",
    "                best_gain = cur_gain\n",
    "                best_split = i\n",
    "        # 找到最佳切分点后进行切分\n",
    "        x_new = np.zeros_like(x)\n",
    "        x_new[x>=best_split] = 1\n",
    "        x_new[x<best_split] = 0\n",
    "        return x_new, best_split\n",
    "    \n",
    "    def fit(self, X, y, weight = None):\n",
    "        if weight is None: # 初始时默认根节点中样本的权重为1\n",
    "            weight = np.array([1.0] * len(y))\n",
    "        # 首先定义根节点\n",
    "        self.root_node = Node()\n",
    "        # 递归建树\n",
    "        self.__build_tree(X, y, self.root_node, weight)\n",
    "    \n",
    "    def __build_tree(self, X, y, node:Node, weight):\n",
    "        \n",
    "        \"\"\"\n",
    "        构建决策树子树：\n",
    "        :param node:当前子树的根节点(Node实例)\n",
    "        :param weight:子树中的样本对应的权重\n",
    "        :param X:样本\n",
    "        :param y: 标签\n",
    "        \n",
    "        \"\"\"\n",
    "        # 当前节点的样本量和特征的数量\n",
    "        n_sample, n_feature = X.shape\n",
    "        # 记录到当前节点的属性中\n",
    "        node.n_sample = n_sample\n",
    "        \n",
    "        # 当前节点的基尼系数\n",
    "        node.gini = gini(y, weight)\n",
    "        # 当前节点的概率分布(不同分类值k对应的权重)\n",
    "        node.class_prob = {k : np.sum(weight[y==k]) for k in np.unique(y)}\n",
    "        \n",
    "        ## 构建子树的递归基\n",
    "        # （1、样本基本属于同一类）如果当前节点所含样本的标签只有一种取值，无需进行划分，跳出循环\n",
    "        if len(np.unique(y) == 1):\n",
    "            return\n",
    "        # (2、没有更多特征)如果当前节点所含样本所有特征都只有一个取值，无法进行划分，跳出循环\n",
    "        if np.sum(np.unique(X[:,i]) for i in range(n_feature)) == n_feature:\n",
    "            return \n",
    "        \n",
    "        ## 递归构建子树\n",
    "        # 找到最佳特征的最佳切分点，并记录对应的最佳基尼增益\n",
    "        best_feature_i = None\n",
    "        best_gain = 0\n",
    "        best_split = None\n",
    "        # 遍历寻找最佳特征和特征的最佳分割点，此处缺失值进行特殊处理\n",
    "        for feature_i in range(n_feature):# X[:, feature_i]取到每个特征\n",
    "            # 去除缺失值\n",
    "            nonan_index = ~np.isnan(X[:, feature_i])\n",
    "            # 有效样本的占比\n",
    "            nonan_prob = np.sum(weight[nonan_index])/np.sum(weight)\n",
    "            if len(np.unique(X[:, feature_i][nonan_index])) == 1:\n",
    "                # 只有一个有效样本则结束本特征的分割\n",
    "                continue\n",
    "                \n",
    "            ## 1、先找到所有特征的每个特征的最佳分割点作为每个特征的代表\n",
    "            \n",
    "            # 对特征进行二分，找到本特征的最佳切分点和对应的左右分支\n",
    "            # x_split中的值为1对应左子树，值为0对应右子树\n",
    "            x_split, cur_split = self.__split(X[:, feature_i][nonan_index], y[nonan_index], weight[nonan_index])\n",
    "            # 计算此特征切分的gini_gain(加权-*nonprob)\n",
    "            cur_gain = self.func(x_split, y[nonan_index], weight[nonan_index]) * nonan_prob\n",
    "            \n",
    "            \n",
    "            ## 2、找最佳特征：再从中选出最佳代表即最佳特征\n",
    "            if cur_gain > best_gain:\n",
    "                best_gain = cur_gain\n",
    "                best_feature_i = feature_i\n",
    "                best_split = cur_split\n",
    "                \n",
    "        ## 3、基于最佳特征和最佳分割点分成左右子树left,right，建立左右节点left_node,right_node\n",
    "        \n",
    "        \n",
    "        # 基于上述遍历找到了最佳特征和最佳切分点，在当前节点的属性中记录\n",
    "        node.feature_index = best_feature_i\n",
    "        node.feature_best_value = best_split\n",
    "\n",
    "        # 最佳特征\n",
    "        x_best = X[:, best_feature_i]\n",
    "        # < 最佳切分点的样本和缺失样本会被同时划分到左子节点\n",
    "        nan_index = np.isnan(X[:, best_feature_i])\n",
    "        left_index = nan_index + (x_best < best_split)\n",
    "        left_x = X[left_index]\n",
    "        left_y = y[left_index]\n",
    "        left_weight = weight[left_index]\n",
    "        # 缺失值的权重处理:加权（有效左子树节点数/有效总节点数）\n",
    "        nan_left_weight = left_weight[np.isnan(left_x[:, best_feature_i])]\n",
    "        nan_left_weight *= np.sum(weight[x_best < best_split]) / np.sum(weight[~nan_index])\n",
    "        # 建立左节点left_node\n",
    "        node.left_child_node = Node()\n",
    "        # 递归建立左子树\n",
    "        self.__build_tree(left_x, left_y, node.left_child_node, left_weight)\n",
    "\n",
    "        # (缺失样本也会被划分到右侧子节点),\n",
    "        # >=最佳切分点的样本和缺失样本会被同时划分到左子节点\n",
    "        right_index = nan_index + (x_best >= best_split)\n",
    "        right_x = X[right_index]\n",
    "        right_y = y[right_index]\n",
    "        right_weight = weight[right_index]\n",
    "        # 缺失值的权重处理:加权（有效右子树节点数/有效总节点数）\n",
    "        nan_right_weight = right_weight[np.isnan(right_x[:, best_feature_i])]\n",
    "        nan_right_weight *= np.sum(weight[x_best>=best_split])/np.sum(weight[~nan_index])\n",
    "        # 建立右节点right_node\n",
    "        node.right_child_node = Node()\n",
    "        # 递归建立右子树\n",
    "        self.__build_tree(right_x, right_y, node.right_child_node, right_weight)\n",
    "        \n",
    "    def predict(self, X):\n",
    "        \"\"\"\n",
    "        基于多数原则进行预测：X的每一个样本通过决策树搜索找到样本属于各个分类的概率分布，\n",
    "        再根据多数原则选出概率最大的那个\n",
    "        :param X:待预测对应类别的样本\n",
    "        \n",
    "        \"\"\"\n",
    "        # X的每一个样本通过决策树搜索找到样本属于各个分类的概率分布\n",
    "        res = self.predict_prob(X)\n",
    "        pred = []\n",
    "        # 遍历每一行（每一个样本的各个分类概率分布），拿到每一行数据最大概率对应的类别(多数原则)\n",
    "        for i in range(len(res)):\n",
    "            # 多数原则取出概率最大的那个\n",
    "            p = max(res[i], key = lambda k : res[i][k])\n",
    "            pred.append(p)\n",
    "        return pred\n",
    "    \n",
    "    def predict_prob(self, X):\n",
    "        \"\"\"\n",
    "        将每一个样本都在决策树中进行遍历搜索，直到叶节点找到该样本属于各个类的概率\n",
    "        :param X: 待预测对应类别的样本,∈（m,n）\n",
    "        \n",
    "        \"\"\"\n",
    "        n_sample = X.shape[0]\n",
    "        results = []\n",
    "        # 遍历每一行(每一个样本)，拿到每一个样本属于各个类的概率\n",
    "        for i in range(n_sample):\n",
    "            # 从根节点开始遍历整棵树直到叶节点确认类别\n",
    "            res = self.__search_node(X[i], self.root_node) \n",
    "            result.append(res)\n",
    "        return results\n",
    "    \n",
    "    def __search_node(self, x, node):\n",
    "        \"\"\"\n",
    "        遍历决策树直到叶子节点确定分类的概率分布\n",
    "        :param x: 待预测对应类别的单个样本\n",
    "        \n",
    "        \"\"\"\n",
    "        if node.left_child_node is not None or node.right_child_node is not None:\n",
    "            if x[node.feature_index] >= node.feature_best_value:\n",
    "                return self.__search_node(x, node.right_child_node)\n",
    "            else:\n",
    "                return self.__search_node(x, node.left_child_node)\n",
    "            \n",
    "        else:# 到叶子节点拿出叶子节点中的概率分布（不同分类对应的权重）\n",
    "            result = {i: node.class_prob.get(i,0) for i in self.root_node.class_prob.keys()}\n",
    "            return result\n",
    "        \n",
    "            "
   ]
  },
  {
   "cell_type": "code",
   "execution_count": null,
   "id": "9e4fed77",
   "metadata": {},
   "outputs": [],
   "source": []
  },
  {
   "cell_type": "code",
   "execution_count": 30,
   "id": "f39ce906",
   "metadata": {
    "ExecuteTime": {
     "end_time": "2022-08-09T09:43:49.582033Z",
     "start_time": "2022-08-09T09:43:49.565769Z"
    }
   },
   "outputs": [
    {
     "data": {
      "text/plain": [
       "array([1.5, 2.5, 3. , 3. ])"
      ]
     },
     "execution_count": 30,
     "metadata": {},
     "output_type": "execute_result"
    }
   ],
   "source": [
    "# 取切分点\n",
    "a = np.array([1,2,3,3,3])\n",
    "(a[:-1] + a[1:])/2"
   ]
  },
  {
   "cell_type": "code",
   "execution_count": 31,
   "id": "cf3cef4d",
   "metadata": {
    "ExecuteTime": {
     "end_time": "2022-08-09T10:55:17.490163Z",
     "start_time": "2022-08-09T10:55:17.473722Z"
    }
   },
   "outputs": [
    {
     "data": {
      "text/plain": [
       "array([0.5])"
      ]
     },
     "execution_count": 31,
     "metadata": {},
     "output_type": "execute_result"
    }
   ],
   "source": [
    "a = np.array([0,1])\n",
    "(a[:-1] + a[1:])/2"
   ]
  },
  {
   "cell_type": "code",
   "execution_count": 14,
   "id": "82f45355",
   "metadata": {
    "ExecuteTime": {
     "end_time": "2022-08-10T02:10:09.233924Z",
     "start_time": "2022-08-10T02:10:09.201438Z"
    }
   },
   "outputs": [
    {
     "data": {
      "text/plain": [
       "{1: 0.2, 2: 0.2, 3: 0.5, 4: 0.1}"
      ]
     },
     "execution_count": 14,
     "metadata": {},
     "output_type": "execute_result"
    }
   ],
   "source": [
    "a = np.array([1,1,2,3,3,4])\n",
    "weight = np.array([0.1,0.1,0.2,0.4,0.1,0.1])\n",
    "class_probs = {k : np.sum(weight[a==k]) for k in np.unique(a)}\n",
    "class_probs"
   ]
  },
  {
   "cell_type": "code",
   "execution_count": 12,
   "id": "a0b484d7",
   "metadata": {
    "ExecuteTime": {
     "end_time": "2022-08-10T02:09:36.955567Z",
     "start_time": "2022-08-10T02:09:36.938267Z"
    }
   },
   "outputs": [
    {
     "data": {
      "text/plain": [
       "array([0.1, 0.1])"
      ]
     },
     "execution_count": 12,
     "metadata": {},
     "output_type": "execute_result"
    }
   ],
   "source": [
    "a = np.array([1,1,2,3,3,4])\n",
    "weight = np.array([0.1,0.1,0.2,0.4,0.1,0.1])\n",
    "weight[a==1]"
   ]
  },
  {
   "cell_type": "markdown",
   "id": "3d8fbb70",
   "metadata": {},
   "source": [
    "### cart分类树剪枝"
   ]
  },
  {
   "attachments": {
    "image.png": {
     "image/png": "[encoded data removed]"
    }
   },
   "cell_type": "markdown",
   "id": "c905d96c",
   "metadata": {},
   "source": [
    "#### 计算gini_index\n",
    "\n",
    "求给定样本集合的gini_index\n",
    "![image.png](attachment:image.png)"
   ]
  },
  {
   "cell_type": "code",
   "execution_count": 131,
   "id": "e57956cd",
   "metadata": {
    "ExecuteTime": {
     "end_time": "2022-08-10T13:25:45.677462Z",
     "start_time": "2022-08-10T13:25:45.664930Z"
    }
   },
   "outputs": [],
   "source": [
    "def gini(y):\n",
    "    \"\"\"\n",
    "    计算当前节点的gini_index\n",
    "    :param y:当前节点的样本中对应的分类\n",
    "    \n",
    "    \"\"\"\n",
    "    p_k = np.array([np.sum([y==k])/len(y) for k in np.unique(y)])\n",
    "    gini_index = np.sum([p * (1-p) for p in p_k])\n",
    "    return gini_index"
   ]
  },
  {
   "cell_type": "code",
   "execution_count": 37,
   "id": "285deddc",
   "metadata": {
    "ExecuteTime": {
     "end_time": "2022-08-10T03:41:30.420830Z",
     "start_time": "2022-08-10T03:41:30.395720Z"
    }
   },
   "outputs": [
    {
     "data": {
      "text/plain": [
       "0.5"
      ]
     },
     "execution_count": 37,
     "metadata": {},
     "output_type": "execute_result"
    }
   ],
   "source": [
    "a = np.array([1,2,2,1])\n",
    "p = np.array([np.sum([a==k])/len(a) for k in np.unique(a)])\n",
    "np.sum([p_i * (1 - p_i) for p_i in p])\n"
   ]
  },
  {
   "cell_type": "code",
   "execution_count": 39,
   "id": "2567e6bf",
   "metadata": {
    "ExecuteTime": {
     "end_time": "2022-08-10T03:41:33.076196Z",
     "start_time": "2022-08-10T03:41:33.059977Z"
    }
   },
   "outputs": [
    {
     "data": {
      "text/plain": [
       "0.5"
      ]
     },
     "execution_count": 39,
     "metadata": {},
     "output_type": "execute_result"
    }
   ],
   "source": [
    "gini(a)"
   ]
  },
  {
   "attachments": {
    "image.png": {
     "image/png": "[encoded data removed]"
    }
   },
   "cell_type": "markdown",
   "id": "3d638403",
   "metadata": {},
   "source": [
    "### 计算条件gini_index\n",
    "\n",
    "**要考虑权重**\n",
    "在给定特征A=a的条件下，样本集合D的基尼指数Gini(D,a)\n",
    "-- 表示经A=a分割后集合D的不确定性。gini_index越大，不确定性越大\n",
    "\n",
    "D_v代表通过特征A的不同取值将样本集合D切分成的不同子集\n",
    "![image.png](attachment:image.png)"
   ]
  },
  {
   "cell_type": "code",
   "execution_count": null,
   "id": "4c7fc04c",
   "metadata": {},
   "outputs": [],
   "source": [
    "def cond_gini(x_feature_i, y):\n",
    "    \"\"\"\n",
    "    计算条件gini_index:G(D,A_i)\n",
    "    计算的是以A_i=a为切分点时的二分gini，所以x_feature_i的取值只有0/1\n",
    "    :param x_feature_i:给定的样本集合中每个样本对应的特征i\n",
    "    :param y:待切分的样本集合\n",
    "    \n",
    "    \"\"\"\n",
    "    # 获取特征i所有可能的取值\n",
    "    feature_values = np.unique(x_feature_i)\n",
    "    # 计算基于所有可能的取值将样本进行二分的情况\n",
    "    for value in feature_values:\n",
    "        # 找出特征i取value时的样本索引\n",
    "        indices = np.where(feature_values==a)\n",
    "        # 基于样本索引找到对应的y\n",
    "        y_new = y[indices]\n",
    "        \n",
    "        \n",
    "    "
   ]
  },
  {
   "cell_type": "code",
   "execution_count": 87,
   "id": "33fd9375",
   "metadata": {
    "ExecuteTime": {
     "end_time": "2022-08-10T12:09:49.316710Z",
     "start_time": "2022-08-10T12:09:49.307337Z"
    }
   },
   "outputs": [
    {
     "data": {
      "text/plain": [
       "(array([0, 1, 2], dtype=int64),)"
      ]
     },
     "execution_count": 87,
     "metadata": {},
     "output_type": "execute_result"
    }
   ],
   "source": [
    "a = np.array([1,1,1,2,7,8,2])\n",
    "v = np.unique(a)\n",
    "np.where(a==1)"
   ]
  },
  {
   "cell_type": "code",
   "execution_count": 48,
   "id": "07050d38",
   "metadata": {
    "ExecuteTime": {
     "end_time": "2022-08-10T04:18:31.201032Z",
     "start_time": "2022-08-10T04:18:31.175552Z"
    }
   },
   "outputs": [],
   "source": [
    "x = np.array([[1,0,0,1],\n",
    "              [1,0,0,2],\n",
    "              [1,1,0,2],\n",
    "              [1,1,1,1],\n",
    "              [1,0,0,1],\n",
    "              [2,0,0,1],\n",
    "              [2,0,0,2],\n",
    "              [2,1,1,2],\n",
    "              [2,0,1,3],\n",
    "              [2,0,1,3],\n",
    "              [3,0,1,3],\n",
    "              [3,0,1,2],\n",
    "              [3,1,0,2],\n",
    "              [3,1,0,3],\n",
    "              [3,0,0,1]])\n",
    "y = np.array([0,0,1,1,0,0,0,1,1,1,1,1,1,1,0])"
   ]
  },
  {
   "cell_type": "markdown",
   "id": "4d1bce06",
   "metadata": {},
   "source": [
    "当前节点：\n",
    "1、寻找最佳特征\n",
    "2、寻找最佳特征的最佳分割点\n",
    "\n",
    "先找到所有特征的每个特征的最佳分割点作为每个特征的代表，再从中选出最佳代表即最佳特征"
   ]
  },
  {
   "cell_type": "code",
   "execution_count": 49,
   "id": "4f9e7a4f",
   "metadata": {
    "ExecuteTime": {
     "end_time": "2022-08-10T05:53:24.876613Z",
     "start_time": "2022-08-10T05:53:24.854378Z"
    }
   },
   "outputs": [
    {
     "ename": "SyntaxError",
     "evalue": "invalid syntax (2891019265.py, line 20)",
     "output_type": "error",
     "traceback": [
      "\u001b[1;36m  Input \u001b[1;32mIn [49]\u001b[1;36m\u001b[0m\n\u001b[1;33m    best_feature = i if cur_gini_gain >= max_gini_gain\u001b[0m\n\u001b[1;37m                                                      ^\u001b[0m\n\u001b[1;31mSyntaxError\u001b[0m\u001b[1;31m:\u001b[0m invalid syntax\n"
     ]
    }
   ],
   "source": [
    "def get_best_split(X,y):\n",
    "    \"\"\"\n",
    "    找当前节点node的最佳特征及其最佳切分点\n",
    "    :param X: 样本∈（m,n）\n",
    "    :param y: 标签∈（m,1）\n",
    "    :param node_indices 当前节点所包含的样本X对应的索引\n",
    "    :return best_feature, best_split:返回最佳特征及其对应的最佳切分点\n",
    "    \n",
    "    \"\"\"\n",
    "    best_feature = -1\n",
    "    best_split = None\n",
    "    max_gini_gain = 0\n",
    "    n_features = X.shape[1]\n",
    "    # 依次遍历X的所有特征，找到所有特征的最佳切分点作为其代表\n",
    "    for i in range(n_features):\n",
    "        # 样本X的第i列就对应第i个特征X[:,i]\n",
    "        # 用每个特征的最佳分割点计算的gini_gain作为每个特征的代表\n",
    "        cur_gini_gain, cur_split = compute_gini_gain(X,y,i)\n",
    "        # 选择gini_gian最大（gini_index最小）的作为最佳特征\n",
    "        best_feature,best_split = i,cur_split if cur_gini_gain >= max_gini_gain\n",
    "    return best_feature, best_split"
   ]
  },
  {
   "cell_type": "markdown",
   "id": "7ec1e2eb",
   "metadata": {},
   "source": [
    "对于当前节点集合（X，y）计算特征i的基尼增益:\n",
    "\n",
    "确定特征i的所有可能取值，根据特征i是连续型/离散型特征对这些可能取值进行处理从而得到特征i的所有候选分割点；\n",
    "\n",
    "尝试依次使用候选分割点对当前集合（X，y）进行二分分割，并计算对应的gini_gain\n",
    "找到具有最大的gini_gain的分割点作为特征i的最佳分割点，用最佳分割点的gini_index作为特征i的gini_gain\n",
    "\n",
    "由于二分分割时需要x来分成left和right，计算gini需要left_y和right_y,所有分割时直接返回indices表明分割的部分或者先将X,y合并再参与分割\n",
    "所以计算特征i的基尼增益需要用到的参数\n",
    "    \n",
    "    :param X: 样本∈（m,n）——在对集合进行二分分割时需要使用特征值\n",
    "    :param y: 标签∈（m,1）——计算gini_gain时需要\n",
    "    :param feature_i: 当前计算的第i个特征，X[:,i]即对应的特征值\n",
    "    :return 当前特征的最佳切分点及其对应的gini_gain\n",
    "    \n",
    "**离散型/连续型所取的候选分割点和分割时使用的方法均不同**"
   ]
  },
  {
   "cell_type": "code",
   "execution_count": null,
   "id": "5d8648b6",
   "metadata": {},
   "outputs": [],
   "source": [
    "# 对于当前节点集合（X，y）-node_indices计算特征i的基尼增益\n",
    "\"\"\"\n",
    ":param sample:当前集合的X和y\n",
    ":param feature_i: 当前计算的第i个特征，X[:,i]即对应的特征值\n",
    ":return 当前特征的最佳切分点及其对应的gini_gain\n",
    "\n",
    "\"\"\"\n",
    "\n",
    "# 1、确定特征i的所有可能取值\n",
    "feature_values = np.unique(sample[:, feature_i]).reshape(-1,1)# 已排序的\n",
    "best_gini_gain = None\n",
    "best_split_point = None\n",
    "# 根据特征i是连续型/离散型特征对这些可能取值进行处理从而得到特征i的所有候选分割点；    \n",
    "if np.issubdtype(feature_values.dtype, np.integer) or np.issubdtype(feature_values[0], np.floating):\n",
    "    # 特征是连续型特征则使用二分法找到所有的切分点\n",
    "    split_points = (feature_values[1:] + feature_values[:-1]) / 2\n",
    "    # 依次使用候选分割点对当前集合（X，y）进行二分分割\n",
    "    for point in split_points:\n",
    "        # 基于分割点会将当前集合（X，y）划分成左右分支，记录对应的索引方便之后取特征和y\n",
    "        left_sample = []\n",
    "        right_sample = []\n",
    "        for single_sample in sample:# 处理每个样本\n",
    "            if single_sample[feature_i] <= point:# 小于切分点的放在左边\n",
    "                left_sample.append(single_sample)\n",
    "            else:\n",
    "                right_sample.append(single_sample)  \n",
    "else:# 离散型特征直接使用特征的各个取值作为切分点\n",
    "    split_points = feature_values\n",
    "    # 依次使用候选分割点对当前集合（X，y）进行二分分割\n",
    "    for point in split_points:\n",
    "        left_sample = []\n",
    "        right_sample = []\n",
    "        for single_sample in sample:# 处理每个样本\n",
    "            # 基于分割点会将当前集合（X，y）划分成左右分支\n",
    "            if single_sample[feature_i] == point:\n",
    "                left_sample.append(single_sample)\n",
    "            else:\n",
    "                right_sample.append(single_sample)\n",
    "        # 分好左右分支后计算gini_gain\n",
    "        w_left = len(left_X) / len(X)\n",
    "        w_right = len(right_X) / len(X)\n",
    "        left_y = y[left_indices]\n",
    "        right_y = y[right_indices]\n",
    "        cur_gini_index = w_left * gini(left_y) + w_right * gini(right_y)\n",
    "        cur_gini_gain = gini(y) - cur_gini_index\n",
    "\n",
    "# 找到具有最大的gini_gain的分割点作为特征i的最佳分割点\n",
    "best_gini_gain, best_split_point = (cur_gini_gain,point )if cur_gini_gain >= best_gini_gain else best_gini_gain            \n",
    "    "
   ]
  },
  {
   "cell_type": "markdown",
   "id": "8571b19b",
   "metadata": {},
   "source": [
    "将上述代码模块化"
   ]
  },
  {
   "cell_type": "code",
   "execution_count": 156,
   "id": "227f8026",
   "metadata": {
    "ExecuteTime": {
     "end_time": "2022-08-10T13:50:31.438381Z",
     "start_time": "2022-08-10T13:50:31.421204Z"
    }
   },
   "outputs": [],
   "source": [
    "# 离散型/连续型所取的候选分割点和分割时使用的方法均不同\n",
    "# 故可以先定义二叉分割函数\n",
    "def feature_split(sample,feature_i, split_point):\n",
    "    \n",
    "    \"\"\"\n",
    "    给定分割点split_point,根据特征是离散型/连续型对当前集合X进行二分分割\n",
    "    :param sample: 当前待分割集合\n",
    "    :param feature_i : 当前考虑的特征的索引\n",
    "    :param split_point:给定的一个候选分割点\n",
    "\n",
    "    \"\"\"\n",
    "    ## 1、先定义二叉分割函数\n",
    "    # 根据特征是连续型/离散型特征选择对应的方法对每个样本x进行分割的方法\n",
    "    split_func = None\n",
    "    # 特征是连续型特征则使用二分法找到所有的切分点\n",
    "    if np.issubdtype(split_point.dtype, np.integer) or np.issubdtype(split_point.dtype, np.floating):\n",
    "        split_func = lambda x : x[feature_i] >= split_point\n",
    "    else:# 离散型特征直接使用特征的各个取值作为切分点\n",
    "        split_func = lambda x : x[feature_i] == split_point\n",
    "    \n",
    "    ## 对当前集合X进行二分分割\n",
    "    left_sample = np.array([single_sample for single_sample in sample if split_func(single_sample)])\n",
    "    right_sample = np.array([single_sample for single_sample in sample if not split_func(single_sample)])\n",
    "    return left_sample, right_sample"
   ]
  },
  {
   "cell_type": "code",
   "execution_count": 157,
   "id": "2ae1a7c2",
   "metadata": {
    "ExecuteTime": {
     "end_time": "2022-08-10T13:50:33.439833Z",
     "start_time": "2022-08-10T13:50:33.427701Z"
    }
   },
   "outputs": [],
   "source": [
    "def create_split_points(X, feature_i):\n",
    "    \n",
    "    \"\"\"\n",
    "    根据特征i是连续型/离散型特征得到特征i的所有候选分割点\n",
    "    :param X: 当前集合的样本\n",
    "    :param feature_i : 给定的特征索引\n",
    "    :return 特征i的所有候选分割点\n",
    "    \n",
    "    \"\"\"\n",
    "    \n",
    "    # 1、确定特征i的所有可能取值\n",
    "    feature_values = np.unique(X[:, feature_i]).reshape(-1,1)# 已排序的 \n",
    "    \n",
    "    # 2、根据特征i是连续型/离散型特征对这些可能取值进行处理从而得到特征i的所有候选分割点；    \n",
    "    split_points = None\n",
    "    # 特征是连续型特征则使用二分法找到所有的切分点\n",
    "    if np.issubdtype(feature_values.dtype, np.integer) or np.issubdtype(feature_values.dtype, np.floating):\n",
    "        split_points = (feature_values[1:] + feature_values[:-1]) / 2\n",
    "    else:# 离散型特征直接使用特征的各个取值作为切分点\n",
    "        split_points = feature_values\n",
    "        \n",
    "    return split_points"
   ]
  },
  {
   "cell_type": "code",
   "execution_count": 158,
   "id": "6450108b",
   "metadata": {
    "ExecuteTime": {
     "end_time": "2022-08-10T13:50:35.511275Z",
     "start_time": "2022-08-10T13:50:35.491131Z"
    }
   },
   "outputs": [
    {
     "data": {
      "text/plain": [
       "array([['中年'],\n",
       "       ['老年'],\n",
       "       ['青年']], dtype='<U3')"
      ]
     },
     "execution_count": 158,
     "metadata": {},
     "output_type": "execute_result"
    }
   ],
   "source": [
    "# 测试\n",
    "a = np.array([['青年','否','否','一般'],\n",
    "               ['青年','否','否','好'],\n",
    "               ['青年','是','否','好'],\n",
    "               ['青年','是','是','一般'],\n",
    "               ['青年','否','否','一般'],\n",
    "               ['中年','否','否','一般'],\n",
    "               ['中年','否','否','好'],\n",
    "               ['中年','是','是','好'],\n",
    "               ['中年','否','是','非常好'],\n",
    "               ['中年','否','是','非常好'],\n",
    "               ['老年','否','是','非常好'],\n",
    "               ['老年','否','是','好'],\n",
    "               ['老年','是','否','好'],\n",
    "               ['老年','是','否','非常好'],\n",
    "               ['老年','否','否','一般'],])\n",
    "create_split_points(a, 0)"
   ]
  },
  {
   "cell_type": "code",
   "execution_count": 125,
   "id": "d1ce887e",
   "metadata": {
    "ExecuteTime": {
     "end_time": "2022-08-10T13:20:18.725845Z",
     "start_time": "2022-08-10T13:20:18.714296Z"
    }
   },
   "outputs": [
    {
     "data": {
      "text/plain": [
       "array([[1],\n",
       "       [2],\n",
       "       [3]], dtype=object)"
      ]
     },
     "execution_count": 125,
     "metadata": {},
     "output_type": "execute_result"
    }
   ],
   "source": [
    "a = np.array([[1,0,0,1],\n",
    "              [1,0,0,2],\n",
    "              [1,1,0,2],\n",
    "              [1,1,1,1],\n",
    "              [1,0,0,1],\n",
    "              [2,0,0,1],\n",
    "              [2,0,0,2],\n",
    "              [2,1,1,2],\n",
    "              [2,0,1,3],\n",
    "              [2,0,1,3],\n",
    "              [3,0,1,3],\n",
    "              [3,0,1,2],\n",
    "              [3,1,0,2],\n",
    "              [3,1,0,3],\n",
    "              [3,0,0,1]], dtype=object)\n",
    "create_split_points(a, 0)"
   ]
  },
  {
   "cell_type": "code",
   "execution_count": 138,
   "id": "38a613f6",
   "metadata": {
    "ExecuteTime": {
     "end_time": "2022-08-10T13:32:42.771442Z",
     "start_time": "2022-08-10T13:32:42.759428Z"
    },
    "scrolled": true
   },
   "outputs": [
    {
     "data": {
      "text/plain": [
       "4"
      ]
     },
     "execution_count": 138,
     "metadata": {},
     "output_type": "execute_result"
    }
   ],
   "source": [
    "a = np.arange(24).reshape(4,6)\n",
    "create_split_points(a,0)"
   ]
  },
  {
   "cell_type": "code",
   "execution_count": 164,
   "id": "69eacd3a",
   "metadata": {
    "ExecuteTime": {
     "end_time": "2022-08-10T13:54:22.156872Z",
     "start_time": "2022-08-10T13:54:22.146664Z"
    }
   },
   "outputs": [],
   "source": [
    "def get_best_split_point(X,y,feature_i):\n",
    "    # 当前特征i的所有候选分割点\n",
    "    split_points = create_split_points(X, feature_i)\n",
    "    # 合并X，y方便之后分割——x可能由于离散数据导致合并后y的dtype改变,需要转换类型\n",
    "    # ——使用indices更好\n",
    "    sample = np.concatenate((X,y), axis=1)\n",
    "    # 初始化\n",
    "    best_gini = -1 # 存储本特征的最佳切分点对应的gini_gain\n",
    "    best_sets = None  # 存储最佳切分点切分的左右分支\n",
    "    # 依次使用候选分割点对当前集合（X，y）进行二分分割\n",
    "    for point in split_points:\n",
    "        # 使用每个候选分割点进行二分分割\n",
    "        left_sample, right_sample = feature_split(sample,feature_i,point)\n",
    "        # 分好左右分支后计算gini_gain\n",
    "        w_left,w_right = len(left_sample) / len(sample), len(right_sample)/len(sample)\n",
    "        left_y = left_sample[:,-1].astype(np.float32)\n",
    "        right_y = right_sample[:,-1].astype(np.float32)\n",
    "        cur_gini_gain = gini(y) - (w_left * gini(left_y) + w_right * gini(right_y))\n",
    "        # 选择最佳的split point\n",
    "        if cur_gini_gain >= best_gini:\n",
    "            best_gini_gain = cur_gini_gain\n",
    "            best_sets = {\n",
    "                \"left_X\": left_sample[:, :-1],\n",
    "                \"left_y\": left_y,\n",
    "                \"right_X\": right_sample[:, :-1],\n",
    "                \"right_y\": right_y\n",
    "            }\n",
    "    return best_gini_gain, best_sets\n"
   ]
  },
  {
   "cell_type": "code",
   "execution_count": null,
   "id": "12bf7618",
   "metadata": {},
   "outputs": [],
   "source": [
    "w_left,w_right = len(left_sample) / len(sample), len(right_sample)/len(sample)\n",
    "        cur_gini_gain = gini(y) - (w_left * gini(left_sample[-1]) + w_right * gini(right_sample[-1]))\n",
    "        # 选择最佳的split point\n",
    "        if cur_gini_gain >= best_gini_gain:\n",
    "            best_gini_gain = cur_gini_gain\n",
    "            best_sets = {\n",
    "                \"left_X\": left_sample[:, :-1],\n",
    "                \"left_y\": left_sample[:, -1],\n",
    "                \"right_X\": right_sample[:, :-1],\n",
    "                \"right_y\": right_sample[:, -1]\n",
    "            }"
   ]
  },
  {
   "cell_type": "code",
   "execution_count": 160,
   "id": "2ff4ef68",
   "metadata": {
    "ExecuteTime": {
     "end_time": "2022-08-10T13:50:42.556851Z",
     "start_time": "2022-08-10T13:50:42.539332Z"
    }
   },
   "outputs": [
    {
     "data": {
      "text/plain": [
       "(0.43999999999999995,\n",
       " {'left_X': array([['老年', '否', '是', '非常好'],\n",
       "         ['老年', '否', '是', '好'],\n",
       "         ['老年', '是', '否', '好'],\n",
       "         ['老年', '是', '否', '非常好'],\n",
       "         ['老年', '否', '否', '一般']], dtype='<U11'),\n",
       "  'left_y': array(['1', '1', '1', '1', '0'], dtype='<U11'),\n",
       "  'right_X': array([['青年', '否', '否', '一般'],\n",
       "         ['青年', '否', '否', '好'],\n",
       "         ['青年', '是', '否', '好'],\n",
       "         ['青年', '是', '是', '一般'],\n",
       "         ['青年', '否', '否', '一般'],\n",
       "         ['中年', '否', '否', '一般'],\n",
       "         ['中年', '否', '否', '好'],\n",
       "         ['中年', '是', '是', '好'],\n",
       "         ['中年', '否', '是', '非常好'],\n",
       "         ['中年', '否', '是', '非常好']], dtype='<U11'),\n",
       "  'right_y': array(['0', '0', '1', '1', '0', '0', '0', '1', '1', '1'], dtype='<U11')})"
      ]
     },
     "execution_count": 160,
     "metadata": {},
     "output_type": "execute_result"
    }
   ],
   "source": [
    "a = np.array([['青年','否','否','一般'],\n",
    "               ['青年','否','否','好'],\n",
    "               ['青年','是','否','好'],\n",
    "               ['青年','是','是','一般'],\n",
    "               ['青年','否','否','一般'],\n",
    "               ['中年','否','否','一般'],\n",
    "               ['中年','否','否','好'],\n",
    "               ['中年','是','是','好'],\n",
    "               ['中年','否','是','非常好'],\n",
    "               ['中年','否','是','非常好'],\n",
    "               ['老年','否','是','非常好'],\n",
    "               ['老年','否','是','好'],\n",
    "               ['老年','是','否','好'],\n",
    "               ['老年','是','否','非常好'],\n",
    "               ['老年','否','否','一般'],])\n",
    "b = np.array([0,0,1,1,0,0,0,1,1,1,1,1,1,1,0]).reshape(-1,1)\n",
    "get_best_split_point(a, b,0)"
   ]
  },
  {
   "cell_type": "code",
   "execution_count": 136,
   "id": "61a2d847",
   "metadata": {
    "ExecuteTime": {
     "end_time": "2022-08-10T13:29:36.455832Z",
     "start_time": "2022-08-10T13:29:36.440212Z"
    }
   },
   "outputs": [],
   "source": [
    "def gini(y):\n",
    "    \"\"\"\n",
    "    计算当前节点的gini_index\n",
    "    :param y:当前节点的样本中对应的分类\n",
    "    \n",
    "    \"\"\"\n",
    "    p_k = np.array([np.sum([y==k])/len(y) for k in np.unique(y)])\n",
    "    gini_index = np.sum([p * (1-p) for p in p_k])\n",
    "    return gini_index\n",
    "    "
   ]
  },
  {
   "cell_type": "code",
   "execution_count": 133,
   "id": "204347d5",
   "metadata": {
    "ExecuteTime": {
     "end_time": "2022-08-10T13:26:38.617069Z",
     "start_time": "2022-08-10T13:26:38.600965Z"
    }
   },
   "outputs": [
    {
     "data": {
      "text/plain": [
       "0.48"
      ]
     },
     "execution_count": 133,
     "metadata": {},
     "output_type": "execute_result"
    }
   ],
   "source": [
    "b = np.array([0,0,1,1,0,0,0,1,1,1,1,1,1,1,0]).reshape(-1,1)\n",
    "gini(b)"
   ]
  },
  {
   "cell_type": "code",
   "execution_count": 165,
   "id": "3e4a42f2",
   "metadata": {
    "ExecuteTime": {
     "end_time": "2022-08-10T13:54:36.692130Z",
     "start_time": "2022-08-10T13:54:36.667036Z"
    }
   },
   "outputs": [
    {
     "data": {
      "text/plain": [
       "(0.11636363636363634,\n",
       " {'left_X': array([[2, 0, 1, 3],\n",
       "         [2, 0, 1, 3],\n",
       "         [3, 0, 1, 3],\n",
       "         [3, 1, 0, 3]], dtype=object),\n",
       "  'left_y': array([1., 1., 1., 1.], dtype=float32),\n",
       "  'right_X': array([[1, 0, 0, 1],\n",
       "         [1, 0, 0, 2],\n",
       "         [1, 1, 0, 2],\n",
       "         [1, 1, 1, 1],\n",
       "         [1, 0, 0, 1],\n",
       "         [2, 0, 0, 1],\n",
       "         [2, 0, 0, 2],\n",
       "         [2, 1, 1, 2],\n",
       "         [3, 0, 1, 2],\n",
       "         [3, 1, 0, 2],\n",
       "         [3, 0, 0, 1]], dtype=object),\n",
       "  'right_y': array([0., 0., 1., 1., 0., 0., 0., 1., 1., 1., 0.], dtype=float32)})"
      ]
     },
     "execution_count": 165,
     "metadata": {},
     "output_type": "execute_result"
    }
   ],
   "source": [
    "# 测试\n",
    "a = np.array([[1,0,0,1],\n",
    "              [1,0,0,2],\n",
    "              [1,1,0,2],\n",
    "              [1,1,1,1],\n",
    "              [1,0,0,1],\n",
    "              [2,0,0,1],\n",
    "              [2,0,0,2],\n",
    "              [2,1,1,2],\n",
    "              [2,0,1,3],\n",
    "              [2,0,1,3],\n",
    "              [3,0,1,3],\n",
    "              [3,0,1,2],\n",
    "              [3,1,0,2],\n",
    "              [3,1,0,3],\n",
    "              [3,0,0,1]], dtype=object)\n",
    "b = np.array([0,0,1,1,0,0,0,1,1,1,1,1,1,1,0]).reshape(-1,1)\n",
    "get_best_split_point(a, b,3)"
   ]
  },
  {
   "cell_type": "code",
   "execution_count": 152,
   "id": "f4dd50ab",
   "metadata": {
    "ExecuteTime": {
     "end_time": "2022-08-10T13:42:01.209887Z",
     "start_time": "2022-08-10T13:42:01.197657Z"
    }
   },
   "outputs": [
    {
     "data": {
      "text/plain": [
       "array([0, 0, 1, 1, 0, 0, 0, 1, 1, 1, 1, 1, 1, 1, 0], dtype=object)"
      ]
     },
     "execution_count": 152,
     "metadata": {},
     "output_type": "execute_result"
    }
   ],
   "source": [
    "sample = np.concatenate((a,b), axis=1)\n",
    "sample[:,-1]"
   ]
  },
  {
   "cell_type": "markdown",
   "id": "d428bf1a",
   "metadata": {},
   "source": [
    "有了上述寻找最佳切分点的模块后，就可以针对求所有特征的gini_gain了"
   ]
  },
  {
   "cell_type": "code",
   "execution_count": null,
   "id": "a9dc7215",
   "metadata": {},
   "outputs": [],
   "source": [
    "def get_best_split():\n",
    "    \"\"\"\n",
    "    找到最佳特征：求所有特征的gini_gain\n",
    "    \n",
    "    \"\"\"\n",
    "    \n",
    "    # 获取样本数和特征数\n",
    "    n_samples, n_features = X.shape\n",
    "    # 依次求所有特征的gini_gain\n",
    "    for feature_i in range(n_features):\n",
    "        # 当前特征i的所有候选分割点\n",
    "        split_points = create_split_points(X, feature_i)\n",
    "        # 合并X，y方便之后分割\n",
    "        sample = np.concatenate((X,y), axis=1)\n",
    "        # 初始化\n",
    "        best_gini_gain = -1 # 存储本特征的最佳切分点对应的gini_gain\n",
    "        best_sets = None  # 存储最佳切分点切分的左右分支\n",
    "        \n",
    "        # 依次使用候选分割点对当前集合（X，y）进行二分分割\n",
    "        for point in split_points:\n",
    "            # 使用每个候选分割点进行二分分割\n",
    "            left_sample, right_sample = feature_split(sample,feature_i,point)\n",
    "            # 分好左右分支后计算gini_gain\n",
    "            w_left,w_right = len(left_sample) / len(sample), len(right_sample)/len(sample)\n",
    "            cur_gini_gain = gini(y) - (w_left * gini(left_sample[-1]) + w_right * gini(right_sample[-1]))\n",
    "            # 选择最佳的split point\n",
    "            best_gini_gain, best_sets = (cur_gini_gain, point) if cur_gini_gain>=best_gini_gain else (best_gini_gain, best_split_point)\n",
    "         "
   ]
  },
  {
   "cell_type": "code",
   "execution_count": null,
   "id": "ebb289bf",
   "metadata": {},
   "outputs": [],
   "source": [
    "def compute_gini_gain():\n",
    "    \"\"\"\n",
    "    计算二分后的gini_gain：分好左右分支后计算gini_gain\n",
    "    \n",
    "    \"\"\"\n",
    "    \n",
    "    "
   ]
  },
  {
   "cell_type": "code",
   "execution_count": null,
   "id": "307c8ff5",
   "metadata": {},
   "outputs": [],
   "source": []
  },
  {
   "cell_type": "markdown",
   "id": "c77aa06f",
   "metadata": {},
   "source": [
    "连续型特征的二分法"
   ]
  },
  {
   "cell_type": "code",
   "execution_count": 72,
   "id": "bc4f19da",
   "metadata": {
    "ExecuteTime": {
     "end_time": "2022-08-10T07:36:06.092982Z",
     "start_time": "2022-08-10T07:36:06.080807Z"
    }
   },
   "outputs": [
    {
     "data": {
      "text/plain": [
       "array([1, 2, 3, 4])"
      ]
     },
     "execution_count": 72,
     "metadata": {},
     "output_type": "execute_result"
    }
   ],
   "source": [
    "# np.unique用于找出数组中的唯一值并返回已排序的结果\n",
    "ints = np.array([3, 3, 3, 2, 2, 1, 1, 4, 4])\n",
    "b = np.unique(ints)# 已排序\n",
    "b"
   ]
  },
  {
   "cell_type": "code",
   "execution_count": 74,
   "id": "6748f3ec",
   "metadata": {
    "ExecuteTime": {
     "end_time": "2022-08-10T07:36:48.329397Z",
     "start_time": "2022-08-10T07:36:48.320280Z"
    }
   },
   "outputs": [
    {
     "data": {
      "text/plain": [
       "array([1.5, 2.5, 3.5])"
      ]
     },
     "execution_count": 74,
     "metadata": {},
     "output_type": "execute_result"
    }
   ],
   "source": [
    "# 求各种取值的中点\n",
    "midpoints = (b[:-1] + b[1:]) / 2\n",
    "midpoints"
   ]
  },
  {
   "cell_type": "code",
   "execution_count": 62,
   "id": "fb469157",
   "metadata": {
    "ExecuteTime": {
     "end_time": "2022-08-10T06:57:04.233738Z",
     "start_time": "2022-08-10T06:57:04.217735Z"
    }
   },
   "outputs": [
    {
     "data": {
      "text/plain": [
       "True"
      ]
     },
     "execution_count": 62,
     "metadata": {},
     "output_type": "execute_result"
    }
   ],
   "source": [
    "a = np.array([1,0])\n",
    "np.issubdtype(a[1].dtype, np.integer)"
   ]
  },
  {
   "cell_type": "code",
   "execution_count": 79,
   "id": "cc2a6f48",
   "metadata": {
    "ExecuteTime": {
     "end_time": "2022-08-10T09:35:35.238816Z",
     "start_time": "2022-08-10T09:35:35.225518Z"
    }
   },
   "outputs": [
    {
     "data": {
      "text/plain": [
       "True"
      ]
     },
     "execution_count": 79,
     "metadata": {},
     "output_type": "execute_result"
    }
   ],
   "source": [
    "unique_feature_value = np.array([\"青年\",\"中年\",\"老年\"])\n",
    "threshold = \"青年\"\n",
    "a = np.array([['青年','否','否','一般'],\n",
    "               ['青年','否','否','好'],\n",
    "               ['青年','是','否','好'],\n",
    "               ['青年','是','是','一般'],\n",
    "               ['青年','否','否','一般'],\n",
    "               ['中年','否','否','一般'],\n",
    "               ['中年','否','否','好'],\n",
    "               ['中年','是','是','好'],\n",
    "               ['中年','否','是','非常好'],\n",
    "               ['中年','否','是','非常好'],\n",
    "               ['老年','否','是','非常好'],\n",
    "               ['老年','否','是','好'],\n",
    "               ['老年','是','否','好'],\n",
    "               ['老年','是','否','非常好'],\n",
    "               ['老年','否','否','一般'],])\n",
    "a[1,0] == threshold"
   ]
  },
  {
   "cell_type": "code",
   "execution_count": 84,
   "id": "7ebf1ef1",
   "metadata": {
    "ExecuteTime": {
     "end_time": "2022-08-10T09:36:19.153951Z",
     "start_time": "2022-08-10T09:36:19.137315Z"
    }
   },
   "outputs": [
    {
     "name": "stdout",
     "output_type": "stream",
     "text": [
      "青年\n",
      "青年\n",
      "青年\n",
      "青年\n",
      "青年\n",
      "中年\n",
      "中年\n",
      "中年\n",
      "中年\n",
      "中年\n",
      "老年\n",
      "老年\n",
      "老年\n",
      "老年\n",
      "老年\n"
     ]
    }
   ],
   "source": [
    "for x in a:\n",
    "    print(x[0])"
   ]
  },
  {
   "cell_type": "markdown",
   "id": "c2f25049",
   "metadata": {},
   "source": [
    "判断连续/离散型特征"
   ]
  },
  {
   "cell_type": "code",
   "execution_count": 89,
   "id": "97d48827",
   "metadata": {
    "ExecuteTime": {
     "end_time": "2022-08-10T12:10:05.863586Z",
     "start_time": "2022-08-10T12:10:05.851657Z"
    }
   },
   "outputs": [
    {
     "data": {
      "text/plain": [
       "False"
      ]
     },
     "execution_count": 89,
     "metadata": {},
     "output_type": "execute_result"
    }
   ],
   "source": [
    "a = np.array([1,1,1,2,7,8,2])\n",
    "np.issubdtype(a.dtype, np.floating)"
   ]
  }
 ],
 "metadata": {
  "kernelspec": {
   "display_name": "Python 3 (ipykernel)",
   "language": "python",
   "name": "python3"
  },
  "language_info": {
   "codemirror_mode": {
    "name": "ipython",
    "version": 3
   },
   "file_extension": ".py",
   "mimetype": "text/x-python",
   "name": "python",
   "nbconvert_exporter": "python",
   "pygments_lexer": "ipython3",
   "version": "3.9.7"
  },
  "toc": {
   "base_numbering": 1,
   "nav_menu": {},
   "number_sections": true,
   "sideBar": true,
   "skip_h1_title": false,
   "title_cell": "Table of Contents",
   "title_sidebar": "Contents",
   "toc_cell": false,
   "toc_position": {},
   "toc_section_display": true,
   "toc_window_display": false
  },
  "varInspector": {
   "cols": {
    "lenName": 16,
    "lenType": 16,
    "lenVar": 40
   },
   "kernels_config": {
    "python": {
     "delete_cmd_postfix": "",
     "delete_cmd_prefix": "del ",
     "library": "var_list.py",
     "varRefreshCmd": "print(var_dic_list())"
    },
    "r": {
     "delete_cmd_postfix": ") ",
     "delete_cmd_prefix": "rm(",
     "library": "var_list.r",
     "varRefreshCmd": "cat(var_dic_list()) "
    }
   },
   "types_to_exclude": [
    "module",
    "function",
    "builtin_function_or_method",
    "instance",
    "_Feature"
   ],
   "window_display": false
  }
 },
 "nbformat": 4,
 "nbformat_minor": 5
}
